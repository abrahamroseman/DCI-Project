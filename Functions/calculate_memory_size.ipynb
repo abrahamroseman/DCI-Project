{
 "cells": [
  {
   "cell_type": "code",
   "execution_count": 1,
   "id": "10f95f41-813f-486e-b111-d23aa5616c11",
   "metadata": {},
   "outputs": [
    {
     "name": "stdout",
     "output_type": "stream",
     "text": [
      "243.18695068359375 GB\n"
     ]
    }
   ],
   "source": [
    "dV=500*200*34*600*4*4\n",
    "\n",
    "data_type='float32'\n",
    "data_type='float64'\n",
    "\n",
    "def calculate_memory_size(dV, data_type):\n",
    "    # Define the size of each data type in bytes\n",
    "    data_sizes = {\n",
    "        'int32': 4,    # int32 = 4 bytes\n",
    "        'int64': 8,    # int64 = 8 bytes\n",
    "        'float32': 4,  # float32 = 4 bytes\n",
    "        'float64': 8,  # float64 = 8 bytes\n",
    "        'bool': 1,     # bool = 1 byte (binary 0 or 1)\n",
    "    }\n",
    "    \n",
    "    # Check if the provided data type is valid\n",
    "    if data_type not in data_sizes:\n",
    "        raise ValueError(\"Invalid data type. Choose from 'int32', 'int64', 'float32', 'float64', 'bool', 'int'.\")\n",
    "    \n",
    "    # Get the size of the chosen data type\n",
    "    element_size = data_sizes[data_type]\n",
    "    \n",
    "    # Calculate the total size in bytes\n",
    "    total_size_bytes = dV * element_size\n",
    "    \n",
    "    # Convert bytes to gigabytes (1 GB = 1,073,741,824 bytes)\n",
    "    bytes_per_gb = 1073741824\n",
    "    total_size_gb = total_size_bytes / bytes_per_gb\n",
    "\n",
    "    print(f\"{total_size_gb} GB\")\n",
    "\n",
    "calculate_memory_size(dV,data_type)"
   ]
  }
 ],
 "metadata": {
  "kernelspec": {
   "display_name": "Python 3 (ipykernel)",
   "language": "python",
   "name": "python3"
  },
  "language_info": {
   "codemirror_mode": {
    "name": "ipython",
    "version": 3
   },
   "file_extension": ".py",
   "mimetype": "text/x-python",
   "name": "python",
   "nbconvert_exporter": "python",
   "pygments_lexer": "ipython3",
   "version": "3.11.8"
  }
 },
 "nbformat": 4,
 "nbformat_minor": 5
}

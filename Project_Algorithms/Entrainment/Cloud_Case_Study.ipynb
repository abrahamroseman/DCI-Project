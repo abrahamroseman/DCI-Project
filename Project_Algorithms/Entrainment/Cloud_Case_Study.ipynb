{
 "cells": [
  {
   "cell_type": "code",
   "execution_count": null,
   "id": "d203d339-a61e-4656-aa36-1dc91496d6c7",
   "metadata": {},
   "outputs": [],
   "source": [
    "#Loading in Packages and Data\n",
    "\n",
    "#Importing Packages\n",
    "import numpy as np\n",
    "import matplotlib.pyplot as plt\n",
    "import matplotlib.colors as mcolors\n",
    "import matplotlib.ticker as ticker\n",
    "import matplotlib.cm as cm\n",
    "from matplotlib.colors import Normalize\n",
    "from matplotlib.ticker import MaxNLocator\n",
    "from matplotlib.ticker import ScalarFormatter\n",
    "import matplotlib.gridspec as gridspec\n",
    "import xarray as xr\n",
    "import os; import time\n",
    "import pickle\n",
    "import h5py\n",
    "###############################################################\n",
    "def coefs(coefficients,degree):\n",
    "    coef=coefficients\n",
    "    coefs=\"\"\n",
    "    for n in range(degree, -1, -1):\n",
    "        string=f\"({coefficients[len(coef)-(n+1)]:.1e})\"\n",
    "        coefs+=string + f\"x^{n}\"\n",
    "        if n != 0:\n",
    "            coefs+=\" + \"\n",
    "    return coefs\n",
    "###############################################################\n",
    "\n",
    "#Importing Model Data\n",
    "check=False\n",
    "dir='/mnt/lustre/koa/koastore/torri_group/air_directory/DCI-Project/'\n",
    "\n",
    "# dx = 1 km; Np = 1M; Nt = 5 min\n",
    "data=xr.open_dataset(dir+'../cm1r20.3/run/cm1out_1km_1e6.nc', decode_timedelta=True) #***\n",
    "parcel=xr.open_dataset(dir+'../cm1r20.3/run/cm1out_pdata_1km_1e6.nc', decode_timedelta=True) #***\n",
    "res='1km'\n",
    "Np_str='1e6'\n",
    "\n",
    "# # dx = 1 km; Np = 1M; Nt = 1 min\n",
    "# data=xr.open_dataset(dir+'../cm1r20.3/run/cm1out_1km_1e6_1min.nc', decode_timedelta=True) #***\n",
    "# parcel=xr.open_dataset(dir+'../cm1r20.3/run/cm1out_pdata_1km_1e6_1min.nc', decode_timedelta=True) #***\n",
    "# res='1km'\n",
    "# Np_str='1e6'\n",
    "\n",
    "\n",
    "# dx = 250 m\n",
    "# #Importing Model Data\n",
    "# check=False\n",
    "# dir2='/home/air673/koa_scratch/'\n",
    "# data=xr.open_dataset(dir2+'cm1out_250m.nc', decode_timedelta=True) #***\n",
    "# parcel=xr.open_dataset(dir2+'cm1out_pdata_250m.nc', decode_timedelta=True) #***"
   ]
  },
  {
   "cell_type": "code",
   "execution_count": null,
   "id": "af3aff8b-5b9b-4dc2-b8fd-fa4f5e31fa1d",
   "metadata": {},
   "outputs": [],
   "source": []
  },
  {
   "cell_type": "code",
   "execution_count": null,
   "id": "cbf826d6-cba9-49dd-9291-5fa8b483d034",
   "metadata": {},
   "outputs": [],
   "source": [
    "import sys\n",
    "dir2='/mnt/lustre/koa/koastore/torri_group/air_directory/DCI-Project/'\n",
    "path=dir2+'../Functions/'\n",
    "sys.path.append(path)\n",
    "\n",
    "import NumericalFunctions\n",
    "from NumericalFunctions import * # import NumericalFunctions \n",
    "import PlottingFunctions\n",
    "from PlottingFunctions import * # import PlottingFunctions\n",
    "\n",
    "\n",
    "# # Get all functions in NumericalFunctions\n",
    "# import inspect\n",
    "# functions = [f[0] for f in inspect.getmembers(NumericalFunctions, inspect.isfunction)]\n",
    "# functions"
   ]
  },
  {
   "cell_type": "code",
   "execution_count": null,
   "id": "9e315bc8-8bc1-4815-8539-9d0bfab9d5eb",
   "metadata": {},
   "outputs": [],
   "source": [
    "def get_time(data,t,init):\n",
    "    (init_day,init_hour,init_min)=init[0],init[1],init[2]\n",
    "    times=data['time'].values/(1e9 * 60); time_inc=times.astype(int)[1]-times.astype(int)[0]\n",
    "    current_min=init_hour*60+init_min+time_inc*t;\n",
    "    \n",
    "    days = init_day + (current_min // (24 * 60))\n",
    "    \n",
    "    remain_min = (init_min+time_inc*t) % (24 * 60); \n",
    "    hours = (init_hour + (remain_min // 60)) % 24\n",
    "    mins = remain_min % 60\n",
    "\n",
    "    ##############################################\n",
    "    days=str(days);hours=str(hours);mins=str(mins)\n",
    "    if len(days)==1:days='0'+days\n",
    "    if len(hours)==1:hours='0'+hours\n",
    "    if len(mins)==1:mins='0'+mins\n",
    "    ##############################################\n",
    "\n",
    "    combo=days+\":\"+hours+\":\"+mins\n",
    "    return(days,hours,mins),(combo)"
   ]
  },
  {
   "cell_type": "code",
   "execution_count": null,
   "id": "5c3e6e92-71da-40fd-b744-412f484b9ae8",
   "metadata": {},
   "outputs": [],
   "source": [
    "################################################################################################"
   ]
  },
  {
   "cell_type": "code",
   "execution_count": null,
   "id": "52ad924a-4beb-4491-850c-986aba90cbee",
   "metadata": {},
   "outputs": [],
   "source": [
    "def get_data(varname,t_slice,x_slice):\n",
    "    out = data[varname].isel(time=t_slice,xh=x_slice).data\n",
    "    return out"
   ]
  },
  {
   "cell_type": "code",
   "execution_count": null,
   "id": "0553fb84-faf7-4b18-ba7d-2be7d8879e2f",
   "metadata": {},
   "outputs": [],
   "source": [
    "t1=72\n",
    "t2=102\n",
    "t_slice=slice(t1,t2+1)\n",
    "x_slice=slice(150,250)\n",
    "\n"
   ]
  },
  {
   "cell_type": "code",
   "execution_count": null,
   "id": "8bdf60a8-e6e9-46d9-9066-7c8880191c8c",
   "metadata": {},
   "outputs": [],
   "source": [
    "#ESTIMATING NP\n",
    "Lx=100e3\n",
    "Ly=200e3\n",
    "# dm=2e6\n",
    "dm=5e5\n",
    "\n",
    "out=((Lx*Ly)*1e4)/dm\n",
    "print(f\"{out:.0e}\")"
   ]
  },
  {
   "cell_type": "code",
   "execution_count": null,
   "id": "e0538953-b611-4951-9369-f747a68a1a81",
   "metadata": {},
   "outputs": [],
   "source": [
    "varname='qc'\n",
    "var=get_data(varname,t_slice,x_slice)\n",
    "varname='qi'\n",
    "var+=get_data(varname,t_slice,x_slice)"
   ]
  },
  {
   "cell_type": "code",
   "execution_count": null,
   "id": "cba28bab-c3da-46e7-878f-5b8d3b357304",
   "metadata": {},
   "outputs": [],
   "source": [
    "#Horizontal \n",
    "t=15; timestamp=get_time(data,t1+t,(0,6,0))[1]\n",
    "z=10;print(f\"{data['zh'][z].item():.2f} km\")\n",
    "\n",
    "var_z=var[t,z]\n",
    "plt.contourf(var_z)\n",
    "plt.title(f\"qcqi at t = {timestamp}\")\n",
    "plt.ylabel('y (km)'); plt.xlabel('x (km)') #not full domain"
   ]
  },
  {
   "cell_type": "code",
   "execution_count": null,
   "id": "a8acff82-c9b7-491f-b3a5-98bd001fa08e",
   "metadata": {},
   "outputs": [],
   "source": [
    "#Vertical\n",
    "t=15; timestamp=get_time(data,t1+t,(0,6,0))[1]\n",
    "x=7\n",
    "\n",
    "var_x=var[t,:,:,x]\n",
    "plt.contourf(var_x)\n",
    "plt.title(f\"qcqi at t = {timestamp}\")\n",
    "plt.ylabel('z (km)'); plt.xlabel('y (km)') #not full domain\n",
    "\n",
    "ax = plt.gca()\n",
    "fix_tick_labels([ax],data,'z','y',10,2,'center',2,False)"
   ]
  },
  {
   "cell_type": "code",
   "execution_count": null,
   "id": "e5b921f6-c140-4337-b24c-f6c26ab73efa",
   "metadata": {},
   "outputs": [],
   "source": [
    "#Vertical\n",
    "t=15; timestamp=get_time(data,t1+t,(0,6,0))[1]\n",
    "y=62\n",
    "\n",
    "var_y=var[t,:,y]\n",
    "plt.contourf(var_y)\n",
    "plt.title(f\"qcqi at t = {timestamp}\")\n",
    "plt.ylabel('z (km)'); plt.xlabel('x(km)') #not full domain\n",
    "\n",
    "ax = plt.gca()\n",
    "fix_tick_labels([ax],data,'z','y',10,2,'center',2,False)"
   ]
  }
 ],
 "metadata": {
  "kernelspec": {
   "display_name": "Python 3 (ipykernel)",
   "language": "python",
   "name": "python3"
  },
  "language_info": {
   "codemirror_mode": {
    "name": "ipython",
    "version": 3
   },
   "file_extension": ".py",
   "mimetype": "text/x-python",
   "name": "python",
   "nbconvert_exporter": "python",
   "pygments_lexer": "ipython3",
   "version": "3.11.8"
  }
 },
 "nbformat": 4,
 "nbformat_minor": 5
}

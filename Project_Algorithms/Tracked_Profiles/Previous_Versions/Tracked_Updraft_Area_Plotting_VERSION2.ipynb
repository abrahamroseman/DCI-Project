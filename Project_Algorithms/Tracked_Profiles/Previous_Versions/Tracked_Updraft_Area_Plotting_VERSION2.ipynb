{
 "cells": [
  {
   "cell_type": "code",
   "execution_count": null,
   "id": "48931aee-7865-4438-b30a-6b757a05e2d1",
   "metadata": {},
   "outputs": [],
   "source": [
    "#Loading in Packages and Data\n",
    "\n",
    "#Importing Packages\n",
    "import numpy as np\n",
    "import matplotlib.pyplot as plt\n",
    "import matplotlib.colors as mcolors\n",
    "import matplotlib.ticker as ticker\n",
    "import matplotlib.cm as cm\n",
    "from matplotlib.colors import Normalize\n",
    "from matplotlib.ticker import MaxNLocator\n",
    "from matplotlib.ticker import ScalarFormatter\n",
    "import matplotlib.gridspec as gridspec\n",
    "import xarray as xr\n",
    "import os; import time\n",
    "import pickle\n",
    "import h5py\n",
    "###############################################################\n",
    "def coefs(coefficients,degree):\n",
    "    coef=coefficients\n",
    "    coefs=\"\"\n",
    "    for n in range(degree, -1, -1):\n",
    "        string=f\"({coefficients[len(coef)-(n+1)]:.1e})\"\n",
    "        coefs+=string + f\"x^{n}\"\n",
    "        if n != 0:\n",
    "            coefs+=\" + \"\n",
    "    return coefs\n",
    "###############################################################\n",
    "\n",
    "# Importing Model Data\n",
    "check=False\n",
    "dir='/mnt/lustre/koa/koastore/torri_group/air_directory/DCI-Project/'\n",
    "\n",
    "# dx = 1 km; Np = 1M; Nt = 5 min\n",
    "data1=xr.open_dataset(dir+'../cm1r20.3/run/cm1out_1km_5min.nc', decode_timedelta=True) #***\n",
    "parcel1=xr.open_dataset(dir+'../cm1r20.3/run/cm1out_pdata_1km_5min_1e6.nc', decode_timedelta=True) #***\n",
    "res='1km';t_res='5min'\n",
    "Np_str='1e6'\n",
    "\n",
    "# # dx = 1km; Np = 50M; Nz = 95\n",
    "# #Importing Model Data\n",
    "# dir2='/home/air673/koa_scratch/'\n",
    "# data1=xr.open_dataset(dir2+'cm1out_1km_1min_95nz.nc', decode_timedelta=True) #***\n",
    "# parcel1=xr.open_dataset(dir2+'cm1out_pdata_1km_1min_95nz.nc', decode_timedelta=True) #***\n",
    "# res='1km'; t_res='1min_95nz'; Np_str='50e6'\n",
    "\n",
    "# # dx = 250m; Np = 50M\n",
    "# #Importing Model Data\n",
    "# dir2='/home/air673/koa_scratch/'\n",
    "# data1=xr.open_dataset(dir2+'cm1out_250m_1min_50M.nc', decode_timedelta=True) #***\n",
    "# parcel1=xr.open_dataset(dir2+'cm1out_pdata_250m_1min_50M.nc', decode_timedelta=True) #***\n",
    "# res='250m'; t_res='1min'; Np_str='50e6'"
   ]
  },
  {
   "cell_type": "code",
   "execution_count": null,
   "id": "b6d7bb20-ab7d-47df-840e-e29a6b2fe1b5",
   "metadata": {},
   "outputs": [],
   "source": [
    "import sys\n",
    "dir2='/mnt/lustre/koa/koastore/torri_group/air_directory/DCI-Project/'\n",
    "path=dir2+'../Functions/'\n",
    "sys.path.append(path)\n",
    "\n",
    "import NumericalFunctions\n",
    "from NumericalFunctions import * # import NumericalFunctions \n",
    "import PlottingFunctions\n",
    "from PlottingFunctions import * # import PlottingFunctions\n",
    "\n",
    "# # Get all functions in NumericalFunctions\n",
    "# import inspect\n",
    "# functions = [f[0] for f in inspect.getmembers(NumericalFunctions, inspect.isfunction)]\n",
    "# functions\n",
    "\n",
    "#####\n",
    "\n",
    "#Import StatisticalFunctions \n",
    "import sys\n",
    "dir2='/mnt/lustre/koa/koastore/torri_group/air_directory/DCI-Project/'\n",
    "path=dir2+'../Functions/'\n",
    "sys.path.append(path)\n",
    "\n",
    "import StatisticalFunctions\n",
    "from StatisticalFunctions import * # import NumericalFunctions "
   ]
  },
  {
   "cell_type": "code",
   "execution_count": null,
   "id": "14465279-2f07-4851-95d3-dfd0a49cc830",
   "metadata": {},
   "outputs": [],
   "source": [
    "#################################\n",
    "#LOADING DATA"
   ]
  },
  {
   "cell_type": "code",
   "execution_count": null,
   "id": "8af01a8b-babd-4b53-a30d-a50be677b4ee",
   "metadata": {},
   "outputs": [],
   "source": [
    "#NEEDED TO PLOT THE CORRECT DATA\n",
    "data_type=\"Tracked_Area\""
   ]
  },
  {
   "cell_type": "code",
   "execution_count": null,
   "id": "cfd74104-7210-499a-bdc7-5f9c9959e2ce",
   "metadata": {},
   "outputs": [],
   "source": [
    "type1='CL';type2='nonCL'\n",
    "dir3=dir+'Project_Algorithms/Tracked_Profiles/OUTPUT_FILES/'\n",
    "filePath=dir3+f\"{data_type}_\"+f\"{type1}_{type2}_tracked_profiles_{res}_{t_res}_{Np_str}.h5\"\n",
    "key_list=[]\n",
    "with h5py.File(filePath, 'r') as h5f:\n",
    "    for key in h5f.keys():\n",
    "        globals()[key] = h5f[key][:]\n",
    "        if '_squares' not in key:\n",
    "            key_list.append(key)\n",
    "        # print(key)\n",
    "\n",
    "#CALCULATING STANDARD DEVIATION\n",
    "for key in key_list:\n",
    "    globals()[key+f\"_SE\"]=ProfileStandardError(globals()[key],globals()[key+f\"_squares\"])\n",
    "    # globals()[key+f\"_SE\"]=ProfileStandardDeviation(globals()[key],globals()[key+f\"_squares\"])\n",
    "    # print(key)"
   ]
  },
  {
   "cell_type": "code",
   "execution_count": null,
   "id": "30481e60-6f60-419a-b1ca-46db18a90fed",
   "metadata": {},
   "outputs": [],
   "source": [
    "#if SE data not available, makes zeroed_out dummy variables in their_place\n",
    "for key in key_list:\n",
    "    dummy=ProfileMean(globals()[key])\n",
    "    dummy[:,0]=np.zeros_like(dummy[:,0])\n",
    "    dummy=dummy[dummy[:,1]>1]\n",
    "    globals()[key+f\"_SE\"]=dummy"
   ]
  },
  {
   "cell_type": "code",
   "execution_count": null,
   "id": "03134dd5-67f4-49d0-b76a-2ccc489b2351",
   "metadata": {},
   "outputs": [],
   "source": [
    "type1='SBZ';type2='nonSBZ'\n",
    "dir3=dir+'Project_Algorithms/Tracked_Profiles/OUTPUT_FILES/'\n",
    "filePath=dir3+f\"{data_type}_\"+f\"{type1}_{type2}_tracked_profiles_{res}_{t_res}_{Np_str}.h5\"\n",
    "key_list=[]\n",
    "with h5py.File(filePath, 'r') as h5f:\n",
    "    for key in h5f.keys():\n",
    "        globals()[key] = h5f[key][:]\n",
    "        if '_squares' not in key:\n",
    "            key_list.append(key)\n",
    "\n",
    "#CALCULATING STANDARD DEVIATION\n",
    "for key in key_list:\n",
    "    globals()[key+f\"_SE\"]=ProfileStandardError(globals()[key],globals()[key+f\"_squares\"])\n",
    "    # globals()[key+f\"_SE\"]=ProfileStandardDeviation(globals()[key],globals()[key+f\"_squares\"])\n",
    "    # print(key)"
   ]
  },
  {
   "cell_type": "code",
   "execution_count": null,
   "id": "dfb30e89-4972-4b5b-aefa-ac2df7617a6f",
   "metadata": {},
   "outputs": [],
   "source": [
    "#if SE data not available, makes zeroed_out dummy variables in their_place\n",
    "for key in key_list:\n",
    "    dummy=ProfileMean(globals()[key])\n",
    "    dummy[:,0]=np.zeros_like(dummy[:,0])\n",
    "    globals()[key+f\"_SE\"]=dummy"
   ]
  },
  {
   "cell_type": "code",
   "execution_count": null,
   "id": "69cfb7d0-f991-4db6-9781-126697623d00",
   "metadata": {},
   "outputs": [],
   "source": [
    "type1='ColdPool'\n",
    "dir3=dir+'Project_Algorithms/Tracked_Profiles/OUTPUT_FILES/'\n",
    "filePath=dir3+f\"{data_type}_\"+f\"{type1}_tracked_profiles_{res}_{t_res}_{Np_str}.h5\"\n",
    "key_list=[]\n",
    "with h5py.File(filePath, 'r') as h5f:\n",
    "    for key in h5f.keys():\n",
    "        globals()[key] = h5f[key][:]\n",
    "        if '_squares' not in key:\n",
    "            key_list.append(key)\n",
    "\n",
    "#CALCULATING STANDARD DEVIATION\n",
    "for key in key_list:\n",
    "    globals()[key+f\"_SE\"]=ProfileStandardError(globals()[key],globals()[key+f\"_squares\"])\n",
    "    # globals()[key+f\"_SE\"]=ProfileStandardDeviation(globals()[key],globals()[key+f\"_squares\"])\n",
    "    # print(key)"
   ]
  },
  {
   "cell_type": "code",
   "execution_count": null,
   "id": "f70db6b7-2b6d-4c09-8217-865e74f3ae54",
   "metadata": {},
   "outputs": [],
   "source": [
    "#if SE data not available, makes zeroed_out dummy variables in their_place\n",
    "for key in key_list:\n",
    "    dummy=ProfileMean(globals()[key])\n",
    "    dummy[:,0]=np.zeros_like(dummy[:,0])\n",
    "    globals()[key+f\"_SE\"]=dummy"
   ]
  },
  {
   "cell_type": "code",
   "execution_count": null,
   "id": "e75e7685-38c4-4a28-9d31-14839df2543e",
   "metadata": {},
   "outputs": [],
   "source": [
    "############################\n",
    "#PLOTTING"
   ]
  },
  {
   "cell_type": "code",
   "execution_count": null,
   "id": "a7be1490-5fdc-429f-82d6-687154c1faec",
   "metadata": {},
   "outputs": [],
   "source": [
    "#LIMITING Y AXIS\n",
    "limit_y=True\n",
    "# limit_y=False"
   ]
  },
  {
   "cell_type": "code",
   "execution_count": null,
   "id": "2211d2e2-e461-47ab-9560-49501da9ce12",
   "metadata": {},
   "outputs": [],
   "source": [
    "def limit_axes_to_y(ax, y_min=0, y_max=7, buffer_frac=0.1):\n",
    "    ax.set_ylim(y_min, y_max)\n",
    "\n",
    "    x_limited = []\n",
    "    for line in ax.get_lines():\n",
    "        xdata, ydata = np.array(line.get_xdata()), np.array(line.get_ydata())\n",
    "        # Mask for y within limits\n",
    "        y_mask = (ydata >= y_min) & (ydata <= y_max)\n",
    "        # Apply mask\n",
    "        x_visible = xdata[y_mask]\n",
    "        # Remove NaN or Inf from x_visible\n",
    "        x_visible = x_visible[np.isfinite(x_visible)]\n",
    "        x_limited.extend(x_visible)\n",
    "    if len(x_limited) > 0:\n",
    "        x_limited = np.array(x_limited)\n",
    "        x_min, x_max = np.min(x_limited), np.max(x_limited)\n",
    "\n",
    "        if not (np.isfinite(x_min) and np.isfinite(x_max)):\n",
    "            print(\"Warning: Non-finite x-limits detected, skipping set_xlim\")\n",
    "            return\n",
    "        x_range = x_max - x_min\n",
    "\n",
    "        if x_range == 0:\n",
    "            buffer = 0.1  # fixed small buffer\n",
    "        else:\n",
    "            buffer = buffer_frac * x_range\n",
    "        ax.set_xlim(x_min - buffer, x_max + buffer)\n",
    "    else:\n",
    "        print(\"Warning: No visible x data within y limits to set xlim\")\n"
   ]
  },
  {
   "cell_type": "code",
   "execution_count": null,
   "id": "1ac83d57-0e87-4ebc-a809-a50c9f69f289",
   "metadata": {},
   "outputs": [],
   "source": [
    "def averaged_profiles(profile): \n",
    "    out_var=profile[ (profile[:, 1] > 1)]; #gets rid of rows that have no data\n",
    "    out_var=np.array([out_var[:, 0] / out_var[:, 1], out_var[:, 2]]).T #divides the data column by the counter column\n",
    "    return out_var"
   ]
  },
  {
   "cell_type": "code",
   "execution_count": null,
   "id": "9827f905-d1c2-47a2-8c19-ef488e4a4d18",
   "metadata": {},
   "outputs": [],
   "source": [
    "def LoadAllCloudBase():\n",
    "    dir2 = dir + f'Project_Algorithms/Tracking_Algorithms/OUTPUT/'\n",
    "    in_file = dir2 + f\"all_cloudbase_{res}_{t_res}_{Np_str}.pkl\"\n",
    "    with open(in_file, 'rb') as f:\n",
    "        all_cloudbase = pickle.load(f)\n",
    "    return(all_cloudbase)\n",
    "min_all_cloudbase=np.nanmin(LoadAllCloudBase())\n",
    "all_cloudbase=min_all_cloudbase\n",
    "print(f\"Minimum Cloudbase is: {all_cloudbase}\\n\")"
   ]
  },
  {
   "cell_type": "code",
   "execution_count": null,
   "id": "2a0dc68a-edef-48b7-ad82-a4e4a8d6697c",
   "metadata": {},
   "outputs": [],
   "source": [
    "def LoadMeanLFC():\n",
    "    dir2 = dir + f'Project_Algorithms/Tracking_Algorithms/OUTPUT/'\n",
    "    in_file = dir2 + f\"MeanLFC_{res}_{t_res}_{Np_str}.pkl\"\n",
    "    with open(in_file, 'rb') as f:\n",
    "        MeanLFC = pickle.load(f)\n",
    "    return MeanLFC\n",
    "MeanLFC=LoadMeanLFC()\n",
    "print(f\"Mean LFC is: {MeanLFC}\\n\")"
   ]
  },
  {
   "cell_type": "code",
   "execution_count": null,
   "id": "c0d6c8f6-49d8-4f81-968a-568425ee3592",
   "metadata": {
    "jupyter": {
     "source_hidden": true
    }
   },
   "outputs": [],
   "source": [
    "def plot_updraft_profiles(type1, type2, type3, color, ax=None):\n",
    "    lw=0.8\n",
    "    # Create new figure and axes if none provided\n",
    "    if ax is None:\n",
    "        fig, ax = plt.subplots(1, 2, figsize=(12, 6))\n",
    "    ax = np.ravel(ax)  # Ensure ax is flat list/array\n",
    "\n",
    "    factor = 1\n",
    "    switch = 1\n",
    "\n",
    "    profile_labels = {\n",
    "        type1: {'label': f\"{type3} ({type1})\", 'linestyle': 'solid', 'color': color, 'alpha': 0.1, 'hatch': None},\n",
    "        type2: {'label': f\"{type3} ({type2})\", 'linestyle': 'dashed', 'color': color, 'alpha': 0.2, 'hatch': '///'}\n",
    "    }\n",
    "\n",
    "    profile_types = ['general', 'cloudy']\n",
    "\n",
    "    for i, prof_type in enumerate(profile_types):\n",
    "        for t in [type1, type2]:\n",
    "            array_name = f\"{t}_{type3}_profile_array_{prof_type}\"\n",
    "            SE_name = f\"{t}_{type3}_profile_array_{prof_type}_SE\"\n",
    "            profile_array = globals()[array_name]\n",
    "            SE_array = globals()[SE_name]\n",
    "\n",
    "            profile = averaged_profiles(profile_array)\n",
    "            SE_profile = SE_array\n",
    "\n",
    "            ax[i].plot(profile[:, 0], profile[:, 1],\n",
    "                       color=profile_labels[t]['color'],\n",
    "                       linestyle=profile_labels[t]['linestyle'],\n",
    "                       label=profile_labels[t]['label'],lw=lw)\n",
    "\n",
    "            fill_kwargs = {\n",
    "                'alpha': profile_labels[t]['alpha'],\n",
    "                'linewidth': 0.0\n",
    "            }\n",
    "\n",
    "            if profile_labels[t]['hatch'] is None:\n",
    "                fill_kwargs['color'] = profile_labels[t]['color']\n",
    "            else:\n",
    "                fill_kwargs['color'] = 'none'\n",
    "                fill_kwargs['edgecolor'] = profile_labels[t]['color']\n",
    "                fill_kwargs['hatch'] = profile_labels[t]['hatch']\n",
    "\n",
    "            # ax[i].fill_betweenx(\n",
    "            #     profile[:, 1],\n",
    "            #     np.maximum(profile[:, 0] - factor * SE_profile[:, 0] * switch, 0),\n",
    "            #     profile[:, 0] + factor * SE_profile[:, 0] * switch,\n",
    "            #     **fill_kwargs\n",
    "            # )\n",
    "            \n",
    "        ax[i].set_xlabel(r'A ($km^2$)')\n",
    "        ax[i].set_ylabel('z (km)')\n",
    "        ax[i].axhline(all_cloudbase, color='purple', linestyle='dashed')\n",
    "        ax[i].axhline(MeanLFC/1000, color='green', linestyle='dashed')\n",
    "        ax[i].set_title(f'{prof_type.capitalize()} Profile')\n",
    "        ax[i].legend()\n",
    "\n",
    "    if ax is None:\n",
    "        fix_x_limits(ax)\n",
    "        fix_y_limits(ax)\n",
    "        plt.suptitle(f'{type3} {type1} vs {type2} Updrafts Area Profile')\n",
    "        plt.tight_layout(rect=[0, 0.03, 1, 0.95])\n",
    "        plt.show()\n"
   ]
  },
  {
   "cell_type": "code",
   "execution_count": null,
   "id": "30db9d37-d3c2-41df-aac4-c3b1e653554e",
   "metadata": {
    "jupyter": {
     "source_hidden": true
    }
   },
   "outputs": [],
   "source": [
    "#DIFFERENCE PLOT\n",
    "def average_difference(array1, array2):\n",
    "    out_var_one=averaged_profiles(array1)\n",
    "    out_var_two=averaged_profiles(array2)\n",
    "\n",
    "    #masking out non matches\n",
    "    second_col_one = out_var_one[:, 1]\n",
    "    second_col_two = out_var_two[:, 1]\n",
    "    mask_one = np.isin(second_col_one, second_col_two)\n",
    "    mask_two = np.isin(second_col_two, second_col_one)\n",
    "    \n",
    "    out_var_one = out_var_one.copy()[mask_one]\n",
    "    out_var_two = out_var_two.copy()[mask_two]\n",
    "    \n",
    "    diff=(out_var_one[:,0]-out_var_two[:,0])\n",
    "    zs=out_var_one[:,1]\n",
    "\n",
    "    out_profile=np.zeros((len(diff),2))\n",
    "\n",
    "    out_profile[:,0]=diff;out_profile[:,1]=zs;\n",
    "    return out_profile\n",
    "\n",
    "def compute_diff(group1, group2, cat, type1):\n",
    "    profile1 = globals()[f\"{group1}_{cat}_profile_array_{type1}\"]\n",
    "    profile2 = globals()[f\"{group2}_{cat}_profile_array_{type1}\"]\n",
    "    globals()[f\"{group1}_{group2}_{cat}_diff_{type1}\"] = average_difference(profile1, profile2)\n",
    "    # print(f\"{group1}_{group2}_{cat}_diff_{var.lower()}\")\n",
    "\n",
    "def PlotDifference(group1,group2,type1,ax=None):\n",
    "    ######################\n",
    "    #Calculating\n",
    "    # group1='CL';group2='nonCL'\n",
    "    cats=['ALL','SHALLOW','DEEP']\n",
    "    for cat in cats:\n",
    "        compute_diff(group1,group2,cat,type1)\n",
    "\n",
    "    ######################\n",
    "    #Plotting\n",
    "    lw=1\n",
    "    \n",
    "    # List of profile arrays and their corresponding labels and x-axis titles\n",
    "    profiles = [\n",
    "        (globals()[f\"{group1}_{group2}_ALL_diff_{type1}\"], 'ALL','black'),\n",
    "        (globals()[f\"{group1}_{group2}_SHALLOW_diff_{type1}\"], 'SHALLOW','green'),\n",
    "        (globals()[f\"{group1}_{group2}_DEEP_diff_{type1}\"], 'DEEP','blue')\n",
    "    ]\n",
    "\n",
    "    # Set up the figure\n",
    "    if ax==None:\n",
    "        fig = plt.figure(figsize=(8, 6))\n",
    "        ax = fig.add_subplot(111)\n",
    "    \n",
    "    # Loop through profiles for CL and nonCL\n",
    "    for i, (profile, CLlabel,color) in enumerate(profiles):\n",
    "    \n",
    "        #CUT BELOW CERTAIN Z\n",
    "        ax.plot(profile[:, 0], profile[:, -1], color=color, label=CLlabel,lw=lw)\n",
    "        # apply_scientific_notation([ax])\n",
    "    \n",
    "    \n",
    "    # Add labels and title\n",
    "    ax.set_xlabel(r\"($km^2$)\")\n",
    "    ax.set_ylabel('z (km)')\n",
    "    ax.grid(True)\n",
    "    \n",
    "    ax.axvline(0,linestyle='dashed',color='grey',zorder=-10)\n",
    "    \n",
    "    # Show legend\n",
    "    ax.legend()\n",
    "    \n",
    "    #MEAN CLOUD BASE\n",
    "    ax.axhline(all_cloudbase,color='purple',linestyle='dashed',lw=lw)\n",
    "    ax.axhline(MeanLFC/1e3,color='green',linestyle='dashed',lw=lw)\n",
    "\n",
    "    #FIX YLIMIT\n",
    "    ax.set_ylim(bottom=0)\n",
    "    #LIMITING YAXIS TO BELOW 7 KM\n",
    "    if limit_y==True: \n",
    "        ax.set_ylim(bottom=0,top=7)\n",
    "    \n",
    "    # Set up the main title and adjust layout\n",
    "    plt.suptitle(f'({group1} minus {group2}) General and Cloudy Tracked Updrafts Area Profile\\n')\n",
    "    ax.set_title(f\"{type1[0].upper()+type1[1:]} Updraft Area\")\n"
   ]
  },
  {
   "cell_type": "code",
   "execution_count": null,
   "id": "9ba68334-6547-4644-878e-006247bfa917",
   "metadata": {},
   "outputs": [],
   "source": [
    "fig, ax = plt.subplots(1, 2, figsize=(12, 6))\n",
    "\n",
    "# Plot two types on the same axes\n",
    "plot_updraft_profiles('CL', 'nonCL', 'ALL', 'black', ax=ax)\n",
    "plot_updraft_profiles('CL', 'nonCL', 'SHALLOW', 'green', ax=ax)\n",
    "plot_updraft_profiles('CL', 'nonCL','DEEP','blue', ax=ax)\n",
    "\n",
    "for axis in ax:\n",
    "    #LIMITING YAXIS TO BELOW 7 KM\n",
    "    if limit_y==True: \n",
    "        limit_axes_to_y(axis,y_min=0, y_max=7)   \n",
    "fix_x_limits(ax)\n",
    "fix_y_limits(ax)\n",
    "for axis in ax:\n",
    "    axis.set_xlim(left=0)\n",
    "    axis.set_ylim(bottom=0)\n",
    " \n",
    "plt.suptitle('General and Cloudy Tracked Updrafts Area Profile (CL and nonCL)')\n",
    "plt.tight_layout(rect=[0, 0.03, 1, 0.95])\n",
    "plt.show()\n"
   ]
  },
  {
   "cell_type": "code",
   "execution_count": null,
   "id": "e28a5f1b-f041-43d9-aa4d-3f9406e4031d",
   "metadata": {
    "jupyter": {
     "source_hidden": true
    }
   },
   "outputs": [],
   "source": [
    "# #DIFFERENCE PLOT\n",
    "# group1='CL';group2='nonCL'\n",
    "# fig, axs = plt.subplots(1, 2, figsize=(12, 6),sharey=True)\n",
    "# PlotDifference(group1, group2, type1='general', ax=axs[0])\n",
    "# PlotDifference(group1, group2, type1='cloudy', ax=axs[1])\n",
    "# plt.tight_layout()"
   ]
  },
  {
   "cell_type": "code",
   "execution_count": null,
   "id": "deecd06e-ec54-402e-9b36-1a5638495357",
   "metadata": {},
   "outputs": [],
   "source": [
    "#######################\n",
    "#SBZ vs nonSBZ"
   ]
  },
  {
   "cell_type": "code",
   "execution_count": null,
   "id": "80446143-7c88-4ca2-aa7e-ee712206af71",
   "metadata": {},
   "outputs": [],
   "source": [
    "############################\n",
    "#PLOTTING"
   ]
  },
  {
   "cell_type": "code",
   "execution_count": null,
   "id": "9b4574d3-57d1-4473-ad65-85c9e2571e9c",
   "metadata": {},
   "outputs": [],
   "source": [
    "fig, ax = plt.subplots(1, 2, figsize=(12, 6))\n",
    "\n",
    "# Plot two types on the same axes\n",
    "plot_updraft_profiles('SBZ', 'nonSBZ', 'ALL', 'black', ax=ax)\n",
    "plot_updraft_profiles('SBZ', 'nonSBZ', 'SHALLOW', 'green', ax=ax)\n",
    "plot_updraft_profiles('SBZ', 'nonSBZ','DEEP','blue', ax=ax)\n",
    "\n",
    "for axis in ax:\n",
    "    #LIMITING YAXIS TO BELOW 7 KM\n",
    "    if limit_y==True: \n",
    "        limit_axes_to_y(axis,y_min=0, y_max=7)   \n",
    "fix_x_limits(ax)\n",
    "fix_y_limits(ax)\n",
    "for axis in ax:\n",
    "    axis.set_xlim(left=0)\n",
    "    axis.set_ylim(bottom=0)\n",
    "plt.suptitle('General and Cloudy Tracked Updrafts Area Profile (SBZ and nonSBZ)')\n",
    "plt.tight_layout(rect=[0, 0.03, 1, 0.95])\n",
    "plt.show()\n"
   ]
  },
  {
   "cell_type": "code",
   "execution_count": null,
   "id": "3fff826c-0f14-4b9f-b67f-bf8a4aa24855",
   "metadata": {
    "jupyter": {
     "source_hidden": true
    }
   },
   "outputs": [],
   "source": [
    "# #DIFFERENCE PLOT\n",
    "# group1='SBZ';group2='nonSBZ'\n",
    "# fig, axs = plt.subplots(1, 2, figsize=(12, 6),sharey=True)\n",
    "# PlotDifference(group1, group2, type1='general', ax=axs[0])\n",
    "# PlotDifference(group1, group2, type1='cloudy', ax=axs[1])\n",
    "# plt.tight_layout()"
   ]
  },
  {
   "cell_type": "code",
   "execution_count": null,
   "id": "c7cadf3d-4b19-475e-9dd0-2a3e886579f9",
   "metadata": {
    "jupyter": {
     "source_hidden": true
    }
   },
   "outputs": [],
   "source": [
    "#######################\n",
    "#COLD POOL"
   ]
  },
  {
   "cell_type": "code",
   "execution_count": null,
   "id": "fd9e0beb-0eea-49a2-b19e-21c79a6c022d",
   "metadata": {
    "jupyter": {
     "source_hidden": true
    }
   },
   "outputs": [],
   "source": [
    "#############################\n",
    "#PLOTTING"
   ]
  },
  {
   "cell_type": "code",
   "execution_count": null,
   "id": "83408bc7-34b5-4d6d-8dc3-6fffcab6b24c",
   "metadata": {
    "jupyter": {
     "source_hidden": true
    }
   },
   "outputs": [],
   "source": [
    "# fig, ax = plt.subplots(1, 2, figsize=(12, 6))\n",
    "\n",
    "# # Plot two types on the same axes\n",
    "# plot_updraft_profiles('SBZ', 'ColdPool', 'ALL', 'black', ax=ax)\n",
    "# plot_updraft_profiles('SBZ', 'ColdPool', 'SHALLOW', 'green', ax=ax)\n",
    "# plot_updraft_profiles('SBZ', 'ColdPool', 'DEEP','blue', ax=ax)\n",
    "\n",
    "# for axis in ax:\n",
    "#     #LIMITING YAXIS TO BELOW 7 KM\n",
    "#     if limit_y==True: \n",
    "#         limit_axes_to_y(axis,y_min=0, y_max=7)   \n",
    "# fix_x_limits(ax)\n",
    "# fix_y_limits(ax)\n",
    "# for axis in ax:\n",
    "#     axis.set_xlim(left=0)\n",
    "#     axis.set_ylim(bottom=0)\n",
    "# plt.suptitle('General and Cloudy Tracked Updrafts Area Profile (SBZ and ColdPool)')\n",
    "# plt.tight_layout(rect=[0, 0.03, 1, 0.95])\n",
    "# plt.show()\n"
   ]
  },
  {
   "cell_type": "code",
   "execution_count": null,
   "id": "d740de35-0c6d-43d7-b87e-6bf52f7db08b",
   "metadata": {
    "jupyter": {
     "source_hidden": true
    }
   },
   "outputs": [],
   "source": [
    "# #DIFFERENCE PLOT\n",
    "# group1='SBZ';group2='ColdPool'\n",
    "# fig, axs = plt.subplots(1, 2, figsize=(12, 6),sharey=True)\n",
    "# PlotDifference(group1, group2, type1='general', ax=axs[0])\n",
    "# PlotDifference(group1, group2, type1='cloudy', ax=axs[1])\n",
    "# plt.tight_layout()"
   ]
  }
 ],
 "metadata": {
  "kernelspec": {
   "display_name": "Python 3 (ipykernel)",
   "language": "python",
   "name": "python3"
  },
  "language_info": {
   "codemirror_mode": {
    "name": "ipython",
    "version": 3
   },
   "file_extension": ".py",
   "mimetype": "text/x-python",
   "name": "python",
   "nbconvert_exporter": "python",
   "pygments_lexer": "ipython3",
   "version": "3.11.8"
  }
 },
 "nbformat": 4,
 "nbformat_minor": 5
}

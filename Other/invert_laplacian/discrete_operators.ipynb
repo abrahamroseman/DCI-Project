{
 "cells": [
  {
   "cell_type": "code",
   "execution_count": null,
   "id": "8c09116b-6ca7-449f-ad72-1be1c9c16e1b",
   "metadata": {},
   "outputs": [],
   "source": [
    "import numpy as np\n",
    "dx=1\n",
    "\n",
    "D=np.zeros((4,5))\n",
    "D[0,0]=-1; D[0,1]=1\n",
    "D[1,1]=-1; D[1,2]=1\n",
    "D[2,2]=-1; D[2,3]=1\n",
    "D[3,3]=-1; D[3,4]=1\n",
    "D/=dx\n",
    "\n",
    "\n",
    "G=np.zeros((5,4))\n",
    "G[1,0]=-1; G[1,1]=1\n",
    "G[2,1]=-1; G[2,2]=1\n",
    "G[3,2]=-1; G[3,3]=1\n",
    "G/=dx\n",
    "\n",
    "\n",
    "#Periodic Boundary Conditions\n",
    "G[0,0]=1; #G[0,-1]=-1\n",
    "G[-1,-1]=-1 # G[-1,0]=1; \n",
    "\n",
    "\n",
    "#Laplacian\n",
    "L=D@G\n",
    "L"
   ]
  },
  {
   "cell_type": "code",
   "execution_count": null,
   "id": "23f5c6e0-4329-4cd2-aa9e-a9605296c616",
   "metadata": {},
   "outputs": [],
   "source": [
    "#Finding Inverse Laplacian\n",
    "Linv=np.linalg.inv(L)\n",
    "np.round(Linv,1)\n",
    "Linv"
   ]
  },
  {
   "cell_type": "code",
   "execution_count": null,
   "id": "9c3162a1-ed04-405c-a0b5-f86eba3e496c",
   "metadata": {},
   "outputs": [],
   "source": [
    "#Checking L*Linv=I\n",
    "np.round(L@Linv,14)"
   ]
  },
  {
   "cell_type": "code",
   "execution_count": null,
   "id": "996ceefa-383d-46cb-8d10-49551ae53788",
   "metadata": {},
   "outputs": [],
   "source": [
    "#Solving for Solution of Lf=g\n",
    "\n",
    "g=np.array([1,2,3,4])\n",
    "f=Linv@g\n",
    "\n",
    "L@f #checking if inversion works"
   ]
  },
  {
   "cell_type": "code",
   "execution_count": null,
   "id": "c6f4a02f-ab22-46e8-9b57-dc983dda2dba",
   "metadata": {},
   "outputs": [],
   "source": []
  },
  {
   "cell_type": "code",
   "execution_count": null,
   "id": "03b45efa-a93f-4133-b2b6-a41ce8288869",
   "metadata": {},
   "outputs": [],
   "source": [
    "#Checking that inner solution is invertible\n",
    "L=D[1:-1,1:-1]@G[1:-1,1:-1]\n",
    "Linv=np.linalg.inv(L)\n",
    "\n",
    "f=Linv@g[1:-1]\n",
    "L@f #checking if inversion works\n",
    "\n",
    "\n",
    "f"
   ]
  },
  {
   "cell_type": "code",
   "execution_count": null,
   "id": "996df6a3-cb2d-4f92-8e1e-16d0fd27f16d",
   "metadata": {},
   "outputs": [],
   "source": []
  }
 ],
 "metadata": {
  "kernelspec": {
   "display_name": "Python 3 (ipykernel)",
   "language": "python",
   "name": "python3"
  },
  "language_info": {
   "codemirror_mode": {
    "name": "ipython",
    "version": 3
   },
   "file_extension": ".py",
   "mimetype": "text/x-python",
   "name": "python",
   "nbconvert_exporter": "python",
   "pygments_lexer": "ipython3",
   "version": "3.11.8"
  }
 },
 "nbformat": 4,
 "nbformat_minor": 5
}

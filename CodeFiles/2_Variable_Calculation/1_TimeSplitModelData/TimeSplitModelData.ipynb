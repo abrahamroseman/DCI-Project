{
 "cells": [
  {
   "cell_type": "code",
   "execution_count": 1,
   "id": "326957c7-f9d8-40c4-bf4b-446fdb06fe1c",
   "metadata": {
    "editable": true,
    "slideshow": {
     "slide_type": ""
    },
    "tags": []
   },
   "outputs": [],
   "source": [
    "####################################\n",
    "#ENVIRONMENT SETUP"
   ]
  },
  {
   "cell_type": "code",
   "execution_count": 2,
   "id": "58f35243-7bf6-4ebe-8774-af7f2acb2491",
   "metadata": {
    "editable": true,
    "slideshow": {
     "slide_type": ""
    },
    "tags": []
   },
   "outputs": [],
   "source": [
    "#Importing Libraries\n",
    "import numpy as np\n",
    "import matplotlib.pyplot as plt\n",
    "import matplotlib.colors as mcolors\n",
    "import matplotlib.ticker as ticker\n",
    "import matplotlib.cm as cm\n",
    "from matplotlib.colors import Normalize\n",
    "from matplotlib.ticker import MaxNLocator\n",
    "from matplotlib.ticker import ScalarFormatter\n",
    "import matplotlib.gridspec as gridspec\n",
    "import xarray as xr\n",
    "\n",
    "import sys; import os; import time; from datetime import timedelta\n",
    "import pickle\n",
    "import h5py"
   ]
  },
  {
   "cell_type": "code",
   "execution_count": 3,
   "id": "fc5e3384-2a2c-4822-8447-75e173cf44f3",
   "metadata": {
    "editable": true,
    "slideshow": {
     "slide_type": ""
    },
    "tags": []
   },
   "outputs": [],
   "source": [
    "#MAIN DIRECTORIES\n",
    "def GetDirectories():\n",
    "    mainDirectory='/mnt/lustre/koa/koastore/torri_group/air_directory/Projects/DCI-Project/'\n",
    "    mainCodeDirectory=os.path.join(mainDirectory,\"Code/CodeFiles/\")\n",
    "    scratchDirectory='/mnt/lustre/koa/scratch/air673/'\n",
    "    codeDirectory=os.getcwd()\n",
    "    return mainDirectory,mainCodeDirectory,scratchDirectory,codeDirectory\n",
    "\n",
    "[mainDirectory,mainCodeDirectory,scratchDirectory,codeDirectory] = GetDirectories()"
   ]
  },
  {
   "cell_type": "code",
   "execution_count": 4,
   "id": "fa2d4edc-db75-43a9-8e73-348e8132acf5",
   "metadata": {},
   "outputs": [],
   "source": [
    "#IMPORT CLASSES (from current directory)\n",
    "sys.path.append(os.path.join(mainCodeDirectory,\"Variable_Calculation\"))\n",
    "from CLASSES_Variable_Calculation import ModelData_Class"
   ]
  },
  {
   "cell_type": "code",
   "execution_count": 5,
   "id": "676f85b3-0357-44d1-9111-e6e40b39e8bb",
   "metadata": {},
   "outputs": [],
   "source": [
    "####################################\n",
    "#LOADING CLASSES"
   ]
  },
  {
   "cell_type": "code",
   "execution_count": 53,
   "id": "12c61622-eaac-4858-9763-c26f65007694",
   "metadata": {
    "editable": true,
    "slideshow": {
     "slide_type": ""
    },
    "tags": []
   },
   "outputs": [
    {
     "name": "stdout",
     "output_type": "stream",
     "text": [
      "=== CM1 Data Summary ===\n",
      " Simulation #:   1\n",
      " Resolution:     1km\n",
      " Time step:      5min\n",
      " Vertical levels:34\n",
      " Parcels:        1e6\n",
      " Data file:      /mnt/lustre/koa/koastore/torri_group/air_directory/Projects/DCI-Project/Model/cm1r20.3/run/cm1out_1km_5min_34nz.nc\n",
      " Parcel file:    /mnt/lustre/koa/koastore/torri_group/air_directory/Projects/DCI-Project/Model/cm1r20.3/run/cm1out_pdata_1km_5min_1e6np.nc\n",
      " Time steps:     133\n",
      "========================= \n",
      "\n"
     ]
    }
   ],
   "source": [
    "#data loading class\n",
    "ModelData = ModelData_Class(mainDirectory, scratchDirectory, simulationNumber=1)"
   ]
  },
  {
   "cell_type": "code",
   "execution_count": 7,
   "id": "dcd939c3-d800-4d98-b029-b466e15733eb",
   "metadata": {},
   "outputs": [],
   "source": [
    "####################################\n",
    "#MAKING OUTPUT DIRECTORY"
   ]
  },
  {
   "cell_type": "code",
   "execution_count": 8,
   "id": "141dda3c-b80c-40a4-8f0a-dfe74c1f1207",
   "metadata": {},
   "outputs": [],
   "source": [
    "#OUTPUT DIRECTORIES\n",
    "outputDirectory=os.path.join(mainDirectory,'Code','OUTPUT','Variable_Calculation','TimeSplitModelData')\n",
    "os.makedirs(outputDirectory, exist_ok=True)\n",
    "\n",
    "#Data Output Directories\n",
    "def MakeDataDirectories(outputDirectory,res,t_res,Nz_str):\n",
    "    outputDataDirectory = os.path.join(outputDirectory,f\"{res}_{t_res}_{Nz_str}nz\",'ModelData')\n",
    "    outputParcelDirectory = os.path.join(outputDirectory,f\"{res}_{t_res}_{Nz_str}nz\",'ParcelData')\n",
    "    os.makedirs(outputDataDirectory, exist_ok=True)\n",
    "    os.makedirs(outputParcelDirectory, exist_ok=True)\n",
    "\n",
    "    return outputDataDirectory, outputParcelDirectory"
   ]
  },
  {
   "cell_type": "code",
   "execution_count": 9,
   "id": "463026a3-d701-4def-b9b0-5cf68fc24cc0",
   "metadata": {
    "editable": true,
    "slideshow": {
     "slide_type": ""
    },
    "tags": []
   },
   "outputs": [],
   "source": [
    "####################################\n",
    "#FUNCTIONS"
   ]
  },
  {
   "cell_type": "code",
   "execution_count": 10,
   "id": "cd512b23-ebdc-4efd-8c7d-c77edd02c302",
   "metadata": {
    "editable": true,
    "slideshow": {
     "slide_type": ""
    },
    "tags": []
   },
   "outputs": [],
   "source": [
    "#LOADING DATA\n",
    "def GetDataDirectories(simulationNumber):\n",
    "    if simulationNumber == 1:\n",
    "        Directory=os.path.join(mainDirectory,'Model/cm1r20.3/run')\n",
    "        res='1km'; t_res='5min'; Np_str='1e6'; Nz_str='34'\n",
    "    elif simulationNumber == 2:\n",
    "        Directory=scratchDirectory\n",
    "        res='1km'; t_res='1min'; Np_str='50e6'; Nz_str='95'\n",
    "    elif simulationNumber == 3:\n",
    "        Directory=scratchDirectory\n",
    "        res='250m'; t_res='1min'; Np_str='50e6'; Nz_str='95'\n",
    "        \n",
    "    dataDirectory = os.path.join(Directory, f\"cm1out_{res}_{t_res}_{Nz_str}nz.nc\")\n",
    "    parcelDirectory = os.path.join(Directory,f\"cm1out_pdata_{res}_{t_res}_{Np_str}np.nc\")\n",
    "    return dataDirectory, parcelDirectory, res,t_res,Np_str,Nz_str"
   ]
  },
  {
   "cell_type": "code",
   "execution_count": 11,
   "id": "3124857a-56b3-4b99-97d3-289d26daa058",
   "metadata": {
    "editable": true,
    "jupyter": {
     "source_hidden": true
    },
    "slideshow": {
     "slide_type": ""
    },
    "tags": []
   },
   "outputs": [],
   "source": [
    "# def WriteTimesteps_NetCDF(dataNC, parcelNC, timeStrings, res,t_res,Np_str,Nz_str, outputDataDirectory,outputParcelDirectory):\n",
    "        \n",
    "#     for count,time in tqdm(enumerate(timeStrings), total=len(timeStrings), desc=\"Writing timesteps\"):\n",
    "#         dataT = dataNC.isel(time=count)\n",
    "#         parcelT = parcelNC.isel(time=count)\n",
    "    \n",
    "#         #making filenames\n",
    "#         outputDataFile = os.path.join(outputDataDirectory, f\"cm1out_{res}_{t_res}_{Nz_str}nz_{time}.nc\")\n",
    "#         outputParcelFile = os.path.join(outputParcelDirectory, f\"cm1out_pdata_{res}_{t_res}_{Np_str}np_{time}.nc\")\n",
    "        \n",
    "#         dataT.to_netcdf(outputDataFile, engine=\"h5netcdf\")\n",
    "#         parcelT.to_netcdf(outputParcelFile, engine=\"h5netcdf\")\n",
    "\n",
    "# #EXAMPLE\n",
    "# WriteTimesteps_NetCDF(dataNC, parcelNC, timeStrings, res, t_res, Np_str, Nz_str,outputDataDirectory,outputParcelDirectory)"
   ]
  },
  {
   "cell_type": "code",
   "execution_count": 49,
   "id": "ebea432a-1c27-442f-9f00-4568a824f246",
   "metadata": {
    "editable": true,
    "slideshow": {
     "slide_type": ""
    },
    "tags": []
   },
   "outputs": [],
   "source": [
    "def WriteTimesteps_H5(dataNC, parcelNC, timeStrings, res, t_res, Np_str, Nz_str,\n",
    "                      outputDataDirectory, outputParcelDirectory):\n",
    "    \"\"\"\n",
    "    Writes each timestep of dataNC and parcelNC to separate .h5 files,\n",
    "    mirroring WriteTimestepsNetCDF but using h5py instead of xarray.to_netcdf.\n",
    "    \"\"\"\n",
    "    from tqdm import tqdm\n",
    "\n",
    "    for count, time in tqdm(enumerate(timeStrings), total=len(timeStrings), desc=\"Writing timesteps\"):\n",
    "        # Extract single timestep\n",
    "        dataT = dataNC.isel(time=count)\n",
    "        parcelT = parcelNC.isel(time=count)\n",
    "\n",
    "        # Build file names (same as NetCDF version)\n",
    "        outputDataFile = os.path.join(\n",
    "            outputDataDirectory,\n",
    "            f\"cm1out_{res}_{t_res}_{Nz_str}nz_{time}.h5\"\n",
    "        )\n",
    "        outputParcelFile = os.path.join(\n",
    "            outputParcelDirectory,\n",
    "            f\"cm1out_pdata_{res}_{t_res}_{Np_str}np_{time}.h5\"\n",
    "        )\n",
    "\n",
    "        # --- Write data timestep ---\n",
    "        with h5py.File(outputDataFile, \"w\") as f_data:\n",
    "            for var_name, da in dataT.data_vars.items():\n",
    "                f_data.create_dataset(\n",
    "                    var_name,\n",
    "                    data=da.values,\n",
    "                    dtype=\"float32\",\n",
    "                    compression=\"gzip\"\n",
    "                )\n",
    "                # optionally save metadata\n",
    "                for attr, val in da.attrs.items():\n",
    "                    f_data[var_name].attrs[attr] = val\n",
    "\n",
    "        # --- Write parcel timestep ---\n",
    "        with h5py.File(outputParcelFile, \"w\") as f_parcel:\n",
    "            for var_name, da in parcelT.data_vars.items():\n",
    "                f_parcel.create_dataset(\n",
    "                    var_name,\n",
    "                    data=da.values,\n",
    "                    dtype=\"float32\",\n",
    "                    compression=\"gzip\"\n",
    "                )\n",
    "                for attr, val in da.attrs.items():\n",
    "                    f_parcel[var_name].attrs[attr] = val"
   ]
  },
  {
   "cell_type": "code",
   "execution_count": 50,
   "id": "4d48f32b-f0ef-411c-94d4-c2c314631498",
   "metadata": {
    "editable": true,
    "slideshow": {
     "slide_type": ""
    },
    "tags": []
   },
   "outputs": [],
   "source": [
    "####################################\n",
    "#RUNNING"
   ]
  },
  {
   "cell_type": "code",
   "execution_count": 51,
   "id": "12d27cdd-10da-4597-b00b-85a2dabc53e1",
   "metadata": {
    "editable": true,
    "slideshow": {
     "slide_type": ""
    },
    "tags": []
   },
   "outputs": [
    {
     "name": "stdout",
     "output_type": "stream",
     "text": [
      "Opened dataset: /mnt/lustre/koa/koastore/torri_group/air_directory/Projects/DCI-Project/Model/cm1r20.3/run/cm1out_1km_5min_34nz.nc\n",
      "Opened dataset: /mnt/lustre/koa/koastore/torri_group/air_directory/Projects/DCI-Project/Model/cm1r20.3/run/cm1out_pdata_1km_5min_1e6np.nc\n"
     ]
    },
    {
     "name": "stderr",
     "output_type": "stream",
     "text": [
      "Writing timesteps:   2%|▏         | 2/133 [00:41<45:01, 20.62s/it]\n"
     ]
    }
   ],
   "source": [
    "#getting data\n",
    "dataNC = ModelData.OpenData(); parcelNC = ModelData.OpenParcel()\n",
    "dataNC = ModelData.SubsetDataVars(dataNC)\n",
    "\n",
    "#getting output directories\n",
    "[outputDataDirectory, outputParcelDirectory] = MakeDataDirectories(outputDirectory,ModelData.res,ModelData.t_res,ModelData.Nz_str)\n",
    "\n",
    "#running\n",
    "WriteTimesteps_H5(dataNC, parcelNC, ModelData.timeStrings, ModelData.res, ModelData.t_res, ModelData.Np_str, ModelData.Nz_str,outputDataDirectory,outputParcelDirectory)"
   ]
  },
  {
   "cell_type": "code",
   "execution_count": null,
   "id": "4722ca49-5859-4a92-835b-2883be319cba",
   "metadata": {},
   "outputs": [],
   "source": []
  },
  {
   "cell_type": "code",
   "execution_count": null,
   "id": "b7d37f52-27fc-45a5-a6d9-21ca2eebd736",
   "metadata": {},
   "outputs": [],
   "source": []
  },
  {
   "cell_type": "code",
   "execution_count": null,
   "id": "bc48ea86-1f8c-46cf-9bc7-b878d101180d",
   "metadata": {},
   "outputs": [],
   "source": []
  },
  {
   "cell_type": "code",
   "execution_count": null,
   "id": "e427586f-5ba7-4f84-ae35-1c6eee62ea55",
   "metadata": {
    "editable": true,
    "slideshow": {
     "slide_type": ""
    },
    "tags": []
   },
   "outputs": [],
   "source": [
    "####################################"
   ]
  },
  {
   "cell_type": "code",
   "execution_count": null,
   "id": "93929646-8b96-46a7-a300-1e29a936c0dc",
   "metadata": {},
   "outputs": [],
   "source": [
    "# #TESTING EQUALITY\n",
    "# testDir=\"/mnt/lustre/koa/koastore/torri_group/air_directory/Projects/DCI-Project/TimeSplitting/OUTPUT/1km_5min_34nz/ModelData/cm1out_1km_5min_34nz_0-25-00.h5\"\n",
    "# t=5\n",
    "# with h5py.File(testDir, \"r\") as f:\n",
    "#     for key in f.keys():\n",
    "#         # Convert both to numpy arrays\n",
    "#         varH5 = np.array(f[key][:])\n",
    "#         varCDF = np.array(dataNC[key].isel(time=t))\n",
    "\n",
    "#         # Check equality (element-wise, then reduce to True/False)\n",
    "#         is_equal = np.all(varH5 == varCDF)\n",
    "\n",
    "#         print(f\"{key}: {'MATCH' if is_equal else 'DIFFERENT'}  \"\n",
    "#               f\"(shape H5={varH5.shape}, CDF={varCDF.shape})\")"
   ]
  }
 ],
 "metadata": {
  "kernelspec": {
   "display_name": "Python 3 (ipykernel)",
   "language": "python",
   "name": "python3"
  },
  "language_info": {
   "codemirror_mode": {
    "name": "ipython",
    "version": 3
   },
   "file_extension": ".py",
   "mimetype": "text/x-python",
   "name": "python",
   "nbconvert_exporter": "python",
   "pygments_lexer": "ipython3",
   "version": "3.11.8"
  }
 },
 "nbformat": 4,
 "nbformat_minor": 5
}

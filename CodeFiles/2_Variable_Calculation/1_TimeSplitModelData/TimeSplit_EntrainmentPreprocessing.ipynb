{
 "cells": [
  {
   "cell_type": "code",
   "execution_count": 33,
   "id": "326957c7-f9d8-40c4-bf4b-446fdb06fe1c",
   "metadata": {
    "editable": true,
    "slideshow": {
     "slide_type": ""
    },
    "tags": []
   },
   "outputs": [],
   "source": [
    "# #NOTE: this code is only used after completing 3_EntrainmentCalculation/Entrainment_Preprocessing.ipynb"
   ]
  },
  {
   "cell_type": "code",
   "execution_count": 34,
   "id": "e0d3c921-9173-43c9-8d8f-bad56d2388b0",
   "metadata": {},
   "outputs": [],
   "source": [
    "####################################\n",
    "#ENVIRONMENT SETUP"
   ]
  },
  {
   "cell_type": "code",
   "execution_count": 35,
   "id": "58f35243-7bf6-4ebe-8774-af7f2acb2491",
   "metadata": {
    "editable": true,
    "slideshow": {
     "slide_type": ""
    },
    "tags": []
   },
   "outputs": [],
   "source": [
    "#Importing Libraries\n",
    "import numpy as np\n",
    "import matplotlib.pyplot as plt\n",
    "import matplotlib.colors as mcolors\n",
    "import matplotlib.ticker as ticker\n",
    "import matplotlib.cm as cm\n",
    "from matplotlib.colors import Normalize\n",
    "from matplotlib.ticker import MaxNLocator\n",
    "from matplotlib.ticker import ScalarFormatter\n",
    "import matplotlib.gridspec as gridspec\n",
    "import xarray as xr\n",
    "\n",
    "import sys; import os; import time; from datetime import timedelta\n",
    "import pickle\n",
    "import h5py"
   ]
  },
  {
   "cell_type": "code",
   "execution_count": 36,
   "id": "fc5e3384-2a2c-4822-8447-75e173cf44f3",
   "metadata": {
    "editable": true,
    "slideshow": {
     "slide_type": ""
    },
    "tags": []
   },
   "outputs": [],
   "source": [
    "#MAIN DIRECTORIES\n",
    "def GetDirectories():\n",
    "    mainDirectory='/mnt/lustre/koa/koastore/torri_group/air_directory/Projects/DCI-Project/'\n",
    "    mainCodeDirectory=os.path.join(mainDirectory,\"Code/CodeFiles/\")\n",
    "    scratchDirectory='/mnt/lustre/koa/scratch/air673/'\n",
    "    codeDirectory=os.getcwd()\n",
    "    return mainDirectory,mainCodeDirectory,scratchDirectory,codeDirectory\n",
    "\n",
    "[mainDirectory,mainCodeDirectory,scratchDirectory,codeDirectory] = GetDirectories()"
   ]
  },
  {
   "cell_type": "code",
   "execution_count": 37,
   "id": "fa2d4edc-db75-43a9-8e73-348e8132acf5",
   "metadata": {},
   "outputs": [],
   "source": [
    "#IMPORT CLASSES (from current directory)\n",
    "sys.path.append(os.path.join(mainCodeDirectory,\"2_Variable_Calculation\"))\n",
    "from CLASSES_Variable_Calculation import ModelData_Class, DataManager_Class"
   ]
  },
  {
   "cell_type": "code",
   "execution_count": 38,
   "id": "676f85b3-0357-44d1-9111-e6e40b39e8bb",
   "metadata": {},
   "outputs": [],
   "source": [
    "####################################\n",
    "#LOADING CLASSES"
   ]
  },
  {
   "cell_type": "code",
   "execution_count": 49,
   "id": "12c61622-eaac-4858-9763-c26f65007694",
   "metadata": {
    "editable": true,
    "slideshow": {
     "slide_type": ""
    },
    "tags": []
   },
   "outputs": [
    {
     "name": "stdout",
     "output_type": "stream",
     "text": [
      "=== CM1 Data Summary ===\n",
      " Simulation #:   1\n",
      " Resolution:     1km\n",
      " Time step:      5min\n",
      " Vertical levels:34\n",
      " Parcels:        1e6\n",
      " Data file:      /mnt/lustre/koa/koastore/torri_group/air_directory/Projects/DCI-Project/Model/cm1r20.3/run/cm1out_1km_5min_34nz.nc\n",
      " Parcel file:    /mnt/lustre/koa/koastore/torri_group/air_directory/Projects/DCI-Project/Model/cm1r20.3/run/cm1out_pdata_1km_5min_1e6np.nc\n",
      " Time steps:     133\n",
      "========================= \n",
      "\n",
      "=== DataManager Summary ===\n",
      " inputDirectory #:   /mnt/lustre/koa/koastore/torri_group/air_directory/Projects/DCI-Project/Code/OUTPUT/Variable_Calculation/TimeSplitModelData\n",
      " outputDirectory #:   /mnt/lustre/koa/koastore/torri_group/air_directory/Projects/DCI-Project/Code/OUTPUT/Variable_Calculation/LagrangianArrays\n",
      " inputDataDirectory #:   /mnt/lustre/koa/koastore/torri_group/air_directory/Projects/DCI-Project/Code/OUTPUT/Variable_Calculation/TimeSplitModelData/1km_5min_34nz/ModelData\n",
      " inputParcelDirectory #:   /mnt/lustre/koa/koastore/torri_group/air_directory/Projects/DCI-Project/Code/OUTPUT/Variable_Calculation/TimeSplitModelData/1km_5min_34nz/ParcelData\n",
      " outputDataDirectory #:   /mnt/lustre/koa/koastore/torri_group/air_directory/Projects/DCI-Project/Code/OUTPUT/Variable_Calculation/LagrangianArrays/1km_5min_34nz/PROCESSED_Lagrangian_Binary_Array\n",
      "========================= \n",
      "\n"
     ]
    }
   ],
   "source": [
    "#data loading class\n",
    "ModelData = ModelData_Class(mainDirectory, scratchDirectory, simulationNumber=1)\n",
    "#data manager class\n",
    "DataManager = DataManager_Class(mainDirectory, scratchDirectory, ModelData.res, ModelData.t_res, ModelData.Nz_str,\n",
    "                                ModelData.Np_str, dataType=\"LagrangianArrays\", dataName=\"PROCESSED_Lagrangian_Binary_Array\",\n",
    "                                dtype='int16')"
   ]
  },
  {
   "cell_type": "code",
   "execution_count": 40,
   "id": "dcd939c3-d800-4d98-b029-b466e15733eb",
   "metadata": {},
   "outputs": [],
   "source": [
    "####################################\n",
    "#MAKING OUTPUT DIRECTORY"
   ]
  },
  {
   "cell_type": "code",
   "execution_count": 41,
   "id": "141dda3c-b80c-40a4-8f0a-dfe74c1f1207",
   "metadata": {},
   "outputs": [],
   "source": [
    "#OUTPUT DIRECTORIES\n",
    "outputDirectory=os.path.join(mainDirectory,'Code','OUTPUT',\n",
    "                             'Variable_Calculation','LagrangianArrays')\n",
    "os.makedirs(outputDirectory, exist_ok=True)\n",
    "\n",
    "#Data Output Directories\n",
    "def MakeDataDirectories(outputDirectory,res,t_res,Nz_str):\n",
    "    outputDataDirectory = os.path.join(outputDirectory,f\"{res}_{t_res}_{Nz_str}nz\",\n",
    "                                       'PROCESSED_Lagrangian_Binary_Array')\n",
    "    os.makedirs(outputDataDirectory, exist_ok=True)\n",
    "\n",
    "    return outputDataDirectory"
   ]
  },
  {
   "cell_type": "code",
   "execution_count": 42,
   "id": "463026a3-d701-4def-b9b0-5cf68fc24cc0",
   "metadata": {
    "editable": true,
    "slideshow": {
     "slide_type": ""
    },
    "tags": []
   },
   "outputs": [],
   "source": [
    "####################################\n",
    "#FUNCTIONS"
   ]
  },
  {
   "cell_type": "code",
   "execution_count": 43,
   "id": "cd512b23-ebdc-4efd-8c7d-c77edd02c302",
   "metadata": {
    "editable": true,
    "slideshow": {
     "slide_type": ""
    },
    "tags": []
   },
   "outputs": [],
   "source": [
    "#LOADING DATA\n",
    "def GetDataDirectories(simulationNumber):\n",
    "    if simulationNumber == 1:\n",
    "        Directory=os.path.join(mainDirectory,'Model/cm1r20.3/run')\n",
    "        res='1km'; t_res='5min'; Np_str='1e6'; Nz_str='34'\n",
    "    elif simulationNumber == 2:\n",
    "        Directory=scratchDirectory\n",
    "        res='1km'; t_res='1min'; Np_str='50e6'; Nz_str='95'\n",
    "    elif simulationNumber == 3:\n",
    "        Directory=scratchDirectory\n",
    "        res='250m'; t_res='1min'; Np_str='50e6'; Nz_str='95'\n",
    "        \n",
    "    dataDirectory = os.path.join(Directory, f\"cm1out_{res}_{t_res}_{Nz_str}nz.nc\")\n",
    "    parcelDirectory = os.path.join(Directory,f\"cm1out_pdata_{res}_{t_res}_{Np_str}np.nc\")\n",
    "    return dataDirectory, parcelDirectory, res,t_res,Np_str,Nz_str"
   ]
  },
  {
   "cell_type": "code",
   "execution_count": 57,
   "id": "623c30b5-9683-436c-b8b8-73126b9fd5f1",
   "metadata": {},
   "outputs": [],
   "source": [
    "def GetDataNC(ModelData,DataManager):\n",
    "    filePath = DataManager.outputDataDirectory+f'/PROCESSED_Lagrangian_Binary_Array_{ModelData.res}_{ModelData.t_res}_{ModelData.Np_str}.h5'\n",
    "    ds = xr.open_dataset(filePath, engine='h5netcdf')\n",
    "    \n",
    "    ds = ds.rename({'phony_dim_0': 'time', 'phony_dim_1': 'p'})\n",
    "\n",
    "    print(f\"Retrieved data from {filePath}\")\n",
    "    return ds"
   ]
  },
  {
   "cell_type": "code",
   "execution_count": 58,
   "id": "3124857a-56b3-4b99-97d3-289d26daa058",
   "metadata": {
    "editable": true,
    "jupyter": {
     "source_hidden": true
    },
    "slideshow": {
     "slide_type": ""
    },
    "tags": []
   },
   "outputs": [],
   "source": [
    "# def WriteTimesteps_NetCDF(dataNC, parcelNC, timeStrings, res,t_res,Np_str,Nz_str, outputDataDirectory,outputParcelDirectory):\n",
    "        \n",
    "#     for count,time in tqdm(enumerate(timeStrings), total=len(timeStrings), desc=\"Writing timesteps\"):\n",
    "#         dataT = dataNC.isel(time=count)\n",
    "#         parcelT = parcelNC.isel(time=count)\n",
    "    \n",
    "#         #making filenames\n",
    "#         outputDataFile = os.path.join(outputDataDirectory, f\"cm1out_{res}_{t_res}_{Nz_str}nz_{time}.nc\")\n",
    "#         outputParcelFile = os.path.join(outputParcelDirectory, f\"cm1out_pdata_{res}_{t_res}_{Np_str}np_{time}.nc\")\n",
    "        \n",
    "#         dataT.to_netcdf(outputDataFile, engine=\"h5netcdf\")\n",
    "#         parcelT.to_netcdf(outputParcelFile, engine=\"h5netcdf\")\n",
    "\n",
    "# #EXAMPLE\n",
    "# WriteTimesteps_NetCDF(dataNC, parcelNC, timeStrings, res, t_res, Np_str, Nz_str,outputDataDirectory,outputParcelDirectory)"
   ]
  },
  {
   "cell_type": "code",
   "execution_count": 59,
   "id": "ebea432a-1c27-442f-9f00-4568a824f246",
   "metadata": {
    "editable": true,
    "jupyter": {
     "source_hidden": true
    },
    "slideshow": {
     "slide_type": ""
    },
    "tags": []
   },
   "outputs": [],
   "source": [
    "def WriteTimesteps_H5(dataNC, timeStrings, res, t_res, Np_str, Nz_str,\n",
    "                      outputDataDirectory):\n",
    "    \"\"\"\n",
    "    Writes each timestep of dataNC and parcelNC to separate .h5 files,\n",
    "    mirroring WriteTimestepsNetCDF but using h5py instead of xarray.to_netcdf.\n",
    "    \"\"\"\n",
    "    from tqdm import tqdm\n",
    "\n",
    "    for count, time in tqdm(enumerate(timeStrings), total=len(timeStrings), desc=\"Writing timesteps\"):\n",
    "        # Extract single timestep\n",
    "        dataT = dataNC.isel(time=count)\n",
    "\n",
    "        # Build file names (same as NetCDF version)\n",
    "        outputDataFile = os.path.join(\n",
    "            outputDataDirectory,\n",
    "            f\"PROCESSED_Lagrangian_Binary_Array_{res}_{t_res}_{Nz_str}nz_{time}.h5\"\n",
    "        )\n",
    "        \n",
    "        # --- Write data timestep ---\n",
    "        with h5py.File(outputDataFile, \"w\") as f_data:\n",
    "            for var_name, da in dataT.data_vars.items():\n",
    "                f_data.create_dataset(\n",
    "                    var_name,\n",
    "                    data=da.values,\n",
    "                    dtype=\"bool\",\n",
    "                    compression=\"gzip\"\n",
    "                )\n",
    "                # optionally save metadata\n",
    "                for attr, val in da.attrs.items():\n",
    "                    f_data[var_name].attrs[attr] = val\n",
    "\n",
    "        print(f\"Saved time {time} to {outputDataFile}\",\"\\n\")"
   ]
  },
  {
   "cell_type": "code",
   "execution_count": 60,
   "id": "4d48f32b-f0ef-411c-94d4-c2c314631498",
   "metadata": {
    "editable": true,
    "slideshow": {
     "slide_type": ""
    },
    "tags": []
   },
   "outputs": [],
   "source": [
    "####################################\n",
    "#RUNNING"
   ]
  },
  {
   "cell_type": "code",
   "execution_count": 62,
   "id": "12d27cdd-10da-4597-b00b-85a2dabc53e1",
   "metadata": {
    "editable": true,
    "scrolled": true,
    "slideshow": {
     "slide_type": ""
    },
    "tags": []
   },
   "outputs": [
    {
     "name": "stdout",
     "output_type": "stream",
     "text": [
      "Retrieved data from /mnt/lustre/koa/koastore/torri_group/air_directory/Projects/DCI-Project/Code/OUTPUT/Variable_Calculation/LagrangianArrays/1km_5min_34nz/PROCESSED_Lagrangian_Binary_Array/PROCESSED_Lagrangian_Binary_Array_1km_5min_1e6.h5\n"
     ]
    },
    {
     "name": "stderr",
     "output_type": "stream",
     "text": [
      "Writing timesteps:   4%|▍         | 5/133 [00:00<00:03, 38.19it/s]"
     ]
    },
    {
     "name": "stdout",
     "output_type": "stream",
     "text": [
      "Saved time 0-00-00 to /mnt/lustre/koa/koastore/torri_group/air_directory/Projects/DCI-Project/Code/OUTPUT/Variable_Calculation/LagrangianArrays/1km_5min_34nz/PROCESSED_Lagrangian_Binary_Array/PROCESSED_Lagrangian_Binary_Array_1km_5min_34nz_0-00-00.h5 \n",
      "\n",
      "Saved time 0-05-00 to /mnt/lustre/koa/koastore/torri_group/air_directory/Projects/DCI-Project/Code/OUTPUT/Variable_Calculation/LagrangianArrays/1km_5min_34nz/PROCESSED_Lagrangian_Binary_Array/PROCESSED_Lagrangian_Binary_Array_1km_5min_34nz_0-05-00.h5 \n",
      "\n",
      "Saved time 0-10-00 to /mnt/lustre/koa/koastore/torri_group/air_directory/Projects/DCI-Project/Code/OUTPUT/Variable_Calculation/LagrangianArrays/1km_5min_34nz/PROCESSED_Lagrangian_Binary_Array/PROCESSED_Lagrangian_Binary_Array_1km_5min_34nz_0-10-00.h5 \n",
      "\n",
      "Saved time 0-15-00 to /mnt/lustre/koa/koastore/torri_group/air_directory/Projects/DCI-Project/Code/OUTPUT/Variable_Calculation/LagrangianArrays/1km_5min_34nz/PROCESSED_Lagrangian_Binary_Array/PROCESSED_Lagrangian_Binary_Array_1km_5min_34nz_0-15-00.h5 \n",
      "\n",
      "Saved time 0-20-00 to /mnt/lustre/koa/koastore/torri_group/air_directory/Projects/DCI-Project/Code/OUTPUT/Variable_Calculation/LagrangianArrays/1km_5min_34nz/PROCESSED_Lagrangian_Binary_Array/PROCESSED_Lagrangian_Binary_Array_1km_5min_34nz_0-20-00.h5 \n",
      "\n",
      "Saved time 0-25-00 to /mnt/lustre/koa/koastore/torri_group/air_directory/Projects/DCI-Project/Code/OUTPUT/Variable_Calculation/LagrangianArrays/1km_5min_34nz/PROCESSED_Lagrangian_Binary_Array/PROCESSED_Lagrangian_Binary_Array_1km_5min_34nz_0-25-00.h5 \n",
      "\n",
      "Saved time 0-30-00 to /mnt/lustre/koa/koastore/torri_group/air_directory/Projects/DCI-Project/Code/OUTPUT/Variable_Calculation/LagrangianArrays/1km_5min_34nz/PROCESSED_Lagrangian_Binary_Array/PROCESSED_Lagrangian_Binary_Array_1km_5min_34nz_0-30-00.h5 \n",
      "\n"
     ]
    },
    {
     "name": "stderr",
     "output_type": "stream",
     "text": [
      "Writing timesteps:   7%|▋         | 9/133 [00:00<00:03, 38.32it/s]"
     ]
    },
    {
     "name": "stdout",
     "output_type": "stream",
     "text": [
      "Saved time 0-35-00 to /mnt/lustre/koa/koastore/torri_group/air_directory/Projects/DCI-Project/Code/OUTPUT/Variable_Calculation/LagrangianArrays/1km_5min_34nz/PROCESSED_Lagrangian_Binary_Array/PROCESSED_Lagrangian_Binary_Array_1km_5min_34nz_0-35-00.h5 \n",
      "\n",
      "Saved time 0-40-00 to /mnt/lustre/koa/koastore/torri_group/air_directory/Projects/DCI-Project/Code/OUTPUT/Variable_Calculation/LagrangianArrays/1km_5min_34nz/PROCESSED_Lagrangian_Binary_Array/PROCESSED_Lagrangian_Binary_Array_1km_5min_34nz_0-40-00.h5 \n",
      "\n"
     ]
    },
    {
     "name": "stderr",
     "output_type": "stream",
     "text": [
      "Writing timesteps:  10%|▉         | 13/133 [00:00<00:03, 37.82it/s]"
     ]
    },
    {
     "name": "stdout",
     "output_type": "stream",
     "text": [
      "Saved time 0-45-00 to /mnt/lustre/koa/koastore/torri_group/air_directory/Projects/DCI-Project/Code/OUTPUT/Variable_Calculation/LagrangianArrays/1km_5min_34nz/PROCESSED_Lagrangian_Binary_Array/PROCESSED_Lagrangian_Binary_Array_1km_5min_34nz_0-45-00.h5 \n",
      "\n",
      "Saved time 0-50-00 to /mnt/lustre/koa/koastore/torri_group/air_directory/Projects/DCI-Project/Code/OUTPUT/Variable_Calculation/LagrangianArrays/1km_5min_34nz/PROCESSED_Lagrangian_Binary_Array/PROCESSED_Lagrangian_Binary_Array_1km_5min_34nz_0-50-00.h5 \n",
      "\n",
      "Saved time 0-55-00 to /mnt/lustre/koa/koastore/torri_group/air_directory/Projects/DCI-Project/Code/OUTPUT/Variable_Calculation/LagrangianArrays/1km_5min_34nz/PROCESSED_Lagrangian_Binary_Array/PROCESSED_Lagrangian_Binary_Array_1km_5min_34nz_0-55-00.h5 \n",
      "\n",
      "Saved time 1-00-00 to /mnt/lustre/koa/koastore/torri_group/air_directory/Projects/DCI-Project/Code/OUTPUT/Variable_Calculation/LagrangianArrays/1km_5min_34nz/PROCESSED_Lagrangian_Binary_Array/PROCESSED_Lagrangian_Binary_Array_1km_5min_34nz_1-00-00.h5 \n",
      "\n",
      "Saved time 1-05-00 to /mnt/lustre/koa/koastore/torri_group/air_directory/Projects/DCI-Project/Code/OUTPUT/Variable_Calculation/LagrangianArrays/1km_5min_34nz/PROCESSED_Lagrangian_Binary_Array/PROCESSED_Lagrangian_Binary_Array_1km_5min_34nz_1-05-00.h5 \n",
      "\n",
      "Saved time 1-10-00 to /mnt/lustre/koa/koastore/torri_group/air_directory/Projects/DCI-Project/Code/OUTPUT/Variable_Calculation/LagrangianArrays/1km_5min_34nz/PROCESSED_Lagrangian_Binary_Array/PROCESSED_Lagrangian_Binary_Array_1km_5min_34nz_1-10-00.h5 \n",
      "\n"
     ]
    },
    {
     "name": "stderr",
     "output_type": "stream",
     "text": [
      "Writing timesteps:  13%|█▎        | 17/133 [00:00<00:03, 36.45it/s]"
     ]
    },
    {
     "name": "stdout",
     "output_type": "stream",
     "text": [
      "Saved time 1-15-00 to /mnt/lustre/koa/koastore/torri_group/air_directory/Projects/DCI-Project/Code/OUTPUT/Variable_Calculation/LagrangianArrays/1km_5min_34nz/PROCESSED_Lagrangian_Binary_Array/PROCESSED_Lagrangian_Binary_Array_1km_5min_34nz_1-15-00.h5 \n",
      "\n",
      "Saved time 1-20-00 to /mnt/lustre/koa/koastore/torri_group/air_directory/Projects/DCI-Project/Code/OUTPUT/Variable_Calculation/LagrangianArrays/1km_5min_34nz/PROCESSED_Lagrangian_Binary_Array/PROCESSED_Lagrangian_Binary_Array_1km_5min_34nz_1-20-00.h5 \n",
      "\n",
      "Saved time 1-25-00 to /mnt/lustre/koa/koastore/torri_group/air_directory/Projects/DCI-Project/Code/OUTPUT/Variable_Calculation/LagrangianArrays/1km_5min_34nz/PROCESSED_Lagrangian_Binary_Array/PROCESSED_Lagrangian_Binary_Array_1km_5min_34nz_1-25-00.h5 \n",
      "\n",
      "Saved time 1-30-00 to /mnt/lustre/koa/koastore/torri_group/air_directory/Projects/DCI-Project/Code/OUTPUT/Variable_Calculation/LagrangianArrays/1km_5min_34nz/PROCESSED_Lagrangian_Binary_Array/PROCESSED_Lagrangian_Binary_Array_1km_5min_34nz_1-30-00.h5 \n",
      "\n",
      "Saved time 1-35-00 to /mnt/lustre/koa/koastore/torri_group/air_directory/Projects/DCI-Project/Code/OUTPUT/Variable_Calculation/LagrangianArrays/1km_5min_34nz/PROCESSED_Lagrangian_Binary_Array/PROCESSED_Lagrangian_Binary_Array_1km_5min_34nz_1-35-00.h5 \n",
      "\n",
      "Saved time 1-40-00 to /mnt/lustre/koa/koastore/torri_group/air_directory/Projects/DCI-Project/Code/OUTPUT/Variable_Calculation/LagrangianArrays/1km_5min_34nz/PROCESSED_Lagrangian_Binary_Array/PROCESSED_Lagrangian_Binary_Array_1km_5min_34nz_1-40-00.h5"
     ]
    },
    {
     "name": "stderr",
     "output_type": "stream",
     "text": [
      "Writing timesteps:  19%|█▉        | 25/133 [00:00<00:03, 28.74it/s]"
     ]
    },
    {
     "name": "stdout",
     "output_type": "stream",
     "text": [
      " \n",
      "\n",
      "Saved time 1-45-00 to /mnt/lustre/koa/koastore/torri_group/air_directory/Projects/DCI-Project/Code/OUTPUT/Variable_Calculation/LagrangianArrays/1km_5min_34nz/PROCESSED_Lagrangian_Binary_Array/PROCESSED_Lagrangian_Binary_Array_1km_5min_34nz_1-45-00.h5 \n",
      "\n",
      "Saved time 1-50-00 to /mnt/lustre/koa/koastore/torri_group/air_directory/Projects/DCI-Project/Code/OUTPUT/Variable_Calculation/LagrangianArrays/1km_5min_34nz/PROCESSED_Lagrangian_Binary_Array/PROCESSED_Lagrangian_Binary_Array_1km_5min_34nz_1-50-00.h5 \n",
      "\n",
      "Saved time 1-55-00 to /mnt/lustre/koa/koastore/torri_group/air_directory/Projects/DCI-Project/Code/OUTPUT/Variable_Calculation/LagrangianArrays/1km_5min_34nz/PROCESSED_Lagrangian_Binary_Array/PROCESSED_Lagrangian_Binary_Array_1km_5min_34nz_1-55-00.h5 \n",
      "\n",
      "Saved time 2-00-00 to /mnt/lustre/koa/koastore/torri_group/air_directory/Projects/DCI-Project/Code/OUTPUT/Variable_Calculation/LagrangianArrays/1km_5min_34nz/PROCESSED_Lagrangian_Binary_Array/PROCESSED_Lagrangian_Binary_Array_1km_5min_34nz_2-00-00.h5 \n",
      "\n",
      "Saved time 2-05-00 to /mnt/lustre/koa/koastore/torri_group/air_directory/Projects/DCI-Project/Code/OUTPUT/Variable_Calculation/LagrangianArrays/1km_5min_34nz/PROCESSED_Lagrangian_Binary_Array/PROCESSED_Lagrangian_Binary_Array_1km_5min_34nz_2-05-00.h5 \n",
      "\n",
      "Saved time 2-10-00 to /mnt/lustre/koa/koastore/torri_group/air_directory/Projects/DCI-Project/Code/OUTPUT/Variable_Calculation/LagrangianArrays/1km_5min_34nz/PROCESSED_Lagrangian_Binary_Array/PROCESSED_Lagrangian_Binary_Array_1km_5min_34nz_2-10-00.h5 \n",
      "\n"
     ]
    },
    {
     "name": "stderr",
     "output_type": "stream",
     "text": [
      "Writing timesteps:  25%|██▍       | 33/133 [00:01<00:03, 28.52it/s]"
     ]
    },
    {
     "name": "stdout",
     "output_type": "stream",
     "text": [
      "Saved time 2-15-00 to /mnt/lustre/koa/koastore/torri_group/air_directory/Projects/DCI-Project/Code/OUTPUT/Variable_Calculation/LagrangianArrays/1km_5min_34nz/PROCESSED_Lagrangian_Binary_Array/PROCESSED_Lagrangian_Binary_Array_1km_5min_34nz_2-15-00.h5 \n",
      "\n",
      "Saved time 2-20-00 to /mnt/lustre/koa/koastore/torri_group/air_directory/Projects/DCI-Project/Code/OUTPUT/Variable_Calculation/LagrangianArrays/1km_5min_34nz/PROCESSED_Lagrangian_Binary_Array/PROCESSED_Lagrangian_Binary_Array_1km_5min_34nz_2-20-00.h5 \n",
      "\n",
      "Saved time 2-25-00 to /mnt/lustre/koa/koastore/torri_group/air_directory/Projects/DCI-Project/Code/OUTPUT/Variable_Calculation/LagrangianArrays/1km_5min_34nz/PROCESSED_Lagrangian_Binary_Array/PROCESSED_Lagrangian_Binary_Array_1km_5min_34nz_2-25-00.h5 \n",
      "\n",
      "Saved time 2-30-00 to /mnt/lustre/koa/koastore/torri_group/air_directory/Projects/DCI-Project/Code/OUTPUT/Variable_Calculation/LagrangianArrays/1km_5min_34nz/PROCESSED_Lagrangian_Binary_Array/PROCESSED_Lagrangian_Binary_Array_1km_5min_34nz_2-30-00.h5 \n",
      "\n",
      "Saved time 2-35-00 to /mnt/lustre/koa/koastore/torri_group/air_directory/Projects/DCI-Project/Code/OUTPUT/Variable_Calculation/LagrangianArrays/1km_5min_34nz/PROCESSED_Lagrangian_Binary_Array/PROCESSED_Lagrangian_Binary_Array_1km_5min_34nz_2-35-00.h5 \n",
      "\n",
      "Saved time 2-40-00 to /mnt/lustre/koa/koastore/torri_group/air_directory/Projects/DCI-Project/Code/OUTPUT/Variable_Calculation/LagrangianArrays/1km_5min_34nz/PROCESSED_Lagrangian_Binary_Array/PROCESSED_Lagrangian_Binary_Array_1km_5min_34nz_2-40-00.h5 \n",
      "\n"
     ]
    },
    {
     "name": "stderr",
     "output_type": "stream",
     "text": [
      "Writing timesteps:  31%|███       | 41/133 [00:01<00:02, 32.13it/s]"
     ]
    },
    {
     "name": "stdout",
     "output_type": "stream",
     "text": [
      "Saved time 2-45-00 to /mnt/lustre/koa/koastore/torri_group/air_directory/Projects/DCI-Project/Code/OUTPUT/Variable_Calculation/LagrangianArrays/1km_5min_34nz/PROCESSED_Lagrangian_Binary_Array/PROCESSED_Lagrangian_Binary_Array_1km_5min_34nz_2-45-00.h5 \n",
      "\n",
      "Saved time 2-50-00 to /mnt/lustre/koa/koastore/torri_group/air_directory/Projects/DCI-Project/Code/OUTPUT/Variable_Calculation/LagrangianArrays/1km_5min_34nz/PROCESSED_Lagrangian_Binary_Array/PROCESSED_Lagrangian_Binary_Array_1km_5min_34nz_2-50-00.h5 \n",
      "\n",
      "Saved time 2-55-00 to /mnt/lustre/koa/koastore/torri_group/air_directory/Projects/DCI-Project/Code/OUTPUT/Variable_Calculation/LagrangianArrays/1km_5min_34nz/PROCESSED_Lagrangian_Binary_Array/PROCESSED_Lagrangian_Binary_Array_1km_5min_34nz_2-55-00.h5 \n",
      "\n",
      "Saved time 3-00-00 to /mnt/lustre/koa/koastore/torri_group/air_directory/Projects/DCI-Project/Code/OUTPUT/Variable_Calculation/LagrangianArrays/1km_5min_34nz/PROCESSED_Lagrangian_Binary_Array/PROCESSED_Lagrangian_Binary_Array_1km_5min_34nz_3-00-00.h5 \n",
      "\n",
      "Saved time 3-05-00 to /mnt/lustre/koa/koastore/torri_group/air_directory/Projects/DCI-Project/Code/OUTPUT/Variable_Calculation/LagrangianArrays/1km_5min_34nz/PROCESSED_Lagrangian_Binary_Array/PROCESSED_Lagrangian_Binary_Array_1km_5min_34nz_3-05-00.h5 \n",
      "\n",
      "Saved time 3-10-00 to /mnt/lustre/koa/koastore/torri_group/air_directory/Projects/DCI-Project/Code/OUTPUT/Variable_Calculation/LagrangianArrays/1km_5min_34nz/PROCESSED_Lagrangian_Binary_Array/PROCESSED_Lagrangian_Binary_Array_1km_5min_34nz_3-10-00.h5 \n",
      "\n",
      "Saved time 3-15-00 to /mnt/lustre/koa/koastore/torri_group/air_directory/Projects/DCI-Project/Code/OUTPUT/Variable_Calculation/LagrangianArrays/1km_5min_34nz/PROCESSED_Lagrangian_Binary_Array/PROCESSED_Lagrangian_Binary_Array_1km_5min_34nz_3-15-00.h5 \n",
      "\n",
      "Saved time 3-20-00 to /mnt/lustre/koa/koastore/torri_group/air_directory/Projects/DCI-Project/Code/OUTPUT/Variable_Calculation/LagrangianArrays/1km_5min_34nz/PROCESSED_Lagrangian_Binary_Array/PROCESSED_Lagrangian_Binary_Array_1km_5min_34nz_3-20-00.h5 \n",
      "\n",
      "Saved time 3-25-00 to /mnt/lustre/koa/koastore/torri_group/air_directory/Projects/DCI-Project/Code/OUTPUT/Variable_Calculation/LagrangianArrays/1km_5min_34nz/PROCESSED_Lagrangian_Binary_Array/PROCESSED_Lagrangian_Binary_Array_1km_5min_34nz_3-25-00.h5 \n",
      "\n"
     ]
    },
    {
     "name": "stderr",
     "output_type": "stream",
     "text": [
      "Writing timesteps:  34%|███▍      | 45/133 [00:01<00:02, 33.46it/s]"
     ]
    },
    {
     "name": "stdout",
     "output_type": "stream",
     "text": [
      "Saved time 3-30-00 to /mnt/lustre/koa/koastore/torri_group/air_directory/Projects/DCI-Project/Code/OUTPUT/Variable_Calculation/LagrangianArrays/1km_5min_34nz/PROCESSED_Lagrangian_Binary_Array/PROCESSED_Lagrangian_Binary_Array_1km_5min_34nz_3-30-00.h5 \n",
      "\n",
      "Saved time 3-35-00 to /mnt/lustre/koa/koastore/torri_group/air_directory/Projects/DCI-Project/Code/OUTPUT/Variable_Calculation/LagrangianArrays/1km_5min_34nz/PROCESSED_Lagrangian_Binary_Array/PROCESSED_Lagrangian_Binary_Array_1km_5min_34nz_3-35-00.h5 \n",
      "\n",
      "Saved time 3-40-00 to /mnt/lustre/koa/koastore/torri_group/air_directory/Projects/DCI-Project/Code/OUTPUT/Variable_Calculation/LagrangianArrays/1km_5min_34nz/PROCESSED_Lagrangian_Binary_Array/PROCESSED_Lagrangian_Binary_Array_1km_5min_34nz_3-40-00.h5 \n",
      "\n",
      "Saved time 3-45-00 to /mnt/lustre/koa/koastore/torri_group/air_directory/Projects/DCI-Project/Code/OUTPUT/Variable_Calculation/LagrangianArrays/1km_5min_34nz/PROCESSED_Lagrangian_Binary_Array/PROCESSED_Lagrangian_Binary_Array_1km_5min_34nz_3-45-00.h5 \n",
      "\n",
      "Saved time 3-50-00 to /mnt/lustre/koa/koastore/torri_group/air_directory/Projects/DCI-Project/Code/OUTPUT/Variable_Calculation/LagrangianArrays/1km_5min_34nz/PROCESSED_Lagrangian_Binary_Array/PROCESSED_Lagrangian_Binary_Array_1km_5min_34nz_3-50-00.h5 \n",
      "\n"
     ]
    },
    {
     "name": "stderr",
     "output_type": "stream",
     "text": [
      "Writing timesteps:  40%|███▉      | 53/133 [00:01<00:02, 26.82it/s]"
     ]
    },
    {
     "name": "stdout",
     "output_type": "stream",
     "text": [
      "Saved time 3-55-00 to /mnt/lustre/koa/koastore/torri_group/air_directory/Projects/DCI-Project/Code/OUTPUT/Variable_Calculation/LagrangianArrays/1km_5min_34nz/PROCESSED_Lagrangian_Binary_Array/PROCESSED_Lagrangian_Binary_Array_1km_5min_34nz_3-55-00.h5 \n",
      "\n",
      "Saved time 4-00-00 to /mnt/lustre/koa/koastore/torri_group/air_directory/Projects/DCI-Project/Code/OUTPUT/Variable_Calculation/LagrangianArrays/1km_5min_34nz/PROCESSED_Lagrangian_Binary_Array/PROCESSED_Lagrangian_Binary_Array_1km_5min_34nz_4-00-00.h5 \n",
      "\n",
      "Saved time 4-05-00 to /mnt/lustre/koa/koastore/torri_group/air_directory/Projects/DCI-Project/Code/OUTPUT/Variable_Calculation/LagrangianArrays/1km_5min_34nz/PROCESSED_Lagrangian_Binary_Array/PROCESSED_Lagrangian_Binary_Array_1km_5min_34nz_4-05-00.h5 \n",
      "\n",
      "Saved time 4-10-00 to /mnt/lustre/koa/koastore/torri_group/air_directory/Projects/DCI-Project/Code/OUTPUT/Variable_Calculation/LagrangianArrays/1km_5min_34nz/PROCESSED_Lagrangian_Binary_Array/PROCESSED_Lagrangian_Binary_Array_1km_5min_34nz_4-10-00.h5 \n",
      "\n",
      "Saved time 4-15-00 to /mnt/lustre/koa/koastore/torri_group/air_directory/Projects/DCI-Project/Code/OUTPUT/Variable_Calculation/LagrangianArrays/1km_5min_34nz/PROCESSED_Lagrangian_Binary_Array/PROCESSED_Lagrangian_Binary_Array_1km_5min_34nz_4-15-00.h5 \n",
      "\n",
      "Saved time 4-20-00 to /mnt/lustre/koa/koastore/torri_group/air_directory/Projects/DCI-Project/Code/OUTPUT/Variable_Calculation/LagrangianArrays/1km_5min_34nz/PROCESSED_Lagrangian_Binary_Array/PROCESSED_Lagrangian_Binary_Array_1km_5min_34nz_4-20-00.h5 \n",
      "\n"
     ]
    },
    {
     "name": "stderr",
     "output_type": "stream",
     "text": [
      "Writing timesteps:  43%|████▎     | 57/133 [00:01<00:02, 29.02it/s]"
     ]
    },
    {
     "name": "stdout",
     "output_type": "stream",
     "text": [
      "Saved time 4-25-00 to /mnt/lustre/koa/koastore/torri_group/air_directory/Projects/DCI-Project/Code/OUTPUT/Variable_Calculation/LagrangianArrays/1km_5min_34nz/PROCESSED_Lagrangian_Binary_Array/PROCESSED_Lagrangian_Binary_Array_1km_5min_34nz_4-25-00.h5 \n",
      "\n",
      "Saved time 4-30-00 to /mnt/lustre/koa/koastore/torri_group/air_directory/Projects/DCI-Project/Code/OUTPUT/Variable_Calculation/LagrangianArrays/1km_5min_34nz/PROCESSED_Lagrangian_Binary_Array/PROCESSED_Lagrangian_Binary_Array_1km_5min_34nz_4-30-00.h5 \n",
      "\n",
      "Saved time 4-35-00 to /mnt/lustre/koa/koastore/torri_group/air_directory/Projects/DCI-Project/Code/OUTPUT/Variable_Calculation/LagrangianArrays/1km_5min_34nz/PROCESSED_Lagrangian_Binary_Array/PROCESSED_Lagrangian_Binary_Array_1km_5min_34nz_4-35-00.h5 \n",
      "\n",
      "Saved time 4-40-00 to /mnt/lustre/koa/koastore/torri_group/air_directory/Projects/DCI-Project/Code/OUTPUT/Variable_Calculation/LagrangianArrays/1km_5min_34nz/PROCESSED_Lagrangian_Binary_Array/PROCESSED_Lagrangian_Binary_Array_1km_5min_34nz_4-40-00.h5 \n",
      "\n",
      "Saved time 4-45-00 to /mnt/lustre/koa/koastore/torri_group/air_directory/Projects/DCI-Project/Code/OUTPUT/Variable_Calculation/LagrangianArrays/1km_5min_34nz/PROCESSED_Lagrangian_Binary_Array/PROCESSED_Lagrangian_Binary_Array_1km_5min_34nz_4-45-00.h5 \n",
      "\n",
      "Saved time 4-50-00 to /mnt/lustre/koa/koastore/torri_group/air_directory/Projects/DCI-Project/Code/OUTPUT/Variable_Calculation/LagrangianArrays/1km_5min_34nz/PROCESSED_Lagrangian_Binary_Array/PROCESSED_Lagrangian_Binary_Array_1km_5min_34nz_4-50-00.h5 \n",
      "\n",
      "Saved time 4-55-00 to /mnt/lustre/koa/koastore/torri_group/air_directory/Projects/DCI-Project/Code/OUTPUT/Variable_Calculation/LagrangianArrays/1km_5min_34nz/PROCESSED_Lagrangian_Binary_Array/PROCESSED_Lagrangian_Binary_Array_1km_5min_34nz_4-55-00.h5 \n",
      "\n"
     ]
    },
    {
     "name": "stderr",
     "output_type": "stream",
     "text": [
      "Writing timesteps:  49%|████▉     | 65/133 [00:02<00:02, 27.74it/s]"
     ]
    },
    {
     "name": "stdout",
     "output_type": "stream",
     "text": [
      "Saved time 5-00-00 to /mnt/lustre/koa/koastore/torri_group/air_directory/Projects/DCI-Project/Code/OUTPUT/Variable_Calculation/LagrangianArrays/1km_5min_34nz/PROCESSED_Lagrangian_Binary_Array/PROCESSED_Lagrangian_Binary_Array_1km_5min_34nz_5-00-00.h5 \n",
      "\n",
      "Saved time 5-05-00 to /mnt/lustre/koa/koastore/torri_group/air_directory/Projects/DCI-Project/Code/OUTPUT/Variable_Calculation/LagrangianArrays/1km_5min_34nz/PROCESSED_Lagrangian_Binary_Array/PROCESSED_Lagrangian_Binary_Array_1km_5min_34nz_5-05-00.h5 \n",
      "\n",
      "Saved time 5-10-00 to /mnt/lustre/koa/koastore/torri_group/air_directory/Projects/DCI-Project/Code/OUTPUT/Variable_Calculation/LagrangianArrays/1km_5min_34nz/PROCESSED_Lagrangian_Binary_Array/PROCESSED_Lagrangian_Binary_Array_1km_5min_34nz_5-10-00.h5 \n",
      "\n",
      "Saved time 5-15-00 to /mnt/lustre/koa/koastore/torri_group/air_directory/Projects/DCI-Project/Code/OUTPUT/Variable_Calculation/LagrangianArrays/1km_5min_34nz/PROCESSED_Lagrangian_Binary_Array/PROCESSED_Lagrangian_Binary_Array_1km_5min_34nz_5-15-00.h5 \n",
      "\n",
      "Saved time 5-20-00 to /mnt/lustre/koa/koastore/torri_group/air_directory/Projects/DCI-Project/Code/OUTPUT/Variable_Calculation/LagrangianArrays/1km_5min_34nz/PROCESSED_Lagrangian_Binary_Array/PROCESSED_Lagrangian_Binary_Array_1km_5min_34nz_5-20-00.h5 \n",
      "\n",
      "Saved time 5-25-00 to /mnt/lustre/koa/koastore/torri_group/air_directory/Projects/DCI-Project/Code/OUTPUT/Variable_Calculation/LagrangianArrays/1km_5min_34nz/PROCESSED_Lagrangian_Binary_Array/PROCESSED_Lagrangian_Binary_Array_1km_5min_34nz_5-25-00.h5 \n",
      "\n",
      "Saved time 5-30-00 to /mnt/lustre/koa/koastore/torri_group/air_directory/Projects/DCI-Project/Code/OUTPUT/Variable_Calculation/LagrangianArrays/1km_5min_34nz/PROCESSED_Lagrangian_Binary_Array/PROCESSED_Lagrangian_Binary_Array_1km_5min_34nz_5-30-00.h5 \n",
      "\n"
     ]
    },
    {
     "name": "stderr",
     "output_type": "stream",
     "text": [
      "Writing timesteps:  51%|█████     | 68/133 [00:02<00:02, 27.72it/s]"
     ]
    },
    {
     "name": "stdout",
     "output_type": "stream",
     "text": [
      "Saved time 5-35-00 to /mnt/lustre/koa/koastore/torri_group/air_directory/Projects/DCI-Project/Code/OUTPUT/Variable_Calculation/LagrangianArrays/1km_5min_34nz/PROCESSED_Lagrangian_Binary_Array/PROCESSED_Lagrangian_Binary_Array_1km_5min_34nz_5-35-00.h5 \n",
      "\n",
      "Saved time 5-40-00 to /mnt/lustre/koa/koastore/torri_group/air_directory/Projects/DCI-Project/Code/OUTPUT/Variable_Calculation/LagrangianArrays/1km_5min_34nz/PROCESSED_Lagrangian_Binary_Array/PROCESSED_Lagrangian_Binary_Array_1km_5min_34nz_5-40-00.h5 \n",
      "\n",
      "Saved time 5-45-00 to /mnt/lustre/koa/koastore/torri_group/air_directory/Projects/DCI-Project/Code/OUTPUT/Variable_Calculation/LagrangianArrays/1km_5min_34nz/PROCESSED_Lagrangian_Binary_Array/PROCESSED_Lagrangian_Binary_Array_1km_5min_34nz_5-45-00.h5 \n",
      "\n"
     ]
    },
    {
     "name": "stderr",
     "output_type": "stream",
     "text": [
      "Writing timesteps:  56%|█████▋    | 75/133 [00:02<00:02, 24.22it/s]"
     ]
    },
    {
     "name": "stdout",
     "output_type": "stream",
     "text": [
      "Saved time 5-50-00 to /mnt/lustre/koa/koastore/torri_group/air_directory/Projects/DCI-Project/Code/OUTPUT/Variable_Calculation/LagrangianArrays/1km_5min_34nz/PROCESSED_Lagrangian_Binary_Array/PROCESSED_Lagrangian_Binary_Array_1km_5min_34nz_5-50-00.h5 \n",
      "\n",
      "Saved time 5-55-00 to /mnt/lustre/koa/koastore/torri_group/air_directory/Projects/DCI-Project/Code/OUTPUT/Variable_Calculation/LagrangianArrays/1km_5min_34nz/PROCESSED_Lagrangian_Binary_Array/PROCESSED_Lagrangian_Binary_Array_1km_5min_34nz_5-55-00.h5 \n",
      "\n",
      "Saved time 6-00-00 to /mnt/lustre/koa/koastore/torri_group/air_directory/Projects/DCI-Project/Code/OUTPUT/Variable_Calculation/LagrangianArrays/1km_5min_34nz/PROCESSED_Lagrangian_Binary_Array/PROCESSED_Lagrangian_Binary_Array_1km_5min_34nz_6-00-00.h5 \n",
      "\n",
      "Saved time 6-05-00 to /mnt/lustre/koa/koastore/torri_group/air_directory/Projects/DCI-Project/Code/OUTPUT/Variable_Calculation/LagrangianArrays/1km_5min_34nz/PROCESSED_Lagrangian_Binary_Array/PROCESSED_Lagrangian_Binary_Array_1km_5min_34nz_6-05-00.h5 \n",
      "\n",
      "Saved time 6-10-00 to /mnt/lustre/koa/koastore/torri_group/air_directory/Projects/DCI-Project/Code/OUTPUT/Variable_Calculation/LagrangianArrays/1km_5min_34nz/PROCESSED_Lagrangian_Binary_Array/PROCESSED_Lagrangian_Binary_Array_1km_5min_34nz_6-10-00.h5 \n",
      "\n",
      "Saved time 6-15-00 to /mnt/lustre/koa/koastore/torri_group/air_directory/Projects/DCI-Project/Code/OUTPUT/Variable_Calculation/LagrangianArrays/1km_5min_34nz/PROCESSED_Lagrangian_Binary_Array/PROCESSED_Lagrangian_Binary_Array_1km_5min_34nz_6-15-00.h5 \n",
      "\n",
      "Saved time 6-20-00 to /mnt/lustre/koa/koastore/torri_group/air_directory/Projects/DCI-Project/Code/OUTPUT/Variable_Calculation/LagrangianArrays/1km_5min_34nz/PROCESSED_Lagrangian_Binary_Array/PROCESSED_Lagrangian_Binary_Array_1km_5min_34nz_6-20-00.h5 \n",
      "\n"
     ]
    },
    {
     "name": "stderr",
     "output_type": "stream",
     "text": [
      "Writing timesteps:  59%|█████▊    | 78/133 [00:02<00:02, 25.24it/s]"
     ]
    },
    {
     "name": "stdout",
     "output_type": "stream",
     "text": [
      "Saved time 6-25-00 to /mnt/lustre/koa/koastore/torri_group/air_directory/Projects/DCI-Project/Code/OUTPUT/Variable_Calculation/LagrangianArrays/1km_5min_34nz/PROCESSED_Lagrangian_Binary_Array/PROCESSED_Lagrangian_Binary_Array_1km_5min_34nz_6-25-00.h5 \n",
      "\n",
      "Saved time 6-30-00 to /mnt/lustre/koa/koastore/torri_group/air_directory/Projects/DCI-Project/Code/OUTPUT/Variable_Calculation/LagrangianArrays/1km_5min_34nz/PROCESSED_Lagrangian_Binary_Array/PROCESSED_Lagrangian_Binary_Array_1km_5min_34nz_6-30-00.h5 \n",
      "\n",
      "Saved time 6-35-00 to /mnt/lustre/koa/koastore/torri_group/air_directory/Projects/DCI-Project/Code/OUTPUT/Variable_Calculation/LagrangianArrays/1km_5min_34nz/PROCESSED_Lagrangian_Binary_Array/PROCESSED_Lagrangian_Binary_Array_1km_5min_34nz_6-35-00.h5 \n",
      "\n"
     ]
    },
    {
     "name": "stderr",
     "output_type": "stream",
     "text": [
      "Writing timesteps:  64%|██████▍   | 85/133 [00:03<00:02, 21.53it/s]"
     ]
    },
    {
     "name": "stdout",
     "output_type": "stream",
     "text": [
      "Saved time 6-40-00 to /mnt/lustre/koa/koastore/torri_group/air_directory/Projects/DCI-Project/Code/OUTPUT/Variable_Calculation/LagrangianArrays/1km_5min_34nz/PROCESSED_Lagrangian_Binary_Array/PROCESSED_Lagrangian_Binary_Array_1km_5min_34nz_6-40-00.h5 \n",
      "\n",
      "Saved time 6-45-00 to /mnt/lustre/koa/koastore/torri_group/air_directory/Projects/DCI-Project/Code/OUTPUT/Variable_Calculation/LagrangianArrays/1km_5min_34nz/PROCESSED_Lagrangian_Binary_Array/PROCESSED_Lagrangian_Binary_Array_1km_5min_34nz_6-45-00.h5 \n",
      "\n",
      "Saved time 6-50-00 to /mnt/lustre/koa/koastore/torri_group/air_directory/Projects/DCI-Project/Code/OUTPUT/Variable_Calculation/LagrangianArrays/1km_5min_34nz/PROCESSED_Lagrangian_Binary_Array/PROCESSED_Lagrangian_Binary_Array_1km_5min_34nz_6-50-00.h5 \n",
      "\n",
      "Saved time 6-55-00 to /mnt/lustre/koa/koastore/torri_group/air_directory/Projects/DCI-Project/Code/OUTPUT/Variable_Calculation/LagrangianArrays/1km_5min_34nz/PROCESSED_Lagrangian_Binary_Array/PROCESSED_Lagrangian_Binary_Array_1km_5min_34nz_6-55-00.h5 \n",
      "\n",
      "Saved time 7-00-00 to /mnt/lustre/koa/koastore/torri_group/air_directory/Projects/DCI-Project/Code/OUTPUT/Variable_Calculation/LagrangianArrays/1km_5min_34nz/PROCESSED_Lagrangian_Binary_Array/PROCESSED_Lagrangian_Binary_Array_1km_5min_34nz_7-00-00.h5 \n",
      "\n"
     ]
    },
    {
     "name": "stderr",
     "output_type": "stream",
     "text": [
      "Writing timesteps:  66%|██████▌   | 88/133 [00:03<00:02, 21.78it/s]"
     ]
    },
    {
     "name": "stdout",
     "output_type": "stream",
     "text": [
      "Saved time 7-05-00 to /mnt/lustre/koa/koastore/torri_group/air_directory/Projects/DCI-Project/Code/OUTPUT/Variable_Calculation/LagrangianArrays/1km_5min_34nz/PROCESSED_Lagrangian_Binary_Array/PROCESSED_Lagrangian_Binary_Array_1km_5min_34nz_7-05-00.h5 \n",
      "\n",
      "Saved time 7-10-00 to /mnt/lustre/koa/koastore/torri_group/air_directory/Projects/DCI-Project/Code/OUTPUT/Variable_Calculation/LagrangianArrays/1km_5min_34nz/PROCESSED_Lagrangian_Binary_Array/PROCESSED_Lagrangian_Binary_Array_1km_5min_34nz_7-10-00.h5 \n",
      "\n",
      "Saved time 7-15-00 to /mnt/lustre/koa/koastore/torri_group/air_directory/Projects/DCI-Project/Code/OUTPUT/Variable_Calculation/LagrangianArrays/1km_5min_34nz/PROCESSED_Lagrangian_Binary_Array/PROCESSED_Lagrangian_Binary_Array_1km_5min_34nz_7-15-00.h5 \n",
      "\n",
      "Saved time 7-20-00 to /mnt/lustre/koa/koastore/torri_group/air_directory/Projects/DCI-Project/Code/OUTPUT/Variable_Calculation/LagrangianArrays/1km_5min_34nz/PROCESSED_Lagrangian_Binary_Array/PROCESSED_Lagrangian_Binary_Array_1km_5min_34nz_7-20-00.h5 \n",
      "\n",
      "Saved time 7-25-00 to /mnt/lustre/koa/koastore/torri_group/air_directory/Projects/DCI-Project/Code/OUTPUT/Variable_Calculation/LagrangianArrays/1km_5min_34nz/PROCESSED_Lagrangian_Binary_Array/PROCESSED_Lagrangian_Binary_Array_1km_5min_34nz_7-25-00.h5 \n",
      "\n"
     ]
    },
    {
     "name": "stderr",
     "output_type": "stream",
     "text": [
      "Writing timesteps:  71%|███████   | 94/133 [00:03<00:01, 22.45it/s]"
     ]
    },
    {
     "name": "stdout",
     "output_type": "stream",
     "text": [
      "Saved time 7-30-00 to /mnt/lustre/koa/koastore/torri_group/air_directory/Projects/DCI-Project/Code/OUTPUT/Variable_Calculation/LagrangianArrays/1km_5min_34nz/PROCESSED_Lagrangian_Binary_Array/PROCESSED_Lagrangian_Binary_Array_1km_5min_34nz_7-30-00.h5 \n",
      "\n",
      "Saved time 7-35-00 to /mnt/lustre/koa/koastore/torri_group/air_directory/Projects/DCI-Project/Code/OUTPUT/Variable_Calculation/LagrangianArrays/1km_5min_34nz/PROCESSED_Lagrangian_Binary_Array/PROCESSED_Lagrangian_Binary_Array_1km_5min_34nz_7-35-00.h5 \n",
      "\n",
      "Saved time 7-40-00 to /mnt/lustre/koa/koastore/torri_group/air_directory/Projects/DCI-Project/Code/OUTPUT/Variable_Calculation/LagrangianArrays/1km_5min_34nz/PROCESSED_Lagrangian_Binary_Array/PROCESSED_Lagrangian_Binary_Array_1km_5min_34nz_7-40-00.h5 \n",
      "\n",
      "Saved time 7-45-00 to /mnt/lustre/koa/koastore/torri_group/air_directory/Projects/DCI-Project/Code/OUTPUT/Variable_Calculation/LagrangianArrays/1km_5min_34nz/PROCESSED_Lagrangian_Binary_Array/PROCESSED_Lagrangian_Binary_Array_1km_5min_34nz_7-45-00.h5 \n",
      "\n",
      "Saved time 7-50-00 to /mnt/lustre/koa/koastore/torri_group/air_directory/Projects/DCI-Project/Code/OUTPUT/Variable_Calculation/LagrangianArrays/1km_5min_34nz/PROCESSED_Lagrangian_Binary_Array/PROCESSED_Lagrangian_Binary_Array_1km_5min_34nz_7-50-00.h5 \n",
      "\n",
      "Saved time 7-55-00 to /mnt/lustre/koa/koastore/torri_group/air_directory/Projects/DCI-Project/Code/OUTPUT/Variable_Calculation/LagrangianArrays/1km_5min_34nz/PROCESSED_Lagrangian_Binary_Array/PROCESSED_Lagrangian_Binary_Array_1km_5min_34nz_7-55-00.h5 \n",
      "\n"
     ]
    },
    {
     "name": "stderr",
     "output_type": "stream",
     "text": [
      "Writing timesteps:  75%|███████▌  | 100/133 [00:03<00:01, 24.18it/s]"
     ]
    },
    {
     "name": "stdout",
     "output_type": "stream",
     "text": [
      "Saved time 8-00-00 to /mnt/lustre/koa/koastore/torri_group/air_directory/Projects/DCI-Project/Code/OUTPUT/Variable_Calculation/LagrangianArrays/1km_5min_34nz/PROCESSED_Lagrangian_Binary_Array/PROCESSED_Lagrangian_Binary_Array_1km_5min_34nz_8-00-00.h5 \n",
      "\n",
      "Saved time 8-05-00 to /mnt/lustre/koa/koastore/torri_group/air_directory/Projects/DCI-Project/Code/OUTPUT/Variable_Calculation/LagrangianArrays/1km_5min_34nz/PROCESSED_Lagrangian_Binary_Array/PROCESSED_Lagrangian_Binary_Array_1km_5min_34nz_8-05-00.h5 \n",
      "\n",
      "Saved time 8-10-00 to /mnt/lustre/koa/koastore/torri_group/air_directory/Projects/DCI-Project/Code/OUTPUT/Variable_Calculation/LagrangianArrays/1km_5min_34nz/PROCESSED_Lagrangian_Binary_Array/PROCESSED_Lagrangian_Binary_Array_1km_5min_34nz_8-10-00.h5 \n",
      "\n",
      "Saved time 8-15-00 to /mnt/lustre/koa/koastore/torri_group/air_directory/Projects/DCI-Project/Code/OUTPUT/Variable_Calculation/LagrangianArrays/1km_5min_34nz/PROCESSED_Lagrangian_Binary_Array/PROCESSED_Lagrangian_Binary_Array_1km_5min_34nz_8-15-00.h5 \n",
      "\n",
      "Saved time 8-20-00 to /mnt/lustre/koa/koastore/torri_group/air_directory/Projects/DCI-Project/Code/OUTPUT/Variable_Calculation/LagrangianArrays/1km_5min_34nz/PROCESSED_Lagrangian_Binary_Array/PROCESSED_Lagrangian_Binary_Array_1km_5min_34nz_8-20-00.h5 \n",
      "\n"
     ]
    },
    {
     "name": "stderr",
     "output_type": "stream",
     "text": [
      "Writing timesteps:  77%|███████▋  | 103/133 [00:03<00:01, 23.57it/s]"
     ]
    },
    {
     "name": "stdout",
     "output_type": "stream",
     "text": [
      "Saved time 8-25-00 to /mnt/lustre/koa/koastore/torri_group/air_directory/Projects/DCI-Project/Code/OUTPUT/Variable_Calculation/LagrangianArrays/1km_5min_34nz/PROCESSED_Lagrangian_Binary_Array/PROCESSED_Lagrangian_Binary_Array_1km_5min_34nz_8-25-00.h5 \n",
      "\n",
      "Saved time 8-30-00 to /mnt/lustre/koa/koastore/torri_group/air_directory/Projects/DCI-Project/Code/OUTPUT/Variable_Calculation/LagrangianArrays/1km_5min_34nz/PROCESSED_Lagrangian_Binary_Array/PROCESSED_Lagrangian_Binary_Array_1km_5min_34nz_8-30-00.h5 \n",
      "\n",
      "Saved time 8-35-00 to /mnt/lustre/koa/koastore/torri_group/air_directory/Projects/DCI-Project/Code/OUTPUT/Variable_Calculation/LagrangianArrays/1km_5min_34nz/PROCESSED_Lagrangian_Binary_Array/PROCESSED_Lagrangian_Binary_Array_1km_5min_34nz_8-35-00.h5 \n",
      "\n",
      "Saved time 8-40-00 to /mnt/lustre/koa/koastore/torri_group/air_directory/Projects/DCI-Project/Code/OUTPUT/Variable_Calculation/LagrangianArrays/1km_5min_34nz/PROCESSED_Lagrangian_Binary_Array/PROCESSED_Lagrangian_Binary_Array_1km_5min_34nz_8-40-00.h5 \n",
      "\n"
     ]
    },
    {
     "name": "stderr",
     "output_type": "stream",
     "text": [
      "Writing timesteps:  80%|███████▉  | 106/133 [00:04<00:01, 21.19it/s]"
     ]
    },
    {
     "name": "stdout",
     "output_type": "stream",
     "text": [
      "Saved time 8-45-00 to /mnt/lustre/koa/koastore/torri_group/air_directory/Projects/DCI-Project/Code/OUTPUT/Variable_Calculation/LagrangianArrays/1km_5min_34nz/PROCESSED_Lagrangian_Binary_Array/PROCESSED_Lagrangian_Binary_Array_1km_5min_34nz_8-45-00.h5 \n",
      "\n",
      "Saved time 8-50-00 to /mnt/lustre/koa/koastore/torri_group/air_directory/Projects/DCI-Project/Code/OUTPUT/Variable_Calculation/LagrangianArrays/1km_5min_34nz/PROCESSED_Lagrangian_Binary_Array/PROCESSED_Lagrangian_Binary_Array_1km_5min_34nz_8-50-00.h5 \n",
      "\n"
     ]
    },
    {
     "name": "stderr",
     "output_type": "stream",
     "text": [
      "Writing timesteps:  84%|████████▍ | 112/133 [00:04<00:01, 15.12it/s]"
     ]
    },
    {
     "name": "stdout",
     "output_type": "stream",
     "text": [
      "Saved time 8-55-00 to /mnt/lustre/koa/koastore/torri_group/air_directory/Projects/DCI-Project/Code/OUTPUT/Variable_Calculation/LagrangianArrays/1km_5min_34nz/PROCESSED_Lagrangian_Binary_Array/PROCESSED_Lagrangian_Binary_Array_1km_5min_34nz_8-55-00.h5 \n",
      "\n",
      "Saved time 9-00-00 to /mnt/lustre/koa/koastore/torri_group/air_directory/Projects/DCI-Project/Code/OUTPUT/Variable_Calculation/LagrangianArrays/1km_5min_34nz/PROCESSED_Lagrangian_Binary_Array/PROCESSED_Lagrangian_Binary_Array_1km_5min_34nz_9-00-00.h5 \n",
      "\n",
      "Saved time 9-05-00 to /mnt/lustre/koa/koastore/torri_group/air_directory/Projects/DCI-Project/Code/OUTPUT/Variable_Calculation/LagrangianArrays/1km_5min_34nz/PROCESSED_Lagrangian_Binary_Array/PROCESSED_Lagrangian_Binary_Array_1km_5min_34nz_9-05-00.h5 \n",
      "\n",
      "Saved time 9-10-00 to /mnt/lustre/koa/koastore/torri_group/air_directory/Projects/DCI-Project/Code/OUTPUT/Variable_Calculation/LagrangianArrays/1km_5min_34nz/PROCESSED_Lagrangian_Binary_Array/PROCESSED_Lagrangian_Binary_Array_1km_5min_34nz_9-10-00.h5 \n",
      "\n",
      "Saved time 9-15-00 to /mnt/lustre/koa/koastore/torri_group/air_directory/Projects/DCI-Project/Code/OUTPUT/Variable_Calculation/LagrangianArrays/1km_5min_34nz/PROCESSED_Lagrangian_Binary_Array/PROCESSED_Lagrangian_Binary_Array_1km_5min_34nz_9-15-00.h5 \n",
      "\n"
     ]
    },
    {
     "name": "stderr",
     "output_type": "stream",
     "text": [
      "Writing timesteps:  89%|████████▊ | 118/133 [00:04<00:00, 18.73it/s]"
     ]
    },
    {
     "name": "stdout",
     "output_type": "stream",
     "text": [
      "Saved time 9-20-00 to /mnt/lustre/koa/koastore/torri_group/air_directory/Projects/DCI-Project/Code/OUTPUT/Variable_Calculation/LagrangianArrays/1km_5min_34nz/PROCESSED_Lagrangian_Binary_Array/PROCESSED_Lagrangian_Binary_Array_1km_5min_34nz_9-20-00.h5 \n",
      "\n",
      "Saved time 9-25-00 to /mnt/lustre/koa/koastore/torri_group/air_directory/Projects/DCI-Project/Code/OUTPUT/Variable_Calculation/LagrangianArrays/1km_5min_34nz/PROCESSED_Lagrangian_Binary_Array/PROCESSED_Lagrangian_Binary_Array_1km_5min_34nz_9-25-00.h5 \n",
      "\n",
      "Saved time 9-30-00 to /mnt/lustre/koa/koastore/torri_group/air_directory/Projects/DCI-Project/Code/OUTPUT/Variable_Calculation/LagrangianArrays/1km_5min_34nz/PROCESSED_Lagrangian_Binary_Array/PROCESSED_Lagrangian_Binary_Array_1km_5min_34nz_9-30-00.h5 \n",
      "\n",
      "Saved time 9-35-00 to /mnt/lustre/koa/koastore/torri_group/air_directory/Projects/DCI-Project/Code/OUTPUT/Variable_Calculation/LagrangianArrays/1km_5min_34nz/PROCESSED_Lagrangian_Binary_Array/PROCESSED_Lagrangian_Binary_Array_1km_5min_34nz_9-35-00.h5 \n",
      "\n",
      "Saved time 9-40-00 to /mnt/lustre/koa/koastore/torri_group/air_directory/Projects/DCI-Project/Code/OUTPUT/Variable_Calculation/LagrangianArrays/1km_5min_34nz/PROCESSED_Lagrangian_Binary_Array/PROCESSED_Lagrangian_Binary_Array_1km_5min_34nz_9-40-00.h5 \n",
      "\n",
      "Saved time 9-45-00 to /mnt/lustre/koa/koastore/torri_group/air_directory/Projects/DCI-Project/Code/OUTPUT/Variable_Calculation/LagrangianArrays/1km_5min_34nz/PROCESSED_Lagrangian_Binary_Array/PROCESSED_Lagrangian_Binary_Array_1km_5min_34nz_9-45-00.h5 \n",
      "\n"
     ]
    },
    {
     "name": "stderr",
     "output_type": "stream",
     "text": [
      "Writing timesteps:  92%|█████████▏| 122/133 [00:05<00:00, 22.27it/s]"
     ]
    },
    {
     "name": "stdout",
     "output_type": "stream",
     "text": [
      "Saved time 9-50-00 to /mnt/lustre/koa/koastore/torri_group/air_directory/Projects/DCI-Project/Code/OUTPUT/Variable_Calculation/LagrangianArrays/1km_5min_34nz/PROCESSED_Lagrangian_Binary_Array/PROCESSED_Lagrangian_Binary_Array_1km_5min_34nz_9-50-00.h5 \n",
      "\n",
      "Saved time 9-55-00 to /mnt/lustre/koa/koastore/torri_group/air_directory/Projects/DCI-Project/Code/OUTPUT/Variable_Calculation/LagrangianArrays/1km_5min_34nz/PROCESSED_Lagrangian_Binary_Array/PROCESSED_Lagrangian_Binary_Array_1km_5min_34nz_9-55-00.h5 \n",
      "\n",
      "Saved time 10-00-00 to /mnt/lustre/koa/koastore/torri_group/air_directory/Projects/DCI-Project/Code/OUTPUT/Variable_Calculation/LagrangianArrays/1km_5min_34nz/PROCESSED_Lagrangian_Binary_Array/PROCESSED_Lagrangian_Binary_Array_1km_5min_34nz_10-00-00.h5 \n",
      "\n",
      "Saved time 10-05-00 to /mnt/lustre/koa/koastore/torri_group/air_directory/Projects/DCI-Project/Code/OUTPUT/Variable_Calculation/LagrangianArrays/1km_5min_34nz/PROCESSED_Lagrangian_Binary_Array/PROCESSED_Lagrangian_Binary_Array_1km_5min_34nz_10-05-00.h5 \n",
      "\n",
      "Saved time 10-10-00 to /mnt/lustre/koa/koastore/torri_group/air_directory/Projects/DCI-Project/Code/OUTPUT/Variable_Calculation/LagrangianArrays/1km_5min_34nz/PROCESSED_Lagrangian_Binary_Array/PROCESSED_Lagrangian_Binary_Array_1km_5min_34nz_10-10-00.h5 \n",
      "\n",
      "Saved time 10-15-00 to /mnt/lustre/koa/koastore/torri_group/air_directory/Projects/DCI-Project/Code/OUTPUT/Variable_Calculation/LagrangianArrays/1km_5min_34nz/PROCESSED_Lagrangian_Binary_Array/PROCESSED_Lagrangian_Binary_Array_1km_5min_34nz_10-15-00.h5 \n",
      "\n"
     ]
    },
    {
     "name": "stderr",
     "output_type": "stream",
     "text": [
      "Writing timesteps:  96%|█████████▌| 128/133 [00:05<00:00, 23.05it/s]"
     ]
    },
    {
     "name": "stdout",
     "output_type": "stream",
     "text": [
      "Saved time 10-20-00 to /mnt/lustre/koa/koastore/torri_group/air_directory/Projects/DCI-Project/Code/OUTPUT/Variable_Calculation/LagrangianArrays/1km_5min_34nz/PROCESSED_Lagrangian_Binary_Array/PROCESSED_Lagrangian_Binary_Array_1km_5min_34nz_10-20-00.h5 \n",
      "\n",
      "Saved time 10-25-00 to /mnt/lustre/koa/koastore/torri_group/air_directory/Projects/DCI-Project/Code/OUTPUT/Variable_Calculation/LagrangianArrays/1km_5min_34nz/PROCESSED_Lagrangian_Binary_Array/PROCESSED_Lagrangian_Binary_Array_1km_5min_34nz_10-25-00.h5 \n",
      "\n",
      "Saved time 10-30-00 to /mnt/lustre/koa/koastore/torri_group/air_directory/Projects/DCI-Project/Code/OUTPUT/Variable_Calculation/LagrangianArrays/1km_5min_34nz/PROCESSED_Lagrangian_Binary_Array/PROCESSED_Lagrangian_Binary_Array_1km_5min_34nz_10-30-00.h5 \n",
      "\n",
      "Saved time 10-35-00 to /mnt/lustre/koa/koastore/torri_group/air_directory/Projects/DCI-Project/Code/OUTPUT/Variable_Calculation/LagrangianArrays/1km_5min_34nz/PROCESSED_Lagrangian_Binary_Array/PROCESSED_Lagrangian_Binary_Array_1km_5min_34nz_10-35-00.h5 \n",
      "\n",
      "Saved time 10-40-00 to /mnt/lustre/koa/koastore/torri_group/air_directory/Projects/DCI-Project/Code/OUTPUT/Variable_Calculation/LagrangianArrays/1km_5min_34nz/PROCESSED_Lagrangian_Binary_Array/PROCESSED_Lagrangian_Binary_Array_1km_5min_34nz_10-40-00.h5 \n",
      "\n"
     ]
    },
    {
     "name": "stderr",
     "output_type": "stream",
     "text": [
      "Writing timesteps: 100%|██████████| 133/133 [00:05<00:00, 24.02it/s]"
     ]
    },
    {
     "name": "stdout",
     "output_type": "stream",
     "text": [
      "Saved time 10-45-00 to /mnt/lustre/koa/koastore/torri_group/air_directory/Projects/DCI-Project/Code/OUTPUT/Variable_Calculation/LagrangianArrays/1km_5min_34nz/PROCESSED_Lagrangian_Binary_Array/PROCESSED_Lagrangian_Binary_Array_1km_5min_34nz_10-45-00.h5 \n",
      "\n",
      "Saved time 10-50-00 to /mnt/lustre/koa/koastore/torri_group/air_directory/Projects/DCI-Project/Code/OUTPUT/Variable_Calculation/LagrangianArrays/1km_5min_34nz/PROCESSED_Lagrangian_Binary_Array/PROCESSED_Lagrangian_Binary_Array_1km_5min_34nz_10-50-00.h5 \n",
      "\n",
      "Saved time 10-55-00 to /mnt/lustre/koa/koastore/torri_group/air_directory/Projects/DCI-Project/Code/OUTPUT/Variable_Calculation/LagrangianArrays/1km_5min_34nz/PROCESSED_Lagrangian_Binary_Array/PROCESSED_Lagrangian_Binary_Array_1km_5min_34nz_10-55-00.h5 \n",
      "\n",
      "Saved time 11-00-00 to /mnt/lustre/koa/koastore/torri_group/air_directory/Projects/DCI-Project/Code/OUTPUT/Variable_Calculation/LagrangianArrays/1km_5min_34nz/PROCESSED_Lagrangian_Binary_Array/PROCESSED_Lagrangian_Binary_Array_1km_5min_34nz_11-00-00.h5 \n",
      "\n"
     ]
    },
    {
     "name": "stderr",
     "output_type": "stream",
     "text": [
      "\n"
     ]
    }
   ],
   "source": [
    "#getting data\n",
    "dataNC = GetDataNC(ModelData,DataManager)\n",
    "\n",
    "outputDataDirectory = MakeDataDirectories(outputDirectory,ModelData.res,ModelData.t_res,ModelData.Nz_str)\n",
    "\n",
    "# running\n",
    "WriteTimesteps_H5(dataNC, ModelData.timeStrings, ModelData.res, ModelData.t_res, ModelData.Np_str, ModelData.Nz_str,outputDataDirectory)"
   ]
  }
 ],
 "metadata": {
  "kernelspec": {
   "display_name": "Python 3 (ipykernel)",
   "language": "python",
   "name": "python3"
  },
  "language_info": {
   "codemirror_mode": {
    "name": "ipython",
    "version": 3
   },
   "file_extension": ".py",
   "mimetype": "text/x-python",
   "name": "python",
   "nbconvert_exporter": "python",
   "pygments_lexer": "ipython3",
   "version": "3.11.8"
  }
 },
 "nbformat": 4,
 "nbformat_minor": 5
}

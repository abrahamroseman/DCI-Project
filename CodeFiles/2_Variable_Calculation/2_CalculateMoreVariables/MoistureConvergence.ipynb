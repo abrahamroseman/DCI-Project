{
 "cells": [
  {
   "cell_type": "code",
   "execution_count": 1,
   "id": "9a5f8cb3-ee26-417a-b83d-70e1f361dfb6",
   "metadata": {},
   "outputs": [],
   "source": [
    "####################################\n",
    "#ENVIRONMENT SETUP"
   ]
  },
  {
   "cell_type": "code",
   "execution_count": 2,
   "id": "f55f8c0d-02de-4e99-9d90-9282362b2c69",
   "metadata": {},
   "outputs": [],
   "source": [
    "#Importing Libraries\n",
    "import numpy as np\n",
    "import matplotlib.pyplot as plt\n",
    "import matplotlib.colors as mcolors\n",
    "import matplotlib.ticker as ticker\n",
    "import matplotlib.cm as cm\n",
    "from matplotlib.colors import Normalize\n",
    "from matplotlib.ticker import MaxNLocator\n",
    "from matplotlib.ticker import ScalarFormatter\n",
    "import matplotlib.gridspec as gridspec\n",
    "import xarray as xr\n",
    "\n",
    "import sys; import os; import time; from datetime import timedelta\n",
    "import pickle\n",
    "import h5py"
   ]
  },
  {
   "cell_type": "code",
   "execution_count": 3,
   "id": "a4935873-a9c4-448b-a02b-12b80afc8ad6",
   "metadata": {},
   "outputs": [],
   "source": [
    "#MAIN DIRECTORIES\n",
    "def GetDirectories():\n",
    "    mainDirectory='/mnt/lustre/koa/koastore/torri_group/air_directory/Projects/DCI-Project/'\n",
    "    mainCodeDirectory=os.path.join(mainDirectory,\"Code/CodeFiles/\")\n",
    "    scratchDirectory='/mnt/lustre/koa/scratch/air673/'\n",
    "    codeDirectory=os.getcwd()\n",
    "    return mainDirectory,mainCodeDirectory,scratchDirectory,codeDirectory\n",
    "\n",
    "[mainDirectory,mainCodeDirectory,scratchDirectory,codeDirectory] = GetDirectories()"
   ]
  },
  {
   "cell_type": "code",
   "execution_count": 4,
   "id": "21c911ab-cf4b-4a30-816c-8fbd0917fc0a",
   "metadata": {},
   "outputs": [],
   "source": [
    "#IMPORT CLASSES (from current directory)\n",
    "sys.path.append(os.path.join(mainCodeDirectory,\"2_Variable_Calculation\"))\n",
    "from CLASSES_Variable_Calculation import ModelData_Class, SlurmJobArray_Class, DataManager_Class"
   ]
  },
  {
   "cell_type": "code",
   "execution_count": 5,
   "id": "1a5f2477-dc38-46f4-a98b-e5207de3dc83",
   "metadata": {},
   "outputs": [],
   "source": [
    "import sys\n",
    "path=os.path.join(mainCodeDirectory,'Functions/')\n",
    "sys.path.append(path)\n",
    "\n",
    "import NumericalFunctions\n",
    "from NumericalFunctions import * # import NumericalFunctions \n",
    "import PlottingFunctions\n",
    "from PlottingFunctions import * # import PlottingFunctions\n",
    "\n",
    "# # Get all functions in NumericalFunctions\n",
    "# import inspect\n",
    "# functions = [f[0] for f in inspect.getmembers(NumericalFunctions, inspect.isfunction)]\n",
    "# functions"
   ]
  },
  {
   "cell_type": "code",
   "execution_count": 6,
   "id": "7eb8ede7-4e87-40dc-8b8a-036b16be0fcb",
   "metadata": {},
   "outputs": [],
   "source": [
    "####################################\n",
    "#LOADING CLASSES"
   ]
  },
  {
   "cell_type": "code",
   "execution_count": 7,
   "id": "1a993db7-5e9c-43d6-867e-7235f09aec20",
   "metadata": {},
   "outputs": [
    {
     "name": "stdout",
     "output_type": "stream",
     "text": [
      "=== CM1 Data Summary ===\n",
      " Simulation #:   1\n",
      " Resolution:     1km\n",
      " Time step:      5min\n",
      " Vertical levels:34\n",
      " Parcels:        1e6\n",
      " Data file:      /mnt/lustre/koa/koastore/torri_group/air_directory/Projects/DCI-Project/Model/cm1r20.3/run/cm1out_1km_5min_34nz.nc\n",
      " Parcel file:    /mnt/lustre/koa/koastore/torri_group/air_directory/Projects/DCI-Project/Model/cm1r20.3/run/cm1out_pdata_1km_5min_1e6np.nc\n",
      " Time steps:     133\n",
      "========================= \n",
      "\n",
      "=== DataManager Summary ===\n",
      " inputDirectory #:   /mnt/lustre/koa/koastore/torri_group/air_directory/Projects/DCI-Project/Code/OUTPUT/Variable_Calculation/TimeSplitModelData\n",
      " outputDirectory #:   /mnt/lustre/koa/koastore/torri_group/air_directory/Projects/DCI-Project/Code/OUTPUT/Variable_Calculation/CalculateMoreVariables\n",
      " inputDataDirectory #:   /mnt/lustre/koa/koastore/torri_group/air_directory/Projects/DCI-Project/Code/OUTPUT/Variable_Calculation/TimeSplitModelData/1km_5min_34nz/ModelData\n",
      " outputDataDirectory #:   /mnt/lustre/koa/koastore/torri_group/air_directory/Projects/DCI-Project/Code/OUTPUT/Variable_Calculation/CalculateMoreVariables/1km_5min_34nz/MoistureConvergence\n",
      "========================= \n",
      "\n"
     ]
    }
   ],
   "source": [
    "#data loading class\n",
    "ModelData = ModelData_Class(mainDirectory, scratchDirectory, simulationNumber=1)\n",
    "#data manager class\n",
    "DataManager = DataManager_Class(mainDirectory, scratchDirectory, ModelData.res, ModelData.t_res, ModelData.Nz_str,\n",
    "                                ModelData.Np_str, dataType=\"CalculateMoreVariables\", dataName=\"MoistureConvergence\",\n",
    "                                dtype='float32')"
   ]
  },
  {
   "cell_type": "code",
   "execution_count": 8,
   "id": "9e4b9da0-465a-4ddb-a99a-adadaef3ce18",
   "metadata": {},
   "outputs": [
    {
     "name": "stdout",
     "output_type": "stream",
     "text": [
      "Running timesteps from 0:7 \n",
      "\n"
     ]
    }
   ],
   "source": [
    "#JOB ARRAY SETUP\n",
    "UsingJobArray=True\n",
    "\n",
    "def GetNumJobs(res):\n",
    "    if res=='1km':\n",
    "        num_jobs=20\n",
    "    elif res=='250m': \n",
    "        num_jobs=100\n",
    "    return num_jobs\n",
    "num_jobs = GetNumJobs(ModelData.res)\n",
    "SlurmJobArray = SlurmJobArray_Class(total_elements=ModelData.Ntime, num_jobs=num_jobs, UsingJobArray=UsingJobArray)\n",
    "start_job = SlurmJobArray.start_job; end_job = SlurmJobArray.end_job\n",
    "\n",
    "def GetNumElements():\n",
    "    num_elements = np.arange(ModelData.Ntime)[start_job:end_job]\n",
    "    return num_elements\n",
    "num_elements = GetNumElements()"
   ]
  },
  {
   "cell_type": "code",
   "execution_count": 9,
   "id": "d49e73ae-33ac-41ae-a377-fdf4443e5f6d",
   "metadata": {},
   "outputs": [],
   "source": [
    "####################################\n",
    "#FUNCTIONS"
   ]
  },
  {
   "cell_type": "code",
   "execution_count": 10,
   "id": "4a0b3cfe-cce2-44d7-ac98-e3a9987d1c03",
   "metadata": {},
   "outputs": [],
   "source": [
    "#FROM MOISTURE FLUX CONVERGENCE: ITS HISTORY AND APPLICATION IN CONVECTIVE INITIATION FORECASTING\n",
    "# Peter C. Banacos\n",
    "# NOAA/NWS/NCEP/Storm Prediction Center\n",
    "# Norman, Oklahoma 73069\n",
    "# David M. Schultz\n",
    "# Cooperative Institute for Mesoscale Meteorological Studies, Univ. of Oklahoma, and\n",
    "# NOAA/National Severe Storms Laboratory, Norman, Oklahoma 73069"
   ]
  },
  {
   "cell_type": "code",
   "execution_count": 11,
   "id": "6bc579cd-21fa-4c06-9314-23ee6ab9fe31",
   "metadata": {},
   "outputs": [],
   "source": [
    "#Calculation Functions\n",
    "def GetInputVariables(inputDataDirectory, timeString):\n",
    "    u_data = DataManager.GetTimestepData(inputDataDirectory, timeString, variableName=\"uinterp\")\n",
    "    v_data = DataManager.GetTimestepData(inputDataDirectory, timeString, variableName=\"vinterp\") \n",
    "    qv_data = DataManager.GetTimestepData(inputDataDirectory, timeString, variableName=\"qv\") \n",
    "    rho_data = DataManager.GetTimestepData(inputDataDirectory, timeString, variableName=\"rho\") \n",
    "\n",
    "    InputDictionary = {'u_data': u_data,\n",
    "                       'v_data': v_data,\n",
    "                       'qv_data': qv_data,\n",
    "                       'rho_data': rho_data}\n",
    "    return InputDictionary\n",
    "\n",
    "def VariableCalculation(inputDictionary):\n",
    "    [u_data, v_data, qv_data, rho_data] = (inputDictionary[k] for k in ['u_data', 'v_data', 'qv_data', 'rho_data'])\n",
    "\n",
    "    if ModelData.res=='1km':\n",
    "        dx=1000; dy=1000\n",
    "    elif ModelDatares=='250m':\n",
    "        dx=250; dy=250\n",
    "\n",
    "    #calculating moisture convergence\n",
    "    #NOTE: model was set to output interpolated (scalar) version of U and V\n",
    "    #NOTE: so I used central difference on the scalar versions of U and V\n",
    "    one=Ddx_3D(rho_data*qv_data*u_data,dx)\n",
    "    two=Ddy_3D(rho_data*qv_data*v_data,dy)\n",
    "    HMC=-(one+two)\n",
    "\n",
    "    outputDictionary = {\n",
    "        'HMC': HMC\n",
    "    }\n",
    "    return outputDictionary"
   ]
  },
  {
   "cell_type": "code",
   "execution_count": 12,
   "id": "3ab83694-d251-411f-8845-3eb9623090f5",
   "metadata": {},
   "outputs": [],
   "source": [
    "####################################\n",
    "#RUNNING"
   ]
  },
  {
   "cell_type": "code",
   "execution_count": 13,
   "id": "09933bbc-4ce9-4e94-8c36-e0ac96baf683",
   "metadata": {
    "scrolled": true
   },
   "outputs": [
    {
     "name": "stdout",
     "output_type": "stream",
     "text": [
      "Current time 0\n",
      "Saved timestep to output file: /mnt/lustre/koa/koastore/torri_group/air_directory/Projects/DCI-Project/Code/OUTPUT/Variable_Calculation/CalculateMoreVariables/1km_5min_34nz/MoistureConvergence/MoistureConvergence_1km_5min_34nz_0-00-00.h5\n",
      "Current time 1\n",
      "Saved timestep to output file: /mnt/lustre/koa/koastore/torri_group/air_directory/Projects/DCI-Project/Code/OUTPUT/Variable_Calculation/CalculateMoreVariables/1km_5min_34nz/MoistureConvergence/MoistureConvergence_1km_5min_34nz_0-05-00.h5\n",
      "Current time 2\n",
      "Saved timestep to output file: /mnt/lustre/koa/koastore/torri_group/air_directory/Projects/DCI-Project/Code/OUTPUT/Variable_Calculation/CalculateMoreVariables/1km_5min_34nz/MoistureConvergence/MoistureConvergence_1km_5min_34nz_0-10-00.h5\n",
      "Current time 3\n",
      "Saved timestep to output file: /mnt/lustre/koa/koastore/torri_group/air_directory/Projects/DCI-Project/Code/OUTPUT/Variable_Calculation/CalculateMoreVariables/1km_5min_34nz/MoistureConvergence/MoistureConvergence_1km_5min_34nz_0-15-00.h5\n",
      "Current time 4\n",
      "Saved timestep to output file: /mnt/lustre/koa/koastore/torri_group/air_directory/Projects/DCI-Project/Code/OUTPUT/Variable_Calculation/CalculateMoreVariables/1km_5min_34nz/MoistureConvergence/MoistureConvergence_1km_5min_34nz_0-20-00.h5\n",
      "Current time 5\n",
      "Saved timestep to output file: /mnt/lustre/koa/koastore/torri_group/air_directory/Projects/DCI-Project/Code/OUTPUT/Variable_Calculation/CalculateMoreVariables/1km_5min_34nz/MoistureConvergence/MoistureConvergence_1km_5min_34nz_0-25-00.h5\n",
      "Current time 6\n",
      "Saved timestep to output file: /mnt/lustre/koa/koastore/torri_group/air_directory/Projects/DCI-Project/Code/OUTPUT/Variable_Calculation/CalculateMoreVariables/1km_5min_34nz/MoistureConvergence/MoistureConvergence_1km_5min_34nz_0-30-00.h5\n"
     ]
    }
   ],
   "source": [
    "#CALCULATING AND APPENDING TO DATA EACH TIMESTEP\n",
    "for t in num_elements:\n",
    "    if np.mod(t,1)==0: print(f'Current time {t}')\n",
    "\n",
    "    #getting timestring for loading input data\n",
    "    timeString = ModelData.timeStrings[t]\n",
    "\n",
    "    #loading input variables\n",
    "    inputDictionary = GetInputVariables(DataManager.inputDataDirectory, timeString)\n",
    "\n",
    "    #calculating variables\n",
    "    outputDictionary = VariableCalculation(inputDictionary)\n",
    "    \n",
    "    #outputting\n",
    "    DataManager.SaveOutputTimestep(DataManager.outputDataDirectory, timeString, outputDictionary)"
   ]
  },
  {
   "cell_type": "code",
   "execution_count": null,
   "id": "58e4c812-bdff-4a03-8618-9e1a51c54f35",
   "metadata": {},
   "outputs": [],
   "source": []
  },
  {
   "cell_type": "code",
   "execution_count": null,
   "id": "7e587693-eb82-4ced-a974-86142ab98476",
   "metadata": {},
   "outputs": [],
   "source": []
  },
  {
   "cell_type": "code",
   "execution_count": null,
   "id": "aa4dce89-4e7e-4db5-8f58-7cf6131523f9",
   "metadata": {},
   "outputs": [],
   "source": []
  },
  {
   "cell_type": "code",
   "execution_count": null,
   "id": "1442806d-7c54-4ddd-81b5-14b8ab2e87f3",
   "metadata": {},
   "outputs": [],
   "source": [
    "######################################################"
   ]
  },
  {
   "cell_type": "code",
   "execution_count": 15,
   "id": "deb8b032-f3c1-4943-b336-20fc17c9bb7b",
   "metadata": {},
   "outputs": [],
   "source": [
    "# #READING BACK IN\n",
    "# def GetVariableData(t, dataName=\"MoistureConvergence\"):\n",
    "#     res = ModelData.res\n",
    "#     t_res = ModelData.t_res\n",
    "#     Nz_str = ModelData.Nz_str\n",
    "#     inputDirectory = os.path.join(DataManager.outputDirectory, f\"{res}_{t_res}_{Nz_str}nz\", dataName)\n",
    "#     timeString = ModelData.timeStrings[t]\n",
    "\n",
    "#     FileName = os.path.join(inputDirectory, f\"{dataName}_{res}_{t_res}_{Nz_str}nz_{timeString}.h5\")\n",
    "\n",
    "#     dataDictionary = {}\n",
    "#     with h5py.File(FileName, 'r') as f:\n",
    "#         print(\"Keys in file:\", list(f.keys()))\n",
    "#         for key in f.keys():\n",
    "#             dataDictionary[key] = f[key][:]\n",
    "#             print(f\"{key}: shape = {dataDictionary[key].shape}, dtype = {dataDictionary[key].dtype}\")\n",
    "#     return dataDictionary\n",
    "\n",
    "# dataDictionary = GetVariableData(t=0)"
   ]
  }
 ],
 "metadata": {
  "kernelspec": {
   "display_name": "work",
   "language": "python",
   "name": "work"
  },
  "language_info": {
   "codemirror_mode": {
    "name": "ipython",
    "version": 3
   },
   "file_extension": ".py",
   "mimetype": "text/x-python",
   "name": "python",
   "nbconvert_exporter": "python",
   "pygments_lexer": "ipython3",
   "version": "3.13.5"
  }
 },
 "nbformat": 4,
 "nbformat_minor": 5
}

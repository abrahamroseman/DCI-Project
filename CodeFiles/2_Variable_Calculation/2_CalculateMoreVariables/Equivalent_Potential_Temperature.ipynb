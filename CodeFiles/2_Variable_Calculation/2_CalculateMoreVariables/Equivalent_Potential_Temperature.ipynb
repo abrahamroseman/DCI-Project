{
 "cells": [
  {
   "cell_type": "code",
   "execution_count": 1,
   "id": "40cd1498-5696-429a-837f-aad22805da76",
   "metadata": {},
   "outputs": [],
   "source": [
    "####################################\n",
    "#ENVIRONMENT SETUP"
   ]
  },
  {
   "cell_type": "code",
   "execution_count": 2,
   "id": "ecd5021a-04d1-43c6-a4c3-b65e8d94880a",
   "metadata": {},
   "outputs": [],
   "source": [
    "#Importing Libraries\n",
    "import numpy as np\n",
    "import matplotlib.pyplot as plt\n",
    "import matplotlib.colors as mcolors\n",
    "import matplotlib.ticker as ticker\n",
    "import matplotlib.cm as cm\n",
    "from matplotlib.colors import Normalize\n",
    "from matplotlib.ticker import MaxNLocator\n",
    "from matplotlib.ticker import ScalarFormatter\n",
    "import matplotlib.gridspec as gridspec\n",
    "import xarray as xr\n",
    "\n",
    "import sys; import os; import time; from datetime import timedelta\n",
    "import pickle\n",
    "import h5py"
   ]
  },
  {
   "cell_type": "code",
   "execution_count": 3,
   "id": "fb21c9c3-9490-45bf-96c2-2375e00372e5",
   "metadata": {},
   "outputs": [],
   "source": [
    "#MAIN DIRECTORIES\n",
    "def GetDirectories():\n",
    "    mainDirectory='/mnt/lustre/koa/koastore/torri_group/air_directory/Projects/DCI-Project/'\n",
    "    mainCodeDirectory=os.path.join(mainDirectory,\"Code/CodeFiles/\")\n",
    "    scratchDirectory='/mnt/lustre/koa/scratch/air673/'\n",
    "    codeDirectory=os.getcwd()\n",
    "    return mainDirectory,mainCodeDirectory,scratchDirectory,codeDirectory\n",
    "\n",
    "[mainDirectory,mainCodeDirectory,scratchDirectory,codeDirectory] = GetDirectories()"
   ]
  },
  {
   "cell_type": "code",
   "execution_count": 4,
   "id": "7d0edc43-c3eb-46b9-aa18-605810911bb8",
   "metadata": {},
   "outputs": [],
   "source": [
    "#IMPORT CLASSES (from current directory)\n",
    "sys.path.append(os.path.join(mainCodeDirectory,\"Variable_Calculation\"))\n",
    "from CLASSES_Variable_Calculation import ModelData_Class, SlurmJobArray_Class, DataManager_Class"
   ]
  },
  {
   "cell_type": "code",
   "execution_count": 5,
   "id": "2cb5f5dd-fafa-4372-a31a-498b22257199",
   "metadata": {},
   "outputs": [],
   "source": [
    "####################################\n",
    "#LOADING CLASSES"
   ]
  },
  {
   "cell_type": "code",
   "execution_count": null,
   "id": "fe3b45dc-18ee-4ed1-87a4-7449b4ea18fb",
   "metadata": {},
   "outputs": [],
   "source": [
    "#data loading class\n",
    "ModelData = ModelData_Class(mainDirectory, scratchDirectory, simulationNumber=1)\n",
    "#data manager class\n",
    "DataManager = DataManager_Class(mainDirectory, scratchDirectory, ModelData.res, ModelData.t_res, ModelData.Nz_str,\n",
    "                                ModelData.Np_str, dataType=\"CalculateMoreVariables\", dataName=\"Equivalent_Potential_Temperature\",\n",
    "                                dtype='float32')"
   ]
  },
  {
   "cell_type": "code",
   "execution_count": 7,
   "id": "eb3734e5-dfa4-4d36-8e5c-2e724777aff8",
   "metadata": {},
   "outputs": [
    {
     "name": "stdout",
     "output_type": "stream",
     "text": [
      "Running timesteps from 0:7 \n",
      "\n"
     ]
    }
   ],
   "source": [
    "#JOB ARRAY SETUP\n",
    "UsingJobArray=True\n",
    "\n",
    "def GetNumJobs(res):\n",
    "    if res=='1km':\n",
    "        num_jobs=20\n",
    "    elif res=='250m': \n",
    "        num_jobs=100\n",
    "    return num_jobs\n",
    "num_jobs = GetNumJobs(ModelData.res)\n",
    "SlurmJobArray = SlurmJobArray_Class(total_elements=ModelData.Ntime, num_jobs=num_jobs, UsingJobArray=UsingJobArray)\n",
    "start_job = SlurmJobArray.start_job; end_job = SlurmJobArray.end_job\n",
    "\n",
    "def GetNumElements():\n",
    "    num_elements = np.arange(ModelData.Ntime)[start_job:end_job]\n",
    "    return num_elements\n",
    "num_elements = GetNumElements()\n"
   ]
  },
  {
   "cell_type": "code",
   "execution_count": 8,
   "id": "3a7bb736-44ef-4abf-b0c6-b59e397476ef",
   "metadata": {},
   "outputs": [],
   "source": [
    "####################################\n",
    "#FUNCTIONS"
   ]
  },
  {
   "cell_type": "code",
   "execution_count": 9,
   "id": "6dfbb443-2a8e-4257-922d-ecf1f85dce57",
   "metadata": {},
   "outputs": [],
   "source": [
    "#Calculation Functions\n",
    "def GetInputVariables(inputDataDirectory, timeString):    \n",
    "    \n",
    "    ################################# PRESSURE VARIABLES\n",
    "    p0=1e5\n",
    "    P = DataManager.GetTimestepData(inputDataDirectory, timeString, variableName=\"prs\")\n",
    "    \n",
    "    ################################# MIXING RATIO\n",
    "    rv = DataManager.GetTimestepData(inputDataDirectory, timeString, variableName=\"qv\")\n",
    "    qc_data = DataManager.GetTimestepData(inputDataDirectory, timeString, variableName=\"qc\")\n",
    "    qr_data = DataManager.GetTimestepData(inputDataDirectory, timeString, variableName=\"qr\")\n",
    "    rt=(rv+qc_data+qr_data) #total mixing ratio\n",
    "    \n",
    "    ################################# THERMODYNAMICS\n",
    "    #CONSTANTS (either from CM1 model constants or Emanuel 1994)\n",
    "    Rd=287.04; Rv=461.5\n",
    "    Cpd=1005.7 #+-2.5\n",
    "    Cpv=1870 #+-25\n",
    "    Cpl=4190 #+-30 #Cl=Cpl=Cvl (same as constant pressure or volume)\n",
    "    Cpi=2106.0 #+-6 #Ci=Cpi=Cvi (same as constant pressure or volume)\n",
    "\n",
    "    #LATENT HEATS (From Emanuel 1994)\n",
    "    Lv0=2.501e6\n",
    "    Lf0 = 0.3337e6  # latent heat of fusion at 0°C\n",
    "    Ls0 = 2.834e6 #+-0.01 (inside coefficient) (between -100 and 0 deg C)\n",
    "    def Lv(T): #Kirchoff's formula L_i,ii= L_i,ii0+(Cpii-Cpi)*(T-273.15)\n",
    "        Llv=Lv0+(Cpv-Cpl)*(T-273.15) #should it be Cpl. is Cl the same?***\n",
    "        return Llv\n",
    "    def Lf(T): #Kirchoff's formula L_i,ii= L_i,ii0+(Cpii-Cpi)*(T-273.15)\n",
    "        Lil = Lf0 + (Cpl - Cpi) * (T - 273.15) \n",
    "        return Lil\n",
    "    # def Ls(T):\n",
    "    #     Ls = Lf(T) + Lv(T) #ice to liquid ==> liquid to vapor\n",
    "    #     return Ls\n",
    "    def Ls(T): #Kirchoff's formula L_i,ii= L_i,ii0+(Cpii-Cpi)*(T-273.15)\n",
    "        Liv = Ls0 + (Cpv - Cpi) * (T - 273.15) \n",
    "        return Liv\n",
    "    \n",
    "    ################################# TEMPERATURE\n",
    "    theta=DataManager.GetTimestepData(inputDataDirectory, timeString, variableName=\"th\")\n",
    "    T=theta*(P/p0)**(Rd/Cpd)\n",
    "    \n",
    "    ################################# RELATIVE HUMIDITY\n",
    "    eps=0.622\n",
    "    #rv=eps*(e/(P-e)) ==> e = rv*P/(eps+rv)\n",
    "    e=rv*P/(rv+eps)\n",
    "    Pd=P-e #P=Pd+e ==> Pd=P-e\n",
    "\n",
    "    #CALCULATING SATURATION VAPOR PRESSURE and RH OVER LIQUID\n",
    "    def SaturationVaporPressure(T):\n",
    "        e_s0=611\n",
    "        T0=273.15\n",
    "        inner=(Lv(T)/Rv)*((1/T0)-(1/T))\n",
    "        e_s=e_s0*np.exp(inner)\n",
    "        return e_s\n",
    "    e_s = SaturationVaporPressure(T)\n",
    "    H_vapor = e/e_s \n",
    "\n",
    "    #CALCULATING SATURATION VAPOR PRESSURE and RH OVER ICE\n",
    "    def IceSaturationVaporPressure(T):\n",
    "        e_si0=611\n",
    "        T0=273.15\n",
    "        inner=(Ls(T)/Rv)*((1/T0)-(1/T))\n",
    "        e_si=e_si0*np.exp(inner)\n",
    "        return e_si\n",
    "    ei_s = IceSaturationVaporPressure(T)\n",
    "    H_ice = e / ei_s\n",
    "\n",
    "    InputDictionary = {'P': P, 'p0': p0, 'rv': rv, 'rt': rt,\n",
    "                       'Rd': Rd, 'Rv': Rv, 'Cpd': Cpd, 'Cpv': Cpv, 'Cpl': Cpl, \n",
    "                       'Lv': Lv, 'T': T, 'e': e, 'Pd': Pd,\n",
    "                       'e_s': e_s, 'H_vapor': H_vapor, 'H_ice': H_ice\n",
    "                       }\n",
    "    return InputDictionary\n",
    "\n",
    "def VariableCalculation(inputDictionary):\n",
    "    [P,p0,rv,rt] = (inputDictionary[k] for k in [\"P\",\"p0\",\"rv\",\"rt\"])\n",
    "    [Rd,Rv,Cpd,Cpv,Cpl] = (inputDictionary[k] for k in [\"Rd\",\"Rv\",\"Cpd\",\"Cpv\",\"Cpl\"])\n",
    "    [Lv,T,e,Pd] = (inputDictionary[k] for k in [\"Lv\",\"T\",\"e\",\"Pd\"])\n",
    "    [e_s,H_vapor,H_ice] = (inputDictionary[k] for k in [\"e_s\",\"H_vapor\",\"H_ice\"])\n",
    "\n",
    "    ################################# EQUIVALENT POTENTIAL TEMPERATURE\n",
    "    divisor=(Cpd+Cpl*rt)\n",
    "    theta_e=(T*(p0/Pd)**(Rd/divisor))*(H_vapor**(-rv*Rv/divisor))*np.exp(Lv(T)*rv/(divisor*T))\n",
    "\n",
    "    outputDictionary={'theta_e': theta_e,\n",
    "                      'RH_vapor': H_vapor,\n",
    "                      'RH_ice': H_ice}\n",
    "    return outputDictionary"
   ]
  },
  {
   "cell_type": "code",
   "execution_count": 10,
   "id": "80724eef-9233-4407-a125-f2c561bdaa9a",
   "metadata": {},
   "outputs": [],
   "source": [
    "####################################\n",
    "#RUNNING"
   ]
  },
  {
   "cell_type": "code",
   "execution_count": 11,
   "id": "ce1f85de-29ee-4f84-8b69-3a1e5a82c0b8",
   "metadata": {},
   "outputs": [
    {
     "name": "stdout",
     "output_type": "stream",
     "text": [
      "Current time 0\n",
      "Saved timestep to output file: /mnt/lustre/koa/koastore/torri_group/air_directory/Projects/DCI-Project/Code/OUTPUT/Variable_Calculation/CalculateMoreVariables/1km_5min_34nz/Equivalent_Potential_Temperature/Equivalent_Potential_Temperature_1km_5min_34nz_0-00-00.h5\n",
      "Current time 1\n",
      "Saved timestep to output file: /mnt/lustre/koa/koastore/torri_group/air_directory/Projects/DCI-Project/Code/OUTPUT/Variable_Calculation/CalculateMoreVariables/1km_5min_34nz/Equivalent_Potential_Temperature/Equivalent_Potential_Temperature_1km_5min_34nz_0-05-00.h5\n",
      "Current time 2\n",
      "Saved timestep to output file: /mnt/lustre/koa/koastore/torri_group/air_directory/Projects/DCI-Project/Code/OUTPUT/Variable_Calculation/CalculateMoreVariables/1km_5min_34nz/Equivalent_Potential_Temperature/Equivalent_Potential_Temperature_1km_5min_34nz_0-10-00.h5\n",
      "Current time 3\n",
      "Saved timestep to output file: /mnt/lustre/koa/koastore/torri_group/air_directory/Projects/DCI-Project/Code/OUTPUT/Variable_Calculation/CalculateMoreVariables/1km_5min_34nz/Equivalent_Potential_Temperature/Equivalent_Potential_Temperature_1km_5min_34nz_0-15-00.h5\n",
      "Current time 4\n",
      "Saved timestep to output file: /mnt/lustre/koa/koastore/torri_group/air_directory/Projects/DCI-Project/Code/OUTPUT/Variable_Calculation/CalculateMoreVariables/1km_5min_34nz/Equivalent_Potential_Temperature/Equivalent_Potential_Temperature_1km_5min_34nz_0-20-00.h5\n",
      "Current time 5\n",
      "Saved timestep to output file: /mnt/lustre/koa/koastore/torri_group/air_directory/Projects/DCI-Project/Code/OUTPUT/Variable_Calculation/CalculateMoreVariables/1km_5min_34nz/Equivalent_Potential_Temperature/Equivalent_Potential_Temperature_1km_5min_34nz_0-25-00.h5\n",
      "Current time 6\n",
      "Saved timestep to output file: /mnt/lustre/koa/koastore/torri_group/air_directory/Projects/DCI-Project/Code/OUTPUT/Variable_Calculation/CalculateMoreVariables/1km_5min_34nz/Equivalent_Potential_Temperature/Equivalent_Potential_Temperature_1km_5min_34nz_0-30-00.h5\n"
     ]
    }
   ],
   "source": [
    "#CALCULATING AND APPENDING TO DATA EACH TIMESTEP\n",
    "for t in num_elements:\n",
    "    if np.mod(t,1)==0: print(f'Current time {t}')\n",
    "\n",
    "    #getting timestring for loading input data\n",
    "    timeString = ModelData.timeStrings[t]\n",
    "\n",
    "    #loading input variables\n",
    "    inputDictionary = GetInputVariables(DataManager.inputDataDirectory, timeString)\n",
    "\n",
    "    #calculating variables\n",
    "    outputDictionary = VariableCalculation(inputDictionary)\n",
    "    \n",
    "    #outputting\n",
    "    DataManager.SaveOutputTimestep(DataManager.outputDataDirectory, timeString, outputDictionary)"
   ]
  },
  {
   "cell_type": "code",
   "execution_count": null,
   "id": "54683116-a48d-4013-ab41-318e11cc0958",
   "metadata": {},
   "outputs": [],
   "source": []
  },
  {
   "cell_type": "code",
   "execution_count": null,
   "id": "e7e13d21-3685-4faa-952b-a68bd3fe4aae",
   "metadata": {},
   "outputs": [],
   "source": []
  },
  {
   "cell_type": "code",
   "execution_count": null,
   "id": "454c992a-8a56-44ef-8971-2f4ffeb820c1",
   "metadata": {},
   "outputs": [],
   "source": []
  },
  {
   "cell_type": "code",
   "execution_count": null,
   "id": "3305b3de-4c68-4468-bf11-8e3d76e854c3",
   "metadata": {},
   "outputs": [],
   "source": [
    "######################################################"
   ]
  },
  {
   "cell_type": "code",
   "execution_count": null,
   "id": "0366a545-c5b0-431e-8f77-a9542d586a3a",
   "metadata": {},
   "outputs": [],
   "source": [
    "# #READING BACK IN\n",
    "# def GetVariableData(t, dataName=\"Virtual_Potential_Temperature\"):\n",
    "#     res = ModelData.res\n",
    "#     t_res = ModelData.t_res\n",
    "#     Nz_str = ModelData.Nz_str\n",
    "#     inputDirectory = os.path.join(DataManager.outputDirectory, f\"{res}_{t_res}_{Nz_str}nz\", dataName)\n",
    "#     timeString = ModelData.timeStrings[t]\n",
    "\n",
    "#     FileName = os.path.join(inputDirectory, f\"{dataName}_{res}_{t_res}_{Nz_str}nz_{timeString}.h5\")\n",
    "\n",
    "#     dataDictionary = {}\n",
    "#     with h5py.File(FileName, 'r') as f:\n",
    "#         print(\"Keys in file:\", list(f.keys()))\n",
    "#         for key in f.keys():\n",
    "#             dataDictionary[key] = f[key][:]\n",
    "#             print(f\"{key}: shape = {dataDictionary[key].shape}, dtype = {dataDictionary[key].dtype}\")\n",
    "#     return dataDictionary\n",
    "\n",
    "# dataDictionary = GetVariableData(t=0)"
   ]
  }
 ],
 "metadata": {
  "kernelspec": {
   "display_name": "Python 3 (ipykernel)",
   "language": "python",
   "name": "python3"
  },
  "language_info": {
   "codemirror_mode": {
    "name": "ipython",
    "version": 3
   },
   "file_extension": ".py",
   "mimetype": "text/x-python",
   "name": "python",
   "nbconvert_exporter": "python",
   "pygments_lexer": "ipython3",
   "version": "3.11.8"
  }
 },
 "nbformat": 4,
 "nbformat_minor": 5
}

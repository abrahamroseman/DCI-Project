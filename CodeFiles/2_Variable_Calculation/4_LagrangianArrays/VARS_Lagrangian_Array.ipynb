{
 "cells": [
  {
   "cell_type": "code",
   "execution_count": 28,
   "id": "e5b44bc7-9d0d-416d-9306-59f1014e803b",
   "metadata": {},
   "outputs": [],
   "source": [
    "####################################\n",
    "#ENVIRONMENT SETUP"
   ]
  },
  {
   "cell_type": "code",
   "execution_count": 29,
   "id": "8331fc0c-b53f-4420-ad05-3e430c9023ec",
   "metadata": {},
   "outputs": [],
   "source": [
    "#Importing Libraries\n",
    "import numpy as np\n",
    "import matplotlib.pyplot as plt\n",
    "import matplotlib.colors as mcolors\n",
    "import matplotlib.ticker as ticker\n",
    "import matplotlib.cm as cm\n",
    "from matplotlib.colors import Normalize\n",
    "from matplotlib.ticker import MaxNLocator\n",
    "from matplotlib.ticker import ScalarFormatter\n",
    "import matplotlib.gridspec as gridspec\n",
    "import xarray as xr\n",
    "\n",
    "import sys; import os; import time; from datetime import timedelta\n",
    "import pickle\n",
    "import h5py"
   ]
  },
  {
   "cell_type": "code",
   "execution_count": 30,
   "id": "f247920d-0ad6-405b-a829-a4562971cb6c",
   "metadata": {},
   "outputs": [],
   "source": [
    "#MAIN DIRECTORIES\n",
    "def GetDirectories():\n",
    "    mainDirectory='/mnt/lustre/koa/koastore/torri_group/air_directory/Projects/DCI-Project/'\n",
    "    mainCodeDirectory=os.path.join(mainDirectory,\"Code/CodeFiles/\")\n",
    "    scratchDirectory='/mnt/lustre/koa/scratch/air673/'\n",
    "    codeDirectory=os.getcwd()\n",
    "    return mainDirectory,mainCodeDirectory,scratchDirectory,codeDirectory\n",
    "\n",
    "[mainDirectory,mainCodeDirectory,scratchDirectory,codeDirectory] = GetDirectories()"
   ]
  },
  {
   "cell_type": "code",
   "execution_count": 31,
   "id": "b83d6074-8577-482a-81e7-d8d95170ee38",
   "metadata": {},
   "outputs": [],
   "source": [
    "#IMPORT CLASSES\n",
    "sys.path.append(os.path.join(mainCodeDirectory,\"2_Variable_Calculation\"))\n",
    "from CLASSES_Variable_Calculation import ModelData_Class, SlurmJobArray_Class, DataManager_Class"
   ]
  },
  {
   "cell_type": "code",
   "execution_count": null,
   "id": "2e1ff0ca-0c0d-422f-8c7e-728a15eec170",
   "metadata": {},
   "outputs": [],
   "source": [
    "#IMPORT FUNCTIONS\n",
    "sys.path.append(os.path.join(mainCodeDirectory,\"2_Variable_Calculation\"))\n",
    "import FUNCTIONS_Variable_Calculation\n",
    "from FUNCTIONS_Variable_Calculation import * # import NumericalFunctions "
   ]
  },
  {
   "cell_type": "code",
   "execution_count": 32,
   "id": "4ab36192-0ccd-41a3-87ad-f76b076606c2",
   "metadata": {},
   "outputs": [],
   "source": [
    "####################################\n",
    "#LOADING CLASSES"
   ]
  },
  {
   "cell_type": "code",
   "execution_count": 33,
   "id": "deed1662-5d48-427f-aed9-2baa1eb7f561",
   "metadata": {},
   "outputs": [
    {
     "name": "stdout",
     "output_type": "stream",
     "text": [
      "=== CM1 Data Summary ===\n",
      " Simulation #:   1\n",
      " Resolution:     1km\n",
      " Time step:      5min\n",
      " Vertical levels:34\n",
      " Parcels:        1e6\n",
      " Data file:      /mnt/lustre/koa/koastore/torri_group/air_directory/Projects/DCI-Project/Model/cm1r20.3/run/cm1out_1km_5min_34nz.nc\n",
      " Parcel file:    /mnt/lustre/koa/koastore/torri_group/air_directory/Projects/DCI-Project/Model/cm1r20.3/run/cm1out_pdata_1km_5min_1e6np.nc\n",
      " Time steps:     133\n",
      "========================= \n",
      "\n",
      "=== DataManager Summary ===\n",
      " inputDirectory #:   /mnt/lustre/koa/koastore/torri_group/air_directory/Projects/DCI-Project/Code/OUTPUT/Variable_Calculation/TimeSplitModelData\n",
      " outputDirectory #:   /mnt/lustre/koa/koastore/torri_group/air_directory/Projects/DCI-Project/Code/OUTPUT/Variable_Calculation/LagrangianArrays\n",
      " inputDataDirectory #:   /mnt/lustre/koa/koastore/torri_group/air_directory/Projects/DCI-Project/Code/OUTPUT/Variable_Calculation/TimeSplitModelData/1km_5min_34nz/ModelData\n",
      " inputParcelDirectory #:   /mnt/lustre/koa/koastore/torri_group/air_directory/Projects/DCI-Project/Code/OUTPUT/Variable_Calculation/TimeSplitModelData/1km_5min_34nz/ParcelData\n",
      " outputDataDirectory #:   /mnt/lustre/koa/koastore/torri_group/air_directory/Projects/DCI-Project/Code/OUTPUT/Variable_Calculation/LagrangianArrays/1km_5min_34nz/VARS\n",
      "========================= \n",
      "\n"
     ]
    }
   ],
   "source": [
    "#data loading class\n",
    "ModelData = ModelData_Class(mainDirectory, scratchDirectory, simulationNumber=1)\n",
    "#data manager class\n",
    "DataManager = DataManager_Class(mainDirectory, scratchDirectory, ModelData.res, ModelData.t_res, ModelData.Nz_str,\n",
    "                                ModelData.Np_str, dataType=\"LagrangianArrays\", dataName=\"VARS\",\n",
    "                                dtype='float32')"
   ]
  },
  {
   "cell_type": "code",
   "execution_count": 34,
   "id": "89170457-477c-4767-8073-405c6c0d3ba7",
   "metadata": {},
   "outputs": [
    {
     "name": "stdout",
     "output_type": "stream",
     "text": [
      "Running timesteps from 0:5 \n",
      "\n"
     ]
    }
   ],
   "source": [
    "#JOB ARRAY SETUP\n",
    "UsingJobArray=True\n",
    "\n",
    "def GetNumJobs(res):\n",
    "    if res=='1km':\n",
    "        num_jobs=30\n",
    "    elif res=='250m': \n",
    "        num_jobs=100\n",
    "    return num_jobs\n",
    "num_jobs = GetNumJobs(ModelData.res)\n",
    "SlurmJobArray = SlurmJobArray_Class(total_elements=ModelData.Ntime, num_jobs=num_jobs, UsingJobArray=UsingJobArray)\n",
    "start_job = SlurmJobArray.start_job; end_job = SlurmJobArray.end_job\n",
    "\n",
    "def GetNumElements():\n",
    "    num_elements = np.arange(ModelData.Ntime)[start_job:end_job]\n",
    "    return num_elements\n",
    "num_elements = GetNumElements()"
   ]
  },
  {
   "cell_type": "code",
   "execution_count": 35,
   "id": "cf5fd460-f273-41e2-ac5f-b0cd4a504448",
   "metadata": {},
   "outputs": [],
   "source": [
    "####################################\n",
    "#FUNCTIONS"
   ]
  },
  {
   "cell_type": "code",
   "execution_count": 36,
   "id": "29d8eabc-f4e1-4bc1-b6e4-4f214aa223ac",
   "metadata": {},
   "outputs": [],
   "source": [
    "def GetZYX(inputParcelDirectory, timeString):\n",
    "    #Lagrangian Position Arrays\n",
    "    ##############\n",
    "    def grid_location(z,y,x):\n",
    "        zf=ModelData.zf*1000; which_zh=np.clip(np.searchsorted(zf,z)-1,0,None).astype(np.uint16)\n",
    "        #which_zh=np.where(which_zh == -1, 0, which_zh) \n",
    "        \n",
    "        yf=ModelData.yf*1000; which_yh=np.clip(np.searchsorted(yf,y)-1,0,None).astype(np.uint16) \n",
    "        #which_yh=np.where(which_yh == -1, 0, which_yh) \n",
    "        \n",
    "        xf=ModelData.xf*1000; which_xh=np.clip(np.searchsorted(xf,x)-1,0,None).astype(np.uint16)\n",
    "        #which_xh=np.where(which_xh == -1, 0, which_xh) \n",
    "        \n",
    "        return which_zh,which_yh,which_xh\n",
    "    \n",
    "    # print('Creating Lagrangian X,Y,Z Binary Arrays')\n",
    "    x = DataManager.GetTimestepParcel(DataManager.inputParcelDirectory, timeString, variableName=\"x\")\n",
    "    y = DataManager.GetTimestepParcel(DataManager.inputParcelDirectory, timeString, variableName=\"y\")\n",
    "    z = DataManager.GetTimestepParcel(DataManager.inputParcelDirectory, timeString, variableName=\"z\")\n",
    "    Z,Y,X=grid_location(z,y,x)\n",
    "    return z,x,Z,Y,X"
   ]
  },
  {
   "cell_type": "code",
   "execution_count": 38,
   "id": "1465fadc-9309-417f-990b-d13eaf073fc1",
   "metadata": {},
   "outputs": [],
   "source": [
    "def MakeLagrangianArray(inputDataDirectory, timeString,varnames,Z,Y,X): #FAST ADVANCED INDEXING VERSION\n",
    "    # print('Making Variables Lagrangian Array')\n",
    "    # Initialize dictionaries\n",
    "    var_data_dict = {varname: CallVariable(ModelData, DataManager, timeString, varname) for varname in varnames}\n",
    "    VAR = {varname: np.zeros_like(Z, dtype='float32') for varname in varnames}\n",
    "\n",
    "    # print('Running')\n",
    "    # Nt = len(data['time'])\n",
    "    # Get Indices\n",
    "    z_idx = Z\n",
    "    y_idx = Y\n",
    "    x_idx = X\n",
    "    # ts = np.arange(Nt)[:, None]\n",
    "    # t_idx = np.broadcast_to(ts, Z.shape)\n",
    "\n",
    "    for varname, var_data in var_data_dict.items():\n",
    "        # VAR[varname] = var_data[t_idx, z_idx, y_idx, x_idx]\n",
    "        VAR[varname] = var_data[z_idx, y_idx, x_idx]\n",
    "\n",
    "    return [VAR[varname] for varname in varnames]\n",
    "    # return VAR"
   ]
  },
  {
   "cell_type": "code",
   "execution_count": 39,
   "id": "10e492cd-5171-4206-afe6-fb58805a2845",
   "metadata": {},
   "outputs": [],
   "source": [
    "def GetVariables(inputDataDirectory,timeString, Z,Y,X):\n",
    "    # print('Making W and QCQI Lagrangian Array')\n",
    "    varnames=['qv','qc','qi',\n",
    "              'RH_vapor',\n",
    "              'VMF_g','VMF_c',\n",
    "              'HMC',\n",
    "              'theta_v','theta_e',\n",
    "              'MSE']\n",
    "    [QV,QC,QI, \n",
    "     RH_vapor, \n",
    "     VMF_g,VMF_c, \n",
    "     HMC, \n",
    "     THETA_v,THETA_e,\n",
    "     MSE] = MakeLagrangianArray(inputDataDirectory,timeString, varnames, Z,Y,X)\n",
    "    QCQI = QC+QI\n",
    "    \n",
    "    outputDictionary = {\"QV\": QV, \"QCQI\": QCQI,\n",
    "                        \"RH_vapor\": RH_vapor,\n",
    "                        \"VMF_g\": VMF_g, \"VMF_c\": VMF_c,\n",
    "                        \"HMC\": HMC,\n",
    "                        \"THETA_v\": THETA_v, \"THETA_e\": THETA_e,\n",
    "                        \"MSE\": MSE,\n",
    "                       }\n",
    "    return outputDictionary"
   ]
  },
  {
   "cell_type": "code",
   "execution_count": 40,
   "id": "138d9c3a-a32f-4a86-b000-03fe9db4b4b8",
   "metadata": {},
   "outputs": [],
   "source": [
    "###############################################################\n",
    "#RUNNING"
   ]
  },
  {
   "cell_type": "code",
   "execution_count": 41,
   "id": "bff2d447-8f5d-4764-b6c1-21e87339d524",
   "metadata": {
    "scrolled": true
   },
   "outputs": [
    {
     "name": "stdout",
     "output_type": "stream",
     "text": [
      "Current time 0\n",
      "Saved timestep to output file: /mnt/lustre/koa/koastore/torri_group/air_directory/Projects/DCI-Project/Code/OUTPUT/Variable_Calculation/LagrangianArrays/1km_5min_34nz/VARS/VARS_1km_5min_34nz_0-00-00.h5 \n",
      "\n",
      "Current time 1\n",
      "Saved timestep to output file: /mnt/lustre/koa/koastore/torri_group/air_directory/Projects/DCI-Project/Code/OUTPUT/Variable_Calculation/LagrangianArrays/1km_5min_34nz/VARS/VARS_1km_5min_34nz_0-05-00.h5 \n",
      "\n",
      "Current time 2\n",
      "Saved timestep to output file: /mnt/lustre/koa/koastore/torri_group/air_directory/Projects/DCI-Project/Code/OUTPUT/Variable_Calculation/LagrangianArrays/1km_5min_34nz/VARS/VARS_1km_5min_34nz_0-10-00.h5 \n",
      "\n",
      "Current time 3\n",
      "Saved timestep to output file: /mnt/lustre/koa/koastore/torri_group/air_directory/Projects/DCI-Project/Code/OUTPUT/Variable_Calculation/LagrangianArrays/1km_5min_34nz/VARS/VARS_1km_5min_34nz_0-15-00.h5 \n",
      "\n",
      "Current time 4\n",
      "Saved timestep to output file: /mnt/lustre/koa/koastore/torri_group/air_directory/Projects/DCI-Project/Code/OUTPUT/Variable_Calculation/LagrangianArrays/1km_5min_34nz/VARS/VARS_1km_5min_34nz_0-20-00.h5 \n",
      "\n"
     ]
    }
   ],
   "source": [
    "#CALCULATING AND APPENDING TO DATA EACH TIMESTEP\n",
    "for t in num_elements:\n",
    "    if np.mod(t,1)==0: print(f'Current time {t}')\n",
    "\n",
    "    #getting timestring for loading input data\n",
    "    timeString = ModelData.timeStrings[t]\n",
    "\n",
    "    #loading input variables\n",
    "    z,x,Z,Y,X = GetZYX(DataManager.inputParcelDirectory, timeString)\n",
    "\n",
    "    #calculating variables\n",
    "    outputDictionary = GetVariables(DataManager,timeString, Z,Y,X)\n",
    "    \n",
    "    #outputting\n",
    "    DataManager.SaveOutputTimestep(DataManager.outputDataDirectory, timeString, outputDictionary)"
   ]
  },
  {
   "cell_type": "code",
   "execution_count": null,
   "id": "34f673b9-f65a-4933-b552-cac652d7fa6a",
   "metadata": {},
   "outputs": [],
   "source": []
  },
  {
   "cell_type": "code",
   "execution_count": null,
   "id": "b7af377d-a9bb-4384-9c37-a6c0a7ab3a87",
   "metadata": {},
   "outputs": [],
   "source": []
  },
  {
   "cell_type": "code",
   "execution_count": null,
   "id": "29bacea7-672a-4704-ab2b-dd6b57588ee3",
   "metadata": {},
   "outputs": [],
   "source": []
  },
  {
   "cell_type": "code",
   "execution_count": 42,
   "id": "ad14a22a-78b4-46fc-9565-6d55e186457f",
   "metadata": {},
   "outputs": [],
   "source": [
    "######################################################"
   ]
  },
  {
   "cell_type": "code",
   "execution_count": 43,
   "id": "3f33c99e-e622-45ec-8691-efa6d21ba550",
   "metadata": {},
   "outputs": [
    {
     "name": "stdout",
     "output_type": "stream",
     "text": [
      "Keys in file: ['HMC', 'MSE', 'QCQI', 'QV', 'RH_vapor', 'THETA_e', 'THETA_v', 'VMF_c', 'VMF_g']\n",
      "HMC: shape = (1000000,), dtype = float32\n",
      "MSE: shape = (1000000,), dtype = float32\n",
      "QCQI: shape = (1000000,), dtype = float32\n",
      "QV: shape = (1000000,), dtype = float32\n",
      "RH_vapor: shape = (1000000,), dtype = float32\n",
      "THETA_e: shape = (1000000,), dtype = float32\n",
      "THETA_v: shape = (1000000,), dtype = float32\n",
      "VMF_c: shape = (1000000,), dtype = float32\n",
      "VMF_g: shape = (1000000,), dtype = float32\n"
     ]
    }
   ],
   "source": [
    "# #READING BACK IN\n",
    "# def GetVariableData(t, dataType=\"VARS\", dataName=\"VARS\"):\n",
    "#     res = ModelData.res\n",
    "#     t_res = ModelData.t_res\n",
    "#     Nz_str = ModelData.Nz_str\n",
    "#     inputDirectory = os.path.join(DataManager.outputDirectory, f\"{res}_{t_res}_{Nz_str}nz\", dataType)\n",
    "#     timeString = ModelData.timeStrings[t]\n",
    "\n",
    "#     FileName = os.path.join(inputDirectory, f\"{dataName}_{res}_{t_res}_{Nz_str}nz_{timeString}.h5\")\n",
    "\n",
    "#     dataDictionary = {}\n",
    "#     with h5py.File(FileName, 'r') as f:\n",
    "#         print(\"Keys in file:\", list(f.keys()))\n",
    "#         for key in f.keys():\n",
    "#             dataDictionary[key] = f[key][:]\n",
    "#             print(f\"{key}: shape = {dataDictionary[key].shape}, dtype = {dataDictionary[key].dtype}\")\n",
    "#     return dataDictionary\n",
    "\n",
    "# dataDictionary = GetVariableData(t=0)"
   ]
  }
 ],
 "metadata": {
  "kernelspec": {
   "display_name": "work",
   "language": "python",
   "name": "work"
  },
  "language_info": {
   "codemirror_mode": {
    "name": "ipython",
    "version": 3
   },
   "file_extension": ".py",
   "mimetype": "text/x-python",
   "name": "python",
   "nbconvert_exporter": "python",
   "pygments_lexer": "ipython3",
   "version": "3.13.5"
  }
 },
 "nbformat": 4,
 "nbformat_minor": 5
}

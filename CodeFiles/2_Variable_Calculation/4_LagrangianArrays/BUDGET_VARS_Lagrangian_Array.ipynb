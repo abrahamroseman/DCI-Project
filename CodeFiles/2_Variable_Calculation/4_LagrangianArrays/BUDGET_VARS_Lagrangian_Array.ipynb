{
 "cells": [
  {
   "cell_type": "code",
   "execution_count": 2,
   "id": "e5b44bc7-9d0d-416d-9306-59f1014e803b",
   "metadata": {},
   "outputs": [],
   "source": [
    "####################################\n",
    "#ENVIRONMENT SETUP"
   ]
  },
  {
   "cell_type": "code",
   "execution_count": 3,
   "id": "8331fc0c-b53f-4420-ad05-3e430c9023ec",
   "metadata": {},
   "outputs": [],
   "source": [
    "#Importing Libraries\n",
    "import numpy as np\n",
    "import matplotlib.pyplot as plt\n",
    "import matplotlib.colors as mcolors\n",
    "import matplotlib.ticker as ticker\n",
    "import matplotlib.cm as cm\n",
    "from matplotlib.colors import Normalize\n",
    "from matplotlib.ticker import MaxNLocator\n",
    "from matplotlib.ticker import ScalarFormatter\n",
    "import matplotlib.gridspec as gridspec\n",
    "import xarray as xr\n",
    "\n",
    "import sys; import os; import time; from datetime import timedelta\n",
    "import pickle\n",
    "import h5py"
   ]
  },
  {
   "cell_type": "code",
   "execution_count": 4,
   "id": "f247920d-0ad6-405b-a829-a4562971cb6c",
   "metadata": {},
   "outputs": [],
   "source": [
    "#MAIN DIRECTORIES\n",
    "def GetDirectories():\n",
    "    mainDirectory='/mnt/lustre/koa/koastore/torri_group/air_directory/Projects/DCI-Project/'\n",
    "    mainCodeDirectory=os.path.join(mainDirectory,\"Code/CodeFiles/\")\n",
    "    scratchDirectory='/mnt/lustre/koa/scratch/air673/'\n",
    "    codeDirectory=os.getcwd()\n",
    "    return mainDirectory,mainCodeDirectory,scratchDirectory,codeDirectory\n",
    "\n",
    "[mainDirectory,mainCodeDirectory,scratchDirectory,codeDirectory] = GetDirectories()"
   ]
  },
  {
   "cell_type": "code",
   "execution_count": 5,
   "id": "b83d6074-8577-482a-81e7-d8d95170ee38",
   "metadata": {},
   "outputs": [],
   "source": [
    "#IMPORT CLASSES\n",
    "sys.path.append(os.path.join(mainCodeDirectory,\"2_Variable_Calculation\"))\n",
    "from CLASSES_Variable_Calculation import ModelData_Class, SlurmJobArray_Class, DataManager_Class"
   ]
  },
  {
   "cell_type": "code",
   "execution_count": null,
   "id": "dd8f9d6f-bf84-4826-8e5f-48c47d0769ea",
   "metadata": {},
   "outputs": [],
   "source": [
    "#IMPORT FUNCTIONS\n",
    "sys.path.append(os.path.join(mainCodeDirectory,\"2_Variable_Calculation\"))\n",
    "import FUNCTIONS_Variable_Calculation\n",
    "from FUNCTIONS_Variable_Calculation import * # import NumericalFunctions "
   ]
  },
  {
   "cell_type": "code",
   "execution_count": 6,
   "id": "4ab36192-0ccd-41a3-87ad-f76b076606c2",
   "metadata": {},
   "outputs": [],
   "source": [
    "####################################\n",
    "#LOADING CLASSES"
   ]
  },
  {
   "cell_type": "code",
   "execution_count": 34,
   "id": "deed1662-5d48-427f-aed9-2baa1eb7f561",
   "metadata": {},
   "outputs": [
    {
     "name": "stdout",
     "output_type": "stream",
     "text": [
      "=== CM1 Data Summary ===\n",
      " Simulation #:   1\n",
      " Resolution:     1km\n",
      " Time step:      5min\n",
      " Vertical levels:34\n",
      " Parcels:        1e6\n",
      " Data file:      /mnt/lustre/koa/koastore/torri_group/air_directory/Projects/DCI-Project/Model/cm1r20.3/run/cm1out_1km_5min_34nz.nc\n",
      " Parcel file:    /mnt/lustre/koa/koastore/torri_group/air_directory/Projects/DCI-Project/Model/cm1r20.3/run/cm1out_pdata_1km_5min_1e6np.nc\n",
      " Time steps:     133\n",
      "========================= \n",
      "\n",
      "=== DataManager Summary ===\n",
      " inputDirectory #:   /mnt/lustre/koa/koastore/torri_group/air_directory/Projects/DCI-Project/Code/OUTPUT/Variable_Calculation/TimeSplitModelData\n",
      " outputDirectory #:   /mnt/lustre/koa/koastore/torri_group/air_directory/Projects/DCI-Project/Code/OUTPUT/Variable_Calculation/LagrangianArrays\n",
      " inputDataDirectory #:   /mnt/lustre/koa/koastore/torri_group/air_directory/Projects/DCI-Project/Code/OUTPUT/Variable_Calculation/TimeSplitModelData/1km_5min_34nz/ModelData\n",
      " inputParcelDirectory #:   /mnt/lustre/koa/koastore/torri_group/air_directory/Projects/DCI-Project/Code/OUTPUT/Variable_Calculation/TimeSplitModelData/1km_5min_34nz/ParcelData\n",
      " outputDataDirectory #:   /mnt/lustre/koa/koastore/torri_group/air_directory/Projects/DCI-Project/Code/OUTPUT/Variable_Calculation/LagrangianArrays/1km_5min_34nz/BUDGET_VARS\n",
      "========================= \n",
      "\n"
     ]
    }
   ],
   "source": [
    "#data loading class\n",
    "ModelData = ModelData_Class(mainDirectory, scratchDirectory, simulationNumber=1)\n",
    "#data manager class\n",
    "DataManager = DataManager_Class(mainDirectory, scratchDirectory, ModelData.res, ModelData.t_res, ModelData.Nz_str,\n",
    "                                ModelData.Np_str, dataType=\"LagrangianArrays\", dataName=\"BUDGET_VARS\",\n",
    "                                dtype='float32')"
   ]
  },
  {
   "cell_type": "code",
   "execution_count": 8,
   "id": "89170457-477c-4767-8073-405c6c0d3ba7",
   "metadata": {},
   "outputs": [
    {
     "name": "stdout",
     "output_type": "stream",
     "text": [
      "Running timesteps from 0:5 \n",
      "\n"
     ]
    }
   ],
   "source": [
    "#JOB ARRAY SETUP\n",
    "UsingJobArray=True\n",
    "\n",
    "def GetNumJobs(res):\n",
    "    if res=='1km':\n",
    "        num_jobs=30\n",
    "    elif res=='250m': \n",
    "        num_jobs=100\n",
    "    return num_jobs\n",
    "num_jobs = GetNumJobs(ModelData.res)\n",
    "SlurmJobArray = SlurmJobArray_Class(total_elements=ModelData.Ntime, num_jobs=num_jobs, UsingJobArray=UsingJobArray)\n",
    "start_job = SlurmJobArray.start_job; end_job = SlurmJobArray.end_job\n",
    "\n",
    "def GetNumElements():\n",
    "    num_elements = np.arange(ModelData.Ntime)[start_job:end_job]\n",
    "    return num_elements\n",
    "num_elements = GetNumElements()"
   ]
  },
  {
   "cell_type": "code",
   "execution_count": 9,
   "id": "cf5fd460-f273-41e2-ac5f-b0cd4a504448",
   "metadata": {},
   "outputs": [],
   "source": [
    "####################################\n",
    "#FUNCTIONS"
   ]
  },
  {
   "cell_type": "code",
   "execution_count": 10,
   "id": "29d8eabc-f4e1-4bc1-b6e4-4f214aa223ac",
   "metadata": {},
   "outputs": [],
   "source": [
    "def GetZYX(inputParcelDirectory, timeString):\n",
    "    #Lagrangian Position Arrays\n",
    "    ##############\n",
    "    def grid_location(z,y,x):\n",
    "        zf=ModelData.zf*1000; which_zh=np.clip(np.searchsorted(zf,z)-1,0,None).astype(np.uint16)\n",
    "        #which_zh=np.where(which_zh == -1, 0, which_zh) \n",
    "        \n",
    "        yf=ModelData.yf*1000; which_yh=np.clip(np.searchsorted(yf,y)-1,0,None).astype(np.uint16) \n",
    "        #which_yh=np.where(which_yh == -1, 0, which_yh) \n",
    "        \n",
    "        xf=ModelData.xf*1000; which_xh=np.clip(np.searchsorted(xf,x)-1,0,None).astype(np.uint16)\n",
    "        #which_xh=np.where(which_xh == -1, 0, which_xh) \n",
    "        \n",
    "        return which_zh,which_yh,which_xh\n",
    "    \n",
    "    # print('Creating Lagrangian X,Y,Z Binary Arrays')\n",
    "    x = DataManager.GetTimestepParcel(DataManager.inputParcelDirectory, timeString, variableName=\"x\")\n",
    "    y = DataManager.GetTimestepParcel(DataManager.inputParcelDirectory, timeString, variableName=\"y\")\n",
    "    z = DataManager.GetTimestepParcel(DataManager.inputParcelDirectory, timeString, variableName=\"z\")\n",
    "    Z,Y,X=grid_location(z,y,x)\n",
    "    return z,x,Z,Y,X"
   ]
  },
  {
   "cell_type": "code",
   "execution_count": 12,
   "id": "1465fadc-9309-417f-990b-d13eaf073fc1",
   "metadata": {},
   "outputs": [],
   "source": [
    "def MakeLagrangianArray(inputDataDirectory, timeString,varnames,Z,Y,X): #FAST ADVANCED INDEXING VERSION\n",
    "    # print('Making Variables Lagrangian Array')\n",
    "    # Initialize dictionaries\n",
    "    var_data_dict = {varname: CallVariable(ModelData, DataManager, timeString, varname) for varname in varnames}\n",
    "    VAR = {varname: np.zeros_like(Z, dtype='float32') for varname in varnames}\n",
    "\n",
    "    # print('Running')\n",
    "    # Nt = len(data['time'])\n",
    "    # Get Indices\n",
    "    z_idx = Z\n",
    "    y_idx = Y\n",
    "    x_idx = X\n",
    "    # ts = np.arange(Nt)[:, None]\n",
    "    # t_idx = np.broadcast_to(ts, Z.shape)\n",
    "\n",
    "    for varname, var_data in var_data_dict.items():\n",
    "        # VAR[varname] = var_data[t_idx, z_idx, y_idx, x_idx]\n",
    "        VAR[varname] = var_data[z_idx, y_idx, x_idx]\n",
    "\n",
    "    return [VAR[varname] for varname in varnames]\n",
    "    # return VAR"
   ]
  },
  {
   "cell_type": "code",
   "execution_count": 26,
   "id": "10e492cd-5171-4206-afe6-fb58805a2845",
   "metadata": {},
   "outputs": [],
   "source": [
    "def GetVariables(inputDataDirectory,timeString, Z,Y,X):\n",
    "    # print('Making W and QCQI Lagrangian Array')\n",
    "    varnames_W=['wb_hadv','wb_vadv','wb_hidiff','wb_vidiff',\n",
    "                'wb_hturb','wb_vturb','wb_pgrad','wb_buoy']\n",
    "    varnames_QV=['qvb_hadv','qvb_vadv','qvb_hidiff','qvb_vidiff',\n",
    "                 'qvb_hturb','qvb_vturb','qvb_mp']\n",
    "    varnames_TH=['ptb_hadv','ptb_vadv','ptb_hidiff','ptb_vidiff',\n",
    "                 'ptb_hturb','ptb_vturb','ptb_mp','ptb_rad','ptb_div','ptb_diss']\n",
    "\n",
    "    [WB_HADV, WB_VADV, WB_HIDIFF, WB_VIDIFF,\n",
    "     WB_HTURB, WB_VTURB, WB_PGRAD, WB_BUOY] = MakeLagrangianArray(\n",
    "        DataManager, timeString, varnames_W, Z, Y, X\n",
    "    )\n",
    "    \n",
    "    [QVB_HADV, QVB_VADV, QVB_HIDIFF, QVB_VIDIFF,\n",
    "     QVB_HTURB, QVB_VTURB, QVB_MP] = MakeLagrangianArray(\n",
    "        DataManager, timeString, varnames_QV, Z, Y, X\n",
    "    )\n",
    "    \n",
    "    [PTB_HADV, PTB_VADV, PTB_HIDIFF, PTB_VIDIFF,\n",
    "     PTB_HTURB, PTB_VTURB, PTB_MP, PTB_RAD, PTB_DIV, PTB_DISS] = MakeLagrangianArray(\n",
    "        DataManager, timeString, varnames_TH, Z, Y, X\n",
    "    )\n",
    "    \n",
    "    outputDictionary_W = {\n",
    "        \"WB_HADV\": WB_HADV,\n",
    "        \"WB_VADV\": WB_VADV,\n",
    "        \"WB_HIDIFF\": WB_HIDIFF,\n",
    "        \"WB_VIDIFF\": WB_VIDIFF,\n",
    "        \"WB_HTURB\": WB_HTURB,\n",
    "        \"WB_VTURB\": WB_VTURB,\n",
    "        \"WB_PGRAD\": WB_PGRAD,\n",
    "        \"WB_BUOY\": WB_BUOY,\n",
    "    }\n",
    "    \n",
    "    outputDictionary_QV = {\n",
    "        \"QVB_HADV\": QVB_HADV,\n",
    "        \"QVB_VADV\": QVB_VADV,\n",
    "        \"QVB_HIDIFF\": QVB_HIDIFF,\n",
    "        \"QVB_VIDIFF\": QVB_VIDIFF,\n",
    "        \"QVB_HTURB\": QVB_HTURB,\n",
    "        \"QVB_VTURB\": QVB_VTURB,\n",
    "        \"QVB_MP\": QVB_MP,\n",
    "    }\n",
    "    \n",
    "    outputDictionary_TH = {\n",
    "        \"PTB_HADV\": PTB_HADV,\n",
    "        \"PTB_VADV\": PTB_VADV,\n",
    "        \"PTB_HIDIFF\": PTB_HIDIFF,\n",
    "        \"PTB_VIDIFF\": PTB_VIDIFF,\n",
    "        \"PTB_HTURB\": PTB_HTURB,\n",
    "        \"PTB_VTURB\": PTB_VTURB,\n",
    "        \"PTB_MP\": PTB_MP,\n",
    "        \"PTB_RAD\": PTB_RAD,\n",
    "        \"PTB_DIV\": PTB_DIV,\n",
    "        \"PTB_DISS\": PTB_DISS,\n",
    "    }\n",
    "\n",
    "    return outputDictionary_W,outputDictionary_QV,outputDictionary_TH "
   ]
  },
  {
   "cell_type": "code",
   "execution_count": 27,
   "id": "138d9c3a-a32f-4a86-b000-03fe9db4b4b8",
   "metadata": {},
   "outputs": [],
   "source": [
    "###############################################################\n",
    "#RUNNING"
   ]
  },
  {
   "cell_type": "code",
   "execution_count": 42,
   "id": "bff2d447-8f5d-4764-b6c1-21e87339d524",
   "metadata": {
    "scrolled": true
   },
   "outputs": [
    {
     "name": "stdout",
     "output_type": "stream",
     "text": [
      "Current time 0\n",
      "Saved timestep to output file: /mnt/lustre/koa/koastore/torri_group/air_directory/Projects/DCI-Project/Code/OUTPUT/Variable_Calculation/LagrangianArrays/1km_5min_34nz/BUDGET_VARS/BUDGET_VARS_W_1km_5min_34nz_0-00-00.h5 \n",
      "\n",
      "Saved timestep to output file: /mnt/lustre/koa/koastore/torri_group/air_directory/Projects/DCI-Project/Code/OUTPUT/Variable_Calculation/LagrangianArrays/1km_5min_34nz/BUDGET_VARS/BUDGET_VARS_QV_1km_5min_34nz_0-00-00.h5 \n",
      "\n",
      "Saved timestep to output file: /mnt/lustre/koa/koastore/torri_group/air_directory/Projects/DCI-Project/Code/OUTPUT/Variable_Calculation/LagrangianArrays/1km_5min_34nz/BUDGET_VARS/BUDGET_VARS_TH_1km_5min_34nz_0-00-00.h5 \n",
      "\n",
      "Current time 1\n",
      "Saved timestep to output file: /mnt/lustre/koa/koastore/torri_group/air_directory/Projects/DCI-Project/Code/OUTPUT/Variable_Calculation/LagrangianArrays/1km_5min_34nz/BUDGET_VARS/BUDGET_VARS_W_1km_5min_34nz_0-05-00.h5 \n",
      "\n",
      "Saved timestep to output file: /mnt/lustre/koa/koastore/torri_group/air_directory/Projects/DCI-Project/Code/OUTPUT/Variable_Calculation/LagrangianArrays/1km_5min_34nz/BUDGET_VARS/BUDGET_VARS_QV_1km_5min_34nz_0-05-00.h5 \n",
      "\n",
      "Saved timestep to output file: /mnt/lustre/koa/koastore/torri_group/air_directory/Projects/DCI-Project/Code/OUTPUT/Variable_Calculation/LagrangianArrays/1km_5min_34nz/BUDGET_VARS/BUDGET_VARS_TH_1km_5min_34nz_0-05-00.h5 \n",
      "\n",
      "Current time 2\n",
      "Saved timestep to output file: /mnt/lustre/koa/koastore/torri_group/air_directory/Projects/DCI-Project/Code/OUTPUT/Variable_Calculation/LagrangianArrays/1km_5min_34nz/BUDGET_VARS/BUDGET_VARS_W_1km_5min_34nz_0-10-00.h5 \n",
      "\n",
      "Saved timestep to output file: /mnt/lustre/koa/koastore/torri_group/air_directory/Projects/DCI-Project/Code/OUTPUT/Variable_Calculation/LagrangianArrays/1km_5min_34nz/BUDGET_VARS/BUDGET_VARS_QV_1km_5min_34nz_0-10-00.h5 \n",
      "\n",
      "Saved timestep to output file: /mnt/lustre/koa/koastore/torri_group/air_directory/Projects/DCI-Project/Code/OUTPUT/Variable_Calculation/LagrangianArrays/1km_5min_34nz/BUDGET_VARS/BUDGET_VARS_TH_1km_5min_34nz_0-10-00.h5 \n",
      "\n",
      "Current time 3\n",
      "Saved timestep to output file: /mnt/lustre/koa/koastore/torri_group/air_directory/Projects/DCI-Project/Code/OUTPUT/Variable_Calculation/LagrangianArrays/1km_5min_34nz/BUDGET_VARS/BUDGET_VARS_W_1km_5min_34nz_0-15-00.h5 \n",
      "\n",
      "Saved timestep to output file: /mnt/lustre/koa/koastore/torri_group/air_directory/Projects/DCI-Project/Code/OUTPUT/Variable_Calculation/LagrangianArrays/1km_5min_34nz/BUDGET_VARS/BUDGET_VARS_QV_1km_5min_34nz_0-15-00.h5 \n",
      "\n",
      "Saved timestep to output file: /mnt/lustre/koa/koastore/torri_group/air_directory/Projects/DCI-Project/Code/OUTPUT/Variable_Calculation/LagrangianArrays/1km_5min_34nz/BUDGET_VARS/BUDGET_VARS_TH_1km_5min_34nz_0-15-00.h5 \n",
      "\n",
      "Current time 4\n",
      "Saved timestep to output file: /mnt/lustre/koa/koastore/torri_group/air_directory/Projects/DCI-Project/Code/OUTPUT/Variable_Calculation/LagrangianArrays/1km_5min_34nz/BUDGET_VARS/BUDGET_VARS_W_1km_5min_34nz_0-20-00.h5 \n",
      "\n",
      "Saved timestep to output file: /mnt/lustre/koa/koastore/torri_group/air_directory/Projects/DCI-Project/Code/OUTPUT/Variable_Calculation/LagrangianArrays/1km_5min_34nz/BUDGET_VARS/BUDGET_VARS_QV_1km_5min_34nz_0-20-00.h5 \n",
      "\n",
      "Saved timestep to output file: /mnt/lustre/koa/koastore/torri_group/air_directory/Projects/DCI-Project/Code/OUTPUT/Variable_Calculation/LagrangianArrays/1km_5min_34nz/BUDGET_VARS/BUDGET_VARS_TH_1km_5min_34nz_0-20-00.h5 \n",
      "\n"
     ]
    }
   ],
   "source": [
    "#CALCULATING AND APPENDING TO DATA EACH TIMESTEP\n",
    "for t in num_elements:\n",
    "    if np.mod(t,1)==0: print(f'Current time {t}')\n",
    "\n",
    "    #getting timestring for loading input data\n",
    "    timeString = ModelData.timeStrings[t]\n",
    "\n",
    "    #loading input variables\n",
    "    z,x,Z,Y,X = GetZYX(DataManager.inputParcelDirectory, timeString)\n",
    "\n",
    "    #calculating variables\n",
    "    [outputDictionary_W,outputDictionary_QV,outputDictionary_TH] = GetVariables(DataManager,timeString, Z,Y,X)\n",
    "    \n",
    "    #outputting\n",
    "    DataManager.SaveOutputTimestep(DataManager.outputDataDirectory, timeString, outputDictionary_W, dataName=DataManager.dataName+\"_W\")\n",
    "    DataManager.SaveOutputTimestep(DataManager.outputDataDirectory, timeString, outputDictionary_QV, dataName=DataManager.dataName+\"_QV\")\n",
    "    DataManager.SaveOutputTimestep(DataManager.outputDataDirectory, timeString, outputDictionary_TH, dataName=DataManager.dataName+\"_TH\")"
   ]
  },
  {
   "cell_type": "code",
   "execution_count": null,
   "id": "9c3877d7-701b-4004-8a1d-d1fda6def86d",
   "metadata": {},
   "outputs": [],
   "source": []
  },
  {
   "cell_type": "code",
   "execution_count": null,
   "id": "497a90bf-6276-4a31-a1c3-d27e1fd21350",
   "metadata": {},
   "outputs": [],
   "source": []
  },
  {
   "cell_type": "code",
   "execution_count": null,
   "id": "5a16818f-f1bf-4a7b-b6d4-923c3c736d8b",
   "metadata": {},
   "outputs": [],
   "source": []
  },
  {
   "cell_type": "code",
   "execution_count": 42,
   "id": "ad14a22a-78b4-46fc-9565-6d55e186457f",
   "metadata": {},
   "outputs": [],
   "source": [
    "######################################################"
   ]
  },
  {
   "cell_type": "code",
   "execution_count": 44,
   "id": "3f33c99e-e622-45ec-8691-efa6d21ba550",
   "metadata": {},
   "outputs": [],
   "source": [
    "# #READING BACK IN\n",
    "# def GetVariableData(t, dataType=\"BUDGET_VARS\", dataName=\"BUDGET_VARS_W\"):#BUDGET_VARS_W, BUDGET_VARS_QV, BUDGET_VARS_TH\n",
    "#     res = ModelData.res\n",
    "#     t_res = ModelData.t_res\n",
    "#     Nz_str = ModelData.Nz_str\n",
    "#     inputDirectory = os.path.join(DataManager.outputDirectory, f\"{res}_{t_res}_{Nz_str}nz\", dataType)\n",
    "#     timeString = ModelData.timeStrings[t]\n",
    "\n",
    "#     FileName = os.path.join(inputDirectory, f\"{dataName}_{res}_{t_res}_{Nz_str}nz_{timeString}.h5\")\n",
    "\n",
    "#     dataDictionary = {}\n",
    "#     with h5py.File(FileName, 'r') as f:\n",
    "#         print(\"Keys in file:\", list(f.keys()))\n",
    "#         for key in f.keys():\n",
    "#             dataDictionary[key] = f[key][:]\n",
    "#             print(f\"{key}: shape = {dataDictionary[key].shape}, dtype = {dataDictionary[key].dtype}\")\n",
    "#     return dataDictionary\n",
    "\n",
    "# dataDictionary = GetVariableData(t=0)"
   ]
  }
 ],
 "metadata": {
  "kernelspec": {
   "display_name": "Python 3 (ipykernel)",
   "language": "python",
   "name": "python3"
  },
  "language_info": {
   "codemirror_mode": {
    "name": "ipython",
    "version": 3
   },
   "file_extension": ".py",
   "mimetype": "text/x-python",
   "name": "python",
   "nbconvert_exporter": "python",
   "pygments_lexer": "ipython3",
   "version": "3.11.8"
  }
 },
 "nbformat": 4,
 "nbformat_minor": 5
}

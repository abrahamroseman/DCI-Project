{
 "cells": [
  {
   "cell_type": "code",
   "execution_count": 1,
   "id": "6fae0de0-de5b-44b8-b03b-3363e3f59fac",
   "metadata": {},
   "outputs": [],
   "source": [
    "####################################\n",
    "#ENVIRONMENT SETUP"
   ]
  },
  {
   "cell_type": "code",
   "execution_count": 2,
   "id": "957d0eae-02fb-49a1-83a4-31a21feb3c87",
   "metadata": {},
   "outputs": [],
   "source": [
    "#Importing Libraries\n",
    "import numpy as np\n",
    "import matplotlib.pyplot as plt\n",
    "import matplotlib.colors as mcolors\n",
    "import matplotlib.ticker as ticker\n",
    "import matplotlib.cm as cm\n",
    "from matplotlib.colors import Normalize\n",
    "from matplotlib.ticker import MaxNLocator\n",
    "from matplotlib.ticker import ScalarFormatter\n",
    "import matplotlib.gridspec as gridspec\n",
    "import xarray as xr\n",
    "\n",
    "import sys; import os; import time; from datetime import timedelta\n",
    "import pickle\n",
    "import h5py"
   ]
  },
  {
   "cell_type": "code",
   "execution_count": 3,
   "id": "1761e296-1f74-42d2-aa8a-ff1069dce971",
   "metadata": {},
   "outputs": [],
   "source": [
    "#MAIN DIRECTORIES\n",
    "def GetDirectories():\n",
    "    mainDirectory='/mnt/lustre/koa/koastore/torri_group/air_directory/Projects/DCI-Project/'\n",
    "    mainCodeDirectory=os.path.join(mainDirectory,\"Code/CodeFiles/\")\n",
    "    scratchDirectory='/mnt/lustre/koa/scratch/air673/'\n",
    "    codeDirectory=os.getcwd()\n",
    "    return mainDirectory,mainCodeDirectory,scratchDirectory,codeDirectory\n",
    "\n",
    "[mainDirectory,mainCodeDirectory,scratchDirectory,codeDirectory] = GetDirectories()"
   ]
  },
  {
   "cell_type": "code",
   "execution_count": 4,
   "id": "77e9aa93-2954-4bd1-bea9-235ac43ffd97",
   "metadata": {},
   "outputs": [],
   "source": [
    "#IMPORT CLASSES\n",
    "sys.path.append(os.path.join(mainCodeDirectory,\"Variable_Calculation\"))\n",
    "from CLASSES_Variable_Calculation import ModelData_Class, SlurmJobArray_Class, DataManager_Class"
   ]
  },
  {
   "cell_type": "code",
   "execution_count": null,
   "id": "a7099be4-d097-4cf0-9f00-89f12cab63e8",
   "metadata": {},
   "outputs": [],
   "source": [
    "#IMPORT FUNCTIONS\n",
    "sys.path.append(os.path.join(mainCodeDirectory,\"Variable_Calculation\"))\n",
    "import FUNCTIONS_Variable_Calculation\n",
    "from FUNCTIONS_Variable_Calculation import * # import NumericalFunctions "
   ]
  },
  {
   "cell_type": "code",
   "execution_count": 5,
   "id": "1cf5ae56-6cd4-4382-bfcc-0b65242b5217",
   "metadata": {},
   "outputs": [],
   "source": [
    "####################################\n",
    "#LOADING CLASSES"
   ]
  },
  {
   "cell_type": "code",
   "execution_count": 6,
   "id": "b688acfb-2328-40bb-871e-856f0643e5ee",
   "metadata": {},
   "outputs": [
    {
     "name": "stdout",
     "output_type": "stream",
     "text": [
      "=== CM1 Data Summary ===\n",
      " Simulation #:   1\n",
      " Resolution:     1km\n",
      " Time step:      5min\n",
      " Vertical levels:34\n",
      " Parcels:        1e6\n",
      " Data file:      /mnt/lustre/koa/koastore/torri_group/air_directory/Projects/DCI-Project/Model/cm1r20.3/run/cm1out_1km_5min_34nz.nc\n",
      " Parcel file:    /mnt/lustre/koa/koastore/torri_group/air_directory/Projects/DCI-Project/Model/cm1r20.3/run/cm1out_pdata_1km_5min_1e6np.nc\n",
      " Time steps:     133\n",
      "========================= \n",
      "\n",
      "=== DataManager Summary ===\n",
      " inputDirectory #:   /mnt/lustre/koa/koastore/torri_group/air_directory/Projects/DCI-Project/Code/OUTPUT/Variable_Calculation/TimeSplitModelData\n",
      " outputDirectory #:   /mnt/lustre/koa/koastore/torri_group/air_directory/Projects/DCI-Project/Code/OUTPUT/Variable_Calculation/LagrangianArrays\n",
      " inputDataDirectory #:   /mnt/lustre/koa/koastore/torri_group/air_directory/Projects/DCI-Project/Code/OUTPUT/Variable_Calculation/TimeSplitModelData/1km_5min_34nz/ModelData\n",
      " inputParcelDirectory #:   /mnt/lustre/koa/koastore/torri_group/air_directory/Projects/DCI-Project/Code/OUTPUT/Variable_Calculation/TimeSplitModelData/1km_5min_34nz/ParcelData\n",
      " outputDataDirectory #:   /mnt/lustre/koa/koastore/torri_group/air_directory/Projects/DCI-Project/Code/OUTPUT/Variable_Calculation/LagrangianArrays/1km_5min_34nz/LFC\n",
      "========================= \n",
      "\n"
     ]
    }
   ],
   "source": [
    "#data loading class\n",
    "ModelData = ModelData_Class(mainDirectory, scratchDirectory, simulationNumber=1)\n",
    "#data manager class\n",
    "DataManager = DataManager_Class(mainDirectory, scratchDirectory, ModelData.res, ModelData.t_res, ModelData.Nz_str,\n",
    "                                ModelData.Np_str, dataType=\"LagrangianArrays\", dataName=\"LFC\",\n",
    "                                dtype='float32')"
   ]
  },
  {
   "cell_type": "code",
   "execution_count": 7,
   "id": "608d4d49-5bc1-4ba4-acf1-a030d06de0e2",
   "metadata": {},
   "outputs": [
    {
     "name": "stdout",
     "output_type": "stream",
     "text": [
      "Running timesteps from 0:7 \n",
      "\n"
     ]
    }
   ],
   "source": [
    "#JOB ARRAY SETUP\n",
    "UsingJobArray=True\n",
    "\n",
    "def GetNumJobs(res):\n",
    "    if res=='1km':\n",
    "        num_jobs=30\n",
    "    elif res=='250m': \n",
    "        num_jobs=100\n",
    "    return num_jobs\n",
    "num_jobs = GetNumJobs(ModelData.res)\n",
    "SlurmJobArray = SlurmJobArray_Class(total_elements=ModelData.Ntime, num_jobs=num_jobs, UsingJobArray=UsingJobArray)\n",
    "start_job = SlurmJobArray.start_job; end_job = SlurmJobArray.end_job\n",
    "\n",
    "def GetNumElements():\n",
    "    num_elements = np.arange(ModelData.Ntime)[start_job:end_job]\n",
    "    return num_elements\n",
    "num_elements = GetNumElements()"
   ]
  },
  {
   "cell_type": "code",
   "execution_count": 8,
   "id": "cdcadd22-fc85-4a48-b707-3cd28f3af2a7",
   "metadata": {},
   "outputs": [],
   "source": [
    "####################################\n",
    "#FUNCTIONS"
   ]
  },
  {
   "cell_type": "code",
   "execution_count": 9,
   "id": "29d8eabc-f4e1-4bc1-b6e4-4f214aa223ac",
   "metadata": {},
   "outputs": [],
   "source": [
    "def GetZYX(inputParcelDirectory, timeString):\n",
    "    #Lagrangian Position Arrays\n",
    "    ##############\n",
    "    def grid_location(z,y,x):\n",
    "        zf=ModelData.zf*1000; which_zh=np.clip(np.searchsorted(zf,z)-1,0,None).astype(np.uint16)\n",
    "        #which_zh=np.where(which_zh == -1, 0, which_zh) \n",
    "        \n",
    "        yf=ModelData.yf*1000; which_yh=np.clip(np.searchsorted(yf,y)-1,0,None).astype(np.uint16) \n",
    "        #which_yh=np.where(which_yh == -1, 0, which_yh) \n",
    "        \n",
    "        xf=ModelData.xf*1000; which_xh=np.clip(np.searchsorted(xf,x)-1,0,None).astype(np.uint16)\n",
    "        #which_xh=np.where(which_xh == -1, 0, which_xh) \n",
    "        \n",
    "        return which_zh,which_yh,which_xh\n",
    "    \n",
    "    # print('Creating Lagrangian X,Y,Z Binary Arrays')\n",
    "    x = DataManager.GetTimestepParcel(DataManager.inputParcelDirectory, timeString, variableName=\"x\")\n",
    "    y = DataManager.GetTimestepParcel(DataManager.inputParcelDirectory, timeString, variableName=\"y\")\n",
    "    z = DataManager.GetTimestepParcel(DataManager.inputParcelDirectory, timeString, variableName=\"z\")\n",
    "    Z,Y,X=grid_location(z,y,x)\n",
    "    return z,x,Z,Y,X"
   ]
  },
  {
   "cell_type": "code",
   "execution_count": 15,
   "id": "1465fadc-9309-417f-990b-d13eaf073fc1",
   "metadata": {},
   "outputs": [],
   "source": [
    "def MakeLagrangianArray(inputDataDirectory, timeString,varnames,Z,Y,X): #FAST ADVANCED INDEXING VERSION\n",
    "    # print('Making Variables Lagrangian Array')\n",
    "    # Initialize dictionaries\n",
    "    var_data_dict = {varname: CallVariable(ModelData, DataManager, timeString, varname) for varname in varnames}\n",
    "    VAR = {varname: np.zeros_like(Z, dtype='float32') for varname in varnames}\n",
    "\n",
    "    # print('Running')\n",
    "    # Nt = len(data['time'])\n",
    "    # Get Indices\n",
    "    # z_idx = Z\n",
    "    y_idx = Y\n",
    "    x_idx = X\n",
    "    # ts = np.arange(Nt)[:, None]\n",
    "    # t_idx = np.broadcast_to(ts, Z.shape)\n",
    "\n",
    "    for varname, var_data in var_data_dict.items():\n",
    "        # VAR[varname] = var_data[t_idx, z_idx, y_idx, x_idx]\n",
    "        # VAR[varname] = var_data[z_idx, y_idx, x_idx]\n",
    "        VAR[varname] = var_data[y_idx, x_idx]\n",
    "\n",
    "    return [VAR[varname] for varname in varnames]\n",
    "    # return VAR"
   ]
  },
  {
   "cell_type": "code",
   "execution_count": 16,
   "id": "cf80a610-a7bf-4518-bf16-c40d244fb9c9",
   "metadata": {},
   "outputs": [],
   "source": [
    "def GetVariables(inputDataDirectory,timeString, Z,Y,X):\n",
    "    # print('Making W and QCQI Lagrangian Array')\n",
    "    varnames=['lfc','lcl']\n",
    "    [LFC,LCL] = MakeLagrangianArray(inputDataDirectory,timeString, varnames, Z,Y,X)\n",
    "    \n",
    "    outputDictionary = {\"LFC\": LFC,\n",
    "                        \"LCL\": LCL\n",
    "                       }\n",
    "    return outputDictionary"
   ]
  },
  {
   "cell_type": "code",
   "execution_count": 17,
   "id": "043df228-3ec1-4a5e-901c-da43c1c999a7",
   "metadata": {},
   "outputs": [],
   "source": [
    "###############################################################\n",
    "#RUNNING"
   ]
  },
  {
   "cell_type": "code",
   "execution_count": 18,
   "id": "7c95a708-62a9-40f1-899f-32bc757fed08",
   "metadata": {
    "scrolled": true
   },
   "outputs": [
    {
     "name": "stdout",
     "output_type": "stream",
     "text": [
      "Current time 0\n",
      "Saved timestep to output file: /mnt/lustre/koa/koastore/torri_group/air_directory/Projects/DCI-Project/Code/OUTPUT/Variable_Calculation/LagrangianArrays/1km_5min_34nz/LFC/LFC_1km_5min_34nz_0-00-00.h5 \n",
      "\n",
      "Current time 1\n",
      "Saved timestep to output file: /mnt/lustre/koa/koastore/torri_group/air_directory/Projects/DCI-Project/Code/OUTPUT/Variable_Calculation/LagrangianArrays/1km_5min_34nz/LFC/LFC_1km_5min_34nz_0-05-00.h5 \n",
      "\n",
      "Current time 2\n",
      "Saved timestep to output file: /mnt/lustre/koa/koastore/torri_group/air_directory/Projects/DCI-Project/Code/OUTPUT/Variable_Calculation/LagrangianArrays/1km_5min_34nz/LFC/LFC_1km_5min_34nz_0-10-00.h5 \n",
      "\n",
      "Current time 3\n",
      "Saved timestep to output file: /mnt/lustre/koa/koastore/torri_group/air_directory/Projects/DCI-Project/Code/OUTPUT/Variable_Calculation/LagrangianArrays/1km_5min_34nz/LFC/LFC_1km_5min_34nz_0-15-00.h5 \n",
      "\n",
      "Current time 4\n",
      "Saved timestep to output file: /mnt/lustre/koa/koastore/torri_group/air_directory/Projects/DCI-Project/Code/OUTPUT/Variable_Calculation/LagrangianArrays/1km_5min_34nz/LFC/LFC_1km_5min_34nz_0-20-00.h5 \n",
      "\n",
      "Current time 5\n",
      "Saved timestep to output file: /mnt/lustre/koa/koastore/torri_group/air_directory/Projects/DCI-Project/Code/OUTPUT/Variable_Calculation/LagrangianArrays/1km_5min_34nz/LFC/LFC_1km_5min_34nz_0-25-00.h5 \n",
      "\n",
      "Current time 6\n",
      "Saved timestep to output file: /mnt/lustre/koa/koastore/torri_group/air_directory/Projects/DCI-Project/Code/OUTPUT/Variable_Calculation/LagrangianArrays/1km_5min_34nz/LFC/LFC_1km_5min_34nz_0-30-00.h5 \n",
      "\n"
     ]
    }
   ],
   "source": [
    "#CALCULATING AND APPENDING TO DATA EACH TIMESTEP\n",
    "for t in num_elements:\n",
    "    if np.mod(t,1)==0: print(f'Current time {t}')\n",
    "\n",
    "    #getting timestring for loading input data\n",
    "    timeString = ModelData.timeStrings[t]\n",
    "\n",
    "    #loading input variables\n",
    "    z,x,Z,Y,X = GetZYX(DataManager.inputParcelDirectory, timeString)\n",
    "\n",
    "    #calculating variables\n",
    "    outputDictionary = GetVariables(DataManager,timeString, Z,Y,X)\n",
    "    \n",
    "    #outputting\n",
    "    DataManager.SaveOutputTimestep(DataManager.outputDataDirectory, timeString, outputDictionary)"
   ]
  },
  {
   "cell_type": "code",
   "execution_count": null,
   "id": "b4927002-952d-457e-9fbd-9e2dabe6ea70",
   "metadata": {},
   "outputs": [],
   "source": []
  },
  {
   "cell_type": "code",
   "execution_count": null,
   "id": "176fc2a9-d539-4937-bd8c-0561a3f9e5a8",
   "metadata": {},
   "outputs": [],
   "source": []
  },
  {
   "cell_type": "code",
   "execution_count": null,
   "id": "7fb22cba-367d-4eb3-a661-f1a2b236a435",
   "metadata": {},
   "outputs": [],
   "source": []
  },
  {
   "cell_type": "code",
   "execution_count": null,
   "id": "e5626bae-7580-425e-990b-4ef5db90863d",
   "metadata": {},
   "outputs": [],
   "source": [
    "######################################################"
   ]
  },
  {
   "cell_type": "code",
   "execution_count": 20,
   "id": "358dce36-d0d2-4b53-9e19-c29ddf927287",
   "metadata": {},
   "outputs": [],
   "source": [
    "# #READING BACK IN\n",
    "# def GetVariableData(t, dataType=\"LFC\", dataName=\"LFC\"):\n",
    "#     res = ModelData.res\n",
    "#     t_res = ModelData.t_res\n",
    "#     Nz_str = ModelData.Nz_str\n",
    "#     inputDirectory = os.path.join(DataManager.outputDirectory, f\"{res}_{t_res}_{Nz_str}nz\", dataType)\n",
    "#     timeString = ModelData.timeStrings[t]\n",
    "\n",
    "#     FileName = os.path.join(inputDirectory, f\"{dataName}_{res}_{t_res}_{Nz_str}nz_{timeString}.h5\")\n",
    "\n",
    "#     dataDictionary = {}\n",
    "#     with h5py.File(FileName, 'r') as f:\n",
    "#         print(\"Keys in file:\", list(f.keys()))\n",
    "#         for key in f.keys():\n",
    "#             dataDictionary[key] = f[key][:]\n",
    "#             print(f\"{key}: shape = {dataDictionary[key].shape}, dtype = {dataDictionary[key].dtype}\")\n",
    "#     return dataDictionary\n",
    "\n",
    "# dataDictionary = GetVariableData(t=0)"
   ]
  }
 ],
 "metadata": {
  "kernelspec": {
   "display_name": "Python 3 (ipykernel)",
   "language": "python",
   "name": "python3"
  },
  "language_info": {
   "codemirror_mode": {
    "name": "ipython",
    "version": 3
   },
   "file_extension": ".py",
   "mimetype": "text/x-python",
   "name": "python",
   "nbconvert_exporter": "python",
   "pygments_lexer": "ipython3",
   "version": "3.11.8"
  }
 },
 "nbformat": 4,
 "nbformat_minor": 5
}

{
 "cells": [
  {
   "cell_type": "code",
   "execution_count": null,
   "id": "54580e2d-56b5-40c3-975f-374e89d672de",
   "metadata": {},
   "outputs": [],
   "source": [
    "####################################\n",
    "#ENVIRONMENT SETUP"
   ]
  },
  {
   "cell_type": "code",
   "execution_count": null,
   "id": "6101da37-175b-45ec-8c6c-ba67d48fbb57",
   "metadata": {},
   "outputs": [],
   "source": [
    "#Importing Libraries\n",
    "import numpy as np\n",
    "import matplotlib.pyplot as plt\n",
    "import matplotlib.colors as mcolors\n",
    "import matplotlib.ticker as ticker\n",
    "import matplotlib.cm as cm\n",
    "from matplotlib.colors import Normalize\n",
    "from matplotlib.ticker import MaxNLocator\n",
    "from matplotlib.ticker import ScalarFormatter\n",
    "import matplotlib.gridspec as gridspec\n",
    "import xarray as xr\n",
    "\n",
    "import sys; import os; import time; from datetime import timedelta\n",
    "import pickle\n",
    "import h5py"
   ]
  },
  {
   "cell_type": "code",
   "execution_count": null,
   "id": "22f653a1-3b6a-4477-a9d0-998d282d42ce",
   "metadata": {},
   "outputs": [],
   "source": [
    "#MAIN DIRECTORIES\n",
    "def GetDirectories():\n",
    "    mainDirectory='/mnt/lustre/koa/koastore/torri_group/air_directory/Projects/DCI-Project/'\n",
    "    mainCodeDirectory=os.path.join(mainDirectory,\"Code/CodeFiles/\")\n",
    "    scratchDirectory='/mnt/lustre/koa/scratch/air673/'\n",
    "    codeDirectory=os.getcwd()\n",
    "    return mainDirectory,mainCodeDirectory,scratchDirectory,codeDirectory\n",
    "\n",
    "[mainDirectory,mainCodeDirectory,scratchDirectory,codeDirectory] = GetDirectories()"
   ]
  },
  {
   "cell_type": "code",
   "execution_count": null,
   "id": "28eeff88-17e8-4380-b5e1-d070a4d26b90",
   "metadata": {},
   "outputs": [],
   "source": [
    "def GetPlottingDirectory(plotFileName, plotType):\n",
    "    plottingDirectory = mainCodeDirectory=os.path.join(mainDirectory,\"Code\",\"PLOTTING\")\n",
    "    \n",
    "    specificPlottingDirectory = os.path.join(plottingDirectory, plotType)\n",
    "    os.makedirs(specificPlottingDirectory, exist_ok=True)\n",
    "\n",
    "    plottingFileName=os.path.join(specificPlottingDirectory, plotFileName)\n",
    "\n",
    "    return plottingFileName"
   ]
  },
  {
   "cell_type": "code",
   "execution_count": null,
   "id": "150e3f7a-8f88-4f0f-bea2-4296ee948106",
   "metadata": {},
   "outputs": [],
   "source": [
    "#IMPORT CLASSES (from current directory)\n",
    "sys.path.append(os.path.join(mainCodeDirectory,\"Variable_Calculation\"))\n",
    "from CLASSES_Variable_Calculation import ModelData_Class, DataManager_Class"
   ]
  },
  {
   "cell_type": "code",
   "execution_count": null,
   "id": "fa76910a-d3c8-4c09-9379-740f74996102",
   "metadata": {},
   "outputs": [],
   "source": [
    "####################################\n",
    "#LOADING CLASSES"
   ]
  },
  {
   "cell_type": "code",
   "execution_count": null,
   "id": "327fa6d2-d09d-4622-bb0b-c85a1bdd537c",
   "metadata": {},
   "outputs": [],
   "source": [
    "#data loading class\n",
    "ModelData = ModelData_Class(mainDirectory, scratchDirectory, simulationNumber=1)\n",
    "#data manager class\n",
    "DataManager = DataManager_Class(mainDirectory, scratchDirectory, ModelData.res, ModelData.t_res, ModelData.Nz_str, #just need this one for the data loading function\n",
    "                                ModelData.Np_str, dataType=\"Figures\", dataName=\"Figures\", dtype=\"float32\")"
   ]
  },
  {
   "cell_type": "code",
   "execution_count": null,
   "id": "7dce09f3-97db-48b7-a48c-806df38677f9",
   "metadata": {},
   "outputs": [],
   "source": [
    "#GETTING DATA\n",
    "data=ModelData.OpenData()"
   ]
  },
  {
   "cell_type": "code",
   "execution_count": null,
   "id": "7aff9f37-1aba-490f-b5ac-c5b51ce69db9",
   "metadata": {},
   "outputs": [],
   "source": [
    "####################################\n",
    "#SPECIFIC LIBRARIES"
   ]
  },
  {
   "cell_type": "code",
   "execution_count": null,
   "id": "c49b8b72-2aa7-443f-8eea-7d9a4170ba13",
   "metadata": {},
   "outputs": [],
   "source": [
    "import matplotlib.ticker as ticker"
   ]
  },
  {
   "cell_type": "code",
   "execution_count": null,
   "id": "d8d9dde5-b21e-4e9d-b3ca-4669aa034af3",
   "metadata": {},
   "outputs": [],
   "source": [
    "####################################\n",
    "#FUNCTIONS"
   ]
  },
  {
   "cell_type": "code",
   "execution_count": null,
   "id": "7b4180cf-d300-4858-9194-58cf307911a1",
   "metadata": {},
   "outputs": [],
   "source": [
    "main_data_location = '/mnt/lustre/koa/koastore/torri_group/air_directory/Projects/DCI-Project/Code/CodeFiles/Initial_Figures/Figures/Campaign_Data/'"
   ]
  },
  {
   "cell_type": "code",
   "execution_count": null,
   "id": "ab1cb77f-6b52-4503-a6eb-9cf9132849c9",
   "metadata": {},
   "outputs": [],
   "source": [
    "def GetData1(var_name):\n",
    "    land_data = data[var_name].isel(xh=land).data#.mean(dim=['xh', 'yh'])\n",
    "    ocean_data = data[var_name].isel(xh=ocean).data#.mean(dim=['xh', 'yh'])\n",
    "    \n",
    "    land_data_mean = np.mean(land_data,axis=(1,2))\n",
    "    ocean_data_mean = np.mean(ocean_data,axis=(1,2))\n",
    "    \n",
    "    return land_data_mean,ocean_data_mean\n",
    "\n",
    "def GetData2(var_name):\n",
    "    land_data = data[var_name].isel(xh=land,zh=0).data#.mean(dim=['xh', 'yh'])\n",
    "    ocean_data = data[var_name].isel(xh=ocean,zh=0).data#.mean(dim=['xh', 'yh'])\n",
    "    \n",
    "    land_data_mean = np.mean(land_data,axis=(1,2))\n",
    "    ocean_data_mean = np.mean(ocean_data,axis=(1,2))\n",
    "    \n",
    "    return land_data_mean,ocean_data_mean\n",
    "\n",
    "def SaveLandOceanData(data_list, filename=main_data_location+f'land_ocean_data_{ModelData.res}_{ModelData.t_res}.pkl'):\n",
    "    with open(filename, 'wb') as f:\n",
    "        pickle.dump(data_list, f)\n",
    "    print(f\"Saved land and ocean data to '{filename}'\")\n",
    "\n",
    "def LoadLandOceanData(filename=main_data_location+f'land_ocean_data_{ModelData.res}_{ModelData.t_res}.pkl'):\n",
    "    with open(filename, 'rb') as f:\n",
    "        data_list = pickle.load(f)\n",
    "    return data_list[0], data_list[1]"
   ]
  },
  {
   "cell_type": "code",
   "execution_count": null,
   "id": "6a249e4e-6e2b-4666-a693-947664bba5c6",
   "metadata": {},
   "outputs": [],
   "source": [
    "####################################\n",
    "#PLOTTING"
   ]
  },
  {
   "cell_type": "code",
   "execution_count": null,
   "id": "e6b80be4-6240-432a-92db-e226c3f52d5b",
   "metadata": {},
   "outputs": [],
   "source": [
    "#SETTING UP SOME PLOT THINGS\n",
    "\n",
    "#time limit\n",
    "dt_mins = int(ModelData.t_res[0])\n",
    "timesteps_per_hour=60/dt_mins\n",
    "previous_hours=11\n",
    "previous_times=-timesteps_per_hour*previous_hours\n",
    "\n",
    "#defining land and ocean slices\n",
    "fraction=1/4\n",
    "land = slice(int(len(ModelData.xh)*fraction), int(len(ModelData.xh)))\n",
    "ocean = slice(0, int(len(ModelData.xh)*fraction))"
   ]
  },
  {
   "cell_type": "code",
   "execution_count": null,
   "id": "6166c0ad-a965-45d7-bf2d-18e1e6b30350",
   "metadata": {},
   "outputs": [],
   "source": [
    "#PLOTTING\n",
    "n_bins=10 #number of plotting bins\n",
    "\n",
    "\n",
    "# Create figure and axes\n",
    "fig, axes = plt.subplots(2, 2, figsize=(10, 8))\n",
    "fig.suptitle('Surface Area Means')\n",
    "\n",
    "# Surface Temperature Plot\n",
    "ax = axes[0, 0]\n",
    "var_name='tsk'\n",
    "[land_data_mean,ocean_data_mean] = GetData1(var_name)\n",
    "SaveLandOceanData([land_data_mean,ocean_data_mean]) #SAVING HERE (FOR USE IN Reanalysis_Diurnal_Cycle)\n",
    "ax.plot(land_data_mean, color='brown', label='land')\n",
    "ax.plot(ocean_data_mean, color='blue', label='ocean')\n",
    "ax.set_title('Surface Temperature (K)')\n",
    "ax.set_xlabel('Timestep')\n",
    "ax.set_ylabel('Temp (K)')\n",
    "ax.legend(loc='lower left')\n",
    "ax.yaxis.set_major_locator(ticker.MaxNLocator(nbins=n_bins))  # Set Y-Ticks\n",
    "ax.set_xlim(left=previous_times) #matching data diurnal cycle\n",
    "\n",
    "# QV Flux Plot\n",
    "ax = axes[0, 1]\n",
    "var_name='qvflux'\n",
    "[land_data_mean,ocean_data_mean] = GetData1(var_name)\n",
    "ax.plot(land_data_mean, color='brown', label='land')\n",
    "ax.plot(ocean_data_mean, color='blue', label='ocean')\n",
    "ax.set_title('QV Flux (K)')\n",
    "ax.set_xlabel('Timestep')\n",
    "ax.set_ylabel(r'qvflux ($g\\ g^{-1} m\\ s^{-1}$)')\n",
    "ax.legend(loc='lower left')\n",
    "ax.yaxis.set_major_locator(ticker.MaxNLocator(nbins=n_bins))  # Set Y-Ticks\n",
    "ax.set_xlim(left=previous_times) #matching data diurnal cycle\n",
    "\n",
    "# Theta Flux Plot\n",
    "ax = axes[1, 0]\n",
    "var_name='thflux'\n",
    "[land_data_mean,ocean_data_mean] = GetData1(var_name)\n",
    "ax.plot(land_data_mean, color='brown', label='land')\n",
    "ax.plot(ocean_data_mean, color='blue', label='ocean')\n",
    "ax.set_title('Theta Flux (K)')\n",
    "ax.set_xlabel('Timestep')\n",
    "ax.set_ylabel(r'thflux ($K\\ m\\ s^{-1}$)')\n",
    "ax.legend(loc='lower left')\n",
    "ax.yaxis.set_major_locator(ticker.MaxNLocator(nbins=n_bins))  # Set Y-Ticks\n",
    "ax.set_xlim(left=previous_times) #matching data diurnal cycle\n",
    "\n",
    "# U Wind Component Plot\n",
    "ax = axes[1, 1]\n",
    "var_name='uinterp'\n",
    "[land_data_mean,ocean_data_mean] = GetData2(var_name)\n",
    "ax.plot(land_data_mean, color='brown', label='land')\n",
    "ax.plot(ocean_data_mean, color='blue', label='ocean')\n",
    "ax.set_title(r'U ($m\\ s^{-1}$)')\n",
    "ax.set_xlabel('Timestep')\n",
    "ax.set_ylabel(r'u ($m\\ s^{-1}$)')\n",
    "ax.legend(loc='lower left')\n",
    "ax.yaxis.set_major_locator(ticker.MaxNLocator(nbins=n_bins))  # Set Y-Ticks\n",
    "ax.set_xlim(left=previous_times) #matching data diurnal cycle"
   ]
  }
 ],
 "metadata": {
  "kernelspec": {
   "display_name": "work",
   "language": "python",
   "name": "work"
  },
  "language_info": {
   "codemirror_mode": {
    "name": "ipython",
    "version": 3
   },
   "file_extension": ".py",
   "mimetype": "text/x-python",
   "name": "python",
   "nbconvert_exporter": "python",
   "pygments_lexer": "ipython3",
   "version": "3.13.5"
  }
 },
 "nbformat": 4,
 "nbformat_minor": 5
}

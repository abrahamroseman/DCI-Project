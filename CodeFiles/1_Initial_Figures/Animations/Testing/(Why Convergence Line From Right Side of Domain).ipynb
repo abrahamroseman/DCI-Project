{
 "cells": [
  {
   "cell_type": "code",
   "execution_count": null,
   "id": "4018eb74-b40f-487f-8d81-0e165c7e92d4",
   "metadata": {},
   "outputs": [],
   "source": [
    "#Loading in Packages and Data\n",
    "\n",
    "#Importing Packages\n",
    "import numpy as np\n",
    "import matplotlib.pyplot as plt\n",
    "import matplotlib.colors as colors\n",
    "import matplotlib.ticker as ticker\n",
    "import matplotlib.cm as cm\n",
    "from matplotlib.colors import Normalize\n",
    "from matplotlib.ticker import MaxNLocator\n",
    "from matplotlib.ticker import ScalarFormatter\n",
    "import matplotlib.gridspec as gridspec\n",
    "import xarray as xr\n",
    "import os; import time\n",
    "import pickle\n",
    "import h5py\n",
    "###############################################################\n",
    "def coefs(coefficients,degree):\n",
    "    coef=coefficients\n",
    "    coefs=\"\"\n",
    "    for n in range(degree, -1, -1):\n",
    "        string=f\"({coefficients[len(coef)-(n+1)]:.1e})\"\n",
    "        coefs+=string + f\"x^{n}\"\n",
    "        if n != 0:\n",
    "            coefs+=\" + \"\n",
    "    return coefs\n",
    "###############################################################\n",
    "\n",
    "#Importing Model Data\n",
    "check=False\n",
    "dir='/mnt/lustre/koa/koastore/torri_group/air_directory/DCI-Project/'\n",
    "netCDF=xr.open_dataset(dir+'../cm1r20.3/run/cm1out_test7tundra-7_062217.nc') #***\n",
    "true_time=netCDF['time']\n",
    "parcel=xr.open_dataset(dir+'../cm1r20.3/run/cm1out_pdata_test5tundra-7_062217.nc') #***\n",
    "times=netCDF['time'].values/(1e9 * 60); times=times.astype(float);\n",
    "\n",
    "#Restricts the timesteps of the data from timesteps0 to 140\n",
    "data=netCDF.isel(time=np.arange(0,140+1))\n",
    "parcel=parcel.isel(time=np.arange(0,140+1))\n",
    "\n",
    "# #uncomment if using 250m data\n",
    "# #Importing Model Data\n",
    "# check=False\n",
    "# dir2='/home/air673/koa_scratch/'\n",
    "# data=xr.open_dataset(dir2+'cm1out_250m.nc') #***\n",
    "# parcel=xr.open_dataset(dir2+'cm1out_pdata_250m.nc') #***\n",
    "\n",
    "# # Restricts the timesteps of the data from timesteps0 to 140\n",
    "# data=data.isel(time=np.arange(0,400+1))\n",
    "# parcel=parcel.isel(time=np.arange(0,400+1))"
   ]
  },
  {
   "cell_type": "code",
   "execution_count": null,
   "id": "a8c0e978-37b3-44cf-bd84-44698cf94974",
   "metadata": {},
   "outputs": [],
   "source": [
    "u_data=data['u'].interp(xf=data['xh']).data\n",
    "v_data=data['v'].interp(yf=data['yh']).data"
   ]
  },
  {
   "cell_type": "code",
   "execution_count": null,
   "id": "91bb3d6e-926c-40f2-ad58-4deab770a5bd",
   "metadata": {},
   "outputs": [],
   "source": [
    "u_t=np.mean(u_data[:,1],axis=(1,2))\n",
    "v_t=np.mean(v_data[:,1],axis=(1,2))\n",
    "\n",
    "plt.plot(u_t,label='u wind')\n",
    "plt.plot(v_t,label='v wind')\n",
    "plt.xlabel('t (5 mins)'); plt.ylabel('speed (m/s)')\n",
    "plt.legend()\n",
    "plt.title('Wind Direction Time Series at z = 100 m')\n",
    "\n",
    "plt.axhline(color='k',linestyle='dashed')"
   ]
  },
  {
   "cell_type": "code",
   "execution_count": null,
   "id": "073de70c-bbc6-46b1-bedd-b830bbe02601",
   "metadata": {},
   "outputs": [],
   "source": [
    "u_horiz=np.mean(u_data[:,1],axis=(0))\n",
    "v_horiz=np.mean(v_data[:,1],axis=(0))"
   ]
  },
  {
   "cell_type": "code",
   "execution_count": null,
   "id": "4a9d5587-0c39-4aba-a8b1-23b911bc2f0a",
   "metadata": {},
   "outputs": [],
   "source": [
    "fig = plt.figure(figsize=(8, 4))\n",
    "gs = gridspec.GridSpec(1, 2, figure=fig)\n",
    "# First plot\n",
    "ax1 = fig.add_subplot(gs[0, 0])\n",
    "contour1 = ax1.contourf(u_horiz, cmap='viridis')\n",
    "fig.colorbar(contour1, ax=ax1, orientation='vertical')\n",
    "ax1.set_title(\"U Wind\")\n",
    "ax1.set_xlabel('x grid');ax1.set_ylabel('y grid')\n",
    "\n",
    "# Second plot\n",
    "ax2 = fig.add_subplot(gs[0, 1])\n",
    "contour2 = ax2.contourf(v_horiz, cmap='viridis')\n",
    "fig.colorbar(contour2, ax=ax2, orientation='vertical')\n",
    "ax2.set_title(\"V Wind \")\n",
    "ax2.set_xlabel('x grid');ax2.set_ylabel('y grid')\n",
    "\n",
    "# Adjust layout\n",
    "fig.tight_layout()\n",
    "\n",
    "fig.suptitle('(X,Y) Wind Direction  at z = 100 m')"
   ]
  },
  {
   "cell_type": "code",
   "execution_count": null,
   "id": "fc87b3a3-6828-4186-990a-234f0ad25a34",
   "metadata": {},
   "outputs": [],
   "source": []
  },
  {
   "cell_type": "code",
   "execution_count": null,
   "id": "34afa7f9-cfa5-474f-a3bb-7f18b42c0376",
   "metadata": {},
   "outputs": [],
   "source": [
    "#Focusing on right side of domain\n",
    "u_t=np.mean(u_data[:,1,:,400:],axis=(1,2))\n",
    "v_t=np.mean(v_data[:,1,:,400:],axis=(1,2))\n",
    "\n",
    "plt.plot(u_t,label='u wind')\n",
    "plt.plot(v_t,label='v wind')\n",
    "plt.xlabel('t (5 mins)'); plt.ylabel('speed (m/s)')\n",
    "plt.legend()\n",
    "plt.title('Wind Direction Time Series at z = 100 m, x = 150 km from coast to right side')\n",
    "plt.axhline(color='k',linestyle='dashed')"
   ]
  },
  {
   "cell_type": "code",
   "execution_count": null,
   "id": "28792578-be9a-4318-a1c6-100207af10d0",
   "metadata": {},
   "outputs": [],
   "source": [
    "u_horiz=np.mean(u_data[:,1,:,400:],axis=(0))\n",
    "v_horiz=np.mean(v_data[:,1,:,400:],axis=(0))"
   ]
  },
  {
   "cell_type": "code",
   "execution_count": null,
   "id": "a7567478-6dee-4f5e-8617-e470c47f1ed3",
   "metadata": {},
   "outputs": [],
   "source": [
    "fig = plt.figure(figsize=(8, 4))\n",
    "gs = gridspec.GridSpec(1, 2, figure=fig)\n",
    "# First plot\n",
    "ax1 = fig.add_subplot(gs[0, 0])\n",
    "contour1 = ax1.contourf(u_horiz, cmap='viridis')\n",
    "fig.colorbar(contour1, ax=ax1, orientation='vertical')\n",
    "ax1.set_title(\"U Wind\")\n",
    "ax1.set_xlabel('x grid');ax1.set_ylabel('y grid')\n",
    "\n",
    "# Second plot\n",
    "ax2 = fig.add_subplot(gs[0, 1])\n",
    "contour2 = ax2.contourf(v_horiz, cmap='viridis')\n",
    "fig.colorbar(contour2, ax=ax2, orientation='vertical')\n",
    "ax2.set_title(\"V Wind \")\n",
    "ax2.set_xlabel('x grid');ax2.set_ylabel('y grid')\n",
    "\n",
    "# Adjust layout\n",
    "\n",
    "fig.suptitle('(X,Y) Wind Direction  at z = 100 m, x = 150 km from coast to right side')\n",
    "fig.tight_layout()"
   ]
  }
 ],
 "metadata": {
  "kernelspec": {
   "display_name": "Python 3 (ipykernel)",
   "language": "python",
   "name": "python3"
  },
  "language_info": {
   "codemirror_mode": {
    "name": "ipython",
    "version": 3
   },
   "file_extension": ".py",
   "mimetype": "text/x-python",
   "name": "python",
   "nbconvert_exporter": "python",
   "pygments_lexer": "ipython3",
   "version": "3.11.8"
  }
 },
 "nbformat": 4,
 "nbformat_minor": 5
}

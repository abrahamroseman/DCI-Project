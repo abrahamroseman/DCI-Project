{
 "cells": [
  {
   "cell_type": "code",
   "execution_count": null,
   "id": "45e29bc2-1a72-4c8c-8653-65b57e1c7dd2",
   "metadata": {},
   "outputs": [],
   "source": [
    "#Loading in Packages and Data\n",
    "\n",
    "#Importing Packages\n",
    "import numpy as np\n",
    "import matplotlib.pyplot as plt\n",
    "import matplotlib.colors as colors\n",
    "import matplotlib.ticker as ticker\n",
    "import matplotlib.cm as cm\n",
    "from matplotlib.colors import Normalize\n",
    "from matplotlib.ticker import MaxNLocator\n",
    "from matplotlib.ticker import ScalarFormatter\n",
    "import matplotlib.gridspec as gridspec\n",
    "import xarray as xr\n",
    "import os; import time\n",
    "import pickle\n",
    "import h5py\n",
    "###############################################################\n",
    "def coefs(coefficients,degree):\n",
    "    coef=coefficients\n",
    "    coefs=\"\"\n",
    "    for n in range(degree, -1, -1):\n",
    "        string=f\"({coefficients[len(coef)-(n+1)]:.1e})\"\n",
    "        coefs+=string + f\"x^{n}\"\n",
    "        if n != 0:\n",
    "            coefs+=\" + \"\n",
    "    return coefs\n",
    "###############################################################\n",
    "\n",
    "# #Importing Model Data\n",
    "    \n",
    "# dir='/mnt/lustre/koa/koastore/torri_group/air_directory/DCI-Project/'\n",
    "# netCDF=xr.open_dataset(dir+'../cm1r20.3/run/cm1out_test7tundra-7_062217.nc') #***\n",
    "# true_time=netCDF['time']\n",
    "# # parcel=xr.open_dataset(dir+'../cm1r20.3/run/cm1out_pdata_test5tundra-7_062217.nc') #***\n",
    "# times=netCDF['time'].values/(1e9 * 60); times=times.astype(float);\n",
    "# Np_str='125e3'\n",
    "# #Restricts the timesteps of the data from timesteps0 to 140\n",
    "# data=netCDF.isel(time=np.arange(0,140+1))\n",
    "# # parcel=parcel.isel(time=np.arange(0,140+1))\n",
    "# res='1km'\n",
    "\n",
    "dir='/mnt/lustre/koa/koastore/torri_group/air_directory/DCI-Project/'\n",
    "netCDF=xr.open_dataset(dir+'../cm1r20.3/run/cm1out_1km_1e6.nc') #***\n",
    "true_time=netCDF['time']\n",
    "# parcel=xr.open_dataset(dir+'../cm1r20.3/run/cm1out_pdata_1km_1e6.nc') #***\n",
    "times=netCDF['time'].values/(1e9 * 60); times=times.astype(float);\n",
    "Np_str='1e6'\n",
    "#Restricts the timesteps of the data from timesteps0 to 140\n",
    "data=netCDF\n",
    "# data=netCDF.isel(time=np.arange(0,140+1))\n",
    "# parcel=parcel.isel(time=np.arange(0,140+1))\n",
    "res='1km'\n",
    "\n",
    "# #uncomment if using 250m data\n",
    "# #Importing Model Data\n",
    "# check=False\n",
    "# dir2='/home/air673/koa_scratch/'\n",
    "# data=xr.open_dataset(dir2+'cm1out_250m.nc') #***\n",
    "# # # parcel=xr.open_dataset(dir2+'cm1out_pdata_250m.nc') #***\n",
    "\n",
    "# # Restricts the timesteps of the data from timesteps0 to 140\n",
    "# data=data.isel(time=np.arange(0,400+1))\n",
    "# # # parcel=parcel.isel(time=np.arange(0,400+1))\n",
    "# res='250m'"
   ]
  },
  {
   "cell_type": "code",
   "execution_count": null,
   "id": "26529ee3-9d00-4ba8-ae9b-25b911cfec82",
   "metadata": {},
   "outputs": [],
   "source": [
    "import numpy as np\n",
    "import plotly.graph_objects as go"
   ]
  },
  {
   "cell_type": "code",
   "execution_count": null,
   "id": "50bda0fd-3483-4bdb-936f-fe733f0591fc",
   "metadata": {},
   "outputs": [],
   "source": [
    "w_og=data['winterp'].data"
   ]
  },
  {
   "cell_type": "code",
   "execution_count": null,
   "id": "68f1aba7-00c2-414f-8bcb-4786ba6bc8d9",
   "metadata": {},
   "outputs": [],
   "source": [
    "w=w_og.copy()\n",
    "w_thresh=0.1\n",
    "w[w_og<w_thresh]=0\n",
    "\n",
    "plt.contourf(w[t,10])"
   ]
  },
  {
   "cell_type": "code",
   "execution_count": null,
   "id": "0ba278c5-783b-4e56-a09e-24d23e7d3935",
   "metadata": {},
   "outputs": [],
   "source": [
    "# where=np.where(data['qc']>=1e-6)\n",
    "# w[where]=0"
   ]
  },
  {
   "cell_type": "code",
   "execution_count": null,
   "id": "cd949619-bf68-4a98-887e-e97bc33c65c0",
   "metadata": {},
   "outputs": [],
   "source": [
    "t=120\n",
    "size=100"
   ]
  },
  {
   "cell_type": "code",
   "execution_count": null,
   "id": "44240f20-a24b-4e79-9a89-9878d379329b",
   "metadata": {},
   "outputs": [],
   "source": [
    "import numpy as np\n",
    "import plotly.graph_objects as go\n",
    "\n",
    "# Your 3D data array (replace with your actual data)\n",
    "# p_data = w[t, 0:20, 50:150, 275:325]\n",
    "p_data = w[t, 0:20, 150:170, 275:325]\n",
    "\n",
    "# Get the dimensions of the data array\n",
    "z_size, y_size, x_size = p_data.shape\n",
    "\n",
    "# Generate scaled grid coordinates\n",
    "x, y, z = np.meshgrid(\n",
    "    np.linspace(0, x_size, x_size),  # Scale X axis\n",
    "    np.linspace(0, y_size, y_size),  # Scale Y axis\n",
    "    np.linspace(0, z_size, z_size),  # Scale Z axis\n",
    "    indexing='ij'\n",
    ")\n",
    "\n",
    "# Plotting\n",
    "fig = go.Figure(data=go.Isosurface(\n",
    "    x=x.flatten(), \n",
    "    y=y.flatten(), \n",
    "    z=z.flatten(),\n",
    "    value=p_data.flatten(),\n",
    "    isomin=np.min(p_data) + 0.2,\n",
    "    isomax=np.max(p_data) - 0.2,\n",
    "    opacity=0.5,\n",
    "    surface_count=5,\n",
    "    colorscale='viridis'\n",
    "))\n",
    "\n",
    "# Update aspect ratio\n",
    "fig.update_layout(scene=dict(\n",
    "    aspectratio=dict(\n",
    "        x=x_size / max(x_size, y_size, z_size),\n",
    "        y=y_size / max(x_size, y_size, z_size),\n",
    "        z=z_size / max(x_size, y_size, z_size),\n",
    "    )\n",
    "))\n",
    "\n",
    "fig.show()\n"
   ]
  },
  {
   "cell_type": "code",
   "execution_count": null,
   "id": "cfde233f-aedc-4d4c-9330-88d299ee2c98",
   "metadata": {},
   "outputs": [],
   "source": []
  },
  {
   "cell_type": "code",
   "execution_count": null,
   "id": "635405f6-5f83-4a9d-a2ab-693b22135dac",
   "metadata": {},
   "outputs": [],
   "source": []
  },
  {
   "cell_type": "code",
   "execution_count": null,
   "id": "39fc81c7-8641-47f2-9c1d-0ef2b0b10442",
   "metadata": {},
   "outputs": [],
   "source": []
  },
  {
   "cell_type": "code",
   "execution_count": null,
   "id": "f6d24506-4718-42ed-84e1-5750aed2c650",
   "metadata": {},
   "outputs": [],
   "source": []
  },
  {
   "cell_type": "code",
   "execution_count": null,
   "id": "edd31773-3cf7-45f0-867a-8913febfb9bf",
   "metadata": {},
   "outputs": [],
   "source": []
  },
  {
   "cell_type": "code",
   "execution_count": null,
   "id": "bb48e43d-0cff-47c4-96f3-0c0572fd5981",
   "metadata": {},
   "outputs": [],
   "source": []
  },
  {
   "cell_type": "code",
   "execution_count": null,
   "id": "4ec9f0e0-b019-4377-85d7-b5774173dd19",
   "metadata": {},
   "outputs": [],
   "source": []
  },
  {
   "cell_type": "code",
   "execution_count": null,
   "id": "943a7922-9a58-4be9-a978-34725090793c",
   "metadata": {},
   "outputs": [],
   "source": []
  },
  {
   "cell_type": "code",
   "execution_count": null,
   "id": "ce30e631-0cbb-4184-a594-5e050630621c",
   "metadata": {},
   "outputs": [],
   "source": [
    "qc_og=data['qc'].data"
   ]
  },
  {
   "cell_type": "code",
   "execution_count": null,
   "id": "181d438c-9cb6-4e2f-b611-d5c732bc2a52",
   "metadata": {},
   "outputs": [],
   "source": [
    "qc=qc_og.copy()\n",
    "# qc_thresh=1e-9\n",
    "# qc[qc_og<qc_thresh]=0\n",
    "plt.contourf(qc[t,20])"
   ]
  },
  {
   "cell_type": "code",
   "execution_count": null,
   "id": "5417284b-07d4-44ef-8cf1-0cd84a302206",
   "metadata": {},
   "outputs": [],
   "source": [
    "where=np.where(data['winterp']<0.1)\n",
    "qc[where]=0"
   ]
  },
  {
   "cell_type": "code",
   "execution_count": null,
   "id": "bee5fcf5-3382-43b8-8e94-c812a57c6253",
   "metadata": {},
   "outputs": [],
   "source": [
    "t=120\n",
    "size=100"
   ]
  },
  {
   "cell_type": "code",
   "execution_count": null,
   "id": "fbea1c2d-6d7d-47db-9beb-a3d24a3f24ce",
   "metadata": {},
   "outputs": [],
   "source": [
    "import numpy as np\n",
    "import plotly.graph_objects as go\n",
    "\n",
    "# Your 3D data array (replace with your actual data)\n",
    "# p_data = w[t, 0:20, 50:150, 275:325]\n",
    "p_data = w[t, 0:20, 150:170, 275:325]\n",
    "\n",
    "# Get the dimensions of the data array\n",
    "z_size, y_size, x_size = p_data.shape\n",
    "\n",
    "# Generate scaled grid coordinates\n",
    "x, y, z = np.meshgrid(\n",
    "    np.linspace(0, x_size, x_size),  # Scale X axis\n",
    "    np.linspace(0, y_size, y_size),  # Scale Y axis\n",
    "    np.linspace(0, z_size, z_size),  # Scale Z axis\n",
    "    indexing='ij'\n",
    ")\n",
    "\n",
    "# Plotting\n",
    "fig = go.Figure(data=go.Isosurface(\n",
    "    x=x.flatten(), \n",
    "    y=y.flatten(), \n",
    "    z=z.flatten(),\n",
    "    value=p_data.flatten(),\n",
    "    isomin=np.min(p_data) + 0.2,\n",
    "    isomax=np.max(p_data) - 0.2,\n",
    "    opacity=0.5,\n",
    "    surface_count=5,\n",
    "    colorscale='Blues'\n",
    "))\n",
    "\n",
    "# Update aspect ratio\n",
    "fig.update_layout(scene=dict(\n",
    "    aspectratio=dict(\n",
    "        x=x_size / max(x_size, y_size, z_size),\n",
    "        y=y_size / max(x_size, y_size, z_size),\n",
    "        z=z_size / max(x_size, y_size, z_size),\n",
    "    )\n",
    "))\n",
    "\n",
    "fig.show()\n"
   ]
  }
 ],
 "metadata": {
  "kernelspec": {
   "display_name": "Python 3 (ipykernel)",
   "language": "python",
   "name": "python3"
  },
  "language_info": {
   "codemirror_mode": {
    "name": "ipython",
    "version": 3
   },
   "file_extension": ".py",
   "mimetype": "text/x-python",
   "name": "python",
   "nbconvert_exporter": "python",
   "pygments_lexer": "ipython3",
   "version": "3.11.8"
  }
 },
 "nbformat": 4,
 "nbformat_minor": 5
}

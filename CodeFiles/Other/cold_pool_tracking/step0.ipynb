{
 "cells": [
  {
   "cell_type": "code",
   "execution_count": 1,
   "id": "71f8a28a-466e-4bd9-a4ec-9ab80c3b91bd",
   "metadata": {},
   "outputs": [],
   "source": [
    "## Cold pool tracking (step0) by Mingyue Tang and Abraham Roseman\n",
    "## step 0 for calculating total precipitation mixed ratio (QP) and density potential temperature\n",
    "## (kerry emanual 1994 (torri 2015 check mingyues manuscript) density theta minus horizontal average at every layer)\n",
    "# 4-D BFS\n",
    "\n",
    "import numpy as np\n",
    "import matplotlib.pyplot as plt\n",
    "import matplotlib.colors as colors\n",
    "import matplotlib.ticker as ticker\n",
    "import matplotlib.cm as cm\n",
    "from matplotlib.colors import Normalize\n",
    "import matplotlib.gridspec as gridspec\n",
    "import xarray as xr\n",
    "import os; import time as timer"
   ]
  },
  {
   "cell_type": "code",
   "execution_count": 4,
   "id": "a1059281-98db-4956-9022-2948ca8d2902",
   "metadata": {},
   "outputs": [
    {
     "name": "stdout",
     "output_type": "stream",
     "text": [
      "qv\n",
      "qc\n",
      "qr\n",
      "qi\n",
      "qs\n",
      "qg\n"
     ]
    }
   ],
   "source": [
    "####### read data #################################################\n",
    "check=False\n",
    "dir='/mnt/lustre/koa/koastore/torri_group/air_directory/'\n",
    "data=xr.open_dataset(dir+'cm1r20.3/run/cm1out_test7tundra-7_062217.nc') #***\n",
    "true_time=data['time']\n",
    "parcel=xr.open_dataset(dir+'cm1r20.3/run/cm1out_pdata_test5tundra-7_062217.nc') #***\n",
    "times=data['time'].values/(1e9 * 60); times=times.astype(float);\n",
    "parcel=parcel.isel(time=times.astype(int)) \n",
    "\n",
    "#Restricts the timesteps of the data from timesteps0 to 140\n",
    "data=data.isel(time=np.arange(0,140+1))\n",
    "parcel=parcel.isel(time=np.arange(0,140+1))\n",
    "\n",
    "#getting mixed ratio variable names\n",
    "data_vars=list(data.data_vars)\n",
    "mixedratios=[var for var in data_vars if var.startswith('q') and len(var)==2]\n",
    "for var in mixedratios:\n",
    "    print(var)"
   ]
  },
  {
   "cell_type": "code",
   "execution_count": 5,
   "id": "90cf6485-d3e5-42ea-8efc-e29198ae7908",
   "metadata": {},
   "outputs": [],
   "source": [
    "#picking out time range of interest\n",
    "time1=7200 #when first cold pools start forming shortly after 1sst SBZ begins\n",
    "time2=30900 #when 1st SBZ hits right boundary\n",
    "#time1=83700 #future 2nd SBZ phase\n",
    "#time2=112800 #future 2nd SBZ phase\n",
    "\n",
    "time1=int(time1/60/5) #convert seconds to timesteps\n",
    "time2=int(time2/60/5) #convert seconds to timesteps\n",
    "data=data.isel(time=np.arange(time1,time2))"
   ]
  },
  {
   "cell_type": "code",
   "execution_count": 6,
   "id": "e212f836-af34-47e4-bb89-9da0c44b8cd4",
   "metadata": {},
   "outputs": [
    {
     "name": "stdout",
     "output_type": "stream",
     "text": [
      "making zeroed out xarray and adding mixed ratios\n",
      "0/78 timesteps\n",
      "50/78 timesteps\n",
      "done\n"
     ]
    }
   ],
   "source": [
    "start_time = timer.time()\n",
    "####### calculating QP #################################################\n",
    "#creating zeroed out arrays to fill\n",
    "print('making zeroed out xarray and adding mixed ratios')\n",
    "shape=list(data['qv'].shape)\n",
    "QP=np.ndarray((shape[0], shape[1], shape[2], shape[3]))\n",
    "shape=list(data['th'].shape)\n",
    "DTPAnomaly=np.ndarray((shape[0], shape[1], shape[2], shape[3]))\n",
    "\n",
    "for t in np.arange(QP.shape[0]):\n",
    "    if np.mod(t,50)==0: print(f'{t}/{QP.shape[0]-1} timesteps')\n",
    "\n",
    "    ####### calculating QP #################################################\n",
    "    for var in mixedratios:\n",
    "        QP[t,:,:,:]+=data[var].isel(time=t).values\n",
    "    ####### calculating DTPAnomaly #################################################\n",
    "    Rd = 287.1 #J kg-1 K-1 (dry air specific gas constant)\n",
    "    Rv = 461.5 #J kg-1 K-1 (water vapor specific gas constant)\n",
    "    Qv=data['qv'].isel(time=t)\n",
    "    Qr=data['qr'].isel(time=t)\n",
    "    Qc=data['qc'].isel(time=t)\n",
    "    Ql=Qr+Qc\n",
    "    Th=data['th'].isel(time=t)\n",
    "    DTPAnomaly[t,:,:,:]=Th*(1+(Rv/Rd-1)*Qv - Ql)\n",
    "    broadcast_mean = np.nanmean(DTPAnomaly[t,:,:,:], axis=(-2, -1), keepdims=True)\n",
    "    DTPAnomaly[t,:,:,:]-=broadcast_mean\n",
    "print('done')"
   ]
  },
  {
   "cell_type": "code",
   "execution_count": 8,
   "id": "fa2c2d86-44b9-42bd-af6a-f93d5d299629",
   "metadata": {},
   "outputs": [
    {
     "name": "stdout",
     "output_type": "stream",
     "text": [
      "Total Elapsed Time: 115.88228559494019 seconds\n"
     ]
    }
   ],
   "source": [
    "# ####### combining datasets into single xarray object #################################################\n",
    "\n",
    "####### calculating QP to nc file #################################################\n",
    "QP_nc = xr.DataArray(QP, dims=('time', 'zh', 'yh', 'xh'))\n",
    "# Assign coordinates\n",
    "QP_nc['time'] = data['qv']['time']\n",
    "QP_nc['zh'] = data['qv']['zh']\n",
    "QP_nc['yh'] = data['qv']['yh']\n",
    "QP_nc['xh'] = data['qv']['xh']\n",
    "\n",
    "# Assign attributes\n",
    "QP_nc.name = 'QP'\n",
    "QP_nc.attrs['long_name'] = \"water vapor mixing ratio\"\n",
    "QP_nc.attrs['units'] = \"kg/kg\"\n",
    "\n",
    "####### calculating DTPAnomaly to nc file #################################################\n",
    "DTPAnomaly_nc = xr.DataArray(DTPAnomaly, dims=('time', 'zh', 'yh', 'xh'))\n",
    "# Assign coordinates\n",
    "DTPAnomaly_nc['time'] = data['th']['time']\n",
    "DTPAnomaly_nc['zh'] = data['th']['zh']\n",
    "DTPAnomaly_nc['yh'] = data['th']['yh']\n",
    "DTPAnomaly_nc['xh'] = data['th']['xh']\n",
    "\n",
    "# Assign attributes\n",
    "DTPAnomaly_nc.name = 'DPTAnomaly'\n",
    "DTPAnomaly_nc.attrs['long_name'] = 'density potential temperature anomaly'\n",
    "DTPAnomaly_nc.attrs['units'] = \"Kkg/kg\"\n",
    "\n",
    "####### combining variables into single nc file #################################################\n",
    "output=xr.merge([QP_nc, DTPAnomaly_nc])\n",
    "\n",
    "from datetime import datetime\n",
    "date=datetime.now()\n",
    "date=f'{date.strftime(\"%y\")}{date.strftime(\"%m\")}{date.strftime(\"%d\")}'\n",
    "output.to_netcdf(f'{dir}cold pool tracking/QPDPTAnomaly_{date}.nc/')\n",
    "# xr.open_dataset(f'{dir}cold pool tracking/QPDTPAnomaly.nc') \n",
    "\n",
    "end_time = timer.time(); elapsed_time = end_time - start_time; print(f\"Total Elapsed Time: {elapsed_time} seconds\")\n",
    "#576t34z100y512x 3 minutes"
   ]
  }
 ],
 "metadata": {
  "kernelspec": {
   "display_name": "Python 3 (ipykernel)",
   "language": "python",
   "name": "python3"
  },
  "language_info": {
   "codemirror_mode": {
    "name": "ipython",
    "version": 3
   },
   "file_extension": ".py",
   "mimetype": "text/x-python",
   "name": "python",
   "nbconvert_exporter": "python",
   "pygments_lexer": "ipython3",
   "version": "3.11.8"
  }
 },
 "nbformat": 4,
 "nbformat_minor": 5
}

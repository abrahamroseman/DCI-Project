{
 "cells": [
  {
   "cell_type": "code",
   "execution_count": 17,
   "id": "0aa96c72-8346-4bc9-99b4-d5d23b7d8b43",
   "metadata": {},
   "outputs": [],
   "source": [
    "## Cold pool tracking (step1-4) by Mingyue Tang\n",
    "## step 2 for tracking cold pools\n",
    "## already calculate density potential temperature and flagged all the cores as 1 (others are 0)\n",
    "# 4-D BFS \n",
    "import torch"
   ]
  },
  {
   "cell_type": "code",
   "execution_count": 19,
   "id": "7aa39777-9963-4c77-a123-2e2b5cdd9e3c",
   "metadata": {},
   "outputs": [],
   "source": [
    "def distance4D(data, pivot):   # 4-D with 2 periodic boudaries  #*** need to fix for open boudnary conditions in x \n",
    "    L = 100      # Lx = Ly \n",
    "    diffs = torch.zeros_like(data)\n",
    "    for j in [0,1,3]:  #non-periodic in t,z,x\n",
    "        diffs[:,j] = torch.abs(data[:,j] - pivot[j])\n",
    "    for j in [2]:  #periodic in y \n",
    "        vmin = torch.min(data[:,j], pivot[j])\n",
    "        vmax = torch.max(data[:,j], pivot[j])\n",
    "        diffs[:,j] = torch.min(vmax-vmin, L+vmin-vmax)\n",
    "    return diffs[:,0:4]\n",
    "\n",
    "\n",
    "def check(data, threshold):\n",
    "    is_correct = True\n",
    "    for i in range(int(torch.max(data[:,4]))):\n",
    "        group = data[torch.where(data[:,4]==i)]\n",
    "        for j in range(len(group)):\n",
    "            dis = distance4D(group, group[j])\n",
    "            dis = torch.sum(dis, 1)\n",
    "            num_correct_rows = torch.sum(torch.le(dis, threshold)*1.0)\n",
    "            is_this_correct = torch.ge(num_correct_rows,1)\n",
    "            is_correct = is_this_correct and is_correct\n",
    "    return is_correct\n",
    "\n",
    "###### data = cores_tzyx_gn (t, z, y, x, groupnumber) , 5D ###################\n",
    "path = '/mnt/lustre/koa/koastore/torri_group/air_directory/cold pool tracking/'\n",
    "data = torch.load(path+'step1-findflag_cores_tzyx_tensor-240620.pt')\n",
    "data = data.cuda()    #uses GPUS*"
   ]
  },
  {
   "cell_type": "code",
   "execution_count": null,
   "id": "07066f5a-8c4b-4e5f-b11b-854bbc985e1d",
   "metadata": {},
   "outputs": [],
   "source": [
    "#### BFS by matrix   04/10/2022 ##############################################################\n",
    "threshold = 1   \n",
    "acc_group_number = 0\n",
    "\n",
    "for prnt,i in enumerate(range(len(data))):\n",
    "    if prnt%1e4==0: print(f'current step: {prnt}/{len(data)}')\n",
    "    pivot = data[i]\n",
    "    diffs = distance4D(data, pivot)\n",
    "    is_valid = torch.le( torch.sum( torch.gt(diffs[:,0:4], 0) *1.0, 1 ) , 1) * 1.0 # only one dim has dis = 1\n",
    "    diffs = diffs[:,0:4] - (threshold+1)\n",
    "    diffs = torch.max(diffs, 1)[0]    \n",
    "    diffs = torch.lt(diffs, 0) * 1.0\n",
    "    is_valid = diffs * is_valid\n",
    "    collision_group_numbers = data[:,4][torch.where(data[:,4]*is_valid!=0)]\n",
    "    if len(collision_group_numbers) > 0: \n",
    "        group_numbers = data[:,4]\n",
    "        group_numbers_repeat = group_numbers.repeat(len(collision_group_numbers),1).t()\n",
    "        group_numbers_divide = group_numbers_repeat / collision_group_numbers\n",
    "        group_numbers_eq1 = torch.eq(group_numbers_divide, 1)\n",
    "        group_numbers_sum = torch.sum(group_numbers_eq1*1.0, dim=-1)\n",
    "        valid_group_number_indices = torch.where(group_numbers_sum==1)\n",
    "        is_valid[valid_group_number_indices] = 1\n",
    "\n",
    "        cur_group_number = torch.min(collision_group_numbers)\n",
    "    else:\n",
    "        cur_group_number = torch.max(data[:,4]) + 1\n",
    "    data[:,4] = cur_group_number * is_valid + data[:,4] * (1-is_valid)\n",
    "\n",
    "data = data.cpu()  #uses GPUS*\n",
    "######## save data as tensor ########################################\n",
    "torch.save(data, path+'step2-color_cores_tzyx_gn_tensor-220711.pt')"
   ]
  },
  {
   "cell_type": "code",
   "execution_count": 1,
   "id": "ad3892c5-9964-4887-a616-3f15ec6cb89b",
   "metadata": {},
   "outputs": [],
   "source": [
    "# import sys\n",
    "# sys.getsizeof(data)"
   ]
  }
 ],
 "metadata": {
  "kernelspec": {
   "display_name": "Python 3 (ipykernel)",
   "language": "python",
   "name": "python3"
  },
  "language_info": {
   "codemirror_mode": {
    "name": "ipython",
    "version": 3
   },
   "file_extension": ".py",
   "mimetype": "text/x-python",
   "name": "python",
   "nbconvert_exporter": "python",
   "pygments_lexer": "ipython3",
   "version": "3.11.8"
  }
 },
 "nbformat": 4,
 "nbformat_minor": 5
}

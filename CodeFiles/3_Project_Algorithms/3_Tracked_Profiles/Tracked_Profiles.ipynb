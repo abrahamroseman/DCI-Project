{
 "cells": [
  {
   "cell_type": "code",
   "execution_count": 1,
   "id": "557e3442-1516-46e6-b515-b9ca40a1151b",
   "metadata": {},
   "outputs": [
    {
     "name": "stdout",
     "output_type": "stream",
     "text": [
      "Using default dataName: Variables\n"
     ]
    }
   ],
   "source": [
    "########################################\n",
    "#getting system arguments\n",
    "import sys\n",
    "def GetArg_dataName(default=\"Variables\"):\n",
    "    \"\"\"\n",
    "    Safely retrieve dataName from sys.argv.\n",
    "    #Run One: python Tracked_Profiles.py Variables\n",
    "    #Run Two: python Tracked_Profiles.py Entrainment\n",
    "    #Run Three: python Tracked_Profiles.py PROCESSED_Entrainment\n",
    "    #Run Four: python Tracked_Profiles.py W_Budgets\n",
    "    #Run Five: python Tracked_Profiles.py QV_Budgets\n",
    "    #Run Six: python Tracked_Profiles.py TH_Budgets\n",
    "    \"\"\"\n",
    "    # If run inside Jupyter, sys.argv will include ipykernel arguments\n",
    "    if any(\"ipykernel_launcher\" in arg for arg in sys.argv):\n",
    "        print(f\"Using default dataName: {default}\")\n",
    "        return default\n",
    "\n",
    "    # If a user-specified argument exists, use it\n",
    "    if len(sys.argv) > 1:\n",
    "        out=sys.argv[1]\n",
    "        print(f\"Using argument dataName: {out}\")\n",
    "        return out\n",
    "\n",
    "    return default\n",
    "\n",
    "dataName = GetArg_dataName()"
   ]
  },
  {
   "cell_type": "code",
   "execution_count": 2,
   "id": "cac61f8e-07d4-466d-9bbc-7db78e94af5c",
   "metadata": {},
   "outputs": [],
   "source": [
    "####################################\n",
    "#ENVIRONMENT SETUP"
   ]
  },
  {
   "cell_type": "code",
   "execution_count": 3,
   "id": "37181109-7bb0-4238-8f70-c7f13877142b",
   "metadata": {},
   "outputs": [],
   "source": [
    "#Importing Libraries\n",
    "import numpy as np\n",
    "import matplotlib.pyplot as plt\n",
    "import matplotlib.colors as mcolors\n",
    "import matplotlib.ticker as ticker\n",
    "import matplotlib.cm as cm\n",
    "from matplotlib.colors import Normalize\n",
    "from matplotlib.ticker import MaxNLocator\n",
    "from matplotlib.ticker import ScalarFormatter\n",
    "import matplotlib.gridspec as gridspec\n",
    "import xarray as xr\n",
    "\n",
    "import sys; import os; import time; from datetime import timedelta\n",
    "import pickle\n",
    "import h5py"
   ]
  },
  {
   "cell_type": "code",
   "execution_count": 4,
   "id": "ab3bffd3-e090-4026-923a-2cc4bc557d34",
   "metadata": {},
   "outputs": [],
   "source": [
    "#MAIN DIRECTORIES\n",
    "def GetDirectories():\n",
    "    mainDirectory='/mnt/lustre/koa/koastore/torri_group/air_directory/Projects/DCI-Project/'\n",
    "    mainCodeDirectory=os.path.join(mainDirectory,\"Code/CodeFiles/\")\n",
    "    scratchDirectory='/mnt/lustre/koa/scratch/air673/'\n",
    "    codeDirectory=os.getcwd()\n",
    "    return mainDirectory,mainCodeDirectory,scratchDirectory,codeDirectory\n",
    "\n",
    "[mainDirectory,mainCodeDirectory,scratchDirectory,codeDirectory] = GetDirectories()"
   ]
  },
  {
   "cell_type": "code",
   "execution_count": 5,
   "id": "e7d39021-473b-4586-b4cd-c5f501b14ee6",
   "metadata": {},
   "outputs": [],
   "source": [
    "#IMPORT CLASSES\n",
    "sys.path.append(os.path.join(mainCodeDirectory,\"2_Variable_Calculation\"))\n",
    "from CLASSES_Variable_Calculation import ModelData_Class, SlurmJobArray_Class, DataManager_Class"
   ]
  },
  {
   "cell_type": "code",
   "execution_count": 6,
   "id": "b0688da7-0218-448e-8ec6-fba1185442b1",
   "metadata": {},
   "outputs": [],
   "source": [
    "#IMPORT FUNCTIONS\n",
    "sys.path.append(os.path.join(mainCodeDirectory,\"2_Variable_Calculation\"))\n",
    "import FUNCTIONS_Variable_Calculation\n",
    "from FUNCTIONS_Variable_Calculation import *"
   ]
  },
  {
   "cell_type": "code",
   "execution_count": 7,
   "id": "4a02959c-50c9-42a2-8258-00ed6ec4dbf4",
   "metadata": {},
   "outputs": [
    {
     "name": "stdout",
     "output_type": "stream",
     "text": [
      "=== CM1 Data Summary ===\n",
      " Simulation #:   1\n",
      " Resolution:     1km\n",
      " Time step:      5min\n",
      " Vertical levels:34\n",
      " Parcels:        1e6\n",
      " Data file:      /mnt/lustre/koa/koastore/torri_group/air_directory/Projects/DCI-Project/Model/cm1r20.3/run/cm1out_1km_5min_34nz.nc\n",
      " Parcel file:    /mnt/lustre/koa/koastore/torri_group/air_directory/Projects/DCI-Project/Model/cm1r20.3/run/cm1out_pdata_1km_5min_1e6np.nc\n",
      " Time steps:     133\n",
      "========================= \n",
      "\n",
      "=== DataManager Summary ===\n",
      " inputDirectory #:   /mnt/lustre/koa/koastore/torri_group/air_directory/Projects/DCI-Project/Code/OUTPUT/Variable_Calculation/TimeSplitModelData\n",
      " outputDirectory #:   /mnt/lustre/koa/koastore/torri_group/air_directory/Projects/DCI-Project/Code/OUTPUT/Project_Algorithms/Tracking_Algorithms\n",
      " inputDataDirectory #:   /mnt/lustre/koa/koastore/torri_group/air_directory/Projects/DCI-Project/Code/OUTPUT/Variable_Calculation/TimeSplitModelData/1km_5min_34nz/ModelData\n",
      " inputParcelDirectory #:   /mnt/lustre/koa/koastore/torri_group/air_directory/Projects/DCI-Project/Code/OUTPUT/Variable_Calculation/TimeSplitModelData/1km_5min_34nz/ParcelData\n",
      " outputDataDirectory #:   /mnt/lustre/koa/koastore/torri_group/air_directory/Projects/DCI-Project/Code/OUTPUT/Project_Algorithms/Tracking_Algorithms/1km_5min_34nz/Lagrangian_UpdraftTracking\n",
      "========================= \n",
      "\n"
     ]
    }
   ],
   "source": [
    "#data loading class\n",
    "ModelData = ModelData_Class(mainDirectory, scratchDirectory, simulationNumber=1)\n",
    "#data manager class\n",
    "DataManager = DataManager_Class(mainDirectory, scratchDirectory, ModelData.res, ModelData.t_res, ModelData.Nz_str,\n",
    "                                ModelData.Np_str, dataType=\"Tracking_Algorithms\", dataName=\"Lagrangian_UpdraftTracking\",\n",
    "                                dtype='float32',codeSection = \"Project_Algorithms\")"
   ]
  },
  {
   "cell_type": "code",
   "execution_count": 8,
   "id": "8e5c2320-7863-48af-aa19-3fb08f326864",
   "metadata": {},
   "outputs": [
    {
     "name": "stdout",
     "output_type": "stream",
     "text": [
      "=== DataManager Summary ===\n",
      " inputDirectory #:   /mnt/lustre/koa/koastore/torri_group/air_directory/Projects/DCI-Project/Code/OUTPUT/Variable_Calculation/TimeSplitModelData\n",
      " outputDirectory #:   /mnt/lustre/koa/koastore/torri_group/air_directory/Projects/DCI-Project/Code/OUTPUT/Project_Algorithms/Tracked_Profiles\n",
      " inputDataDirectory #:   /mnt/lustre/koa/koastore/torri_group/air_directory/Projects/DCI-Project/Code/OUTPUT/Variable_Calculation/TimeSplitModelData/1km_5min_34nz/ModelData\n",
      " inputParcelDirectory #:   /mnt/lustre/koa/koastore/torri_group/air_directory/Projects/DCI-Project/Code/OUTPUT/Variable_Calculation/TimeSplitModelData/1km_5min_34nz/ParcelData\n",
      " outputDataDirectory #:   /mnt/lustre/koa/koastore/torri_group/air_directory/Projects/DCI-Project/Code/OUTPUT/Project_Algorithms/Tracked_Profiles/1km_5min_34nz/Tracked_Profiles\n",
      "========================= \n",
      "\n"
     ]
    }
   ],
   "source": [
    "#data manager class (for saving data)\n",
    "DataManager_TrackedProfiles = DataManager_Class(mainDirectory, scratchDirectory, ModelData.res, ModelData.t_res, ModelData.Nz_str,\n",
    "                                ModelData.Np_str, dataType=\"Tracked_Profiles\", dataName=\"Tracked_Profiles\",\n",
    "                                dtype='float32',codeSection = \"Project_Algorithms\")"
   ]
  },
  {
   "cell_type": "code",
   "execution_count": 9,
   "id": "08c628b2-be48-45f1-927d-f2b140595918",
   "metadata": {},
   "outputs": [],
   "source": [
    "#IMPORT CLASSES\n",
    "sys.path.append(os.path.join(mainCodeDirectory,\"3_Project_Algorithms\",\"2_Tracking_Algorithms\"))\n",
    "from CLASSES_TrackingAlgorithms import TrackingAlgorithms_DataLoading_Class, Results_InputOutput_Class, TrackedParcel_Loading_Class"
   ]
  },
  {
   "cell_type": "code",
   "execution_count": 12,
   "id": "3b54d26b-1af4-44a5-80f2-902188c9c105",
   "metadata": {},
   "outputs": [],
   "source": [
    "# IMPORT CLASSES\n",
    "sys.path.append(os.path.join(mainCodeDirectory,\"3_Project_Algorithms\",\"3_Tracked_Profiles\"))\n",
    "from CLASSES_TrackedProfiles import TrackedProfiles_DataLoading_CLASS"
   ]
  },
  {
   "cell_type": "code",
   "execution_count": 13,
   "id": "f3e71475-984b-4da3-a1f3-5551963b7e6c",
   "metadata": {},
   "outputs": [],
   "source": [
    "##############################################\n",
    "#JOB ARRAY"
   ]
  },
  {
   "cell_type": "code",
   "execution_count": 25,
   "id": "09729c6a-2637-46be-b33c-a691d9bb9e9c",
   "metadata": {},
   "outputs": [
    {
     "name": "stdout",
     "output_type": "stream",
     "text": [
      "Running timesteps from 0:132 \n",
      "\n"
     ]
    }
   ],
   "source": [
    "#JOB ARRAY SETUP\n",
    "UsingJobArray=True\n",
    "\n",
    "def GetNumJobs(res):\n",
    "    if res=='1km':\n",
    "        num_jobs=20\n",
    "    elif res=='250m': \n",
    "        num_jobs=100\n",
    "    return num_jobs\n",
    "num_jobs = GetNumJobs(ModelData.res)\n",
    "SlurmJobArray = SlurmJobArray_Class(total_elements=ModelData.Ntime, num_jobs=num_jobs, UsingJobArray=UsingJobArray)\n",
    "start_job = SlurmJobArray.start_job; end_job = SlurmJobArray.end_job\n",
    "\n",
    "def GetNumElements():\n",
    "    num_elements = np.arange(ModelData.Ntime)[start_job:end_job]\n",
    "    return num_elements\n",
    "num_elements = GetNumElements()"
   ]
  },
  {
   "cell_type": "code",
   "execution_count": 15,
   "id": "79dcac64-8089-49fd-b25b-f096bca9c630",
   "metadata": {},
   "outputs": [],
   "source": [
    "##############################################\n",
    "#DATA LOADING FUNCTIONS"
   ]
  },
  {
   "cell_type": "code",
   "execution_count": 16,
   "id": "38f0ccba-84fe-4382-9f18-32f3ac6b340d",
   "metadata": {},
   "outputs": [],
   "source": [
    "def MakeDataDictionary(variableNames,t,printstatement=False):\n",
    "    timeString = ModelData.timeStrings[t]\n",
    "    # print(f\"Getting data from {timeString}\",\"\\n\")\n",
    "    \n",
    "    dataDictionary = {variableName: CallLagrangianArray(ModelData, DataManager, timeString, variableName=variableName, printstatement=printstatement) \n",
    "                      for variableName in variableNames}      \n",
    "    return dataDictionary\n",
    "    \n",
    "def GetSpatialData(t):    \n",
    "    variableNames = ['Z']\n",
    "    dataDictionary = MakeDataDictionary(variableNames,t)\n",
    "    [Z] = (dataDictionary[k] for k in variableNames)\n",
    "    return Z"
   ]
  },
  {
   "cell_type": "code",
   "execution_count": 17,
   "id": "f0f6596f-f2c3-4593-97a2-3645af704a3d",
   "metadata": {},
   "outputs": [],
   "source": [
    "####################################\n",
    "#RUN SETUP"
   ]
  },
  {
   "cell_type": "code",
   "execution_count": 18,
   "id": "07da98cd-dff3-4222-ae69-506f976ebfec",
   "metadata": {},
   "outputs": [],
   "source": [
    "#data variable list\n",
    "def GetVarNames(dataName): \n",
    "    if dataName==\"Variables\":\n",
    "        varNames = ['W', 'QCQI', 'RH_vapor', 'theta_v', 'theta_e', 'MSE', 'HMC','VMF_g','VMF_c']\n",
    "    elif dataName == \"Entrainment\":\n",
    "        varNames = ['Entrainment_g','Entrainment_c',\n",
    "                    'TransferEntrainment_g',\n",
    "                    'TransferEntrainment_c']\n",
    "        varNames += ['Detrainment_g','Detrainment_c',\n",
    "                     'TransferDetrainment_g',\n",
    "                     'TransferDetrainment_c']\n",
    "    elif dataName == \"PROCESSED_Entrainment\":\n",
    "        varNames = ['PROCESSED_Entrainment_g','PROCESSED_Entrainment_c',\n",
    "                    'PROCESSED_TransferEntrainment_g',\n",
    "                    'PROCESSED_TransferEntrainment_c']\n",
    "        varNames += ['PROCESSED_Detrainment_g','PROCESSED_Detrainment_c',\n",
    "                     'PROCESSED_TransferDetrainment_g',\n",
    "                     'PROCESSED_TransferDetrainment_c']\n",
    "    elif dataName==\"W_Budgets\":\n",
    "        varNames = [\"wb_hadv\", \"wb_vadv\", \"wb_hidiff\", \"wb_vidiff\", \n",
    "                    \"wb_hturb\", \"wb_vturb\", \"wb_pgrad\", \"wb_buoy\"]\n",
    "    elif dataName==\"QV_Budgets\":\n",
    "        varNames = [\"qvb_hadv\", \"qvb_vadv\", \"qvb_hidiff\", \"qvb_vidiff\", \n",
    "                    \"qvb_hturb\", \"qvb_vturb\", \"qvb_mp\"]\n",
    "    elif dataName==\"TH_Budgets\":\n",
    "        varNames = [\"ptb_hadv\", \"ptb_vadv\", \"ptb_hidiff\", \"ptb_vidiff\", \n",
    "                 \"ptb_hturb\", \"ptb_vturb\", \"ptb_mp\", \"ptb_rad\", \"ptb_div\", \"ptb_diss\"]\n",
    "    return varNames"
   ]
  },
  {
   "cell_type": "code",
   "execution_count": 19,
   "id": "42a6d268-c714-47a0-bba8-2acb1f8fc659",
   "metadata": {},
   "outputs": [],
   "source": [
    "########################################\n",
    "#RUNNING FUNCTIONS"
   ]
  },
  {
   "cell_type": "code",
   "execution_count": 26,
   "id": "7f3f9380-ba6f-4f6b-8d1b-af30906893e5",
   "metadata": {},
   "outputs": [],
   "source": [
    "#Functions for Initializing Profile Arrays\n",
    "def CopyStructure(dictionary, placeholder=None):\n",
    "    \"\"\"Deep-copy dictionary structure, replacing leaves with a given placeholder.\"\"\"\n",
    "    if isinstance(dictionary, dict):\n",
    "        return {k: CopyStructure(v, placeholder) for k, v in dictionary.items()}\n",
    "    else:\n",
    "        return placeholder\n",
    "\n",
    "def InitializeProfileArrays(trackedArrays, varNames, zhs=ModelData.zh):\n",
    "    \"\"\"\n",
    "    Create a new dictionary with the same nested structure as trackedArrays,\n",
    "    and for each variable name, create:\n",
    "        - 'profile_array'\n",
    "        - 'profile_array_squares'\n",
    "    Each array has shape (len(zhs), 3) and zhs in the last column.\n",
    "    \"\"\"\n",
    "    profileArraysDictionary = {}\n",
    "\n",
    "    for category, depth_dict in trackedArrays.items():  # e.g. 'CL', 'SBF'\n",
    "        profileArraysDictionary[category] = {}\n",
    "\n",
    "        for depth_type in depth_dict.keys():  # e.g. 'ALL', 'SHALLOW', 'DEEP'\n",
    "            profileArraysDictionary[category][depth_type] = {}\n",
    "\n",
    "            for varName in varNames:\n",
    "                # Create base profile array\n",
    "                base_profile = np.zeros((len(zhs), 3))\n",
    "                base_profile[:, 2] = zhs\n",
    "\n",
    "                profileArraysDictionary[category][depth_type][varName] = {\n",
    "                    \"profile_array\": base_profile.copy(),\n",
    "                    \"profile_array_squares\": base_profile.copy()\n",
    "                }\n",
    "    return profileArraysDictionary"
   ]
  },
  {
   "cell_type": "code",
   "execution_count": 27,
   "id": "b2239d20-968f-4380-9869-ca8894461321",
   "metadata": {},
   "outputs": [],
   "source": [
    "def GetParcelNumbers(trackedArray, t):\n",
    "    \"\"\"\n",
    "    Return all parcel indices (p) and their corresponding row indices\n",
    "    for parcels that are active at time t.\n",
    "    Vectorized, no row-by-row loops.\n",
    "    \"\"\"\n",
    "    t_start = trackedArray[:, 1]\n",
    "    t_end   = np.minimum(trackedArray[:, 2] + trackedArray[:, 3], ModelData.Ntime)\n",
    "\n",
    "    # Boolean mask for rows active at time t\n",
    "    mask = (t >= t_start) & (t <= t_end)\n",
    "\n",
    "    # Extract parcel numbers and their corresponding row indices\n",
    "    selectedRows = np.where(mask)[0]\n",
    "    selectedPs = trackedArray[selectedRows, 0]\n",
    "\n",
    "    return selectedPs, selectedRows"
   ]
  },
  {
   "cell_type": "code",
   "execution_count": 28,
   "id": "ccbc448f-ad42-4efc-ab9a-18530e8f5cec",
   "metadata": {
    "scrolled": true
   },
   "outputs": [],
   "source": [
    "def MakeTrackedProfiles(trackedArrays,profileArraysDictionary,varNames,VARs,Z,t):\n",
    "    \"\"\"\n",
    "    Update profileArraysDictionary with variable data for parcels active at time t.\n",
    "    Accumulates sums and counts in both profile_array and profile_array_squares.\n",
    "    \"\"\"\n",
    "    #CALCULATING\n",
    "    for key1, subdict in trackedArrays.items():         # e.g. 'CL', 'SBF'\n",
    "        print(\"\\t\",f'working on {key1}')\n",
    "        for key2, trackedArray in subdict.items():           # e.g. 'ALL', 'DEEP'\n",
    "            print(\"\\t\\t\",f'working on {key2}')\n",
    "            #loading the profile array to fill\n",
    "            profileArray = profileArraysDictionary[key1][key2] \n",
    "    \n",
    "            #getting parcels in trackedArray to run through\n",
    "            selectedPs, _ = GetParcelNumbers(trackedArray, t) #get parcels that are counted at time t\n",
    "    \n",
    "            #getting Z data\n",
    "            zLevels = Z[selectedPs]\n",
    "            for varName in varNames:\n",
    "                #getting data\n",
    "                results = VARs[varName][selectedPs]\n",
    "                #appending data to profile arrays\n",
    "                for arrayName in [\"profile_array\",\"profile_array_squares\"]:\n",
    "                    np.add.at(profileArray[varName][arrayName][:,0], zLevels, results) \n",
    "                    np.add.at(profileArray[varName][arrayName][:,1], zLevels, 1) \n",
    "    return profileArraysDictionary"
   ]
  },
  {
   "cell_type": "code",
   "execution_count": 29,
   "id": "8dd77179-8256-471e-bbb8-b87068468dcf",
   "metadata": {},
   "outputs": [],
   "source": [
    "########################################\n",
    "#RUNNING"
   ]
  },
  {
   "cell_type": "code",
   "execution_count": 30,
   "id": "ee10e006-a80f-4e9b-aa79-757c9c8adebb",
   "metadata": {},
   "outputs": [
    {
     "name": "stdout",
     "output_type": "stream",
     "text": [
      "CL: ALL=12239, SHALLOW=8532, DEEP=1349\n",
      "nonCL: ALL=10043, SHALLOW=7684, DEEP=1113\n",
      "SBF: ALL=1905, SHALLOW=961, DEEP=489\n",
      "ColdPool: ALL=10334, SHALLOW=7571, DEEP=860\n",
      "Mean Cloudbase is: 1.45 km\n",
      "\n",
      "Min Cloudbase is: 1.25 km\n",
      "\n",
      "Mean LFC is: 1.93 km\n",
      "\n",
      "Mean LCL is: 1.79 km\n",
      "\n",
      "Min LFC is: 1.45 km\n",
      "\n",
      "Min LCL is: 1.37 km\n",
      "\n"
     ]
    }
   ],
   "source": [
    "#Loading in Tracked Parcels Info\n",
    "trackedArrays,LevelsDictionary = TrackedParcel_Loading_Class.LoadingSubsetParcelData(ModelData,DataManager,\n",
    "                                                         Results_InputOutput_Class)\n",
    "# Get Variable Names\n",
    "varNames = GetVarNames(dataName)\n",
    "varNames = varNames[0:1] #*#* need to get all variables working"
   ]
  },
  {
   "cell_type": "code",
   "execution_count": null,
   "id": "8d3bbd35-57dc-444d-a94d-509e179efd53",
   "metadata": {
    "scrolled": true
   },
   "outputs": [],
   "source": [
    "for t in num_elements:\n",
    "    if dataName in ['Entrainment','PROCESSED_Entrainment'] and t == ModelData.Ntime-1:\n",
    "        continue\n",
    "    print(\"#\" * 40,\"\\n\",f\"Processing timestep {t}/{num_elements[-1]}\")\n",
    "    timeString = ModelData.timeStrings[t]\n",
    "\n",
    "    #Forming Dictionary for Profile Arrays for current timestep\n",
    "    trackedProfileArrays = CopyStructure(trackedArrays)\n",
    "    profileArraysDictionary = InitializeProfileArrays(trackedProfileArrays,varNames)\n",
    "    \n",
    "    #getting variable data\n",
    "    VARs = MakeDataDictionary(varNames, t)\n",
    "    Z = GetSpatialData(t)\n",
    "\n",
    "    #making tracked profiles\n",
    "    profileArraysDictionary = MakeTrackedProfiles(trackedArrays,profileArraysDictionary,varNames,VARs,Z,t)\n",
    "\n",
    "    #saving tracked profiles for current timestep\n",
    "    TrackedProfiles_DataLoading_CLASS.SaveProfile(ModelData,DataManager_TrackedProfiles, profileArraysDictionary, t)"
   ]
  },
  {
   "cell_type": "code",
   "execution_count": null,
   "id": "72b9a29c-6752-4f16-bd67-4752eefe0652",
   "metadata": {},
   "outputs": [],
   "source": [
    "#########################################\n",
    "#RECOMBINE SEPERATE JOB_ARRAYS AFTER\n",
    "recombine=False #KEEP FALSE WHEN JOBARRAY IS RUNNING\n",
    "# recombine=True"
   ]
  },
  {
   "cell_type": "code",
   "execution_count": null,
   "id": "e9c28bc4-f9dc-41c9-b6e7-1868533ae06b",
   "metadata": {},
   "outputs": [],
   "source": [
    "#*#* need to instead combine timestep by timestep"
   ]
  },
  {
   "cell_type": "code",
   "execution_count": null,
   "id": "f6ac2e0d-e302-44d2-9967-6569848d0da9",
   "metadata": {
    "jupyter": {
     "source_hidden": true
    }
   },
   "outputs": [],
   "source": [
    "def GetInputFile(data_type,job_id,dir2,PROCESSING):\n",
    "    #CALLING IN DATA\n",
    "    if PROCESSING==True:\n",
    "        input_file=dir2 + f\"{data_type}_\" + f\"tracked_profiles_{res}_{t_res}_{Np_str}_{job_id}.h5\"\n",
    "    elif PROCESSING==False:\n",
    "        input_file=dir2 + f\"{data_type}_\" + f\"tracked_profiles_{res}_{t_res}_{Np_str}_ORIGINAL_{job_id}.h5\"\n",
    "    return input_file\n",
    "def GetOutputFile(data_type,type1,type2,dir3,PROCESSING):\n",
    "    if type2==None:\n",
    "        if PROCESSING==True:\n",
    "            output_file=dir3 + f\"{data_type}_\" + f\"{type1}_tracked_profiles_{res}_{t_res}_{Np_str}.h5\"\n",
    "        elif PROCESSING==False:\n",
    "            output_file=dir3 + f\"{data_type}_\" + f\"{type1}_tracked_profiles_{res}_{t_res}_{Np_str}_ORIGINAL.h5\"\n",
    "    else:\n",
    "        if PROCESSING==True:\n",
    "            output_file=dir3 + f\"{data_type}_\" + f\"{type1}_{type2}_tracked_profiles_{res}_{t_res}_{Np_str}.h5\"\n",
    "        elif PROCESSING==False:\n",
    "            output_file=dir3 + f\"{data_type}_\" + f\"{type1}_{type2}_tracked_profiles_{res}_{t_res}_{Np_str}_ORIGINAL.h5\"\n",
    "    return output_file\n",
    "def Recombine(type1,type2,num_jobs):\n",
    "    global variables\n",
    "    print(f'recombining {type1}_{type2}')\n",
    "    if type2==None:\n",
    "        type2s = [f\"{type1}\"]\n",
    "    else:\n",
    "        type2s = [f\"{type1}\",f\"{type2}\"]\n",
    "    types = [\"ALL\", \"SHALLOW\", \"DEEP\"]\n",
    "\n",
    "    dir2=dir+'Project_Algorithms/Tracked_Profiles/SBATCH/job_out2/'\n",
    "    dir3=dir+'Project_Algorithms/Tracked_Profiles/OUTPUT_FILES/'\n",
    "    \n",
    "    #MAKING OUTPUT FILE PATH\n",
    "    output_file=GetOutputFile(data_type,type1,type2,dir3,PROCESSING)\n",
    "\n",
    "    job_id=1; input_file=GetInputFile(data_type,job_id,dir2,PROCESSING)\n",
    "    with h5py.File(input_file, 'r') as f:\n",
    "        all_keys = list(f.keys())\n",
    "        vars_list = [k for k in all_keys if any(t2 in k for t2 in type2s)]\n",
    "\n",
    "    \n",
    "    #MAKING PROFILES DICTIONARY\n",
    "    zhs = data1['zh'].values\n",
    "    profiles = {}  # Store profiles for all variables\n",
    "    for var in vars_list:\n",
    "        profiles[var] = np.zeros((len(zhs), 3))  # column 1: var, column 2: counter, column 3: list of zhs\n",
    "        profiles[var][:, 2] = zhs \n",
    "\n",
    "    for job_id in np.arange(1,num_jobs+1):\n",
    "        if np.mod(job_id,20)==0: print(f\"job_id = {job_id}\")\n",
    "    \n",
    "        #CALLING IN DATA\n",
    "        input_file=GetInputFile(data_type,job_id,dir2,PROCESSING)\n",
    "    \n",
    "        #COMPILING PROFILES\n",
    "        with h5py.File(input_file, 'r') as f:\n",
    "            for var in vars_list:\n",
    "                profiles[var][:,0:1+1]+=f[f'{var}'][:,0:1+1]\n",
    "    \n",
    "    #SAVING INTO FINAL FORM\n",
    "    with h5py.File(output_file, 'w') as f:\n",
    "        for var in profiles:\n",
    "            profile_var = profiles[var]\n",
    "            f.create_dataset(f'{var}', data=profile_var, compression=\"gzip\")"
   ]
  },
  {
   "cell_type": "code",
   "execution_count": null,
   "id": "1ce1cfa2-f7bb-42b6-8cd7-be28ea7f99ff",
   "metadata": {
    "scrolled": true
   },
   "outputs": [],
   "source": [
    "if recombine==True:\n",
    "    Recombine(type1='CL',type2='nonCL',num_jobs=num_jobs)\n",
    "    Recombine(type1='SBZ',type2='nonSBZ',num_jobs=num_jobs)\n",
    "    Recombine(type1='ColdPool',type2=None,num_jobs=num_jobs)"
   ]
  },
  {
   "cell_type": "code",
   "execution_count": null,
   "id": "da2f8664-8602-46e0-9ef9-73ed132b63cf",
   "metadata": {},
   "outputs": [],
   "source": []
  },
  {
   "cell_type": "code",
   "execution_count": null,
   "id": "3da41e33-c59b-41ea-a132-5f7cea45e381",
   "metadata": {},
   "outputs": [],
   "source": []
  },
  {
   "cell_type": "code",
   "execution_count": null,
   "id": "1f54b232-cad6-404a-b5d2-05ed06031357",
   "metadata": {},
   "outputs": [],
   "source": []
  },
  {
   "cell_type": "code",
   "execution_count": 330,
   "id": "a840f152-86a8-4836-aed4-5260f10d2859",
   "metadata": {},
   "outputs": [],
   "source": [
    "##############################################\n",
    "#TESTING"
   ]
  },
  {
   "cell_type": "code",
   "execution_count": 331,
   "id": "99be9ca9-f8c1-482a-8294-fb843b3cc057",
   "metadata": {},
   "outputs": [],
   "source": [
    "# #testing: comparing above vectorized version to multi-loop version below\n",
    "\n",
    "# #pure calculation method (slow)\n",
    "# t=80\n",
    "\n",
    "# a = trackedArrays['CL']['DEEP']\n",
    "# ps = a[:,0]\n",
    "# t1s = a[:,1]\n",
    "# t2s = a[:,2]+a[:,3]\n",
    "\n",
    "# profile=np.zeros((ModelData.Nzh,3))\n",
    "# profile[:,2] = ModelData.zh\n",
    "\n",
    "# plen = len(ps)\n",
    "# for count, (p,t1,t2) in enumerate(zip(ps,t1s,t2s)):\n",
    "#     if count % 100 == 0: print(f\"{count}/{plen}\")\n",
    "#     ts = np.arange(t1, t2+1)\n",
    "    \n",
    "#     for t_ in ts:\n",
    "#         if t_ != t:\n",
    "#             continue\n",
    "#         Z = GetSpatialData(t)[p]\n",
    "#         var = MakeDataDictionary([\"W\"], t=t)[\"W\"][p]\n",
    "#         profile[Z,0]+=var\n",
    "#         profile[Z,1]+=1\n",
    "\n",
    "\n",
    "# #plotting\n",
    "\n",
    "# def Plot(a,color):\n",
    "#     b= a[:,0]/a[:,1]\n",
    "#     # b*=1000\n",
    "#     plt.plot(b,a[:,2],color=color)\n",
    "# one = profileArraysDictionary['CL']['DEEP']['W']['profile_array'] #created using MakeTrackedProfiles function\n",
    "# two = profile.copy()\n",
    "# Plot(one,color='black')\n",
    "# Plot(two,color='blue') #plots are the same\n",
    "# np.all(one[:,0]==two[:,0]) #=True"
   ]
  },
  {
   "cell_type": "code",
   "execution_count": 394,
   "id": "726a88fd-dfcf-4617-834b-cef87e9febef",
   "metadata": {
    "jupyter": {
     "source_hidden": true
    }
   },
   "outputs": [],
   "source": [
    "# #testing file size of output dictionary\n",
    "# def count_arrays(d):\n",
    "#     \"\"\"Recursively count total number of NumPy arrays in a nested dictionary.\"\"\"\n",
    "#     count = 0\n",
    "#     if isinstance(d, dict):\n",
    "#         for v in d.values():\n",
    "#             count += count_arrays(v)\n",
    "#     elif isinstance(d, np.ndarray):\n",
    "#         count += 1\n",
    "#     return count\n",
    "\n",
    "# # usage\n",
    "# total_arrays = count_arrays(profileArraysDictionary)\n",
    "# print(f\"Total arrays stored: {total_arrays}\")\n",
    "\n",
    "# res_per_array = (ModelData.Nzh*3)\n",
    "# kb_per_array = res_per_array*4/1e3\n",
    "\n",
    "# out = total_arrays*kb_per_array\n",
    "\n",
    "# print(f\"total of {out} KB\") #~25KB per dictionary with 60 profiles within\n",
    "# #true number is more like 512KB or 0.5MB"
   ]
  }
 ],
 "metadata": {
  "kernelspec": {
   "display_name": "work",
   "language": "python",
   "name": "work"
  },
  "language_info": {
   "codemirror_mode": {
    "name": "ipython",
    "version": 3
   },
   "file_extension": ".py",
   "mimetype": "text/x-python",
   "name": "python",
   "nbconvert_exporter": "python",
   "pygments_lexer": "ipython3",
   "version": "3.13.5"
  }
 },
 "nbformat": 4,
 "nbformat_minor": 5
}

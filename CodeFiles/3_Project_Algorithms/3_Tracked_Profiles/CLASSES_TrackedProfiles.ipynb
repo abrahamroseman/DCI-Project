{
 "cells": [
  {
   "cell_type": "code",
   "execution_count": 3,
   "id": "7c7646c2-5e50-409a-ad9a-57881da59f7e",
   "metadata": {},
   "outputs": [],
   "source": [
    "# ============================================================\n",
    "# DomainProfiles_DataLoading_CLASS\n",
    "# ============================================================\n",
    "\n",
    "#Libraries\n",
    "import os\n",
    "import pickle\n",
    "\n",
    "class TrackedProfiles_DataLoading_CLASS:\n",
    "    \"\"\"\n",
    "    A utility class for saving and loading tracked profile results\n",
    "    \"\"\"\n",
    "\n",
    "    @staticmethod\n",
    "    def SaveProfile(ModelData,DataManager, Dictionary, t):\n",
    "        profileType = \"TrackedProfiles\"\n",
    "        timeString = ModelData.timeStrings[t]\n",
    "        \n",
    "        fileName = f\"{profileType}_{ModelData.res}_{ModelData.t_res}_{ModelData.Nz_str}nz_{timeString}.pkl\"\n",
    "        filePath = os.path.join(DataManager.outputDataDirectory,fileName)\n",
    "        \n",
    "        with open(filePath, \"wb\") as f:\n",
    "            pickle.dump(Dictionary, f, protocol=pickle.HIGHEST_PROTOCOL)\n",
    "    \n",
    "        print(f\"Saved output to {filePath}\",\"\\n\")\n",
    "\n",
    "    @staticmethod\n",
    "    def LoadProfile(ModelData, DataManager, t):\n",
    "        \"\"\"\n",
    "        Load a saved TrackedProfiles .pkl file for a given time index t.\n",
    "        \"\"\"\n",
    "        profileType = \"TrackedProfiles\"\n",
    "        timeString = ModelData.timeStrings[t]\n",
    "        \n",
    "        fileName = f\"{profileType}_{ModelData.res}_{ModelData.t_res}_{ModelData.Nz_str}nz_{timeString}.pkl\"\n",
    "        filePath = os.path.join(DataManager.outputDataDirectory,fileName)\n",
    "    \n",
    "        with open(filePath, \"rb\") as f:\n",
    "            Dictionary = pickle.load(f)\n",
    "    \n",
    "        print(f\"Loaded profile dictionary from {filePath}\\n\")\n",
    "        return Dictionary\n",
    "\n",
    "\n",
    "#Example Call\n",
    "#IMPORT CLASSES\n",
    "# sys.path.append(os.path.join(mainCodeDirectory,\"3_Project_Algorithms\",\"3_Tracked_Profiles\"))\n",
    "# from CLASSES_TrackedProfiles import TrackedProfiles_DataLoading_CLASS\n",
    "\n",
    "#Example Run\n",
    "#saving\n",
    "# TrackedProfiles_DataLoading_CLASS.SaveProfile(ModelData,DataManager_TrackedProfiles, profileArraysDictionary, t)\n",
    "#loading\n",
    "# TrackedProfiles_DataLoading_CLASS.LoadProfile(ModelData,DataManager_TrackedProfiles, t)"
   ]
  }
 ],
 "metadata": {
  "kernelspec": {
   "display_name": "Python 3 (ipykernel)",
   "language": "python",
   "name": "python3"
  },
  "language_info": {
   "codemirror_mode": {
    "name": "ipython",
    "version": 3
   },
   "file_extension": ".py",
   "mimetype": "text/x-python",
   "name": "python",
   "nbconvert_exporter": "python",
   "pygments_lexer": "ipython3",
   "version": "3.11.8"
  }
 },
 "nbformat": 4,
 "nbformat_minor": 5
}

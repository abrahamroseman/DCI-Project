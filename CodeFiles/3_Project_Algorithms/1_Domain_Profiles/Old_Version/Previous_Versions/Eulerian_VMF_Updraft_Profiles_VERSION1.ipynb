{
 "cells": [
  {
   "cell_type": "code",
   "execution_count": 146,
   "id": "6ea60562-c790-4305-9459-d4d1e4fda244",
   "metadata": {},
   "outputs": [],
   "source": [
    "#Loading in Packages and Data\n",
    "\n",
    "#Importing Packages\n",
    "import numpy as np\n",
    "import matplotlib.pyplot as plt\n",
    "import matplotlib.colors as mcolors\n",
    "import matplotlib.ticker as ticker\n",
    "import matplotlib.cm as cm\n",
    "from matplotlib.colors import Normalize\n",
    "from matplotlib.ticker import MaxNLocator\n",
    "from matplotlib.ticker import ScalarFormatter\n",
    "import matplotlib.gridspec as gridspec\n",
    "import xarray as xr\n",
    "import os; import time\n",
    "import pickle\n",
    "import h5py\n",
    "###############################################################\n",
    "def coefs(coefficients,degree):\n",
    "    coef=coefficients\n",
    "    coefs=\"\"\n",
    "    for n in range(degree, -1, -1):\n",
    "        string=f\"({coefficients[len(coef)-(n+1)]:.1e})\"\n",
    "        coefs+=string + f\"x^{n}\"\n",
    "        if n != 0:\n",
    "            coefs+=\" + \"\n",
    "    return coefs\n",
    "###############################################################\n",
    "\n",
    "#Importing Model Data\n",
    "check=False\n",
    "dir='/mnt/lustre/koa/koastore/torri_group/air_directory/DCI-Project/'\n",
    "\n",
    "# # dx = 1 km; Np = 1M; Nt = 5 min\n",
    "# data=xr.open_dataset(dir+'../cm1r20.3/run/cm1out_1km_5min.nc') #***\n",
    "# parcel=xr.open_dataset(dir+'../cm1r20.3/run/cm1out_pdata_1km_5min_1e6.nc') #***\n",
    "# res='1km';t_res='5min'\n",
    "# Np_str='1e6'\n",
    "\n",
    "# dx = 1km; Np = 50M\n",
    "#Importing Model Data\n",
    "check=False\n",
    "dir2='/home/air673/koa_scratch/'\n",
    "data=xr.open_dataset(dir2+'cm1out_1km_1min.nc') #***\n",
    "parcel=xr.open_dataset(dir2+'cm1out_pdata_1km_1min_50M.nc') #***\n",
    "res='1km'; t_res='1min'; Np_str='50e6'\n",
    "\n",
    "# # dx = 1km; Np = 100M\n",
    "# #Importing Model Data\n",
    "# check=False\n",
    "# dir2='/home/air673/koa_scratch/'\n",
    "# data=xr.open_dataset(dir2+'cm1out_1km_1min.nc') #***\n",
    "# parcel=xr.open_dataset(dir2+'cm1out_pdata_1km_1min_100M.nc') #***\n",
    "# res='1km'; t_res='1min'; Np_str='100e6'\n",
    "\n",
    "\n",
    "# dx = 250 m\n",
    "# #Importing Model Data\n",
    "# check=False\n",
    "# dir2='/home/air673/koa_scratch/'\n",
    "# data=xr.open_dataset(dir2+'cm1out_250m.nc') #***\n",
    "# parcel=xr.open_dataset(dir2+'cm1out_pdata_250m.nc') #***"
   ]
  },
  {
   "cell_type": "code",
   "execution_count": 134,
   "id": "506b952a-76c0-4625-a9f0-8457335b0fdc",
   "metadata": {},
   "outputs": [],
   "source": [
    "import sys\n",
    "dir2='/mnt/lustre/koa/koastore/torri_group/air_directory/DCI-Project/'\n",
    "path=dir2+'../Functions/'\n",
    "sys.path.append(path)\n",
    "\n",
    "import NumericalFunctions\n",
    "from NumericalFunctions import * # import NumericalFunctions \n",
    "import PlottingFunctions\n",
    "from PlottingFunctions import * # import PlottingFunctions\n",
    "\n",
    "\n",
    "# # Get all functions in NumericalFunctions\n",
    "# import inspect\n",
    "# functions = [f[0] for f in inspect.getmembers(NumericalFunctions, inspect.isfunction)]\n",
    "# functions"
   ]
  },
  {
   "cell_type": "code",
   "execution_count": 135,
   "id": "a38291f1-169f-4fe1-be13-2af7abd5b0d8",
   "metadata": {},
   "outputs": [
    {
     "name": "stdout",
     "output_type": "stream",
     "text": [
      "start_job = 540, end_job = 551\n"
     ]
    }
   ],
   "source": [
    "#JOB ARRAY SETUP\n",
    "job_array=False\n",
    "job_array=True\n",
    "\n",
    "\n",
    "if job_array==True:\n",
    "\n",
    "    num_jobs=60 #how many total jobs are being run? i.e. array=1-100 ==> num_jobs=100 #***\n",
    "    total_elements=len(data['time']) #total num of variables\n",
    "\n",
    "    if num_jobs >= total_elements:\n",
    "        raise ValueError(\"Number of jobs cannot be greater than or equal to total elements.\")\n",
    "    \n",
    "    job_range = total_elements // num_jobs  # Base size for each chunk\n",
    "    remaining = total_elements % num_jobs   # Number of chunks with 1 extra \n",
    "    \n",
    "    # Function to compute the start and end for each job_id\n",
    "    def get_job_range(job_id, num_jobs):\n",
    "        job_id-=1\n",
    "        # Add one extra element to the first 'remaining' chunks\n",
    "        start_job = job_id * job_range + min(job_id, remaining)\n",
    "        end_job = start_job + job_range + (1 if job_id < remaining else 0)\n",
    "    \n",
    "        if job_id == num_jobs - 1: \n",
    "            end_job = total_elements #- 1\n",
    "        return start_job, end_job\n",
    "    # def job_testing():\n",
    "    #     #TESTING\n",
    "    #     start=[];end=[]\n",
    "    #     for job_id in range(1,num_jobs+1):\n",
    "    #         start_job, end_job = get_job_range(job_id)\n",
    "    #         print(start_job,end_job)\n",
    "    #         start.append(start_job)\n",
    "    #         end.append(end_job)\n",
    "    #     print(np.all(start!=end))\n",
    "    #     print(len(np.unique(start))==len(start))\n",
    "    #     print(len(np.unique(end))==len(end))\n",
    "    # job_testing()\n",
    "    \n",
    "    job_id = int(os.environ.get('SLURM_ARRAY_TASK_ID', 0)) #this is the current SBATCH job id\n",
    "    if job_id==0: job_id=50\n",
    "    start_job, end_job = get_job_range(job_id, num_jobs)\n",
    "    index_adjust=start_job\n",
    "    print(f'start_job = {start_job}, end_job = {end_job}')"
   ]
  },
  {
   "cell_type": "code",
   "execution_count": 136,
   "id": "5d77403e-a491-4a71-9aa4-5e0f2166abc3",
   "metadata": {},
   "outputs": [],
   "source": [
    "if job_array==True:\n",
    "    #Indexing Array with JobArray\n",
    "    data=data.isel(time=slice(start_job,end_job))\n",
    "    parcel=parcel.isel(time=slice(start_job,end_job))\n",
    "    #(for 150_000_000 parcels use 500-1000 jobs)\n",
    "if job_array==False:\n",
    "    start_job=0;end_job=len(data['time']);index_adjust=0"
   ]
  },
  {
   "cell_type": "code",
   "execution_count": 112,
   "id": "7bc32077-7abd-43ab-92c1-eb85dbd6bd9f",
   "metadata": {
    "jupyter": {
     "source_hidden": true
    }
   },
   "outputs": [],
   "source": [
    "# #OLD VERSION (CURRENTLY PRECALCULATED)\n",
    "# def call_variables(): #***\n",
    "#     variable='winterp'; w_data=data[variable].data\n",
    "#     # variable='qv'; qv_data=data[variable].data # get qc data\n",
    "#     variable='qc'; qc_data=data[variable].data # get qc data\n",
    "#     variable='qi'; qi_data=data[variable].data # get qc data\n",
    "#     qc_plus_qi=qc_data+qi_data\n",
    "#     return w_data,qv_data,qc_data,qi_data,qc_plus_qi\n",
    "\n",
    "# print('calling variables')\n",
    "# [w_data,qv_data,qc_data,qi_data,qc_plus_qi]=call_variables()\n",
    "# print('done')"
   ]
  },
  {
   "cell_type": "code",
   "execution_count": 113,
   "id": "d9b20f12-d148-4114-a4d0-4dbb81d614a0",
   "metadata": {
    "jupyter": {
     "source_hidden": true
    }
   },
   "outputs": [],
   "source": [
    "# #OLD VERSION\n",
    "# #CALCULATING EULERIAN VMF\n",
    "# variable='rho';rho_data=data[variable].data\n",
    "# # print('calculating A_c')\n",
    "# w_thresh2=0.5\n",
    "# qcqi_thresh=1e-6\n",
    "# cond1 = w_data >= w_thresh2\n",
    "# cond2 = qc_plus_qi >= qcqi_thresh\n",
    "# A_c = np.where(cond1 & cond2, 1, 0)\n",
    "\n",
    "# w_thresh1=0.1\n",
    "# cond1 = w_data >= w_thresh1\n",
    "# cond2 = qc_plus_qi < qcqi_thresh\n",
    "# A_g = np.where(cond1 & cond2, 1, 0)\n",
    "\n",
    "# # print('calculating VMF everywhere')\n",
    "# VMF_g = rho_data*w_data*A_g\n",
    "# VMF_c = rho_data*w_data*A_c"
   ]
  },
  {
   "cell_type": "code",
   "execution_count": 139,
   "id": "586bcae1-c291-4c5f-be1c-8cad1a32064e",
   "metadata": {},
   "outputs": [],
   "source": [
    "###############################################\n",
    "#READING BACK IN\n",
    "out_file = dir2 + 'Variable_Calculation/' + f'Eulerian_VMF_{res}_{t_res}.h5'\n",
    "\n",
    "with h5py.File(out_file, 'r') as f:\n",
    "    VMF_c = f['VMF_c'][start_job:end_job]  # Loads the entire A_c array into memory\n",
    "    VMF_g = f['VMF_g'][start_job:end_job]  # Loads the entire A_g array into memory"
   ]
  },
  {
   "cell_type": "code",
   "execution_count": 140,
   "id": "579933d9-6ee3-49cf-b1d1-981c5faffea9",
   "metadata": {},
   "outputs": [],
   "source": [
    "###############################################\n",
    "#READING BACK IN\n",
    "out_file = dir2 + 'Variable_Calculation/' + f'Eulerian_Binary_Array_{res}_{t_res}.h5'\n",
    "\n",
    "with h5py.File(out_file, 'r') as f:\n",
    "    A_c = f['A_c'][start_job:end_job]  # Loads the entire A_c array into memory\n",
    "    A_g = f['A_g'][start_job:end_job]  # Loads the entire A_g array into memory"
   ]
  },
  {
   "cell_type": "code",
   "execution_count": 116,
   "id": "a3a988fd-d39c-4eb9-8889-4a80f909c6aa",
   "metadata": {},
   "outputs": [],
   "source": [
    "##########################################################################################\n",
    "#Functions\n",
    "# Full Profile function makes profile together for all timesteps. AveragedProfiles funciton takes the final mean of the combined profile."
   ]
  },
  {
   "cell_type": "code",
   "execution_count": 117,
   "id": "7851e769-c67c-493f-a84c-7d7ed1cd37a5",
   "metadata": {
    "jupyter": {
     "source_hidden": true
    }
   },
   "outputs": [],
   "source": [
    "# #OLD VERSION\n",
    "# # Thresholds\n",
    "# w_thresh1 = 0.1\n",
    "# w_thresh2 = 0.5\n",
    "# qcqi_thresh = 1e-6\n",
    "\n",
    "# def final_profile(vars_list, type):\n",
    "#     zhs = data['zh'].values\n",
    "#     profiles = {}  # Store profiles for all variables\n",
    "\n",
    "#     # Initialize profiles for each variable\n",
    "#     for var in vars_list:\n",
    "#         profiles[var] = np.zeros((len(zhs), 3))  # column 1: var, column 2: counter, column 3: list of zhs\n",
    "#         profiles[var][:, 2] = zhs\n",
    "\n",
    "#     # Threshold mask\n",
    "#     if type == \"general\":\n",
    "#         where_updraft = (w_data >= w_thresh1) & (qc_plus_qi < qcqi_thresh)\n",
    "#     elif type == \"cloudy\":\n",
    "#         where_updraft = (w_data >= w_thresh2) & (qc_plus_qi >= qcqi_thresh)\n",
    "        \n",
    "#     t_ind, z_ind, y_ind, x_ind = np.where(where_updraft)\n",
    "\n",
    "#     # Variable selection dictionary\n",
    "#     var_data = {\n",
    "#         'VMF_g': VMF_g, 'VMF_c': VMF_c, \n",
    "#     }\n",
    "    \n",
    "#     # Iterate over each variable in vars_list and bin the data\n",
    "#     for var in vars_list:\n",
    "#         masked_data = var_data[var][where_updraft]\n",
    "#         np.add.at(profiles[var][:, 0], z_ind, masked_data)\n",
    "#         np.add.at(profiles[var][:, 1], z_ind, 1)\n",
    "\n",
    "#     return profiles"
   ]
  },
  {
   "cell_type": "code",
   "execution_count": 141,
   "id": "9c2cb47d-9cb5-4b01-a410-656f37bba027",
   "metadata": {},
   "outputs": [],
   "source": [
    "# Thresholds\n",
    "w_thresh1 = 0.1\n",
    "w_thresh2 = 0.5\n",
    "qcqi_thresh = 1e-6\n",
    "\n",
    "def final_profile(vars_list, type):\n",
    "    zhs = data['zh'].values\n",
    "    profiles = {}  # Store profiles for all variables\n",
    "\n",
    "    # Initialize profiles for each variable\n",
    "    for var in vars_list:\n",
    "        profiles[var] = np.zeros((len(zhs), 3))  # column 1: var, column 2: counter, column 3: list of zhs\n",
    "        profiles[var][:, 2] = zhs\n",
    "\n",
    "    # Threshold mask\n",
    "    if type == \"general\":\n",
    "        where_updraft = (A_g==True)\n",
    "    elif type == \"cloudy\":\n",
    "        where_updraft = (A_c==True)\n",
    "        \n",
    "    t_ind, z_ind, y_ind, x_ind = np.where(where_updraft)\n",
    "\n",
    "    # Variable selection dictionary\n",
    "    var_data = {\n",
    "        'VMF_g': VMF_g, 'VMF_c': VMF_c, \n",
    "    }\n",
    "    \n",
    "    # Iterate over each variable in vars_list and bin the data\n",
    "    for var in vars_list:\n",
    "        masked_data = var_data[var][where_updraft]\n",
    "        np.add.at(profiles[var][:, 0], z_ind, masked_data)\n",
    "        np.add.at(profiles[var][:, 1], z_ind, 1)\n",
    "\n",
    "    return profiles"
   ]
  },
  {
   "cell_type": "code",
   "execution_count": 142,
   "id": "c9ef7e90-4686-45ae-b163-bcb92ff3bc21",
   "metadata": {},
   "outputs": [],
   "source": [
    "##########################################################################################\n",
    "#Running"
   ]
  },
  {
   "cell_type": "code",
   "execution_count": 143,
   "id": "9104e1c0-741a-49fd-a3f2-db2b0992c49a",
   "metadata": {},
   "outputs": [
    {
     "name": "stdout",
     "output_type": "stream",
     "text": [
      "job_id = 50\n",
      "working on general type\n",
      "\n",
      "working on cloudy type\n",
      "\n"
     ]
    }
   ],
   "source": [
    "dir2=dir+'Project_Algorithms/Domain_Profiles/'\n",
    "\n",
    "if job_array==True:\n",
    "    print(f\"job_id = {job_id}\")\n",
    "for type in [\"general\",\"cloudy\"]:\n",
    "    print(f\"working on {type} type\\n\")\n",
    "    \n",
    "    vars_list = ['VMF_g', 'VMF_c']\n",
    "    profiles = final_profile(vars_list, type)\n",
    "    \n",
    "    #Saving eulerian_profiles\n",
    "    import h5py\n",
    "    \n",
    "    if type == \"general\":\n",
    "        output_file = dir2+f'job_out/general_eulerian_eulerian_VMF_profiles_{res}_{t_res}_{Np_str}'\n",
    "    elif type == \"cloudy\":\n",
    "        output_file = dir2+f'job_out/cloudy_eulerian_eulerian_VMF_profiles_{res}_{t_res}_{Np_str}'\n",
    "    if job_array==True:\n",
    "        output_file+=f'_{job_id}.h5'\n",
    "    elif job_array==False:\n",
    "        output_file+=f'.h5'\n",
    "    \n",
    "    with h5py.File(output_file, 'w') as f:\n",
    "        for var in profiles:\n",
    "            profile_var = profiles[var]\n",
    "            f.create_dataset(f'profile_{var}', data=profile_var, compression=\"gzip\")"
   ]
  },
  {
   "cell_type": "code",
   "execution_count": 145,
   "id": "4bcd0d76-4a30-4945-914b-4b84524cb28a",
   "metadata": {},
   "outputs": [
    {
     "name": "stdout",
     "output_type": "stream",
     "text": [
      "Top 10 objects with highest memory usage\n",
      "{'qc_plus_qi': '1852.21 MB', 'cond1': '463.05 MB', 'cond2': '463.05 MB', 'VMF_g': '306.38 MB', 'VMF_c': '306.38 MB', 'A_c': '38.3 MB', 'A_g': '38.3 MB', 'NamespaceMagics': '0.0 MB', 'Normalize': '0.0 MB', 'MaxNLocator': '0.0 MB'}\n",
      "\n",
      "3.46767 GB in use overall\n"
     ]
    }
   ],
   "source": [
    "check_memory(globals())"
   ]
  },
  {
   "cell_type": "code",
   "execution_count": 147,
   "id": "ef9f83bc-91fe-4564-8a13-c7dafe46db7b",
   "metadata": {},
   "outputs": [],
   "source": [
    "#########################################\n",
    "#RECOMBINE SEPERATE JOB_ARRAYS AFTER\n",
    "recombine=False #KEEP FALSE WHEN JOB ARRAY IS RUNNING\n",
    "# recombine=True"
   ]
  },
  {
   "cell_type": "code",
   "execution_count": 148,
   "id": "1c248898-04d4-44e8-8286-afb2a03986a0",
   "metadata": {},
   "outputs": [
    {
     "name": "stdout",
     "output_type": "stream",
     "text": [
      "job_id = 10\n",
      "job_id = 20\n",
      "job_id = 30\n",
      "job_id = 40\n",
      "job_id = 50\n",
      "job_id = 60\n",
      "job_id = 10\n",
      "job_id = 20\n",
      "job_id = 30\n",
      "job_id = 40\n",
      "job_id = 50\n",
      "job_id = 60\n"
     ]
    }
   ],
   "source": [
    "if recombine==True:\n",
    "    dir2=dir+'Project_Algorithms/Domain_Profiles/'\n",
    "    \n",
    "    types=['general','cloudy']\n",
    "    for type in types:\n",
    "        #MAKING OUTPUT FILE PATH\n",
    "        if type == \"general\":\n",
    "            output_file =dir2+f'job_out/general_eulerian_eulerian_VMF_profiles_{res}_{t_res}_{Np_str}.h5'\n",
    "        elif type == \"cloudy\":\n",
    "            output_file = dir2+f'job_out/cloudy_eulerian_eulerian_VMF_profiles_{res}_{t_res}_{Np_str}.h5'\n",
    "        \n",
    "        #MAKING PROFILES DICTIONARY\n",
    "        zhs = data['zh'].values\n",
    "        profiles = {}  # Store profiles for all variables\n",
    "        vars_list = ['VMF_g', 'VMF_c']\n",
    "        for var in vars_list:\n",
    "            profiles[var] = np.zeros((len(zhs), 3))  # column 1: var, column 2: counter, column 3: list of zhs\n",
    "            profiles[var][:, 2] = zhs \n",
    "        \n",
    "        num_jobs=60\n",
    "        for job_id in np.arange(1,num_jobs+1):\n",
    "            if np.mod(job_id,10)==0: print(f\"job_id = {job_id}\")\n",
    "    \n",
    "            #CALLING IN DATA\n",
    "            if type == \"general\":\n",
    "                input_file = dir2+f'job_out/general_eulerian_eulerian_VMF_profiles_{res}_{t_res}_{Np_str}_{job_id}.h5' \n",
    "            elif type == \"cloudy\":\n",
    "                input_file = dir2+f'job_out/cloudy_eulerian_eulerian_VMF_profiles_{res}_{t_res}_{Np_str}_{job_id}.h5' \n",
    "    \n",
    "            #COMPILING PROFILES\n",
    "            with h5py.File(input_file, 'r') as f:\n",
    "                for var in vars_list:  \n",
    "                    profiles[var][:,0:1+1]+=f[f'profile_{var}'][:,0:1+1]\n",
    "        \n",
    "        #SAVING INTO FINAL FORM\n",
    "        with h5py.File(output_file, 'w') as f:\n",
    "            for var in profiles:\n",
    "                profile_var = profiles[var]\n",
    "                f.create_dataset(f'profile_{var}', data=profile_var, compression=\"gzip\")"
   ]
  }
 ],
 "metadata": {
  "kernelspec": {
   "display_name": "Python 3 (ipykernel)",
   "language": "python",
   "name": "python3"
  },
  "language_info": {
   "codemirror_mode": {
    "name": "ipython",
    "version": 3
   },
   "file_extension": ".py",
   "mimetype": "text/x-python",
   "name": "python",
   "nbconvert_exporter": "python",
   "pygments_lexer": "ipython3",
   "version": "3.11.8"
  }
 },
 "nbformat": 4,
 "nbformat_minor": 5
}

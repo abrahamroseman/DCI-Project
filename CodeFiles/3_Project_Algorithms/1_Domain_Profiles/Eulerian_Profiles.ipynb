{
 "cells": [
  {
   "cell_type": "code",
   "execution_count": 60,
   "id": "3a86682c-810f-4f45-bfa5-dbe0186ed23c",
   "metadata": {},
   "outputs": [
    {
     "name": "stdout",
     "output_type": "stream",
     "text": [
      "Using default dataName: Variables\n"
     ]
    }
   ],
   "source": [
    "########################################\n",
    "#getting system arguments\n",
    "import sys\n",
    "def GetArg_dataName(default=\"Variables\"):\n",
    "    \"\"\"\n",
    "    Safely retrieve dataName from sys.argv.\n",
    "    #Run One: python Eulerian_Profiles.py Variables\n",
    "    #Run Two: python Eulerian_Profiles.py Entrainment\n",
    "    #Run Three: python Eulerian_Profiles.py W_Budgets\n",
    "    #Run Four: python Eulerian_Profiles.py QV_Budgets\n",
    "    #Run Five: python Eulerian_Profiles.py TH_Budgets\n",
    "    \"\"\"\n",
    "    # If run inside Jupyter, sys.argv will include ipykernel arguments\n",
    "    if any(\"ipykernel_launcher\" in arg for arg in sys.argv):\n",
    "        print(f\"Using default dataName: {default}\")\n",
    "        return default\n",
    "\n",
    "    # If a user-specified argument exists, use it\n",
    "    if len(sys.argv) > 1:\n",
    "        out=sys.argv[1]\n",
    "        print(f\"Using argument dataName: {out}\")\n",
    "        return out\n",
    "\n",
    "    return default\n",
    "\n",
    "dataName = GetArg_dataName()"
   ]
  },
  {
   "cell_type": "code",
   "execution_count": 61,
   "id": "78b37ea9-b122-43e8-b717-2da968857cf4",
   "metadata": {},
   "outputs": [],
   "source": [
    "####################################\n",
    "#ENVIRONMENT SETUP"
   ]
  },
  {
   "cell_type": "code",
   "execution_count": 62,
   "id": "b0de02ac-b047-4e20-aa53-293b2681161f",
   "metadata": {},
   "outputs": [],
   "source": [
    "#Importing Libraries\n",
    "import numpy as np\n",
    "import matplotlib.pyplot as plt\n",
    "import matplotlib.colors as mcolors\n",
    "import matplotlib.ticker as ticker\n",
    "import matplotlib.cm as cm\n",
    "from matplotlib.colors import Normalize\n",
    "from matplotlib.ticker import MaxNLocator\n",
    "from matplotlib.ticker import ScalarFormatter\n",
    "import matplotlib.gridspec as gridspec\n",
    "import xarray as xr\n",
    "\n",
    "import sys; import os; import time; from datetime import timedelta\n",
    "import pickle\n",
    "import h5py"
   ]
  },
  {
   "cell_type": "code",
   "execution_count": 63,
   "id": "f7dc45cc-c4e9-4b11-9cb7-f386c95b43aa",
   "metadata": {},
   "outputs": [],
   "source": [
    "#MAIN DIRECTORIES\n",
    "def GetDirectories():\n",
    "    mainDirectory='/mnt/lustre/koa/koastore/torri_group/air_directory/Projects/DCI-Project/'\n",
    "    mainCodeDirectory=os.path.join(mainDirectory,\"Code/CodeFiles/\")\n",
    "    scratchDirectory='/mnt/lustre/koa/scratch/air673/'\n",
    "    codeDirectory=os.getcwd()\n",
    "    return mainDirectory,mainCodeDirectory,scratchDirectory,codeDirectory\n",
    "\n",
    "[mainDirectory,mainCodeDirectory,scratchDirectory,codeDirectory] = GetDirectories()"
   ]
  },
  {
   "cell_type": "code",
   "execution_count": 64,
   "id": "08a3a458-c951-4917-b9e6-c083a6537699",
   "metadata": {},
   "outputs": [],
   "source": [
    "#IMPORT CLASSES\n",
    "sys.path.append(os.path.join(mainCodeDirectory,\"2_Variable_Calculation\"))\n",
    "from CLASSES_Variable_Calculation import ModelData_Class, SlurmJobArray_Class, DataManager_Class"
   ]
  },
  {
   "cell_type": "code",
   "execution_count": 65,
   "id": "fd2d13c0-ceeb-4bc3-853d-5aafb2afdbae",
   "metadata": {},
   "outputs": [],
   "source": [
    "#IMPORT CLASSES\n",
    "sys.path.append(os.path.join(mainCodeDirectory,\"3_Project_Algorithms\",\"1_Domain_Profiles\"))\n",
    "from CLASSES_DomainProfiles import DomainProfiles_Class, DomainProfiles_DataLoading_Class"
   ]
  },
  {
   "cell_type": "code",
   "execution_count": 66,
   "id": "559b52d2-dd8f-43dc-9d42-e11f3e44a9fe",
   "metadata": {},
   "outputs": [],
   "source": [
    "#IMPORT FUNCTIONS\n",
    "sys.path.append(os.path.join(mainCodeDirectory,\"2_Variable_Calculation\"))\n",
    "import FUNCTIONS_Variable_Calculation\n",
    "from FUNCTIONS_Variable_Calculation import *"
   ]
  },
  {
   "cell_type": "code",
   "execution_count": 67,
   "id": "a694e001-f72e-476d-b269-0536b98f1360",
   "metadata": {
    "scrolled": true
   },
   "outputs": [
    {
     "name": "stdout",
     "output_type": "stream",
     "text": [
      "=== CM1 Data Summary ===\n",
      " Simulation #:   1\n",
      " Resolution:     1km\n",
      " Time step:      5min\n",
      " Vertical levels:34\n",
      " Parcels:        1e6\n",
      " Data file:      /mnt/lustre/koa/koastore/torri_group/air_directory/Projects/DCI-Project/Model/cm1r20.3/run/cm1out_1km_5min_34nz.nc\n",
      " Parcel file:    /mnt/lustre/koa/koastore/torri_group/air_directory/Projects/DCI-Project/Model/cm1r20.3/run/cm1out_pdata_1km_5min_1e6np.nc\n",
      " Time steps:     133\n",
      "========================= \n",
      "\n",
      "=== DataManager Summary ===\n",
      " inputDirectory #:   /mnt/lustre/koa/koastore/torri_group/air_directory/Projects/DCI-Project/Code/OUTPUT/Variable_Calculation/TimeSplitModelData\n",
      " outputDirectory #:   /mnt/lustre/koa/koastore/torri_group/air_directory/Projects/DCI-Project/Code/OUTPUT/Project_Algorithms/Domain_Profiles\n",
      " inputDataDirectory #:   /mnt/lustre/koa/koastore/torri_group/air_directory/Projects/DCI-Project/Code/OUTPUT/Variable_Calculation/TimeSplitModelData/1km_5min_34nz/ModelData\n",
      " inputParcelDirectory #:   /mnt/lustre/koa/koastore/torri_group/air_directory/Projects/DCI-Project/Code/OUTPUT/Variable_Calculation/TimeSplitModelData/1km_5min_34nz/ParcelData\n",
      " outputDataDirectory #:   /mnt/lustre/koa/koastore/torri_group/air_directory/Projects/DCI-Project/Code/OUTPUT/Project_Algorithms/Domain_Profiles/1km_5min_34nz/Variables\n",
      "========================= \n",
      "\n"
     ]
    }
   ],
   "source": [
    "#data loading class\n",
    "ModelData = ModelData_Class(mainDirectory, scratchDirectory, simulationNumber=1)\n",
    "#data manager class\n",
    "DataManager = DataManager_Class(mainDirectory, scratchDirectory, ModelData.res, ModelData.t_res, ModelData.Nz_str,\n",
    "                                ModelData.Np_str, dataType=\"Domain_Profiles\", dataName=dataName,\n",
    "                                dtype='float32',codeSection = \"Project_Algorithms\")"
   ]
  },
  {
   "cell_type": "code",
   "execution_count": 68,
   "id": "208826ad-dc99-4c10-adec-545a83ee5914",
   "metadata": {},
   "outputs": [
    {
     "name": "stdout",
     "output_type": "stream",
     "text": [
      "Running timesteps from 0:6 \n",
      "\n"
     ]
    }
   ],
   "source": [
    "#JOB ARRAY SETUP\n",
    "UsingJobArray=True\n",
    "\n",
    "def GetNumJobs(res):\n",
    "    if res=='1km':\n",
    "        num_jobs=20\n",
    "    elif res=='250m': \n",
    "        num_jobs=100\n",
    "    return num_jobs\n",
    "num_jobs = GetNumJobs(ModelData.res)\n",
    "SlurmJobArray = SlurmJobArray_Class(total_elements=ModelData.Ntime, num_jobs=num_jobs, UsingJobArray=UsingJobArray)\n",
    "start_job = SlurmJobArray.start_job; end_job = SlurmJobArray.end_job\n",
    "\n",
    "def GetNumElements():\n",
    "    num_elements = np.arange(ModelData.Ntime)[start_job:end_job]\n",
    "    return num_elements\n",
    "num_elements = GetNumElements()"
   ]
  },
  {
   "cell_type": "code",
   "execution_count": 69,
   "id": "14b43ffc-b2d9-4b96-8fa8-a7533bbfdc60",
   "metadata": {},
   "outputs": [],
   "source": [
    "##############################################\n",
    "#DATA LOADING FUNCTIONS"
   ]
  },
  {
   "cell_type": "code",
   "execution_count": 70,
   "id": "d2c0d793-e723-420a-a3b5-179545122af6",
   "metadata": {},
   "outputs": [
    {
     "name": "stdout",
     "output_type": "stream",
     "text": [
      "x in 128:410 (from coast to 80% of domain, ocean excluded)\n"
     ]
    }
   ],
   "source": [
    "#DOMAIN SUBSETTING \n",
    "#finding time subset\n",
    "def GetTimeSubset(noSubset=False):\n",
    "    if noSubset == True:\n",
    "        t_start=0; t_end=ModelData.Ntime+1\n",
    "        print(f't in {t_start}:{t_end}')\n",
    "        tSubset = np.arange(t_start,t_end+1)\n",
    "    else:\n",
    "        dt=ModelData.time[1].item()/1e9 #seconds per timestep\n",
    "        dhours=(dt/60**2) #hours per timestep\n",
    "    \n",
    "        #Finding Left Boundary\n",
    "        start_hour=4 #10:00 am\n",
    "        t_start=int(start_hour/dhours)\n",
    "        \n",
    "        #Finding Right Boundary\n",
    "        end_hour=11 #5pm\n",
    "        t_end=int(end_hour/dhours)+1\n",
    "        \n",
    "        #printing\n",
    "        print(f't in {t_start}:{t_end}')\n",
    "        tSubset = np.arange(t_start,t_end+1)\n",
    "    return tSubset\n",
    "\n",
    "# def GetZSubset(noSubset=True): #(not in use)\n",
    "#     if noSubset == True:\n",
    "#         zh_start=0; zh_end=ModelData.Nzh\n",
    "#         zf_start=0; zf_end=ModelData.Nzf\n",
    "#     else:\n",
    "#         #Finding Boundarys\n",
    "#         zhs=ModelData.zh\n",
    "#         zh_start=0; zh_end=int(np.where(zhs>=19)[0][0])\n",
    "#         zfs=ModelData.zf\n",
    "#         zf_start=0; zf_end=int(np.where(zfs>=20)[0][0])\n",
    "\n",
    "#     print(f'zh in {zh_start}:{zh_end}'+f', zf in {zf_start}:{zf_end}')\n",
    "#     zhSubset = np.arange(zh_start,zh_end+1)\n",
    "#     zfSubset = np.arange(zf_start,zf_end+1)\n",
    "#     return zhSubset, zfSubset\n",
    "\n",
    "# def GetYSubset(noSubset=True): #(not in use)\n",
    "\n",
    "def GetXSubset(noSubset=False):\n",
    "\n",
    "    xh = ModelData.xh - ModelData.xh[0] \n",
    "    xf = ModelData.xf - ModelData.xf[0]\n",
    "    xh_max = xh[-1] #total physical length\n",
    "    xf_max = xf[-1]\n",
    "\n",
    "    if noSubset == True:\n",
    "        xh_start=0; xh_end = xh_max+1\n",
    "        xf_start=0; xf_end = xf_max+1\n",
    "    else:\n",
    "        #Finding Left Boundary\n",
    "        ocean_percent=0.25\n",
    "        left_to_coast=ModelData.xh[0]+(ModelData.xh[-1]-ModelData.xh[0])*ocean_percent\n",
    "        xh_start=np.where(ModelData.xh>=left_to_coast)[0][0]\n",
    "        xf_start=np.where(ModelData.xf>=left_to_coast)[0][0]\n",
    "        \n",
    "        #Finding Right Boundary\n",
    "        right_fraction=80/100\n",
    "        \n",
    "        # Find index where physical location exceeds 80% of domain\n",
    "        xh_end = np.where(xh > right_fraction * xh_max)[0][0]+1\n",
    "        xf_end = np.where(xf > right_fraction * xf_max)[0][0]+1\n",
    "           \n",
    "    print(f'x in {xh_start}:{xh_end} (from coast to 80% of domain, ocean excluded)')\n",
    "    xhSubset = slice(xh_start,xh_end+1)\n",
    "    xfSubset = slice(xf_start,xf_end+1)\n",
    "    return xhSubset, xfSubset\n",
    "\n",
    "# tSubset = GetTimeSubset(noSubset=False) #used in recombining code at the bottom\n",
    "xSubset = GetXSubset(noSubset=False)"
   ]
  },
  {
   "cell_type": "code",
   "execution_count": 71,
   "id": "9e8a8fee-ada0-45f8-9f45-1d42580e72f2",
   "metadata": {},
   "outputs": [],
   "source": [
    "def CallVariables(ModelData, DataManager, timeString, varNames,zInterpolate=None):\n",
    "    varDictionary = {}\n",
    "    for varName in varNames:\n",
    "        varDictionary[varName] = CallVariable(ModelData, DataManager, timeString, \n",
    "                                              variableName=varName, zInterpolate=zInterpolate)\n",
    "    return varDictionary\n",
    "\n",
    "def GetBinaryArrays(DataManager, timeString):\n",
    "    varNames = ['A_g', 'A_c']\n",
    "    VARs = CallVariables(ModelData, DataManager, timeString, varNames)\n",
    "    # return tuple(VARs[k] for k in varNames)\n",
    "    return VARs['A_g'], VARs['A_c']"
   ]
  },
  {
   "cell_type": "code",
   "execution_count": null,
   "id": "c86be8d2-27ed-44d9-a997-fe287f2c3e74",
   "metadata": {},
   "outputs": [],
   "source": [
    "####################################\n",
    "#RUN SETUP"
   ]
  },
  {
   "cell_type": "code",
   "execution_count": null,
   "id": "bbb0ca8a-a3ba-4dad-addb-321922f5cc48",
   "metadata": {},
   "outputs": [],
   "source": [
    "#data variable list\n",
    "def GetVarNames(dataName): \n",
    "    if dataName==\"Variables\":\n",
    "        zInterpolate = None\n",
    "        varNames = ['winterp', 'qv', 'qc', 'qi', 'qcqi', 'RH_vapor', 'theta_v', 'theta_e', 'MSE', 'HMC','VMF_g','VMF_c']\n",
    "    elif dataName == \"Entrainment\":\n",
    "        zInterpolate = None\n",
    "        varNames = ['Entrainment_g','Entrainment_c',\n",
    "                    'TransferEntrainment_g',\n",
    "                    'TransferEntrainment_c']\n",
    "        varNames += ['Detrainment_g','Detrainment_c',\n",
    "                     'TransferDetrainment_g',\n",
    "                     'TransferDetrainment_c']\n",
    "    elif dataName==\"W_Budgets\":\n",
    "        zInterpolate = ModelData.zh\n",
    "        varNames = [\"wb_hadv\", \"wb_vadv\", \"wb_hidiff\", \"wb_vidiff\", \n",
    "                    \"wb_hturb\", \"wb_vturb\", \"wb_pgrad\", \"wb_buoy\"]\n",
    "    elif dataName==\"QV_Budgets\":\n",
    "        zInterpolate = None\n",
    "        varNames = [\"qvb_hadv\", \"qvb_vadv\", \"qvb_hidiff\", \"qvb_vidiff\", \n",
    "                    \"qvb_hturb\", \"qvb_vturb\", \"qvb_mp\"]\n",
    "    elif dataName==\"TH_Budgets\":\n",
    "        zInterpolate = None\n",
    "        varNames = [\"ptb_hadv\", \"ptb_vadv\", \"ptb_hidiff\", \"ptb_vidiff\", \n",
    "                 \"ptb_hturb\", \"ptb_vturb\", \"ptb_mp\", \"ptb_rad\", \"ptb_div\", \"ptb_diss\"]\n",
    "    return varNames, zInterpolate"
   ]
  },
  {
   "cell_type": "code",
   "execution_count": null,
   "id": "c9ef7e90-4686-45ae-b163-bcb92ff3bc21",
   "metadata": {},
   "outputs": [],
   "source": [
    "########################################\n",
    "#RUNNING"
   ]
  },
  {
   "cell_type": "code",
   "execution_count": null,
   "id": "c4f62556-0857-4335-840f-7aea704c963b",
   "metadata": {
    "scrolled": true
   },
   "outputs": [],
   "source": [
    "for t in num_elements:\n",
    "    if dataName == 'Entrainment' and t == ModelData.Ntime-1:\n",
    "        continue\n",
    "        \n",
    "    print(f\"#############################\")\n",
    "    print(f\"Processing timestep {t}/{ModelData.Ntime}\")\n",
    "    timeString = ModelData.timeStrings[t]\n",
    "    \n",
    "    # Get variable names and vertical interpolation info\n",
    "    [varNames, zInterpolate] = GetVarNames(dataName)\n",
    "    [A_g, A_c] = GetBinaryArrays(DataManager, timeString)\n",
    "    \n",
    "    # Get variables\n",
    "    VARs = CallVariables(ModelData, DataManager, timeString, varNames, zInterpolate=zInterpolate)\n",
    "\n",
    "    # Domain Subsetting\n",
    "    if xSubset is not None:\n",
    "        print(\"Subsetting variables in x\",\"\\n\")\n",
    "        A_g = A_g[:, :, xSubset[0]]\n",
    "        A_c = A_c[:, :, xSubset[0]]\n",
    "        for var in VARs:\n",
    "            VARs[var] = VARs[var][:, :, xSubset[0]]\n",
    "    \n",
    "    # Loop through masked types (general & cloudy)\n",
    "    for datatype in ['general', 'cloudy']:\n",
    "        \n",
    "        # --- Case 1: masked = True (each data_type separately)\n",
    "        Dictionary = DomainProfiles_Class.DomainProfile(VARs, datatype, A_g, A_c, ModelData, masked=True)\n",
    "        DomainProfiles_DataLoading_Class.SaveProfile(ModelData,DataManager, Dictionary, dataName, datatype=datatype, timeString=timeString, masked=True)\n",
    "\n",
    "    # --- Case 2: masked = False (only run once, same for all)\n",
    "    Dictionary = DomainProfiles_Class.DomainProfile(VARs, 'general', A_g, A_c, ModelData, masked=False)\n",
    "    DomainProfiles_DataLoading_Class.SaveProfile(ModelData,DataManager, Dictionary, dataName, datatype='all', timeString=timeString, masked=False)"
   ]
  },
  {
   "cell_type": "code",
   "execution_count": null,
   "id": "10b83e15-d4b8-47ef-8801-b9b278d97e25",
   "metadata": {},
   "outputs": [],
   "source": [
    "######################\n",
    "##################\n",
    "#COMBINING ALL AVERAGES FOR EACH TIMESTEP"
   ]
  },
  {
   "cell_type": "code",
   "execution_count": 72,
   "id": "e4be274b-b52e-43da-84ca-34a3f80cc678",
   "metadata": {},
   "outputs": [],
   "source": [
    "import re\n",
    "def Recombine(dataName):\n",
    "    print(f\"Currently working on {dataName}\",\"\\n\")\n",
    "\n",
    "    #helper function\n",
    "    def CleanVarName(varName):\n",
    "        varName = re.sub(r'_(all|general|cloudy)(?=_\\d{1,2}-\\d{2}-\\d{2}$)', '', varName)\n",
    "        varName = re.sub(r'_\\d{1,2}-\\d{2}-\\d{2}$', '', varName)\n",
    "        return varName\n",
    "    \n",
    "    datatypes=['all','general','cloudy']\n",
    "    maskeds = [False, True, True]\n",
    "    \n",
    "    for datatype, masked in zip(datatypes, maskeds):\n",
    "        print(f\"Currently working on {datatype}\")\n",
    "    \n",
    "        initialDictionary = DomainProfiles_DataLoading_Class.LoadProfile(ModelData,DataManager, dataName,\n",
    "                                        datatype,ModelData.timeStrings[100],masked,printstatement=False)\n",
    "        profiles={}\n",
    "        for varName in initialDictionary.keys():\n",
    "            #making empty profiles to fill\n",
    "            cleanVarName = CleanVarName(varName)\n",
    "            profiles[cleanVarName] = np.zeros((ModelData.Nzh, 3))  # column 1: var, column 2: counter, column 3: list of zhs\n",
    "            profiles[cleanVarName][:, 2] = ModelData.zh\n",
    "\n",
    "        tSubset = GetTimeSubset(noSubset=False) #used in recombining code at the bottom\n",
    "        for t in range(ModelData.Ntime):\n",
    "            if t not in tSubset: #skipping certain timesteps\n",
    "                # print(f\"Skipping time {t}. Outside of tSubset.\")\n",
    "                continue\n",
    "            elif dataName == \"Entrainment\" and t==ModelData.Ntime-1:\n",
    "                print(\"skipping last time for Entrainment variables\")\n",
    "                continue\n",
    "            else:\n",
    "                if t % 10 == 0: print(f\"Working on time {t}\")\n",
    "                    \n",
    "            timeString = ModelData.timeStrings[t]\n",
    "            \n",
    "            Dictionary = DomainProfiles_DataLoading_Class.LoadProfile(ModelData,DataManager, dataName, datatype, timeString,masked,printstatement=False)\n",
    "    \n",
    "            for varName in Dictionary.keys():\n",
    "                cleanVarName = CleanVarName(varName)\n",
    "                profiles[cleanVarName][:,0:2] += Dictionary[varName][:, 0:2]\n",
    "            \n",
    "        DomainProfiles_DataLoading_Class.SaveProfile(ModelData,DataManager, Dictionary=profiles, dataName=dataName, datatype=datatype, timeString=\"timeaverage\", masked=masked)"
   ]
  },
  {
   "cell_type": "code",
   "execution_count": 73,
   "id": "1c248898-04d4-44e8-8286-afb2a03986a0",
   "metadata": {
    "scrolled": true
   },
   "outputs": [
    {
     "name": "stdout",
     "output_type": "stream",
     "text": [
      "Currently working on Variables \n",
      "\n",
      "Currently working on all\n",
      "t in 48:133\n",
      "Working on time 50\n",
      "Working on time 60\n",
      "Working on time 70\n",
      "Working on time 80\n",
      "Working on time 90\n",
      "Working on time 100\n",
      "Working on time 110\n",
      "Working on time 120\n",
      "Working on time 130\n",
      "Saved output to /mnt/lustre/koa/koastore/torri_group/air_directory/Projects/DCI-Project/Code/OUTPUT/Project_Algorithms/Domain_Profiles/1km_5min_34nz/Variables/Variables_DomainProfiles_all_1km_5min_34nz_timeaverage.h5 \n",
      "\n",
      "Currently working on general\n",
      "t in 48:133\n",
      "Working on time 50\n",
      "Working on time 60\n",
      "Working on time 70\n",
      "Working on time 80\n",
      "Working on time 90\n",
      "Working on time 100\n",
      "Working on time 110\n",
      "Working on time 120\n",
      "Working on time 130\n",
      "Saved output to /mnt/lustre/koa/koastore/torri_group/air_directory/Projects/DCI-Project/Code/OUTPUT/Project_Algorithms/Domain_Profiles/1km_5min_34nz/Variables/Variables_UpdraftProfiles_general_1km_5min_34nz_timeaverage.h5 \n",
      "\n",
      "Currently working on cloudy\n",
      "t in 48:133\n",
      "Working on time 50\n",
      "Working on time 60\n",
      "Working on time 70\n",
      "Working on time 80\n",
      "Working on time 90\n",
      "Working on time 100\n",
      "Working on time 110\n",
      "Working on time 120\n",
      "Working on time 130\n",
      "Saved output to /mnt/lustre/koa/koastore/torri_group/air_directory/Projects/DCI-Project/Code/OUTPUT/Project_Algorithms/Domain_Profiles/1km_5min_34nz/Variables/Variables_UpdraftProfiles_cloudy_1km_5min_34nz_timeaverage.h5 \n",
      "\n"
     ]
    }
   ],
   "source": [
    "recombine=False #KEEP FALSE WHEN JOB ARRAY IS RUNNING\n",
    "# recombine=True\n",
    "\n",
    "if recombine==True:\n",
    "    Recombine(dataName=\"Variables\")\n",
    "    Recombine(dataName=\"Entrainment\")\n",
    "    Recombine(dataName=\"W_Budgets\")\n",
    "    Recombine(dataName=\"QV_Budgets\")\n",
    "    Recombine(dataName=\"TH_Budgets\")"
   ]
  },
  {
   "cell_type": "code",
   "execution_count": null,
   "id": "8f33a30a-8ee3-43ba-8111-aff88b409abc",
   "metadata": {},
   "outputs": [],
   "source": []
  },
  {
   "cell_type": "code",
   "execution_count": null,
   "id": "b340b6e2-7b5a-48de-9745-ed68abf0ef31",
   "metadata": {},
   "outputs": [],
   "source": []
  },
  {
   "cell_type": "code",
   "execution_count": null,
   "id": "08049156-058b-4167-93e8-9e6ea15a4481",
   "metadata": {},
   "outputs": [],
   "source": []
  },
  {
   "cell_type": "code",
   "execution_count": null,
   "id": "dc60aacb-0f79-4325-9b83-8a7ef2fc4c1b",
   "metadata": {},
   "outputs": [],
   "source": [
    "####################################\n",
    "#TESTING"
   ]
  },
  {
   "cell_type": "code",
   "execution_count": null,
   "id": "5c7aaebf-5987-4236-9dfa-5e6384884849",
   "metadata": {
    "jupyter": {
     "source_hidden": true
    }
   },
   "outputs": [],
   "source": [
    "#TESTING mass continuity using rho*w\n",
    "# a=VARs[\"winterp\"]\n",
    "# b=VARs[\"rho\"]\n",
    "\n",
    "# c=a*b\n",
    "# plt.plot(np.mean(c,axis=(1,2)),ModelData.zh)\n",
    "# plt.ylabel(\"z (km)\");plt.xlabel(\"rho*w (kg/m^3 * m/s)\")\n",
    "# plt.title(\"Average Vertical Profile\")"
   ]
  },
  {
   "cell_type": "code",
   "execution_count": null,
   "id": "217fe8d1-7497-4ba5-97e3-690deb7215b7",
   "metadata": {
    "jupyter": {
     "source_hidden": true
    }
   },
   "outputs": [],
   "source": [
    "#TESTING mass continuity using rho*w\n",
    "# d=c[0:1000]\n",
    "# plt.scatter(d.flatten(),np.arange(len(d.flatten())))\n",
    "# plt.ylabel('count');plt.xlabel(\"rho*w (kg/m^3 * m/s)\")\n",
    "# plt.title(\"Histogram of 1000 Values\")"
   ]
  },
  {
   "cell_type": "code",
   "execution_count": null,
   "id": "992d0dab-eea8-479e-bf47-229ad733a305",
   "metadata": {
    "jupyter": {
     "source_hidden": true
    }
   },
   "outputs": [],
   "source": [
    "#TESTING mass continuity using rho*w\n",
    "# import numpy as np\n",
    "# import matplotlib.pyplot as plt\n",
    "\n",
    "# # Load or compute your variables\n",
    "# a = VARs[\"winterp\"]    # shape (34, 200, 512)\n",
    "# b = VARs[\"rho\"]        # shape (34, 200, 512)\n",
    "\n",
    "# # Compute rho * w\n",
    "# c = a * b              # shape (34, 200, 512)\n",
    "# z = ModelData.zh       # vertical levels (length 34)\n",
    "\n",
    "# # Flatten arrays\n",
    "# c_flat = c.flatten()\n",
    "# z_index = np.repeat(z, c.shape[1] * c.shape[2])\n",
    "\n",
    "# # Sample 1000 random points to reduce density\n",
    "# sample_size = 1000\n",
    "# sample_idx = np.random.choice(len(c_flat), size=sample_size, replace=False)\n",
    "\n",
    "# c_sample = c_flat[sample_idx]\n",
    "# z_sample = z_index[sample_idx]\n",
    "\n",
    "# # Plot 2D histogram (rho*w vs. height)\n",
    "# plt.figure(figsize=(7, 5))\n",
    "# plt.hist2d(\n",
    "#     c_sample, z_sample,\n",
    "#     bins=(20, len(z)),\n",
    "#     range=[[-0.01, 0.01], [z.min(), z.max()]],\n",
    "#     cmap='viridis'\n",
    "# )\n",
    "\n",
    "# plt.colorbar(label=\"Counts\")\n",
    "# plt.xlabel(\"ρw (kg m⁻² s⁻¹)\")\n",
    "# plt.ylabel(\"Height (m)\")\n",
    "# plt.title(\"2D Histogram of ρw vs. Height (sampled 1000 points)\")\n",
    "# plt.show()\n"
   ]
  },
  {
   "cell_type": "code",
   "execution_count": null,
   "id": "d3c25600-e72d-4875-b661-2d36749fcad4",
   "metadata": {
    "jupyter": {
     "source_hidden": true
    }
   },
   "outputs": [],
   "source": [
    "# #TESTING is mean of qcqi = mean of qc + mean of qi \n",
    "# a=Dictionary[\"qcqi\"]\n",
    "# b=Dictionary[\"qc\"]\n",
    "# c=Dictionary[\"qi\"]\n",
    "\n",
    "# one = a[:,0]/a[:,1] \n",
    "\n",
    "# two = (b[:,0]/b[:,1]) + (c[:,0]/c[:,1]) \n",
    "\n",
    "# print(one,two)\n",
    "# # plt.plot(one);plt.plot(two)\n",
    "# print(np.allclose(one, two, rtol=1e-4, atol=1e-7, equal_nan=True))"
   ]
  }
 ],
 "metadata": {
  "kernelspec": {
   "display_name": "work",
   "language": "python",
   "name": "work"
  },
  "language_info": {
   "codemirror_mode": {
    "name": "ipython",
    "version": 3
   },
   "file_extension": ".py",
   "mimetype": "text/x-python",
   "name": "python",
   "nbconvert_exporter": "python",
   "pygments_lexer": "ipython3",
   "version": "3.13.5"
  }
 },
 "nbformat": 4,
 "nbformat_minor": 5
}

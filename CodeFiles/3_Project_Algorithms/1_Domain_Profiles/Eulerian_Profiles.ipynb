{
 "cells": [
  {
   "cell_type": "code",
   "execution_count": 56,
   "id": "50b39499-34af-4937-afee-d07e9183d6f3",
   "metadata": {},
   "outputs": [],
   "source": [
    "####################################\n",
    "#ENVIRONMENT SETUP"
   ]
  },
  {
   "cell_type": "code",
   "execution_count": 57,
   "id": "b0de02ac-b047-4e20-aa53-293b2681161f",
   "metadata": {},
   "outputs": [],
   "source": [
    "#Importing Libraries\n",
    "import numpy as np\n",
    "import matplotlib.pyplot as plt\n",
    "import matplotlib.colors as mcolors\n",
    "import matplotlib.ticker as ticker\n",
    "import matplotlib.cm as cm\n",
    "from matplotlib.colors import Normalize\n",
    "from matplotlib.ticker import MaxNLocator\n",
    "from matplotlib.ticker import ScalarFormatter\n",
    "import matplotlib.gridspec as gridspec\n",
    "import xarray as xr\n",
    "\n",
    "import sys; import os; import time; from datetime import timedelta\n",
    "import pickle\n",
    "import h5py"
   ]
  },
  {
   "cell_type": "code",
   "execution_count": 58,
   "id": "f7dc45cc-c4e9-4b11-9cb7-f386c95b43aa",
   "metadata": {},
   "outputs": [],
   "source": [
    "#MAIN DIRECTORIES\n",
    "def GetDirectories():\n",
    "    mainDirectory='/mnt/lustre/koa/koastore/torri_group/air_directory/Projects/DCI-Project/'\n",
    "    mainCodeDirectory=os.path.join(mainDirectory,\"Code/CodeFiles/\")\n",
    "    scratchDirectory='/mnt/lustre/koa/scratch/air673/'\n",
    "    codeDirectory=os.getcwd()\n",
    "    return mainDirectory,mainCodeDirectory,scratchDirectory,codeDirectory\n",
    "\n",
    "[mainDirectory,mainCodeDirectory,scratchDirectory,codeDirectory] = GetDirectories()"
   ]
  },
  {
   "cell_type": "code",
   "execution_count": 59,
   "id": "08a3a458-c951-4917-b9e6-c083a6537699",
   "metadata": {},
   "outputs": [],
   "source": [
    "#IMPORT CLASSES\n",
    "sys.path.append(os.path.join(mainCodeDirectory,\"2_Variable_Calculation\"))\n",
    "from CLASSES_Variable_Calculation import ModelData_Class, SlurmJobArray_Class, DataManager_Class"
   ]
  },
  {
   "cell_type": "code",
   "execution_count": 60,
   "id": "559b52d2-dd8f-43dc-9d42-e11f3e44a9fe",
   "metadata": {},
   "outputs": [],
   "source": [
    "#IMPORT FUNCTIONS\n",
    "sys.path.append(os.path.join(mainCodeDirectory,\"2_Variable_Calculation\"))\n",
    "import FUNCTIONS_Variable_Calculation\n",
    "from FUNCTIONS_Variable_Calculation import *"
   ]
  },
  {
   "cell_type": "code",
   "execution_count": 61,
   "id": "a694e001-f72e-476d-b269-0536b98f1360",
   "metadata": {},
   "outputs": [
    {
     "name": "stdout",
     "output_type": "stream",
     "text": [
      "=== CM1 Data Summary ===\n",
      " Simulation #:   1\n",
      " Resolution:     1km\n",
      " Time step:      5min\n",
      " Vertical levels:34\n",
      " Parcels:        1e6\n",
      " Data file:      /mnt/lustre/koa/koastore/torri_group/air_directory/Projects/DCI-Project/Model/cm1r20.3/run/cm1out_1km_5min_34nz.nc\n",
      " Parcel file:    /mnt/lustre/koa/koastore/torri_group/air_directory/Projects/DCI-Project/Model/cm1r20.3/run/cm1out_pdata_1km_5min_1e6np.nc\n",
      " Time steps:     133\n",
      "========================= \n",
      "\n",
      "=== DataManager Summary ===\n",
      " inputDirectory #:   /mnt/lustre/koa/koastore/torri_group/air_directory/Projects/DCI-Project/Code/OUTPUT/Variable_Calculation/TimeSplitModelData\n",
      " outputDirectory #:   /mnt/lustre/koa/koastore/torri_group/air_directory/Projects/DCI-Project/Code/OUTPUT/Variable_Calculation/Domain_Profiles\n",
      " inputDataDirectory #:   /mnt/lustre/koa/koastore/torri_group/air_directory/Projects/DCI-Project/Code/OUTPUT/Variable_Calculation/TimeSplitModelData/1km_5min_34nz/ModelData\n",
      " inputParcelDirectory #:   /mnt/lustre/koa/koastore/torri_group/air_directory/Projects/DCI-Project/Code/OUTPUT/Variable_Calculation/TimeSplitModelData/1km_5min_34nz/ParcelData\n",
      " outputDataDirectory #:   /mnt/lustre/koa/koastore/torri_group/air_directory/Projects/DCI-Project/Code/OUTPUT/Variable_Calculation/Domain_Profiles/1km_5min_34nz/Eulerian_Profiles\n",
      "========================= \n",
      "\n"
     ]
    }
   ],
   "source": [
    "#data loading class\n",
    "ModelData = ModelData_Class(mainDirectory, scratchDirectory, simulationNumber=1)\n",
    "#data manager class\n",
    "DataManager = DataManager_Class(mainDirectory, scratchDirectory, ModelData.res, ModelData.t_res, ModelData.Nz_str,\n",
    "                                ModelData.Np_str, dataType=\"Domain_Profiles\", dataName=\"Eulerian_Profiles\",\n",
    "                                dtype='float32')"
   ]
  },
  {
   "cell_type": "code",
   "execution_count": 62,
   "id": "208826ad-dc99-4c10-adec-545a83ee5914",
   "metadata": {},
   "outputs": [
    {
     "name": "stdout",
     "output_type": "stream",
     "text": [
      "Running timesteps from 0:7 \n",
      "\n"
     ]
    }
   ],
   "source": [
    "#JOB ARRAY SETUP\n",
    "UsingJobArray=True\n",
    "\n",
    "def GetNumJobs(res):\n",
    "    if res=='1km':\n",
    "        num_jobs=20\n",
    "    elif res=='250m': \n",
    "        num_jobs=100\n",
    "    return num_jobs\n",
    "num_jobs = GetNumJobs(ModelData.res)\n",
    "SlurmJobArray = SlurmJobArray_Class(total_elements=ModelData.Ntime, num_jobs=num_jobs, UsingJobArray=UsingJobArray)\n",
    "start_job = SlurmJobArray.start_job; end_job = SlurmJobArray.end_job\n",
    "\n",
    "def GetNumElements():\n",
    "    num_elements = np.arange(ModelData.Ntime)[start_job:end_job]\n",
    "    return num_elements\n",
    "num_elements = GetNumElements()"
   ]
  },
  {
   "cell_type": "code",
   "execution_count": 63,
   "id": "14b43ffc-b2d9-4b96-8fa8-a7533bbfdc60",
   "metadata": {},
   "outputs": [],
   "source": [
    "##############################################\n",
    "#DATA LOADING FUNCTIONS"
   ]
  },
  {
   "cell_type": "code",
   "execution_count": 64,
   "id": "d2c0d793-e723-420a-a3b5-179545122af6",
   "metadata": {},
   "outputs": [],
   "source": [
    "# #DOMAIN SUBSETTING #*#*\n",
    "# ############################################################\n",
    "\n",
    "# #FINDING NEW LEFT T-BOUNDARY\n",
    "# dt=data1['time'][1].item()/1e9 #seconds per timestep\n",
    "# dhours=(dt/60**2) #hours per timestep\n",
    "# start_hour=4 #10:00 am\n",
    "# t_start=int(start_hour/dhours)\n",
    "# #FINDING NEW RIGHT T-BOUNDARY\n",
    "# end_hour=11 #5pm\n",
    "# t_end=int(end_hour/dhours)\n",
    "# #PRINTING\n",
    "# print(f't in {t_start}:{t_end}')\n",
    "\n",
    "\n",
    "# #FINDING NEW TOP Z-BOUNDARY\n",
    "# dzh=data1['zh']\n",
    "# zh_bottom=0; zh_top=np.where(dzh>=19)[0][0]\n",
    "# dzf=data1['zf']\n",
    "# zf_bottom=0; zf_top=np.where(dzf>=20)[0][0]\n",
    "# #PRINTING\n",
    "# print(f'zh_top at {zh_bottom}:{zh_top}')\n",
    "\n",
    "# #FINDING THE NEW LEFT X-BOUNDARY\n",
    "# ocean_percent=2/8\n",
    "# left_to_coast=data1['xh'][0]+(data1['xh'][-1]-data1['xh'][0])*ocean_percent\n",
    "# where_coast_xh=np.where(data1['xh']>=left_to_coast)[0][0]#-25\n",
    "# where_coast_xf=np.where(data1['xf']>=left_to_coast)[0][0]#-25\n",
    "\n",
    "# #FINDING THE NEW RIGHT X-BOUNDARY\n",
    "# right_fraction=80/100\n",
    "# # Normalize to start from zero\n",
    "# xf = data1['xf'] - data1['xf'][0]\n",
    "# xh = data1['xh'] - data1['xh'][0]\n",
    "\n",
    "# # Total physical length\n",
    "# xf_max = xf[-1]\n",
    "# xh_max = xh[-1]\n",
    "\n",
    "# # Find index where physical location exceeds 80% of domain\n",
    "# end_xf = np.where(xf > right_fraction * xf_max)[0][0]\n",
    "# end_xh = np.where(xh > right_fraction * xh_max)[0][0]\n",
    "\n",
    "# # Example: printing region from coast to 80% mark\n",
    "# print(f'x in {where_coast_xh}:{end_xh} FOR LAND')\n",
    "\n",
    "# #SUBSETTING CODE\n",
    "# data1=data1.isel(time=slice(t_start,None),zh=slice(zh_bottom,zh_top),zf=slice(zf_bottom,zf_top),xh=slice(where_coast_xh,end_xh+1),xf=slice(where_coast_xf,end_xf+1))\n",
    "# A_ds1=A_ds1.isel(time=slice(t_start,None),zh=slice(zh_bottom,zh_top),xh=slice(where_coast_xh,end_xh+1))"
   ]
  },
  {
   "cell_type": "code",
   "execution_count": 65,
   "id": "9e8a8fee-ada0-45f8-9f45-1d42580e72f2",
   "metadata": {},
   "outputs": [],
   "source": [
    "def CallVariables(ModelData, DataManager, timeString, varNames):\n",
    "    varDictionary = {}\n",
    "    for varName in varNames:\n",
    "        varDictionary[varName] = CallVariable(ModelData, DataManager, timeString, variableName=varName)\n",
    "    return varDictionary\n",
    "\n",
    "def GetBinaryArrays(DataManager, timeString):\n",
    "    varNames = ['A_g', 'A_c']\n",
    "    VARs = CallVariables(ModelData, DataManager, timeString, varNames)\n",
    "    return (VARs[k] for k in varNames)"
   ]
  },
  {
   "cell_type": "code",
   "execution_count": 67,
   "id": "463223d6-e7fb-4a44-b4fc-f7eea88aa473",
   "metadata": {},
   "outputs": [],
   "source": [
    "####################################\n",
    "#Functions"
   ]
  },
  {
   "cell_type": "code",
   "execution_count": 156,
   "id": "90a7a8a4-2818-4f04-89cd-f9244895f58b",
   "metadata": {},
   "outputs": [],
   "source": [
    "# Thresholds\n",
    "# def GetCloudyUpdraftThresholds(): #not needed since eulerian_binary arrays were calculated previously\n",
    "#     w_thresh1=0.1\n",
    "#     w_thresh2=0.5\n",
    "#     qcqi_thresh=1e-6\n",
    "#     return w_thresh1,w_thresh2,qcqi_thresh\n",
    "\n",
    "def InitializeProfiles(VARs, ModelData):\n",
    "    zhs = ModelData.zh\n",
    "    \n",
    "    # Initialize profiles for each variable\n",
    "    profiles = {}\n",
    "    for var in VARs:\n",
    "        if 'wb' in var: zhs = ModelData.zf #since w budgets are stored on cell edge\n",
    "        profiles[var] = np.zeros((len(zhs), 3))  # column 1: var, column 2: counter, column 3: list of zhs\n",
    "        profiles[var][:, 2] = zhs\n",
    "\n",
    "    #####\n",
    "    VARs_squares = [key + \"_squares\" for key in VARs.keys()]\n",
    "    for var_squares in VARs_squares:\n",
    "        if 'wb' in var_squares: zhs = ModelData.zf #since w budgets are stored on cell edge\n",
    "        profiles[var_squares] = np.zeros((len(zhs), 3))  # column 1: var, column 2: counter, column 3: list of zhs\n",
    "        profiles[var_squares][:, 2] = zhs\n",
    "    #####\n",
    "\n",
    "    return profiles, VARs_squares\n",
    "\n",
    "def GetUpdraftMask(data_type, A_g, A_c):\n",
    "    # Threshold mask\n",
    "    if data_type == \"general\":\n",
    "        where_updraft = (A_g==True)\n",
    "    elif data_type == \"cloudy\":\n",
    "        where_updraft = (A_c==True)\n",
    "    return where_updraft\n",
    "\n",
    "def GetIndexes(where_updraft):\n",
    "    # Get Indexes\n",
    "    z_ind, y_ind, x_ind = np.where(where_updraft)\n",
    "    return z_ind, y_ind, x_ind\n",
    "\n",
    "def MakeProfiles(VARs, VARs_squares, profiles, where_updraft, z_ind):\n",
    "    # Make Profiles\n",
    "    # Iterate over each variable in var_names and bin the data\n",
    "    for (var,var_squares) in zip(VARs,VARs_squares):\n",
    "        masked_data = VARs[var][where_updraft]\n",
    "        np.add.at(profiles[var][:, 0], z_ind, masked_data)\n",
    "        np.add.at(profiles[var][:, 1], z_ind, 1)\n",
    "        np.add.at(profiles[var_squares][:, 0], z_ind, masked_data**2)\n",
    "        np.add.at(profiles[var_squares][:, 1], z_ind, 1)\n",
    "\n",
    "    return profiles\n",
    "\n",
    "def DomainProfile(VARs,data_type, A_g,A_c):\n",
    "\n",
    "    # Initialize profiles for each variable\n",
    "    profiles, VARs_squares = InitializeProfiles(VARs, ModelData)\n",
    "\n",
    "    # Threshold mask\n",
    "    where_updraft = GetUpdraftMask(data_type, A_g, A_c)\n",
    "\n",
    "    # Get Indexes\n",
    "    z_ind, y_ind, x_ind = GetIndexes(where_updraft)\n",
    "\n",
    "    # Make Profiles\n",
    "    profiles = MakeProfiles(VARs, VARs_squares, profiles, where_updraft, z_ind)\n",
    "\n",
    "    return profiles"
   ]
  },
  {
   "cell_type": "code",
   "execution_count": 157,
   "id": "66d92c89-616b-4cb3-b86e-be7a78bc36d5",
   "metadata": {},
   "outputs": [],
   "source": [
    "#*#* also need profiles without no mask for \"where_updraft\" variable\n",
    "#*#* may also add another code for a eulerian version of \"updraft_area\""
   ]
  },
  {
   "cell_type": "code",
   "execution_count": 158,
   "id": "d3eea278-1264-470c-8078-2a11a4595fe2",
   "metadata": {},
   "outputs": [],
   "source": [
    "# def SaveProfile(Dictionary, data_type, job_id): #*#*\n",
    "#     dir2=dir+'Project_Algorithms/Domain_Profiles/SBATCH/'\n",
    "#     if data_type == \"general\":\n",
    "#         output_file = dir2+f'job_out/{budget_type}_BUDGET_general_eulerian_profiles_{res}_{t_res}_{Np_str}'\n",
    "#     elif data_type == \"cloudy\":\n",
    "#         output_file = dir2+f'job_out/{budget_type}_BUDGET_cloudy_eulerian_profiles_{res}_{t_res}_{Np_str}'\n",
    "#     output_file+=f'_{job_id}.h5'\n",
    "    \n",
    "#     with h5py.File(output_file, 'w') as f:\n",
    "#         for var in Dictionary:\n",
    "#             profile_var = Dictionary[var]\n",
    "#             f.create_dataset(f'profile_{var}', data=profile_var, compression=\"gzip\")"
   ]
  },
  {
   "cell_type": "code",
   "execution_count": 159,
   "id": "c86be8d2-27ed-44d9-a997-fe287f2c3e74",
   "metadata": {},
   "outputs": [],
   "source": [
    "####################################\n",
    "#RUN SETUP"
   ]
  },
  {
   "cell_type": "code",
   "execution_count": 223,
   "id": "bbb0ca8a-a3ba-4dad-addb-321922f5cc48",
   "metadata": {},
   "outputs": [],
   "source": [
    "################################\n",
    "#DATA SETUP\n",
    "################################\n",
    "def GetVarNames(dataName): \n",
    "    if dataName==\"Variables\":\n",
    "        varNames = ['winterp', 'qv', 'qc', 'qi', 'qcqi', 'RH_vapor', 'theta_v', 'theta_e', 'MSE', 'HMC','VMF_g','VMF_c']\n",
    "    if dataName == \"Entrainment\":\n",
    "        temp=1 #*#*\n",
    "    elif dataName==\"WQVTH_Budgets\": #*#* this wont work currently\n",
    "         varNames = [\"wb_hadv\", \"wb_vadv\", \"wb_hidiff\", \"wb_vidiff\", \n",
    "                     \"wb_hturb\", \"wb_vturb\", \"wb_pgrad\", \"wb_buoy\"]\n",
    "         varNames += [\"qvb_hadv\", \"qvb_vadv\", \"qvb_hidiff\", \"qvb_vidiff\", \n",
    "                     \"qvb_hturb\", \"qvb_vturb\", \"qvb_mp\"]\n",
    "         varNames += [\"ptb_hadv\", \"ptb_vadv\", \"ptb_hidiff\", \"ptb_vidiff\", \n",
    "                     \"ptb_hturb\", \"ptb_vturb\", \"ptb_mp\", \"ptb_rad\", \"ptb_div\", \"ptb_diss\"]\n",
    "    return varNames\n",
    "\n",
    "#*#*\n",
    "# dataNames = [\"Variables\", \"Entrainment\", \"WQVTH_Budgets\"] #*#* can make it so the function call looks like ./file.py dataName, that way multiple versions can be run at once\n",
    "# for dataName in dataNames\n",
    "\n",
    "dataName = \"Variables\""
   ]
  },
  {
   "cell_type": "code",
   "execution_count": 224,
   "id": "c9ef7e90-4686-45ae-b163-bcb92ff3bc21",
   "metadata": {},
   "outputs": [],
   "source": [
    "########################################\n",
    "#Running #*#* "
   ]
  },
  {
   "cell_type": "code",
   "execution_count": 225,
   "id": "c4f62556-0857-4335-840f-7aea704c963b",
   "metadata": {
    "scrolled": true
   },
   "outputs": [],
   "source": [
    "for t in [100]:\n",
    "    timeString = ModelData.timeStrings[t]\n",
    "    \n",
    "    #SLICING DATA\n",
    "    [A_g,A_c] = GetBinaryArrays(DataManager,timeString)\n",
    "    \n",
    "    varNames=GetVarNames(type1)\n",
    "    for data_type in ['general','cloudy']:\n",
    "\n",
    "        #Getting Variables\n",
    "        VARs=CallVariables(ModelData, DataManager, timeString, varNames)\n",
    "\n",
    "        #Making Profiles\n",
    "        Dictionary=DomainProfile(VARs,data_type,A_g,A_c)\n",
    "    #     # SaveProfile(Dictionary,data_type,job_id)\n",
    "        \n",
    "    #     # del VARs, Dictionary"
   ]
  },
  {
   "cell_type": "code",
   "execution_count": null,
   "id": "502c935c-6a8d-4287-9746-29d953152710",
   "metadata": {},
   "outputs": [],
   "source": [
    "hey=Dictionary[\"qv\"]\n",
    "plt.plot(hey[:,0]/hey[:,1],hey[:,2])"
   ]
  },
  {
   "cell_type": "code",
   "execution_count": null,
   "id": "ef9f83bc-91fe-4564-8a13-c7dafe46db7b",
   "metadata": {},
   "outputs": [],
   "source": [
    "# ######################################### #*#*\n",
    "# #RECOMBINE SEPERATE JOB_ARRAYsS AFTER\n",
    "# recombine=False #KEEP FALSE WHEN JOB ARRAY IS RUNNING\n",
    "# # recombine=True"
   ]
  },
  {
   "cell_type": "code",
   "execution_count": null,
   "id": "e4be274b-b52e-43da-84ca-34a3f80cc678",
   "metadata": {
    "jupyter": {
     "source_hidden": true
    }
   },
   "outputs": [],
   "source": [
    "# def Recombine(num_jobs,budget_type):\n",
    "#     dir2=dir+'Project_Algorithms/Domain_Profiles/'\n",
    "#     print(f\"Currently Working on {budget_type} Budgets\")\n",
    "    \n",
    "#     data_types=['general','cloudy']\n",
    "#     for data_type in data_types:\n",
    "#         #MAKING OUTPUT FILE PATH\n",
    "#         if data_type == \"general\":\n",
    "#             output_file = dir2+f'OUTPUT/{budget_type}_BUDGET_general_eulerian_profiles_{res}_{t_res}_{Np_str}.h5'\n",
    "#         elif data_type == \"cloudy\":\n",
    "#             output_file = dir2+f'OUTPUT/{budget_type}_BUDGET_cloudy_eulerian_profiles_{res}_{t_res}_{Np_str}.h5'\n",
    "\n",
    "#         def GetInputFile(data_type,job_id):\n",
    "#             if data_type == \"general\":\n",
    "#                 input_file = dir2+f'SBATCH/job_out/{budget_type}_BUDGET_general_eulerian_profiles_{res}_{t_res}_{Np_str}_{job_id}.h5'\n",
    "#             elif data_type == \"cloudy\":\n",
    "#                 input_file = dir2+f'SBATCH/job_out/{budget_type}_BUDGET_cloudy_eulerian_profiles_{res}_{t_res}_{Np_str}_{job_id}.h5'\n",
    "#             return input_file\n",
    "        \n",
    "#         #MAKING PROFILES DICTIONARY\n",
    "#         zhs = data1['zh'].values\n",
    "#         profiles = {}  #  Store profiles for all variables\n",
    "#         input_file=GetInputFile(data_type,job_id=1)\n",
    "#         with h5py.File(input_file, 'r') as f:\n",
    "#             var_names=list(f.keys())\n",
    "#         for var in var_names:\n",
    "#             profiles[var] = np.zeros((len(zhs), 3))  # column 1: var, column 2: counter, column 3: list of zhs\n",
    "#             profiles[var][:, 2] = zhs \n",
    "\n",
    "#         for job_id in np.arange(1,num_jobs+1):\n",
    "#             if np.mod(job_id,10)==0: print(f\"job_id = {job_id}\")\n",
    "#             #CALLING IN DATA\n",
    "#             input_file=GetInputFile(data_type,job_id)\n",
    "    \n",
    "#             #COMPILING PROFILES\n",
    "#             with h5py.File(input_file, 'r') as f:\n",
    "#                 for var in var_names:  \n",
    "#                     profiles[var][:,0:1+1]+=f[f'{var}'][:,0:1+1]\n",
    "        \n",
    "#         #SAVING INTO FINAL FORM\n",
    "#         with h5py.File(output_file, 'w') as f:\n",
    "#             for var in profiles:\n",
    "#                 profile_var = profiles[var]\n",
    "#                 f.create_dataset(f'{var}', data=profile_var, compression=\"gzip\")"
   ]
  },
  {
   "cell_type": "code",
   "execution_count": null,
   "id": "1c248898-04d4-44e8-8286-afb2a03986a0",
   "metadata": {
    "jupyter": {
     "source_hidden": true
    },
    "scrolled": true
   },
   "outputs": [],
   "source": [
    "# if recombine==True:\n",
    "#     # Recombine(num_jobs=num_jobs,budget_type='WQVTH')\n",
    "#     Recombine(num_jobs=num_jobs,budget_type='W')\n",
    "#     Recombine(num_jobs=num_jobs,budget_type='QV')\n",
    "#     Recombine(num_jobs=num_jobs,budget_type='TH')"
   ]
  }
 ],
 "metadata": {
  "kernelspec": {
   "display_name": "work",
   "language": "python",
   "name": "work"
  },
  "language_info": {
   "codemirror_mode": {
    "name": "ipython",
    "version": 3
   },
   "file_extension": ".py",
   "mimetype": "text/x-python",
   "name": "python",
   "nbconvert_exporter": "python",
   "pygments_lexer": "ipython3",
   "version": "3.13.5"
  }
 },
 "nbformat": 4,
 "nbformat_minor": 5
}

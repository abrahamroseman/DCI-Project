{
 "cells": [
  {
   "cell_type": "code",
   "execution_count": null,
   "id": "8e661fd2-d578-41ef-b048-a4b882a9ba28",
   "metadata": {},
   "outputs": [],
   "source": [
    "####################################\n",
    "#ENVIRONMENT SETUP"
   ]
  },
  {
   "cell_type": "code",
   "execution_count": null,
   "id": "1f66b578-2534-4a23-91e4-a50b0b6f2c15",
   "metadata": {},
   "outputs": [],
   "source": [
    "#Importing Libraries\n",
    "import numpy as np\n",
    "import matplotlib.pyplot as plt\n",
    "import matplotlib.colors as mcolors\n",
    "import matplotlib.ticker as ticker\n",
    "import matplotlib.cm as cm\n",
    "from matplotlib.colors import Normalize\n",
    "from matplotlib.ticker import MaxNLocator\n",
    "from matplotlib.ticker import ScalarFormatter\n",
    "import matplotlib.gridspec as gridspec\n",
    "import xarray as xr\n",
    "\n",
    "import sys; import os; import time; from datetime import timedelta\n",
    "import pickle\n",
    "import h5py\n",
    "\n",
    "from tqdm import tqdm"
   ]
  },
  {
   "cell_type": "code",
   "execution_count": null,
   "id": "7e5fc1a9-d70e-4ddb-a644-156ec84978ae",
   "metadata": {},
   "outputs": [],
   "source": [
    "#MAIN DIRECTORIES\n",
    "def GetDirectories():\n",
    "    mainDirectory='/mnt/lustre/koa/koastore/torri_group/air_directory/Projects/DCI-Project/'\n",
    "    mainCodeDirectory=os.path.join(mainDirectory,\"Code/CodeFiles/\")\n",
    "    scratchDirectory='/mnt/lustre/koa/scratch/air673/'\n",
    "    codeDirectory=os.getcwd()\n",
    "    return mainDirectory,mainCodeDirectory,scratchDirectory,codeDirectory\n",
    "\n",
    "[mainDirectory,mainCodeDirectory,scratchDirectory,codeDirectory] = GetDirectories()"
   ]
  },
  {
   "cell_type": "code",
   "execution_count": null,
   "id": "2631c552-dd4f-4230-92ab-b0c13f0ee7c0",
   "metadata": {},
   "outputs": [],
   "source": [
    "#IMPORT CLASSES\n",
    "sys.path.append(os.path.join(mainCodeDirectory,\"2_Variable_Calculation\"))\n",
    "from CLASSES_Variable_Calculation import ModelData_Class, SlurmJobArray_Class, DataManager_Class"
   ]
  },
  {
   "cell_type": "code",
   "execution_count": null,
   "id": "9c2fc215-da13-4961-ab77-0fd869306903",
   "metadata": {},
   "outputs": [],
   "source": [
    "#IMPORT CLASSES\n",
    "sys.path.append(os.path.join(mainCodeDirectory,\"3_Project_Algorithms\",\"1_Domain_Profiles\"))\n",
    "from CLASSES_DomainProfiles import DomainProfiles_Class, DomainProfiles_DataLoading_Class"
   ]
  },
  {
   "cell_type": "code",
   "execution_count": null,
   "id": "82c56e61-b385-4f0a-b1be-4326805d889e",
   "metadata": {},
   "outputs": [],
   "source": [
    "#IMPORT CLASSES\n",
    "sys.path.append(os.path.join(mainCodeDirectory,\"3_Project_Algorithms\",\"2_Tracking_Algorithms\"))\n",
    "from CLASSES_TrackingAlgorithms import TrackingAlgorithms_DataLoading_Class"
   ]
  },
  {
   "cell_type": "code",
   "execution_count": null,
   "id": "e69e190f-2be4-4874-bb86-87fc36c9b939",
   "metadata": {},
   "outputs": [],
   "source": [
    "#IMPORT FUNCTIONS\n",
    "sys.path.append(os.path.join(mainCodeDirectory,\"2_Variable_Calculation\"))\n",
    "import FUNCTIONS_Variable_Calculation\n",
    "from FUNCTIONS_Variable_Calculation import *"
   ]
  },
  {
   "cell_type": "code",
   "execution_count": null,
   "id": "788e2b68-8b82-470c-affa-120e9fc00971",
   "metadata": {},
   "outputs": [],
   "source": [
    "#data loading class\n",
    "ModelData = ModelData_Class(mainDirectory, scratchDirectory, simulationNumber=1)\n",
    "#data manager class\n",
    "DataManager = DataManager_Class(mainDirectory, scratchDirectory, ModelData.res, ModelData.t_res, ModelData.Nz_str,\n",
    "                                ModelData.Np_str, dataType=\"Tracking_Algorithms\", dataName=\"Eulerian_CLTracking\",\n",
    "                                dtype='float32',codeSection = \"Project_Algorithms\")"
   ]
  },
  {
   "cell_type": "code",
   "execution_count": null,
   "id": "b127f500-9449-46c5-bf41-2bf30461bfa9",
   "metadata": {},
   "outputs": [],
   "source": [
    "#JOB ARRAY SETUP\n",
    "UsingJobArray=True\n",
    "\n",
    "def GetNumJobs(res):\n",
    "    if res=='1km':\n",
    "        num_jobs=20\n",
    "    elif res=='250m': \n",
    "        num_jobs=100\n",
    "    return num_jobs\n",
    "num_jobs = GetNumJobs(ModelData.res)\n",
    "SlurmJobArray = SlurmJobArray_Class(total_elements=ModelData.Ntime, num_jobs=num_jobs, UsingJobArray=UsingJobArray)\n",
    "start_job = SlurmJobArray.start_job; end_job = SlurmJobArray.end_job\n",
    "\n",
    "def GetNumElements():\n",
    "    num_elements = np.arange(ModelData.Ntime)[start_job:end_job]\n",
    "    return num_elements\n",
    "num_elements = GetNumElements()"
   ]
  },
  {
   "cell_type": "code",
   "execution_count": null,
   "id": "0d3f70c5-b656-43cb-b6d9-67373b80e21c",
   "metadata": {},
   "outputs": [],
   "source": [
    "##############################################\n",
    "#MODEL AND ALGORITHM NUMERICAL PARAMETERS"
   ]
  },
  {
   "cell_type": "code",
   "execution_count": null,
   "id": "92d759de-8dc1-428e-8d11-01d4da2e92a9",
   "metadata": {},
   "outputs": [],
   "source": [
    "kms=np.argmax(ModelData.xh-ModelData.xh[0] >= 1) #finds how many x grids is 1 km\n",
    "dx=int(ModelData.xh[1]-ModelData.xh[0]) #grid resolution (in km)"
   ]
  },
  {
   "cell_type": "code",
   "execution_count": null,
   "id": "a5e4c679-ee6b-44db-9d40-feb4e4021673",
   "metadata": {},
   "outputs": [],
   "source": [
    "#setting convergence threshold\n",
    "if ModelData.res=='1km':\n",
    "    conv_thresh=1.0/1000\n",
    "elif ModelData.res==\"250m\":\n",
    "    conv_thresh=1.5/1000"
   ]
  },
  {
   "cell_type": "code",
   "execution_count": null,
   "id": "61501f68-925f-4a6e-b305-ae30a441e367",
   "metadata": {},
   "outputs": [],
   "source": [
    "##############################################\n",
    "#DATA LOADING FUNCTIONS"
   ]
  },
  {
   "cell_type": "code",
   "execution_count": null,
   "id": "eee609b3-9a9a-473b-9335-818b3f14f225",
   "metadata": {},
   "outputs": [],
   "source": [
    "def GetConvergence(t):\n",
    "    timeString = ModelData.timeStrings[t]\n",
    "    varName = 'convergence'\n",
    "    convergence = CallVariable(ModelData, DataManager, timeString, varName)\n",
    "    return convergence"
   ]
  },
  {
   "cell_type": "code",
   "execution_count": null,
   "id": "8487c5fc-e03c-4a03-af50-fd1c8c42b609",
   "metadata": {},
   "outputs": [],
   "source": [
    "##############################################\n",
    "#ALGORITHM FUNCTIONS"
   ]
  },
  {
   "cell_type": "code",
   "execution_count": null,
   "id": "62e862a9-696b-4b05-919f-27ed0a9c2aae",
   "metadata": {},
   "outputs": [],
   "source": [
    "#SBZ Convergence Line Search Algorithm (levels are seperate) (python version 3.10.9) (All Max Algorithm)\n",
    "def FindMaxIndices(yconv):\n",
    "    \"\"\"find indices of local maxima above threshold.\"\"\"\n",
    "\n",
    "     #takes dconv/dx\n",
    "    ddx = (yconv[1:  ] - yconv[0:-1]) / (2 * dx)\n",
    "     \n",
    "    #finds local max where dconv/dx sign changes\n",
    "    signs = np.sign(ddx)\n",
    "    signs_diff=np.diff(signs)\n",
    "    local_maxes=np.where((signs_diff != 0) & (signs_diff < 0))[0]+1 #make sure +1 is here (it corrects the location of the derivative)\n",
    "    local_maxes=local_maxes[np.where(yconv[local_maxes]>conv_thresh)] #check if convergence is greater than convergence threshold (1s-1)\n",
    "    local_maxes=local_maxes[(local_maxes>50*kms)&(local_maxes<len(ModelData.xf)-50*kms)] #removes maxes that are with 50 km of y boundary\n",
    "    return local_maxes"
   ]
  },
  {
   "cell_type": "code",
   "execution_count": null,
   "id": "0709efcf-c03e-4a84-bcf0-fd12825aed85",
   "metadata": {},
   "outputs": [],
   "source": [
    "#Finds all local maximums (from Calculus) along each y level for a specific z level (~0.28km in this case)\n",
    "def FindLocalMaxes(conv_z,yind, second_round=False):\n",
    "    \"\"\"\n",
    "    #Find_Local_Maxes Function\n",
    "    #(1) At a single time and z level, runs through each y-level\n",
    "    #(2) At each y-level, takes the x-derivative\n",
    "    #(3) Take sign(x_derivative)\n",
    "    #(4) Take diff(x_derivative)\n",
    "    #(5) Max is located one index to the right of where derivative changes from positive to negative or diff is +1\n",
    "    #[(6) Optional: the algorithm can run a second time over the leftover maxes after removing previous maxes from temporary variable]\n",
    "    \"\"\"\n",
    "    \n",
    "    #indexes convergence in y\n",
    "    yconv=conv_z[yind,:]\n",
    "    \n",
    "    #finds local max where dconv/dx sign changes\n",
    "    local_maxes = FindMaxIndices(yconv)\n",
    "\n",
    "    #second round maxes (not 100% necessary, only if missing many convergence maximums that are visually there)\n",
    "    if second_round == True:\n",
    "        yconv2=yconv.copy()\n",
    "        yconv2[local_maxes]=0\n",
    "        \n",
    "        #takes dconv/dx\n",
    "        local_maxes2 = FindMaxIndicies(f=yconv2)\n",
    "    \n",
    "        #combine the two\n",
    "        local_maxes=np.concatenate((local_maxes,local_maxes2))\n",
    "    return local_maxes"
   ]
  },
  {
   "cell_type": "code",
   "execution_count": null,
   "id": "40a21482-5da9-43d8-83eb-5b0c0684d35b",
   "metadata": {},
   "outputs": [],
   "source": [
    "##############################################\n",
    "#RUNNING FUNCTIONS"
   ]
  },
  {
   "cell_type": "code",
   "execution_count": null,
   "id": "fbe7f568-51fa-4f85-8463-ad445e0deaa9",
   "metadata": {
    "scrolled": true
   },
   "outputs": [],
   "source": [
    "def LayerMax(conv): #finds max convergence along y for multiple z location (5 is good)\n",
    "    \n",
    "    #initializing data\n",
    "    Nz = int(np.where(ModelData.zh <= 0.775)[0][-1]) + 1 #only include levels less than 1 km\n",
    "    maxConvergence_X=np.full((Nz, ModelData.Nyh, ModelData.Nxh), -1, dtype=np.int16)\n",
    "    \n",
    "    #running for all z levels\n",
    "    for zlev in range(Nz):\n",
    "        #Taking Convergence of current timesftep\n",
    "        conv_z=conv[zlev,:,:] #current z level for convergence\n",
    "\n",
    "        for yind in range(ModelData.Nyh): #plot maximums for each row\n",
    "\n",
    "            #finds all local maxes\n",
    "            local_maxes=FindLocalMaxes(conv_z,yind) #convergence threshold (in 1/s)\n",
    "            \n",
    "            #storing data\n",
    "            maxConvergence_X[zlev,yind,local_maxes] = local_maxes\n",
    "    return maxConvergence_X\n",
    "\n",
    "def GetAvgConvergence(conv):\n",
    "    # #OPTION ONE\n",
    "    # z_level = np.where(ModelData.zh<=1)[0][-1]\n",
    "    # return np.mean(conv[0:z_level+1], axis=(1)) #worst option\n",
    "    \n",
    "    # #OPTION TWO\n",
    "    # z_level = np.where(ModelData.zh<=500/1e3)[0][-1]\n",
    "    # return np.mean(conv[z_level],axis=0) #second best option\n",
    "    \n",
    "    #OPTION THREE\n",
    "    return np.mean(conv, axis=(0,1)) #BEST OPTION"
   ]
  },
  {
   "cell_type": "code",
   "execution_count": null,
   "id": "571559f5-66ce-4f3d-81be-8804e6c633fb",
   "metadata": {},
   "outputs": [],
   "source": [
    "def RunAlgorithm():\n",
    "    for t in tqdm(num_elements, desc=\"Processing timesteps\"):\n",
    "        # if t % 1 == 0: print(f'Processing timestep {t}/{len(data[\"time\"])}')\n",
    "\n",
    "        #getting convergence at time t\n",
    "        conv=GetConvergence(t)\n",
    "\n",
    "        # Compute maxConvergence_X for this timestep (z,y,x)\n",
    "        maxConvergence_X = LayerMax(conv)\n",
    "\n",
    "        avgConvergence = GetAvgConvergence(conv)\n",
    "\n",
    "        Dictionary = {\"maxConvergence_X\": maxConvergence_X,\n",
    "                      \"avgConvergence\": avgConvergence}\n",
    "\n",
    "        # Directly write into HDF5 dataset at index t\n",
    "        timeString = ModelData.timeStrings[t]\n",
    "        TrackingAlgorithms_DataLoading_Class.SaveData(ModelData,DataManager, Dictionary, timeString)"
   ]
  },
  {
   "cell_type": "code",
   "execution_count": null,
   "id": "a2c63948-f8dc-4dc5-a49e-ef770787661f",
   "metadata": {},
   "outputs": [],
   "source": [
    "#############################################\n",
    "#RUNNING"
   ]
  },
  {
   "cell_type": "code",
   "execution_count": null,
   "id": "34f5ea5e-6297-41cf-9685-fb486f31f0af",
   "metadata": {
    "scrolled": true
   },
   "outputs": [],
   "source": [
    "RunAlgorithm()"
   ]
  },
  {
   "cell_type": "code",
   "execution_count": null,
   "id": "900f29a0-c79c-4cd9-9003-fa03c8f62487",
   "metadata": {},
   "outputs": [],
   "source": []
  },
  {
   "cell_type": "code",
   "execution_count": null,
   "id": "1b97e778-211d-4998-8b6d-dded3d3281b3",
   "metadata": {},
   "outputs": [],
   "source": []
  },
  {
   "cell_type": "code",
   "execution_count": null,
   "id": "d0a550f2-090d-4564-afec-ea2438b998b6",
   "metadata": {},
   "outputs": [],
   "source": []
  },
  {
   "cell_type": "code",
   "execution_count": null,
   "id": "e3b79794-000b-4b7f-bcc6-65bb9e8b98d0",
   "metadata": {},
   "outputs": [],
   "source": [
    "#############################################\n",
    "#TESTING"
   ]
  },
  {
   "cell_type": "code",
   "execution_count": null,
   "id": "416c1dac-27b1-49be-b7a7-11f288d1317e",
   "metadata": {},
   "outputs": [],
   "source": [
    "#testing max convergence average propagation"
   ]
  },
  {
   "cell_type": "code",
   "execution_count": null,
   "id": "a9c0ca28-2b08-4b68-b0f6-f575b92315d6",
   "metadata": {
    "jupyter": {
     "source_hidden": true
    }
   },
   "outputs": [],
   "source": [
    "#LOADING CL MAXS FROM CL TRACKING ALGORITHM\n",
    "def Get_AvgConvergence(t):\n",
    "\n",
    "    timeString = ModelData.timeStrings[t]\n",
    "    outputDataDirectory=os.path.normpath(os.path.join(DataManager.outputDataDirectory,\"..\",\"Eulerian_CLTracking\"))\n",
    "    Dictionary = TrackingAlgorithms_DataLoading_Class.LoadData(ModelData, DataManager, timeString,\n",
    "                     dataName=\"Eulerian_CLTracking\",outputDataDirectory=outputDataDirectory)\n",
    "    whereCL = Dictionary[\"avgConvergence\"]\n",
    "    return whereCL"
   ]
  },
  {
   "cell_type": "code",
   "execution_count": null,
   "id": "f5f3e405-c891-490b-b359-4f3df1f4c162",
   "metadata": {
    "scrolled": true
   },
   "outputs": [],
   "source": [
    "where_lst=[]\n",
    "for count,t in enumerate(np.arange(0,132,1)):\n",
    "    d=Get_AvgConvergence(t=t)\n",
    "    dmax = np.max(d)\n",
    "    where = np.where(d==dmax); \n",
    "    if t==0:\n",
    "        where_lst.append(np.nan)\n",
    "    else:\n",
    "        where_lst.append(where[0].item())\n",
    "\n",
    "    # #plotting\n",
    "    # plt.plot(d)\n",
    "    # plt.scatter(where,dmax,label=t)\n",
    "# plt.legend()\n",
    "\n",
    "plt.plot(np.arange(len(where_lst)),where_lst)\n",
    "plt.xlabel(\"time-index\")\n",
    "plt.ylabel(\"convergence max x-index\")\n",
    "plt.title(\"Propagation of Max Convergence (e.g. SBF)\")"
   ]
  }
 ],
 "metadata": {
  "kernelspec": {
   "display_name": "work",
   "language": "python",
   "name": "work"
  },
  "language_info": {
   "codemirror_mode": {
    "name": "ipython",
    "version": 3
   },
   "file_extension": ".py",
   "mimetype": "text/x-python",
   "name": "python",
   "nbconvert_exporter": "python",
   "pygments_lexer": "ipython3",
   "version": "3.13.5"
  }
 },
 "nbformat": 4,
 "nbformat_minor": 5
}

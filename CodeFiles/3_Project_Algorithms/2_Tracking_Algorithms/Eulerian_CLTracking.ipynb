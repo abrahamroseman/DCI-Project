{
 "cells": [
  {
   "cell_type": "code",
   "execution_count": 1,
   "id": "8e661fd2-d578-41ef-b048-a4b882a9ba28",
   "metadata": {},
   "outputs": [],
   "source": [
    "####################################\n",
    "#ENVIRONMENT SETUP"
   ]
  },
  {
   "cell_type": "code",
   "execution_count": 2,
   "id": "1f66b578-2534-4a23-91e4-a50b0b6f2c15",
   "metadata": {},
   "outputs": [],
   "source": [
    "#Importing Libraries\n",
    "import numpy as np\n",
    "import matplotlib.pyplot as plt\n",
    "import matplotlib.colors as mcolors\n",
    "import matplotlib.ticker as ticker\n",
    "import matplotlib.cm as cm\n",
    "from matplotlib.colors import Normalize\n",
    "from matplotlib.ticker import MaxNLocator\n",
    "from matplotlib.ticker import ScalarFormatter\n",
    "import matplotlib.gridspec as gridspec\n",
    "import xarray as xr\n",
    "\n",
    "import sys; import os; import time; from datetime import timedelta\n",
    "import pickle\n",
    "import h5py\n",
    "\n",
    "from tqdm import tqdm"
   ]
  },
  {
   "cell_type": "code",
   "execution_count": 3,
   "id": "7e5fc1a9-d70e-4ddb-a644-156ec84978ae",
   "metadata": {},
   "outputs": [],
   "source": [
    "#MAIN DIRECTORIES\n",
    "def GetDirectories():\n",
    "    mainDirectory='/mnt/lustre/koa/koastore/torri_group/air_directory/Projects/DCI-Project/'\n",
    "    mainCodeDirectory=os.path.join(mainDirectory,\"Code/CodeFiles/\")\n",
    "    scratchDirectory='/mnt/lustre/koa/scratch/air673/'\n",
    "    codeDirectory=os.getcwd()\n",
    "    return mainDirectory,mainCodeDirectory,scratchDirectory,codeDirectory\n",
    "\n",
    "[mainDirectory,mainCodeDirectory,scratchDirectory,codeDirectory] = GetDirectories()"
   ]
  },
  {
   "cell_type": "code",
   "execution_count": 4,
   "id": "2631c552-dd4f-4230-92ab-b0c13f0ee7c0",
   "metadata": {},
   "outputs": [],
   "source": [
    "#IMPORT CLASSES\n",
    "sys.path.append(os.path.join(mainCodeDirectory,\"2_Variable_Calculation\"))\n",
    "from CLASSES_Variable_Calculation import ModelData_Class, SlurmJobArray_Class, DataManager_Class"
   ]
  },
  {
   "cell_type": "code",
   "execution_count": 5,
   "id": "9c2fc215-da13-4961-ab77-0fd869306903",
   "metadata": {},
   "outputs": [],
   "source": [
    "#IMPORT CLASSES\n",
    "sys.path.append(os.path.join(mainCodeDirectory,\"3_Project_Algorithms\",\"1_Domain_Profiles\"))\n",
    "from CLASSES_DomainProfiles import DomainProfiles_Class, DomainProfiles_DataLoading_Class"
   ]
  },
  {
   "cell_type": "code",
   "execution_count": 6,
   "id": "82c56e61-b385-4f0a-b1be-4326805d889e",
   "metadata": {},
   "outputs": [],
   "source": [
    "#IMPORT CLASSES\n",
    "sys.path.append(os.path.join(mainCodeDirectory,\"3_Project_Algorithms\",\"2_Tracking_Algorithms\"))\n",
    "from CLASSES_TrackingAlgorithms import TrackingAlgorithms_DataLoading_Class"
   ]
  },
  {
   "cell_type": "code",
   "execution_count": 7,
   "id": "e69e190f-2be4-4874-bb86-87fc36c9b939",
   "metadata": {},
   "outputs": [],
   "source": [
    "#IMPORT FUNCTIONS\n",
    "sys.path.append(os.path.join(mainCodeDirectory,\"2_Variable_Calculation\"))\n",
    "import FUNCTIONS_Variable_Calculation\n",
    "from FUNCTIONS_Variable_Calculation import *"
   ]
  },
  {
   "cell_type": "code",
   "execution_count": 8,
   "id": "788e2b68-8b82-470c-affa-120e9fc00971",
   "metadata": {},
   "outputs": [
    {
     "name": "stdout",
     "output_type": "stream",
     "text": [
      "=== CM1 Data Summary ===\n",
      " Simulation #:   1\n",
      " Resolution:     1km\n",
      " Time step:      5min\n",
      " Vertical levels:34\n",
      " Parcels:        1e6\n",
      " Data file:      /mnt/lustre/koa/koastore/torri_group/air_directory/Projects/DCI-Project/Model/cm1r20.3/run/cm1out_1km_5min_34nz.nc\n",
      " Parcel file:    /mnt/lustre/koa/koastore/torri_group/air_directory/Projects/DCI-Project/Model/cm1r20.3/run/cm1out_pdata_1km_5min_1e6np.nc\n",
      " Time steps:     133\n",
      "========================= \n",
      "\n",
      "=== DataManager Summary ===\n",
      " inputDirectory #:   /mnt/lustre/koa/koastore/torri_group/air_directory/Projects/DCI-Project/Code/OUTPUT/Variable_Calculation/TimeSplitModelData\n",
      " outputDirectory #:   /mnt/lustre/koa/koastore/torri_group/air_directory/Projects/DCI-Project/Code/OUTPUT/Project_Algorithms/Tracking_Algorithms\n",
      " inputDataDirectory #:   /mnt/lustre/koa/koastore/torri_group/air_directory/Projects/DCI-Project/Code/OUTPUT/Variable_Calculation/TimeSplitModelData/1km_5min_34nz/ModelData\n",
      " inputParcelDirectory #:   /mnt/lustre/koa/koastore/torri_group/air_directory/Projects/DCI-Project/Code/OUTPUT/Variable_Calculation/TimeSplitModelData/1km_5min_34nz/ParcelData\n",
      " outputDataDirectory #:   /mnt/lustre/koa/koastore/torri_group/air_directory/Projects/DCI-Project/Code/OUTPUT/Project_Algorithms/Tracking_Algorithms/1km_5min_34nz/Eulerian_CLTracking\n",
      "========================= \n",
      "\n"
     ]
    }
   ],
   "source": [
    "#data loading class\n",
    "ModelData = ModelData_Class(mainDirectory, scratchDirectory, simulationNumber=1)\n",
    "#data manager class\n",
    "DataManager = DataManager_Class(mainDirectory, scratchDirectory, ModelData.res, ModelData.t_res, ModelData.Nz_str,\n",
    "                                ModelData.Np_str, dataType=\"Tracking_Algorithms\", dataName=\"Eulerian_CLTracking\",\n",
    "                                dtype='float32',codeSection = \"Project_Algorithms\")"
   ]
  },
  {
   "cell_type": "code",
   "execution_count": 23,
   "id": "b127f500-9449-46c5-bf41-2bf30461bfa9",
   "metadata": {},
   "outputs": [
    {
     "name": "stdout",
     "output_type": "stream",
     "text": [
      "Running timesteps from 0:132 \n",
      "\n"
     ]
    }
   ],
   "source": [
    "#JOB ARRAY SETUP\n",
    "UsingJobArray=True\n",
    "\n",
    "def GetNumJobs(res):\n",
    "    if res=='1km':\n",
    "        num_jobs=20\n",
    "    elif res=='250m': \n",
    "        num_jobs=100\n",
    "    return num_jobs\n",
    "num_jobs = GetNumJobs(ModelData.res)\n",
    "SlurmJobArray = SlurmJobArray_Class(total_elements=ModelData.Ntime, num_jobs=num_jobs, UsingJobArray=UsingJobArray)\n",
    "start_job = SlurmJobArray.start_job; end_job = SlurmJobArray.end_job\n",
    "\n",
    "def GetNumElements():\n",
    "    num_elements = np.arange(ModelData.Ntime)[start_job:end_job]\n",
    "    return num_elements\n",
    "num_elements = GetNumElements()"
   ]
  },
  {
   "cell_type": "code",
   "execution_count": 10,
   "id": "0d3f70c5-b656-43cb-b6d9-67373b80e21c",
   "metadata": {},
   "outputs": [],
   "source": [
    "##############################################\n",
    "#MODEL AND ALGORITHM NUMERICAL PARAMETERS"
   ]
  },
  {
   "cell_type": "code",
   "execution_count": 11,
   "id": "92d759de-8dc1-428e-8d11-01d4da2e92a9",
   "metadata": {},
   "outputs": [],
   "source": [
    "kms=np.argmax(ModelData.xh-ModelData.xh[0] >= 1) #finds how many x grids is 1 km\n",
    "dx=int(ModelData.xh[1]-ModelData.xh[0]) #grid resolution (in km)"
   ]
  },
  {
   "cell_type": "code",
   "execution_count": 12,
   "id": "a5e4c679-ee6b-44db-9d40-feb4e4021673",
   "metadata": {},
   "outputs": [],
   "source": [
    "#setting convergence threshold\n",
    "if ModelData.res=='1km':\n",
    "    conv_thresh=1.0/1000\n",
    "elif ModelData.res==\"250m\":\n",
    "    conv_thresh=1.5/1000"
   ]
  },
  {
   "cell_type": "code",
   "execution_count": 13,
   "id": "61501f68-925f-4a6e-b305-ae30a441e367",
   "metadata": {},
   "outputs": [],
   "source": [
    "##############################################\n",
    "#DATA LOADING FUNCTIONS"
   ]
  },
  {
   "cell_type": "code",
   "execution_count": 14,
   "id": "eee609b3-9a9a-473b-9335-818b3f14f225",
   "metadata": {},
   "outputs": [],
   "source": [
    "def GetConvergence(t):\n",
    "    timeString = ModelData.timeStrings[t]\n",
    "    varName = 'convergence'\n",
    "    convergence = CallVariable(ModelData, DataManager, timeString, varName)\n",
    "    return convergence"
   ]
  },
  {
   "cell_type": "code",
   "execution_count": 15,
   "id": "8487c5fc-e03c-4a03-af50-fd1c8c42b609",
   "metadata": {},
   "outputs": [],
   "source": [
    "##############################################\n",
    "#ALGORITHM FUNCTIONS"
   ]
  },
  {
   "cell_type": "code",
   "execution_count": 16,
   "id": "62e862a9-696b-4b05-919f-27ed0a9c2aae",
   "metadata": {},
   "outputs": [],
   "source": [
    "#SBZ Convergence Line Search Algorithm (levels are seperate) (python version 3.10.9) (All Max Algorithm)\n",
    "def FindMaxIndices(yconv):\n",
    "    \"\"\"find indices of local maxima above threshold.\"\"\"\n",
    "\n",
    "     #takes dconv/dx\n",
    "    ddx = (yconv[1:  ] - yconv[0:-1]) / (2 * dx)\n",
    "     \n",
    "    #finds local max where dconv/dx sign changes\n",
    "    signs = np.sign(ddx)\n",
    "    signs_diff=np.diff(signs)\n",
    "    local_maxes=np.where((signs_diff != 0) & (signs_diff < 0))[0]+1 #make sure +1 is here (it corrects the location of the derivative)\n",
    "    local_maxes=local_maxes[np.where(yconv[local_maxes]>conv_thresh)] #check if convergence is greater than convergence threshold (1s-1)\n",
    "    local_maxes=local_maxes[(local_maxes>50*kms)&(local_maxes<len(ModelData.xf)-50*kms)] #removes maxes that are with 50 km of y boundary\n",
    "    return local_maxes"
   ]
  },
  {
   "cell_type": "code",
   "execution_count": 17,
   "id": "0709efcf-c03e-4a84-bcf0-fd12825aed85",
   "metadata": {},
   "outputs": [],
   "source": [
    "#Finds all local maximums (from Calculus) along each y level for a specific z level (~0.28km in this case)\n",
    "def FindLocalMaxes(conv_z,t,yind, second_round=False):\n",
    "    \"\"\"\n",
    "    #Find_Local_Maxes Function\n",
    "    #(1) At a single time and z level, runs through each y-level\n",
    "    #(2) At each y-level, takes the x-derivative\n",
    "    #(3) Take sign(x_derivative)\n",
    "    #(4) Take diff(x_derivative)\n",
    "    #(5) Max is located one index to the right of where derivative changes from positive to negative or diff is +1\n",
    "    #[(6) Optional: the algorithm can run a second time over the leftover maxes after removing previous maxes from temporary variable]\n",
    "    \"\"\"\n",
    "    \n",
    "    #indexes convergence in y\n",
    "    yconv=conv_z[yind,:]\n",
    "    \n",
    "    #finds local max where dconv/dx sign changes\n",
    "    local_maxes = FindMaxIndices(yconv)\n",
    "\n",
    "    #second round maxes (not 100% necessary, only if missing many convergence maximums that are visually there)\n",
    "    if second_round == True:\n",
    "        yconv2=yconv.copy()\n",
    "        yconv2[local_maxes]=0\n",
    "        \n",
    "        #takes dconv/dx\n",
    "        local_maxes2 = FindMaxIndicies(f=yconv2)\n",
    "    \n",
    "        #combine the two\n",
    "        local_maxes=np.concatenate((local_maxes,local_maxes2))\n",
    "    return local_maxes"
   ]
  },
  {
   "cell_type": "code",
   "execution_count": 34,
   "id": "40a21482-5da9-43d8-83eb-5b0c0684d35b",
   "metadata": {},
   "outputs": [],
   "source": [
    "##############################################\n",
    "#RUNNING FUNCTIONS"
   ]
  },
  {
   "cell_type": "code",
   "execution_count": 35,
   "id": "fbe7f568-51fa-4f85-8463-ad445e0deaa9",
   "metadata": {
    "scrolled": true
   },
   "outputs": [],
   "source": [
    "def LayerMax(t): #finds max convergence along y for multiple z location (5 is good)\n",
    "\n",
    "    #getting convergence at time t\n",
    "    conv=GetConvergence(t)\n",
    "    \n",
    "    #initializing data\n",
    "    Nz = int(np.where(ModelData.zh <= 0.775)[0][-1]) + 1 #only include levels less than 1 km\n",
    "    maxConvergence_X=np.full((Nz, ModelData.Nyh, ModelData.Nxh), -1, dtype=np.int16)\n",
    "    \n",
    "    #running for all z levels\n",
    "    for zlev in range(Nz):\n",
    "        #Taking Convergence of current timesftep\n",
    "        conv_z=conv[zlev,:,:] #current z level for convergence\n",
    "\n",
    "        for yind in range(ModelData.Nyh): #plot maximums for each row\n",
    "\n",
    "            #finds all local maxes\n",
    "            local_maxes=FindLocalMaxes(conv_z,t,yind) #convergence threshold (in 1/s)\n",
    "            \n",
    "            #storing data\n",
    "            maxConvergence_X[zlev,yind,local_maxes] = local_maxes\n",
    "    return maxConvergence_X"
   ]
  },
  {
   "cell_type": "code",
   "execution_count": 36,
   "id": "571559f5-66ce-4f3d-81be-8804e6c633fb",
   "metadata": {},
   "outputs": [],
   "source": [
    "def RunAlgorithm():\n",
    "    for t in tqdm(num_elements, desc=\"Processing timesteps\"):\n",
    "        # if t % 1 == 0: print(f'Processing timestep {t}/{len(data[\"time\"])}')\n",
    "\n",
    "        # Compute maxConvergence_X for this timestep (z,y,x)\n",
    "        maxConvergence_X = LayerMax(t)\n",
    "\n",
    "        Dictionary = {\"maxConvergence_X\": maxConvergence_X}\n",
    "\n",
    "        # Directly write into HDF5 dataset at index t\n",
    "        timeString = ModelData.timeStrings[t]\n",
    "        TrackingAlgorithms_DataLoading_Class.SaveData(ModelData,DataManager, Dictionary, timeString)"
   ]
  },
  {
   "cell_type": "code",
   "execution_count": 37,
   "id": "a2c63948-f8dc-4dc5-a49e-ef770787661f",
   "metadata": {},
   "outputs": [],
   "source": [
    "#############################################\n",
    "#RUNNING"
   ]
  },
  {
   "cell_type": "code",
   "execution_count": 38,
   "id": "34f5ea5e-6297-41cf-9685-fb486f31f0af",
   "metadata": {
    "scrolled": true
   },
   "outputs": [
    {
     "name": "stderr",
     "output_type": "stream",
     "text": [
      "Processing timesteps:   2%|▏         | 2/133 [00:00<00:14,  8.74it/s]"
     ]
    },
    {
     "name": "stdout",
     "output_type": "stream",
     "text": [
      "Saved output to /mnt/lustre/koa/koastore/torri_group/air_directory/Projects/DCI-Project/Code/OUTPUT/Project_Algorithms/Tracking_Algorithms/1km_5min_34nz/Eulerian_CLTracking/Eulerian_CLTracking_1km_5min_34nz_0-00-00.h5 \n",
      "\n",
      "Saved output to /mnt/lustre/koa/koastore/torri_group/air_directory/Projects/DCI-Project/Code/OUTPUT/Project_Algorithms/Tracking_Algorithms/1km_5min_34nz/Eulerian_CLTracking/Eulerian_CLTracking_1km_5min_34nz_0-05-00.h5 \n",
      "\n"
     ]
    },
    {
     "name": "stderr",
     "output_type": "stream",
     "text": [
      "Processing timesteps:   3%|▎         | 4/133 [00:00<00:16,  7.75it/s]"
     ]
    },
    {
     "name": "stdout",
     "output_type": "stream",
     "text": [
      "Saved output to /mnt/lustre/koa/koastore/torri_group/air_directory/Projects/DCI-Project/Code/OUTPUT/Project_Algorithms/Tracking_Algorithms/1km_5min_34nz/Eulerian_CLTracking/Eulerian_CLTracking_1km_5min_34nz_0-10-00.h5 \n",
      "\n",
      "Saved output to /mnt/lustre/koa/koastore/torri_group/air_directory/Projects/DCI-Project/Code/OUTPUT/Project_Algorithms/Tracking_Algorithms/1km_5min_34nz/Eulerian_CLTracking/Eulerian_CLTracking_1km_5min_34nz_0-15-00.h5 \n",
      "\n"
     ]
    },
    {
     "name": "stderr",
     "output_type": "stream",
     "text": [
      "Processing timesteps:   5%|▍         | 6/133 [00:00<00:17,  7.39it/s]"
     ]
    },
    {
     "name": "stdout",
     "output_type": "stream",
     "text": [
      "Saved output to /mnt/lustre/koa/koastore/torri_group/air_directory/Projects/DCI-Project/Code/OUTPUT/Project_Algorithms/Tracking_Algorithms/1km_5min_34nz/Eulerian_CLTracking/Eulerian_CLTracking_1km_5min_34nz_0-20-00.h5 \n",
      "\n",
      "Saved output to /mnt/lustre/koa/koastore/torri_group/air_directory/Projects/DCI-Project/Code/OUTPUT/Project_Algorithms/Tracking_Algorithms/1km_5min_34nz/Eulerian_CLTracking/Eulerian_CLTracking_1km_5min_34nz_0-25-00.h5 \n",
      "\n"
     ]
    },
    {
     "name": "stderr",
     "output_type": "stream",
     "text": [
      "Processing timesteps:   6%|▌         | 8/133 [00:01<00:17,  7.17it/s]"
     ]
    },
    {
     "name": "stdout",
     "output_type": "stream",
     "text": [
      "Saved output to /mnt/lustre/koa/koastore/torri_group/air_directory/Projects/DCI-Project/Code/OUTPUT/Project_Algorithms/Tracking_Algorithms/1km_5min_34nz/Eulerian_CLTracking/Eulerian_CLTracking_1km_5min_34nz_0-30-00.h5 \n",
      "\n",
      "Saved output to /mnt/lustre/koa/koastore/torri_group/air_directory/Projects/DCI-Project/Code/OUTPUT/Project_Algorithms/Tracking_Algorithms/1km_5min_34nz/Eulerian_CLTracking/Eulerian_CLTracking_1km_5min_34nz_0-35-00.h5 \n",
      "\n"
     ]
    },
    {
     "name": "stderr",
     "output_type": "stream",
     "text": [
      "Processing timesteps:   8%|▊         | 10/133 [00:01<00:17,  7.10it/s]"
     ]
    },
    {
     "name": "stdout",
     "output_type": "stream",
     "text": [
      "Saved output to /mnt/lustre/koa/koastore/torri_group/air_directory/Projects/DCI-Project/Code/OUTPUT/Project_Algorithms/Tracking_Algorithms/1km_5min_34nz/Eulerian_CLTracking/Eulerian_CLTracking_1km_5min_34nz_0-40-00.h5 \n",
      "\n",
      "Saved output to /mnt/lustre/koa/koastore/torri_group/air_directory/Projects/DCI-Project/Code/OUTPUT/Project_Algorithms/Tracking_Algorithms/1km_5min_34nz/Eulerian_CLTracking/Eulerian_CLTracking_1km_5min_34nz_0-45-00.h5 \n",
      "\n"
     ]
    },
    {
     "name": "stderr",
     "output_type": "stream",
     "text": [
      "Processing timesteps:   9%|▉         | 12/133 [00:01<00:16,  7.32it/s]"
     ]
    },
    {
     "name": "stdout",
     "output_type": "stream",
     "text": [
      "Saved output to /mnt/lustre/koa/koastore/torri_group/air_directory/Projects/DCI-Project/Code/OUTPUT/Project_Algorithms/Tracking_Algorithms/1km_5min_34nz/Eulerian_CLTracking/Eulerian_CLTracking_1km_5min_34nz_0-50-00.h5 \n",
      "\n",
      "Saved output to /mnt/lustre/koa/koastore/torri_group/air_directory/Projects/DCI-Project/Code/OUTPUT/Project_Algorithms/Tracking_Algorithms/1km_5min_34nz/Eulerian_CLTracking/Eulerian_CLTracking_1km_5min_34nz_0-55-00.h5 \n",
      "\n"
     ]
    },
    {
     "name": "stderr",
     "output_type": "stream",
     "text": [
      "Processing timesteps:  11%|█         | 14/133 [00:01<00:16,  7.10it/s]"
     ]
    },
    {
     "name": "stdout",
     "output_type": "stream",
     "text": [
      "Saved output to /mnt/lustre/koa/koastore/torri_group/air_directory/Projects/DCI-Project/Code/OUTPUT/Project_Algorithms/Tracking_Algorithms/1km_5min_34nz/Eulerian_CLTracking/Eulerian_CLTracking_1km_5min_34nz_1-00-00.h5 \n",
      "\n",
      "Saved output to /mnt/lustre/koa/koastore/torri_group/air_directory/Projects/DCI-Project/Code/OUTPUT/Project_Algorithms/Tracking_Algorithms/1km_5min_34nz/Eulerian_CLTracking/Eulerian_CLTracking_1km_5min_34nz_1-05-00.h5 \n",
      "\n"
     ]
    },
    {
     "name": "stderr",
     "output_type": "stream",
     "text": [
      "Processing timesteps:  12%|█▏        | 16/133 [00:02<00:16,  7.17it/s]"
     ]
    },
    {
     "name": "stdout",
     "output_type": "stream",
     "text": [
      "Saved output to /mnt/lustre/koa/koastore/torri_group/air_directory/Projects/DCI-Project/Code/OUTPUT/Project_Algorithms/Tracking_Algorithms/1km_5min_34nz/Eulerian_CLTracking/Eulerian_CLTracking_1km_5min_34nz_1-10-00.h5 \n",
      "\n",
      "Saved output to /mnt/lustre/koa/koastore/torri_group/air_directory/Projects/DCI-Project/Code/OUTPUT/Project_Algorithms/Tracking_Algorithms/1km_5min_34nz/Eulerian_CLTracking/Eulerian_CLTracking_1km_5min_34nz_1-15-00.h5 \n",
      "\n"
     ]
    },
    {
     "name": "stderr",
     "output_type": "stream",
     "text": [
      "Processing timesteps:  14%|█▎        | 18/133 [00:02<00:15,  7.34it/s]"
     ]
    },
    {
     "name": "stdout",
     "output_type": "stream",
     "text": [
      "Saved output to /mnt/lustre/koa/koastore/torri_group/air_directory/Projects/DCI-Project/Code/OUTPUT/Project_Algorithms/Tracking_Algorithms/1km_5min_34nz/Eulerian_CLTracking/Eulerian_CLTracking_1km_5min_34nz_1-20-00.h5 \n",
      "\n",
      "Saved output to /mnt/lustre/koa/koastore/torri_group/air_directory/Projects/DCI-Project/Code/OUTPUT/Project_Algorithms/Tracking_Algorithms/1km_5min_34nz/Eulerian_CLTracking/Eulerian_CLTracking_1km_5min_34nz_1-25-00.h5 \n",
      "\n"
     ]
    },
    {
     "name": "stderr",
     "output_type": "stream",
     "text": [
      "Processing timesteps:  15%|█▌        | 20/133 [00:02<00:16,  6.79it/s]"
     ]
    },
    {
     "name": "stdout",
     "output_type": "stream",
     "text": [
      "Saved output to /mnt/lustre/koa/koastore/torri_group/air_directory/Projects/DCI-Project/Code/OUTPUT/Project_Algorithms/Tracking_Algorithms/1km_5min_34nz/Eulerian_CLTracking/Eulerian_CLTracking_1km_5min_34nz_1-30-00.h5 \n",
      "\n",
      "Saved output to /mnt/lustre/koa/koastore/torri_group/air_directory/Projects/DCI-Project/Code/OUTPUT/Project_Algorithms/Tracking_Algorithms/1km_5min_34nz/Eulerian_CLTracking/Eulerian_CLTracking_1km_5min_34nz_1-35-00.h5 \n",
      "\n"
     ]
    },
    {
     "name": "stderr",
     "output_type": "stream",
     "text": [
      "Processing timesteps:  17%|█▋        | 22/133 [00:03<00:16,  6.87it/s]"
     ]
    },
    {
     "name": "stdout",
     "output_type": "stream",
     "text": [
      "Saved output to /mnt/lustre/koa/koastore/torri_group/air_directory/Projects/DCI-Project/Code/OUTPUT/Project_Algorithms/Tracking_Algorithms/1km_5min_34nz/Eulerian_CLTracking/Eulerian_CLTracking_1km_5min_34nz_1-40-00.h5 \n",
      "\n",
      "Saved output to /mnt/lustre/koa/koastore/torri_group/air_directory/Projects/DCI-Project/Code/OUTPUT/Project_Algorithms/Tracking_Algorithms/1km_5min_34nz/Eulerian_CLTracking/Eulerian_CLTracking_1km_5min_34nz_1-45-00.h5 \n",
      "\n"
     ]
    },
    {
     "name": "stderr",
     "output_type": "stream",
     "text": [
      "Processing timesteps:  18%|█▊        | 24/133 [00:03<00:15,  7.07it/s]"
     ]
    },
    {
     "name": "stdout",
     "output_type": "stream",
     "text": [
      "Saved output to /mnt/lustre/koa/koastore/torri_group/air_directory/Projects/DCI-Project/Code/OUTPUT/Project_Algorithms/Tracking_Algorithms/1km_5min_34nz/Eulerian_CLTracking/Eulerian_CLTracking_1km_5min_34nz_1-50-00.h5 \n",
      "\n",
      "Saved output to /mnt/lustre/koa/koastore/torri_group/air_directory/Projects/DCI-Project/Code/OUTPUT/Project_Algorithms/Tracking_Algorithms/1km_5min_34nz/Eulerian_CLTracking/Eulerian_CLTracking_1km_5min_34nz_1-55-00.h5 \n",
      "\n"
     ]
    },
    {
     "name": "stderr",
     "output_type": "stream",
     "text": [
      "Processing timesteps:  20%|█▉        | 26/133 [00:03<00:14,  7.32it/s]"
     ]
    },
    {
     "name": "stdout",
     "output_type": "stream",
     "text": [
      "Saved output to /mnt/lustre/koa/koastore/torri_group/air_directory/Projects/DCI-Project/Code/OUTPUT/Project_Algorithms/Tracking_Algorithms/1km_5min_34nz/Eulerian_CLTracking/Eulerian_CLTracking_1km_5min_34nz_2-00-00.h5 \n",
      "\n",
      "Saved output to /mnt/lustre/koa/koastore/torri_group/air_directory/Projects/DCI-Project/Code/OUTPUT/Project_Algorithms/Tracking_Algorithms/1km_5min_34nz/Eulerian_CLTracking/Eulerian_CLTracking_1km_5min_34nz_2-05-00.h5 \n",
      "\n"
     ]
    },
    {
     "name": "stderr",
     "output_type": "stream",
     "text": [
      "Processing timesteps:  21%|██        | 28/133 [00:03<00:14,  7.16it/s]"
     ]
    },
    {
     "name": "stdout",
     "output_type": "stream",
     "text": [
      "Saved output to /mnt/lustre/koa/koastore/torri_group/air_directory/Projects/DCI-Project/Code/OUTPUT/Project_Algorithms/Tracking_Algorithms/1km_5min_34nz/Eulerian_CLTracking/Eulerian_CLTracking_1km_5min_34nz_2-10-00.h5 \n",
      "\n",
      "Saved output to /mnt/lustre/koa/koastore/torri_group/air_directory/Projects/DCI-Project/Code/OUTPUT/Project_Algorithms/Tracking_Algorithms/1km_5min_34nz/Eulerian_CLTracking/Eulerian_CLTracking_1km_5min_34nz_2-15-00.h5 \n",
      "\n"
     ]
    },
    {
     "name": "stderr",
     "output_type": "stream",
     "text": [
      "Processing timesteps:  23%|██▎       | 30/133 [00:04<00:13,  7.59it/s]"
     ]
    },
    {
     "name": "stdout",
     "output_type": "stream",
     "text": [
      "Saved output to /mnt/lustre/koa/koastore/torri_group/air_directory/Projects/DCI-Project/Code/OUTPUT/Project_Algorithms/Tracking_Algorithms/1km_5min_34nz/Eulerian_CLTracking/Eulerian_CLTracking_1km_5min_34nz_2-20-00.h5 \n",
      "\n",
      "Saved output to /mnt/lustre/koa/koastore/torri_group/air_directory/Projects/DCI-Project/Code/OUTPUT/Project_Algorithms/Tracking_Algorithms/1km_5min_34nz/Eulerian_CLTracking/Eulerian_CLTracking_1km_5min_34nz_2-25-00.h5 \n",
      "\n"
     ]
    },
    {
     "name": "stderr",
     "output_type": "stream",
     "text": [
      "Processing timesteps:  24%|██▍       | 32/133 [00:04<00:13,  7.60it/s]"
     ]
    },
    {
     "name": "stdout",
     "output_type": "stream",
     "text": [
      "Saved output to /mnt/lustre/koa/koastore/torri_group/air_directory/Projects/DCI-Project/Code/OUTPUT/Project_Algorithms/Tracking_Algorithms/1km_5min_34nz/Eulerian_CLTracking/Eulerian_CLTracking_1km_5min_34nz_2-30-00.h5 \n",
      "\n",
      "Saved output to /mnt/lustre/koa/koastore/torri_group/air_directory/Projects/DCI-Project/Code/OUTPUT/Project_Algorithms/Tracking_Algorithms/1km_5min_34nz/Eulerian_CLTracking/Eulerian_CLTracking_1km_5min_34nz_2-35-00.h5 \n",
      "\n"
     ]
    },
    {
     "name": "stderr",
     "output_type": "stream",
     "text": [
      "Processing timesteps:  26%|██▌       | 34/133 [00:04<00:12,  7.85it/s]"
     ]
    },
    {
     "name": "stdout",
     "output_type": "stream",
     "text": [
      "Saved output to /mnt/lustre/koa/koastore/torri_group/air_directory/Projects/DCI-Project/Code/OUTPUT/Project_Algorithms/Tracking_Algorithms/1km_5min_34nz/Eulerian_CLTracking/Eulerian_CLTracking_1km_5min_34nz_2-40-00.h5 \n",
      "\n",
      "Saved output to /mnt/lustre/koa/koastore/torri_group/air_directory/Projects/DCI-Project/Code/OUTPUT/Project_Algorithms/Tracking_Algorithms/1km_5min_34nz/Eulerian_CLTracking/Eulerian_CLTracking_1km_5min_34nz_2-45-00.h5 \n",
      "\n"
     ]
    },
    {
     "name": "stderr",
     "output_type": "stream",
     "text": [
      "Processing timesteps:  27%|██▋       | 36/133 [00:04<00:12,  7.63it/s]"
     ]
    },
    {
     "name": "stdout",
     "output_type": "stream",
     "text": [
      "Saved output to /mnt/lustre/koa/koastore/torri_group/air_directory/Projects/DCI-Project/Code/OUTPUT/Project_Algorithms/Tracking_Algorithms/1km_5min_34nz/Eulerian_CLTracking/Eulerian_CLTracking_1km_5min_34nz_2-50-00.h5 \n",
      "\n",
      "Saved output to /mnt/lustre/koa/koastore/torri_group/air_directory/Projects/DCI-Project/Code/OUTPUT/Project_Algorithms/Tracking_Algorithms/1km_5min_34nz/Eulerian_CLTracking/Eulerian_CLTracking_1km_5min_34nz_2-55-00.h5 \n",
      "\n"
     ]
    },
    {
     "name": "stderr",
     "output_type": "stream",
     "text": [
      "Processing timesteps:  29%|██▊       | 38/133 [00:05<00:12,  7.53it/s]"
     ]
    },
    {
     "name": "stdout",
     "output_type": "stream",
     "text": [
      "Saved output to /mnt/lustre/koa/koastore/torri_group/air_directory/Projects/DCI-Project/Code/OUTPUT/Project_Algorithms/Tracking_Algorithms/1km_5min_34nz/Eulerian_CLTracking/Eulerian_CLTracking_1km_5min_34nz_3-00-00.h5 \n",
      "\n",
      "Saved output to /mnt/lustre/koa/koastore/torri_group/air_directory/Projects/DCI-Project/Code/OUTPUT/Project_Algorithms/Tracking_Algorithms/1km_5min_34nz/Eulerian_CLTracking/Eulerian_CLTracking_1km_5min_34nz_3-05-00.h5 \n",
      "\n"
     ]
    },
    {
     "name": "stderr",
     "output_type": "stream",
     "text": [
      "Processing timesteps:  29%|██▉       | 39/133 [00:05<00:12,  7.42it/s]"
     ]
    },
    {
     "name": "stdout",
     "output_type": "stream",
     "text": [
      "Saved output to /mnt/lustre/koa/koastore/torri_group/air_directory/Projects/DCI-Project/Code/OUTPUT/Project_Algorithms/Tracking_Algorithms/1km_5min_34nz/Eulerian_CLTracking/Eulerian_CLTracking_1km_5min_34nz_3-10-00.h5 \n",
      "\n"
     ]
    },
    {
     "name": "stderr",
     "output_type": "stream",
     "text": [
      "Processing timesteps:  31%|███       | 41/133 [00:05<00:15,  5.96it/s]"
     ]
    },
    {
     "name": "stdout",
     "output_type": "stream",
     "text": [
      "Saved output to /mnt/lustre/koa/koastore/torri_group/air_directory/Projects/DCI-Project/Code/OUTPUT/Project_Algorithms/Tracking_Algorithms/1km_5min_34nz/Eulerian_CLTracking/Eulerian_CLTracking_1km_5min_34nz_3-15-00.h5 \n",
      "\n",
      "Saved output to /mnt/lustre/koa/koastore/torri_group/air_directory/Projects/DCI-Project/Code/OUTPUT/Project_Algorithms/Tracking_Algorithms/1km_5min_34nz/Eulerian_CLTracking/Eulerian_CLTracking_1km_5min_34nz_3-20-00.h5 \n",
      "\n"
     ]
    },
    {
     "name": "stderr",
     "output_type": "stream",
     "text": [
      "Processing timesteps:  32%|███▏      | 43/133 [00:05<00:13,  6.74it/s]"
     ]
    },
    {
     "name": "stdout",
     "output_type": "stream",
     "text": [
      "Saved output to /mnt/lustre/koa/koastore/torri_group/air_directory/Projects/DCI-Project/Code/OUTPUT/Project_Algorithms/Tracking_Algorithms/1km_5min_34nz/Eulerian_CLTracking/Eulerian_CLTracking_1km_5min_34nz_3-25-00.h5 \n",
      "\n",
      "Saved output to /mnt/lustre/koa/koastore/torri_group/air_directory/Projects/DCI-Project/Code/OUTPUT/Project_Algorithms/Tracking_Algorithms/1km_5min_34nz/Eulerian_CLTracking/Eulerian_CLTracking_1km_5min_34nz_3-30-00.h5 \n",
      "\n"
     ]
    },
    {
     "name": "stderr",
     "output_type": "stream",
     "text": [
      "Processing timesteps:  34%|███▍      | 45/133 [00:06<00:11,  7.36it/s]"
     ]
    },
    {
     "name": "stdout",
     "output_type": "stream",
     "text": [
      "Saved output to /mnt/lustre/koa/koastore/torri_group/air_directory/Projects/DCI-Project/Code/OUTPUT/Project_Algorithms/Tracking_Algorithms/1km_5min_34nz/Eulerian_CLTracking/Eulerian_CLTracking_1km_5min_34nz_3-35-00.h5 \n",
      "\n",
      "Saved output to /mnt/lustre/koa/koastore/torri_group/air_directory/Projects/DCI-Project/Code/OUTPUT/Project_Algorithms/Tracking_Algorithms/1km_5min_34nz/Eulerian_CLTracking/Eulerian_CLTracking_1km_5min_34nz_3-40-00.h5 \n",
      "\n"
     ]
    },
    {
     "name": "stderr",
     "output_type": "stream",
     "text": [
      "Processing timesteps:  35%|███▌      | 47/133 [00:06<00:11,  7.38it/s]"
     ]
    },
    {
     "name": "stdout",
     "output_type": "stream",
     "text": [
      "Saved output to /mnt/lustre/koa/koastore/torri_group/air_directory/Projects/DCI-Project/Code/OUTPUT/Project_Algorithms/Tracking_Algorithms/1km_5min_34nz/Eulerian_CLTracking/Eulerian_CLTracking_1km_5min_34nz_3-45-00.h5 \n",
      "\n",
      "Saved output to /mnt/lustre/koa/koastore/torri_group/air_directory/Projects/DCI-Project/Code/OUTPUT/Project_Algorithms/Tracking_Algorithms/1km_5min_34nz/Eulerian_CLTracking/Eulerian_CLTracking_1km_5min_34nz_3-50-00.h5 \n",
      "\n"
     ]
    },
    {
     "name": "stderr",
     "output_type": "stream",
     "text": [
      "Processing timesteps:  37%|███▋      | 49/133 [00:06<00:11,  7.24it/s]"
     ]
    },
    {
     "name": "stdout",
     "output_type": "stream",
     "text": [
      "Saved output to /mnt/lustre/koa/koastore/torri_group/air_directory/Projects/DCI-Project/Code/OUTPUT/Project_Algorithms/Tracking_Algorithms/1km_5min_34nz/Eulerian_CLTracking/Eulerian_CLTracking_1km_5min_34nz_3-55-00.h5 \n",
      "\n",
      "Saved output to /mnt/lustre/koa/koastore/torri_group/air_directory/Projects/DCI-Project/Code/OUTPUT/Project_Algorithms/Tracking_Algorithms/1km_5min_34nz/Eulerian_CLTracking/Eulerian_CLTracking_1km_5min_34nz_4-00-00.h5 \n",
      "\n"
     ]
    },
    {
     "name": "stderr",
     "output_type": "stream",
     "text": [
      "Processing timesteps:  38%|███▊      | 51/133 [00:07<00:11,  7.21it/s]"
     ]
    },
    {
     "name": "stdout",
     "output_type": "stream",
     "text": [
      "Saved output to /mnt/lustre/koa/koastore/torri_group/air_directory/Projects/DCI-Project/Code/OUTPUT/Project_Algorithms/Tracking_Algorithms/1km_5min_34nz/Eulerian_CLTracking/Eulerian_CLTracking_1km_5min_34nz_4-05-00.h5 \n",
      "\n",
      "Saved output to /mnt/lustre/koa/koastore/torri_group/air_directory/Projects/DCI-Project/Code/OUTPUT/Project_Algorithms/Tracking_Algorithms/1km_5min_34nz/Eulerian_CLTracking/Eulerian_CLTracking_1km_5min_34nz_4-10-00.h5 \n",
      "\n"
     ]
    },
    {
     "name": "stderr",
     "output_type": "stream",
     "text": [
      "Processing timesteps:  40%|███▉      | 53/133 [00:07<00:11,  6.97it/s]"
     ]
    },
    {
     "name": "stdout",
     "output_type": "stream",
     "text": [
      "Saved output to /mnt/lustre/koa/koastore/torri_group/air_directory/Projects/DCI-Project/Code/OUTPUT/Project_Algorithms/Tracking_Algorithms/1km_5min_34nz/Eulerian_CLTracking/Eulerian_CLTracking_1km_5min_34nz_4-15-00.h5 \n",
      "\n",
      "Saved output to /mnt/lustre/koa/koastore/torri_group/air_directory/Projects/DCI-Project/Code/OUTPUT/Project_Algorithms/Tracking_Algorithms/1km_5min_34nz/Eulerian_CLTracking/Eulerian_CLTracking_1km_5min_34nz_4-20-00.h5 \n",
      "\n"
     ]
    },
    {
     "name": "stderr",
     "output_type": "stream",
     "text": [
      "Processing timesteps:  41%|████▏     | 55/133 [00:07<00:11,  6.75it/s]"
     ]
    },
    {
     "name": "stdout",
     "output_type": "stream",
     "text": [
      "Saved output to /mnt/lustre/koa/koastore/torri_group/air_directory/Projects/DCI-Project/Code/OUTPUT/Project_Algorithms/Tracking_Algorithms/1km_5min_34nz/Eulerian_CLTracking/Eulerian_CLTracking_1km_5min_34nz_4-25-00.h5 \n",
      "\n",
      "Saved output to /mnt/lustre/koa/koastore/torri_group/air_directory/Projects/DCI-Project/Code/OUTPUT/Project_Algorithms/Tracking_Algorithms/1km_5min_34nz/Eulerian_CLTracking/Eulerian_CLTracking_1km_5min_34nz_4-30-00.h5 \n",
      "\n"
     ]
    },
    {
     "name": "stderr",
     "output_type": "stream",
     "text": [
      "Processing timesteps:  43%|████▎     | 57/133 [00:07<00:10,  7.14it/s]"
     ]
    },
    {
     "name": "stdout",
     "output_type": "stream",
     "text": [
      "Saved output to /mnt/lustre/koa/koastore/torri_group/air_directory/Projects/DCI-Project/Code/OUTPUT/Project_Algorithms/Tracking_Algorithms/1km_5min_34nz/Eulerian_CLTracking/Eulerian_CLTracking_1km_5min_34nz_4-35-00.h5 \n",
      "\n",
      "Saved output to /mnt/lustre/koa/koastore/torri_group/air_directory/Projects/DCI-Project/Code/OUTPUT/Project_Algorithms/Tracking_Algorithms/1km_5min_34nz/Eulerian_CLTracking/Eulerian_CLTracking_1km_5min_34nz_4-40-00.h5 \n",
      "\n"
     ]
    },
    {
     "name": "stderr",
     "output_type": "stream",
     "text": [
      "Processing timesteps:  44%|████▍     | 59/133 [00:08<00:10,  7.09it/s]"
     ]
    },
    {
     "name": "stdout",
     "output_type": "stream",
     "text": [
      "Saved output to /mnt/lustre/koa/koastore/torri_group/air_directory/Projects/DCI-Project/Code/OUTPUT/Project_Algorithms/Tracking_Algorithms/1km_5min_34nz/Eulerian_CLTracking/Eulerian_CLTracking_1km_5min_34nz_4-45-00.h5 \n",
      "\n",
      "Saved output to /mnt/lustre/koa/koastore/torri_group/air_directory/Projects/DCI-Project/Code/OUTPUT/Project_Algorithms/Tracking_Algorithms/1km_5min_34nz/Eulerian_CLTracking/Eulerian_CLTracking_1km_5min_34nz_4-50-00.h5 \n",
      "\n"
     ]
    },
    {
     "name": "stderr",
     "output_type": "stream",
     "text": [
      "Processing timesteps:  46%|████▌     | 61/133 [00:08<00:10,  6.98it/s]"
     ]
    },
    {
     "name": "stdout",
     "output_type": "stream",
     "text": [
      "Saved output to /mnt/lustre/koa/koastore/torri_group/air_directory/Projects/DCI-Project/Code/OUTPUT/Project_Algorithms/Tracking_Algorithms/1km_5min_34nz/Eulerian_CLTracking/Eulerian_CLTracking_1km_5min_34nz_4-55-00.h5 \n",
      "\n",
      "Saved output to /mnt/lustre/koa/koastore/torri_group/air_directory/Projects/DCI-Project/Code/OUTPUT/Project_Algorithms/Tracking_Algorithms/1km_5min_34nz/Eulerian_CLTracking/Eulerian_CLTracking_1km_5min_34nz_5-00-00.h5 \n",
      "\n"
     ]
    },
    {
     "name": "stderr",
     "output_type": "stream",
     "text": [
      "Processing timesteps:  47%|████▋     | 63/133 [00:08<00:09,  7.14it/s]"
     ]
    },
    {
     "name": "stdout",
     "output_type": "stream",
     "text": [
      "Saved output to /mnt/lustre/koa/koastore/torri_group/air_directory/Projects/DCI-Project/Code/OUTPUT/Project_Algorithms/Tracking_Algorithms/1km_5min_34nz/Eulerian_CLTracking/Eulerian_CLTracking_1km_5min_34nz_5-05-00.h5 \n",
      "\n",
      "Saved output to /mnt/lustre/koa/koastore/torri_group/air_directory/Projects/DCI-Project/Code/OUTPUT/Project_Algorithms/Tracking_Algorithms/1km_5min_34nz/Eulerian_CLTracking/Eulerian_CLTracking_1km_5min_34nz_5-10-00.h5 \n",
      "\n"
     ]
    },
    {
     "name": "stderr",
     "output_type": "stream",
     "text": [
      "Processing timesteps:  49%|████▉     | 65/133 [00:09<00:09,  6.91it/s]"
     ]
    },
    {
     "name": "stdout",
     "output_type": "stream",
     "text": [
      "Saved output to /mnt/lustre/koa/koastore/torri_group/air_directory/Projects/DCI-Project/Code/OUTPUT/Project_Algorithms/Tracking_Algorithms/1km_5min_34nz/Eulerian_CLTracking/Eulerian_CLTracking_1km_5min_34nz_5-15-00.h5 \n",
      "\n",
      "Saved output to /mnt/lustre/koa/koastore/torri_group/air_directory/Projects/DCI-Project/Code/OUTPUT/Project_Algorithms/Tracking_Algorithms/1km_5min_34nz/Eulerian_CLTracking/Eulerian_CLTracking_1km_5min_34nz_5-20-00.h5 \n",
      "\n"
     ]
    },
    {
     "name": "stderr",
     "output_type": "stream",
     "text": [
      "Processing timesteps:  50%|█████     | 67/133 [00:09<00:09,  6.85it/s]"
     ]
    },
    {
     "name": "stdout",
     "output_type": "stream",
     "text": [
      "Saved output to /mnt/lustre/koa/koastore/torri_group/air_directory/Projects/DCI-Project/Code/OUTPUT/Project_Algorithms/Tracking_Algorithms/1km_5min_34nz/Eulerian_CLTracking/Eulerian_CLTracking_1km_5min_34nz_5-25-00.h5 \n",
      "\n",
      "Saved output to /mnt/lustre/koa/koastore/torri_group/air_directory/Projects/DCI-Project/Code/OUTPUT/Project_Algorithms/Tracking_Algorithms/1km_5min_34nz/Eulerian_CLTracking/Eulerian_CLTracking_1km_5min_34nz_5-30-00.h5 \n",
      "\n"
     ]
    },
    {
     "name": "stderr",
     "output_type": "stream",
     "text": [
      "Processing timesteps:  52%|█████▏    | 69/133 [00:09<00:09,  7.03it/s]"
     ]
    },
    {
     "name": "stdout",
     "output_type": "stream",
     "text": [
      "Saved output to /mnt/lustre/koa/koastore/torri_group/air_directory/Projects/DCI-Project/Code/OUTPUT/Project_Algorithms/Tracking_Algorithms/1km_5min_34nz/Eulerian_CLTracking/Eulerian_CLTracking_1km_5min_34nz_5-35-00.h5 \n",
      "\n",
      "Saved output to /mnt/lustre/koa/koastore/torri_group/air_directory/Projects/DCI-Project/Code/OUTPUT/Project_Algorithms/Tracking_Algorithms/1km_5min_34nz/Eulerian_CLTracking/Eulerian_CLTracking_1km_5min_34nz_5-40-00.h5 \n",
      "\n"
     ]
    },
    {
     "name": "stderr",
     "output_type": "stream",
     "text": [
      "Processing timesteps:  53%|█████▎    | 71/133 [00:09<00:09,  6.68it/s]"
     ]
    },
    {
     "name": "stdout",
     "output_type": "stream",
     "text": [
      "Saved output to /mnt/lustre/koa/koastore/torri_group/air_directory/Projects/DCI-Project/Code/OUTPUT/Project_Algorithms/Tracking_Algorithms/1km_5min_34nz/Eulerian_CLTracking/Eulerian_CLTracking_1km_5min_34nz_5-45-00.h5 \n",
      "\n",
      "Saved output to /mnt/lustre/koa/koastore/torri_group/air_directory/Projects/DCI-Project/Code/OUTPUT/Project_Algorithms/Tracking_Algorithms/1km_5min_34nz/Eulerian_CLTracking/Eulerian_CLTracking_1km_5min_34nz_5-50-00.h5 \n",
      "\n"
     ]
    },
    {
     "name": "stderr",
     "output_type": "stream",
     "text": [
      "Processing timesteps:  55%|█████▍    | 73/133 [00:10<00:09,  6.14it/s]"
     ]
    },
    {
     "name": "stdout",
     "output_type": "stream",
     "text": [
      "Saved output to /mnt/lustre/koa/koastore/torri_group/air_directory/Projects/DCI-Project/Code/OUTPUT/Project_Algorithms/Tracking_Algorithms/1km_5min_34nz/Eulerian_CLTracking/Eulerian_CLTracking_1km_5min_34nz_5-55-00.h5 \n",
      "\n",
      "Saved output to /mnt/lustre/koa/koastore/torri_group/air_directory/Projects/DCI-Project/Code/OUTPUT/Project_Algorithms/Tracking_Algorithms/1km_5min_34nz/Eulerian_CLTracking/Eulerian_CLTracking_1km_5min_34nz_6-00-00.h5 \n",
      "\n"
     ]
    },
    {
     "name": "stderr",
     "output_type": "stream",
     "text": [
      "Processing timesteps:  56%|█████▋    | 75/133 [00:10<00:08,  6.51it/s]"
     ]
    },
    {
     "name": "stdout",
     "output_type": "stream",
     "text": [
      "Saved output to /mnt/lustre/koa/koastore/torri_group/air_directory/Projects/DCI-Project/Code/OUTPUT/Project_Algorithms/Tracking_Algorithms/1km_5min_34nz/Eulerian_CLTracking/Eulerian_CLTracking_1km_5min_34nz_6-05-00.h5 \n",
      "\n",
      "Saved output to /mnt/lustre/koa/koastore/torri_group/air_directory/Projects/DCI-Project/Code/OUTPUT/Project_Algorithms/Tracking_Algorithms/1km_5min_34nz/Eulerian_CLTracking/Eulerian_CLTracking_1km_5min_34nz_6-10-00.h5 \n",
      "\n"
     ]
    },
    {
     "name": "stderr",
     "output_type": "stream",
     "text": [
      "Processing timesteps:  58%|█████▊    | 77/133 [00:10<00:09,  6.17it/s]"
     ]
    },
    {
     "name": "stdout",
     "output_type": "stream",
     "text": [
      "Saved output to /mnt/lustre/koa/koastore/torri_group/air_directory/Projects/DCI-Project/Code/OUTPUT/Project_Algorithms/Tracking_Algorithms/1km_5min_34nz/Eulerian_CLTracking/Eulerian_CLTracking_1km_5min_34nz_6-15-00.h5 \n",
      "\n",
      "Saved output to /mnt/lustre/koa/koastore/torri_group/air_directory/Projects/DCI-Project/Code/OUTPUT/Project_Algorithms/Tracking_Algorithms/1km_5min_34nz/Eulerian_CLTracking/Eulerian_CLTracking_1km_5min_34nz_6-20-00.h5 \n",
      "\n"
     ]
    },
    {
     "name": "stderr",
     "output_type": "stream",
     "text": [
      "Processing timesteps:  59%|█████▉    | 79/133 [00:11<00:08,  6.16it/s]"
     ]
    },
    {
     "name": "stdout",
     "output_type": "stream",
     "text": [
      "Saved output to /mnt/lustre/koa/koastore/torri_group/air_directory/Projects/DCI-Project/Code/OUTPUT/Project_Algorithms/Tracking_Algorithms/1km_5min_34nz/Eulerian_CLTracking/Eulerian_CLTracking_1km_5min_34nz_6-25-00.h5 \n",
      "\n",
      "Saved output to /mnt/lustre/koa/koastore/torri_group/air_directory/Projects/DCI-Project/Code/OUTPUT/Project_Algorithms/Tracking_Algorithms/1km_5min_34nz/Eulerian_CLTracking/Eulerian_CLTracking_1km_5min_34nz_6-30-00.h5 \n",
      "\n"
     ]
    },
    {
     "name": "stderr",
     "output_type": "stream",
     "text": [
      "Processing timesteps:  61%|██████    | 81/133 [00:11<00:07,  6.64it/s]"
     ]
    },
    {
     "name": "stdout",
     "output_type": "stream",
     "text": [
      "Saved output to /mnt/lustre/koa/koastore/torri_group/air_directory/Projects/DCI-Project/Code/OUTPUT/Project_Algorithms/Tracking_Algorithms/1km_5min_34nz/Eulerian_CLTracking/Eulerian_CLTracking_1km_5min_34nz_6-35-00.h5 \n",
      "\n",
      "Saved output to /mnt/lustre/koa/koastore/torri_group/air_directory/Projects/DCI-Project/Code/OUTPUT/Project_Algorithms/Tracking_Algorithms/1km_5min_34nz/Eulerian_CLTracking/Eulerian_CLTracking_1km_5min_34nz_6-40-00.h5 \n",
      "\n"
     ]
    },
    {
     "name": "stderr",
     "output_type": "stream",
     "text": [
      "Processing timesteps:  62%|██████▏   | 83/133 [00:11<00:07,  6.34it/s]"
     ]
    },
    {
     "name": "stdout",
     "output_type": "stream",
     "text": [
      "Saved output to /mnt/lustre/koa/koastore/torri_group/air_directory/Projects/DCI-Project/Code/OUTPUT/Project_Algorithms/Tracking_Algorithms/1km_5min_34nz/Eulerian_CLTracking/Eulerian_CLTracking_1km_5min_34nz_6-45-00.h5 \n",
      "\n",
      "Saved output to /mnt/lustre/koa/koastore/torri_group/air_directory/Projects/DCI-Project/Code/OUTPUT/Project_Algorithms/Tracking_Algorithms/1km_5min_34nz/Eulerian_CLTracking/Eulerian_CLTracking_1km_5min_34nz_6-50-00.h5 \n",
      "\n"
     ]
    },
    {
     "name": "stderr",
     "output_type": "stream",
     "text": [
      "Processing timesteps:  64%|██████▍   | 85/133 [00:12<00:07,  6.69it/s]"
     ]
    },
    {
     "name": "stdout",
     "output_type": "stream",
     "text": [
      "Saved output to /mnt/lustre/koa/koastore/torri_group/air_directory/Projects/DCI-Project/Code/OUTPUT/Project_Algorithms/Tracking_Algorithms/1km_5min_34nz/Eulerian_CLTracking/Eulerian_CLTracking_1km_5min_34nz_6-55-00.h5 \n",
      "\n",
      "Saved output to /mnt/lustre/koa/koastore/torri_group/air_directory/Projects/DCI-Project/Code/OUTPUT/Project_Algorithms/Tracking_Algorithms/1km_5min_34nz/Eulerian_CLTracking/Eulerian_CLTracking_1km_5min_34nz_7-00-00.h5 \n",
      "\n"
     ]
    },
    {
     "name": "stderr",
     "output_type": "stream",
     "text": [
      "Processing timesteps:  65%|██████▌   | 87/133 [00:12<00:06,  6.76it/s]"
     ]
    },
    {
     "name": "stdout",
     "output_type": "stream",
     "text": [
      "Saved output to /mnt/lustre/koa/koastore/torri_group/air_directory/Projects/DCI-Project/Code/OUTPUT/Project_Algorithms/Tracking_Algorithms/1km_5min_34nz/Eulerian_CLTracking/Eulerian_CLTracking_1km_5min_34nz_7-05-00.h5 \n",
      "\n",
      "Saved output to /mnt/lustre/koa/koastore/torri_group/air_directory/Projects/DCI-Project/Code/OUTPUT/Project_Algorithms/Tracking_Algorithms/1km_5min_34nz/Eulerian_CLTracking/Eulerian_CLTracking_1km_5min_34nz_7-10-00.h5 \n",
      "\n"
     ]
    },
    {
     "name": "stderr",
     "output_type": "stream",
     "text": [
      "Processing timesteps:  67%|██████▋   | 89/133 [00:12<00:06,  6.69it/s]"
     ]
    },
    {
     "name": "stdout",
     "output_type": "stream",
     "text": [
      "Saved output to /mnt/lustre/koa/koastore/torri_group/air_directory/Projects/DCI-Project/Code/OUTPUT/Project_Algorithms/Tracking_Algorithms/1km_5min_34nz/Eulerian_CLTracking/Eulerian_CLTracking_1km_5min_34nz_7-15-00.h5 \n",
      "\n",
      "Saved output to /mnt/lustre/koa/koastore/torri_group/air_directory/Projects/DCI-Project/Code/OUTPUT/Project_Algorithms/Tracking_Algorithms/1km_5min_34nz/Eulerian_CLTracking/Eulerian_CLTracking_1km_5min_34nz_7-20-00.h5 \n",
      "\n"
     ]
    },
    {
     "name": "stderr",
     "output_type": "stream",
     "text": [
      "Processing timesteps:  68%|██████▊   | 91/133 [00:13<00:06,  6.74it/s]"
     ]
    },
    {
     "name": "stdout",
     "output_type": "stream",
     "text": [
      "Saved output to /mnt/lustre/koa/koastore/torri_group/air_directory/Projects/DCI-Project/Code/OUTPUT/Project_Algorithms/Tracking_Algorithms/1km_5min_34nz/Eulerian_CLTracking/Eulerian_CLTracking_1km_5min_34nz_7-25-00.h5 \n",
      "\n",
      "Saved output to /mnt/lustre/koa/koastore/torri_group/air_directory/Projects/DCI-Project/Code/OUTPUT/Project_Algorithms/Tracking_Algorithms/1km_5min_34nz/Eulerian_CLTracking/Eulerian_CLTracking_1km_5min_34nz_7-30-00.h5 \n",
      "\n"
     ]
    },
    {
     "name": "stderr",
     "output_type": "stream",
     "text": [
      "Processing timesteps:  70%|██████▉   | 93/133 [00:13<00:05,  6.73it/s]"
     ]
    },
    {
     "name": "stdout",
     "output_type": "stream",
     "text": [
      "Saved output to /mnt/lustre/koa/koastore/torri_group/air_directory/Projects/DCI-Project/Code/OUTPUT/Project_Algorithms/Tracking_Algorithms/1km_5min_34nz/Eulerian_CLTracking/Eulerian_CLTracking_1km_5min_34nz_7-35-00.h5 \n",
      "\n",
      "Saved output to /mnt/lustre/koa/koastore/torri_group/air_directory/Projects/DCI-Project/Code/OUTPUT/Project_Algorithms/Tracking_Algorithms/1km_5min_34nz/Eulerian_CLTracking/Eulerian_CLTracking_1km_5min_34nz_7-40-00.h5 \n",
      "\n"
     ]
    },
    {
     "name": "stderr",
     "output_type": "stream",
     "text": [
      "Processing timesteps:  71%|███████▏  | 95/133 [00:13<00:05,  7.10it/s]"
     ]
    },
    {
     "name": "stdout",
     "output_type": "stream",
     "text": [
      "Saved output to /mnt/lustre/koa/koastore/torri_group/air_directory/Projects/DCI-Project/Code/OUTPUT/Project_Algorithms/Tracking_Algorithms/1km_5min_34nz/Eulerian_CLTracking/Eulerian_CLTracking_1km_5min_34nz_7-45-00.h5 \n",
      "\n",
      "Saved output to /mnt/lustre/koa/koastore/torri_group/air_directory/Projects/DCI-Project/Code/OUTPUT/Project_Algorithms/Tracking_Algorithms/1km_5min_34nz/Eulerian_CLTracking/Eulerian_CLTracking_1km_5min_34nz_7-50-00.h5 \n",
      "\n"
     ]
    },
    {
     "name": "stderr",
     "output_type": "stream",
     "text": [
      "Processing timesteps:  73%|███████▎  | 97/133 [00:13<00:05,  7.00it/s]"
     ]
    },
    {
     "name": "stdout",
     "output_type": "stream",
     "text": [
      "Saved output to /mnt/lustre/koa/koastore/torri_group/air_directory/Projects/DCI-Project/Code/OUTPUT/Project_Algorithms/Tracking_Algorithms/1km_5min_34nz/Eulerian_CLTracking/Eulerian_CLTracking_1km_5min_34nz_7-55-00.h5 \n",
      "\n",
      "Saved output to /mnt/lustre/koa/koastore/torri_group/air_directory/Projects/DCI-Project/Code/OUTPUT/Project_Algorithms/Tracking_Algorithms/1km_5min_34nz/Eulerian_CLTracking/Eulerian_CLTracking_1km_5min_34nz_8-00-00.h5 \n",
      "\n"
     ]
    },
    {
     "name": "stderr",
     "output_type": "stream",
     "text": [
      "Processing timesteps:  74%|███████▍  | 99/133 [00:14<00:04,  6.87it/s]"
     ]
    },
    {
     "name": "stdout",
     "output_type": "stream",
     "text": [
      "Saved output to /mnt/lustre/koa/koastore/torri_group/air_directory/Projects/DCI-Project/Code/OUTPUT/Project_Algorithms/Tracking_Algorithms/1km_5min_34nz/Eulerian_CLTracking/Eulerian_CLTracking_1km_5min_34nz_8-05-00.h5 \n",
      "\n",
      "Saved output to /mnt/lustre/koa/koastore/torri_group/air_directory/Projects/DCI-Project/Code/OUTPUT/Project_Algorithms/Tracking_Algorithms/1km_5min_34nz/Eulerian_CLTracking/Eulerian_CLTracking_1km_5min_34nz_8-10-00.h5 \n",
      "\n"
     ]
    },
    {
     "name": "stderr",
     "output_type": "stream",
     "text": [
      "Processing timesteps:  76%|███████▌  | 101/133 [00:14<00:04,  7.30it/s]"
     ]
    },
    {
     "name": "stdout",
     "output_type": "stream",
     "text": [
      "Saved output to /mnt/lustre/koa/koastore/torri_group/air_directory/Projects/DCI-Project/Code/OUTPUT/Project_Algorithms/Tracking_Algorithms/1km_5min_34nz/Eulerian_CLTracking/Eulerian_CLTracking_1km_5min_34nz_8-15-00.h5 \n",
      "\n",
      "Saved output to /mnt/lustre/koa/koastore/torri_group/air_directory/Projects/DCI-Project/Code/OUTPUT/Project_Algorithms/Tracking_Algorithms/1km_5min_34nz/Eulerian_CLTracking/Eulerian_CLTracking_1km_5min_34nz_8-20-00.h5 \n",
      "\n"
     ]
    },
    {
     "name": "stderr",
     "output_type": "stream",
     "text": [
      "Processing timesteps:  77%|███████▋  | 102/133 [00:14<00:04,  6.95it/s]"
     ]
    },
    {
     "name": "stdout",
     "output_type": "stream",
     "text": [
      "Saved output to /mnt/lustre/koa/koastore/torri_group/air_directory/Projects/DCI-Project/Code/OUTPUT/Project_Algorithms/Tracking_Algorithms/1km_5min_34nz/Eulerian_CLTracking/Eulerian_CLTracking_1km_5min_34nz_8-25-00.h5 \n",
      "\n"
     ]
    },
    {
     "name": "stderr",
     "output_type": "stream",
     "text": [
      "Processing timesteps:  78%|███████▊  | 104/133 [00:15<00:08,  3.54it/s]"
     ]
    },
    {
     "name": "stdout",
     "output_type": "stream",
     "text": [
      "Saved output to /mnt/lustre/koa/koastore/torri_group/air_directory/Projects/DCI-Project/Code/OUTPUT/Project_Algorithms/Tracking_Algorithms/1km_5min_34nz/Eulerian_CLTracking/Eulerian_CLTracking_1km_5min_34nz_8-30-00.h5 \n",
      "\n",
      "Saved output to /mnt/lustre/koa/koastore/torri_group/air_directory/Projects/DCI-Project/Code/OUTPUT/Project_Algorithms/Tracking_Algorithms/1km_5min_34nz/Eulerian_CLTracking/Eulerian_CLTracking_1km_5min_34nz_8-35-00.h5 \n",
      "\n"
     ]
    },
    {
     "name": "stderr",
     "output_type": "stream",
     "text": [
      "Processing timesteps:  80%|███████▉  | 106/133 [00:15<00:05,  4.57it/s]"
     ]
    },
    {
     "name": "stdout",
     "output_type": "stream",
     "text": [
      "Saved output to /mnt/lustre/koa/koastore/torri_group/air_directory/Projects/DCI-Project/Code/OUTPUT/Project_Algorithms/Tracking_Algorithms/1km_5min_34nz/Eulerian_CLTracking/Eulerian_CLTracking_1km_5min_34nz_8-40-00.h5 \n",
      "\n",
      "Saved output to /mnt/lustre/koa/koastore/torri_group/air_directory/Projects/DCI-Project/Code/OUTPUT/Project_Algorithms/Tracking_Algorithms/1km_5min_34nz/Eulerian_CLTracking/Eulerian_CLTracking_1km_5min_34nz_8-45-00.h5 \n",
      "\n"
     ]
    },
    {
     "name": "stderr",
     "output_type": "stream",
     "text": [
      "Processing timesteps:  80%|████████  | 107/133 [00:16<00:05,  5.18it/s]"
     ]
    },
    {
     "name": "stdout",
     "output_type": "stream",
     "text": [
      "Saved output to /mnt/lustre/koa/koastore/torri_group/air_directory/Projects/DCI-Project/Code/OUTPUT/Project_Algorithms/Tracking_Algorithms/1km_5min_34nz/Eulerian_CLTracking/Eulerian_CLTracking_1km_5min_34nz_8-50-00.h5 \n",
      "\n"
     ]
    },
    {
     "name": "stderr",
     "output_type": "stream",
     "text": [
      "Processing timesteps:  82%|████████▏ | 109/133 [00:16<00:04,  4.81it/s]"
     ]
    },
    {
     "name": "stdout",
     "output_type": "stream",
     "text": [
      "Saved output to /mnt/lustre/koa/koastore/torri_group/air_directory/Projects/DCI-Project/Code/OUTPUT/Project_Algorithms/Tracking_Algorithms/1km_5min_34nz/Eulerian_CLTracking/Eulerian_CLTracking_1km_5min_34nz_8-55-00.h5 \n",
      "\n",
      "Saved output to /mnt/lustre/koa/koastore/torri_group/air_directory/Projects/DCI-Project/Code/OUTPUT/Project_Algorithms/Tracking_Algorithms/1km_5min_34nz/Eulerian_CLTracking/Eulerian_CLTracking_1km_5min_34nz_9-00-00.h5 \n",
      "\n"
     ]
    },
    {
     "name": "stderr",
     "output_type": "stream",
     "text": [
      "Processing timesteps:  83%|████████▎ | 111/133 [00:16<00:04,  5.19it/s]"
     ]
    },
    {
     "name": "stdout",
     "output_type": "stream",
     "text": [
      "Saved output to /mnt/lustre/koa/koastore/torri_group/air_directory/Projects/DCI-Project/Code/OUTPUT/Project_Algorithms/Tracking_Algorithms/1km_5min_34nz/Eulerian_CLTracking/Eulerian_CLTracking_1km_5min_34nz_9-05-00.h5 \n",
      "\n",
      "Saved output to /mnt/lustre/koa/koastore/torri_group/air_directory/Projects/DCI-Project/Code/OUTPUT/Project_Algorithms/Tracking_Algorithms/1km_5min_34nz/Eulerian_CLTracking/Eulerian_CLTracking_1km_5min_34nz_9-10-00.h5 \n",
      "\n"
     ]
    },
    {
     "name": "stderr",
     "output_type": "stream",
     "text": [
      "Processing timesteps:  85%|████████▍ | 113/133 [00:17<00:03,  5.93it/s]"
     ]
    },
    {
     "name": "stdout",
     "output_type": "stream",
     "text": [
      "Saved output to /mnt/lustre/koa/koastore/torri_group/air_directory/Projects/DCI-Project/Code/OUTPUT/Project_Algorithms/Tracking_Algorithms/1km_5min_34nz/Eulerian_CLTracking/Eulerian_CLTracking_1km_5min_34nz_9-15-00.h5 \n",
      "\n",
      "Saved output to /mnt/lustre/koa/koastore/torri_group/air_directory/Projects/DCI-Project/Code/OUTPUT/Project_Algorithms/Tracking_Algorithms/1km_5min_34nz/Eulerian_CLTracking/Eulerian_CLTracking_1km_5min_34nz_9-20-00.h5 \n",
      "\n"
     ]
    },
    {
     "name": "stderr",
     "output_type": "stream",
     "text": [
      "Processing timesteps:  86%|████████▋ | 115/133 [00:17<00:02,  6.45it/s]"
     ]
    },
    {
     "name": "stdout",
     "output_type": "stream",
     "text": [
      "Saved output to /mnt/lustre/koa/koastore/torri_group/air_directory/Projects/DCI-Project/Code/OUTPUT/Project_Algorithms/Tracking_Algorithms/1km_5min_34nz/Eulerian_CLTracking/Eulerian_CLTracking_1km_5min_34nz_9-25-00.h5 \n",
      "\n",
      "Saved output to /mnt/lustre/koa/koastore/torri_group/air_directory/Projects/DCI-Project/Code/OUTPUT/Project_Algorithms/Tracking_Algorithms/1km_5min_34nz/Eulerian_CLTracking/Eulerian_CLTracking_1km_5min_34nz_9-30-00.h5 \n",
      "\n"
     ]
    },
    {
     "name": "stderr",
     "output_type": "stream",
     "text": [
      "Processing timesteps:  88%|████████▊ | 117/133 [00:17<00:02,  6.37it/s]"
     ]
    },
    {
     "name": "stdout",
     "output_type": "stream",
     "text": [
      "Saved output to /mnt/lustre/koa/koastore/torri_group/air_directory/Projects/DCI-Project/Code/OUTPUT/Project_Algorithms/Tracking_Algorithms/1km_5min_34nz/Eulerian_CLTracking/Eulerian_CLTracking_1km_5min_34nz_9-35-00.h5 \n",
      "\n",
      "Saved output to /mnt/lustre/koa/koastore/torri_group/air_directory/Projects/DCI-Project/Code/OUTPUT/Project_Algorithms/Tracking_Algorithms/1km_5min_34nz/Eulerian_CLTracking/Eulerian_CLTracking_1km_5min_34nz_9-40-00.h5 \n",
      "\n"
     ]
    },
    {
     "name": "stderr",
     "output_type": "stream",
     "text": [
      "Processing timesteps:  89%|████████▉ | 119/133 [00:18<00:02,  6.56it/s]"
     ]
    },
    {
     "name": "stdout",
     "output_type": "stream",
     "text": [
      "Saved output to /mnt/lustre/koa/koastore/torri_group/air_directory/Projects/DCI-Project/Code/OUTPUT/Project_Algorithms/Tracking_Algorithms/1km_5min_34nz/Eulerian_CLTracking/Eulerian_CLTracking_1km_5min_34nz_9-45-00.h5 \n",
      "\n",
      "Saved output to /mnt/lustre/koa/koastore/torri_group/air_directory/Projects/DCI-Project/Code/OUTPUT/Project_Algorithms/Tracking_Algorithms/1km_5min_34nz/Eulerian_CLTracking/Eulerian_CLTracking_1km_5min_34nz_9-50-00.h5 \n",
      "\n"
     ]
    },
    {
     "name": "stderr",
     "output_type": "stream",
     "text": [
      "Processing timesteps:  91%|█████████ | 121/133 [00:18<00:01,  6.97it/s]"
     ]
    },
    {
     "name": "stdout",
     "output_type": "stream",
     "text": [
      "Saved output to /mnt/lustre/koa/koastore/torri_group/air_directory/Projects/DCI-Project/Code/OUTPUT/Project_Algorithms/Tracking_Algorithms/1km_5min_34nz/Eulerian_CLTracking/Eulerian_CLTracking_1km_5min_34nz_9-55-00.h5 \n",
      "\n",
      "Saved output to /mnt/lustre/koa/koastore/torri_group/air_directory/Projects/DCI-Project/Code/OUTPUT/Project_Algorithms/Tracking_Algorithms/1km_5min_34nz/Eulerian_CLTracking/Eulerian_CLTracking_1km_5min_34nz_10-00-00.h5 \n",
      "\n"
     ]
    },
    {
     "name": "stderr",
     "output_type": "stream",
     "text": [
      "Processing timesteps:  92%|█████████▏| 123/133 [00:18<00:01,  6.65it/s]"
     ]
    },
    {
     "name": "stdout",
     "output_type": "stream",
     "text": [
      "Saved output to /mnt/lustre/koa/koastore/torri_group/air_directory/Projects/DCI-Project/Code/OUTPUT/Project_Algorithms/Tracking_Algorithms/1km_5min_34nz/Eulerian_CLTracking/Eulerian_CLTracking_1km_5min_34nz_10-05-00.h5 \n",
      "\n",
      "Saved output to /mnt/lustre/koa/koastore/torri_group/air_directory/Projects/DCI-Project/Code/OUTPUT/Project_Algorithms/Tracking_Algorithms/1km_5min_34nz/Eulerian_CLTracking/Eulerian_CLTracking_1km_5min_34nz_10-10-00.h5 \n",
      "\n"
     ]
    },
    {
     "name": "stderr",
     "output_type": "stream",
     "text": [
      "Processing timesteps:  94%|█████████▍| 125/133 [00:18<00:01,  6.65it/s]"
     ]
    },
    {
     "name": "stdout",
     "output_type": "stream",
     "text": [
      "Saved output to /mnt/lustre/koa/koastore/torri_group/air_directory/Projects/DCI-Project/Code/OUTPUT/Project_Algorithms/Tracking_Algorithms/1km_5min_34nz/Eulerian_CLTracking/Eulerian_CLTracking_1km_5min_34nz_10-15-00.h5 \n",
      "\n",
      "Saved output to /mnt/lustre/koa/koastore/torri_group/air_directory/Projects/DCI-Project/Code/OUTPUT/Project_Algorithms/Tracking_Algorithms/1km_5min_34nz/Eulerian_CLTracking/Eulerian_CLTracking_1km_5min_34nz_10-20-00.h5 \n",
      "\n"
     ]
    },
    {
     "name": "stderr",
     "output_type": "stream",
     "text": [
      "Processing timesteps:  95%|█████████▌| 127/133 [00:19<00:00,  7.07it/s]"
     ]
    },
    {
     "name": "stdout",
     "output_type": "stream",
     "text": [
      "Saved output to /mnt/lustre/koa/koastore/torri_group/air_directory/Projects/DCI-Project/Code/OUTPUT/Project_Algorithms/Tracking_Algorithms/1km_5min_34nz/Eulerian_CLTracking/Eulerian_CLTracking_1km_5min_34nz_10-25-00.h5 \n",
      "\n",
      "Saved output to /mnt/lustre/koa/koastore/torri_group/air_directory/Projects/DCI-Project/Code/OUTPUT/Project_Algorithms/Tracking_Algorithms/1km_5min_34nz/Eulerian_CLTracking/Eulerian_CLTracking_1km_5min_34nz_10-30-00.h5 \n",
      "\n"
     ]
    },
    {
     "name": "stderr",
     "output_type": "stream",
     "text": [
      "Processing timesteps:  97%|█████████▋| 129/133 [00:19<00:00,  6.87it/s]"
     ]
    },
    {
     "name": "stdout",
     "output_type": "stream",
     "text": [
      "Saved output to /mnt/lustre/koa/koastore/torri_group/air_directory/Projects/DCI-Project/Code/OUTPUT/Project_Algorithms/Tracking_Algorithms/1km_5min_34nz/Eulerian_CLTracking/Eulerian_CLTracking_1km_5min_34nz_10-35-00.h5 \n",
      "\n",
      "Saved output to /mnt/lustre/koa/koastore/torri_group/air_directory/Projects/DCI-Project/Code/OUTPUT/Project_Algorithms/Tracking_Algorithms/1km_5min_34nz/Eulerian_CLTracking/Eulerian_CLTracking_1km_5min_34nz_10-40-00.h5 \n",
      "\n"
     ]
    },
    {
     "name": "stderr",
     "output_type": "stream",
     "text": [
      "Processing timesteps:  98%|█████████▊| 131/133 [00:19<00:00,  7.31it/s]"
     ]
    },
    {
     "name": "stdout",
     "output_type": "stream",
     "text": [
      "Saved output to /mnt/lustre/koa/koastore/torri_group/air_directory/Projects/DCI-Project/Code/OUTPUT/Project_Algorithms/Tracking_Algorithms/1km_5min_34nz/Eulerian_CLTracking/Eulerian_CLTracking_1km_5min_34nz_10-45-00.h5 \n",
      "\n",
      "Saved output to /mnt/lustre/koa/koastore/torri_group/air_directory/Projects/DCI-Project/Code/OUTPUT/Project_Algorithms/Tracking_Algorithms/1km_5min_34nz/Eulerian_CLTracking/Eulerian_CLTracking_1km_5min_34nz_10-50-00.h5 \n",
      "\n"
     ]
    },
    {
     "name": "stderr",
     "output_type": "stream",
     "text": [
      "Processing timesteps: 100%|██████████| 133/133 [00:20<00:00,  6.64it/s]"
     ]
    },
    {
     "name": "stdout",
     "output_type": "stream",
     "text": [
      "Saved output to /mnt/lustre/koa/koastore/torri_group/air_directory/Projects/DCI-Project/Code/OUTPUT/Project_Algorithms/Tracking_Algorithms/1km_5min_34nz/Eulerian_CLTracking/Eulerian_CLTracking_1km_5min_34nz_10-55-00.h5 \n",
      "\n",
      "Saved output to /mnt/lustre/koa/koastore/torri_group/air_directory/Projects/DCI-Project/Code/OUTPUT/Project_Algorithms/Tracking_Algorithms/1km_5min_34nz/Eulerian_CLTracking/Eulerian_CLTracking_1km_5min_34nz_11-00-00.h5 \n",
      "\n"
     ]
    },
    {
     "name": "stderr",
     "output_type": "stream",
     "text": [
      "\n"
     ]
    }
   ],
   "source": [
    "RunAlgorithm()"
   ]
  }
 ],
 "metadata": {
  "kernelspec": {
   "display_name": "work",
   "language": "python",
   "name": "work"
  },
  "language_info": {
   "codemirror_mode": {
    "name": "ipython",
    "version": 3
   },
   "file_extension": ".py",
   "mimetype": "text/x-python",
   "name": "python",
   "nbconvert_exporter": "python",
   "pygments_lexer": "ipython3",
   "version": "3.13.5"
  }
 },
 "nbformat": 4,
 "nbformat_minor": 5
}

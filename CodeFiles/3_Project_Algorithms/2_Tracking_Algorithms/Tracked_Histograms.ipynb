{
 "cells": [
  {
   "cell_type": "code",
   "execution_count": null,
   "id": "ab021293-8ddb-4803-8e4b-09339b257384",
   "metadata": {},
   "outputs": [],
   "source": [
    "####################################\n",
    "#ENVIRONMENT SETUP"
   ]
  },
  {
   "cell_type": "code",
   "execution_count": null,
   "id": "37f6e045-4410-47ce-b07f-d37260b9f526",
   "metadata": {},
   "outputs": [],
   "source": [
    "#Importing Libraries\n",
    "import numpy as np\n",
    "import pandas as pd\n",
    "\n",
    "import matplotlib.pyplot as plt\n",
    "import matplotlib.colors as mcolors\n",
    "import matplotlib.ticker as ticker\n",
    "import matplotlib.cm as cm\n",
    "from matplotlib.colors import Normalize\n",
    "from matplotlib.ticker import MaxNLocator\n",
    "from matplotlib.ticker import ScalarFormatter\n",
    "import matplotlib.gridspec as gridspec\n",
    "import xarray as xr\n",
    "\n",
    "import sys; import os; import time; from datetime import timedelta\n",
    "import pickle\n",
    "import h5py\n",
    "\n",
    "from tqdm import tqdm\n",
    "\n",
    "from glob import glob"
   ]
  },
  {
   "cell_type": "code",
   "execution_count": null,
   "id": "b27617c7-3004-46dd-aac7-5e5a0be72c9c",
   "metadata": {},
   "outputs": [],
   "source": [
    "#MAIN DIRECTORIES\n",
    "def GetDirectories():\n",
    "    mainDirectory='/mnt/lustre/koa/koastore/torri_group/air_directory/Projects/DCI-Project/'\n",
    "    mainCodeDirectory=os.path.join(mainDirectory,\"Code/CodeFiles/\")\n",
    "    scratchDirectory='/mnt/lustre/koa/scratch/air673/'\n",
    "    codeDirectory=os.getcwd()\n",
    "    return mainDirectory,mainCodeDirectory,scratchDirectory,codeDirectory\n",
    "\n",
    "[mainDirectory,mainCodeDirectory,scratchDirectory,codeDirectory] = GetDirectories()"
   ]
  },
  {
   "cell_type": "code",
   "execution_count": null,
   "id": "2ba3fa84-3ca2-49ea-a289-ed403cbcada0",
   "metadata": {},
   "outputs": [],
   "source": [
    "def GetPlottingDirectory(plotFileName, plotType):\n",
    "    plottingDirectory = mainCodeDirectory=os.path.join(mainDirectory,\"Code\",\"PLOTTING\")\n",
    "    \n",
    "    specificPlottingDirectory = os.path.join(plottingDirectory, plotType, \n",
    "                                             f\"{ModelData.res}_{ModelData.t_res}_{ModelData.Nz_str}nz\")\n",
    "    os.makedirs(specificPlottingDirectory, exist_ok=True)\n",
    "\n",
    "    plottingFileName=os.path.join(specificPlottingDirectory, plotFileName)\n",
    "\n",
    "    return plottingFileName\n",
    "\n",
    "def SaveFigure(fig,plotType, fileName):\n",
    "    plotFileName = f\"{fileName}_{ModelData.res}_{ModelData.t_res}_{ModelData.Np_str}.jpg\"\n",
    "    plottingFileName = GetPlottingDirectory(plotFileName, plotType)\n",
    "    print(f\"Saving figure to {plottingFileName}\")\n",
    "    fig.savefig(plottingFileName, dpi=300, bbox_inches='tight')"
   ]
  },
  {
   "cell_type": "code",
   "execution_count": null,
   "id": "82aeaab5-01f8-41ff-aa33-553b3b55c54c",
   "metadata": {},
   "outputs": [],
   "source": [
    "#IMPORT CLASSES\n",
    "sys.path.append(os.path.join(mainCodeDirectory,\"2_Variable_Calculation\"))\n",
    "from CLASSES_Variable_Calculation import ModelData_Class, SlurmJobArray_Class, DataManager_Class"
   ]
  },
  {
   "cell_type": "code",
   "execution_count": null,
   "id": "c8fb349c-beb0-4f22-aed9-81a217831a17",
   "metadata": {},
   "outputs": [],
   "source": [
    "#data loading class\n",
    "ModelData = ModelData_Class(mainDirectory, scratchDirectory, simulationNumber=1)\n",
    "#data manager class\n",
    "DataManager = DataManager_Class(mainDirectory, scratchDirectory, ModelData.res, ModelData.t_res, ModelData.Nz_str,\n",
    "                                ModelData.Np_str, dataType=\"Tracking_Algorithms\", dataName=\"Lagrangian_UpdraftTracking\",\n",
    "                                dtype='float32',codeSection = \"Project_Algorithms\")"
   ]
  },
  {
   "cell_type": "code",
   "execution_count": null,
   "id": "315c943a-30fb-45a0-b65e-4fa6259c994c",
   "metadata": {},
   "outputs": [],
   "source": [
    "#IMPORT FUNCTIONS\n",
    "sys.path.append(os.path.join(mainCodeDirectory,\"2_Variable_Calculation\"))\n",
    "import FUNCTIONS_Variable_Calculation\n",
    "from FUNCTIONS_Variable_Calculation import *"
   ]
  },
  {
   "cell_type": "code",
   "execution_count": null,
   "id": "6a761c2f-434d-47be-883e-b232a040854c",
   "metadata": {},
   "outputs": [],
   "source": [
    "#IMPORT CLASSES\n",
    "sys.path.append(os.path.join(mainCodeDirectory,\"3_Project_Algorithms\",\"2_Tracking_Algorithms\"))\n",
    "from CLASSES_TrackingAlgorithms import TrackingAlgorithms_DataLoading_Class, SlurmJobArray_Class, Results_InputOutput_Class, TrackedParcel_Loading_Class"
   ]
  },
  {
   "cell_type": "code",
   "execution_count": null,
   "id": "764b2d59-8d78-4ab7-b8b9-81f410fab64e",
   "metadata": {},
   "outputs": [],
   "source": [
    "#############################################\n",
    "#LOADING DATA"
   ]
  },
  {
   "cell_type": "code",
   "execution_count": null,
   "id": "f1fcebeb-b0d7-4a04-8377-a654879f74b7",
   "metadata": {},
   "outputs": [],
   "source": [
    "#READING BACK IN SUBSETTED TRACKED PARCEL DATA\n",
    "trackedArrays,LevelsDictionary = TrackedParcel_Loading_Class.LoadingSubsetParcelData(ModelData,DataManager,\n",
    "                                                         Results_InputOutput_Class)"
   ]
  },
  {
   "cell_type": "code",
   "execution_count": null,
   "id": "153a6f26-3f33-40e2-801d-cd64b50cb625",
   "metadata": {
    "jupyter": {
     "source_hidden": true
    },
    "scrolled": true
   },
   "outputs": [],
   "source": [
    "#GETTING AVERAGE CONVERGENCE MAX \n",
    "def Get_AvgConvergence(t):\n",
    "\n",
    "    timeString = ModelData.timeStrings[t]\n",
    "    outputDataDirectory=os.path.normpath(os.path.join(DataManager.outputDataDirectory,\"..\",\"Eulerian_CLTracking\"))\n",
    "    Dictionary = TrackingAlgorithms_DataLoading_Class.LoadData(ModelData, DataManager, timeString,\n",
    "                     dataName=\"Eulerian_CLTracking\",outputDataDirectory=outputDataDirectory,printstatement=False)\n",
    "    avgConvergence = Dictionary[\"avgConvergence\"]\n",
    "    return avgConvergence\n",
    "    \n",
    "def find_SBF_xmaxs():\n",
    "    xmaxs=[]\n",
    "    for t in range(ModelData.Ntime)[1:]:\n",
    "        if t == 0:\n",
    "            avgConvergence_max=np.nan\n",
    "        else:\n",
    "            avgConvergence = Get_AvgConvergence(t)\n",
    "            avgConvergence_max=np.max(avgConvergence)\n",
    "            xmax = np.where(avgConvergence==avgConvergence_max)[0][0]\n",
    "            xmaxs.append(xmax)\n",
    "    return xmaxs\n",
    "xmaxs=find_SBF_xmaxs()"
   ]
  },
  {
   "cell_type": "code",
   "execution_count": null,
   "id": "7655de93-43ad-4517-afd5-9da049d50408",
   "metadata": {},
   "outputs": [],
   "source": [
    "#############################################\n",
    "#RUNNING FUNCTIONS"
   ]
  },
  {
   "cell_type": "code",
   "execution_count": null,
   "id": "9960a941-e2f2-4a03-9ec8-b5b573e9296f",
   "metadata": {},
   "outputs": [],
   "source": []
  },
  {
   "cell_type": "code",
   "execution_count": null,
   "id": "9082aa1e-75c2-4ecf-a41d-ffbbb314cbff",
   "metadata": {},
   "outputs": [],
   "source": []
  },
  {
   "cell_type": "code",
   "execution_count": null,
   "id": "0317e36f-5847-43aa-8bbe-af1a6d097170",
   "metadata": {},
   "outputs": [],
   "source": [
    "#*#*#*# TESTING SBF\n",
    "\n",
    "trackedArray = trackedArrays[\"SBF\"][\"DEEP\"]\n",
    "#numerical info\n",
    "xh = ModelData.xh-ModelData.xh[0]\n",
    "kms=np.argmax(ModelData.xh-ModelData.xh[0] >= 1)\n",
    "\n",
    "#getting parcel index and time\n",
    "ps = trackedArray[:,0]\n",
    "ts = trackedArray[:,1]\n",
    "\n",
    "#initializing lists\n",
    "X_List = []\n",
    "Xdiff_List = []\n",
    "\n",
    "#running through each parcel\n",
    "for t in tqdm(np.unique(ts), desc=\"Processing timesteps\"):\n",
    "\n",
    "    #DISTANCE METRICS\n",
    "    #load in X at time t\n",
    "    timeString = ModelData.timeStrings[t]\n",
    "    X_t = CallLagrangianArray(ModelData, DataManager, timeString, 'X')\n",
    "    \n",
    "    XParcel_t = X_t[ps].tolist()\n",
    "    XParcel_t = xh[XParcel_t] #converting to kms\n",
    "\n",
    "    #getting index distance from sea-breeze\n",
    "    Xdiff = XParcel_t - xmaxs[t]\n",
    "    Xdiff *= kms #converting to kms\n",
    "\n",
    "    #appending results to list\n",
    "    X_List.extend(XParcel_t)\n",
    "    Xdiff_List.extend(Xdiff.tolist())\n",
    "    break\n",
    "\n",
    "\n",
    "    #VARIABLES\n",
    "    # QV_t = CallLagrangianArray(ModelData, DataManager, timeString, 'qv')\n",
    "    # THETA_V_t = CallLagrangianArray(ModelData, DataManager, timeString, 'theta_v')\n",
    "\n",
    "    # QVParcel_t = QV_t[ps]\n",
    "    # THETA_VParcel_t = THETA_V_t[ps]\n",
    "    \n",
    "    # QV_List.extend(QV_t)\n",
    "    # THETA_V_List.extend(THETA_VParcel_t)\n",
    "    "
   ]
  },
  {
   "cell_type": "code",
   "execution_count": null,
   "id": "b6e52ef1-356a-492f-bcf0-547d0b9c4b99",
   "metadata": {},
   "outputs": [],
   "source": []
  },
  {
   "cell_type": "code",
   "execution_count": null,
   "id": "f56ee730-3a31-4382-a483-194a259612f0",
   "metadata": {},
   "outputs": [],
   "source": []
  },
  {
   "cell_type": "code",
   "execution_count": null,
   "id": "f68898b5-9e48-45a5-9159-cb53bf833461",
   "metadata": {
    "scrolled": true
   },
   "outputs": [],
   "source": [
    "def CollectData(trackedArray):\n",
    "\n",
    "    #numerical info\n",
    "    xh = ModelData.xh-ModelData.xh[0]\n",
    "    kms=np.argmax(ModelData.xh-ModelData.xh[0] >= 1)\n",
    "\n",
    "    #getting parcel index and time\n",
    "    ps = trackedArray[:,0]\n",
    "    ts = trackedArray[:,1]\n",
    "\n",
    "    #initializing lists\n",
    "    X_List = []\n",
    "    Xdiff_List = []\n",
    "\n",
    "    QV_List = []\n",
    "    THETA_v_List = []\n",
    "    \n",
    "    #running through each parcel\n",
    "    for t in tqdm(np.unique(ts), desc=\"Processing timesteps\"):\n",
    "\n",
    "        #DISTANCE METRICS\n",
    "        #load in X at time t\n",
    "        timeString = ModelData.timeStrings[t]\n",
    "        X_t = CallLagrangianArray(ModelData, DataManager, timeString, 'X')\n",
    "        \n",
    "        XParcel_t = X_t[ps].tolist()\n",
    "        XParcel_t = xh[XParcel_t] #converting to kms\n",
    "    \n",
    "        #getting index distance from sea-breeze\n",
    "        Xdiff = XParcel_t - xmaxs[t]\n",
    "        Xdiff *= kms #converting to kms\n",
    "    \n",
    "        #appending results to list\n",
    "        X_List.extend(XParcel_t)\n",
    "        Xdiff_List.extend(Xdiff.tolist())\n",
    "\n",
    "\n",
    "        #VARIABLES\n",
    "        VARS=Get_LagrangianArrays(t,varNames=[\"QV\",\"THETA_v\"])\n",
    "\n",
    "        QV_t = VARS[\"QV\"]\n",
    "        THETA_v_t = VARS[\"THETA_v\"]\n",
    "\n",
    "        QVParcel_t = QV_t[ps]\n",
    "        THETA_vParcel_t = THETA_v_t[ps]\n",
    "        \n",
    "        QV_List.extend(QVParcel_t)\n",
    "        THETA_v_List.extend(THETA_vParcel_t)\n",
    "        \n",
    "    return X_List,Xdiff_List, QV_List,THETA_v_List"
   ]
  },
  {
   "cell_type": "code",
   "execution_count": null,
   "id": "893681a6-d546-4a28-b52b-4ae2b9b3f415",
   "metadata": {
    "scrolled": true
   },
   "outputs": [],
   "source": [
    "def RunAllParcelTypes():\n",
    "    results = {}\n",
    "    \n",
    "    for outer_key, inner_dict in trackedArrays.items():          # e.g. \"CL\"\n",
    "        results[outer_key] = {}\n",
    "        for inner_key, trackedArray in inner_dict.items():       # e.g. \"DEEP\"\n",
    "            print(f\"\\nRunning CollectData for {outer_key} - {inner_key}\")\n",
    "    \n",
    "            if trackedArray is None or len(trackedArray) == 0:\n",
    "                print(f\"  Skipping {outer_key}-{inner_key}: empty array\")\n",
    "                continue\n",
    "    \n",
    "            X_List, Xdiff_List, QV_List,THETA_V_List = CollectData(trackedArray)\n",
    "    \n",
    "            # store results in nested dict\n",
    "            results[outer_key][inner_key] = {\n",
    "                \"X_List\": X_List,\n",
    "                \"Xdiff_List\": Xdiff_List,\n",
    "                \"QV_List\": QV_List,\n",
    "                \"THETA_V_List\": THETA_V_List\n",
    "            }\n",
    "    return results"
   ]
  },
  {
   "cell_type": "code",
   "execution_count": null,
   "id": "89b0fb7d-9963-4977-98d0-1174e694b230",
   "metadata": {
    "jupyter": {
     "source_hidden": true
    }
   },
   "outputs": [],
   "source": [
    "def LoadorRun():\n",
    "    \"\"\"\n",
    "    Loads the tracked parcel results from a pickle file if it exists;\n",
    "    otherwise runs RunAllParcelTypes() and saves the output.\n",
    "    \"\"\"\n",
    "    fileName = f\"Tracked_Histogram_Output_{ModelData.res}_{ModelData.t_res}_{ModelData.Nzh}nz.pkl\"\n",
    "    filePath = os.path.join(codeDirectory, fileName)\n",
    "\n",
    "    if os.path.exists(filePath):\n",
    "        # Load existing results\n",
    "        with open(filePath, \"rb\") as f:\n",
    "            results = pickle.load(f)\n",
    "        print(f\"Loaded results from {filePath}\")\n",
    "    else:\n",
    "        # Run function and save new results\n",
    "        print(f\"No pickle file found, running RunAllParcelTypes()...\")\n",
    "        results = RunAllParcelTypes()\n",
    "\n",
    "        with open(filePath, \"wb\") as f:\n",
    "            pickle.dump(results, f)\n",
    "        print(f\"Saved results to {filePath}\")\n",
    "\n",
    "    return results"
   ]
  },
  {
   "cell_type": "code",
   "execution_count": null,
   "id": "c98c5798-d9f2-4880-82b0-a0803cc886b6",
   "metadata": {},
   "outputs": [],
   "source": [
    "#############################################\n",
    "#RUNNING"
   ]
  },
  {
   "cell_type": "code",
   "execution_count": null,
   "id": "37530e75-ccd1-4a7f-a927-c575cf81f332",
   "metadata": {},
   "outputs": [],
   "source": [
    "# ============================================================\n",
    "# Get_LagrangianArrays_Function\n",
    "# ============================================================\n",
    "\n",
    "def Get_LagrangianArrays(t, dataType=\"VARS\", dataName=\"VARS\", varNames=[\"W\"]):\n",
    "    res = ModelData.res\n",
    "    t_res = ModelData.t_res\n",
    "    Nz_str = ModelData.Nz_str\n",
    "    inputDirectory = os.path.join(DataManager.inputDirectory,\n",
    "                                  \"..\",\"LagrangianArrays\",\n",
    "                                  f\"{res}_{t_res}_{Nz_str}nz\", dataType)\n",
    "    timeString = ModelData.timeStrings[t]\n",
    "\n",
    "    FileName = os.path.join(inputDirectory, f\"{dataName}_{res}_{t_res}_{Nz_str}nz_{timeString}.h5\")\n",
    "\n",
    "    dataDictionary = {}\n",
    "    with h5py.File(FileName, 'r') as f:\n",
    "        # print(\"Keys in file:\", list(f.keys()))\n",
    "        for key in varNames:\n",
    "            dataDictionary[key] = f[key][:]\n",
    "            # print(f\"{key}: shape = {dataDictionary[key].shape}, dtype = {dataDictionary[key].dtype}\")\n",
    "    return dataDictionary"
   ]
  },
  {
   "cell_type": "code",
   "execution_count": null,
   "id": "524dbc22-408d-4d59-8deb-03a87d8792e8",
   "metadata": {
    "scrolled": true
   },
   "outputs": [],
   "source": [
    "results = LoadorRun()"
   ]
  },
  {
   "cell_type": "code",
   "execution_count": null,
   "id": "5238e371-caf5-4f91-a45e-e1e136c2b930",
   "metadata": {},
   "outputs": [],
   "source": [
    "#############################################\n",
    "#PLOTTING FUNCTIONS"
   ]
  },
  {
   "cell_type": "code",
   "execution_count": null,
   "id": "8e068ba7-c0d6-4ee0-bc19-1ea30cfbad10",
   "metadata": {
    "jupyter": {
     "source_hidden": true
    }
   },
   "outputs": [],
   "source": [
    "plt.rcParams[\"font.family\"] = \"sans-serif\"\n",
    "plt.rcParams[\"font.sans-serif\"] = [\"DejaVu Sans\", \"Helvetica\", \"Arial\"]\n",
    "plt.rcParams[\"axes.titlesize\"] = 14\n",
    "plt.rcParams[\"axes.titleweight\"] = \"bold\""
   ]
  },
  {
   "cell_type": "code",
   "execution_count": null,
   "id": "b8ffafb2-efb9-4c3e-87b3-e268f6524605",
   "metadata": {
    "jupyter": {
     "source_hidden": true
    }
   },
   "outputs": [],
   "source": [
    "def PlotHistogram(axis, dataList, xlabel, bins=50, color='steelblue', title=None):\n",
    "    \"\"\"\n",
    "    Plot a polished histogram for a given dataset onto an existing axis.\n",
    "    \"\"\"\n",
    "\n",
    "    # ensure NumPy array for consistency\n",
    "    data = np.array(dataList)\n",
    "\n",
    "    # plot histogram\n",
    "    axis.hist(\n",
    "        data,\n",
    "        bins=bins,\n",
    "        color=color,\n",
    "        edgecolor='black',\n",
    "        alpha=0.7\n",
    "    )\n",
    "\n",
    "    # labels and title\n",
    "    axis.set_xlabel(xlabel, fontsize=12)\n",
    "    axis.set_ylabel(\"Count\", fontsize=12)\n",
    "    if title:\n",
    "        axis.set_title(title, fontsize=14, pad=10)\n",
    "\n",
    "    # grid and layout\n",
    "    axis.grid(True, linestyle='--', alpha=0.4)\n"
   ]
  },
  {
   "cell_type": "code",
   "execution_count": null,
   "id": "68981e40-4125-40b1-baa0-dd8eb61da25a",
   "metadata": {},
   "outputs": [],
   "source": [
    "def PlotDistancesFunction(parcel_type):\n",
    "    # choose which outer key to plot\n",
    "    ptype = parcel_type\n",
    "    depth_types = [\"ALL\", \"SHALLOW\", \"DEEP\"]\n",
    "    \n",
    "    # set up figure (2 rows × 3 columns)\n",
    "    fig = plt.figure(figsize=(12, 8))\n",
    "    gs  = gridspec.GridSpec(2, len(depth_types), figure=fig,\n",
    "                            wspace=0.3, hspace=0.35)\n",
    "    \n",
    "    # loop through depth types\n",
    "    for j, depth in enumerate(depth_types):\n",
    "        # first row: X_List\n",
    "        ax_top = fig.add_subplot(gs[0, j])\n",
    "        if ptype in results and depth in results[ptype]:\n",
    "            data_x = results[ptype][depth][\"X_List\"]\n",
    "            PlotHistogram(ax_top, data_x,\n",
    "                          xlabel=\"X distance from left side (km)\",\n",
    "                          title=f\"{ptype} – {depth}\")\n",
    "    \n",
    "        # second row: Xdiff_List\n",
    "        ax_bottom = fig.add_subplot(gs[1, j])\n",
    "        if ptype in results and depth in results[ptype]:\n",
    "            data_xdiff = results[ptype][depth][\"Xdiff_List\"]\n",
    "            PlotHistogram(ax_bottom, data_xdiff,\n",
    "                          xlabel=\"X distance from SBF (km)\",\n",
    "                          title=f\"{ptype} – {depth}\")\n",
    "        else:\n",
    "            continue\n",
    " \n",
    "    fig.subplots_adjust(left=0.07, right=0.97,   \n",
    "                        bottom=0.08, top=0.90,\n",
    "                        wspace=0.35, hspace=0.35)\n",
    "    return fig"
   ]
  },
  {
   "cell_type": "code",
   "execution_count": null,
   "id": "8dcc2ec7-46f5-493d-811e-9f0d3cb46be3",
   "metadata": {},
   "outputs": [],
   "source": [
    "def PlotVariablesFunction(parcel_type):\n",
    "    # choose which outer key to plot\n",
    "    ptype = parcel_type\n",
    "    depth_types = [\"ALL\", \"SHALLOW\", \"DEEP\"]\n",
    "    \n",
    "    # set up figure (2 rows × 3 columns)\n",
    "    fig = plt.figure(figsize=(12, 8))\n",
    "    gs  = gridspec.GridSpec(2, len(depth_types), figure=fig,\n",
    "                            wspace=0.3, hspace=0.35)\n",
    "    \n",
    "    # loop through depth types\n",
    "    for j, depth in enumerate(depth_types):\n",
    "        # first row: X_List\n",
    "        ax_top = fig.add_subplot(gs[0, j])\n",
    "        if ptype in results and depth in results[ptype]:\n",
    "            data_x = results[ptype][depth][\"QV_List\"]\n",
    "            data_x = np.array(data_x)*1e3\n",
    "            PlotHistogram(ax_top, data_x,\n",
    "                          xlabel=\"qv (g/kg)\",\n",
    "                          title=f\"{ptype} – {depth}\")\n",
    "    \n",
    "        # second row: Xdiff_List\n",
    "        ax_bottom = fig.add_subplot(gs[1, j])\n",
    "        if ptype in results and depth in results[ptype]:\n",
    "            data_xdiff = results[ptype][depth][\"THETA_V_List\"]\n",
    "            PlotHistogram(ax_bottom, data_xdiff,\n",
    "                          xlabel=\"th_v (K)\",\n",
    "                          title=f\"{ptype} – {depth}\")\n",
    "        else:\n",
    "            continue\n",
    " \n",
    "    fig.subplots_adjust(left=0.07, right=0.97,   \n",
    "                        bottom=0.08, top=0.90,\n",
    "                        wspace=0.35, hspace=0.35)\n",
    "    return fig"
   ]
  },
  {
   "cell_type": "code",
   "execution_count": null,
   "id": "bb6b33b0-5801-4962-b90b-4b66ab7a0c90",
   "metadata": {},
   "outputs": [],
   "source": [
    "#############################################\n",
    "#PLOTTING"
   ]
  },
  {
   "cell_type": "code",
   "execution_count": null,
   "id": "600e6de9-4a54-4843-81b5-97f1ab0fc1d1",
   "metadata": {
    "scrolled": true
   },
   "outputs": [],
   "source": [
    "parcel_types = [\"CL\", \"nonCL\", \"SBF\"]\n",
    "for parcel_type in parcel_types:\n",
    "    fig = PlotDistancesFunction(parcel_type)\n",
    "\n",
    "    #saving\n",
    "    fileName=f\"Tracked_Histograms_Distances_{parcel_type}\" \n",
    "    SaveFigure(fig,plotType=\"Project_Algorithms/Tracking_Algorithms/Tracked_Histograms\",fileName=fileName)"
   ]
  },
  {
   "cell_type": "code",
   "execution_count": null,
   "id": "518c7d2e-d9e0-426e-baf3-dabcaf55a35f",
   "metadata": {},
   "outputs": [],
   "source": [
    "parcel_types = [\"CL\", \"nonCL\", \"SBF\"]\n",
    "for parcel_type in parcel_types:\n",
    "    fig = PlotVariablesFunction(parcel_type)\n",
    "\n",
    "    #saving\n",
    "    fileName=f\"Tracked_Histograms_Variables_{parcel_type}\" \n",
    "    SaveFigure(fig,plotType=\"Project_Algorithms/Tracking_Algorithms/Tracked_Histograms\",fileName=fileName)"
   ]
  }
 ],
 "metadata": {
  "kernelspec": {
   "display_name": "Python 3 (ipykernel)",
   "language": "python",
   "name": "python3"
  },
  "language_info": {
   "codemirror_mode": {
    "name": "ipython",
    "version": 3
   },
   "file_extension": ".py",
   "mimetype": "text/x-python",
   "name": "python",
   "nbconvert_exporter": "python",
   "pygments_lexer": "ipython3",
   "version": "3.11.8"
  }
 },
 "nbformat": 4,
 "nbformat_minor": 5
}

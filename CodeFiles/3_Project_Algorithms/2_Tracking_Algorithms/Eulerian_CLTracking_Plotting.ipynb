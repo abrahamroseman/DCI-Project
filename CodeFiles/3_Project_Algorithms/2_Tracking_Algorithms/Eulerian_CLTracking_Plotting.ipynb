{
 "cells": [
  {
   "cell_type": "code",
   "execution_count": 52,
   "id": "4a46c72b-280e-42ba-b367-45fbbe8ec5c6",
   "metadata": {},
   "outputs": [],
   "source": [
    "####################################\n",
    "#ENVIRONMENT SETUP"
   ]
  },
  {
   "cell_type": "code",
   "execution_count": 53,
   "id": "ff39b5c4-403c-4de8-b24c-373ef4a37255",
   "metadata": {},
   "outputs": [],
   "source": [
    "#Importing Libraries\n",
    "import sys; import os; import time; from datetime import timedelta\n",
    "\n",
    "import numpy as np\n",
    "import matplotlib\n",
    "matplotlib.use(\"Agg\")\n",
    "import matplotlib.pyplot as plt\n",
    "import matplotlib.colors as mcolors\n",
    "import matplotlib.ticker as ticker\n",
    "import matplotlib.cm as cm\n",
    "from matplotlib.colors import Normalize\n",
    "from matplotlib.ticker import MaxNLocator\n",
    "from matplotlib.ticker import ScalarFormatter\n",
    "import matplotlib.gridspec as gridspec\n",
    "import matplotlib.lines as mlines\n",
    "import xarray as xr\n",
    "\n",
    "import pickle\n",
    "import h5py\n",
    "\n",
    "from tqdm import tqdm"
   ]
  },
  {
   "cell_type": "code",
   "execution_count": 54,
   "id": "e0279892-f3f0-4999-84da-93c3484794e1",
   "metadata": {},
   "outputs": [],
   "source": [
    "#MAIN DIRECTORIES\n",
    "def GetDirectories():\n",
    "    mainDirectory='/mnt/lustre/koa/koastore/torri_group/air_directory/Projects/DCI-Project/'\n",
    "    mainCodeDirectory=os.path.join(mainDirectory,\"Code/CodeFiles/\")\n",
    "    scratchDirectory='/mnt/lustre/koa/scratch/air673/'\n",
    "    codeDirectory=os.getcwd()\n",
    "    return mainDirectory,mainCodeDirectory,scratchDirectory,codeDirectory\n",
    "\n",
    "[mainDirectory,mainCodeDirectory,scratchDirectory,codeDirectory] = GetDirectories()"
   ]
  },
  {
   "cell_type": "code",
   "execution_count": 55,
   "id": "68a59063-baa0-4f1a-8db6-07c7022f6b76",
   "metadata": {},
   "outputs": [],
   "source": [
    "def GetPlottingDirectory(plotFileName, plotType):\n",
    "    plottingDirectory = mainCodeDirectory=os.path.join(mainDirectory,\"Code\",\"PLOTTING\")\n",
    "    \n",
    "    specificPlottingDirectory = os.path.join(plottingDirectory, plotType, \n",
    "                                             f\"{ModelData.res}_{ModelData.t_res}_{ModelData.Nz_str}nz\")\n",
    "    os.makedirs(specificPlottingDirectory, exist_ok=True)\n",
    "\n",
    "    plottingFileName=os.path.join(specificPlottingDirectory, plotFileName)\n",
    "\n",
    "    return plottingFileName\n",
    "\n",
    "def SaveFigure(fig,plotType, fileName):\n",
    "    plotFileName = f\"{fileName}_{ModelData.res}_{ModelData.t_res}_{ModelData.Np_str}.jpg\"\n",
    "    plottingFileName = GetPlottingDirectory(plotFileName, plotType)\n",
    "    print(f\"Saving figure to {plottingFileName}\")\n",
    "    fig.savefig(plottingFileName, dpi=300, bbox_inches='tight')"
   ]
  },
  {
   "cell_type": "code",
   "execution_count": 56,
   "id": "cf11ef96-e2fe-44b0-8a00-e5b3a6f47992",
   "metadata": {},
   "outputs": [],
   "source": [
    "#IMPORT CLASSES\n",
    "sys.path.append(os.path.join(mainCodeDirectory,\"2_Variable_Calculation\"))\n",
    "from CLASSES_Variable_Calculation import ModelData_Class, SlurmJobArray_Class, DataManager_Class"
   ]
  },
  {
   "cell_type": "code",
   "execution_count": 57,
   "id": "df2d9ca5-7e2b-4625-b7c2-4d319c1fb5c3",
   "metadata": {},
   "outputs": [],
   "source": [
    "#IMPORT CLASSES\n",
    "sys.path.append(os.path.join(mainCodeDirectory,\"3_Project_Algorithms\",\"1_Domain_Profiles\"))\n",
    "from CLASSES_DomainProfiles import DomainProfiles_Class, DomainProfiles_DataLoading_Class"
   ]
  },
  {
   "cell_type": "code",
   "execution_count": 58,
   "id": "15f66468-a38c-405d-9d0e-2b3306247325",
   "metadata": {},
   "outputs": [],
   "source": [
    "#IMPORT CLASSES\n",
    "sys.path.append(os.path.join(mainCodeDirectory,\"3_Project_Algorithms\",\"2_Tracking_Algorithms\"))\n",
    "from CLASSES_TrackingAlgorithms import TrackingAlgorithms_DataLoading_Class"
   ]
  },
  {
   "cell_type": "code",
   "execution_count": 59,
   "id": "cebb18db-4f6f-4589-9f3d-4d701b963594",
   "metadata": {},
   "outputs": [],
   "source": [
    "#IMPORT FUNCTIONS\n",
    "sys.path.append(os.path.join(mainCodeDirectory,\"2_Variable_Calculation\"))\n",
    "import FUNCTIONS_Variable_Calculation\n",
    "from FUNCTIONS_Variable_Calculation import *"
   ]
  },
  {
   "cell_type": "code",
   "execution_count": 60,
   "id": "b0941cac-10a7-4d5a-acf3-d0a71d2fa9b1",
   "metadata": {},
   "outputs": [
    {
     "name": "stdout",
     "output_type": "stream",
     "text": [
      "=== CM1 Data Summary ===\n",
      " Simulation #:   1\n",
      " Resolution:     1km\n",
      " Time step:      5min\n",
      " Vertical levels:34\n",
      " Parcels:        1e6\n",
      " Data file:      /mnt/lustre/koa/koastore/torri_group/air_directory/Projects/DCI-Project/Model/cm1r20.3/run/cm1out_1km_5min_34nz.nc\n",
      " Parcel file:    /mnt/lustre/koa/koastore/torri_group/air_directory/Projects/DCI-Project/Model/cm1r20.3/run/cm1out_pdata_1km_5min_1e6np.nc\n",
      " Time steps:     133\n",
      "========================= \n",
      "\n",
      "=== DataManager Summary ===\n",
      " inputDirectory #:   /mnt/lustre/koa/koastore/torri_group/air_directory/Projects/DCI-Project/Code/OUTPUT/Variable_Calculation/TimeSplitModelData\n",
      " outputDirectory #:   /mnt/lustre/koa/koastore/torri_group/air_directory/Projects/DCI-Project/Code/OUTPUT/Project_Algorithms/Tracking_Algorithms\n",
      " inputDataDirectory #:   /mnt/lustre/koa/koastore/torri_group/air_directory/Projects/DCI-Project/Code/OUTPUT/Variable_Calculation/TimeSplitModelData/1km_5min_34nz/ModelData\n",
      " inputParcelDirectory #:   /mnt/lustre/koa/koastore/torri_group/air_directory/Projects/DCI-Project/Code/OUTPUT/Variable_Calculation/TimeSplitModelData/1km_5min_34nz/ParcelData\n",
      " outputDataDirectory #:   /mnt/lustre/koa/koastore/torri_group/air_directory/Projects/DCI-Project/Code/OUTPUT/Project_Algorithms/Tracking_Algorithms/1km_5min_34nz/Eulerian_CLTracking\n",
      "========================= \n",
      "\n"
     ]
    }
   ],
   "source": [
    "#data loading class\n",
    "ModelData = ModelData_Class(mainDirectory, scratchDirectory, simulationNumber=1)\n",
    "#data manager class\n",
    "DataManager = DataManager_Class(mainDirectory, scratchDirectory, ModelData.res, ModelData.t_res, ModelData.Nz_str,\n",
    "                                ModelData.Np_str, dataType=\"Tracking_Algorithms\", dataName=\"Eulerian_CLTracking\",\n",
    "                                dtype='float32',codeSection = \"Project_Algorithms\")"
   ]
  },
  {
   "cell_type": "code",
   "execution_count": 61,
   "id": "dbe9d72f-0cbb-4946-9fa6-c2f493543c51",
   "metadata": {},
   "outputs": [
    {
     "name": "stdout",
     "output_type": "stream",
     "text": [
      "Running timesteps from 0:6 \n",
      "\n"
     ]
    }
   ],
   "source": [
    "#JOB ARRAY SETUP\n",
    "UsingJobArray=True\n",
    "\n",
    "def GetNumJobs(res):\n",
    "    if res=='1km':\n",
    "        num_jobs=20\n",
    "    elif res=='250m': \n",
    "        num_jobs=100\n",
    "    return num_jobs\n",
    "num_jobs = GetNumJobs(ModelData.res)\n",
    "SlurmJobArray = SlurmJobArray_Class(total_elements=ModelData.Ntime, num_jobs=num_jobs, UsingJobArray=UsingJobArray)\n",
    "start_job = SlurmJobArray.start_job; end_job = SlurmJobArray.end_job\n",
    "\n",
    "def GetNumElements():\n",
    "    num_elements = np.arange(ModelData.Ntime)[start_job:end_job]\n",
    "    return num_elements\n",
    "num_elements = GetNumElements()"
   ]
  },
  {
   "cell_type": "code",
   "execution_count": 62,
   "id": "4de768e0-a680-4fce-aa4c-83354e9b2c85",
   "metadata": {},
   "outputs": [],
   "source": [
    "import sys\n",
    "path=os.path.join(mainCodeDirectory,'Functions/')\n",
    "sys.path.append(path)\n",
    "\n",
    "import NumericalFunctions\n",
    "from NumericalFunctions import * # import NumericalFunctions \n",
    "import PlottingFunctions\n",
    "from PlottingFunctions import * # import PlottingFunctions\n",
    "\n",
    "# # Get all functions in NumericalFunctions\n",
    "# import inspect\n",
    "# functions = [f[0] for f in inspect.getmembers(NumericalFunctions, inspect.isfunction)]\n",
    "# functions"
   ]
  },
  {
   "cell_type": "code",
   "execution_count": 63,
   "id": "0eff37ff-0557-4002-ad2d-83a270a47b1b",
   "metadata": {},
   "outputs": [],
   "source": [
    "##############################################\n",
    "#MODEL AND ALGORITHM NUMERICAL PARAMETERS"
   ]
  },
  {
   "cell_type": "code",
   "execution_count": 64,
   "id": "d274c51a-eeff-40b7-85cf-dcc44377ab93",
   "metadata": {
    "jupyter": {
     "source_hidden": true
    }
   },
   "outputs": [],
   "source": [
    "dx=int(ModelData.xh[1]-ModelData.xh[0]) #grid resolution (in km)\n",
    "dy=dx\n",
    "xh = ModelData.xh - ModelData.xh[0]\n",
    "yh = ModelData.yh - ModelData.yh[0]"
   ]
  },
  {
   "cell_type": "code",
   "execution_count": 65,
   "id": "1d82f938-7be1-4439-b937-0950519ca520",
   "metadata": {},
   "outputs": [],
   "source": [
    "#########################################\n",
    "#LOADING DATA"
   ]
  },
  {
   "cell_type": "code",
   "execution_count": 66,
   "id": "2ceaf456-61af-4ab3-8bd0-e3e4d905effd",
   "metadata": {
    "jupyter": {
     "source_hidden": true
    }
   },
   "outputs": [],
   "source": [
    "def GetConvergence(t,z):\n",
    "    timeString = ModelData.timeStrings[t]\n",
    "    varName = 'convergence'\n",
    "    convergence = CallVariable(ModelData, DataManager, timeString, varName)\n",
    "    return convergence[z]\n",
    "    \n",
    "def LoadTrackedData(t):\n",
    "    timeString = ModelData.timeStrings[t]\n",
    "    Dictionary = TrackingAlgorithms_DataLoading_Class.LoadData(ModelData,DataManager, timeString)\n",
    "    maxConvergence_X = Dictionary[\"maxConvergence_X\"]\n",
    "    return maxConvergence_X"
   ]
  },
  {
   "cell_type": "code",
   "execution_count": 67,
   "id": "d2b6a21a-450b-441c-8e90-a2bf732fc109",
   "metadata": {},
   "outputs": [],
   "source": [
    "#########################################\n",
    "#PLOTTING FUNCTIONS"
   ]
  },
  {
   "cell_type": "code",
   "execution_count": 68,
   "id": "c094fd39-3851-40eb-a869-e319d0b57a0e",
   "metadata": {},
   "outputs": [],
   "source": [
    "def CL_plotting(axis, t, zlev, \n",
    "                clim,\n",
    "                font_size=12, index_adjust=0, ocean_fraction=2/8):\n",
    "\n",
    "    #loading convergence data\n",
    "    conv_z = GetConvergence(t, zlev)\n",
    "\n",
    "    #plotting convergence\n",
    "    if clim is not None:\n",
    "        levels = np.linspace(clim[0] * 1000, clim[1] * 1000, 40)\n",
    "        contour = axis.contourf(\n",
    "            xh, yh, conv_z * 1000,\n",
    "            levels=levels,\n",
    "            # cmap=\"RdBu_r\"\n",
    "    )\n",
    "    else:\n",
    "        contour = axis.contourf(xh, yh, conv_z * 1000, levels=40)\n",
    "    cbar = plt.colorbar(contour, ax=axis, pad=0)\n",
    "    cbar.set_label(r'$-\\nabla \\cdot \\vec{V}_H\\ (s^{-1})$', fontsize=font_size)\n",
    "    cbar.ax.tick_params(labelsize=font_size)\n",
    "    cbar.ax.yaxis.label.set_size(font_size)\n",
    "\n",
    "    axis.set_xlabel('x (km)', fontsize=font_size)\n",
    "    axis.set_ylabel('y (km)', fontsize=font_size)\n",
    "    axis.tick_params(axis='both', which='major', labelsize=font_size)\n",
    "\n",
    "    #loading tracked CL data\n",
    "    maxConvergence_X = LoadTrackedData(t)\n",
    "\n",
    "    # Scatter max convergence points\n",
    "    for yind in range(ModelData.Nyh):\n",
    "        local_maxes = maxConvergence_X[zlev, yind]\n",
    "        local_maxes = local_maxes[local_maxes != -1]\n",
    "        local_maxes = local_maxes.astype(int)\n",
    "        axis.scatter(xh[local_maxes], [yh[yind]] * len(local_maxes), color='red', s=1)\n",
    "\n",
    "\n",
    "    # Coastline\n",
    "    axis.axvline(x=(ModelData.Nxf) * ocean_fraction, color='black', linewidth=1.5, label='Coastline')\n",
    "\n",
    "    # Legend\n",
    "    ([days, hours, mins], _) = get_time(ModelData.time, t, (0, 6, 0))\n",
    "    handle_pts = mlines.Line2D([], [], color='red', marker='o', linestyle='None', markersize=6, label='Convergence Local Y-Maxima')\n",
    "    handle_time = mlines.Line2D([], [], color='none', label=f't = {t + index_adjust} = {days}:{hours}:{mins}')\n",
    "    handle_z = mlines.Line2D([], [], color='none', label=f'z = {ModelData.zh[zlev]*1000:.0f} m')\n",
    "    handle_c = mlines.Line2D([], [], color='black', lw=3, label='Coastline')\n",
    "    legend = axis.legend(handles=[handle_pts, handle_c, handle_time, handle_z], loc='upper left', fontsize=font_size)\n",
    "    for text in legend.get_texts():\n",
    "        text.set_fontsize(font_size)\n",
    "\n",
    "def RunTrackedPlot(t,zlev, \n",
    "                   clim=None,\n",
    "                   SAVING=False,CLOSE=False):\n",
    "    channel_aspect_ratio = 5\n",
    "    figwidth = 20\n",
    "    dpi = 72\n",
    "    fig, axis = plt.subplots(nrows=1, ncols=1, figsize=(figwidth, figwidth / channel_aspect_ratio), dpi=dpi)\n",
    "\n",
    "    CL_plotting(axis, t,zlev,\n",
    "                clim=clim)\n",
    "\n",
    "    # SAVING PLOT\n",
    "    if SAVING:\n",
    "        fileName=f\"Eulerian_CLTracking_{ModelData.timeStrings[t]}\" \n",
    "        SaveFigure(fig,plotType=\"Project_Algorithms/Tracking_Algorithms\",fileName=fileName)\n",
    "\n",
    "    if CLOSE==True:\n",
    "        plt.close(fig)\n"
   ]
  },
  {
   "cell_type": "code",
   "execution_count": 69,
   "id": "729aaebc-32c5-4ad8-b740-7bbc3aa16d80",
   "metadata": {},
   "outputs": [],
   "source": [
    "#########################################\n",
    "#PLOTTING FUNCTIONS"
   ]
  },
  {
   "cell_type": "code",
   "execution_count": 70,
   "id": "d69569d6-ef2a-4ce9-8b96-e0b4d5416133",
   "metadata": {
    "jupyter": {
     "source_hidden": true
    },
    "scrolled": true
   },
   "outputs": [
    {
     "name": "stdout",
     "output_type": "stream",
     "text": [
      "Loaded existing convergence stats from: convergence_stats.pkl\n"
     ]
    }
   ],
   "source": [
    "import os\n",
    "import pickle\n",
    "import numpy as np\n",
    "from tqdm import tqdm\n",
    "\n",
    "def GetCLim():\n",
    "    # Choose output pickle file path\n",
    "    output_pkl = \"convergence_stats.pkl\"\n",
    "    \n",
    "    # ------------------------------------------------------------\n",
    "    # If file exists → load and skip calculations\n",
    "    # ------------------------------------------------------------\n",
    "    if os.path.exists(output_pkl):\n",
    "        with open(output_pkl, \"rb\") as f:\n",
    "            conv_stats = pickle.load(f)\n",
    "        clim = (np.min(conv_stats['min']),np.max(conv_stats['max']))\n",
    "        print(f\"Loaded existing convergence stats from: {output_pkl}\")\n",
    "    \n",
    "    # ------------------------------------------------------------\n",
    "    # Otherwise compute and save\n",
    "    # ------------------------------------------------------------\n",
    "    else:\n",
    "        print(\"Computing convergence stats...\")\n",
    "    \n",
    "        # Find level closest to 350 m\n",
    "        zlev = int(np.abs(ModelData.zh - 350/1e3).argmin())\n",
    "    \n",
    "        # Initialize dictionary\n",
    "        conv_stats = {\"min\": [], \"max\": []}\n",
    "    \n",
    "        # Loop over all timesteps\n",
    "        for t in tqdm(range(ModelData.Ntime), desc=\"Computing convergence stats\"):\n",
    "            conv_z = GetConvergence(t, zlev)  # 2D field\n",
    "            conv_min = np.nanmin(conv_z)\n",
    "            conv_max = np.nanmax(conv_z)\n",
    "            conv_stats[\"min\"].append(conv_min)\n",
    "            conv_stats[\"max\"].append(conv_max)\n",
    "    \n",
    "        # Optionally store associated times\n",
    "        conv_stats[\"time\"] = getattr(ModelData, \"time\", None)\n",
    "    \n",
    "        # Convert lists to numpy arrays\n",
    "        conv_stats[\"min\"] = np.array(conv_stats[\"min\"])\n",
    "        conv_stats[\"max\"] = np.array(conv_stats[\"max\"])\n",
    "    \n",
    "        # Save to pickle\n",
    "        with open(output_pkl, \"wb\") as f:\n",
    "            pickle.dump(conv_stats, f)\n",
    "    \n",
    "        clim = (np.min(conv_stats['min']),np.max(conv_stats['max']))\n",
    "        print(f\"Saved convergence stats to: {output_pkl}\")\n",
    "\n",
    "    return clim\n",
    "clim = GetCLim()"
   ]
  },
  {
   "cell_type": "code",
   "execution_count": null,
   "id": "b697a2a9-cd33-42bb-926f-22e7e05ad065",
   "metadata": {},
   "outputs": [],
   "source": [
    "#TESTING INDIVIDUAL PLOTS\n",
    "#########################\n",
    "#setting time\n",
    "t = 100 if ModelData.t_res == '5min' else 100 * 5\n",
    "# t+=20\n",
    "\n",
    "#getting z level\n",
    "zlev = int(np.abs(ModelData.zh - 350/1e3).argmin())\n",
    "\n",
    "#running\n",
    "RunTrackedPlot(t=t,zlev=zlev,\n",
    "               clim=clim,\n",
    "               SAVING=False,CLOSE=False)"
   ]
  },
  {
   "cell_type": "code",
   "execution_count": 71,
   "id": "5e9189a6-f71d-41a1-af6d-0a453e3e4808",
   "metadata": {
    "scrolled": true
   },
   "outputs": [
    {
     "name": "stderr",
     "output_type": "stream",
     "text": [
      "Processing timesteps:  33%|███▎      | 44/133 [01:23<02:51,  1.93s/it]"
     ]
    },
    {
     "name": "stdout",
     "output_type": "stream",
     "text": [
      "Loaded data from /mnt/lustre/koa/koastore/torri_group/air_directory/Projects/DCI-Project/Code/OUTPUT/Project_Algorithms/Tracking_Algorithms/1km_5min_34nz/Eulerian_CLTracking/Eulerian_CLTracking_1km_5min_34nz_3-40-00.h5 (2 variables)\n",
      "\n",
      "Saving figure to /mnt/lustre/koa/koastore/torri_group/air_directory/Projects/DCI-Project/Code/PLOTTING/Project_Algorithms/Tracking_Algorithms/1km_5min_34nz/Eulerian_CLTracking_3-40-00_1km_5min_1e6.jpg\n"
     ]
    },
    {
     "name": "stderr",
     "output_type": "stream",
     "text": [
      "Processing timesteps:  34%|███▍      | 45/133 [01:25<02:48,  1.91s/it]"
     ]
    },
    {
     "name": "stdout",
     "output_type": "stream",
     "text": [
      "Loaded data from /mnt/lustre/koa/koastore/torri_group/air_directory/Projects/DCI-Project/Code/OUTPUT/Project_Algorithms/Tracking_Algorithms/1km_5min_34nz/Eulerian_CLTracking/Eulerian_CLTracking_1km_5min_34nz_3-45-00.h5 (2 variables)\n",
      "\n",
      "Saving figure to /mnt/lustre/koa/koastore/torri_group/air_directory/Projects/DCI-Project/Code/PLOTTING/Project_Algorithms/Tracking_Algorithms/1km_5min_34nz/Eulerian_CLTracking_3-45-00_1km_5min_1e6.jpg\n"
     ]
    },
    {
     "name": "stderr",
     "output_type": "stream",
     "text": [
      "Processing timesteps:  35%|███▍      | 46/133 [01:27<02:47,  1.93s/it]"
     ]
    },
    {
     "name": "stdout",
     "output_type": "stream",
     "text": [
      "Loaded data from /mnt/lustre/koa/koastore/torri_group/air_directory/Projects/DCI-Project/Code/OUTPUT/Project_Algorithms/Tracking_Algorithms/1km_5min_34nz/Eulerian_CLTracking/Eulerian_CLTracking_1km_5min_34nz_3-50-00.h5 (2 variables)\n",
      "\n",
      "Saving figure to /mnt/lustre/koa/koastore/torri_group/air_directory/Projects/DCI-Project/Code/PLOTTING/Project_Algorithms/Tracking_Algorithms/1km_5min_34nz/Eulerian_CLTracking_3-50-00_1km_5min_1e6.jpg\n"
     ]
    },
    {
     "name": "stderr",
     "output_type": "stream",
     "text": [
      "Processing timesteps:  35%|███▌      | 47/133 [01:29<02:39,  1.86s/it]"
     ]
    },
    {
     "name": "stdout",
     "output_type": "stream",
     "text": [
      "Loaded data from /mnt/lustre/koa/koastore/torri_group/air_directory/Projects/DCI-Project/Code/OUTPUT/Project_Algorithms/Tracking_Algorithms/1km_5min_34nz/Eulerian_CLTracking/Eulerian_CLTracking_1km_5min_34nz_3-55-00.h5 (2 variables)\n",
      "\n",
      "Saving figure to /mnt/lustre/koa/koastore/torri_group/air_directory/Projects/DCI-Project/Code/PLOTTING/Project_Algorithms/Tracking_Algorithms/1km_5min_34nz/Eulerian_CLTracking_3-55-00_1km_5min_1e6.jpg\n"
     ]
    },
    {
     "name": "stderr",
     "output_type": "stream",
     "text": [
      "Processing timesteps:  36%|███▌      | 48/133 [01:30<02:33,  1.80s/it]"
     ]
    },
    {
     "name": "stdout",
     "output_type": "stream",
     "text": [
      "Loaded data from /mnt/lustre/koa/koastore/torri_group/air_directory/Projects/DCI-Project/Code/OUTPUT/Project_Algorithms/Tracking_Algorithms/1km_5min_34nz/Eulerian_CLTracking/Eulerian_CLTracking_1km_5min_34nz_4-00-00.h5 (2 variables)\n",
      "\n",
      "Saving figure to /mnt/lustre/koa/koastore/torri_group/air_directory/Projects/DCI-Project/Code/PLOTTING/Project_Algorithms/Tracking_Algorithms/1km_5min_34nz/Eulerian_CLTracking_4-00-00_1km_5min_1e6.jpg\n"
     ]
    },
    {
     "name": "stderr",
     "output_type": "stream",
     "text": [
      "Processing timesteps:  37%|███▋      | 49/133 [01:32<02:29,  1.78s/it]"
     ]
    },
    {
     "name": "stdout",
     "output_type": "stream",
     "text": [
      "Loaded data from /mnt/lustre/koa/koastore/torri_group/air_directory/Projects/DCI-Project/Code/OUTPUT/Project_Algorithms/Tracking_Algorithms/1km_5min_34nz/Eulerian_CLTracking/Eulerian_CLTracking_1km_5min_34nz_4-05-00.h5 (2 variables)\n",
      "\n",
      "Saving figure to /mnt/lustre/koa/koastore/torri_group/air_directory/Projects/DCI-Project/Code/PLOTTING/Project_Algorithms/Tracking_Algorithms/1km_5min_34nz/Eulerian_CLTracking_4-05-00_1km_5min_1e6.jpg\n"
     ]
    },
    {
     "name": "stderr",
     "output_type": "stream",
     "text": [
      "Processing timesteps:  38%|███▊      | 50/133 [01:34<02:25,  1.76s/it]"
     ]
    },
    {
     "name": "stdout",
     "output_type": "stream",
     "text": [
      "Loaded data from /mnt/lustre/koa/koastore/torri_group/air_directory/Projects/DCI-Project/Code/OUTPUT/Project_Algorithms/Tracking_Algorithms/1km_5min_34nz/Eulerian_CLTracking/Eulerian_CLTracking_1km_5min_34nz_4-10-00.h5 (2 variables)\n",
      "\n",
      "Saving figure to /mnt/lustre/koa/koastore/torri_group/air_directory/Projects/DCI-Project/Code/PLOTTING/Project_Algorithms/Tracking_Algorithms/1km_5min_34nz/Eulerian_CLTracking_4-10-00_1km_5min_1e6.jpg\n"
     ]
    },
    {
     "name": "stderr",
     "output_type": "stream",
     "text": [
      "Processing timesteps:  38%|███▊      | 51/133 [01:36<02:33,  1.87s/it]"
     ]
    },
    {
     "name": "stdout",
     "output_type": "stream",
     "text": [
      "Loaded data from /mnt/lustre/koa/koastore/torri_group/air_directory/Projects/DCI-Project/Code/OUTPUT/Project_Algorithms/Tracking_Algorithms/1km_5min_34nz/Eulerian_CLTracking/Eulerian_CLTracking_1km_5min_34nz_4-15-00.h5 (2 variables)\n",
      "\n",
      "Saving figure to /mnt/lustre/koa/koastore/torri_group/air_directory/Projects/DCI-Project/Code/PLOTTING/Project_Algorithms/Tracking_Algorithms/1km_5min_34nz/Eulerian_CLTracking_4-15-00_1km_5min_1e6.jpg\n"
     ]
    },
    {
     "name": "stderr",
     "output_type": "stream",
     "text": [
      "Processing timesteps:  39%|███▉      | 52/133 [01:38<02:33,  1.89s/it]"
     ]
    },
    {
     "name": "stdout",
     "output_type": "stream",
     "text": [
      "Loaded data from /mnt/lustre/koa/koastore/torri_group/air_directory/Projects/DCI-Project/Code/OUTPUT/Project_Algorithms/Tracking_Algorithms/1km_5min_34nz/Eulerian_CLTracking/Eulerian_CLTracking_1km_5min_34nz_4-20-00.h5 (2 variables)\n",
      "\n",
      "Saving figure to /mnt/lustre/koa/koastore/torri_group/air_directory/Projects/DCI-Project/Code/PLOTTING/Project_Algorithms/Tracking_Algorithms/1km_5min_34nz/Eulerian_CLTracking_4-20-00_1km_5min_1e6.jpg\n"
     ]
    },
    {
     "name": "stderr",
     "output_type": "stream",
     "text": [
      "Processing timesteps:  40%|███▉      | 53/133 [01:40<02:28,  1.86s/it]"
     ]
    },
    {
     "name": "stdout",
     "output_type": "stream",
     "text": [
      "Loaded data from /mnt/lustre/koa/koastore/torri_group/air_directory/Projects/DCI-Project/Code/OUTPUT/Project_Algorithms/Tracking_Algorithms/1km_5min_34nz/Eulerian_CLTracking/Eulerian_CLTracking_1km_5min_34nz_4-25-00.h5 (2 variables)\n",
      "\n",
      "Saving figure to /mnt/lustre/koa/koastore/torri_group/air_directory/Projects/DCI-Project/Code/PLOTTING/Project_Algorithms/Tracking_Algorithms/1km_5min_34nz/Eulerian_CLTracking_4-25-00_1km_5min_1e6.jpg\n"
     ]
    },
    {
     "name": "stderr",
     "output_type": "stream",
     "text": [
      "Processing timesteps:  41%|████      | 54/133 [01:41<02:27,  1.87s/it]"
     ]
    },
    {
     "name": "stdout",
     "output_type": "stream",
     "text": [
      "Loaded data from /mnt/lustre/koa/koastore/torri_group/air_directory/Projects/DCI-Project/Code/OUTPUT/Project_Algorithms/Tracking_Algorithms/1km_5min_34nz/Eulerian_CLTracking/Eulerian_CLTracking_1km_5min_34nz_4-30-00.h5 (2 variables)\n",
      "\n",
      "Saving figure to /mnt/lustre/koa/koastore/torri_group/air_directory/Projects/DCI-Project/Code/PLOTTING/Project_Algorithms/Tracking_Algorithms/1km_5min_34nz/Eulerian_CLTracking_4-30-00_1km_5min_1e6.jpg\n"
     ]
    },
    {
     "name": "stderr",
     "output_type": "stream",
     "text": [
      "Processing timesteps:  41%|████▏     | 55/133 [01:43<02:29,  1.91s/it]"
     ]
    },
    {
     "name": "stdout",
     "output_type": "stream",
     "text": [
      "Loaded data from /mnt/lustre/koa/koastore/torri_group/air_directory/Projects/DCI-Project/Code/OUTPUT/Project_Algorithms/Tracking_Algorithms/1km_5min_34nz/Eulerian_CLTracking/Eulerian_CLTracking_1km_5min_34nz_4-35-00.h5 (2 variables)\n",
      "\n",
      "Saving figure to /mnt/lustre/koa/koastore/torri_group/air_directory/Projects/DCI-Project/Code/PLOTTING/Project_Algorithms/Tracking_Algorithms/1km_5min_34nz/Eulerian_CLTracking_4-35-00_1km_5min_1e6.jpg\n"
     ]
    },
    {
     "name": "stderr",
     "output_type": "stream",
     "text": [
      "Processing timesteps:  42%|████▏     | 56/133 [01:45<02:28,  1.93s/it]"
     ]
    },
    {
     "name": "stdout",
     "output_type": "stream",
     "text": [
      "Loaded data from /mnt/lustre/koa/koastore/torri_group/air_directory/Projects/DCI-Project/Code/OUTPUT/Project_Algorithms/Tracking_Algorithms/1km_5min_34nz/Eulerian_CLTracking/Eulerian_CLTracking_1km_5min_34nz_4-40-00.h5 (2 variables)\n",
      "\n",
      "Saving figure to /mnt/lustre/koa/koastore/torri_group/air_directory/Projects/DCI-Project/Code/PLOTTING/Project_Algorithms/Tracking_Algorithms/1km_5min_34nz/Eulerian_CLTracking_4-40-00_1km_5min_1e6.jpg\n"
     ]
    },
    {
     "name": "stderr",
     "output_type": "stream",
     "text": [
      "Processing timesteps:  43%|████▎     | 57/133 [01:48<02:36,  2.06s/it]"
     ]
    },
    {
     "name": "stdout",
     "output_type": "stream",
     "text": [
      "Loaded data from /mnt/lustre/koa/koastore/torri_group/air_directory/Projects/DCI-Project/Code/OUTPUT/Project_Algorithms/Tracking_Algorithms/1km_5min_34nz/Eulerian_CLTracking/Eulerian_CLTracking_1km_5min_34nz_4-45-00.h5 (2 variables)\n",
      "\n",
      "Saving figure to /mnt/lustre/koa/koastore/torri_group/air_directory/Projects/DCI-Project/Code/PLOTTING/Project_Algorithms/Tracking_Algorithms/1km_5min_34nz/Eulerian_CLTracking_4-45-00_1km_5min_1e6.jpg\n"
     ]
    },
    {
     "name": "stderr",
     "output_type": "stream",
     "text": [
      "Processing timesteps:  44%|████▎     | 58/133 [01:50<02:46,  2.22s/it]"
     ]
    },
    {
     "name": "stdout",
     "output_type": "stream",
     "text": [
      "Loaded data from /mnt/lustre/koa/koastore/torri_group/air_directory/Projects/DCI-Project/Code/OUTPUT/Project_Algorithms/Tracking_Algorithms/1km_5min_34nz/Eulerian_CLTracking/Eulerian_CLTracking_1km_5min_34nz_4-50-00.h5 (2 variables)\n",
      "\n",
      "Saving figure to /mnt/lustre/koa/koastore/torri_group/air_directory/Projects/DCI-Project/Code/PLOTTING/Project_Algorithms/Tracking_Algorithms/1km_5min_34nz/Eulerian_CLTracking_4-50-00_1km_5min_1e6.jpg\n"
     ]
    },
    {
     "name": "stderr",
     "output_type": "stream",
     "text": [
      "Processing timesteps:  44%|████▍     | 59/133 [01:53<02:42,  2.20s/it]"
     ]
    },
    {
     "name": "stdout",
     "output_type": "stream",
     "text": [
      "Loaded data from /mnt/lustre/koa/koastore/torri_group/air_directory/Projects/DCI-Project/Code/OUTPUT/Project_Algorithms/Tracking_Algorithms/1km_5min_34nz/Eulerian_CLTracking/Eulerian_CLTracking_1km_5min_34nz_4-55-00.h5 (2 variables)\n",
      "\n",
      "Saving figure to /mnt/lustre/koa/koastore/torri_group/air_directory/Projects/DCI-Project/Code/PLOTTING/Project_Algorithms/Tracking_Algorithms/1km_5min_34nz/Eulerian_CLTracking_4-55-00_1km_5min_1e6.jpg\n"
     ]
    },
    {
     "name": "stderr",
     "output_type": "stream",
     "text": [
      "Processing timesteps:  45%|████▌     | 60/133 [01:55<02:38,  2.18s/it]"
     ]
    },
    {
     "name": "stdout",
     "output_type": "stream",
     "text": [
      "Loaded data from /mnt/lustre/koa/koastore/torri_group/air_directory/Projects/DCI-Project/Code/OUTPUT/Project_Algorithms/Tracking_Algorithms/1km_5min_34nz/Eulerian_CLTracking/Eulerian_CLTracking_1km_5min_34nz_5-00-00.h5 (2 variables)\n",
      "\n",
      "Saving figure to /mnt/lustre/koa/koastore/torri_group/air_directory/Projects/DCI-Project/Code/PLOTTING/Project_Algorithms/Tracking_Algorithms/1km_5min_34nz/Eulerian_CLTracking_5-00-00_1km_5min_1e6.jpg\n"
     ]
    },
    {
     "name": "stderr",
     "output_type": "stream",
     "text": [
      "Processing timesteps:  46%|████▌     | 61/133 [01:57<02:36,  2.18s/it]"
     ]
    },
    {
     "name": "stdout",
     "output_type": "stream",
     "text": [
      "Loaded data from /mnt/lustre/koa/koastore/torri_group/air_directory/Projects/DCI-Project/Code/OUTPUT/Project_Algorithms/Tracking_Algorithms/1km_5min_34nz/Eulerian_CLTracking/Eulerian_CLTracking_1km_5min_34nz_5-05-00.h5 (2 variables)\n",
      "\n",
      "Saving figure to /mnt/lustre/koa/koastore/torri_group/air_directory/Projects/DCI-Project/Code/PLOTTING/Project_Algorithms/Tracking_Algorithms/1km_5min_34nz/Eulerian_CLTracking_5-05-00_1km_5min_1e6.jpg\n"
     ]
    },
    {
     "name": "stderr",
     "output_type": "stream",
     "text": [
      "Processing timesteps:  47%|████▋     | 62/133 [01:59<02:36,  2.20s/it]"
     ]
    },
    {
     "name": "stdout",
     "output_type": "stream",
     "text": [
      "Loaded data from /mnt/lustre/koa/koastore/torri_group/air_directory/Projects/DCI-Project/Code/OUTPUT/Project_Algorithms/Tracking_Algorithms/1km_5min_34nz/Eulerian_CLTracking/Eulerian_CLTracking_1km_5min_34nz_5-10-00.h5 (2 variables)\n",
      "\n",
      "Saving figure to /mnt/lustre/koa/koastore/torri_group/air_directory/Projects/DCI-Project/Code/PLOTTING/Project_Algorithms/Tracking_Algorithms/1km_5min_34nz/Eulerian_CLTracking_5-10-00_1km_5min_1e6.jpg\n"
     ]
    },
    {
     "name": "stderr",
     "output_type": "stream",
     "text": [
      "Processing timesteps:  47%|████▋     | 63/133 [02:01<02:30,  2.15s/it]"
     ]
    },
    {
     "name": "stdout",
     "output_type": "stream",
     "text": [
      "Loaded data from /mnt/lustre/koa/koastore/torri_group/air_directory/Projects/DCI-Project/Code/OUTPUT/Project_Algorithms/Tracking_Algorithms/1km_5min_34nz/Eulerian_CLTracking/Eulerian_CLTracking_1km_5min_34nz_5-15-00.h5 (2 variables)\n",
      "\n",
      "Saving figure to /mnt/lustre/koa/koastore/torri_group/air_directory/Projects/DCI-Project/Code/PLOTTING/Project_Algorithms/Tracking_Algorithms/1km_5min_34nz/Eulerian_CLTracking_5-15-00_1km_5min_1e6.jpg\n"
     ]
    },
    {
     "name": "stderr",
     "output_type": "stream",
     "text": [
      "Processing timesteps:  48%|████▊     | 64/133 [02:03<02:25,  2.11s/it]"
     ]
    },
    {
     "name": "stdout",
     "output_type": "stream",
     "text": [
      "Loaded data from /mnt/lustre/koa/koastore/torri_group/air_directory/Projects/DCI-Project/Code/OUTPUT/Project_Algorithms/Tracking_Algorithms/1km_5min_34nz/Eulerian_CLTracking/Eulerian_CLTracking_1km_5min_34nz_5-20-00.h5 (2 variables)\n",
      "\n",
      "Saving figure to /mnt/lustre/koa/koastore/torri_group/air_directory/Projects/DCI-Project/Code/PLOTTING/Project_Algorithms/Tracking_Algorithms/1km_5min_34nz/Eulerian_CLTracking_5-20-00_1km_5min_1e6.jpg\n"
     ]
    },
    {
     "name": "stderr",
     "output_type": "stream",
     "text": [
      "Processing timesteps:  49%|████▉     | 65/133 [02:06<02:30,  2.22s/it]"
     ]
    },
    {
     "name": "stdout",
     "output_type": "stream",
     "text": [
      "Loaded data from /mnt/lustre/koa/koastore/torri_group/air_directory/Projects/DCI-Project/Code/OUTPUT/Project_Algorithms/Tracking_Algorithms/1km_5min_34nz/Eulerian_CLTracking/Eulerian_CLTracking_1km_5min_34nz_5-25-00.h5 (2 variables)\n",
      "\n",
      "Saving figure to /mnt/lustre/koa/koastore/torri_group/air_directory/Projects/DCI-Project/Code/PLOTTING/Project_Algorithms/Tracking_Algorithms/1km_5min_34nz/Eulerian_CLTracking_5-25-00_1km_5min_1e6.jpg\n"
     ]
    },
    {
     "name": "stderr",
     "output_type": "stream",
     "text": [
      "Processing timesteps:  50%|████▉     | 66/133 [02:08<02:26,  2.18s/it]"
     ]
    },
    {
     "name": "stdout",
     "output_type": "stream",
     "text": [
      "Loaded data from /mnt/lustre/koa/koastore/torri_group/air_directory/Projects/DCI-Project/Code/OUTPUT/Project_Algorithms/Tracking_Algorithms/1km_5min_34nz/Eulerian_CLTracking/Eulerian_CLTracking_1km_5min_34nz_5-30-00.h5 (2 variables)\n",
      "\n",
      "Saving figure to /mnt/lustre/koa/koastore/torri_group/air_directory/Projects/DCI-Project/Code/PLOTTING/Project_Algorithms/Tracking_Algorithms/1km_5min_34nz/Eulerian_CLTracking_5-30-00_1km_5min_1e6.jpg\n"
     ]
    },
    {
     "name": "stderr",
     "output_type": "stream",
     "text": [
      "Processing timesteps:  50%|█████     | 67/133 [02:10<02:21,  2.14s/it]"
     ]
    },
    {
     "name": "stdout",
     "output_type": "stream",
     "text": [
      "Loaded data from /mnt/lustre/koa/koastore/torri_group/air_directory/Projects/DCI-Project/Code/OUTPUT/Project_Algorithms/Tracking_Algorithms/1km_5min_34nz/Eulerian_CLTracking/Eulerian_CLTracking_1km_5min_34nz_5-35-00.h5 (2 variables)\n",
      "\n",
      "Saving figure to /mnt/lustre/koa/koastore/torri_group/air_directory/Projects/DCI-Project/Code/PLOTTING/Project_Algorithms/Tracking_Algorithms/1km_5min_34nz/Eulerian_CLTracking_5-35-00_1km_5min_1e6.jpg\n"
     ]
    },
    {
     "name": "stderr",
     "output_type": "stream",
     "text": [
      "Processing timesteps:  51%|█████     | 68/133 [02:12<02:16,  2.10s/it]"
     ]
    },
    {
     "name": "stdout",
     "output_type": "stream",
     "text": [
      "Loaded data from /mnt/lustre/koa/koastore/torri_group/air_directory/Projects/DCI-Project/Code/OUTPUT/Project_Algorithms/Tracking_Algorithms/1km_5min_34nz/Eulerian_CLTracking/Eulerian_CLTracking_1km_5min_34nz_5-40-00.h5 (2 variables)\n",
      "\n",
      "Saving figure to /mnt/lustre/koa/koastore/torri_group/air_directory/Projects/DCI-Project/Code/PLOTTING/Project_Algorithms/Tracking_Algorithms/1km_5min_34nz/Eulerian_CLTracking_5-40-00_1km_5min_1e6.jpg\n"
     ]
    },
    {
     "name": "stderr",
     "output_type": "stream",
     "text": [
      "Processing timesteps:  52%|█████▏    | 69/133 [02:14<02:11,  2.06s/it]"
     ]
    },
    {
     "name": "stdout",
     "output_type": "stream",
     "text": [
      "Loaded data from /mnt/lustre/koa/koastore/torri_group/air_directory/Projects/DCI-Project/Code/OUTPUT/Project_Algorithms/Tracking_Algorithms/1km_5min_34nz/Eulerian_CLTracking/Eulerian_CLTracking_1km_5min_34nz_5-45-00.h5 (2 variables)\n",
      "\n",
      "Saving figure to /mnt/lustre/koa/koastore/torri_group/air_directory/Projects/DCI-Project/Code/PLOTTING/Project_Algorithms/Tracking_Algorithms/1km_5min_34nz/Eulerian_CLTracking_5-45-00_1km_5min_1e6.jpg\n"
     ]
    },
    {
     "name": "stderr",
     "output_type": "stream",
     "text": [
      "Processing timesteps:  53%|█████▎    | 70/133 [02:16<02:07,  2.03s/it]"
     ]
    },
    {
     "name": "stdout",
     "output_type": "stream",
     "text": [
      "Loaded data from /mnt/lustre/koa/koastore/torri_group/air_directory/Projects/DCI-Project/Code/OUTPUT/Project_Algorithms/Tracking_Algorithms/1km_5min_34nz/Eulerian_CLTracking/Eulerian_CLTracking_1km_5min_34nz_5-50-00.h5 (2 variables)\n",
      "\n",
      "Saving figure to /mnt/lustre/koa/koastore/torri_group/air_directory/Projects/DCI-Project/Code/PLOTTING/Project_Algorithms/Tracking_Algorithms/1km_5min_34nz/Eulerian_CLTracking_5-50-00_1km_5min_1e6.jpg\n"
     ]
    },
    {
     "name": "stderr",
     "output_type": "stream",
     "text": [
      "Processing timesteps:  53%|█████▎    | 71/133 [02:18<02:04,  2.01s/it]"
     ]
    },
    {
     "name": "stdout",
     "output_type": "stream",
     "text": [
      "Loaded data from /mnt/lustre/koa/koastore/torri_group/air_directory/Projects/DCI-Project/Code/OUTPUT/Project_Algorithms/Tracking_Algorithms/1km_5min_34nz/Eulerian_CLTracking/Eulerian_CLTracking_1km_5min_34nz_5-55-00.h5 (2 variables)\n",
      "\n",
      "Saving figure to /mnt/lustre/koa/koastore/torri_group/air_directory/Projects/DCI-Project/Code/PLOTTING/Project_Algorithms/Tracking_Algorithms/1km_5min_34nz/Eulerian_CLTracking_5-55-00_1km_5min_1e6.jpg\n"
     ]
    },
    {
     "name": "stderr",
     "output_type": "stream",
     "text": [
      "Processing timesteps:  54%|█████▍    | 72/133 [02:20<02:11,  2.15s/it]"
     ]
    },
    {
     "name": "stdout",
     "output_type": "stream",
     "text": [
      "Loaded data from /mnt/lustre/koa/koastore/torri_group/air_directory/Projects/DCI-Project/Code/OUTPUT/Project_Algorithms/Tracking_Algorithms/1km_5min_34nz/Eulerian_CLTracking/Eulerian_CLTracking_1km_5min_34nz_6-00-00.h5 (2 variables)\n",
      "\n",
      "Saving figure to /mnt/lustre/koa/koastore/torri_group/air_directory/Projects/DCI-Project/Code/PLOTTING/Project_Algorithms/Tracking_Algorithms/1km_5min_34nz/Eulerian_CLTracking_6-00-00_1km_5min_1e6.jpg\n"
     ]
    },
    {
     "name": "stderr",
     "output_type": "stream",
     "text": [
      "Processing timesteps:  55%|█████▍    | 73/133 [02:22<02:05,  2.09s/it]"
     ]
    },
    {
     "name": "stdout",
     "output_type": "stream",
     "text": [
      "Loaded data from /mnt/lustre/koa/koastore/torri_group/air_directory/Projects/DCI-Project/Code/OUTPUT/Project_Algorithms/Tracking_Algorithms/1km_5min_34nz/Eulerian_CLTracking/Eulerian_CLTracking_1km_5min_34nz_6-05-00.h5 (2 variables)\n",
      "\n",
      "Saving figure to /mnt/lustre/koa/koastore/torri_group/air_directory/Projects/DCI-Project/Code/PLOTTING/Project_Algorithms/Tracking_Algorithms/1km_5min_34nz/Eulerian_CLTracking_6-05-00_1km_5min_1e6.jpg\n"
     ]
    },
    {
     "name": "stderr",
     "output_type": "stream",
     "text": [
      "Processing timesteps:  56%|█████▌    | 74/133 [02:24<02:01,  2.05s/it]"
     ]
    },
    {
     "name": "stdout",
     "output_type": "stream",
     "text": [
      "Loaded data from /mnt/lustre/koa/koastore/torri_group/air_directory/Projects/DCI-Project/Code/OUTPUT/Project_Algorithms/Tracking_Algorithms/1km_5min_34nz/Eulerian_CLTracking/Eulerian_CLTracking_1km_5min_34nz_6-10-00.h5 (2 variables)\n",
      "\n",
      "Saving figure to /mnt/lustre/koa/koastore/torri_group/air_directory/Projects/DCI-Project/Code/PLOTTING/Project_Algorithms/Tracking_Algorithms/1km_5min_34nz/Eulerian_CLTracking_6-10-00_1km_5min_1e6.jpg\n"
     ]
    },
    {
     "name": "stderr",
     "output_type": "stream",
     "text": [
      "Processing timesteps:  56%|█████▋    | 75/133 [02:26<01:57,  2.03s/it]"
     ]
    },
    {
     "name": "stdout",
     "output_type": "stream",
     "text": [
      "Loaded data from /mnt/lustre/koa/koastore/torri_group/air_directory/Projects/DCI-Project/Code/OUTPUT/Project_Algorithms/Tracking_Algorithms/1km_5min_34nz/Eulerian_CLTracking/Eulerian_CLTracking_1km_5min_34nz_6-15-00.h5 (2 variables)\n",
      "\n",
      "Saving figure to /mnt/lustre/koa/koastore/torri_group/air_directory/Projects/DCI-Project/Code/PLOTTING/Project_Algorithms/Tracking_Algorithms/1km_5min_34nz/Eulerian_CLTracking_6-15-00_1km_5min_1e6.jpg\n"
     ]
    },
    {
     "name": "stderr",
     "output_type": "stream",
     "text": [
      "Processing timesteps:  57%|█████▋    | 76/133 [02:28<01:55,  2.02s/it]"
     ]
    },
    {
     "name": "stdout",
     "output_type": "stream",
     "text": [
      "Loaded data from /mnt/lustre/koa/koastore/torri_group/air_directory/Projects/DCI-Project/Code/OUTPUT/Project_Algorithms/Tracking_Algorithms/1km_5min_34nz/Eulerian_CLTracking/Eulerian_CLTracking_1km_5min_34nz_6-20-00.h5 (2 variables)\n",
      "\n",
      "Saving figure to /mnt/lustre/koa/koastore/torri_group/air_directory/Projects/DCI-Project/Code/PLOTTING/Project_Algorithms/Tracking_Algorithms/1km_5min_34nz/Eulerian_CLTracking_6-20-00_1km_5min_1e6.jpg\n"
     ]
    },
    {
     "name": "stderr",
     "output_type": "stream",
     "text": [
      "Processing timesteps:  58%|█████▊    | 77/133 [02:30<01:55,  2.07s/it]"
     ]
    },
    {
     "name": "stdout",
     "output_type": "stream",
     "text": [
      "Loaded data from /mnt/lustre/koa/koastore/torri_group/air_directory/Projects/DCI-Project/Code/OUTPUT/Project_Algorithms/Tracking_Algorithms/1km_5min_34nz/Eulerian_CLTracking/Eulerian_CLTracking_1km_5min_34nz_6-25-00.h5 (2 variables)\n",
      "\n",
      "Saving figure to /mnt/lustre/koa/koastore/torri_group/air_directory/Projects/DCI-Project/Code/PLOTTING/Project_Algorithms/Tracking_Algorithms/1km_5min_34nz/Eulerian_CLTracking_6-25-00_1km_5min_1e6.jpg\n"
     ]
    },
    {
     "name": "stderr",
     "output_type": "stream",
     "text": [
      "Processing timesteps:  59%|█████▊    | 78/133 [02:32<01:52,  2.04s/it]"
     ]
    },
    {
     "name": "stdout",
     "output_type": "stream",
     "text": [
      "Loaded data from /mnt/lustre/koa/koastore/torri_group/air_directory/Projects/DCI-Project/Code/OUTPUT/Project_Algorithms/Tracking_Algorithms/1km_5min_34nz/Eulerian_CLTracking/Eulerian_CLTracking_1km_5min_34nz_6-30-00.h5 (2 variables)\n",
      "\n",
      "Saving figure to /mnt/lustre/koa/koastore/torri_group/air_directory/Projects/DCI-Project/Code/PLOTTING/Project_Algorithms/Tracking_Algorithms/1km_5min_34nz/Eulerian_CLTracking_6-30-00_1km_5min_1e6.jpg\n"
     ]
    },
    {
     "name": "stderr",
     "output_type": "stream",
     "text": [
      "Processing timesteps:  59%|█████▉    | 79/133 [02:34<01:49,  2.03s/it]"
     ]
    },
    {
     "name": "stdout",
     "output_type": "stream",
     "text": [
      "Loaded data from /mnt/lustre/koa/koastore/torri_group/air_directory/Projects/DCI-Project/Code/OUTPUT/Project_Algorithms/Tracking_Algorithms/1km_5min_34nz/Eulerian_CLTracking/Eulerian_CLTracking_1km_5min_34nz_6-35-00.h5 (2 variables)\n",
      "\n",
      "Saving figure to /mnt/lustre/koa/koastore/torri_group/air_directory/Projects/DCI-Project/Code/PLOTTING/Project_Algorithms/Tracking_Algorithms/1km_5min_34nz/Eulerian_CLTracking_6-35-00_1km_5min_1e6.jpg\n"
     ]
    },
    {
     "name": "stderr",
     "output_type": "stream",
     "text": [
      "Processing timesteps:  60%|██████    | 80/133 [02:36<01:51,  2.11s/it]"
     ]
    },
    {
     "name": "stdout",
     "output_type": "stream",
     "text": [
      "Loaded data from /mnt/lustre/koa/koastore/torri_group/air_directory/Projects/DCI-Project/Code/OUTPUT/Project_Algorithms/Tracking_Algorithms/1km_5min_34nz/Eulerian_CLTracking/Eulerian_CLTracking_1km_5min_34nz_6-40-00.h5 (2 variables)\n",
      "\n",
      "Saving figure to /mnt/lustre/koa/koastore/torri_group/air_directory/Projects/DCI-Project/Code/PLOTTING/Project_Algorithms/Tracking_Algorithms/1km_5min_34nz/Eulerian_CLTracking_6-40-00_1km_5min_1e6.jpg\n"
     ]
    },
    {
     "name": "stderr",
     "output_type": "stream",
     "text": [
      "Processing timesteps:  61%|██████    | 81/133 [02:38<01:47,  2.07s/it]"
     ]
    },
    {
     "name": "stdout",
     "output_type": "stream",
     "text": [
      "Loaded data from /mnt/lustre/koa/koastore/torri_group/air_directory/Projects/DCI-Project/Code/OUTPUT/Project_Algorithms/Tracking_Algorithms/1km_5min_34nz/Eulerian_CLTracking/Eulerian_CLTracking_1km_5min_34nz_6-45-00.h5 (2 variables)\n",
      "\n",
      "Saving figure to /mnt/lustre/koa/koastore/torri_group/air_directory/Projects/DCI-Project/Code/PLOTTING/Project_Algorithms/Tracking_Algorithms/1km_5min_34nz/Eulerian_CLTracking_6-45-00_1km_5min_1e6.jpg\n"
     ]
    },
    {
     "name": "stderr",
     "output_type": "stream",
     "text": [
      "Processing timesteps:  62%|██████▏   | 82/133 [02:41<01:46,  2.10s/it]"
     ]
    },
    {
     "name": "stdout",
     "output_type": "stream",
     "text": [
      "Loaded data from /mnt/lustre/koa/koastore/torri_group/air_directory/Projects/DCI-Project/Code/OUTPUT/Project_Algorithms/Tracking_Algorithms/1km_5min_34nz/Eulerian_CLTracking/Eulerian_CLTracking_1km_5min_34nz_6-50-00.h5 (2 variables)\n",
      "\n",
      "Saving figure to /mnt/lustre/koa/koastore/torri_group/air_directory/Projects/DCI-Project/Code/PLOTTING/Project_Algorithms/Tracking_Algorithms/1km_5min_34nz/Eulerian_CLTracking_6-50-00_1km_5min_1e6.jpg\n"
     ]
    },
    {
     "name": "stderr",
     "output_type": "stream",
     "text": [
      "Processing timesteps:  62%|██████▏   | 83/133 [02:43<01:42,  2.05s/it]"
     ]
    },
    {
     "name": "stdout",
     "output_type": "stream",
     "text": [
      "Loaded data from /mnt/lustre/koa/koastore/torri_group/air_directory/Projects/DCI-Project/Code/OUTPUT/Project_Algorithms/Tracking_Algorithms/1km_5min_34nz/Eulerian_CLTracking/Eulerian_CLTracking_1km_5min_34nz_6-55-00.h5 (2 variables)\n",
      "\n",
      "Saving figure to /mnt/lustre/koa/koastore/torri_group/air_directory/Projects/DCI-Project/Code/PLOTTING/Project_Algorithms/Tracking_Algorithms/1km_5min_34nz/Eulerian_CLTracking_6-55-00_1km_5min_1e6.jpg\n"
     ]
    },
    {
     "name": "stderr",
     "output_type": "stream",
     "text": [
      "Processing timesteps:  63%|██████▎   | 84/133 [02:45<01:39,  2.03s/it]"
     ]
    },
    {
     "name": "stdout",
     "output_type": "stream",
     "text": [
      "Loaded data from /mnt/lustre/koa/koastore/torri_group/air_directory/Projects/DCI-Project/Code/OUTPUT/Project_Algorithms/Tracking_Algorithms/1km_5min_34nz/Eulerian_CLTracking/Eulerian_CLTracking_1km_5min_34nz_7-00-00.h5 (2 variables)\n",
      "\n",
      "Saving figure to /mnt/lustre/koa/koastore/torri_group/air_directory/Projects/DCI-Project/Code/PLOTTING/Project_Algorithms/Tracking_Algorithms/1km_5min_34nz/Eulerian_CLTracking_7-00-00_1km_5min_1e6.jpg\n"
     ]
    },
    {
     "name": "stderr",
     "output_type": "stream",
     "text": [
      "Processing timesteps:  64%|██████▍   | 85/133 [02:46<01:36,  2.01s/it]"
     ]
    },
    {
     "name": "stdout",
     "output_type": "stream",
     "text": [
      "Loaded data from /mnt/lustre/koa/koastore/torri_group/air_directory/Projects/DCI-Project/Code/OUTPUT/Project_Algorithms/Tracking_Algorithms/1km_5min_34nz/Eulerian_CLTracking/Eulerian_CLTracking_1km_5min_34nz_7-05-00.h5 (2 variables)\n",
      "\n",
      "Saving figure to /mnt/lustre/koa/koastore/torri_group/air_directory/Projects/DCI-Project/Code/PLOTTING/Project_Algorithms/Tracking_Algorithms/1km_5min_34nz/Eulerian_CLTracking_7-05-00_1km_5min_1e6.jpg\n"
     ]
    },
    {
     "name": "stderr",
     "output_type": "stream",
     "text": [
      "Processing timesteps:  65%|██████▍   | 86/133 [02:48<01:34,  2.00s/it]"
     ]
    },
    {
     "name": "stdout",
     "output_type": "stream",
     "text": [
      "Loaded data from /mnt/lustre/koa/koastore/torri_group/air_directory/Projects/DCI-Project/Code/OUTPUT/Project_Algorithms/Tracking_Algorithms/1km_5min_34nz/Eulerian_CLTracking/Eulerian_CLTracking_1km_5min_34nz_7-10-00.h5 (2 variables)\n",
      "\n",
      "Saving figure to /mnt/lustre/koa/koastore/torri_group/air_directory/Projects/DCI-Project/Code/PLOTTING/Project_Algorithms/Tracking_Algorithms/1km_5min_34nz/Eulerian_CLTracking_7-10-00_1km_5min_1e6.jpg\n"
     ]
    },
    {
     "name": "stderr",
     "output_type": "stream",
     "text": [
      "Processing timesteps:  65%|██████▌   | 87/133 [02:51<01:38,  2.14s/it]"
     ]
    },
    {
     "name": "stdout",
     "output_type": "stream",
     "text": [
      "Loaded data from /mnt/lustre/koa/koastore/torri_group/air_directory/Projects/DCI-Project/Code/OUTPUT/Project_Algorithms/Tracking_Algorithms/1km_5min_34nz/Eulerian_CLTracking/Eulerian_CLTracking_1km_5min_34nz_7-15-00.h5 (2 variables)\n",
      "\n",
      "Saving figure to /mnt/lustre/koa/koastore/torri_group/air_directory/Projects/DCI-Project/Code/PLOTTING/Project_Algorithms/Tracking_Algorithms/1km_5min_34nz/Eulerian_CLTracking_7-15-00_1km_5min_1e6.jpg\n"
     ]
    },
    {
     "name": "stderr",
     "output_type": "stream",
     "text": [
      "Processing timesteps:  66%|██████▌   | 88/133 [02:53<01:33,  2.08s/it]"
     ]
    },
    {
     "name": "stdout",
     "output_type": "stream",
     "text": [
      "Loaded data from /mnt/lustre/koa/koastore/torri_group/air_directory/Projects/DCI-Project/Code/OUTPUT/Project_Algorithms/Tracking_Algorithms/1km_5min_34nz/Eulerian_CLTracking/Eulerian_CLTracking_1km_5min_34nz_7-20-00.h5 (2 variables)\n",
      "\n",
      "Saving figure to /mnt/lustre/koa/koastore/torri_group/air_directory/Projects/DCI-Project/Code/PLOTTING/Project_Algorithms/Tracking_Algorithms/1km_5min_34nz/Eulerian_CLTracking_7-20-00_1km_5min_1e6.jpg\n"
     ]
    },
    {
     "name": "stderr",
     "output_type": "stream",
     "text": [
      "Processing timesteps:  67%|██████▋   | 89/133 [02:55<01:30,  2.05s/it]"
     ]
    },
    {
     "name": "stdout",
     "output_type": "stream",
     "text": [
      "Loaded data from /mnt/lustre/koa/koastore/torri_group/air_directory/Projects/DCI-Project/Code/OUTPUT/Project_Algorithms/Tracking_Algorithms/1km_5min_34nz/Eulerian_CLTracking/Eulerian_CLTracking_1km_5min_34nz_7-25-00.h5 (2 variables)\n",
      "\n",
      "Saving figure to /mnt/lustre/koa/koastore/torri_group/air_directory/Projects/DCI-Project/Code/PLOTTING/Project_Algorithms/Tracking_Algorithms/1km_5min_34nz/Eulerian_CLTracking_7-25-00_1km_5min_1e6.jpg\n"
     ]
    },
    {
     "name": "stderr",
     "output_type": "stream",
     "text": [
      "Processing timesteps:  68%|██████▊   | 90/133 [02:57<01:27,  2.04s/it]"
     ]
    },
    {
     "name": "stdout",
     "output_type": "stream",
     "text": [
      "Loaded data from /mnt/lustre/koa/koastore/torri_group/air_directory/Projects/DCI-Project/Code/OUTPUT/Project_Algorithms/Tracking_Algorithms/1km_5min_34nz/Eulerian_CLTracking/Eulerian_CLTracking_1km_5min_34nz_7-30-00.h5 (2 variables)\n",
      "\n",
      "Saving figure to /mnt/lustre/koa/koastore/torri_group/air_directory/Projects/DCI-Project/Code/PLOTTING/Project_Algorithms/Tracking_Algorithms/1km_5min_34nz/Eulerian_CLTracking_7-30-00_1km_5min_1e6.jpg\n"
     ]
    },
    {
     "name": "stderr",
     "output_type": "stream",
     "text": [
      "Processing timesteps:  68%|██████▊   | 91/133 [02:59<01:24,  2.01s/it]"
     ]
    },
    {
     "name": "stdout",
     "output_type": "stream",
     "text": [
      "Loaded data from /mnt/lustre/koa/koastore/torri_group/air_directory/Projects/DCI-Project/Code/OUTPUT/Project_Algorithms/Tracking_Algorithms/1km_5min_34nz/Eulerian_CLTracking/Eulerian_CLTracking_1km_5min_34nz_7-35-00.h5 (2 variables)\n",
      "\n",
      "Saving figure to /mnt/lustre/koa/koastore/torri_group/air_directory/Projects/DCI-Project/Code/PLOTTING/Project_Algorithms/Tracking_Algorithms/1km_5min_34nz/Eulerian_CLTracking_7-35-00_1km_5min_1e6.jpg\n"
     ]
    },
    {
     "name": "stderr",
     "output_type": "stream",
     "text": [
      "Processing timesteps:  69%|██████▉   | 92/133 [03:01<01:24,  2.06s/it]"
     ]
    },
    {
     "name": "stdout",
     "output_type": "stream",
     "text": [
      "Loaded data from /mnt/lustre/koa/koastore/torri_group/air_directory/Projects/DCI-Project/Code/OUTPUT/Project_Algorithms/Tracking_Algorithms/1km_5min_34nz/Eulerian_CLTracking/Eulerian_CLTracking_1km_5min_34nz_7-40-00.h5 (2 variables)\n",
      "\n",
      "Saving figure to /mnt/lustre/koa/koastore/torri_group/air_directory/Projects/DCI-Project/Code/PLOTTING/Project_Algorithms/Tracking_Algorithms/1km_5min_34nz/Eulerian_CLTracking_7-40-00_1km_5min_1e6.jpg\n"
     ]
    },
    {
     "name": "stderr",
     "output_type": "stream",
     "text": [
      "Processing timesteps:  70%|██████▉   | 93/133 [03:03<01:21,  2.03s/it]"
     ]
    },
    {
     "name": "stdout",
     "output_type": "stream",
     "text": [
      "Loaded data from /mnt/lustre/koa/koastore/torri_group/air_directory/Projects/DCI-Project/Code/OUTPUT/Project_Algorithms/Tracking_Algorithms/1km_5min_34nz/Eulerian_CLTracking/Eulerian_CLTracking_1km_5min_34nz_7-45-00.h5 (2 variables)\n",
      "\n",
      "Saving figure to /mnt/lustre/koa/koastore/torri_group/air_directory/Projects/DCI-Project/Code/PLOTTING/Project_Algorithms/Tracking_Algorithms/1km_5min_34nz/Eulerian_CLTracking_7-45-00_1km_5min_1e6.jpg\n"
     ]
    },
    {
     "name": "stderr",
     "output_type": "stream",
     "text": [
      "Processing timesteps:  71%|███████   | 94/133 [03:05<01:21,  2.09s/it]"
     ]
    },
    {
     "name": "stdout",
     "output_type": "stream",
     "text": [
      "Loaded data from /mnt/lustre/koa/koastore/torri_group/air_directory/Projects/DCI-Project/Code/OUTPUT/Project_Algorithms/Tracking_Algorithms/1km_5min_34nz/Eulerian_CLTracking/Eulerian_CLTracking_1km_5min_34nz_7-50-00.h5 (2 variables)\n",
      "\n",
      "Saving figure to /mnt/lustre/koa/koastore/torri_group/air_directory/Projects/DCI-Project/Code/PLOTTING/Project_Algorithms/Tracking_Algorithms/1km_5min_34nz/Eulerian_CLTracking_7-50-00_1km_5min_1e6.jpg\n"
     ]
    },
    {
     "name": "stderr",
     "output_type": "stream",
     "text": [
      "Processing timesteps:  71%|███████▏  | 95/133 [03:07<01:17,  2.04s/it]"
     ]
    },
    {
     "name": "stdout",
     "output_type": "stream",
     "text": [
      "Loaded data from /mnt/lustre/koa/koastore/torri_group/air_directory/Projects/DCI-Project/Code/OUTPUT/Project_Algorithms/Tracking_Algorithms/1km_5min_34nz/Eulerian_CLTracking/Eulerian_CLTracking_1km_5min_34nz_7-55-00.h5 (2 variables)\n",
      "\n",
      "Saving figure to /mnt/lustre/koa/koastore/torri_group/air_directory/Projects/DCI-Project/Code/PLOTTING/Project_Algorithms/Tracking_Algorithms/1km_5min_34nz/Eulerian_CLTracking_7-55-00_1km_5min_1e6.jpg\n"
     ]
    },
    {
     "name": "stderr",
     "output_type": "stream",
     "text": [
      "Processing timesteps:  72%|███████▏  | 96/133 [03:09<01:14,  2.02s/it]"
     ]
    },
    {
     "name": "stdout",
     "output_type": "stream",
     "text": [
      "Loaded data from /mnt/lustre/koa/koastore/torri_group/air_directory/Projects/DCI-Project/Code/OUTPUT/Project_Algorithms/Tracking_Algorithms/1km_5min_34nz/Eulerian_CLTracking/Eulerian_CLTracking_1km_5min_34nz_8-00-00.h5 (2 variables)\n",
      "\n",
      "Saving figure to /mnt/lustre/koa/koastore/torri_group/air_directory/Projects/DCI-Project/Code/PLOTTING/Project_Algorithms/Tracking_Algorithms/1km_5min_34nz/Eulerian_CLTracking_8-00-00_1km_5min_1e6.jpg\n"
     ]
    },
    {
     "name": "stderr",
     "output_type": "stream",
     "text": [
      "Processing timesteps:  73%|███████▎  | 97/133 [03:11<01:12,  2.01s/it]"
     ]
    },
    {
     "name": "stdout",
     "output_type": "stream",
     "text": [
      "Loaded data from /mnt/lustre/koa/koastore/torri_group/air_directory/Projects/DCI-Project/Code/OUTPUT/Project_Algorithms/Tracking_Algorithms/1km_5min_34nz/Eulerian_CLTracking/Eulerian_CLTracking_1km_5min_34nz_8-05-00.h5 (2 variables)\n",
      "\n",
      "Saving figure to /mnt/lustre/koa/koastore/torri_group/air_directory/Projects/DCI-Project/Code/PLOTTING/Project_Algorithms/Tracking_Algorithms/1km_5min_34nz/Eulerian_CLTracking_8-05-00_1km_5min_1e6.jpg\n"
     ]
    },
    {
     "name": "stderr",
     "output_type": "stream",
     "text": [
      "Processing timesteps:  74%|███████▎  | 98/133 [03:13<01:11,  2.04s/it]"
     ]
    },
    {
     "name": "stdout",
     "output_type": "stream",
     "text": [
      "Loaded data from /mnt/lustre/koa/koastore/torri_group/air_directory/Projects/DCI-Project/Code/OUTPUT/Project_Algorithms/Tracking_Algorithms/1km_5min_34nz/Eulerian_CLTracking/Eulerian_CLTracking_1km_5min_34nz_8-10-00.h5 (2 variables)\n",
      "\n",
      "Saving figure to /mnt/lustre/koa/koastore/torri_group/air_directory/Projects/DCI-Project/Code/PLOTTING/Project_Algorithms/Tracking_Algorithms/1km_5min_34nz/Eulerian_CLTracking_8-10-00_1km_5min_1e6.jpg\n"
     ]
    },
    {
     "name": "stderr",
     "output_type": "stream",
     "text": [
      "Processing timesteps:  74%|███████▍  | 99/133 [03:15<01:08,  2.01s/it]"
     ]
    },
    {
     "name": "stdout",
     "output_type": "stream",
     "text": [
      "Loaded data from /mnt/lustre/koa/koastore/torri_group/air_directory/Projects/DCI-Project/Code/OUTPUT/Project_Algorithms/Tracking_Algorithms/1km_5min_34nz/Eulerian_CLTracking/Eulerian_CLTracking_1km_5min_34nz_8-15-00.h5 (2 variables)\n",
      "\n",
      "Saving figure to /mnt/lustre/koa/koastore/torri_group/air_directory/Projects/DCI-Project/Code/PLOTTING/Project_Algorithms/Tracking_Algorithms/1km_5min_34nz/Eulerian_CLTracking_8-15-00_1km_5min_1e6.jpg\n"
     ]
    },
    {
     "name": "stderr",
     "output_type": "stream",
     "text": [
      "Processing timesteps:  75%|███████▌  | 100/133 [03:17<01:05,  1.98s/it]"
     ]
    },
    {
     "name": "stdout",
     "output_type": "stream",
     "text": [
      "Loaded data from /mnt/lustre/koa/koastore/torri_group/air_directory/Projects/DCI-Project/Code/OUTPUT/Project_Algorithms/Tracking_Algorithms/1km_5min_34nz/Eulerian_CLTracking/Eulerian_CLTracking_1km_5min_34nz_8-20-00.h5 (2 variables)\n",
      "\n",
      "Saving figure to /mnt/lustre/koa/koastore/torri_group/air_directory/Projects/DCI-Project/Code/PLOTTING/Project_Algorithms/Tracking_Algorithms/1km_5min_34nz/Eulerian_CLTracking_8-20-00_1km_5min_1e6.jpg\n"
     ]
    },
    {
     "name": "stderr",
     "output_type": "stream",
     "text": [
      "Processing timesteps:  76%|███████▌  | 101/133 [03:19<01:02,  1.97s/it]"
     ]
    },
    {
     "name": "stdout",
     "output_type": "stream",
     "text": [
      "Loaded data from /mnt/lustre/koa/koastore/torri_group/air_directory/Projects/DCI-Project/Code/OUTPUT/Project_Algorithms/Tracking_Algorithms/1km_5min_34nz/Eulerian_CLTracking/Eulerian_CLTracking_1km_5min_34nz_8-25-00.h5 (2 variables)\n",
      "\n",
      "Saving figure to /mnt/lustre/koa/koastore/torri_group/air_directory/Projects/DCI-Project/Code/PLOTTING/Project_Algorithms/Tracking_Algorithms/1km_5min_34nz/Eulerian_CLTracking_8-25-00_1km_5min_1e6.jpg\n"
     ]
    },
    {
     "name": "stderr",
     "output_type": "stream",
     "text": [
      "Processing timesteps:  77%|███████▋  | 102/133 [03:21<01:03,  2.06s/it]"
     ]
    },
    {
     "name": "stdout",
     "output_type": "stream",
     "text": [
      "Loaded data from /mnt/lustre/koa/koastore/torri_group/air_directory/Projects/DCI-Project/Code/OUTPUT/Project_Algorithms/Tracking_Algorithms/1km_5min_34nz/Eulerian_CLTracking/Eulerian_CLTracking_1km_5min_34nz_8-30-00.h5 (2 variables)\n",
      "\n",
      "Saving figure to /mnt/lustre/koa/koastore/torri_group/air_directory/Projects/DCI-Project/Code/PLOTTING/Project_Algorithms/Tracking_Algorithms/1km_5min_34nz/Eulerian_CLTracking_8-30-00_1km_5min_1e6.jpg\n"
     ]
    },
    {
     "name": "stderr",
     "output_type": "stream",
     "text": [
      "Processing timesteps:  77%|███████▋  | 103/133 [03:23<01:01,  2.06s/it]"
     ]
    },
    {
     "name": "stdout",
     "output_type": "stream",
     "text": [
      "Loaded data from /mnt/lustre/koa/koastore/torri_group/air_directory/Projects/DCI-Project/Code/OUTPUT/Project_Algorithms/Tracking_Algorithms/1km_5min_34nz/Eulerian_CLTracking/Eulerian_CLTracking_1km_5min_34nz_8-35-00.h5 (2 variables)\n",
      "\n",
      "Saving figure to /mnt/lustre/koa/koastore/torri_group/air_directory/Projects/DCI-Project/Code/PLOTTING/Project_Algorithms/Tracking_Algorithms/1km_5min_34nz/Eulerian_CLTracking_8-35-00_1km_5min_1e6.jpg\n"
     ]
    },
    {
     "name": "stderr",
     "output_type": "stream",
     "text": [
      "Processing timesteps:  78%|███████▊  | 104/133 [03:25<00:59,  2.04s/it]"
     ]
    },
    {
     "name": "stdout",
     "output_type": "stream",
     "text": [
      "Loaded data from /mnt/lustre/koa/koastore/torri_group/air_directory/Projects/DCI-Project/Code/OUTPUT/Project_Algorithms/Tracking_Algorithms/1km_5min_34nz/Eulerian_CLTracking/Eulerian_CLTracking_1km_5min_34nz_8-40-00.h5 (2 variables)\n",
      "\n",
      "Saving figure to /mnt/lustre/koa/koastore/torri_group/air_directory/Projects/DCI-Project/Code/PLOTTING/Project_Algorithms/Tracking_Algorithms/1km_5min_34nz/Eulerian_CLTracking_8-40-00_1km_5min_1e6.jpg\n"
     ]
    },
    {
     "name": "stderr",
     "output_type": "stream",
     "text": [
      "Processing timesteps:  79%|███████▉  | 105/133 [03:27<00:56,  2.02s/it]"
     ]
    },
    {
     "name": "stdout",
     "output_type": "stream",
     "text": [
      "Loaded data from /mnt/lustre/koa/koastore/torri_group/air_directory/Projects/DCI-Project/Code/OUTPUT/Project_Algorithms/Tracking_Algorithms/1km_5min_34nz/Eulerian_CLTracking/Eulerian_CLTracking_1km_5min_34nz_8-45-00.h5 (2 variables)\n",
      "\n",
      "Saving figure to /mnt/lustre/koa/koastore/torri_group/air_directory/Projects/DCI-Project/Code/PLOTTING/Project_Algorithms/Tracking_Algorithms/1km_5min_34nz/Eulerian_CLTracking_8-45-00_1km_5min_1e6.jpg\n"
     ]
    },
    {
     "name": "stderr",
     "output_type": "stream",
     "text": [
      "Processing timesteps:  80%|███████▉  | 106/133 [03:29<00:53,  1.99s/it]"
     ]
    },
    {
     "name": "stdout",
     "output_type": "stream",
     "text": [
      "Loaded data from /mnt/lustre/koa/koastore/torri_group/air_directory/Projects/DCI-Project/Code/OUTPUT/Project_Algorithms/Tracking_Algorithms/1km_5min_34nz/Eulerian_CLTracking/Eulerian_CLTracking_1km_5min_34nz_8-50-00.h5 (2 variables)\n",
      "\n",
      "Saving figure to /mnt/lustre/koa/koastore/torri_group/air_directory/Projects/DCI-Project/Code/PLOTTING/Project_Algorithms/Tracking_Algorithms/1km_5min_34nz/Eulerian_CLTracking_8-50-00_1km_5min_1e6.jpg\n"
     ]
    },
    {
     "name": "stderr",
     "output_type": "stream",
     "text": [
      "Processing timesteps:  80%|████████  | 107/133 [03:31<00:51,  1.97s/it]"
     ]
    },
    {
     "name": "stdout",
     "output_type": "stream",
     "text": [
      "Loaded data from /mnt/lustre/koa/koastore/torri_group/air_directory/Projects/DCI-Project/Code/OUTPUT/Project_Algorithms/Tracking_Algorithms/1km_5min_34nz/Eulerian_CLTracking/Eulerian_CLTracking_1km_5min_34nz_8-55-00.h5 (2 variables)\n",
      "\n",
      "Saving figure to /mnt/lustre/koa/koastore/torri_group/air_directory/Projects/DCI-Project/Code/PLOTTING/Project_Algorithms/Tracking_Algorithms/1km_5min_34nz/Eulerian_CLTracking_8-55-00_1km_5min_1e6.jpg\n"
     ]
    },
    {
     "name": "stderr",
     "output_type": "stream",
     "text": [
      "Processing timesteps:  81%|████████  | 108/133 [03:33<00:49,  2.00s/it]"
     ]
    },
    {
     "name": "stdout",
     "output_type": "stream",
     "text": [
      "Loaded data from /mnt/lustre/koa/koastore/torri_group/air_directory/Projects/DCI-Project/Code/OUTPUT/Project_Algorithms/Tracking_Algorithms/1km_5min_34nz/Eulerian_CLTracking/Eulerian_CLTracking_1km_5min_34nz_9-00-00.h5 (2 variables)\n",
      "\n",
      "Saving figure to /mnt/lustre/koa/koastore/torri_group/air_directory/Projects/DCI-Project/Code/PLOTTING/Project_Algorithms/Tracking_Algorithms/1km_5min_34nz/Eulerian_CLTracking_9-00-00_1km_5min_1e6.jpg\n"
     ]
    },
    {
     "name": "stderr",
     "output_type": "stream",
     "text": [
      "Processing timesteps:  82%|████████▏ | 109/133 [03:35<00:49,  2.05s/it]"
     ]
    },
    {
     "name": "stdout",
     "output_type": "stream",
     "text": [
      "Loaded data from /mnt/lustre/koa/koastore/torri_group/air_directory/Projects/DCI-Project/Code/OUTPUT/Project_Algorithms/Tracking_Algorithms/1km_5min_34nz/Eulerian_CLTracking/Eulerian_CLTracking_1km_5min_34nz_9-05-00.h5 (2 variables)\n",
      "\n",
      "Saving figure to /mnt/lustre/koa/koastore/torri_group/air_directory/Projects/DCI-Project/Code/PLOTTING/Project_Algorithms/Tracking_Algorithms/1km_5min_34nz/Eulerian_CLTracking_9-05-00_1km_5min_1e6.jpg\n"
     ]
    },
    {
     "name": "stderr",
     "output_type": "stream",
     "text": [
      "Processing timesteps:  83%|████████▎ | 110/133 [03:37<00:46,  2.04s/it]"
     ]
    },
    {
     "name": "stdout",
     "output_type": "stream",
     "text": [
      "Loaded data from /mnt/lustre/koa/koastore/torri_group/air_directory/Projects/DCI-Project/Code/OUTPUT/Project_Algorithms/Tracking_Algorithms/1km_5min_34nz/Eulerian_CLTracking/Eulerian_CLTracking_1km_5min_34nz_9-10-00.h5 (2 variables)\n",
      "\n",
      "Saving figure to /mnt/lustre/koa/koastore/torri_group/air_directory/Projects/DCI-Project/Code/PLOTTING/Project_Algorithms/Tracking_Algorithms/1km_5min_34nz/Eulerian_CLTracking_9-10-00_1km_5min_1e6.jpg\n"
     ]
    },
    {
     "name": "stderr",
     "output_type": "stream",
     "text": [
      "Processing timesteps:  83%|████████▎ | 111/133 [03:39<00:44,  2.01s/it]"
     ]
    },
    {
     "name": "stdout",
     "output_type": "stream",
     "text": [
      "Loaded data from /mnt/lustre/koa/koastore/torri_group/air_directory/Projects/DCI-Project/Code/OUTPUT/Project_Algorithms/Tracking_Algorithms/1km_5min_34nz/Eulerian_CLTracking/Eulerian_CLTracking_1km_5min_34nz_9-15-00.h5 (2 variables)\n",
      "\n",
      "Saving figure to /mnt/lustre/koa/koastore/torri_group/air_directory/Projects/DCI-Project/Code/PLOTTING/Project_Algorithms/Tracking_Algorithms/1km_5min_34nz/Eulerian_CLTracking_9-15-00_1km_5min_1e6.jpg\n"
     ]
    },
    {
     "name": "stderr",
     "output_type": "stream",
     "text": [
      "Processing timesteps:  84%|████████▍ | 112/133 [03:41<00:41,  1.97s/it]"
     ]
    },
    {
     "name": "stdout",
     "output_type": "stream",
     "text": [
      "Loaded data from /mnt/lustre/koa/koastore/torri_group/air_directory/Projects/DCI-Project/Code/OUTPUT/Project_Algorithms/Tracking_Algorithms/1km_5min_34nz/Eulerian_CLTracking/Eulerian_CLTracking_1km_5min_34nz_9-20-00.h5 (2 variables)\n",
      "\n",
      "Saving figure to /mnt/lustre/koa/koastore/torri_group/air_directory/Projects/DCI-Project/Code/PLOTTING/Project_Algorithms/Tracking_Algorithms/1km_5min_34nz/Eulerian_CLTracking_9-20-00_1km_5min_1e6.jpg\n"
     ]
    },
    {
     "name": "stderr",
     "output_type": "stream",
     "text": [
      "Processing timesteps:  85%|████████▍ | 113/133 [03:43<00:38,  1.95s/it]"
     ]
    },
    {
     "name": "stdout",
     "output_type": "stream",
     "text": [
      "Loaded data from /mnt/lustre/koa/koastore/torri_group/air_directory/Projects/DCI-Project/Code/OUTPUT/Project_Algorithms/Tracking_Algorithms/1km_5min_34nz/Eulerian_CLTracking/Eulerian_CLTracking_1km_5min_34nz_9-25-00.h5 (2 variables)\n",
      "\n",
      "Saving figure to /mnt/lustre/koa/koastore/torri_group/air_directory/Projects/DCI-Project/Code/PLOTTING/Project_Algorithms/Tracking_Algorithms/1km_5min_34nz/Eulerian_CLTracking_9-25-00_1km_5min_1e6.jpg\n"
     ]
    },
    {
     "name": "stderr",
     "output_type": "stream",
     "text": [
      "Processing timesteps:  86%|████████▌ | 114/133 [03:45<00:37,  1.97s/it]"
     ]
    },
    {
     "name": "stdout",
     "output_type": "stream",
     "text": [
      "Loaded data from /mnt/lustre/koa/koastore/torri_group/air_directory/Projects/DCI-Project/Code/OUTPUT/Project_Algorithms/Tracking_Algorithms/1km_5min_34nz/Eulerian_CLTracking/Eulerian_CLTracking_1km_5min_34nz_9-30-00.h5 (2 variables)\n",
      "\n",
      "Saving figure to /mnt/lustre/koa/koastore/torri_group/air_directory/Projects/DCI-Project/Code/PLOTTING/Project_Algorithms/Tracking_Algorithms/1km_5min_34nz/Eulerian_CLTracking_9-30-00_1km_5min_1e6.jpg\n"
     ]
    },
    {
     "name": "stderr",
     "output_type": "stream",
     "text": [
      "Processing timesteps:  86%|████████▋ | 115/133 [03:47<00:35,  1.96s/it]"
     ]
    },
    {
     "name": "stdout",
     "output_type": "stream",
     "text": [
      "Loaded data from /mnt/lustre/koa/koastore/torri_group/air_directory/Projects/DCI-Project/Code/OUTPUT/Project_Algorithms/Tracking_Algorithms/1km_5min_34nz/Eulerian_CLTracking/Eulerian_CLTracking_1km_5min_34nz_9-35-00.h5 (2 variables)\n",
      "\n",
      "Saving figure to /mnt/lustre/koa/koastore/torri_group/air_directory/Projects/DCI-Project/Code/PLOTTING/Project_Algorithms/Tracking_Algorithms/1km_5min_34nz/Eulerian_CLTracking_9-35-00_1km_5min_1e6.jpg\n"
     ]
    },
    {
     "name": "stderr",
     "output_type": "stream",
     "text": [
      "Processing timesteps:  87%|████████▋ | 116/133 [03:49<00:34,  2.03s/it]"
     ]
    },
    {
     "name": "stdout",
     "output_type": "stream",
     "text": [
      "Loaded data from /mnt/lustre/koa/koastore/torri_group/air_directory/Projects/DCI-Project/Code/OUTPUT/Project_Algorithms/Tracking_Algorithms/1km_5min_34nz/Eulerian_CLTracking/Eulerian_CLTracking_1km_5min_34nz_9-40-00.h5 (2 variables)\n",
      "\n",
      "Saving figure to /mnt/lustre/koa/koastore/torri_group/air_directory/Projects/DCI-Project/Code/PLOTTING/Project_Algorithms/Tracking_Algorithms/1km_5min_34nz/Eulerian_CLTracking_9-40-00_1km_5min_1e6.jpg\n"
     ]
    },
    {
     "name": "stderr",
     "output_type": "stream",
     "text": [
      "Processing timesteps:  88%|████████▊ | 117/133 [03:51<00:31,  1.98s/it]"
     ]
    },
    {
     "name": "stdout",
     "output_type": "stream",
     "text": [
      "Loaded data from /mnt/lustre/koa/koastore/torri_group/air_directory/Projects/DCI-Project/Code/OUTPUT/Project_Algorithms/Tracking_Algorithms/1km_5min_34nz/Eulerian_CLTracking/Eulerian_CLTracking_1km_5min_34nz_9-45-00.h5 (2 variables)\n",
      "\n",
      "Saving figure to /mnt/lustre/koa/koastore/torri_group/air_directory/Projects/DCI-Project/Code/PLOTTING/Project_Algorithms/Tracking_Algorithms/1km_5min_34nz/Eulerian_CLTracking_9-45-00_1km_5min_1e6.jpg\n"
     ]
    },
    {
     "name": "stderr",
     "output_type": "stream",
     "text": [
      "Processing timesteps:  89%|████████▊ | 118/133 [03:53<00:29,  1.95s/it]"
     ]
    },
    {
     "name": "stdout",
     "output_type": "stream",
     "text": [
      "Loaded data from /mnt/lustre/koa/koastore/torri_group/air_directory/Projects/DCI-Project/Code/OUTPUT/Project_Algorithms/Tracking_Algorithms/1km_5min_34nz/Eulerian_CLTracking/Eulerian_CLTracking_1km_5min_34nz_9-50-00.h5 (2 variables)\n",
      "\n",
      "Saving figure to /mnt/lustre/koa/koastore/torri_group/air_directory/Projects/DCI-Project/Code/PLOTTING/Project_Algorithms/Tracking_Algorithms/1km_5min_34nz/Eulerian_CLTracking_9-50-00_1km_5min_1e6.jpg\n"
     ]
    },
    {
     "name": "stderr",
     "output_type": "stream",
     "text": [
      "Processing timesteps:  89%|████████▉ | 119/133 [03:55<00:27,  1.97s/it]"
     ]
    },
    {
     "name": "stdout",
     "output_type": "stream",
     "text": [
      "Loaded data from /mnt/lustre/koa/koastore/torri_group/air_directory/Projects/DCI-Project/Code/OUTPUT/Project_Algorithms/Tracking_Algorithms/1km_5min_34nz/Eulerian_CLTracking/Eulerian_CLTracking_1km_5min_34nz_9-55-00.h5 (2 variables)\n",
      "\n",
      "Saving figure to /mnt/lustre/koa/koastore/torri_group/air_directory/Projects/DCI-Project/Code/PLOTTING/Project_Algorithms/Tracking_Algorithms/1km_5min_34nz/Eulerian_CLTracking_9-55-00_1km_5min_1e6.jpg\n"
     ]
    },
    {
     "name": "stderr",
     "output_type": "stream",
     "text": [
      "Processing timesteps:  90%|█████████ | 120/133 [03:57<00:25,  1.95s/it]"
     ]
    },
    {
     "name": "stdout",
     "output_type": "stream",
     "text": [
      "Loaded data from /mnt/lustre/koa/koastore/torri_group/air_directory/Projects/DCI-Project/Code/OUTPUT/Project_Algorithms/Tracking_Algorithms/1km_5min_34nz/Eulerian_CLTracking/Eulerian_CLTracking_1km_5min_34nz_10-00-00.h5 (2 variables)\n",
      "\n",
      "Saving figure to /mnt/lustre/koa/koastore/torri_group/air_directory/Projects/DCI-Project/Code/PLOTTING/Project_Algorithms/Tracking_Algorithms/1km_5min_34nz/Eulerian_CLTracking_10-00-00_1km_5min_1e6.jpg\n"
     ]
    },
    {
     "name": "stderr",
     "output_type": "stream",
     "text": [
      "Processing timesteps:  91%|█████████ | 121/133 [03:59<00:23,  1.93s/it]"
     ]
    },
    {
     "name": "stdout",
     "output_type": "stream",
     "text": [
      "Loaded data from /mnt/lustre/koa/koastore/torri_group/air_directory/Projects/DCI-Project/Code/OUTPUT/Project_Algorithms/Tracking_Algorithms/1km_5min_34nz/Eulerian_CLTracking/Eulerian_CLTracking_1km_5min_34nz_10-05-00.h5 (2 variables)\n",
      "\n",
      "Saving figure to /mnt/lustre/koa/koastore/torri_group/air_directory/Projects/DCI-Project/Code/PLOTTING/Project_Algorithms/Tracking_Algorithms/1km_5min_34nz/Eulerian_CLTracking_10-05-00_1km_5min_1e6.jpg\n"
     ]
    },
    {
     "name": "stderr",
     "output_type": "stream",
     "text": [
      "Processing timesteps:  92%|█████████▏| 122/133 [04:01<00:21,  1.92s/it]"
     ]
    },
    {
     "name": "stdout",
     "output_type": "stream",
     "text": [
      "Loaded data from /mnt/lustre/koa/koastore/torri_group/air_directory/Projects/DCI-Project/Code/OUTPUT/Project_Algorithms/Tracking_Algorithms/1km_5min_34nz/Eulerian_CLTracking/Eulerian_CLTracking_1km_5min_34nz_10-10-00.h5 (2 variables)\n",
      "\n",
      "Saving figure to /mnt/lustre/koa/koastore/torri_group/air_directory/Projects/DCI-Project/Code/PLOTTING/Project_Algorithms/Tracking_Algorithms/1km_5min_34nz/Eulerian_CLTracking_10-10-00_1km_5min_1e6.jpg\n"
     ]
    },
    {
     "name": "stderr",
     "output_type": "stream",
     "text": [
      "Processing timesteps:  92%|█████████▏| 123/133 [04:03<00:19,  1.98s/it]"
     ]
    },
    {
     "name": "stdout",
     "output_type": "stream",
     "text": [
      "Loaded data from /mnt/lustre/koa/koastore/torri_group/air_directory/Projects/DCI-Project/Code/OUTPUT/Project_Algorithms/Tracking_Algorithms/1km_5min_34nz/Eulerian_CLTracking/Eulerian_CLTracking_1km_5min_34nz_10-15-00.h5 (2 variables)\n",
      "\n",
      "Saving figure to /mnt/lustre/koa/koastore/torri_group/air_directory/Projects/DCI-Project/Code/PLOTTING/Project_Algorithms/Tracking_Algorithms/1km_5min_34nz/Eulerian_CLTracking_10-15-00_1km_5min_1e6.jpg\n"
     ]
    },
    {
     "name": "stderr",
     "output_type": "stream",
     "text": [
      "Processing timesteps:  93%|█████████▎| 124/133 [04:05<00:17,  1.95s/it]"
     ]
    },
    {
     "name": "stdout",
     "output_type": "stream",
     "text": [
      "Loaded data from /mnt/lustre/koa/koastore/torri_group/air_directory/Projects/DCI-Project/Code/OUTPUT/Project_Algorithms/Tracking_Algorithms/1km_5min_34nz/Eulerian_CLTracking/Eulerian_CLTracking_1km_5min_34nz_10-20-00.h5 (2 variables)\n",
      "\n",
      "Saving figure to /mnt/lustre/koa/koastore/torri_group/air_directory/Projects/DCI-Project/Code/PLOTTING/Project_Algorithms/Tracking_Algorithms/1km_5min_34nz/Eulerian_CLTracking_10-20-00_1km_5min_1e6.jpg\n"
     ]
    },
    {
     "name": "stderr",
     "output_type": "stream",
     "text": [
      "Processing timesteps:  94%|█████████▍| 125/133 [04:07<00:15,  1.98s/it]"
     ]
    },
    {
     "name": "stdout",
     "output_type": "stream",
     "text": [
      "Loaded data from /mnt/lustre/koa/koastore/torri_group/air_directory/Projects/DCI-Project/Code/OUTPUT/Project_Algorithms/Tracking_Algorithms/1km_5min_34nz/Eulerian_CLTracking/Eulerian_CLTracking_1km_5min_34nz_10-25-00.h5 (2 variables)\n",
      "\n",
      "Saving figure to /mnt/lustre/koa/koastore/torri_group/air_directory/Projects/DCI-Project/Code/PLOTTING/Project_Algorithms/Tracking_Algorithms/1km_5min_34nz/Eulerian_CLTracking_10-25-00_1km_5min_1e6.jpg\n"
     ]
    },
    {
     "name": "stderr",
     "output_type": "stream",
     "text": [
      "Processing timesteps:  95%|█████████▍| 126/133 [04:09<00:13,  1.94s/it]"
     ]
    },
    {
     "name": "stdout",
     "output_type": "stream",
     "text": [
      "Loaded data from /mnt/lustre/koa/koastore/torri_group/air_directory/Projects/DCI-Project/Code/OUTPUT/Project_Algorithms/Tracking_Algorithms/1km_5min_34nz/Eulerian_CLTracking/Eulerian_CLTracking_1km_5min_34nz_10-30-00.h5 (2 variables)\n",
      "\n",
      "Saving figure to /mnt/lustre/koa/koastore/torri_group/air_directory/Projects/DCI-Project/Code/PLOTTING/Project_Algorithms/Tracking_Algorithms/1km_5min_34nz/Eulerian_CLTracking_10-30-00_1km_5min_1e6.jpg\n"
     ]
    },
    {
     "name": "stderr",
     "output_type": "stream",
     "text": [
      "Processing timesteps:  95%|█████████▌| 127/133 [04:10<00:11,  1.91s/it]"
     ]
    },
    {
     "name": "stdout",
     "output_type": "stream",
     "text": [
      "Loaded data from /mnt/lustre/koa/koastore/torri_group/air_directory/Projects/DCI-Project/Code/OUTPUT/Project_Algorithms/Tracking_Algorithms/1km_5min_34nz/Eulerian_CLTracking/Eulerian_CLTracking_1km_5min_34nz_10-35-00.h5 (2 variables)\n",
      "\n",
      "Saving figure to /mnt/lustre/koa/koastore/torri_group/air_directory/Projects/DCI-Project/Code/PLOTTING/Project_Algorithms/Tracking_Algorithms/1km_5min_34nz/Eulerian_CLTracking_10-35-00_1km_5min_1e6.jpg\n"
     ]
    },
    {
     "name": "stderr",
     "output_type": "stream",
     "text": [
      "Processing timesteps:  96%|█████████▌| 128/133 [04:12<00:09,  1.88s/it]"
     ]
    },
    {
     "name": "stdout",
     "output_type": "stream",
     "text": [
      "Loaded data from /mnt/lustre/koa/koastore/torri_group/air_directory/Projects/DCI-Project/Code/OUTPUT/Project_Algorithms/Tracking_Algorithms/1km_5min_34nz/Eulerian_CLTracking/Eulerian_CLTracking_1km_5min_34nz_10-40-00.h5 (2 variables)\n",
      "\n",
      "Saving figure to /mnt/lustre/koa/koastore/torri_group/air_directory/Projects/DCI-Project/Code/PLOTTING/Project_Algorithms/Tracking_Algorithms/1km_5min_34nz/Eulerian_CLTracking_10-40-00_1km_5min_1e6.jpg\n"
     ]
    },
    {
     "name": "stderr",
     "output_type": "stream",
     "text": [
      "Processing timesteps:  97%|█████████▋| 129/133 [04:14<00:07,  1.87s/it]"
     ]
    },
    {
     "name": "stdout",
     "output_type": "stream",
     "text": [
      "Loaded data from /mnt/lustre/koa/koastore/torri_group/air_directory/Projects/DCI-Project/Code/OUTPUT/Project_Algorithms/Tracking_Algorithms/1km_5min_34nz/Eulerian_CLTracking/Eulerian_CLTracking_1km_5min_34nz_10-45-00.h5 (2 variables)\n",
      "\n",
      "Saving figure to /mnt/lustre/koa/koastore/torri_group/air_directory/Projects/DCI-Project/Code/PLOTTING/Project_Algorithms/Tracking_Algorithms/1km_5min_34nz/Eulerian_CLTracking_10-45-00_1km_5min_1e6.jpg\n"
     ]
    },
    {
     "name": "stderr",
     "output_type": "stream",
     "text": [
      "Processing timesteps:  98%|█████████▊| 130/133 [04:16<00:05,  1.90s/it]"
     ]
    },
    {
     "name": "stdout",
     "output_type": "stream",
     "text": [
      "Loaded data from /mnt/lustre/koa/koastore/torri_group/air_directory/Projects/DCI-Project/Code/OUTPUT/Project_Algorithms/Tracking_Algorithms/1km_5min_34nz/Eulerian_CLTracking/Eulerian_CLTracking_1km_5min_34nz_10-50-00.h5 (2 variables)\n",
      "\n",
      "Saving figure to /mnt/lustre/koa/koastore/torri_group/air_directory/Projects/DCI-Project/Code/PLOTTING/Project_Algorithms/Tracking_Algorithms/1km_5min_34nz/Eulerian_CLTracking_10-50-00_1km_5min_1e6.jpg\n"
     ]
    },
    {
     "name": "stderr",
     "output_type": "stream",
     "text": [
      "Processing timesteps:  98%|█████████▊| 131/133 [04:18<00:03,  1.98s/it]"
     ]
    },
    {
     "name": "stdout",
     "output_type": "stream",
     "text": [
      "Loaded data from /mnt/lustre/koa/koastore/torri_group/air_directory/Projects/DCI-Project/Code/OUTPUT/Project_Algorithms/Tracking_Algorithms/1km_5min_34nz/Eulerian_CLTracking/Eulerian_CLTracking_1km_5min_34nz_10-55-00.h5 (2 variables)\n",
      "\n",
      "Saving figure to /mnt/lustre/koa/koastore/torri_group/air_directory/Projects/DCI-Project/Code/PLOTTING/Project_Algorithms/Tracking_Algorithms/1km_5min_34nz/Eulerian_CLTracking_10-55-00_1km_5min_1e6.jpg\n"
     ]
    },
    {
     "name": "stderr",
     "output_type": "stream",
     "text": [
      "Processing timesteps:  99%|█████████▉| 132/133 [04:20<00:01,  1.93s/it]"
     ]
    },
    {
     "name": "stdout",
     "output_type": "stream",
     "text": [
      "Loaded data from /mnt/lustre/koa/koastore/torri_group/air_directory/Projects/DCI-Project/Code/OUTPUT/Project_Algorithms/Tracking_Algorithms/1km_5min_34nz/Eulerian_CLTracking/Eulerian_CLTracking_1km_5min_34nz_11-00-00.h5 (2 variables)\n",
      "\n",
      "Saving figure to /mnt/lustre/koa/koastore/torri_group/air_directory/Projects/DCI-Project/Code/PLOTTING/Project_Algorithms/Tracking_Algorithms/1km_5min_34nz/Eulerian_CLTracking_11-00-00_1km_5min_1e6.jpg\n"
     ]
    },
    {
     "name": "stderr",
     "output_type": "stream",
     "text": [
      "Processing timesteps: 100%|██████████| 133/133 [04:22<00:00,  1.97s/it]\n"
     ]
    }
   ],
   "source": [
    "#OUTPUTTING ALL PLOTS\n",
    "#########################\n",
    "#getting z level\n",
    "zlev = int(np.abs(ModelData.zh - 350/1e3).argmin())\n",
    "\n",
    "#running\n",
    "for t in tqdm(range(ModelData.Ntime), desc=\"Processing timesteps\"):\n",
    "# for t in tqdm(num_elements, desc=\"Processing timesteps\"): #uses \"job_array\"\n",
    "    RunTrackedPlot(t=t,zlev=zlev,\n",
    "                   clim=clim,\n",
    "                   SAVING=True,CLOSE=True)"
   ]
  },
  {
   "cell_type": "code",
   "execution_count": 72,
   "id": "3744cc3a-b9ee-4ff4-94d6-4a26530bc00e",
   "metadata": {},
   "outputs": [],
   "source": [
    "########################################\n",
    "#MAKING ANIMATION"
   ]
  },
  {
   "cell_type": "code",
   "execution_count": 73,
   "id": "c35c091c-9089-4593-926f-773d407f6d0e",
   "metadata": {
    "jupyter": {
     "source_hidden": true
    }
   },
   "outputs": [],
   "source": [
    "#IMPORT FUNCTIONS\n",
    "sys.path.append(os.path.join(mainCodeDirectory,\"1_Initial_Figures\",\"Animations\"))\n",
    "import CLASSES_AnimationPlotting\n",
    "from CLASSES_AnimationPlotting import AnimationPlotting_Class"
   ]
  },
  {
   "cell_type": "code",
   "execution_count": 74,
   "id": "be00c7f3-56d9-4da3-8ac2-ea0589a0c99d",
   "metadata": {
    "jupyter": {
     "source_hidden": true
    }
   },
   "outputs": [],
   "source": [
    "def GetPNGFileList(folder):\n",
    "    import glob, re\n",
    "    imageFiles = (\n",
    "        glob.glob(f\"{folder}/*.jpg\") +\n",
    "        glob.glob(f\"{folder}/*.jpeg\") +\n",
    "        glob.glob(f\"{folder}/*.png\")\n",
    "    )\n",
    "    \n",
    "    time_re = re.compile(r'_(\\d+)-(\\d+)-(\\d+)(?:_|\\.|$)')\n",
    "    \n",
    "    def extract_hms_seconds(path):\n",
    "        \"\"\"\n",
    "        Returns total seconds from H-M-S encoded in the filename.\n",
    "        If not found, returns a large number so such files go last.\n",
    "        \"\"\"\n",
    "        m = time_re.search(path)\n",
    "        if not m:\n",
    "            return float(\"inf\")\n",
    "        h, mnt, s = map(int, m.groups())\n",
    "        return h*3600 + mnt*60 + s\n",
    "    \n",
    "    # Sort by actual time, not string order\n",
    "    imageFiles_sorted = sorted(imageFiles, key=extract_hms_seconds)\n",
    "    \n",
    "    # (Optional) inspect the order\n",
    "    # for f in imageFiles_sorted:\n",
    "    #     print(f)\n",
    "    return imageFiles_sorted"
   ]
  },
  {
   "cell_type": "code",
   "execution_count": 75,
   "id": "c0b29b39-eee1-4db9-97f8-317bc5862731",
   "metadata": {
    "jupyter": {
     "source_hidden": true
    }
   },
   "outputs": [],
   "source": [
    "# Grab both JPG and PNG (add JPEG too if needed)\n",
    "filePath = GetPlottingDirectory(plotFileName = \"temporary.png\",plotType=\"Project_Algorithms/Tracking_Algorithms\")\n",
    "folder = os.path.dirname(filePath)\n",
    "imageFiles = GetPNGFileList(folder)\n",
    "\n",
    "fileName=f\"Eulerian_CLTracking.mp4\" \n",
    "outputFile = os.path.join(folder,fileName)"
   ]
  },
  {
   "cell_type": "code",
   "execution_count": 76,
   "id": "f99f1664-faf5-4342-aae7-cc42dfcaadd0",
   "metadata": {
    "scrolled": true
   },
   "outputs": [
    {
     "name": "stdout",
     "output_type": "stream",
     "text": [
      "MoviePy - Building video /mnt/lustre/koa/koastore/torri_group/air_directory/Projects/DCI-Project/Code/PLOTTING/Project_Algorithms/Tracking_Algorithms/1km_5min_34nz/Eulerian_CLTracking.mp4.\n",
      "MoviePy - Writing video /mnt/lustre/koa/koastore/torri_group/air_directory/Projects/DCI-Project/Code/PLOTTING/Project_Algorithms/Tracking_Algorithms/1km_5min_34nz/Eulerian_CLTracking.mp4\n",
      "\n"
     ]
    },
    {
     "name": "stderr",
     "output_type": "stream",
     "text": [
      "                                                                        \r"
     ]
    },
    {
     "name": "stdout",
     "output_type": "stream",
     "text": [
      "MoviePy - Done !\n",
      "MoviePy - video ready /mnt/lustre/koa/koastore/torri_group/air_directory/Projects/DCI-Project/Code/PLOTTING/Project_Algorithms/Tracking_Algorithms/1km_5min_34nz/Eulerian_CLTracking.mp4\n",
      "MP4 saved to: /mnt/lustre/koa/koastore/torri_group/air_directory/Projects/DCI-Project/Code/PLOTTING/Project_Algorithms/Tracking_Algorithms/1km_5min_34nz/Eulerian_CLTracking.mp4 (fps=2, speed=1.0, size=4512x1126)\n"
     ]
    }
   ],
   "source": [
    "fps = AnimationPlotting_Class.CalculateFPS(num_frames=ModelData.Ntime, time_interval_minutes=5, desired_duration_min=1)\n",
    "AnimationPlotting_Class.PNGsToMP4(imageFiles, outputFile, fps=fps)"
   ]
  },
  {
   "cell_type": "code",
   "execution_count": null,
   "id": "d7fbce73-fd56-4fe7-bccb-a929b6ea6d64",
   "metadata": {},
   "outputs": [],
   "source": []
  }
 ],
 "metadata": {
  "kernelspec": {
   "display_name": "work",
   "language": "python",
   "name": "work"
  },
  "language_info": {
   "codemirror_mode": {
    "name": "ipython",
    "version": 3
   },
   "file_extension": ".py",
   "mimetype": "text/x-python",
   "name": "python",
   "nbconvert_exporter": "python",
   "pygments_lexer": "ipython3",
   "version": "3.13.5"
  }
 },
 "nbformat": 4,
 "nbformat_minor": 5
}

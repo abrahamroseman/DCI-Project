{
 "cells": [
  {
   "cell_type": "code",
   "execution_count": 2,
   "id": "91733194-cb77-4711-b0fd-245eb3a5713f",
   "metadata": {},
   "outputs": [],
   "source": [
    "#Loading in Packages and Data\n",
    "\n",
    "#Importing Packages\n",
    "import numpy as np\n",
    "import matplotlib.pyplot as plt\n",
    "import matplotlib.colors as colors\n",
    "import matplotlib.ticker as ticker\n",
    "import matplotlib.cm as cm\n",
    "from matplotlib.colors import Normalize\n",
    "from matplotlib.ticker import MaxNLocator\n",
    "from matplotlib.ticker import ScalarFormatter\n",
    "import matplotlib.gridspec as gridspec\n",
    "import xarray as xr\n",
    "import os; import time\n",
    "import pickle\n",
    "import h5py\n",
    "###############################################################\n",
    "def coefs(coefficients,degree):\n",
    "    coef=coefficients\n",
    "    coefs=\"\"\n",
    "    for n in range(degree, -1, -1):\n",
    "        string=f\"({coefficients[len(coef)-(n+1)]:.1e})\"\n",
    "        coefs+=string + f\"x^{n}\"\n",
    "        if n != 0:\n",
    "            coefs+=\" + \"\n",
    "    return coefs\n",
    "###############################################################\n",
    "\n",
    "#Importing Model Data\n",
    "check=False\n",
    "dir='/mnt/lustre/koa/koastore/torri_group/air_directory/Project/'\n",
    "netCDF=xr.open_dataset(dir+'../cm1r20.3/run/cm1out_test7tundra-7_062217.nc') #***\n",
    "true_time=netCDF['time']\n",
    "parcel=xr.open_dataset(dir+'../cm1r20.3/run/cm1out_pdata_test5tundra-7_062217.nc') #***\n",
    "times=netCDF['time'].values/(1e9 * 60); times=times.astype(float);\n",
    "\n",
    "#Restricts the timesteps of the data from timesteps0 to 140\n",
    "data=netCDF.isel(time=np.arange(0,140+1))\n",
    "parcel=parcel.isel(time=np.arange(0,140+1))\n",
    "\n",
    "# #uncomment if using 250m data\n",
    "# #Importing Model Data\n",
    "# check=False\n",
    "# dir2='/home/air673/koa_scratch/'\n",
    "# data=xr.open_dataset(dir2+'cm1out_250m.nc') #***\n",
    "# parcel=xr.open_dataset(dir2+'cm1out_pdata_250m.nc') #***\n",
    "\n",
    "# # Restricts the timesteps of the data from timesteps0 to 140\n",
    "# data=data.isel(time=np.arange(0,400+1))\n",
    "# parcel=parcel.isel(time=np.arange(0,400+1))"
   ]
  },
  {
   "cell_type": "code",
   "execution_count": 1,
   "id": "f80d3b6b-f2b7-4303-84e3-85b514a193be",
   "metadata": {},
   "outputs": [
    {
     "data": {
      "text/plain": [
       "['Ddt',\n",
       " 'Ddx',\n",
       " 'Ddy',\n",
       " 'Ddz',\n",
       " 'DdzStretch',\n",
       " 'Divergence3D',\n",
       " 'Divergence3DStretch',\n",
       " 'DivergenceHoriz',\n",
       " 'HorizAvg_zt',\n",
       " 'HorizProfile_txy',\n",
       " 'Laplacian3D',\n",
       " 'Laplacian3DStretch',\n",
       " 'LaplacianHoriz',\n",
       " 'Slice',\n",
       " 'VertProfile_z']"
      ]
     },
     "execution_count": 1,
     "metadata": {},
     "output_type": "execute_result"
    }
   ],
   "source": [
    "import sys\n",
    "dir='/mnt/lustre/koa/koastore/torri_group/air_directory/DCI-Project/'\n",
    "path=dir+'../Functions/'\n",
    "sys.path.append(path)\n",
    "\n",
    "import NumericalFunctions\n",
    "from NumericalFunctions import * # import NumericalFunctions \n",
    "import Plotting\n",
    "from PlottingFunctions import * # import NumericalFunctions \n",
    "\n",
    "\n",
    "# Get all functions in NumericalFunctions\n",
    "import inspect\n",
    "functions = [f[0] for f in inspect.getmembers(NumericalFunctions, inspect.isfunction)]\n",
    "functions"
   ]
  },
  {
   "cell_type": "code",
   "execution_count": 17,
   "id": "15bee79d-3549-4afe-a044-6afd882c9e5d",
   "metadata": {},
   "outputs": [],
   "source": [
    "u_data=data['u'].interp(xf=data['xh']).data\n",
    "v_data=data['v'].interp(yf=data['yh']).data"
   ]
  },
  {
   "cell_type": "code",
   "execution_count": 18,
   "id": "58e2646d-0ab1-4a91-8e26-95727b800afd",
   "metadata": {},
   "outputs": [],
   "source": [
    "conv=-(Ddx(u_data,dx=1000)+Ddy(v_data,dy=1000))"
   ]
  },
  {
   "cell_type": "code",
   "execution_count": 31,
   "id": "d85f21ea-0a91-4500-be10-7758eb4429d7",
   "metadata": {},
   "outputs": [
    {
     "data": {
      "text/plain": [
       "Text(0.5, 1.0, 'Convergence Y-Average')"
      ]
     },
     "execution_count": 31,
     "metadata": {},
     "output_type": "execute_result"
    },
    {
     "data": {
      "image/png": "[encoded data removed]",
      "text/plain": [
       "<Figure size 640x480 with 1 Axes>"
      ]
     },
     "metadata": {},
     "output_type": "display_data"
    }
   ],
   "source": [
    "ymean=np.mean(conv[10],axis=1)\n",
    "\n",
    "limited=ymean[0:15,200:300]\n",
    "plt.contourf(limited)\n",
    "plt.ylabel('zbox');plt.xlabel('x box');plt.title('Convergence Y-Average')"
   ]
  }
 ],
 "metadata": {
  "kernelspec": {
   "display_name": "Python 3 (ipykernel)",
   "language": "python",
   "name": "python3"
  },
  "language_info": {
   "codemirror_mode": {
    "name": "ipython",
    "version": 3
   },
   "file_extension": ".py",
   "mimetype": "text/x-python",
   "name": "python",
   "nbconvert_exporter": "python",
   "pygments_lexer": "ipython3",
   "version": "3.11.8"
  }
 },
 "nbformat": 4,
 "nbformat_minor": 5
}

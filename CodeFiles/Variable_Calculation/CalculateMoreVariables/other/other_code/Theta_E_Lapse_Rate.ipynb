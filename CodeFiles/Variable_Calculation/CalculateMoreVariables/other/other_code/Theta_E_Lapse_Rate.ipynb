{
 "cells": [
  {
   "cell_type": "code",
   "execution_count": null,
   "id": "40cd1498-5696-429a-837f-aad22805da76",
   "metadata": {},
   "outputs": [],
   "source": [
    "#Loading in Packages and Data\n",
    "\n",
    "#Importing Packages\n",
    "import numpy as np\n",
    "import matplotlib.pyplot as plt\n",
    "import matplotlib.colors as mcolors\n",
    "import matplotlib.ticker as ticker\n",
    "import matplotlib.cm as cm\n",
    "from matplotlib.colors import Normalize\n",
    "from matplotlib.ticker import MaxNLocator\n",
    "from matplotlib.ticker import ScalarFormatter\n",
    "import matplotlib.gridspec as gridspec\n",
    "import xarray as xr\n",
    "import os; import time\n",
    "import pickle\n",
    "import h5py\n",
    "###############################################################\n",
    "def coefs(coefficients,degree):\n",
    "    coef=coefficients\n",
    "    coefs=\"\"\n",
    "    for n in range(degree, -1, -1):\n",
    "        string=f\"({coefficients[len(coef)-(n+1)]:.1e})\"\n",
    "        coefs+=string + f\"x^{n}\"\n",
    "        if n != 0:\n",
    "            coefs+=\" + \"\n",
    "    return coefs\n",
    "###############################################################\n",
    "\n",
    "# Importing Model Data\n",
    "check=False\n",
    "dir='/mnt/lustre/koa/koastore/torri_group/air_directory/DCI-Project/'\n",
    "\n",
    "# # dx = 1 km; Np = 1M; Nt = 5 min\n",
    "# data=xr.open_dataset(dir+'../cm1r20.3/run/cm1out_1km_5min.nc', decode_timedelta=True) #***\n",
    "# parcel=xr.open_dataset(dir+'../cm1r20.3/run/cm1out_pdata_1km_5min_1e6.nc', decode_timedelta=True) #***\n",
    "# res='1km';t_res='5min'\n",
    "# Np_str='1e6'\n",
    "\n",
    "# # dx = 1km; Np = 50M\n",
    "# #Importing Model Data\n",
    "# dir2='/home/air673/koa_scratch/'\n",
    "# data=xr.open_dataset(dir2+'cm1out_1km_1min.nc', decode_timedelta=True) #***\n",
    "# parcel=xr.open_dataset(dir2+'cm1out_pdata_1km_1min_50M.nc', decode_timedelta=True) #***\n",
    "# res='1km'; t_res='1min'; Np_str='50e6'\n",
    "\n",
    "# dx = 1km; Np = 50M; Nz = 95\n",
    "#Importing Model Data\n",
    "dir2='/home/air673/koa_scratch/'\n",
    "data=xr.open_dataset(dir2+'cm1out_1km_1min_95nz.nc', decode_timedelta=True) #***\n",
    "parcel=xr.open_dataset(dir2+'cm1out_pdata_1km_1min_95nz.nc', decode_timedelta=True) #***\n",
    "res='1km'; t_res='1min_95nz'; Np_str='50e6'"
   ]
  },
  {
   "cell_type": "code",
   "execution_count": null,
   "id": "8ac9af08-b872-4949-946d-330cb7d4fc1b",
   "metadata": {},
   "outputs": [],
   "source": [
    "import sys\n",
    "dir2='/mnt/lustre/koa/koastore/torri_group/air_directory/DCI-Project/'\n",
    "path=dir2+'../Functions/'\n",
    "sys.path.append(path)\n",
    "\n",
    "import NumericalFunctions\n",
    "from NumericalFunctions import * # import NumericalFunctions \n",
    "import PlottingFunctions\n",
    "from PlottingFunctions import * # import PlottingFunctions\n",
    "\n",
    "\n",
    "# # Get all functions in NumericalFunctions\n",
    "# import inspect\n",
    "# functions = [f[0] for f in inspect.getmembers(NumericalFunctions, inspect.isfunction)]\n",
    "# functions"
   ]
  },
  {
   "cell_type": "code",
   "execution_count": null,
   "id": "6fd02731-4929-478c-b293-a529abe5106c",
   "metadata": {},
   "outputs": [],
   "source": [
    "#LOADING IN H5 VARIABLES\n",
    "file_path = dir + 'Variable_Calculation/' + f'theta_e_{res}_{t_res}.h5'\n",
    "th_e_ds1 = xr.open_dataset(file_path, phony_dims='sort',engine='h5netcdf')  # or engine='netcdf4'\n",
    "th_e_ds1 = th_e_ds1.rename({\n",
    "    'phony_dim_0': 'time',\n",
    "    'phony_dim_1': 'zh',\n",
    "    'phony_dim_2': 'yh',\n",
    "    'phony_dim_3': 'xh'\n",
    "})"
   ]
  },
  {
   "cell_type": "code",
   "execution_count": null,
   "id": "62ca1e18-fad0-4324-92d1-7e85da85e539",
   "metadata": {},
   "outputs": [],
   "source": [
    "#CALCULATION FUNCTION\n",
    "################################################################################\n",
    "def MakeLapseRate(scalar):\n",
    "    LapseRate = Ddz_3DStretch(scalar,data)\n",
    "    return LapseRate"
   ]
  },
  {
   "cell_type": "code",
   "execution_count": null,
   "id": "d09aa1e0-4d1c-4810-b668-ecb44b1c29cd",
   "metadata": {},
   "outputs": [],
   "source": [
    "dir2='/mnt/lustre/koa/koastore/torri_group/air_directory/DCI-Project/'\n",
    "# dir2='/mnt/lustre/koa/scratch/air673/'\n",
    "def initiate_array():\n",
    "    # Define array dimensions (adjust based on your data)\n",
    "    t_size = len(data['time'])  # Number of timesteps\n",
    "    z_size = len(data['zh'])    # Number of vertical levels\n",
    "    y_size = len(data['yh'])    # Number of y-axis points\n",
    "    x_size = len(data['xh'])    # Number of x-axis points\n",
    "\n",
    "    out_file=dir2 + 'Variable_Calculation/OUTPUT/' + 'theta_e_LapseRate'+f'_{res}_{t_res}'+'.h5'\n",
    "    with h5py.File(out_file, 'a') as f:\n",
    "        # Check if the dataset 'theta_e' already exists\n",
    "        if 'theta_e' not in f:\n",
    "            # Create a dataset with the full size for all time steps (initially empty)\n",
    "            f.create_dataset('theta_e_LapseRate', \n",
    "                             (t_size, z_size, y_size, x_size),  # Full size for all timesteps\n",
    "                             maxshape=(None, z_size, y_size, x_size),  # Unlimited timesteps (can grow along time dimension)\n",
    "                             dtype='float64', \n",
    "                             chunks=(1, z_size, y_size, x_size))  # Chunks for time axis to allow resizing\n",
    "\n",
    "            \n",
    "def add_timestep_at_index(timestep_data, index):\n",
    "    out_file = dir2 + 'Variable_Calculation/OUTPUT/' + 'theta_e_LapseRate'+f'_{res}_{t_res}'+'.h5'\n",
    "    with h5py.File(out_file, 'a') as f:\n",
    "        # Access the existing dataset 'theta_e'\n",
    "        dataset = f['theta_e_LapseRate']\n",
    "        \n",
    "        # Assign the new timestep data at the specified index\n",
    "        dataset[index] = timestep_data"
   ]
  },
  {
   "cell_type": "code",
   "execution_count": null,
   "id": "80724eef-9233-4407-a125-f2c561bdaa9a",
   "metadata": {},
   "outputs": [],
   "source": [
    "#RUNNING"
   ]
  },
  {
   "cell_type": "code",
   "execution_count": null,
   "id": "61280de5-5522-4f9a-bc09-c98d411294d3",
   "metadata": {
    "scrolled": true
   },
   "outputs": [],
   "source": [
    "#MAKING ARRAY TO STORE THETA_E\n",
    "initiate_array()\n",
    "\n",
    "#CALCULATING AND APPENDING TO DATA EACH TIMESTEP\n",
    "for t in range(len(data['time'])):\n",
    "    if np.mod(t,1)==0: print(f'Current time {t}')\n",
    "    theta_e_t = th_e_ds1['theta_e'].isel(time=t).data\n",
    "    theta_e_LapseRate=MakeLapseRate(theta_e_t)\n",
    "    add_timestep_at_index(theta_e_LapseRate, t)\n",
    "\n",
    "\n",
    "#Fast for 1KM, 1.5 hours for 250M"
   ]
  },
  {
   "cell_type": "code",
   "execution_count": null,
   "id": "89c45cb4-5bb3-4c55-ad80-750cc397964f",
   "metadata": {},
   "outputs": [],
   "source": []
  },
  {
   "cell_type": "code",
   "execution_count": null,
   "id": "8fd7a424-d7ec-4997-8416-70e1b0dd0b48",
   "metadata": {},
   "outputs": [],
   "source": []
  },
  {
   "cell_type": "code",
   "execution_count": null,
   "id": "8ac3fdba-503d-4201-925f-670f580c71dc",
   "metadata": {},
   "outputs": [],
   "source": []
  },
  {
   "cell_type": "code",
   "execution_count": null,
   "id": "43171041-0fb3-4a7a-9b00-fd736d6e6a81",
   "metadata": {},
   "outputs": [],
   "source": [
    "##########################################################################"
   ]
  },
  {
   "cell_type": "code",
   "execution_count": null,
   "id": "7464010b-f240-4370-a0a6-fde4e3f54fb4",
   "metadata": {},
   "outputs": [],
   "source": [
    "# #READING FINAL OUTPUT\n",
    "# t=120\n",
    "# dir2='/mnt/lustre/koa/koastore/torri_group/air_directory/DCI-Project/'\n",
    "# # dir2='/mnt/lustre/koa/scratch/air673/'\n",
    "# with h5py.File(dir2 + 'Variable_Calculation/' + f'theta_e_LapseRate_{res}_{t_res}.h5', 'r') as f:\n",
    "#     # Access the existing dataset 'MSE'\n",
    "#     dataset = f['theta_e_LapseRate'][t]"
   ]
  },
  {
   "cell_type": "code",
   "execution_count": null,
   "id": "b900898a-552a-4f59-8200-6c4edcf4c934",
   "metadata": {},
   "outputs": [],
   "source": [
    "#TESTING\n",
    "########################################################################"
   ]
  },
  {
   "cell_type": "code",
   "execution_count": null,
   "id": "8f0a4ba9-8f5d-4bd5-9e37-5f2ca1c7bf0b",
   "metadata": {
    "jupyter": {
     "source_hidden": true
    }
   },
   "outputs": [],
   "source": [
    "# #READING FINAL OUTPUT\n",
    "# t=120\n",
    "# dir2='/mnt/lustre/koa/koastore/torri_group/air_directory/DCI-Project/'\n",
    "# # dir2='/mnt/lustre/koa/scratch/air673/'\n",
    "# with h5py.File(dir2 + 'Variable_Calculation/' + f'theta_e_{res}_{t_res}.h5', 'r') as f:\n",
    "#     # Access the existing dataset 'MSE'\n",
    "#     dataset1 = f theta_e'][t]"
   ]
  },
  {
   "cell_type": "code",
   "execution_count": null,
   "id": "33e95c13-8d19-4c36-ad95-1c10e683846d",
   "metadata": {
    "jupyter": {
     "source_hidden": true
    }
   },
   "outputs": [],
   "source": [
    "# #READING FINAL OUTPUT\n",
    "# t=120\n",
    "# dir2='/mnt/lustre/koa/koastore/torri_group/air_directory/DCI-Project/'\n",
    "# # dir2='/mnt/lustre/koa/scratch/air673/'\n",
    "# with h5py.File(dir2 + 'Variable_Calculation/' + f'theta_e_LapseRate_{res}_{t_res}.h5', 'r') as f:\n",
    "#     # Access the existing dataset 'MSE'\n",
    "#     dataset2 = f['theta_e_LapseRate'][t]"
   ]
  },
  {
   "cell_type": "code",
   "execution_count": null,
   "id": "dcdb901e-31d9-4434-b29b-e5244a8a3884",
   "metadata": {
    "jupyter": {
     "source_hidden": true
    }
   },
   "outputs": [],
   "source": [
    "# z_level=5\n",
    "# out=dataset2[z_level]\n",
    "# plt.contourf(out)\n",
    "# plt.colorbar()\n",
    "# plt.title(f\"z = {data['zh'][z_level].data*1000:.0f}m\")"
   ]
  },
  {
   "cell_type": "code",
   "execution_count": null,
   "id": "a8caee31-fc04-4e8f-ac42-467dafd472e0",
   "metadata": {
    "jupyter": {
     "source_hidden": true
    }
   },
   "outputs": [],
   "source": [
    "# #TESTING CALCULATION INDEPENDENTLY\n",
    "# zf=data['zf'].data\n",
    "# subset1=dataset1[0:10];subset2=dataset2[0:10]\n",
    "# # subset1=subset1[:,100,300]; subset2=subset2[:,100,300] ###Negative LapseRate\n",
    "# subset1=subset1[:,199,510]; subset2=subset2[:,199,510] ###Positive LapseRate\n",
    "# z_level=5\n",
    "# #TRY ONE\n",
    "# derivative = (subset1[z_level+1] - subset1[z_level-1]) / (2 * (zf[z_level] - zf[z_level-1]))\n",
    "# print(derivative,subset2[z_level])\n",
    "\n",
    "# #TRY TWO\n",
    "# dz=np.diff(data['zf'].values)\n",
    "# derivative = (subset1[z_level+1] - subset1[z_level-1]) / (2 * (dz[z_level]))\n",
    "# print(derivative,subset2[z_level])"
   ]
  }
 ],
 "metadata": {
  "kernelspec": {
   "display_name": "Python 3 (ipykernel)",
   "language": "python",
   "name": "python3"
  },
  "language_info": {
   "codemirror_mode": {
    "name": "ipython",
    "version": 3
   },
   "file_extension": ".py",
   "mimetype": "text/x-python",
   "name": "python",
   "nbconvert_exporter": "python",
   "pygments_lexer": "ipython3",
   "version": "3.11.8"
  }
 },
 "nbformat": 4,
 "nbformat_minor": 5
}

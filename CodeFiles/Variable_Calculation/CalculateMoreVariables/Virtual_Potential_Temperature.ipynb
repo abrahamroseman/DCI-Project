{
 "cells": [
  {
   "cell_type": "code",
   "execution_count": 18,
   "id": "40cd1498-5696-429a-837f-aad22805da76",
   "metadata": {},
   "outputs": [],
   "source": [
    "####################################\n",
    "#ENVIRONMENT SETUP"
   ]
  },
  {
   "cell_type": "code",
   "execution_count": 19,
   "id": "f9f6d7bf-2fb7-4c57-8478-babf8f3d3a73",
   "metadata": {},
   "outputs": [],
   "source": [
    "#Importing Libraries\n",
    "import numpy as np\n",
    "import matplotlib.pyplot as plt\n",
    "import matplotlib.colors as mcolors\n",
    "import matplotlib.ticker as ticker\n",
    "import matplotlib.cm as cm\n",
    "from matplotlib.colors import Normalize\n",
    "from matplotlib.ticker import MaxNLocator\n",
    "from matplotlib.ticker import ScalarFormatter\n",
    "import matplotlib.gridspec as gridspec\n",
    "import xarray as xr\n",
    "\n",
    "import sys; import os; import time; from datetime import timedelta\n",
    "import pickle\n",
    "import h5py"
   ]
  },
  {
   "cell_type": "code",
   "execution_count": 20,
   "id": "c16fdfd5-5e38-49c7-ac14-079d3a3921eb",
   "metadata": {},
   "outputs": [],
   "source": [
    "#MAIN DIRECTORIES\n",
    "def GetDirectories():\n",
    "    mainDirectory='/mnt/lustre/koa/koastore/torri_group/air_directory/Projects/DCI-Project/'\n",
    "    mainCodeDirectory=os.path.join(mainDirectory,\"Code/CodeFiles/\")\n",
    "    scratchDirectory='/mnt/lustre/koa/scratch/air673/'\n",
    "    codeDirectory=os.getcwd()\n",
    "    return mainDirectory,mainCodeDirectory,scratchDirectory,codeDirectory\n",
    "\n",
    "[mainDirectory,mainCodeDirectory,scratchDirectory,codeDirectory] = GetDirectories()"
   ]
  },
  {
   "cell_type": "code",
   "execution_count": 21,
   "id": "111fa5a3-0ddd-43d0-bc7d-8404126d8e78",
   "metadata": {},
   "outputs": [],
   "source": [
    "#IMPORT CLASSES (from current directory)\n",
    "sys.path.append(os.path.join(mainCodeDirectory,\"Variable_Calculation\"))\n",
    "from CLASSES_Variable_Calculation import ModelData_Class, SlurmJobArray_Class, DataManager_Class"
   ]
  },
  {
   "cell_type": "code",
   "execution_count": 22,
   "id": "22781812-aed1-4754-8921-ca6c9d797082",
   "metadata": {},
   "outputs": [],
   "source": [
    "####################################\n",
    "#LOADING CLASSES"
   ]
  },
  {
   "cell_type": "code",
   "execution_count": 23,
   "id": "99ece3d5-1e99-4843-beb6-adbf009f73c8",
   "metadata": {},
   "outputs": [
    {
     "name": "stdout",
     "output_type": "stream",
     "text": [
      "=== CM1 Data Summary ===\n",
      " Simulation #:   1\n",
      " Resolution:     1km\n",
      " Time step:      5min\n",
      " Vertical levels:34\n",
      " Parcels:        1e6\n",
      " Data file:      /mnt/lustre/koa/koastore/torri_group/air_directory/Projects/DCI-Project/Model/cm1r20.3/run/cm1out_1km_5min_34nz.nc\n",
      " Parcel file:    /mnt/lustre/koa/koastore/torri_group/air_directory/Projects/DCI-Project/Model/cm1r20.3/run/cm1out_pdata_1km_5min_1e6np.nc\n",
      " Time steps:     133\n",
      "========================= \n",
      "\n",
      "=== DataManager Summary ===\n",
      " inputDirectory #:   /mnt/lustre/koa/koastore/torri_group/air_directory/Projects/DCI-Project/Code/OUTPUT/Variable_Calculation/TimeSplitModelData\n",
      " outputDirectory #:   /mnt/lustre/koa/koastore/torri_group/air_directory/Projects/DCI-Project/Code/OUTPUT/Variable_Calculation/CalculateMoreVariables\n",
      " inputDataDirectory #:   /mnt/lustre/koa/koastore/torri_group/air_directory/Projects/DCI-Project/Code/OUTPUT/Variable_Calculation/TimeSplitModelData/1km_5min_34nz/ModelData\n",
      " outputDataDirectory #:   /mnt/lustre/koa/koastore/torri_group/air_directory/Projects/DCI-Project/Code/OUTPUT/Variable_Calculation/CalculateMoreVariables/1km_5min_34nz/Virtual_Potential_Temperature\n",
      "========================= \n",
      "\n"
     ]
    }
   ],
   "source": [
    "#data loading class\n",
    "ModelData = ModelData_Class(mainDirectory, scratchDirectory, simulationNumber=1)\n",
    "#data manager class\n",
    "DataManager = DataManager_Class(mainDirectory, scratchDirectory, ModelData.res, ModelData.t_res, ModelData.Nz_str,\n",
    "                                ModelData.Np_str, dataType=\"CalculateMoreVariables\", dataName=\"Virtual_Potential_Temperature\",\n",
    "                                dtype='float32')"
   ]
  },
  {
   "cell_type": "code",
   "execution_count": 24,
   "id": "92b2594f-b139-4fc5-aaa4-57617b7d9244",
   "metadata": {},
   "outputs": [
    {
     "name": "stdout",
     "output_type": "stream",
     "text": [
      "Running timesteps from 0:7 \n",
      "\n"
     ]
    }
   ],
   "source": [
    "#JOB ARRAY SETUP\n",
    "UsingJobArray=True\n",
    "\n",
    "def GetNumJobs(res):\n",
    "    if res=='1km':\n",
    "        num_jobs=20\n",
    "    elif res=='250m': \n",
    "        num_jobs=100\n",
    "    return num_jobs\n",
    "num_jobs = GetNumJobs(ModelData.res)\n",
    "SlurmJobArray = SlurmJobArray_Class(total_elements=ModelData.Ntime, num_jobs=num_jobs, UsingJobArray=UsingJobArray)\n",
    "start_job = SlurmJobArray.start_job; end_job = SlurmJobArray.end_job\n",
    "\n",
    "def GetNumElements():\n",
    "    num_elements = np.arange(ModelData.Ntime)[start_job:end_job]\n",
    "    return num_elements\n",
    "num_elements = GetNumElements()\n"
   ]
  },
  {
   "cell_type": "code",
   "execution_count": 25,
   "id": "eb2bc47e-ba89-4877-b824-31bdb876518b",
   "metadata": {},
   "outputs": [],
   "source": [
    "####################################\n",
    "#FUNCTIONS"
   ]
  },
  {
   "cell_type": "code",
   "execution_count": 26,
   "id": "9275aad9-1c9d-45db-b912-91db7f58072e",
   "metadata": {},
   "outputs": [],
   "source": [
    "#Calculation Functions\n",
    "def GetInputVariables(inputDataDirectory, timeString):\n",
    "\n",
    "    ################################# POTENTIAL TEMPERATURE\n",
    "    th = DataManager.GetTimestepData(inputDataDirectory, timeString, variableName=\"th\")\n",
    "    \n",
    "    ################################# MOISTURE\n",
    "    rv = DataManager.GetTimestepData(inputDataDirectory, timeString, variableName=\"qv\")\n",
    "    \n",
    "    qc_data = DataManager.GetTimestepData(inputDataDirectory, timeString, variableName=\"qc\")\n",
    "    qr_data = DataManager.GetTimestepData(inputDataDirectory, timeString, variableName=\"qr\")\n",
    "    rl = qc_data + qr_data\n",
    "    \n",
    "    ri = DataManager.GetTimestepData(inputDataDirectory, timeString, variableName=\"qi\")\n",
    "    \n",
    "    ################################# CONSTANTS\n",
    "    Rd=287.04; Rv=461.5\n",
    "    eps = Rd / Rv\n",
    "    # Cpd=1005.7 #+-2.5\n",
    "    # Cpv=1870 #+-25\n",
    "    # Cpl=4190 #+-30\n",
    "    # Lv0=2.501e6\n",
    "    # def Lv(T): #Kirchoff's formula L_i,ii= L_i,ii0+(Cpii-Cpi)*(T-273.15)\n",
    "    #     Llv=Lv0+(Cpv-Cpl)*(T-273.15) #should it be Cpl. is Cl the same?***\n",
    "    #     return Llv\n",
    "    \n",
    "\n",
    "    InputDictionary = {'th': th,\n",
    "                       'rv': rv,\n",
    "                       'rl': rl,\n",
    "                       'ri': ri,\n",
    "                       'eps': eps\n",
    "                       }\n",
    "    return InputDictionary\n",
    "\n",
    "def VariableCalculation(inputDictionary):\n",
    "    [th,rv,rl,ri,eps] = (inputDictionary[k] for k in ['th','rv','rl','ri','eps'])\n",
    "\n",
    "    ################################# TEMPERATURE\n",
    "    # T=theta*(P/p0)**(Rd/Cpd)\n",
    "    \n",
    "    ################################# VIRTUAL TEMPERATURE\n",
    "    # eps=Rd/Rv\n",
    "    # rv=data['qv'].data\n",
    "    # scalar=(1+rv/eps)/(1+rv+rl+ri)\n",
    "    # T=theta*(P/p0)**(Rd/Cpd) #P is needed from model data\n",
    "    # Tv=T*scalar \n",
    "    # outputDictionary={'Tv': Tv} \n",
    "    \n",
    "    ################################# VIRTUAL POTENTIAL TEMPERATURE\n",
    "    theta_v = (th*(1+rv/eps))/(1+rv+rl+ri)\n",
    "    \n",
    "    outputDictionary={'theta_v': theta_v}\n",
    "    return outputDictionary"
   ]
  },
  {
   "cell_type": "code",
   "execution_count": 27,
   "id": "035d5648-6275-4096-85bc-c8d133721941",
   "metadata": {},
   "outputs": [],
   "source": [
    "####################################\n",
    "#RUNNING"
   ]
  },
  {
   "cell_type": "code",
   "execution_count": 29,
   "id": "4e0959d6-7b16-41e6-b9a2-861e3155347e",
   "metadata": {
    "scrolled": true
   },
   "outputs": [
    {
     "name": "stdout",
     "output_type": "stream",
     "text": [
      "Current time 0\n",
      "Saved timestep to output file: /mnt/lustre/koa/koastore/torri_group/air_directory/Projects/DCI-Project/Code/OUTPUT/Variable_Calculation/CalculateMoreVariables/1km_5min_34nz/Virtual_Potential_Temperature/Virtual_Potential_Temperature_1km_5min_34nz_0-00-00.h5\n",
      "Current time 1\n",
      "Saved timestep to output file: /mnt/lustre/koa/koastore/torri_group/air_directory/Projects/DCI-Project/Code/OUTPUT/Variable_Calculation/CalculateMoreVariables/1km_5min_34nz/Virtual_Potential_Temperature/Virtual_Potential_Temperature_1km_5min_34nz_0-05-00.h5\n",
      "Current time 2\n",
      "Saved timestep to output file: /mnt/lustre/koa/koastore/torri_group/air_directory/Projects/DCI-Project/Code/OUTPUT/Variable_Calculation/CalculateMoreVariables/1km_5min_34nz/Virtual_Potential_Temperature/Virtual_Potential_Temperature_1km_5min_34nz_0-10-00.h5\n",
      "Current time 3\n",
      "Saved timestep to output file: /mnt/lustre/koa/koastore/torri_group/air_directory/Projects/DCI-Project/Code/OUTPUT/Variable_Calculation/CalculateMoreVariables/1km_5min_34nz/Virtual_Potential_Temperature/Virtual_Potential_Temperature_1km_5min_34nz_0-15-00.h5\n",
      "Current time 4\n",
      "Saved timestep to output file: /mnt/lustre/koa/koastore/torri_group/air_directory/Projects/DCI-Project/Code/OUTPUT/Variable_Calculation/CalculateMoreVariables/1km_5min_34nz/Virtual_Potential_Temperature/Virtual_Potential_Temperature_1km_5min_34nz_0-20-00.h5\n",
      "Current time 5\n",
      "Saved timestep to output file: /mnt/lustre/koa/koastore/torri_group/air_directory/Projects/DCI-Project/Code/OUTPUT/Variable_Calculation/CalculateMoreVariables/1km_5min_34nz/Virtual_Potential_Temperature/Virtual_Potential_Temperature_1km_5min_34nz_0-25-00.h5\n",
      "Current time 6\n",
      "Saved timestep to output file: /mnt/lustre/koa/koastore/torri_group/air_directory/Projects/DCI-Project/Code/OUTPUT/Variable_Calculation/CalculateMoreVariables/1km_5min_34nz/Virtual_Potential_Temperature/Virtual_Potential_Temperature_1km_5min_34nz_0-30-00.h5\n"
     ]
    }
   ],
   "source": [
    "#CALCULATING AND APPENDING TO DATA EACH TIMESTEP\n",
    "for t in num_elements:\n",
    "    if np.mod(t,1)==0: print(f'Current time {t}')\n",
    "\n",
    "    #getting timestring for loading input data\n",
    "    timeString = ModelData.timeStrings[t]\n",
    "\n",
    "    #loading input variables\n",
    "    inputDictionary = GetInputVariables(DataManager.inputDataDirectory, timeString)\n",
    "\n",
    "    #calculating variables\n",
    "    outputDictionary = VariableCalculation(inputDictionary)\n",
    "    \n",
    "    #outputting\n",
    "    DataManager.SaveOutputTimestep(DataManager.outputDataDirectory, timeString, outputDictionary)"
   ]
  },
  {
   "cell_type": "code",
   "execution_count": null,
   "id": "d7e8a7e4-0f27-454a-9498-a7ada631f716",
   "metadata": {},
   "outputs": [],
   "source": []
  },
  {
   "cell_type": "code",
   "execution_count": null,
   "id": "414a8560-64b0-462a-92b8-f7d9c5aa61e2",
   "metadata": {},
   "outputs": [],
   "source": []
  },
  {
   "cell_type": "code",
   "execution_count": null,
   "id": "e112baff-ee64-417a-bfdd-67860445cb29",
   "metadata": {},
   "outputs": [],
   "source": []
  },
  {
   "cell_type": "code",
   "execution_count": null,
   "id": "4eaefb40-cf81-4660-8fba-dfc6e7c4f820",
   "metadata": {},
   "outputs": [],
   "source": [
    "######################################################"
   ]
  },
  {
   "cell_type": "code",
   "execution_count": 31,
   "id": "464720b6-e5cf-476d-87a3-e51c609b6cec",
   "metadata": {},
   "outputs": [],
   "source": [
    "# #READING BACK IN\n",
    "# def GetVariableData(t, dataName=\"Virtual_Potential_Temperature\"):\n",
    "#     res = ModelData.res\n",
    "#     t_res = ModelData.t_res\n",
    "#     Nz_str = ModelData.Nz_str\n",
    "#     inputDirectory = os.path.join(DataManager.outputDirectory, f\"{res}_{t_res}_{Nz_str}nz\", dataName)\n",
    "#     timeString = ModelData.timeStrings[t]\n",
    "\n",
    "#     FileName = os.path.join(inputDirectory, f\"{dataName}_{res}_{t_res}_{Nz_str}nz_{timeString}.h5\")\n",
    "\n",
    "#     dataDictionary = {}\n",
    "#     with h5py.File(FileName, 'r') as f:\n",
    "#         print(\"Keys in file:\", list(f.keys()))\n",
    "#         for key in f.keys():\n",
    "#             dataDictionary[key] = f[key][:]\n",
    "#             print(f\"{key}: shape = {dataDictionary[key].shape}, dtype = {dataDictionary[key].dtype}\")\n",
    "#     return dataDictionary\n",
    "\n",
    "# dataDictionary = GetVariableData(t=0)"
   ]
  }
 ],
 "metadata": {
  "kernelspec": {
   "display_name": "Python 3 (ipykernel)",
   "language": "python",
   "name": "python3"
  },
  "language_info": {
   "codemirror_mode": {
    "name": "ipython",
    "version": 3
   },
   "file_extension": ".py",
   "mimetype": "text/x-python",
   "name": "python",
   "nbconvert_exporter": "python",
   "pygments_lexer": "ipython3",
   "version": "3.11.8"
  }
 },
 "nbformat": 4,
 "nbformat_minor": 5
}

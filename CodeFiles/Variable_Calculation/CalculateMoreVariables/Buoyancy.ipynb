{
 "cells": [
  {
   "cell_type": "code",
   "execution_count": null,
   "id": "40cd1498-5696-429a-837f-aad22805da76",
   "metadata": {},
   "outputs": [],
   "source": [
    "#Importing Libraries\n",
    "import numpy as np\n",
    "import matplotlib.pyplot as plt\n",
    "import matplotlib.colors as mcolors\n",
    "import matplotlib.ticker as ticker\n",
    "import matplotlib.cm as cm\n",
    "from matplotlib.colors import Normalize\n",
    "from matplotlib.ticker import MaxNLocator\n",
    "from matplotlib.ticker import ScalarFormatter\n",
    "import matplotlib.gridspec as gridspec\n",
    "import xarray as xr\n",
    "import os; import time\n",
    "import pickle\n",
    "import h5py"
   ]
  },
  {
   "cell_type": "code",
   "execution_count": null,
   "id": "ba457dc4-e594-4868-b2d2-77526bcd5eb2",
   "metadata": {},
   "outputs": [],
   "source": [
    "#MAIN DIRECTORIES\n",
    "mainDirectory='/mnt/lustre/koa/koastore/torri_group/air_directory/Projects/DCI-Project/'\n",
    "scratchDirectory='/home/air673/koa_scratch/'\n",
    "codeDirectory='/mnt/lustre/koa/koastore/torri_group/air_directory/Projects/DCI-Project/Variable_Calculation/CalculateMoreVariables'"
   ]
  },
  {
   "cell_type": "code",
   "execution_count": null,
   "id": "f4594365-3492-434e-acb1-3b5488a09343",
   "metadata": {},
   "outputs": [],
   "source": [
    "#LOADING DATA\n",
    "def GetDataDirectories(simulationNumber):\n",
    "    if simulationNumber == 1:\n",
    "        Directory=os.path.join(mainDirectory,'Model/cm1r20.3/run')\n",
    "        res='1km'; t_res='5min'; Np_str='1e6'; Nz_str='34'\n",
    "    elif simulationNumber == 2:\n",
    "        Directory=scratchDirectory\n",
    "        res='1km'; t_res='1min'; Np_str='50e6'; Nz_str='95'\n",
    "    elif simulationNumber == 3:\n",
    "        Directory=scratchDirectory\n",
    "        res='250m'; t_res='1min'; Np_str='50e6'; Nz_str='95'\n",
    "        \n",
    "    dataDirectory = os.path.join(Directory, f\"cm1out_{res}_{t_res}_{Nz_str}nz.nc\")\n",
    "    parcelDirectory = os.path.join(Directory,f\"cm1out_pdata_{res}_{t_res}_{Np_str}np.nc\")\n",
    "    return dataDirectory, parcelDirectory, res,t_res,Np_str,Nz_str\n",
    "    \n",
    "def GetData(dataDirectory, parcelDirectory):\n",
    "    dataNC = xr.open_dataset(dataDirectory, decode_timedelta=True) \n",
    "    parcelNC = xr.open_dataset(parcelDirectory, decode_timedelta=True) \n",
    "    return dataNC,parcelNC\n",
    "\n",
    "def SubsetDataVars(dataNC):\n",
    "    varList = [\"thflux\", \"qvflux\", \"tsk\", \"cape\", \n",
    "               \"cin\", \"lcl\", \"lfc\", \"th\",\n",
    "               \"prs\", \"rho\", \"qv\", \"qc\",\n",
    "               \"qr\", \"qi\", \"qs\",\"qg\", \n",
    "               \"buoyancy\", \"uinterp\", \"vinterp\", \"winterp\",]\n",
    "    \n",
    "    varList += [\"ptb_hadv\", \"ptb_vadv\", \"ptb_hidiff\", \"ptb_vidiff\",\n",
    "                \"ptb_hturb\", \"ptb_vturb\", \"ptb_mp\", \"ptb_rdamp\", \n",
    "                \"ptb_rad\", \"ptb_div\", \"ptb_diss\",]\n",
    "    \n",
    "    varList += [\"qvb_hadv\", \"qvb_vadv\", \"qvb_hidiff\", \"qvb_vidiff\", \n",
    "                \"qvb_hturb\", \"qvb_vturb\", \"qvb_mp\",]\n",
    "    \n",
    "    varList += [\"wb_hadv\", \"wb_vadv\", \"wb_hidiff\", \"wb_vidiff\",\n",
    "                \"wb_hturb\", \"wb_vturb\", \"wb_pgrad\", \"wb_rdamp\", \"wb_buoy\",]\n",
    "\n",
    "    return dataNC[varList]\n",
    "\n",
    "[dataDirectory,parcelDirectory, res,t_res,Np_str,Nz_str] = GetDataDirectories(simulationNumber=1)\n",
    "[data,parcel] = GetData(dataDirectory, parcelDirectory)"
   ]
  },
  {
   "cell_type": "code",
   "execution_count": null,
   "id": "21d6808f-09d3-4393-9b5b-bcc3d4dea57c",
   "metadata": {},
   "outputs": [],
   "source": [
    "dir='/mnt/lustre/koa/koastore/torri_group/air_directory/DCI-Project/'"
   ]
  },
  {
   "cell_type": "code",
   "execution_count": null,
   "id": "2d3296dc-3e84-47eb-bb15-2d1fc92a227b",
   "metadata": {},
   "outputs": [],
   "source": [
    "import sys\n",
    "dir2='/mnt/lustre/koa/koastore/torri_group/air_directory/DCI-Project/'\n",
    "path=dir2+'../Functions/'\n",
    "sys.path.append(path)\n",
    "\n",
    "import NumericalFunctions\n",
    "from NumericalFunctions import * # import NumericalFunctions \n",
    "import PlottingFunctions\n",
    "from PlottingFunctions import * # import PlottingFunctions\n",
    "\n",
    "# # Get all functions in NumericalFunctions\n",
    "# import inspect\n",
    "# functions = [f[0] for f in inspect.getmembers(NumericalFunctions, inspect.isfunction)]\n",
    "# functions\n",
    "\n",
    "#####\n",
    "\n",
    "#Import StatisticalFunctions \n",
    "import sys\n",
    "dir2='/mnt/lustre/koa/koastore/torri_group/air_directory/DCI-Project/'\n",
    "path=dir2+'../Functions/'\n",
    "sys.path.append(path)\n",
    "\n",
    "import StatisticalFunctions\n",
    "from StatisticalFunctions import * # import NumericalFunctions "
   ]
  },
  {
   "cell_type": "code",
   "execution_count": null,
   "id": "62ca1e18-fad0-4324-92d1-7e85da85e539",
   "metadata": {},
   "outputs": [],
   "source": [
    "#LOAD VARIABLES\n",
    "################################################################################\n",
    "def LoadData(data_t,horiz_avg):\n",
    "    #LOADING TERMS\n",
    "    rho=data_t['rho'].data\n",
    "\n",
    "    #MAKING MEAN TERMS\n",
    "    if horiz_avg==False:\n",
    "        rho0 = data['rho'].isel(time=0).mean(dim=('xh', 'yh')).data[:, np.newaxis, np.newaxis]\n",
    "    elif horiz_avg==True:\n",
    "        #using horizontal average at each timestep\n",
    "        rho_mean = np.mean(rho, axis=(1, 2), keepdims=True)   # shape (z, 1, 1)\n",
    "\n",
    "    if horiz_avg==False:\n",
    "        #using first timestep single column, as in cm1\n",
    "        rho_mean = rho0.copy()\n",
    "\n",
    "    #MAKING PERTURBATION TERMS\n",
    "    rho_prime = rho - rho_mean\n",
    "    \n",
    "    return rho_prime,rho_mean"
   ]
  },
  {
   "cell_type": "code",
   "execution_count": null,
   "id": "ea4c8def-3dfb-4ea5-a665-33b3ea0b8fd6",
   "metadata": {},
   "outputs": [],
   "source": [
    "def GetTrueBuoyancy(data, data_t):\n",
    "    # CM1 MODEL OUTPUT BUOYANCY (TH_V approximation + extra approximations)\n",
    "    buoyancy_cm1 = data_t['buoyancy'].data  # Use model output directly\n",
    "\n",
    "    # FULL BUOYANCY CALCULATION\n",
    "    g = 9.81\n",
    "    local_vars = {}\n",
    "    for horiz_avg in [False, True]:  # using horizontal average at first timestep OR at each timestep\n",
    "        [rho_prime, rho_mean] = LoadData(data_t, horiz_avg)\n",
    "        buoyancy = -g * rho_prime / rho_mean\n",
    "\n",
    "        var_name = 'buoyancy_full' if not horiz_avg else 'buoyancy_full_each_t'\n",
    "        local_vars[var_name] = buoyancy\n",
    "\n",
    "    return {\n",
    "        'buoyancy_cm1': buoyancy_cm1,\n",
    "        **local_vars  # Unpack local_vars into the return dict\n",
    "    }"
   ]
  },
  {
   "cell_type": "code",
   "execution_count": null,
   "id": "d09aa1e0-4d1c-4810-b668-ecb44b1c29cd",
   "metadata": {},
   "outputs": [],
   "source": [
    "def GetOutputName():\n",
    "    if res=='1km':\n",
    "        dir2='/mnt/lustre/koa/koastore/torri_group/air_directory/DCI-Project/'\n",
    "    elif res=='250m':\n",
    "        dir2='/mnt/lustre/koa/scratch/air673/'\n",
    "    out_file = dir2 + 'Variable_Calculation/OUTPUT/' + f'Buoyancy_{res}_{t_res}.h5'\n",
    "    return out_file\n",
    "    \n",
    "def initiate_array(VarNames):\n",
    "    # Define array dimensions (adjust based on your data)\n",
    "    t_size = len(data['time'])  # Number of timesteps\n",
    "    z_size = len(data['zh'])    # Number of vertical levels\n",
    "    y_size = len(data['yh'])    # Number of y-axis points\n",
    "    x_size = len(data['xh'])    # Number of x-axis points\n",
    "\n",
    "    out_file=GetOutputName()\n",
    "\n",
    "    with h5py.File(out_file, 'a') as f:\n",
    "        for var_name in VarNames:\n",
    "            if var_name not in f:\n",
    "                f.create_dataset(\n",
    "                    var_name,\n",
    "                    shape=(t_size, z_size, y_size, x_size),\n",
    "                    maxshape=(None, z_size, y_size, x_size),\n",
    "                    dtype='float64',\n",
    "                    chunks=(1, z_size, y_size, x_size)\n",
    "                )\n",
    "\n",
    "def add_timestep_at_index(VARS, index, ):\n",
    "    out_file=GetOutputName()\n",
    "    \n",
    "    with h5py.File(out_file, 'a') as f:\n",
    "        for var_name, timestep_data in VARS.items():\n",
    "            if var_name in f:\n",
    "                f[var_name][index] = timestep_data\n",
    "            else:\n",
    "                raise KeyError(f\"Dataset '{var_name}' does not exist in {out_file}\")"
   ]
  },
  {
   "cell_type": "code",
   "execution_count": null,
   "id": "80724eef-9233-4407-a125-f2c561bdaa9a",
   "metadata": {},
   "outputs": [],
   "source": [
    "#RUNNING"
   ]
  },
  {
   "cell_type": "code",
   "execution_count": null,
   "id": "61280de5-5522-4f9a-bc09-c98d411294d3",
   "metadata": {
    "scrolled": true
   },
   "outputs": [],
   "source": [
    "#MAKING ARRAY TO STORE BUOYANCY\n",
    "VarNames=['buoyancy_cm1','buoyancy_full','buoyancy_full_each_t']\n",
    "initiate_array(VarNames)\n",
    "\n",
    "#CALCULATING AND APPENDING TO DATA EACH TIMESTEP\n",
    "for t in range(len(data['time'])):\n",
    "    if np.mod(t,1)==0: print(f'Current time {t}')\n",
    "    data_t=data.isel(time=t)\n",
    "    \n",
    "    VARS = GetTrueBuoyancy(data, data_t)\n",
    "    add_timestep_at_index(VARS, t)\n",
    "\n"
   ]
  },
  {
   "cell_type": "code",
   "execution_count": null,
   "id": "bed94e15-98fe-4e4d-9ac3-3cd002c96da2",
   "metadata": {},
   "outputs": [],
   "source": []
  },
  {
   "cell_type": "code",
   "execution_count": null,
   "id": "43171041-0fb3-4a7a-9b00-fd736d6e6a81",
   "metadata": {},
   "outputs": [],
   "source": [
    "##########################################################################\n",
    "# #READING BACK IN"
   ]
  },
  {
   "cell_type": "code",
   "execution_count": null,
   "id": "7464010b-f240-4370-a0a6-fde4e3f54fb4",
   "metadata": {
    "jupyter": {
     "source_hidden": true
    }
   },
   "outputs": [],
   "source": [
    "# t=100\n",
    "# approximation=True\n",
    "# # approximation=False\n",
    "# in_file=GetOutputName(approximation)\n",
    "# #READING FINAL OUTPUT\n",
    "# dir2='/mnt/lustre/koa/koastore/torri_group/air_directory/DCI-Project/'\n",
    "# # dir2='/mnt/lustre/koa/scratch/air673/'\n",
    "# with h5py.File(in_file, 'a') as f:\n",
    "#     # Access the existing dataset 'MSE'\n",
    "#     th_term = f['th_term'][t]\n",
    "#     rv_term = f['rv_term'][t]\n",
    "#     rl_term = f['rl_term'][t]"
   ]
  },
  {
   "cell_type": "code",
   "execution_count": null,
   "id": "38f61e18-470c-4c36-a516-5eaf95b580a6",
   "metadata": {},
   "outputs": [],
   "source": [
    "##########################################################################\n",
    "# #TESTING"
   ]
  },
  {
   "cell_type": "code",
   "execution_count": null,
   "id": "432089c2-f231-4f8e-a689-eba1b7a7d73d",
   "metadata": {
    "jupyter": {
     "source_hidden": true
    }
   },
   "outputs": [],
   "source": [
    "# def CalculateInitial(data, varname):\n",
    "#     if varname == 'th_v':\n",
    "#         data_t = data.isel(time=0)\n",
    "#         var = MakeTheta_V(data_t)[varname]\n",
    "#         # init_array = var[:, 0, 0]\n",
    "#         init_array = np.mean(var, axis=(1, 2))\n",
    "#     else:\n",
    "#         # init_array = data[varname].isel(time=0, yh=0, xh=0).data\n",
    "#         init_array = data[varname].isel(time=0).mean(dim=(\"yh\", \"xh\")).data\n",
    "#     return init_array\n",
    "# def MakeTheta_V(data_t):\n",
    "    \n",
    "#     #LOAD VARIABLES\n",
    "#     ################################################################################\n",
    "#     def load_vars(data_t):\n",
    "#         # print('MOISTURE VARIABLES'); ################################# MOISTURE VARIABLES\n",
    "#         rv=data_t['qv'].data;rl=data_t['qc'].data+data_t['qr'].data;\n",
    "#         ri=data_t['qi'].data\n",
    "        \n",
    "#         # print('THERMODYNAMICS'); ################################# THERMODYNAMICS\n",
    "#         Rd=287.04\n",
    "#         Rv=461.5\n",
    "#         eps = Rd / Rv\n",
    "        \n",
    "#         # print('POTENTIAL TEMPERATURE'); ################################# POTENTIAL TEMPERATURE\n",
    "#         th=data_t['th'].data\n",
    "    \n",
    "#         return th,rv,rl,ri,eps\n",
    "    \n",
    "#     def make_theta_v(th,rv,rl,ri,eps):\n",
    "#         # print('VIRTUAL POTENTIAL TEMPERATURE'); ################################# VIRTUAL POTENTIAL TEMPERATURE\n",
    "#         th_v = (th*(1+rv/eps))/(1+rv+rl+ri)\n",
    "    \n",
    "#         # print('TEMPERATURE'); ################################# TEMPERATURE\n",
    "#         # T=theta*(P/p0)**(Rd/Cpd)\n",
    "        \n",
    "#         # print('VIRTUAL TEMPERATURE'); ################################# VIRTUAL TEMPERATURE\n",
    "#         # eps=Rd/Rv\n",
    "#         # rv=data['qv'].data\n",
    "#         # scalar=(1+rv/eps)/(1+rv+rl+ri)\n",
    "#         # Tv=T*scalar\n",
    "#         VARs={'th_v': th_v}\n",
    "#         return VARs\n",
    "#     [th,rv,rl,ri,eps]=load_vars(data_t)\n",
    "#     VARS=make_theta_v(th,rv,rl,ri,eps)\n",
    "#     return VARS\n",
    "\n",
    "# def PerturbationOverMean(varname, t, z):\n",
    "#     # Select data at time t and vertical level z\n",
    "#     data_tz = data.isel(time=t, zh=z)\n",
    "    \n",
    "#     if varname == 'th_v':\n",
    "#         var = MakeTheta_V(data_tz)['th_v']  # Should return DataArray at t,z with spatial dims\n",
    "#     else: \n",
    "#         var = data_tz[varname]  # Access from selected subset\n",
    "    \n",
    "#     # Calculate mean over horizontal dims at level z and time t\n",
    "#     # Assuming CalculateInitial returns mean profile array indexed by z\n",
    "#     var_mean = CalculateInitial(data, varname)[z]  \n",
    "    \n",
    "#     # Broadcast mean to var shape for subtraction\n",
    "#     # If var is 2D (yh,xh), var_mean is scalar — this works automatically in xarray/numpy\n",
    "    \n",
    "#     var_prime = var - var_mean\n",
    "    \n",
    "#     # Return perturbation normalized by mean, same shape as var\n",
    "#     return var_prime / var_mean\n",
    "\n",
    "\n",
    "# def ModelBuoyancy(t, z):\n",
    "#     # Return buoyancy at time t and level z\n",
    "#     B = data['buoyancy'].isel(time=t, zh=z)\n",
    "    \n",
    "#     # Return as numpy array if you prefer\n",
    "#     return B.data\n"
   ]
  },
  {
   "cell_type": "code",
   "execution_count": null,
   "id": "4d2fe9a5-adad-412f-ac42-d8ad591e1e52",
   "metadata": {
    "jupyter": {
     "source_hidden": true
    }
   },
   "outputs": [],
   "source": [
    "# #CALCULATING PRIMEBARs\n",
    "# t=100\n",
    "# z=15\n",
    "# rho_primebar=PerturbationOverMean('rho',t,z).data\n",
    "# prs_primebar=PerturbationOverMean('prs',t,z).data\n",
    "# th_v_primebar=PerturbationOverMean('th_v',t,z)"
   ]
  },
  {
   "cell_type": "code",
   "execution_count": null,
   "id": "911108b2-5e2a-47eb-aba7-e481941fac48",
   "metadata": {
    "jupyter": {
     "source_hidden": true
    }
   },
   "outputs": [],
   "source": [
    "# #CALCULATING BUOYANCYs\n",
    "# g=9.81;\n",
    "# Rd=287.04;Cpd=1005.7; k=Rd/Cpd\n",
    "# B_full=-g*rho_primebar\n",
    "# B_thv=g*th_v_primebar\n",
    "\n",
    "# B_prs=-g*(1-k)*prs_primebar\n",
    "# B_prs_plus_thv=B_thv+B_prs\n",
    "\n",
    "# B_model=ModelBuoyancy(t,z)"
   ]
  },
  {
   "cell_type": "code",
   "execution_count": null,
   "id": "b8bba2b8-0a1c-40d2-87e2-cabbe916de8e",
   "metadata": {
    "jupyter": {
     "source_hidden": true
    }
   },
   "outputs": [],
   "source": [
    "# import matplotlib.pyplot as plt\n",
    "# import matplotlib.gridspec as gridspec\n",
    "\n",
    "# fig = plt.figure(figsize=(8, 6))\n",
    "\n",
    "# # Create a 2x2 GridSpec layout\n",
    "# gs = gridspec.GridSpec(2, 2)\n",
    "\n",
    "# # Create subplots using grid positions\n",
    "# ax1 = fig.add_subplot(gs[0, 0])  # Row 0, Col 0\n",
    "# ax2 = fig.add_subplot(gs[0, 1])  # Row 0, Col 1\n",
    "# ax3 = fig.add_subplot(gs[1, 0])  # Row 1, Col 0\n",
    "# ax4 = fig.add_subplot(gs[1, 1])  # Row 1, Col 1\n",
    "\n",
    "# c1=ax1.contourf(B_full);cb1=fig.colorbar(c1, ax=ax1);ax1.set_title('Full Buoyancy')\n",
    "# c2=ax2.contourf(B_thv);cb2=fig.colorbar(c2, ax=ax2);ax2.set_title('th_v Buoyancy')\n",
    "# c3=ax3.contourf(B_prs_plus_thv);cb3=fig.colorbar(c3, ax=ax3);ax3.set_title('th_v+prs_pert Buoyancy')\n",
    "# c4=ax4.contourf(B_model);cb4=fig.colorbar(c4, ax=ax4);ax4.set_title('Model Buoyancy')\n",
    "\n",
    "# fig.tight_layout()\n",
    "\n",
    "# # apply_scientific_notation_colorbar([cb3])"
   ]
  },
  {
   "cell_type": "code",
   "execution_count": null,
   "id": "65f00229-2b14-4a4e-a5a8-76706728d56c",
   "metadata": {
    "jupyter": {
     "source_hidden": true
    }
   },
   "outputs": [],
   "source": [
    "# import matplotlib.pyplot as plt\n",
    "# import matplotlib.gridspec as gridspec\n",
    "\n",
    "# fig = plt.figure(figsize=(10, 10))\n",
    "# gs = gridspec.GridSpec(3, 2)\n",
    "\n",
    "# # Define axes\n",
    "# ax1 = fig.add_subplot(gs[0, 0])\n",
    "# ax2 = fig.add_subplot(gs[0, 1])\n",
    "# ax6 = fig.add_subplot(gs[1, 0])  # moved up to row 1\n",
    "# ax3 = fig.add_subplot(gs[1, 1])\n",
    "# ax4 = fig.add_subplot(gs[2, 0])\n",
    "# ax5 = fig.add_subplot(gs[2, 1])\n",
    "\n",
    "# # Now plot with contourf and colorbars\n",
    "# c1 = ax1.contourf(B_full - B_model); cb1 = fig.colorbar(c1, ax=ax1); ax1.set_title('Full - Model Buoyancy')\n",
    "# c2 = ax2.contourf(B_full - B_thv); cb2 = fig.colorbar(c2, ax=ax2); ax2.set_title('Full - TH_V Buoyancy')\n",
    "# c6 = ax6.contourf(B_full - B_prs_plus_thv); cb6 = fig.colorbar(c6, ax=ax6); ax6.set_title('Full - TH_V+PRS Buoyancy')\n",
    "# c3 = ax3.contourf(B_thv - B_model); cb3 = fig.colorbar(c3, ax=ax3); ax3.set_title('TH_V - Model Buoyancy')\n",
    "# c4 = ax4.contourf(B_thv - B_model); cb4 = fig.colorbar(c4, ax=ax4); ax4.set_title('TH_V - TH_V+PRS BUOYANCY')\n",
    "# c5 = ax5.contourf(B_prs_plus_thv - B_model); cb5 = fig.colorbar(c5, ax=ax5); ax5.set_title('TH_V+PRS - MODEL BUOYANCY')\n",
    "\n",
    "# fig.tight_layout()\n",
    "# plt.show()\n"
   ]
  },
  {
   "cell_type": "code",
   "execution_count": null,
   "id": "a5d355e6-067e-4277-9cf2-a1c739b52254",
   "metadata": {
    "jupyter": {
     "source_hidden": true
    }
   },
   "outputs": [],
   "source": [
    "# import numpy as np\n",
    "\n",
    "# # Assuming the following variables are already defined and loaded:\n",
    "# # B_full, B_model: buoyancy arrays\n",
    "# # rho_primebar, prs_primebar, th_v_primebar: perturbation/bar terms arrays\n",
    "# # g: gravitational acceleration (≈9.81 m/s²)\n",
    "# # k: kappa (Rd/cp, ~0.286)\n",
    "\n",
    "# # Calculate buoyancy difference\n",
    "# diff = (B_full - B_model)\n",
    "\n",
    "# # Find indices where error is between 0.08 and 0.1\n",
    "# cond1 = diff <= 0.1\n",
    "# cond2 = diff >= 0.08\n",
    "# where = np.where(cond1 & cond2)\n",
    "\n",
    "# print('Looking at cases where buoyancy error is in [0.08, 0.1]:\\n')\n",
    "\n",
    "# print('Full - Model Buoyancy Error at selected points:')\n",
    "# print(diff[where])\n",
    "# print('\\nPerturbation / base state terms at those points:')\n",
    "# print('rho_primebar:', rho_primebar[where])\n",
    "# print('prs_primebar:', prs_primebar[where])\n",
    "# print('th_v_primebar:', th_v_primebar[where])\n",
    "\n",
    "# print('\\nSecond-order Taylor error terms:')\n",
    "\n",
    "# err_p = g * (1 - k) * (prs_primebar[where])**2 / 2\n",
    "# err_thv = g * (th_v_primebar[where])**2 / 2\n",
    "\n",
    "# print('Pressure second-order error terms:')\n",
    "# print(err_p)\n",
    "# print('Virtual potential temperature second-order error terms:')\n",
    "# print(err_thv)\n",
    "\n",
    "# print('\\nCombined second-order Taylor error approximation:')\n",
    "# combined_error = err_thv - err_p\n",
    "# print(combined_error)\n",
    "\n",
    "# # print('\\nResidual (Actual buoyancy difference - Taylor approximation):')\n",
    "# # residual = diff[where] - combined_error\n",
    "# # print(residual)\n"
   ]
  }
 ],
 "metadata": {
  "kernelspec": {
   "display_name": "work",
   "language": "python",
   "name": "work"
  },
  "language_info": {
   "codemirror_mode": {
    "name": "ipython",
    "version": 3
   },
   "file_extension": ".py",
   "mimetype": "text/x-python",
   "name": "python",
   "nbconvert_exporter": "python",
   "pygments_lexer": "ipython3",
   "version": "3.13.5"
  }
 },
 "nbformat": 4,
 "nbformat_minor": 5
}

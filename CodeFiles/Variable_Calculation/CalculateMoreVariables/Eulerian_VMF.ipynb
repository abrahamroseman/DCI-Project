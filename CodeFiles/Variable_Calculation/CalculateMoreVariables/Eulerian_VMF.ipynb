{
 "cells": [
  {
   "cell_type": "code",
   "execution_count": 1,
   "id": "aff2fb93-75fe-44b5-b298-e726ad41710d",
   "metadata": {},
   "outputs": [],
   "source": [
    "####################################\n",
    "#ENVIRONMENT SETUP"
   ]
  },
  {
   "cell_type": "code",
   "execution_count": 2,
   "id": "91665a4b-f589-4792-a6c5-d5b291a05460",
   "metadata": {},
   "outputs": [],
   "source": [
    "#Importing Libraries\n",
    "import numpy as np\n",
    "import matplotlib.pyplot as plt\n",
    "import matplotlib.colors as mcolors\n",
    "import matplotlib.ticker as ticker\n",
    "import matplotlib.cm as cm\n",
    "from matplotlib.colors import Normalize\n",
    "from matplotlib.ticker import MaxNLocator\n",
    "from matplotlib.ticker import ScalarFormatter\n",
    "import matplotlib.gridspec as gridspec\n",
    "import xarray as xr\n",
    "\n",
    "import sys; import os; import time; from datetime import timedelta\n",
    "import pickle\n",
    "import h5py"
   ]
  },
  {
   "cell_type": "code",
   "execution_count": 3,
   "id": "c492242e-9625-4281-b5e8-da6badb8fa43",
   "metadata": {},
   "outputs": [],
   "source": [
    "#MAIN DIRECTORIES\n",
    "def GetDirectories():\n",
    "    mainDirectory='/mnt/lustre/koa/koastore/torri_group/air_directory/Projects/DCI-Project/'\n",
    "    mainCodeDirectory=os.path.join(mainDirectory,\"Code/CodeFiles/\")\n",
    "    scratchDirectory='/mnt/lustre/koa/scratch/air673/'\n",
    "    codeDirectory=os.getcwd()\n",
    "    return mainDirectory,mainCodeDirectory,scratchDirectory,codeDirectory\n",
    "\n",
    "[mainDirectory,mainCodeDirectory,scratchDirectory,codeDirectory] = GetDirectories()"
   ]
  },
  {
   "cell_type": "code",
   "execution_count": 4,
   "id": "950acdb1-ecdf-4e85-8b8e-fe27b3d297d4",
   "metadata": {},
   "outputs": [],
   "source": [
    "#IMPORT CLASSES (from current directory)\n",
    "sys.path.append(os.path.join(mainCodeDirectory,\"Variable_Calculation\"))\n",
    "from CLASSES_Variable_Calculation import ModelData_Class, SlurmJobArray_Class, DataManager_Class"
   ]
  },
  {
   "cell_type": "code",
   "execution_count": 5,
   "id": "262a6f69-1fe2-4b29-8cfe-193f66324409",
   "metadata": {},
   "outputs": [],
   "source": [
    "####################################\n",
    "#LOADING CLASSES"
   ]
  },
  {
   "cell_type": "code",
   "execution_count": 37,
   "id": "1a44198a-5e58-49c2-ac1b-5242f697f0a5",
   "metadata": {},
   "outputs": [
    {
     "name": "stdout",
     "output_type": "stream",
     "text": [
      "=== CM1 Data Summary ===\n",
      " Simulation #:   1\n",
      " Resolution:     1km\n",
      " Time step:      5min\n",
      " Vertical levels:34\n",
      " Parcels:        1e6\n",
      " Data file:      /mnt/lustre/koa/koastore/torri_group/air_directory/Projects/DCI-Project/Model/cm1r20.3/run/cm1out_1km_5min_34nz.nc\n",
      " Parcel file:    /mnt/lustre/koa/koastore/torri_group/air_directory/Projects/DCI-Project/Model/cm1r20.3/run/cm1out_pdata_1km_5min_1e6np.nc\n",
      " Time steps:     133\n",
      "========================= \n",
      "\n",
      "=== DataManager Summary ===\n",
      " inputDirectory #:   /mnt/lustre/koa/koastore/torri_group/air_directory/Projects/DCI-Project/Code/OUTPUT/Variable_Calculation/TimeSplitModelData\n",
      " outputDirectory #:   /mnt/lustre/koa/koastore/torri_group/air_directory/Projects/DCI-Project/Code/OUTPUT/Variable_Calculation/CalculateMoreVariables\n",
      " inputDataDirectory #:   /mnt/lustre/koa/koastore/torri_group/air_directory/Projects/DCI-Project/Code/OUTPUT/Variable_Calculation/TimeSplitModelData/1km_5min_34nz/ModelData\n",
      " inputParcelDirectory #:   /mnt/lustre/koa/koastore/torri_group/air_directory/Projects/DCI-Project/Code/OUTPUT/Variable_Calculation/TimeSplitModelData/1km_5min_34nz/ParcelData\n",
      " outputDataDirectory #:   /mnt/lustre/koa/koastore/torri_group/air_directory/Projects/DCI-Project/Code/OUTPUT/Variable_Calculation/CalculateMoreVariables/1km_5min_34nz/Eulerian_VMF\n",
      "========================= \n",
      "\n"
     ]
    }
   ],
   "source": [
    "#data loading class\n",
    "ModelData = ModelData_Class(mainDirectory, scratchDirectory, simulationNumber=1)\n",
    "#data manager class\n",
    "DataManager = DataManager_Class(mainDirectory, scratchDirectory, ModelData.res, ModelData.t_res, ModelData.Nz_str,\n",
    "                                ModelData.Np_str, dataType=\"CalculateMoreVariables\", dataName=\"Eulerian_VMF\",\n",
    "                                dtype='float32')"
   ]
  },
  {
   "cell_type": "code",
   "execution_count": 38,
   "id": "5f494285-65f0-4059-8a7d-315e29d17ca0",
   "metadata": {},
   "outputs": [
    {
     "name": "stdout",
     "output_type": "stream",
     "text": [
      "Running timesteps from 0:7 \n",
      "\n"
     ]
    }
   ],
   "source": [
    "#JOB ARRAY SETUP\n",
    "UsingJobArray=True\n",
    "\n",
    "def GetNumJobs(res):\n",
    "    if res=='1km':\n",
    "        num_jobs=20\n",
    "    elif res=='250m': \n",
    "        num_jobs=100\n",
    "    return num_jobs\n",
    "num_jobs = GetNumJobs(ModelData.res)\n",
    "SlurmJobArray = SlurmJobArray_Class(total_elements=ModelData.Ntime, num_jobs=num_jobs, UsingJobArray=UsingJobArray)\n",
    "start_job = SlurmJobArray.start_job; end_job = SlurmJobArray.end_job\n",
    "\n",
    "def GetNumElements():\n",
    "    num_elements = np.arange(ModelData.Ntime)[start_job:end_job]\n",
    "    return num_elements\n",
    "num_elements = GetNumElements()"
   ]
  },
  {
   "cell_type": "code",
   "execution_count": 39,
   "id": "c4a09b03-622d-491f-a023-b175f877ce64",
   "metadata": {},
   "outputs": [],
   "source": [
    "####################################\n",
    "#FUNCTIONS"
   ]
  },
  {
   "cell_type": "code",
   "execution_count": 40,
   "id": "2d176625-77eb-47b4-ba48-faf2dd5a87a9",
   "metadata": {},
   "outputs": [],
   "source": [
    "#Calculation Functions\n",
    "def GetBinaryArray(t, dataName=\"Eulerian_Binary_Array\"):\n",
    "    res = ModelData.res\n",
    "    t_res = ModelData.t_res\n",
    "    Nz_str = ModelData.Nz_str\n",
    "    inputDirectory = os.path.join(DataManager.outputDirectory, f\"{res}_{t_res}_{Nz_str}nz\", dataName)\n",
    "    timeString = ModelData.timeStrings[t]\n",
    "\n",
    "    FileName = os.path.join(inputDirectory, f\"{dataName}_{res}_{t_res}_{Nz_str}nz_{timeString}.h5\")\n",
    "\n",
    "    dataDictionary = {}\n",
    "    with h5py.File(FileName, 'r') as f:\n",
    "        # print(\"Keys in file:\", list(f.keys()))\n",
    "        for key in f.keys():\n",
    "            dataDictionary[key] = f[key][:]\n",
    "            # print(f\"{key}: shape = {dataDictionary[key].shape}, dtype = {dataDictionary[key].dtype}\")\n",
    "    return dataDictionary\n",
    "\n",
    "def GetInputVariables(inputDataDirectory, timeString):\n",
    "    w_data = DataManager.GetTimestepData(inputDataDirectory, timeString, VariableName=\"winterp\")\n",
    "    rho_data = DataManager.GetTimestepData(inputDataDirectory, timeString, VariableName=\"rho\")\n",
    "\n",
    "    InputDictionary = {'rho_data': rho_data,\n",
    "                       'w_data': w_data\n",
    "                       }\n",
    "    return InputDictionary\n",
    "\n",
    "def VariableCalculation(inputDictionary, t):\n",
    "    [rho_data, w_data] = (inputDictionary[k] for k in ['rho_data', 'w_data'])\n",
    "    dataDictionary = GetBinaryArray(t)\n",
    "    [A_g, A_c] = (dataDictionary[k] for k in ['A_g', 'A_c'])\n",
    "\n",
    "    #calculating VMF_g\n",
    "    VMF_g=rho_data*w_data*A_g\n",
    "    \n",
    "    #calculating VMF_c\n",
    "    VMF_c=rho_data*w_data*A_c\n",
    "\n",
    "    outputDictionary = {\n",
    "        'VMF_g': VMF_g,\n",
    "        'VMF_c': VMF_c\n",
    "    }\n",
    "    return outputDictionary"
   ]
  },
  {
   "cell_type": "code",
   "execution_count": 41,
   "id": "08fcf0e3-810c-463c-a398-f2e1955e2f6b",
   "metadata": {},
   "outputs": [],
   "source": [
    "####################################\n",
    "#RUNNING"
   ]
  },
  {
   "cell_type": "code",
   "execution_count": 43,
   "id": "e0e4030a-0761-449c-b352-b263a17a6752",
   "metadata": {},
   "outputs": [
    {
     "name": "stdout",
     "output_type": "stream",
     "text": [
      "Current time 0\n",
      "Saved timestep to output file: /mnt/lustre/koa/koastore/torri_group/air_directory/Projects/DCI-Project/Code/OUTPUT/Variable_Calculation/CalculateMoreVariables/1km_5min_34nz/Eulerian_VMF/Eulerian_VMF_1km_5min_34nz_0-00-00.h5\n",
      "Current time 1\n",
      "Saved timestep to output file: /mnt/lustre/koa/koastore/torri_group/air_directory/Projects/DCI-Project/Code/OUTPUT/Variable_Calculation/CalculateMoreVariables/1km_5min_34nz/Eulerian_VMF/Eulerian_VMF_1km_5min_34nz_0-05-00.h5\n",
      "Current time 2\n",
      "Saved timestep to output file: /mnt/lustre/koa/koastore/torri_group/air_directory/Projects/DCI-Project/Code/OUTPUT/Variable_Calculation/CalculateMoreVariables/1km_5min_34nz/Eulerian_VMF/Eulerian_VMF_1km_5min_34nz_0-10-00.h5\n",
      "Current time 3\n",
      "Saved timestep to output file: /mnt/lustre/koa/koastore/torri_group/air_directory/Projects/DCI-Project/Code/OUTPUT/Variable_Calculation/CalculateMoreVariables/1km_5min_34nz/Eulerian_VMF/Eulerian_VMF_1km_5min_34nz_0-15-00.h5\n",
      "Current time 4\n",
      "Saved timestep to output file: /mnt/lustre/koa/koastore/torri_group/air_directory/Projects/DCI-Project/Code/OUTPUT/Variable_Calculation/CalculateMoreVariables/1km_5min_34nz/Eulerian_VMF/Eulerian_VMF_1km_5min_34nz_0-20-00.h5\n",
      "Current time 5\n",
      "Saved timestep to output file: /mnt/lustre/koa/koastore/torri_group/air_directory/Projects/DCI-Project/Code/OUTPUT/Variable_Calculation/CalculateMoreVariables/1km_5min_34nz/Eulerian_VMF/Eulerian_VMF_1km_5min_34nz_0-25-00.h5\n",
      "Current time 6\n",
      "Saved timestep to output file: /mnt/lustre/koa/koastore/torri_group/air_directory/Projects/DCI-Project/Code/OUTPUT/Variable_Calculation/CalculateMoreVariables/1km_5min_34nz/Eulerian_VMF/Eulerian_VMF_1km_5min_34nz_0-30-00.h5\n"
     ]
    }
   ],
   "source": [
    "#CALCULATING AND APPENDING TO DATA EACH TIMESTEP\n",
    "for t in num_elements:\n",
    "    if np.mod(t,1)==0: print(f'Current time {t}')\n",
    "\n",
    "    #getting timestring for loading input data\n",
    "    timeString = ModelData.timeStrings[t]\n",
    "\n",
    "    #loading input variables\n",
    "    inputDictionary = GetInputVariables(DataManager.inputDataDirectory, timeString)\n",
    "\n",
    "    #calculating variables\n",
    "    outputDictionary = VariableCalculation(inputDictionary, t)\n",
    "    \n",
    "    #outputting\n",
    "    DataManager.SaveOutputTimestep(DataManager.outputDataDirectory, timeString, outputDictionary)"
   ]
  },
  {
   "cell_type": "code",
   "execution_count": null,
   "id": "e7da8baf-8bb9-43c0-a496-58bc06956ec0",
   "metadata": {},
   "outputs": [],
   "source": []
  },
  {
   "cell_type": "code",
   "execution_count": null,
   "id": "32a5dcfa-4823-4eaf-aa42-b84305d72013",
   "metadata": {},
   "outputs": [],
   "source": []
  },
  {
   "cell_type": "code",
   "execution_count": null,
   "id": "ccdd570a-fe5a-49ca-80d8-b9c3e9c000ae",
   "metadata": {},
   "outputs": [],
   "source": []
  },
  {
   "cell_type": "code",
   "execution_count": null,
   "id": "a06deb5d-a821-4531-b53f-51b161f79e43",
   "metadata": {},
   "outputs": [],
   "source": [
    "######################################################"
   ]
  },
  {
   "cell_type": "code",
   "execution_count": 31,
   "id": "78ed17a3-9861-4576-a6ad-57bd380c6874",
   "metadata": {},
   "outputs": [
    {
     "name": "stdout",
     "output_type": "stream",
     "text": [
      "Keys in file: ['VMF_c', 'VMF_g']\n",
      "VMF_c: shape = (34, 200, 512), dtype = float32\n",
      "VMF_g: shape = (34, 200, 512), dtype = float32\n"
     ]
    }
   ],
   "source": [
    "# #READING BACK IN\n",
    "# def GetVariableData(t, dataName=\"Eulerian_VMF\"):\n",
    "#     res = ModelData.res\n",
    "#     t_res = ModelData.t_res\n",
    "#     Nz_str = ModelData.Nz_str\n",
    "#     inputDirectory = os.path.join(DataManager.outputDirectory, f\"{res}_{t_res}_{Nz_str}nz\", dataName)\n",
    "#     timeString = ModelData.timeStrings[t]\n",
    "\n",
    "#     FileName = os.path.join(inputDirectory, f\"{dataName}_{res}_{t_res}_{Nz_str}nz_{timeString}.h5\")\n",
    "\n",
    "#     dataDictionary = {}\n",
    "#     with h5py.File(FileName, 'r') as f:\n",
    "#         print(\"Keys in file:\", list(f.keys()))\n",
    "#         for key in f.keys():\n",
    "#             dataDictionary[key] = f[key][:]\n",
    "#             print(f\"{key}: shape = {dataDictionary[key].shape}, dtype = {dataDictionary[key].dtype}\")\n",
    "#     return dataDictionary\n",
    "\n",
    "# dataDictionary = GetVariableData(t=0)"
   ]
  }
 ],
 "metadata": {
  "kernelspec": {
   "display_name": "Python 3 (ipykernel)",
   "language": "python",
   "name": "python3"
  },
  "language_info": {
   "codemirror_mode": {
    "name": "ipython",
    "version": 3
   },
   "file_extension": ".py",
   "mimetype": "text/x-python",
   "name": "python",
   "nbconvert_exporter": "python",
   "pygments_lexer": "ipython3",
   "version": "3.11.8"
  }
 },
 "nbformat": 4,
 "nbformat_minor": 5
}

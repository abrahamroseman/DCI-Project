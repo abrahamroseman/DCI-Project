{
 "cells": [
  {
   "cell_type": "code",
   "execution_count": null,
   "id": "aff2fb93-75fe-44b5-b298-e726ad41710d",
   "metadata": {},
   "outputs": [],
   "source": [
    "#Importing Libraries\n",
    "import numpy as np\n",
    "import matplotlib.pyplot as plt\n",
    "import matplotlib.colors as mcolors\n",
    "import matplotlib.ticker as ticker\n",
    "import matplotlib.cm as cm\n",
    "from matplotlib.colors import Normalize\n",
    "from matplotlib.ticker import MaxNLocator\n",
    "from matplotlib.ticker import ScalarFormatter\n",
    "import matplotlib.gridspec as gridspec\n",
    "import xarray as xr\n",
    "import os; import time\n",
    "import pickle\n",
    "import h5py"
   ]
  },
  {
   "cell_type": "code",
   "execution_count": null,
   "id": "c492242e-9625-4281-b5e8-da6badb8fa43",
   "metadata": {},
   "outputs": [],
   "source": [
    "#MAIN DIRECTORIES\n",
    "mainDirectory='/mnt/lustre/koa/koastore/torri_group/air_directory/Projects/DCI-Project/'\n",
    "scratchDirectory='/home/air673/koa_scratch/'\n",
    "codeDirectory='/mnt/lustre/koa/koastore/torri_group/air_directory/Projects/DCI-Project/Variable_Calculation/CalculateMoreVariables'"
   ]
  },
  {
   "cell_type": "code",
   "execution_count": null,
   "id": "100c0180-3ebf-4a68-8110-2943acacac56",
   "metadata": {},
   "outputs": [],
   "source": [
    "#LOADING DATA\n",
    "def GetDataDirectories(simulationNumber):\n",
    "    if simulationNumber == 1:\n",
    "        Directory=os.path.join(mainDirectory,'Model/cm1r20.3/run')\n",
    "        res='1km'; t_res='5min'; Np_str='1e6'; Nz_str='34'\n",
    "    elif simulationNumber == 2:\n",
    "        Directory=scratchDirectory\n",
    "        res='1km'; t_res='1min'; Np_str='50e6'; Nz_str='95'\n",
    "    elif simulationNumber == 3:\n",
    "        Directory=scratchDirectory\n",
    "        res='250m'; t_res='1min'; Np_str='50e6'; Nz_str='95'\n",
    "        \n",
    "    dataDirectory = os.path.join(Directory, f\"cm1out_{res}_{t_res}_{Nz_str}nz.nc\")\n",
    "    parcelDirectory = os.path.join(Directory,f\"cm1out_pdata_{res}_{t_res}_{Np_str}np.nc\")\n",
    "    return dataDirectory, parcelDirectory, res,t_res,Np_str,Nz_str\n",
    "    \n",
    "def GetData(dataDirectory, parcelDirectory):\n",
    "    dataNC = xr.open_dataset(dataDirectory, decode_timedelta=True) \n",
    "    parcelNC = xr.open_dataset(parcelDirectory, decode_timedelta=True) \n",
    "    return dataNC,parcelNC\n",
    "\n",
    "def SubsetDataVars(dataNC):\n",
    "    varList = [\"thflux\", \"qvflux\", \"tsk\", \"cape\", \n",
    "               \"cin\", \"lcl\", \"lfc\", \"th\",\n",
    "               \"prs\", \"rho\", \"qv\", \"qc\",\n",
    "               \"qr\", \"qi\", \"qs\",\"qg\", \n",
    "               \"buoyancy\", \"uinterp\", \"vinterp\", \"winterp\",]\n",
    "    \n",
    "    varList += [\"ptb_hadv\", \"ptb_vadv\", \"ptb_hidiff\", \"ptb_vidiff\",\n",
    "                \"ptb_hturb\", \"ptb_vturb\", \"ptb_mp\", \"ptb_rdamp\", \n",
    "                \"ptb_rad\", \"ptb_div\", \"ptb_diss\",]\n",
    "    \n",
    "    varList += [\"qvb_hadv\", \"qvb_vadv\", \"qvb_hidiff\", \"qvb_vidiff\", \n",
    "                \"qvb_hturb\", \"qvb_vturb\", \"qvb_mp\",]\n",
    "    \n",
    "    varList += [\"wb_hadv\", \"wb_vadv\", \"wb_hidiff\", \"wb_vidiff\",\n",
    "                \"wb_hturb\", \"wb_vturb\", \"wb_pgrad\", \"wb_rdamp\", \"wb_buoy\",]\n",
    "\n",
    "    return dataNC[varList]\n",
    "\n",
    "[dataDirectory,parcelDirectory, res,t_res,Np_str,Nz_str] = GetDataDirectories(simulationNumber=1)\n",
    "[data,parcel] = GetData(dataDirectory, parcelDirectory)"
   ]
  },
  {
   "cell_type": "code",
   "execution_count": null,
   "id": "12612689-8c9d-4cba-8d27-ec3e0a0c8fa3",
   "metadata": {},
   "outputs": [],
   "source": [
    "dir='/mnt/lustre/koa/koastore/torri_group/air_directory/DCI-Project/'"
   ]
  },
  {
   "cell_type": "code",
   "execution_count": null,
   "id": "a91a9df0-3c0f-46b3-8adf-d66b68d9c074",
   "metadata": {},
   "outputs": [],
   "source": [
    "import sys\n",
    "dir2='/mnt/lustre/koa/koastore/torri_group/air_directory/DCI-Project/'\n",
    "path=dir2+'../Functions/'\n",
    "sys.path.append(path)\n",
    "\n",
    "import NumericalFunctions\n",
    "from NumericalFunctions import * # import NumericalFunctions \n",
    "import PlottingFunctions\n",
    "from PlottingFunctions import * # import PlottingFunctions\n",
    "\n",
    "\n",
    "# # Get all functions in NumericalFunctions\n",
    "# import inspect\n",
    "# functions = [f[0] for f in inspect.getmembers(NumericalFunctions, inspect.isfunction)]\n",
    "# functions"
   ]
  },
  {
   "cell_type": "code",
   "execution_count": null,
   "id": "3b71ace1-1ad6-4ec4-9ba0-595f2ff3511d",
   "metadata": {},
   "outputs": [],
   "source": [
    "if res=='1km':\n",
    "    dir2='/mnt/lustre/koa/koastore/torri_group/air_directory/DCI-Project/'\n",
    "if res=='250m':\n",
    "    dir2='/mnt/lustre/koa/scratch/air673/'\n",
    "def initiate_array():\n",
    "    # Define array dimensions (adjust based on your netCDF)\n",
    "    t_size = len(data['time'])  # Number of timesteps\n",
    "    z_size = len(data['zh'])    # Number of vertical levels\n",
    "    y_size = len(data['yh'])    # Number of y-axis points\n",
    "    x_size = len(data['xh'])    # Number of x-axis points\n",
    "\n",
    "    out_file = dir2 + 'Variable_Calculation/OUTPUT/' + f'Eulerian_VMF_{res}_{t_res}.h5'\n",
    "    with h5py.File(out_file, 'a') as f:\n",
    "        for var_name in ['VMF_c', 'VMF_g']:\n",
    "            if var_name not in f:\n",
    "                f.create_dataset(var_name, \n",
    "                                 (t_size, z_size, y_size, x_size), \n",
    "                                 maxshape=(None, z_size, y_size, x_size),\n",
    "                                 dtype='float64', \n",
    "                                 chunks=(1, z_size, y_size, x_size))\n",
    "\n",
    "\n",
    "            \n",
    "def add_timestep_at_index(timestep_data_dict, index):\n",
    "    out_file = dir2 + 'Variable_Calculation/OUTPUT/' + f'Eulerian_VMF_{res}_{t_res}.h5'\n",
    "    with h5py.File(out_file, 'a') as f:\n",
    "        if 'VMF_c' in timestep_data_dict:\n",
    "            f['VMF_c'][index] = timestep_data_dict['VMF_c']\n",
    "        if 'VMF_g' in timestep_data_dict:\n",
    "            f['VMF_g'][index] = timestep_data_dict['VMF_g']\n"
   ]
  },
  {
   "cell_type": "code",
   "execution_count": null,
   "id": "2d176625-77eb-47b4-ba48-faf2dd5a87a9",
   "metadata": {},
   "outputs": [],
   "source": [
    "def GetBinaryArray(t):\n",
    "    ##############################################\n",
    "    #READING BACK IN\n",
    "    out_file2 = dir2 + 'Variable_Calculation/' + f'Eulerian_Binary_Array_{res}_{t_res}.h5'\n",
    "    \n",
    "    with h5py.File(out_file2, 'r') as f:\n",
    "        A_c = f['A_c'][t]  # Loads the entire A_c array into memory\n",
    "        A_g = f['A_g'][t]  # Loads the entire A_g array into memory\n",
    "    return A_c,A_g"
   ]
  },
  {
   "cell_type": "code",
   "execution_count": null,
   "id": "08fcf0e3-810c-463c-a398-f2e1955e2f6b",
   "metadata": {},
   "outputs": [],
   "source": [
    "####################################\n",
    "#RUNNING"
   ]
  },
  {
   "cell_type": "code",
   "execution_count": null,
   "id": "b35654b3-6333-40a3-b9b5-42ad3ce3f11c",
   "metadata": {},
   "outputs": [],
   "source": [
    "w_thresh1=0.1\n",
    "w_thresh2=0.5\n",
    "qcqi_thresh=1e-6"
   ]
  },
  {
   "cell_type": "code",
   "execution_count": null,
   "id": "7de67450-aa3a-4ea2-a624-053d1b86f404",
   "metadata": {
    "scrolled": true
   },
   "outputs": [],
   "source": [
    "initiate_array()\n",
    "\n",
    "#CALCULATING AND APPENDING TO DATA EACH TIMESTEP\n",
    "for t in range(len(data['time'])):\n",
    "    if np.mod(t,1)==0: print(f'Current time {t}')\n",
    "\n",
    "    print('calculating variables')\n",
    "    w_data=data['winterp'].isel(time=t).data\n",
    "    rho_data=data['rho'].isel(time=t).data\n",
    "    [A_c,A_g]=GetBinaryArray(t)\n",
    "        \n",
    "    VMF_c=rho_data*w_data*A_c\n",
    "    VMF_g=rho_data*w_data*A_g\n",
    "\n",
    "    print('outputting')\n",
    "    result = {\n",
    "        'VMF_c': VMF_c,\n",
    "        'VMF_g': VMF_g\n",
    "    }\n",
    "    add_timestep_at_index(result, t)"
   ]
  },
  {
   "cell_type": "code",
   "execution_count": null,
   "id": "ccdd570a-fe5a-49ca-80d8-b9c3e9c000ae",
   "metadata": {},
   "outputs": [],
   "source": []
  },
  {
   "cell_type": "code",
   "execution_count": null,
   "id": "a06deb5d-a821-4531-b53f-51b161f79e43",
   "metadata": {},
   "outputs": [],
   "source": [
    "######################################################"
   ]
  },
  {
   "cell_type": "code",
   "execution_count": null,
   "id": "78ed17a3-9861-4576-a6ad-57bd380c6874",
   "metadata": {},
   "outputs": [],
   "source": [
    "# ###############################################\n",
    "# #READING BACK IN\n",
    "# out_file = dir2 + 'Variable_Calculation/' + f'Eulerian_VMF_{res}_{t_res}.h5'\n",
    "\n",
    "# with h5py.File(out_file, 'r') as f:\n",
    "#     VMF_c = f['VMF_c'][t]  # Loads the entire A_c array into memory\n",
    "#     VMF_g = f['VMF_g'][t]  # Loads the entire A_g array into memory"
   ]
  },
  {
   "cell_type": "code",
   "execution_count": null,
   "id": "5c159869-c5ca-48a9-becf-98350607bc9c",
   "metadata": {
    "jupyter": {
     "source_hidden": true
    }
   },
   "outputs": [],
   "source": [
    "# #####################\n",
    "# #TESTING\n",
    "# t=100\n",
    "# z=10\n",
    "# w_t=data['winterp'].isel(time=t,zh=z).data\n",
    "# rho_t=data['rho'].isel(time=t,zh=z).data\n",
    "\n",
    "# out_file = dir2 + 'Variable_Calculation/' + f'Eulerian_Binary_Array_{res}_{t_res}.h5'\n",
    "# with h5py.File(out_file, 'r') as f:\n",
    "#     A_c = f['A_c'][t,z]  # Loads the entire A_c array into memory\n",
    "#     A_g = f['A_g'][t,z]  # Loads the entire A_g array into memory\n",
    "\n",
    "# out_file = dir2 + 'Variable_Calculation/' + f'Eulerian_VMF_{res}_{t_res}.h5'\n",
    "# with h5py.File(out_file, 'r') as f:\n",
    "#     VMF_c = f['VMF_c'][t,z]  # Loads the entire VMF_c array into memory\n",
    "#     VMF_g = f['VMF_g'][t,z]  # Loads the entire VMF_g array into memory\n",
    "\n",
    "# print(np.all(rho_t*w_t*A_c==VMF_c))\n",
    "# print(np.all(rho_t*w_t*A_g==VMF_g))"
   ]
  }
 ],
 "metadata": {
  "kernelspec": {
   "display_name": "Python 3 (ipykernel)",
   "language": "python",
   "name": "python3"
  },
  "language_info": {
   "codemirror_mode": {
    "name": "ipython",
    "version": 3
   },
   "file_extension": ".py",
   "mimetype": "text/x-python",
   "name": "python",
   "nbconvert_exporter": "python",
   "pygments_lexer": "ipython3",
   "version": "3.11.8"
  }
 },
 "nbformat": 4,
 "nbformat_minor": 5
}

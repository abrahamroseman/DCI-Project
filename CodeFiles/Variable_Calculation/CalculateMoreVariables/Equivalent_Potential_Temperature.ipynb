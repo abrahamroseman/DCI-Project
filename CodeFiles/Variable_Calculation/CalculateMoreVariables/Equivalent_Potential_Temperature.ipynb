{
 "cells": [
  {
   "cell_type": "code",
   "execution_count": null,
   "id": "40cd1498-5696-429a-837f-aad22805da76",
   "metadata": {},
   "outputs": [],
   "source": [
    "#Importing Libraries\n",
    "import numpy as np\n",
    "import matplotlib.pyplot as plt\n",
    "import matplotlib.colors as mcolors\n",
    "import matplotlib.ticker as ticker\n",
    "import matplotlib.cm as cm\n",
    "from matplotlib.colors import Normalize\n",
    "from matplotlib.ticker import MaxNLocator\n",
    "from matplotlib.ticker import ScalarFormatter\n",
    "import matplotlib.gridspec as gridspec\n",
    "import xarray as xr\n",
    "import os; import time\n",
    "import pickle\n",
    "import h5py"
   ]
  },
  {
   "cell_type": "code",
   "execution_count": null,
   "id": "fb21c9c3-9490-45bf-96c2-2375e00372e5",
   "metadata": {},
   "outputs": [],
   "source": [
    "#MAIN DIRECTORIES\n",
    "mainDirectory='/mnt/lustre/koa/koastore/torri_group/air_directory/Projects/DCI-Project/'\n",
    "scratchDirectory='/home/air673/koa_scratch/'\n",
    "codeDirectory='/mnt/lustre/koa/koastore/torri_group/air_directory/Projects/DCI-Project/Variable_Calculation/CalculateMoreVariables'"
   ]
  },
  {
   "cell_type": "code",
   "execution_count": null,
   "id": "7d0edc43-c3eb-46b9-aa18-605810911bb8",
   "metadata": {},
   "outputs": [],
   "source": [
    "#LOADING DATA\n",
    "def GetDataDirectories(simulationNumber):\n",
    "    if simulationNumber == 1:\n",
    "        Directory=os.path.join(mainDirectory,'Model/cm1r20.3/run')\n",
    "        res='1km'; t_res='5min'; Np_str='1e6'; Nz_str='34'\n",
    "    elif simulationNumber == 2:\n",
    "        Directory=scratchDirectory\n",
    "        res='1km'; t_res='1min'; Np_str='50e6'; Nz_str='95'\n",
    "    elif simulationNumber == 3:\n",
    "        Directory=scratchDirectory\n",
    "        res='250m'; t_res='1min'; Np_str='50e6'; Nz_str='95'\n",
    "        \n",
    "    dataDirectory = os.path.join(Directory, f\"cm1out_{res}_{t_res}_{Nz_str}nz.nc\")\n",
    "    parcelDirectory = os.path.join(Directory,f\"cm1out_pdata_{res}_{t_res}_{Np_str}np.nc\")\n",
    "    return dataDirectory, parcelDirectory, res,t_res,Np_str,Nz_str\n",
    "    \n",
    "def GetData(dataDirectory, parcelDirectory):\n",
    "    dataNC = xr.open_dataset(dataDirectory, decode_timedelta=True) \n",
    "    parcelNC = xr.open_dataset(parcelDirectory, decode_timedelta=True) \n",
    "    return dataNC,parcelNC\n",
    "\n",
    "def SubsetDataVars(dataNC):\n",
    "    varList = [\"thflux\", \"qvflux\", \"tsk\", \"cape\", \n",
    "               \"cin\", \"lcl\", \"lfc\", \"th\",\n",
    "               \"prs\", \"rho\", \"qv\", \"qc\",\n",
    "               \"qr\", \"qi\", \"qs\",\"qg\", \n",
    "               \"buoyancy\", \"uinterp\", \"vinterp\", \"winterp\",]\n",
    "    \n",
    "    varList += [\"ptb_hadv\", \"ptb_vadv\", \"ptb_hidiff\", \"ptb_vidiff\",\n",
    "                \"ptb_hturb\", \"ptb_vturb\", \"ptb_mp\", \"ptb_rdamp\", \n",
    "                \"ptb_rad\", \"ptb_div\", \"ptb_diss\",]\n",
    "    \n",
    "    varList += [\"qvb_hadv\", \"qvb_vadv\", \"qvb_hidiff\", \"qvb_vidiff\", \n",
    "                \"qvb_hturb\", \"qvb_vturb\", \"qvb_mp\",]\n",
    "    \n",
    "    varList += [\"wb_hadv\", \"wb_vadv\", \"wb_hidiff\", \"wb_vidiff\",\n",
    "                \"wb_hturb\", \"wb_vturb\", \"wb_pgrad\", \"wb_rdamp\", \"wb_buoy\",]\n",
    "\n",
    "    return dataNC[varList]\n",
    "\n",
    "[dataDirectory,parcelDirectory, res,t_res,Np_str,Nz_str] = GetDataDirectories(simulationNumber=1)\n",
    "[data,parcel] = GetData(dataDirectory, parcelDirectory)"
   ]
  },
  {
   "cell_type": "code",
   "execution_count": null,
   "id": "2cb5f5dd-fafa-4372-a31a-498b22257199",
   "metadata": {},
   "outputs": [],
   "source": [
    "dir='/mnt/lustre/koa/koastore/torri_group/air_directory/DCI-Project/'"
   ]
  },
  {
   "cell_type": "code",
   "execution_count": null,
   "id": "62ca1e18-fad0-4324-92d1-7e85da85e539",
   "metadata": {},
   "outputs": [],
   "source": [
    "#LOAD VARIABLES\n",
    "################################################################################\n",
    "def load_vars(data):\n",
    "    \n",
    "    ###########################\n",
    "    # Equivalent Potential Temperature (theta_e)\n",
    "    # surface_prs=data['prs'].mean(dim=(\"time\",'yh','xh')); surface_prs=surface_prs[0]\n",
    "    \n",
    "    \n",
    "    # print('PRESSURE VARIABLES'); ################################# PRESSURE VARIABLES\n",
    "    p0=1e5\n",
    "    P=data['prs'].data\n",
    "    \n",
    "    # print('MIXING RATIO'); ################################# MIXING RATIO\n",
    "    rv=data['qv'].data\n",
    "    rt=(data['qv']+data['qc']+data['qr']).data #total mixing ratio\n",
    "    \n",
    "    # print('THERMODYNAMICS'); ################################# THERMODYNAMICS\n",
    "\n",
    "    #CONSTANTS (either from CM1 model constants or Emanuel 1994)\n",
    "    Rd=287.04\n",
    "    Rv=461.5\n",
    "    Cpd=1005.7 #+-2.5\n",
    "    Cpv=1870 #+-25\n",
    "    Cpl=4190 #+-30 #Cl=Cpl=Cvl (same as constant pressure or volume)\n",
    "    Cpi=2106.0 #+-6 #Ci=Cpi=Cvi (same as constant pressure or volume)\n",
    "\n",
    "    #LATENT HEATS (From Emanuel 1994)\n",
    "    Lv0=2.501e6\n",
    "    Lf0 = 0.3337e6  # latent heat of fusion at 0°C\n",
    "    Ls0 = 2.834e6 #+-0.01 (inside coefficient) (between -100 and 0 deg C)\n",
    "    def Lv(T): #Kirchoff's formula L_i,ii= L_i,ii0+(Cpii-Cpi)*(T-273.15)\n",
    "        Llv=Lv0+(Cpv-Cpl)*(T-273.15) #should it be Cpl. is Cl the same?***\n",
    "        return Llv\n",
    "    def Lf(T): #Kirchoff's formula L_i,ii= L_i,ii0+(Cpii-Cpi)*(T-273.15)\n",
    "        Lil = Lf0 + (Cpl - Cpi) * (T - 273.15) \n",
    "        return Lil\n",
    "    # def Ls(T):\n",
    "    #     Ls = Lf(T) + Lv(T) #ice to liquid ==> liquid to vapor\n",
    "    #     return Ls\n",
    "    def Ls(T): #Kirchoff's formula L_i,ii= L_i,ii0+(Cpii-Cpi)*(T-273.15)\n",
    "        Liv = Ls0 + (Cpv - Cpi) * (T - 273.15) \n",
    "        return Liv\n",
    "    \n",
    "    # print('TEMPERATURE'); ################################# TEMPERATURE\n",
    "    theta=data['th'].data\n",
    "    T=theta*(P/p0)**(Rd/Cpd)\n",
    "    \n",
    "    # print('RELATIVE HUMIDITY'); ################################# RELATIVE HUMIDITY\n",
    "    eps=0.622\n",
    "    #rv=eps*(e/(P-e)) ==> e = rv*P/(eps+rv)\n",
    "    e=rv*P/(rv+eps)\n",
    "    Pd=P-e #P=Pd+e ==> Pd=P-e\n",
    "\n",
    "    #CALCULATING SATURATION VAPOR PRESSURE and RH OVER LIQUID\n",
    "    def SaturationVaporPressure(T):\n",
    "        e_s0=611\n",
    "        T0=273.15\n",
    "        inner=(Lv(T)/Rv)*((1/T0)-(1/T))\n",
    "        e_s=e_s0*np.exp(inner)\n",
    "        return e_s\n",
    "    e_s = SaturationVaporPressure(T)\n",
    "    H_vapor = e/e_s \n",
    "\n",
    "    #CALCULATING SATURATION VAPOR PRESSURE and RH OVER ICE\n",
    "    def IceSaturationVaporPressure(T):\n",
    "        e_si0=611\n",
    "        T0=273.15\n",
    "        inner=(Ls(T)/Rv)*((1/T0)-(1/T))\n",
    "        e_si=e_si0*np.exp(inner)\n",
    "        return e_si\n",
    "    ei_s = IceSaturationVaporPressure(T)\n",
    "    H_ice = e / ei_s\n",
    "\n",
    "    return P, p0, rv, rt, Rd, Rv, Cpd, Cpv, Cpl, Lv, T, e, Pd, e_s, H_vapor, H_ice"
   ]
  },
  {
   "cell_type": "code",
   "execution_count": null,
   "id": "5b4e173a-7a6f-4b80-94a2-0c3fb58f30aa",
   "metadata": {},
   "outputs": [],
   "source": [
    "def make_theta_e(P, p0, rv, rt, Rd, Rv, Cpd, Cpv, Cpl, Lv, T, e, Pd, e_s, H_vapor, H_ice):\n",
    "    divisor=(Cpd+Cpl*rt)\n",
    "    theta_e=(T*(p0/Pd)**(Rd/divisor))*(H_vapor**(-rv*Rv/divisor))*np.exp(Lv(T)*rv/(divisor*T))\n",
    "\n",
    "    return {\n",
    "        'theta_e': theta_e,\n",
    "        'RH_vapor': H_vapor,\n",
    "        'RH_ice': H_ice\n",
    "    }"
   ]
  },
  {
   "cell_type": "code",
   "execution_count": null,
   "id": "e4e806ca-919a-4ef4-8052-26d641c26326",
   "metadata": {},
   "outputs": [],
   "source": [
    "def GetOutputName():\n",
    "    if res=='1km':\n",
    "        dir2='/mnt/lustre/koa/koastore/torri_group/air_directory/DCI-Project/'\n",
    "    elif res=='250m':\n",
    "        dir2='/mnt/lustre/koa/scratch/air673/'\n",
    "    out_file = dir2 + 'Variable_Calculation/OUTPUT/' + f'theta_e_{res}_{t_res}.h5'\n",
    "    return out_file\n",
    "    \n",
    "def initiate_array(VarNames):\n",
    "    # Define array dimensions (adjust based on your data)\n",
    "    t_size = len(data['time'])  # Number of timesteps\n",
    "    z_size = len(data['zh'])    # Number of vertical levels\n",
    "    y_size = len(data['yh'])    # Number of y-axis points\n",
    "    x_size = len(data['xh'])    # Number of x-axis points\n",
    "\n",
    "    out_file=GetOutputName()\n",
    "\n",
    "    with h5py.File(out_file, 'a') as f:\n",
    "        for var_name in VarNames:\n",
    "            if var_name not in f:\n",
    "                f.create_dataset(\n",
    "                    var_name,\n",
    "                    shape=(t_size, z_size, y_size, x_size),\n",
    "                    maxshape=(None, z_size, y_size, x_size),\n",
    "                    dtype='float64',\n",
    "                    chunks=(1, z_size, y_size, x_size)\n",
    "                )\n",
    "\n",
    "def add_timestep_at_index(VARS, index, ):\n",
    "    out_file=GetOutputName()\n",
    "    \n",
    "    with h5py.File(out_file, 'a') as f:\n",
    "        for var_name, timestep_data in VARS.items():\n",
    "            if var_name in f:\n",
    "                f[var_name][index] = timestep_data\n",
    "            else:\n",
    "                raise KeyError(f\"Dataset '{var_name}' does not exist in {out_file}\")"
   ]
  },
  {
   "cell_type": "code",
   "execution_count": null,
   "id": "80724eef-9233-4407-a125-f2c561bdaa9a",
   "metadata": {},
   "outputs": [],
   "source": [
    "####################################\n",
    "#RUNNING"
   ]
  },
  {
   "cell_type": "code",
   "execution_count": null,
   "id": "61280de5-5522-4f9a-bc09-c98d411294d3",
   "metadata": {
    "scrolled": true
   },
   "outputs": [],
   "source": [
    "#MAKING ARRAY TO STORE THETA_E\n",
    "#MAKING ARRAY TO STORE BUOYANCY\n",
    "VarNames=['theta_e','RH_vapor','RH_ice']\n",
    "initiate_array(VarNames)\n",
    "\n",
    "#CALCULATING AND APPENDING TO DATA EACH TIMESTEP\n",
    "for t in range(len(data['time'])):\n",
    "    if np.mod(t,1)==0: print(f'Current time {t}')\n",
    "    data_t=data.isel(time=t)\n",
    "    [P, p0, rv, rt, Rd, Rv, Cpd, Cpv, Cpl, Lv, T, e, Pd, e_s, H_vapor, H_ice] = load_vars(data_t)\n",
    "    VARS=make_theta_e(P, p0, rv, rt, Rd, Rv, Cpd, Cpv, Cpl, Lv, T, e, Pd, e_s, H_vapor, H_ice)\n",
    "    add_timestep_at_index(VARS, t)\n",
    "\n",
    "\n",
    "#Fast for 1KM, 1.5 hours for 250M"
   ]
  },
  {
   "cell_type": "code",
   "execution_count": null,
   "id": "ce1f85de-29ee-4f84-8b69-3a1e5a82c0b8",
   "metadata": {},
   "outputs": [],
   "source": []
  },
  {
   "cell_type": "code",
   "execution_count": null,
   "id": "54683116-a48d-4013-ab41-318e11cc0958",
   "metadata": {},
   "outputs": [],
   "source": []
  },
  {
   "cell_type": "code",
   "execution_count": null,
   "id": "454c992a-8a56-44ef-8971-2f4ffeb820c1",
   "metadata": {},
   "outputs": [],
   "source": []
  },
  {
   "cell_type": "code",
   "execution_count": null,
   "id": "d90e6abc-7dd8-4649-82af-8b0abad2da5a",
   "metadata": {},
   "outputs": [],
   "source": []
  },
  {
   "cell_type": "code",
   "execution_count": null,
   "id": "4438cb05-8822-4664-9153-2cad05148b02",
   "metadata": {},
   "outputs": [],
   "source": []
  },
  {
   "cell_type": "code",
   "execution_count": null,
   "id": "43171041-0fb3-4a7a-9b00-fd736d6e6a81",
   "metadata": {},
   "outputs": [],
   "source": [
    "##########################################################################"
   ]
  },
  {
   "cell_type": "code",
   "execution_count": null,
   "id": "7464010b-f240-4370-a0a6-fde4e3f54fb4",
   "metadata": {},
   "outputs": [],
   "source": [
    "# #READING FINAL OUTPUT\n",
    "# # dir2='/mnt/lustre/koa/koastore/torri_group/air_directory/DCI-Project/'\n",
    "# dir2='/mnt/lustre/koa/scratch/air673/'\n",
    "# with h5py.File(dir2 + 'Variable_Calculation/' + 'theta_e_{res}_{t_res}.h5', 'a') as f:\n",
    "#     # Access the existing dataset 'MSE'\n",
    "#     dataset = f['theta_e'][:]"
   ]
  },
  {
   "cell_type": "code",
   "execution_count": null,
   "id": "b900898a-552a-4f59-8200-6c4edcf4c934",
   "metadata": {},
   "outputs": [],
   "source": [
    "#TESTING\n",
    "########################################################################"
   ]
  },
  {
   "cell_type": "code",
   "execution_count": null,
   "id": "0669efbc-0821-423a-b722-8c69afe8fbb8",
   "metadata": {
    "jupyter": {
     "source_hidden": true
    }
   },
   "outputs": [],
   "source": [
    "# LV=Lv(T)\n",
    "# mean=np.mean(LV,axis=(2,3))\n",
    "# plt.contourf(mean.T,levels=50)\n",
    "# plt.colorbar();\n",
    "# plt.title(r'$L_v$');"
   ]
  },
  {
   "cell_type": "code",
   "execution_count": null,
   "id": "5af977e3-3941-4a90-9468-25053220caf3",
   "metadata": {
    "jupyter": {
     "source_hidden": true
    }
   },
   "outputs": [],
   "source": [
    "#MAKING APPROXIMATE THETA_E\n",
    "\n",
    "# divisor=(Cpd+Cpl*qt)\n",
    "# theta_e_approx=theta*np.exp(Lv(T)*qv/(divisor*T))\n",
    "# mean=np.mean(theta_e_approx,axis=(2,3))\n",
    "# plt.contourf(mean.T,levels=50)\n",
    "# plt.colorbar();\n",
    "# plt.title('Approximate ' + r'$\\theta_e$');x"
   ]
  },
  {
   "cell_type": "code",
   "execution_count": null,
   "id": "acff7707-559b-4695-a7b2-44b071e336f2",
   "metadata": {
    "jupyter": {
     "source_hidden": true
    }
   },
   "outputs": [],
   "source": [
    "# mean=np.mean(e_s,axis=(2,3))\n",
    "# plt.contourf(mean.T,levels=50)\n",
    "# plt.colorbar();\n",
    "# plt.title(r'$e_sx$');"
   ]
  },
  {
   "cell_type": "code",
   "execution_count": null,
   "id": "e6a17b94-42cd-4b26-9a82-bf09ea24558f",
   "metadata": {
    "jupyter": {
     "source_hidden": true
    }
   },
   "outputs": [],
   "source": [
    "# print('FULL THETA_E') # MAKING FULL THETA_E\n",
    "\n",
    "# def make_theta_e():\n",
    "#     divisor=(Cpd+Cpl*qt)\n",
    "#     theta_e=(T*(p0/Pd)**(Rd/divisor))*(H**(-qv*Rv/divisor))*np.exp(Lv(T)*qv/(divisor*T))\n",
    "#     return theta_e\n",
    "\n",
    "# theta_e=make_theta_e()\n",
    "\n",
    "# # mean=np.mean(theta_e,axis=(2,3))\n",
    "# # plt.contourf(mean.T,levels=50)\n",
    "# # plt.colorbar();\n",
    "# # plt.title('Non-approximate ' + r'$\\theta_e$');"
   ]
  },
  {
   "cell_type": "code",
   "execution_count": null,
   "id": "e32affbf-d9bb-4d00-9004-ee01b5cb8b60",
   "metadata": {
    "jupyter": {
     "source_hidden": true
    }
   },
   "outputs": [],
   "source": [
    "# hey=np.mean((theta_e-theta_e_approx),axis=(2,3))\n",
    "# plt.contourf(hey.T,levels=50)\n",
    "# plt.colorbar()\n",
    "# plt.title('comparing non-approximate minus approximate ' + r'$\\theta_e$')"
   ]
  },
  {
   "cell_type": "code",
   "execution_count": null,
   "id": "02632bc4-b250-407b-8fc8-e157f1e31ff3",
   "metadata": {
    "jupyter": {
     "source_hidden": true
    }
   },
   "outputs": [],
   "source": [
    "# vert_mean1=np.mean(theta_e_approx,axis=(0,2,3))\n",
    "# vert_mean2=np.mean(theta_e,axis=(0,2,3))\n",
    "\n",
    "# plt.plot(vert_mean1,data['zh'],label='approx')\n",
    "# plt.plot(vert_mean2,data['zh'],label='non-approx')\n",
    "# plt.legend();\n",
    "# plt.title('comparing approx and non-approximate ' + r'$\\theta_e$') #most difference at the surface \n",
    "# #conclusion: use non-approximated version \n",
    "# plt.xlim((320,380))"
   ]
  },
  {
   "cell_type": "code",
   "execution_count": null,
   "id": "d414bdcc-1adc-437e-855e-1dabe62356df",
   "metadata": {
    "jupyter": {
     "source_hidden": true
    },
    "scrolled": true
   },
   "outputs": [],
   "source": [
    "# #MAKING ARRAY TO STORE THETA_E\n",
    "# #RUNNING\n",
    "# initiate_array()\n",
    "\n",
    "# #CALCULATING AND APPENDING TO DATA EACH TIMESTEP\n",
    "# for t in range(len(netCDF['time'])):\n",
    "#     if np.mod(t,1)==0: print(f'Current time {t}')\n",
    "#     data=netCDF.isel(time=t)\n",
    "#     [P, p0, qv, qt, Rd, Rv, Cpd, Cpv, Cpl, Lv, T, e, Pd, e_s, H] = load_vars(data)\n",
    "#     theta_e=make_theta_e(P, p0, qv, qt, Rd, Rv, Cpd, Cpv, Cpl, Lv, T, e, Pd, e_s, H)\n",
    "#     add_timestep_at_index(theta_e, t)\n",
    "\n",
    "\n",
    "# #Fast for 1KM, 1.5 hours for 250M"
   ]
  }
 ],
 "metadata": {
  "kernelspec": {
   "display_name": "Python 3 (ipykernel)",
   "language": "python",
   "name": "python3"
  },
  "language_info": {
   "codemirror_mode": {
    "name": "ipython",
    "version": 3
   },
   "file_extension": ".py",
   "mimetype": "text/x-python",
   "name": "python",
   "nbconvert_exporter": "python",
   "pygments_lexer": "ipython3",
   "version": "3.11.8"
  }
 },
 "nbformat": 4,
 "nbformat_minor": 5
}

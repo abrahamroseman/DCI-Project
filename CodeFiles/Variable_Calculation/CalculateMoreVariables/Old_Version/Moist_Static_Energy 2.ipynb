{
 "cells": [
  {
   "cell_type": "code",
   "execution_count": 1,
   "id": "a40eb550-9209-4e92-8135-a1360950b8f0",
   "metadata": {},
   "outputs": [],
   "source": [
    "#Importing Libraries\n",
    "import numpy as np\n",
    "import matplotlib.pyplot as plt\n",
    "import matplotlib.colors as mcolors\n",
    "import matplotlib.ticker as ticker\n",
    "import matplotlib.cm as cm\n",
    "from matplotlib.colors import Normalize\n",
    "from matplotlib.ticker import MaxNLocator\n",
    "from matplotlib.ticker import ScalarFormatter\n",
    "import matplotlib.gridspec as gridspec\n",
    "import xarray as xr\n",
    "import os; import time\n",
    "import pickle\n",
    "import h5py"
   ]
  },
  {
   "cell_type": "code",
   "execution_count": 2,
   "id": "614ad8ca-0aa3-419d-b25e-f440eb53d18a",
   "metadata": {},
   "outputs": [],
   "source": [
    "#MAIN DIRECTORIES\n",
    "mainDirectory='/mnt/lustre/koa/koastore/torri_group/air_directory/Projects/DCI-Project/'\n",
    "mainCodeDirectory=os.path.join(mainDirectory,\"Code/CodeFiles/\")\n",
    "scratchDirectory='/homez/air673/koa_scratch/'\n",
    "codeDirectory='/mnt/lustre/koa/koastore/torri_group/air_directory/Projects/DCI-Project/Code/CodeFiles/Project_Algorithms/Domain_Profiles/'"
   ]
  },
  {
   "cell_type": "code",
   "execution_count": 3,
   "id": "9c134433-21f9-40fa-960a-ad53f2a81024",
   "metadata": {},
   "outputs": [],
   "source": [
    "#LOADING DATA\n",
    "def GetDataDirectories(simulationNumber):\n",
    "    if simulationNumber == 1:\n",
    "        Directory=os.path.join(mainDirectory,'Model/cm1r20.3/run')\n",
    "        res='1km'; t_res='5min'; Np_str='1e6'; Nz_str='34'\n",
    "    elif simulationNumber == 2:\n",
    "        Directory=scratchDirectory\n",
    "        res='1km'; t_res='1min'; Np_str='50e6'; Nz_str='95'\n",
    "    elif simulationNumber == 3:\n",
    "        Directory=scratchDirectory\n",
    "        res='250m'; t_res='1min'; Np_str='50e6'; Nz_str='95'\n",
    "        \n",
    "    dataDirectory = os.path.join(Directory, f\"cm1out_{res}_{t_res}_{Nz_str}nz.nc\")\n",
    "    parcelDirectory = os.path.join(Directory,f\"cm1out_pdata_{res}_{t_res}_{Np_str}np.nc\")\n",
    "    return dataDirectory, parcelDirectory, res,t_res,Np_str,Nz_str\n",
    "    \n",
    "def GetData(dataDirectory, parcelDirectory):\n",
    "    dataNC = xr.open_dataset(dataDirectory, decode_timedelta=True) \n",
    "    parcelNC = xr.open_dataset(parcelDirectory, decode_timedelta=True) \n",
    "    return dataNC,parcelNC\n",
    "\n",
    "def SubsetDataVars(dataNC):\n",
    "    varList = [\"thflux\", \"qvflux\", \"tsk\", \"cape\", \n",
    "               \"cin\", \"lcl\", \"lfc\", \"th\",\n",
    "               \"prs\", \"rho\", \"qv\", \"qc\",\n",
    "               \"qr\", \"qi\", \"qs\",\"qg\", \n",
    "               \"buoyancy\", \"uinterp\", \"vinterp\", \"winterp\",]\n",
    "    \n",
    "    varList += [\"ptb_hadv\", \"ptb_vadv\", \"ptb_hidiff\", \"ptb_vidiff\",\n",
    "                \"ptb_hturb\", \"ptb_vturb\", \"ptb_mp\", \"ptb_rdamp\", \n",
    "                \"ptb_rad\", \"ptb_div\", \"ptb_diss\",]\n",
    "    \n",
    "    varList += [\"qvb_hadv\", \"qvb_vadv\", \"qvb_hidiff\", \"qvb_vidiff\", \n",
    "                \"qvb_hturb\", \"qvb_vturb\", \"qvb_mp\",]\n",
    "    \n",
    "    varList += [\"wb_hadv\", \"wb_vadv\", \"wb_hidiff\", \"wb_vidiff\",\n",
    "                \"wb_hturb\", \"wb_vturb\", \"wb_pgrad\", \"wb_rdamp\", \"wb_buoy\",]\n",
    "\n",
    "    return dataNC[varList]\n",
    "\n",
    "[dataDirectory,parcelDirectory, res,t_res,Np_str,Nz_str] = GetDataDirectories(simulationNumber=1)\n",
    "[data,parcel] = GetData(dataDirectory, parcelDirectory)"
   ]
  },
  {
   "cell_type": "code",
   "execution_count": null,
   "id": "cadf62f6-4ab6-401a-9edd-7b4f6ea8ef14",
   "metadata": {},
   "outputs": [],
   "source": [
    "dir='/mnt/lustre/koa/koastore/torri_group/air_directory/DCI-Project/'"
   ]
  },
  {
   "cell_type": "code",
   "execution_count": null,
   "id": "8be23489-a9f0-42d8-9336-91b839452cea",
   "metadata": {},
   "outputs": [],
   "source": [
    "import sys\n",
    "path=os.path.join(mainCodeDirectory,'Functions/')\n",
    "sys.path.append(path)\n",
    "\n",
    "import NumericalFunctions\n",
    "from NumericalFunctions import * # import NumericalFunctions \n",
    "import PlottingFunctions\n",
    "from PlottingFunctions import * # import PlottingFunctions\n",
    "\n",
    "# # Get all functions in NumericalFunctions\n",
    "# import inspect\n",
    "# functions = [f[0] for f in inspect.getmembers(NumericalFunctions, inspect.isfunction)]\n",
    "# functions"
   ]
  },
  {
   "cell_type": "code",
   "execution_count": null,
   "id": "b4bc1177-2141-430f-afe4-aeed1ba5f2ca",
   "metadata": {},
   "outputs": [],
   "source": [
    "def load_vars(data):\n",
    "    # print('PRESSURE VARIABLES'); ################################# PRESSURE VARIABLES\n",
    "    p0=1e5\n",
    "    P=data['prs'].data\n",
    "\n",
    "   # print('THERMODYNAMICS'); ################################# THERMODYNAMICS\n",
    "    Rd=287.04 \n",
    "    # Rv=461.5\n",
    "    cpd=1005.7 #+-2.5 #****divide by this\n",
    "    cpv=1870 #+-25\n",
    "    cpl=4190 #+-30 #Cpl = Cvl = Cl\n",
    "    cpi=2106.0 #Cpi = Cvi = Ci\n",
    "    Lv0=2.501e6\n",
    "    Lf0=0.3337e6\n",
    "\n",
    "    def Lv(T): #Kirchoff's formula L_i,ii= L_i,ii0+(Cpii-Cpi)*(T-273.15)\n",
    "        Llv=Lv0+(cpv-cpl)*(T-273.15)\n",
    "        return Llv\n",
    "        \n",
    "    def Lf(T): #Kirchoff's formula L_i,ii= L_i,ii0+(Cpii-Cpi)*(T-273.15)\n",
    "        Lli=Lf0+(cpi-cpl)*(T-273.15) \n",
    "        return Lli\n",
    "    \n",
    "    \n",
    "    # print('TEMPERATURE'); ################################# TEMPERATURE\n",
    "    theta=data['th'].data\n",
    "    T=theta*(P/p0)**(Rd/cpd)\n",
    "\n",
    "    # print('Specific Humidity'); ################################# Specific Humidity\n",
    "    rv=data['qv'].data\n",
    "    rl=data['qr'].data+data['qc'].data\n",
    "    rt=rv+rl\n",
    "\n",
    "    ri=data['qi'].data\n",
    "    rT=rt+ri\n",
    "\n",
    "    ################################# Geopotential Height\n",
    "    Nz,Ny,Nx=len(data['zh']),len(data['yh']),len(data['xh'])\n",
    "    zh_values=data['zh'].values*1000\n",
    "    Z=np.broadcast_to(zh_values[:, np.newaxis, np.newaxis], (Nz, Ny, Nx))\n",
    "    g=9.81\n",
    "    gZ=g*Z\n",
    "    \n",
    "    return cpd,cpl,T, Lv,Lf, rv,ri,rt,rT, gZ"
   ]
  },
  {
   "cell_type": "code",
   "execution_count": null,
   "id": "c6e5db34-d0b9-45bf-90cd-caf2fd3259e0",
   "metadata": {},
   "outputs": [],
   "source": [
    "def make_MSE(cpd,cpl,T,Lv,Lf,rv,ri,rt,rT,gZ):\n",
    "    # MSE=(cpd+rt*cpl)*T + (Lv(T)*rv) + ( (1+rt)*(gZ) )\n",
    "    MSE=(cpd+rT*cpl)*T + (Lv(T)*rv) - (Lf(T)*ri) + ( (1+rT)*(gZ) ) #including ice\n",
    "    return MSE"
   ]
  },
  {
   "cell_type": "code",
   "execution_count": null,
   "id": "7d13a49a-edf6-4fff-a225-127e6d1c6801",
   "metadata": {},
   "outputs": [],
   "source": [
    "if res=='1km':\n",
    "    outputDirectory=os.path.join(mainDirectory,'Code','OUTPUT','Variable_Calculation','CalculateMoreVariables')\n",
    "    os.makedirs(outputDirectory, exist_ok=True)\n",
    "if res=='250m':\n",
    "    outputDirectory=os.path.join(scratchDirectory,'OUTPUT','Variable_Calculation','CalculateMoreVariables')\n",
    "    os.makedirs(outputDirectory, exist_ok=True)\n",
    "    \n",
    "def initiate_array():\n",
    "    # Define array dimensions (adjust based on your data)\n",
    "    t_size = len(data['time'])  # Number of timesteps\n",
    "    z_size = len(data['zh'])    # Number of vertical levels\n",
    "    y_size = len(data['yh'])    # Number of y-axis points\n",
    "    x_size = len(data['xh'])    # Number of x-axis points\n",
    "\n",
    "    out_file=os.path.join(outputDirectory, 'MSE'+f'_{res}_{t_res}'+'.h5')\n",
    "    with h5py.File(out_file, 'a') as f:\n",
    "        # Check if the dataset 'theta_e' already exists\n",
    "        if 'MSE' not in f:\n",
    "            # Create a dataset with the full size for all time steps (initially empty)\n",
    "            f.create_dataset('MSE', \n",
    "                             (t_size, z_size, y_size, x_size),  # Full size for all timesteps\n",
    "                             maxshape=(None, z_size, y_size, x_size),  # Unlimited timesteps (can grow along time dimension)\n",
    "                             dtype='float64', \n",
    "                             chunks=(1, z_size, y_size, x_size))  # Chunks for time axis to allow resizing\n",
    "\n",
    "            \n",
    "def add_timestep_at_index(timestep_data, index):\n",
    "    out_file=os.path.join(outputDirectory, 'MSE'+f'_{res}_{t_res}'+'.h5')\n",
    "    with h5py.File(out_file, 'a') as f:\n",
    "        # Access the existing dataset 'MSE'\n",
    "        dataset = f['MSE']\n",
    "        \n",
    "        # Assign the new timestep data at the specified index\n",
    "        dataset[index] = timestep_data"
   ]
  },
  {
   "cell_type": "code",
   "execution_count": null,
   "id": "9521e742-e5e0-49f7-a35e-2d9bd0174b82",
   "metadata": {},
   "outputs": [],
   "source": [
    "#RUNNING"
   ]
  },
  {
   "cell_type": "code",
   "execution_count": null,
   "id": "90fdf0fd-6f78-4a11-a435-b627ec7adb41",
   "metadata": {
    "scrolled": true
   },
   "outputs": [],
   "source": [
    "#MAKING ARRAY TO STORE THETA_E\n",
    "initiate_array()\n",
    "\n",
    "#CALCULATING AND APPENDING TO DATA EACH TIMESTEP\n",
    "for t in range(len(data['time'])):\n",
    "    if np.mod(t,1)==0: print(f'Current time {t}')\n",
    "    data_t=data.isel(time=t)\n",
    "    [cpd,cpl,T,Lv,Lf,rv,ri,rt,rT,gZ] = load_vars(data_t)\n",
    "    MSE=make_MSE(cpd,cpl,T,Lv,Lf,rv,ri,rt,rT,gZ)\n",
    "    add_timestep_at_index(MSE, t)\n",
    "\n",
    "#Fast for 1KM, longer for 250m"
   ]
  },
  {
   "cell_type": "code",
   "execution_count": null,
   "id": "dd2a6a26-4b81-4fba-8001-195ec9297649",
   "metadata": {},
   "outputs": [],
   "source": [
    "# #READING FINAL OUTPUT\n",
    "# dir2='/mnt/lustre/koa/koastore/torri_group/air_directory/DCI-Project/'\n",
    "# # dir2='/mnt/lustre/koa/scratch/air673/'\n",
    "# with h5py.File(dir2 + 'Variable_Calculation/' + 'MSE'+f'_{res}_{t_res}'+'.h5', 'a') as f:\n",
    "#     # Access the existing dataset 'MSE'\n",
    "#     dataset = f['MSE'][:]"
   ]
  },
  {
   "cell_type": "code",
   "execution_count": null,
   "id": "1a0fe79e-4bb0-436c-9630-d3f9439481bb",
   "metadata": {},
   "outputs": [],
   "source": [
    "# plt.contourf(dataset[50,0])\n",
    "# plt.colorbar(label='J/kg')\n",
    "# plt.title(\"MSE at t = 50, z = 30 m\")"
   ]
  }
 ],
 "metadata": {
  "kernelspec": {
   "display_name": "Python 3 (ipykernel)",
   "language": "python",
   "name": "python3"
  },
  "language_info": {
   "codemirror_mode": {
    "name": "ipython",
    "version": 3
   },
   "file_extension": ".py",
   "mimetype": "text/x-python",
   "name": "python",
   "nbconvert_exporter": "python",
   "pygments_lexer": "ipython3",
   "version": "3.11.8"
  }
 },
 "nbformat": 4,
 "nbformat_minor": 5
}

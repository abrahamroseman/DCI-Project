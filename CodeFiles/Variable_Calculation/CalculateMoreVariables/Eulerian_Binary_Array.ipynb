{
 "cells": [
  {
   "cell_type": "code",
   "execution_count": null,
   "id": "aff2fb93-75fe-44b5-b298-e726ad41710d",
   "metadata": {},
   "outputs": [],
   "source": [
    "#Importing Libraries\n",
    "import numpy as np\n",
    "import matplotlib.pyplot as plt\n",
    "import matplotlib.colors as mcolors\n",
    "import matplotlib.ticker as ticker\n",
    "import matplotlib.cm as cm\n",
    "from matplotlib.colors import Normalize\n",
    "from matplotlib.ticker import MaxNLocator\n",
    "from matplotlib.ticker import ScalarFormatter\n",
    "import matplotlib.gridspec as gridspec\n",
    "import xarray as xr\n",
    "import os; import time\n",
    "import pickle\n",
    "import h5py"
   ]
  },
  {
   "cell_type": "code",
   "execution_count": null,
   "id": "25ba6607-bded-42f7-8c35-0e39f38c8dce",
   "metadata": {},
   "outputs": [],
   "source": [
    "#MAIN DIRECTORIES\n",
    "mainDirectory='/mnt/lustre/koa/koastore/torri_group/air_directory/Projects/DCI-Project/'\n",
    "mainCodeDirectory=os.path.join(mainDirectory,\"Code/CodeFiles/\")\n",
    "scratchDirectory='/homez/air673/koa_scratch/'\n",
    "codeDirectory='/mnt/lustre/koa/koastore/torri_group/air_directory/Projects/DCI-Project/Code/CodeFiles/Project_Algorithms/Domain_Profiles/'"
   ]
  },
  {
   "cell_type": "code",
   "execution_count": null,
   "id": "07f82e20-20a1-4516-b92a-eb8ef948467a",
   "metadata": {},
   "outputs": [],
   "source": [
    "#LOADING DATA\n",
    "def GetDataDirectories(simulationNumber):\n",
    "    if simulationNumber == 1:\n",
    "        Directory=os.path.join(mainDirectory,'Model/cm1r20.3/run')\n",
    "        res='1km'; t_res='5min'; Np_str='1e6'; Nz_str='34'\n",
    "    elif simulationNumber == 2:\n",
    "        Directory=scratchDirectory\n",
    "        res='1km'; t_res='1min'; Np_str='50e6'; Nz_str='95'\n",
    "    elif simulationNumber == 3:\n",
    "        Directory=scratchDirectory\n",
    "        res='250m'; t_res='1min'; Np_str='50e6'; Nz_str='95'\n",
    "        \n",
    "    dataDirectory = os.path.join(Directory, f\"cm1out_{res}_{t_res}_{Nz_str}nz.nc\")\n",
    "    parcelDirectory = os.path.join(Directory,f\"cm1out_pdata_{res}_{t_res}_{Np_str}np.nc\")\n",
    "    return dataDirectory, parcelDirectory, res,t_res,Np_str,Nz_str\n",
    "    \n",
    "def GetData(dataDirectory, parcelDirectory):\n",
    "    dataNC = xr.open_dataset(dataDirectory, decode_timedelta=True) \n",
    "    parcelNC = xr.open_dataset(parcelDirectory, decode_timedelta=True) \n",
    "    return dataNC,parcelNC\n",
    "\n",
    "def SubsetDataVars(dataNC):\n",
    "    varList = [\"thflux\", \"qvflux\", \"tsk\", \"cape\", \n",
    "               \"cin\", \"lcl\", \"lfc\", \"th\",\n",
    "               \"prs\", \"rho\", \"qv\", \"qc\",\n",
    "               \"qr\", \"qi\", \"qs\",\"qg\", \n",
    "               \"buoyancy\", \"uinterp\", \"vinterp\", \"winterp\",]\n",
    "    \n",
    "    varList += [\"ptb_hadv\", \"ptb_vadv\", \"ptb_hidiff\", \"ptb_vidiff\",\n",
    "                \"ptb_hturb\", \"ptb_vturb\", \"ptb_mp\", \"ptb_rdamp\", \n",
    "                \"ptb_rad\", \"ptb_div\", \"ptb_diss\",]\n",
    "    \n",
    "    varList += [\"qvb_hadv\", \"qvb_vadv\", \"qvb_hidiff\", \"qvb_vidiff\", \n",
    "                \"qvb_hturb\", \"qvb_vturb\", \"qvb_mp\",]\n",
    "    \n",
    "    varList += [\"wb_hadv\", \"wb_vadv\", \"wb_hidiff\", \"wb_vidiff\",\n",
    "                \"wb_hturb\", \"wb_vturb\", \"wb_pgrad\", \"wb_rdamp\", \"wb_buoy\",]\n",
    "\n",
    "    return dataNC[varList]\n",
    "\n",
    "[dataDirectory,parcelDirectory, res,t_res,Np_str,Nz_str] = GetDataDirectories(simulationNumber=1)\n",
    "[data,parcel] = GetData(dataDirectory, parcelDirectory)"
   ]
  },
  {
   "cell_type": "code",
   "execution_count": null,
   "id": "bf4f3c50-c8bc-45fb-a9c2-31f87cb0d7a0",
   "metadata": {},
   "outputs": [],
   "source": [
    "dir='/mnt/lustre/koa/koastore/torri_group/air_directory/DCI-Project/'"
   ]
  },
  {
   "cell_type": "code",
   "execution_count": null,
   "id": "a91a9df0-3c0f-46b3-8adf-d66b68d9c074",
   "metadata": {},
   "outputs": [],
   "source": [
    "import sys\n",
    "path=os.path.join(mainCodeDirectory,'Functions/')\n",
    "sys.path.append(path)\n",
    "\n",
    "import NumericalFunctions\n",
    "from NumericalFunctions import * # import NumericalFunctions \n",
    "import PlottingFunctions\n",
    "from PlottingFunctions import * # import PlottingFunctions\n",
    "\n",
    "# # Get all functions in NumericalFunctions\n",
    "# import inspect\n",
    "# functions = [f[0] for f in inspect.getmembers(NumericalFunctions, inspect.isfunction)]\n",
    "# functions"
   ]
  },
  {
   "cell_type": "code",
   "execution_count": null,
   "id": "3b71ace1-1ad6-4ec4-9ba0-595f2ff3511d",
   "metadata": {},
   "outputs": [],
   "source": [
    "if res=='1km':\n",
    "    outputDirectory=os.path.join(mainDirectory,'Code','OUTPUT','Variable_Calculation','CalculateMoreVariables')\n",
    "    os.makedirs(outputDirectory, exist_ok=True)\n",
    "if res=='250m':\n",
    "    outputDirectory=os.path.join(scratchDirectory,'OUTPUT','Variable_Calculation','CalculateMoreVariables')\n",
    "    os.makedirs(outputDirectory, exist_ok=True)\n",
    "    \n",
    "def initiate_array():\n",
    "    # Define array dimensions (adjust based on your netCDF)\n",
    "    t_size = len(data['time'])  # Number of timesteps\n",
    "    z_size = len(data['zh'])    # Number of vertical levels\n",
    "    y_size = len(data['yh'])    # Number of y-axis points\n",
    "    x_size = len(data['xh'])    # Number of x-axis points\n",
    "\n",
    "    out_file=os.path.join(outputDirectory, f'Eulerian_Binary_Array_{res}_{t_res}.h5')\n",
    "    with h5py.File(out_file, 'a') as f:\n",
    "        for var_name in ['A_c', 'A_g']:\n",
    "            if var_name not in f:\n",
    "                f.create_dataset(var_name, \n",
    "                                 (t_size, z_size, y_size, x_size), \n",
    "                                 maxshape=(None, z_size, y_size, x_size),\n",
    "                                 dtype='bool', \n",
    "                                 chunks=(1, z_size, y_size, x_size))\n",
    "\n",
    "\n",
    "            \n",
    "def add_timestep_at_index(timestep_data_dict, index):\n",
    "    out_file=os.path.join(outputDirectory, f'Eulerian_Binary_Array_{res}_{t_res}.h5')\n",
    "    with h5py.File(out_file, 'a') as f:\n",
    "        if 'A_c' in timestep_data_dict:\n",
    "            f['A_c'][index] = timestep_data_dict['A_c']\n",
    "        if 'A_g' in timestep_data_dict:\n",
    "            f['A_g'][index] = timestep_data_dict['A_g']"
   ]
  },
  {
   "cell_type": "code",
   "execution_count": null,
   "id": "391d4669-ffab-4f5b-bf43-3476cda08b49",
   "metadata": {},
   "outputs": [],
   "source": [
    "####################################\n",
    "#RUNNING"
   ]
  },
  {
   "cell_type": "code",
   "execution_count": null,
   "id": "b35654b3-6333-40a3-b9b5-42ad3ce3f11c",
   "metadata": {},
   "outputs": [],
   "source": [
    "w_thresh1=0.1\n",
    "w_thresh2=0.5\n",
    "qcqi_thresh=1e-6"
   ]
  },
  {
   "cell_type": "code",
   "execution_count": null,
   "id": "7de67450-aa3a-4ea2-a624-053d1b86f404",
   "metadata": {
    "scrolled": true
   },
   "outputs": [],
   "source": [
    "initiate_array()\n",
    "\n",
    "#CALCULATING AND APPENDING TO DATA EACH TIMESTEP\n",
    "for t in range(len(data['time'])):\n",
    "    if np.mod(t,1)==0: print(f'Current time {t}')\n",
    "\n",
    "    print('calculating variables')\n",
    "    w_data=data['winterp'].isel(time=t).data\n",
    "    qc_data=data['qc'].isel(time=t).data\n",
    "    qi_data=data['qi'].isel(time=t).data\n",
    "    qcqi_data=qc_data+qi_data\n",
    "        \n",
    "    print('calculating A_c binary array')\n",
    "    cond1 = w_data >= w_thresh2\n",
    "    cond2 = qcqi_data >= qcqi_thresh\n",
    "    A_c = np.where(cond1 & cond2, True, False)\n",
    "\n",
    "    print('calculating A_g binary array')\n",
    "    cond1 = w_data >= w_thresh1\n",
    "    cond2 = qcqi_data < qcqi_thresh\n",
    "    A_g = np.where(cond1 & cond2, True, False)\n",
    "\n",
    "    print('outputting')\n",
    "    result = {\n",
    "        'A_c': A_c,\n",
    "        'A_g': A_g\n",
    "    }\n",
    "    add_timestep_at_index(result, t)\n"
   ]
  },
  {
   "cell_type": "code",
   "execution_count": null,
   "id": "c6314c89-0885-4e61-9ed0-9035d923786d",
   "metadata": {},
   "outputs": [],
   "source": []
  },
  {
   "cell_type": "code",
   "execution_count": null,
   "id": "67953262-ca3e-4cf2-abae-cca2d5f487ff",
   "metadata": {},
   "outputs": [],
   "source": []
  },
  {
   "cell_type": "code",
   "execution_count": null,
   "id": "3522064a-1b78-457a-a4a0-ae48ab2dee79",
   "metadata": {},
   "outputs": [],
   "source": []
  },
  {
   "cell_type": "code",
   "execution_count": null,
   "id": "9cbab81d-ba79-4222-a802-bc9837f2f606",
   "metadata": {},
   "outputs": [],
   "source": [
    "######################################################"
   ]
  },
  {
   "cell_type": "code",
   "execution_count": null,
   "id": "82ebebe2-ba91-4d6a-934f-c7f5be0e61de",
   "metadata": {},
   "outputs": [],
   "source": [
    "# #READING BACK IN\n",
    "# dir2='/mnt/lustre/koa/koastore/torri_group/air_directory/DCI-Project/'\n",
    "# out_file = dir2 + 'Variable_Calculation/' + f'Eulerian_Binary_Array_{res}_{t_res}.h5'\n",
    "\n",
    "# with h5py.File(out_file, 'r') as f:\n",
    "#     A_c = f['A_c'][t]  # Loads the entire A_c array into memory\n",
    "#     A_g = f['A_g'][t]  # Loads the entire A_g array into memory"
   ]
  },
  {
   "cell_type": "code",
   "execution_count": null,
   "id": "549578df-7316-46e4-ba10-079bfbaacf82",
   "metadata": {
    "jupyter": {
     "source_hidden": true
    }
   },
   "outputs": [],
   "source": [
    "# #####################\n",
    "# #TESTING\n",
    "# w_thresh1=0.1\n",
    "# w_thresh2=0.5\n",
    "# qcqi_thresh=1e-6\n",
    "# z=10\n",
    "# w_t=data['winterp'].isel(time=t,zh=z).data\n",
    "# qc_t=data['qc'].isel(time=t,zh=z).data\n",
    "# qi_t=data['qi'].isel(time=t,zh=z).data\n",
    "# qcqi_t=qc_t+qi_t\n",
    "\n",
    "# out_file = dir2 + 'Variable_Calculation/' + f'Eulerian_Binary_Array_{res}_{t_res}.h5'\n",
    "# with h5py.File(out_file, 'r') as f:\n",
    "#     A_c = f['A_c'][t,z]  # Loads the entire A_c array into memory\n",
    "#     A_g = f['A_g'][t,z]  # Loads the entire A_g array into memory\n",
    "\n",
    "# cond1=(w_t>=w_thresh1)\n",
    "# cond2=(qcqi_t<qcqi_thresh)\n",
    "# print(np.all((cond1&cond2)==A_g))\n",
    "\n",
    "# cond1=(w_t>=w_thresh2)\n",
    "# cond2=(qcqi_t>=qcqi_thresh)\n",
    "# print(np.all((cond1&cond2)==A_c))"
   ]
  }
 ],
 "metadata": {
  "kernelspec": {
   "display_name": "work",
   "language": "python",
   "name": "work"
  },
  "language_info": {
   "codemirror_mode": {
    "name": "ipython",
    "version": 3
   },
   "file_extension": ".py",
   "mimetype": "text/x-python",
   "name": "python",
   "nbconvert_exporter": "python",
   "pygments_lexer": "ipython3",
   "version": "3.13.5"
  }
 },
 "nbformat": 4,
 "nbformat_minor": 5
}

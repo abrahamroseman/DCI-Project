{
 "cells": [
  {
   "cell_type": "code",
   "execution_count": 1,
   "id": "95afd0f8-53d4-4026-9f8f-d07b2dd04988",
   "metadata": {},
   "outputs": [],
   "source": [
    "####################################\n",
    "#ENVIRONMENT SETUP"
   ]
  },
  {
   "cell_type": "code",
   "execution_count": 2,
   "id": "a7b57158-b50d-4b1e-96ce-e0aba4ad9268",
   "metadata": {},
   "outputs": [],
   "source": [
    "#Importing Libraries\n",
    "import numpy as np\n",
    "import matplotlib.pyplot as plt\n",
    "import matplotlib.colors as mcolors\n",
    "import matplotlib.ticker as ticker\n",
    "import matplotlib.cm as cm\n",
    "from matplotlib.colors import Normalize\n",
    "from matplotlib.ticker import MaxNLocator\n",
    "from matplotlib.ticker import ScalarFormatter\n",
    "import matplotlib.gridspec as gridspec\n",
    "import xarray as xr\n",
    "\n",
    "import sys; import os; import time; from datetime import timedelta\n",
    "import pickle\n",
    "import h5py"
   ]
  },
  {
   "cell_type": "code",
   "execution_count": 3,
   "id": "25ba6607-bded-42f7-8c35-0e39f38c8dce",
   "metadata": {},
   "outputs": [],
   "source": [
    "#MAIN DIRECTORIES\n",
    "def GetDirectories():\n",
    "    mainDirectory='/mnt/lustre/koa/koastore/torri_group/air_directory/Projects/DCI-Project/'\n",
    "    mainCodeDirectory=os.path.join(mainDirectory,\"Code/CodeFiles/\")\n",
    "    scratchDirectory='/mnt/lustre/koa/scratch/air673/'\n",
    "    codeDirectory=os.getcwd()\n",
    "    return mainDirectory,mainCodeDirectory,scratchDirectory,codeDirectory\n",
    "\n",
    "[mainDirectory,mainCodeDirectory,scratchDirectory,codeDirectory] = GetDirectories()"
   ]
  },
  {
   "cell_type": "code",
   "execution_count": 4,
   "id": "88d5bbe7-1d5f-4971-a7b0-b61802480a08",
   "metadata": {},
   "outputs": [],
   "source": [
    "#IMPORT CLASSES (from current directory)\n",
    "sys.path.append(codeDirectory)\n",
    "from CLASSES_CalculateMoreVariables import ModelData_Class, DataManager_Class"
   ]
  },
  {
   "cell_type": "code",
   "execution_count": 5,
   "id": "712e4db2-2323-4246-8a01-63b40e585ec9",
   "metadata": {},
   "outputs": [],
   "source": [
    "####################################\n",
    "#LOADING CLASSES"
   ]
  },
  {
   "cell_type": "code",
   "execution_count": 6,
   "id": "aebe830b-7a21-45af-974a-373a029b0465",
   "metadata": {},
   "outputs": [
    {
     "name": "stdout",
     "output_type": "stream",
     "text": [
      "=== CM1 Data Summary ===\n",
      " Simulation #:   1\n",
      " Resolution:     1km\n",
      " Time step:      5min\n",
      " Vertical levels:34\n",
      " Parcels:        1e6\n",
      " Data file:      /mnt/lustre/koa/koastore/torri_group/air_directory/Projects/DCI-Project/Model/cm1r20.3/run/cm1out_1km_5min_34nz.nc\n",
      " Parcel file:    /mnt/lustre/koa/koastore/torri_group/air_directory/Projects/DCI-Project/Model/cm1r20.3/run/cm1out_pdata_1km_5min_1e6np.nc\n",
      " Time steps:     133\n",
      "=========================\n"
     ]
    }
   ],
   "source": [
    "#data loading class\n",
    "ModelData = ModelData_Class(mainDirectory, scratchDirectory, simulationNumber=1)\n",
    "#data manager class\n",
    "DataManager = DataManager_Class(mainDirectory, scratchDirectory, ModelData.res, ModelData.t_res, ModelData.Nz_str)"
   ]
  },
  {
   "cell_type": "code",
   "execution_count": 7,
   "id": "45715b8f-f923-47af-8983-b864ce538554",
   "metadata": {},
   "outputs": [],
   "source": [
    "####################################\n",
    "#FUNCTIONS"
   ]
  },
  {
   "cell_type": "code",
   "execution_count": 8,
   "id": "eb87b837-d078-4726-8846-a32f5c44cce5",
   "metadata": {},
   "outputs": [],
   "source": [
    "#Calculation Functions\n",
    "def GetCloudyUpdraftThresholds():\n",
    "    w_thresh1=0.1\n",
    "    w_thresh2=0.5\n",
    "    qcqi_thresh=1e-6\n",
    "    return w_thresh1,w_thresh2,qcqi_thresh\n",
    "\n",
    "def GetInputVariables(inputDataDirectory, timeString):\n",
    "    w_data = DataManager.GetTimestepData(inputDataDirectory, timeString, VariableName=\"winterp\")\n",
    "    qc_data = DataManager.GetTimestepData(inputDataDirectory, timeString, VariableName=\"qc\")\n",
    "    qi_data = DataManager.GetTimestepData(inputDataDirectory, timeString, VariableName=\"qi\")\n",
    "    qcqi_data=qc_data+qi_data\n",
    "\n",
    "    InputDictionary = {'w_data': w_data,\n",
    "                       'qcqi_data': qcqi_data}\n",
    "    return InputDictionary\n",
    "    \n",
    "def VariableCalculation(inputDictionary):\n",
    "    [w_data, qcqi_data] = (inputDictionary[k] for k in ['w_data', 'qcqi_data'])\n",
    "    [w_thresh1,w_thresh2,qcqi_thresh] = GetCloudyUpdraftThresholds()\n",
    "\n",
    "    #calculating A_g binary array\n",
    "    cond1 = w_data >= w_thresh1\n",
    "    cond2 = qcqi_data < qcqi_thresh\n",
    "    A_g = np.where(cond1 & cond2, True, False)\n",
    "\n",
    "    #calculating A_c binary array\n",
    "    cond1 = w_data >= w_thresh2\n",
    "    cond2 = qcqi_data >= qcqi_thresh\n",
    "    A_c = np.where(cond1 & cond2, True, False)\n",
    "\n",
    "    outputDictionary = {\n",
    "        'A_c': A_c,\n",
    "        'A_g': A_g\n",
    "    }\n",
    "    return outputDictionary"
   ]
  },
  {
   "cell_type": "code",
   "execution_count": 13,
   "id": "a6371bd8-0cff-4a73-991d-bad6b6ca8af7",
   "metadata": {},
   "outputs": [],
   "source": [
    "# ============================================================\n",
    "# DataManager_Class\n",
    "# ============================================================\n",
    "\n",
    "#Libraries\n",
    "import os\n",
    "import h5py\n",
    "\n",
    "class DataManager_Class:\n",
    "    def __init__(self, mainDirectory, scratchDirectory, res, t_res, Nz_str, dataName, dtype):\n",
    "        self.mainDirectory = mainDirectory\n",
    "        self.scratchDirectory = scratchDirectory\n",
    "        self.res = res\n",
    "        self.t_res = t_res\n",
    "        self.Nz_str = Nz_str\n",
    "        self.dataName = dataName\n",
    "        self.dtype = dtype\n",
    "\n",
    "        # Initialize directories on creation\n",
    "        self.inputDirectory = self.GetInputDirectory(mainDirectory, scratchDirectory, res)\n",
    "        self.outputDirectory = self.GetOutputDirectory(mainDirectory, scratchDirectory, res)\n",
    "        self.inputDataDirectory = self.MakeInputDataDirectory(self.inputDirectory, res, t_res, Nz_str)\n",
    "        self.outputDataDirectory = self.MakeOutputDataDirectory(self.outputDirectory, res, t_res, Nz_str)\n",
    "\n",
    "    # ============================================================\n",
    "    # ========== Functions ==========\n",
    "    # ============================================================\n",
    "\n",
    "    def GetInputDirectory(self, mainDirectory, scratchDirectory, res):\n",
    "        if res == '1km':\n",
    "            inputDirectory = os.path.join(mainDirectory, 'Code', 'OUTPUT', 'Variable_Calculation', 'TimeSplitModelData')\n",
    "        if res == '250m':\n",
    "            inputDirectory = os.path.join(scratchDirectory, 'OUTPUT', 'Variable_Calculation', 'TimeSplitModelData')\n",
    "        return inputDirectory\n",
    "\n",
    "    def GetOutputDirectory(self, mainDirectory, scratchDirectory, res):\n",
    "        if res == '1km':\n",
    "            outputDirectory = os.path.join(mainDirectory, 'Code', 'OUTPUT', 'Variable_Calculation', 'CalculateMoreVariables')\n",
    "            os.makedirs(outputDirectory, exist_ok=True)\n",
    "        if res == '250m':\n",
    "            outputDirectory = os.path.join(scratchDirectory, 'OUTPUT', 'Variable_Calculation', 'CalculateMoreVariables')\n",
    "            os.makedirs(outputDirectory, exist_ok=True)\n",
    "        return outputDirectory\n",
    "\n",
    "    def MakeInputDataDirectory(self, inputDirectory, res, t_res, Nz_str):\n",
    "        inputDataDirectory = os.path.join(inputDirectory, f\"{res}_{t_res}_{Nz_str}nz\", \"ModelData\")\n",
    "        return inputDataDirectory\n",
    "\n",
    "    def MakeOutputDataDirectory(self, outputDirectory, res, t_res, Nz_str):\n",
    "        outputDataDirectory = os.path.join(outputDirectory, f\"{res}_{t_res}_{Nz_str}nz\",self.dataName)\n",
    "        os.makedirs(outputDataDirectory, exist_ok=True)\n",
    "        return outputDataDirectory\n",
    "\n",
    "    def GetTimestepData(self, inputDataDirectory, timeString, VariableName):\n",
    "        inputDataFile = os.path.join(\n",
    "            inputDataDirectory,\n",
    "            f\"cm1out_{self.res}_{self.t_res}_{self.Nz_str}nz_{timeString}.h5\"\n",
    "        )\n",
    "        with h5py.File(inputDataFile, 'r') as f:\n",
    "            InputData = f[VariableName][:]\n",
    "        return InputData\n",
    "\n",
    "    def SaveOutputTimestep(self, outputDataDirectory, res, t_res, timeString, outputDictionary):\n",
    "        out_file = os.path.join(\n",
    "            outputDataDirectory,\n",
    "            f\"{self.dataName}_{res}_{t_res}_{self.Nz_str}nz_{timeString}.h5\"\n",
    "        )\n",
    "        with h5py.File(out_file, 'w') as f:\n",
    "            for var_name, arr in outputDictionary.items():\n",
    "                f.create_dataset(var_name, data=arr, dtype=self.dtype, compression=\"gzip\")\n",
    "        print(f\"Saved timestep to output file: {out_file}\")\n",
    "\n",
    "DataManager = DataManager_Class(mainDirectory, scratchDirectory, ModelData.res, ModelData.t_res, ModelData.Nz_str, dataName=\"Eulerian_Binary_Array\", dtype='bool')"
   ]
  },
  {
   "cell_type": "code",
   "execution_count": 14,
   "id": "391d4669-ffab-4f5b-bf43-3476cda08b49",
   "metadata": {},
   "outputs": [],
   "source": [
    "####################################\n",
    "#RUNNING"
   ]
  },
  {
   "cell_type": "code",
   "execution_count": 15,
   "id": "a1fc300f-9db0-42c2-88e6-adf1c37058a4",
   "metadata": {},
   "outputs": [
    {
     "data": {
      "text/plain": [
       "133"
      ]
     },
     "execution_count": 15,
     "metadata": {},
     "output_type": "execute_result"
    }
   ],
   "source": [
    "(ModelData.Ntime) #SET UP JOB ARRAY"
   ]
  },
  {
   "cell_type": "code",
   "execution_count": 15,
   "id": "7de67450-aa3a-4ea2-a624-053d1b86f404",
   "metadata": {
    "scrolled": true
   },
   "outputs": [
    {
     "name": "stdout",
     "output_type": "stream",
     "text": [
      "Current time 0\n",
      "Saved timestep to output file: /mnt/lustre/koa/koastore/torri_group/air_directory/Projects/DCI-Project/Code/OUTPUT/Variable_Calculation/CalculateMoreVariables/1km_5min_34nz/Eulerian_Binary_Array/Eulerian_Binary_Array_1km_5min_34nz_0-00-00.h5\n",
      "Current time 1\n",
      "Saved timestep to output file: /mnt/lustre/koa/koastore/torri_group/air_directory/Projects/DCI-Project/Code/OUTPUT/Variable_Calculation/CalculateMoreVariables/1km_5min_34nz/Eulerian_Binary_Array/Eulerian_Binary_Array_1km_5min_34nz_0-05-00.h5\n",
      "Current time 2\n"
     ]
    },
    {
     "name": "stderr",
     "output_type": "stream",
     "text": [
      "\n",
      "KeyboardInterrupt\n",
      "\n",
      "\n",
      "KeyboardInterrupt\n",
      "\n"
     ]
    }
   ],
   "source": [
    "#CALCULATING AND APPENDING TO DATA EACH TIMESTEP\n",
    "for t in range(ModelData.Ntime):\n",
    "    if np.mod(t,1)==0: print(f'Current time {t}')\n",
    "\n",
    "    #getting timestring for loading input data\n",
    "    timeString = ModelData.timeStrings[t]\n",
    "\n",
    "    #loading input variables\n",
    "    inputDictionary = GetInputVariables(DataManager.inputDataDirectory, timeString)\n",
    "\n",
    "    #calculating variables\n",
    "    outputDictionary = VariableCalculation(inputDictionary)\n",
    "    \n",
    "    #outputting\n",
    "    DataManager.SaveOutputTimestep(DataManager.outputDataDirectory, ModelData.res, ModelData.t_res, timeString, outputDictionary)\n",
    "    # break"
   ]
  },
  {
   "cell_type": "code",
   "execution_count": null,
   "id": "cb309e18-7237-4e6b-b5c0-d070a87479b7",
   "metadata": {},
   "outputs": [],
   "source": []
  },
  {
   "cell_type": "code",
   "execution_count": null,
   "id": "8d2b3090-59e1-4b90-a7c2-9f286ff724a3",
   "metadata": {},
   "outputs": [],
   "source": []
  },
  {
   "cell_type": "code",
   "execution_count": null,
   "id": "bf9efae5-f194-4a0e-a935-83fb23380261",
   "metadata": {},
   "outputs": [],
   "source": []
  },
  {
   "cell_type": "code",
   "execution_count": null,
   "id": "9cbab81d-ba79-4222-a802-bc9837f2f606",
   "metadata": {},
   "outputs": [],
   "source": [
    "######################################################"
   ]
  },
  {
   "cell_type": "code",
   "execution_count": null,
   "id": "82ebebe2-ba91-4d6a-934f-c7f5be0e61de",
   "metadata": {},
   "outputs": [],
   "source": [
    "# #READING BACK IN\n",
    "# dir2='/mnt/lustre/koa/koastore/torri_group/air_directory/DCI-Project/'\n",
    "# out_file = dir2 + 'Variable_Calculation/' + f'Eulerian_Binary_Array_{res}_{t_res}.h5'\n",
    "\n",
    "# with h5py.File(out_file, 'r') as f:\n",
    "#     A_c = f['A_c'][t]  # Loads the entire A_c array into memory\n",
    "#     A_g = f['A_g'][t]  # Loads the entire A_g array into memory"
   ]
  },
  {
   "cell_type": "code",
   "execution_count": null,
   "id": "549578df-7316-46e4-ba10-079bfbaacf82",
   "metadata": {
    "jupyter": {
     "source_hidden": true
    }
   },
   "outputs": [],
   "source": [
    "# #####################\n",
    "# #TESTING\n",
    "# w_thresh1=0.1\n",
    "# w_thresh2=0.5\n",
    "# qcqi_thresh=1e-6\n",
    "# z=10\n",
    "# w_t=data['winterp'].isel(time=t,zh=z).data\n",
    "# qc_t=data['qc'].isel(time=t,zh=z).data\n",
    "# qi_t=data['qi'].isel(time=t,zh=z).data\n",
    "# qcqi_t=qc_t+qi_t\n",
    "\n",
    "# out_file = dir2 + 'Variable_Calculation/' + f'Eulerian_Binary_Array_{res}_{t_res}.h5'\n",
    "# with h5py.File(out_file, 'r') as f:\n",
    "#     A_c = f['A_c'][t,z]  # Loads the entire A_c array into memory\n",
    "#     A_g = f['A_g'][t,z]  # Loads the entire A_g array into memory\n",
    "\n",
    "# cond1=(w_t>=w_thresh1)\n",
    "# cond2=(qcqi_t<qcqi_thresh)\n",
    "# print(np.all((cond1&cond2)==A_g))\n",
    "\n",
    "# cond1=(w_t>=w_thresh2)\n",
    "# cond2=(qcqi_t>=qcqi_thresh)\n",
    "# print(np.all((cond1&cond2)==A_c))"
   ]
  }
 ],
 "metadata": {
  "kernelspec": {
   "display_name": "work",
   "language": "python",
   "name": "work"
  },
  "language_info": {
   "codemirror_mode": {
    "name": "ipython",
    "version": 3
   },
   "file_extension": ".py",
   "mimetype": "text/x-python",
   "name": "python",
   "nbconvert_exporter": "python",
   "pygments_lexer": "ipython3",
   "version": "3.13.5"
  }
 },
 "nbformat": 4,
 "nbformat_minor": 5
}

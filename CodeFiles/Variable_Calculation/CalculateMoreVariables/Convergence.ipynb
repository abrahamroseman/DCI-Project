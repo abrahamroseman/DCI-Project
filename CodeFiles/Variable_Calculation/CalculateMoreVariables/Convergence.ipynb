{
 "cells": [
  {
   "cell_type": "code",
   "execution_count": null,
   "id": "a65b53a8-2874-4cfa-a60c-9218ecc982a5",
   "metadata": {},
   "outputs": [],
   "source": [
    "#Importing Libraries\n",
    "import numpy as np\n",
    "import matplotlib.pyplot as plt\n",
    "import matplotlib.colors as mcolors\n",
    "import matplotlib.ticker as ticker\n",
    "import matplotlib.cm as cm\n",
    "from matplotlib.colors import Normalize\n",
    "from matplotlib.ticker import MaxNLocator\n",
    "from matplotlib.ticker import ScalarFormatter\n",
    "import matplotlib.gridspec as gridspec\n",
    "import xarray as xr\n",
    "import os; import time\n",
    "import pickle\n",
    "import h5py"
   ]
  },
  {
   "cell_type": "code",
   "execution_count": null,
   "id": "58a6019b-edea-451d-bf77-f66480f9fb1d",
   "metadata": {},
   "outputs": [],
   "source": [
    "#MAIN DIRECTORIES\n",
    "mainDirectory='/mnt/lustre/koa/koastore/torri_group/air_directory/Projects/DCI-Project/'\n",
    "scratchDirectory='/home/air673/koa_scratch/'\n",
    "codeDirectory='/mnt/lustre/koa/koastore/torri_group/air_directory/Projects/DCI-Project/Variable_Calculation/CalculateMoreVariables'"
   ]
  },
  {
   "cell_type": "code",
   "execution_count": null,
   "id": "efd26d2f-4a8e-4262-a45b-3a367cf9ab7c",
   "metadata": {},
   "outputs": [],
   "source": [
    "#LOADING DATA\n",
    "def GetDataDirectories(simulationNumber):\n",
    "    if simulationNumber == 1:\n",
    "        Directory=os.path.join(mainDirectory,'Model/cm1r20.3/run')\n",
    "        res='1km'; t_res='5min'; Np_str='1e6'; Nz_str='34'\n",
    "    elif simulationNumber == 2:\n",
    "        Directory=scratchDirectory\n",
    "        res='1km'; t_res='1min'; Np_str='50e6'; Nz_str='95'\n",
    "    elif simulationNumber == 3:\n",
    "        Directory=scratchDirectory\n",
    "        res='250m'; t_res='1min'; Np_str='50e6'; Nz_str='95'\n",
    "        \n",
    "    dataDirectory = os.path.join(Directory, f\"cm1out_{res}_{t_res}_{Nz_str}nz.nc\")\n",
    "    parcelDirectory = os.path.join(Directory,f\"cm1out_pdata_{res}_{t_res}_{Np_str}np.nc\")\n",
    "    return dataDirectory, parcelDirectory, res,t_res,Np_str,Nz_str\n",
    "    \n",
    "def GetData(dataDirectory, parcelDirectory):\n",
    "    dataNC = xr.open_dataset(dataDirectory, decode_timedelta=True) \n",
    "    parcelNC = xr.open_dataset(parcelDirectory, decode_timedelta=True) \n",
    "    return dataNC,parcelNC\n",
    "\n",
    "def SubsetDataVars(dataNC):\n",
    "    varList = [\"thflux\", \"qvflux\", \"tsk\", \"cape\", \n",
    "               \"cin\", \"lcl\", \"lfc\", \"th\",\n",
    "               \"prs\", \"rho\", \"qv\", \"qc\",\n",
    "               \"qr\", \"qi\", \"qs\",\"qg\", \n",
    "               \"buoyancy\", \"uinterp\", \"vinterp\", \"winterp\",]\n",
    "    \n",
    "    varList += [\"ptb_hadv\", \"ptb_vadv\", \"ptb_hidiff\", \"ptb_vidiff\",\n",
    "                \"ptb_hturb\", \"ptb_vturb\", \"ptb_mp\", \"ptb_rdamp\", \n",
    "                \"ptb_rad\", \"ptb_div\", \"ptb_diss\",]\n",
    "    \n",
    "    varList += [\"qvb_hadv\", \"qvb_vadv\", \"qvb_hidiff\", \"qvb_vidiff\", \n",
    "                \"qvb_hturb\", \"qvb_vturb\", \"qvb_mp\",]\n",
    "    \n",
    "    varList += [\"wb_hadv\", \"wb_vadv\", \"wb_hidiff\", \"wb_vidiff\",\n",
    "                \"wb_hturb\", \"wb_vturb\", \"wb_pgrad\", \"wb_rdamp\", \"wb_buoy\",]\n",
    "\n",
    "    return dataNC[varList]\n",
    "\n",
    "[dataDirectory,parcelDirectory, res,t_res,Np_str,Nz_str] = GetDataDirectories(simulationNumber=1)\n",
    "[data,parcel] = GetData(dataDirectory, parcelDirectory)"
   ]
  },
  {
   "cell_type": "code",
   "execution_count": null,
   "id": "1d91ebf7-198a-4088-a9fc-6758f4c10abd",
   "metadata": {},
   "outputs": [],
   "source": [
    "dir='/mnt/lustre/koa/koastore/torri_group/air_directory/DCI-Project/'"
   ]
  },
  {
   "cell_type": "code",
   "execution_count": null,
   "id": "f3253181-5d3f-40ec-bed9-a23f35fe8565",
   "metadata": {},
   "outputs": [],
   "source": [
    "import sys\n",
    "dir2='/mnt/lustre/koa/koastore/torri_group/air_directory/DCI-Project/'\n",
    "path=dir2+'../Functions/'\n",
    "sys.path.append(path)\n",
    "\n",
    "import NumericalFunctions\n",
    "from NumericalFunctions import * # import NumericalFunctions \n",
    "import PlottingFunctions\n",
    "from PlottingFunctions import * # import PlottingFunctions\n",
    "\n",
    "\n",
    "# # Get all functions in NumericalFunctions\n",
    "# import inspect\n",
    "# functions = [f[0] for f in inspect.getmembers(NumericalFunctions, inspect.isfunction)]\n",
    "# functions"
   ]
  },
  {
   "cell_type": "code",
   "execution_count": null,
   "id": "c6044e21-67b9-4477-9a9e-48716a2460be",
   "metadata": {},
   "outputs": [],
   "source": [
    "# print('Loading In Data')\n",
    "# u_data=data['u'].interp(xf=data['xh']).data\n",
    "# v_data=data['v'].interp(yf=data['yh']).data\n",
    "# print('done')\n",
    "\n",
    "\n",
    "# Nt=len(data['time'])\n",
    "# for t in np.arange(Nt):\n",
    "#     u_data=data['u'].isel(time=t).interp(xf=data['xh']).data\n",
    "#     v_data=data['v'].isel(time=t).interp(yf=data['yh']).data\n",
    "#     print('calculating convergence and taking mean')\n",
    "#     conv=-(Ddx_3D(u_data,1000)+Ddy_3D(v_data,1000))"
   ]
  },
  {
   "cell_type": "code",
   "execution_count": null,
   "id": "df2be927-8be7-4f9d-ac36-a0aaa999b315",
   "metadata": {},
   "outputs": [],
   "source": [
    "if res=='1km':\n",
    "    dir2='/mnt/lustre/koa/koastore/torri_group/air_directory/DCI-Project/'\n",
    "if res=='250m':\n",
    "    dir2='/mnt/lustre/koa/scratch/air673/'\n",
    "def initiate_array():\n",
    "    # Define array dimensions (adjust based on your data)\n",
    "    t_size = len(data['time'])  # Number of timesteps\n",
    "    z_size = len(data['zh'])    # Number of vertical levels\n",
    "    y_size = len(data['yh'])    # Number of y-axis points\n",
    "    x_size = len(data['xh'])    # Number of x-axis points\n",
    "\n",
    "    out_file = dir2 + 'Variable_Calculation/OUTPUT/' + 'Convergence'+f'_{res}_{t_res}'+'.h5'\n",
    "    \n",
    "    with h5py.File(out_file, 'a') as f:\n",
    "        # Check if the dataset 'theta_e' already exists\n",
    "        if 'conv' not in f:\n",
    "            # Create a dataset with the full size for all time steps (initially empty)\n",
    "            f.create_dataset('conv', \n",
    "                             (t_size, z_size, y_size, x_size),  # Full size for all timesteps\n",
    "                             maxshape=(None, z_size, y_size, x_size),  # Unlimited timesteps (can grow along time dimension)\n",
    "                             dtype='float64', \n",
    "                             chunks=(1, z_size, y_size, x_size))  # Chunks for time axis to allow resizing\n",
    "\n",
    "            \n",
    "def add_timestep_at_index(timestep_data, index):\n",
    "    out_file = dir2 + 'Variable_Calculation/OUTPUT/' + 'Convergence'+f'_{res}_{t_res}'+'.h5'\n",
    "    with h5py.File(out_file, 'a') as f:\n",
    "        # Access the existing dataset 'theta_e'\n",
    "        dataset = f['conv']\n",
    "        \n",
    "        # Assign the new timestep data at the specified index\n",
    "        dataset[index] = timestep_data"
   ]
  },
  {
   "cell_type": "code",
   "execution_count": null,
   "id": "a53ba31a-aeae-4497-b7f2-a201caa0f67f",
   "metadata": {},
   "outputs": [],
   "source": [
    "####################################\n",
    "#RUNNING"
   ]
  },
  {
   "cell_type": "code",
   "execution_count": null,
   "id": "0109c230-dd55-4af3-8117-04ef306c62ab",
   "metadata": {},
   "outputs": [],
   "source": [
    "if res=='1km':\n",
    "    dx=1000\n",
    "    dy=1000\n",
    "elif res=='250m':\n",
    "    dx=250\n",
    "    dy=250"
   ]
  },
  {
   "cell_type": "code",
   "execution_count": null,
   "id": "bb29e251-4dd1-4e78-ab05-ff1b1c97fbfe",
   "metadata": {
    "scrolled": true
   },
   "outputs": [],
   "source": [
    "#MAKING ARRAY TO STORE THETA_E\n",
    "initiate_array()\n",
    "\n",
    "#CALCULATING AND APPENDING TO DATA EACH TIMESTEP\n",
    "for t in range(len(data['time'])):\n",
    "    if np.mod(t,1)==0: print(f'Current time {t}')\n",
    "\n",
    "    u_data=data['uinterp'].isel(time=t).data\n",
    "    v_data=data['vinterp'].isel(time=t).data\n",
    "    print('calculating convergence and taking mean')\n",
    "    conv=-(Ddx_3D(u_data,1000)+Ddy_3D(v_data,1000))\n",
    "    add_timestep_at_index(conv, t)"
   ]
  },
  {
   "cell_type": "code",
   "execution_count": null,
   "id": "b6e50870-696e-4043-9242-cc0ea39657f4",
   "metadata": {},
   "outputs": [],
   "source": []
  },
  {
   "cell_type": "code",
   "execution_count": null,
   "id": "154947dc-b51a-49de-a263-fe5dd9d837f9",
   "metadata": {},
   "outputs": [],
   "source": []
  },
  {
   "cell_type": "code",
   "execution_count": null,
   "id": "ee771d96-7bfe-4cd0-8957-b49354aa4728",
   "metadata": {},
   "outputs": [],
   "source": []
  },
  {
   "cell_type": "code",
   "execution_count": null,
   "id": "ed59d1c3-2233-4af6-a4d8-a14c393f490d",
   "metadata": {},
   "outputs": [],
   "source": []
  },
  {
   "cell_type": "code",
   "execution_count": null,
   "id": "76113508-f2bd-48f0-b508-093b01cb60ab",
   "metadata": {},
   "outputs": [],
   "source": []
  },
  {
   "cell_type": "code",
   "execution_count": null,
   "id": "9dc8ba02-cc28-4435-a943-b1f14fd1550c",
   "metadata": {},
   "outputs": [],
   "source": [
    "######################################################"
   ]
  },
  {
   "cell_type": "code",
   "execution_count": null,
   "id": "7eb68582-a409-4c7b-bd44-8b4a14a5604b",
   "metadata": {},
   "outputs": [],
   "source": [
    "# dir2='/mnt/lustre/koa/koastore/torri_group/air_directory/DCI-Project/'\n",
    "# file_path = dir2 + 'Variable_Calculation/' + 'Convergence' + f'_{res}_{t_res} + '.h5'\n",
    "# with h5py.File(file_path, 'r') as f:\n",
    "#     Conv = f['conv'][:]\n",
    "\n",
    "# plt.contourf(Conv[300,10])\n",
    "# plt.colorbar()"
   ]
  }
 ],
 "metadata": {
  "kernelspec": {
   "display_name": "Python 3 (ipykernel)",
   "language": "python",
   "name": "python3"
  },
  "language_info": {
   "codemirror_mode": {
    "name": "ipython",
    "version": 3
   },
   "file_extension": ".py",
   "mimetype": "text/x-python",
   "name": "python",
   "nbconvert_exporter": "python",
   "pygments_lexer": "ipython3",
   "version": "3.11.8"
  }
 },
 "nbformat": 4,
 "nbformat_minor": 5
}

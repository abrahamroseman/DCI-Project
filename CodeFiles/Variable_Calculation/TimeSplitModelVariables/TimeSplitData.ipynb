{
 "cells": [
  {
   "cell_type": "code",
   "execution_count": 1,
   "id": "326957c7-f9d8-40c4-bf4b-446fdb06fe1c",
   "metadata": {},
   "outputs": [],
   "source": [
    "#IMPORTING LIBRARIES\n",
    "import numpy as np\n",
    "import matplotlib.pyplot as plt\n",
    "import matplotlib.colors as mcolors\n",
    "import matplotlib.ticker as ticker\n",
    "import matplotlib.cm as cm\n",
    "from matplotlib.colors import Normalize\n",
    "from matplotlib.ticker import MaxNLocator\n",
    "from matplotlib.ticker import ScalarFormatter\n",
    "import matplotlib.gridspec as gridspec\n",
    "import xarray as xr\n",
    "import os; import time; from datetime import timedelta\n",
    "os.environ[\"HDF5_USE_FILE_LOCKING\"] = \"FALSE\"\n",
    "import pickle\n",
    "import h5py\n",
    "from tqdm import tqdm"
   ]
  },
  {
   "cell_type": "code",
   "execution_count": 2,
   "id": "fc5e3384-2a2c-4822-8447-75e173cf44f3",
   "metadata": {},
   "outputs": [],
   "source": [
    "#MAIN DIRECTORIES\n",
    "mainDirectory='/mnt/lustre/koa/koastore/torri_group/air_directory/Projects/DCI-Project/'\n",
    "scratchDirectory='/home/air673/koa_scratch/'\n",
    "codeDirectory='/mnt/lustre/koa/koastore/torri_group/air_directory/Projects/DCI-Project/Variable_Calculation/TimeSplitModelVariables'"
   ]
  },
  {
   "cell_type": "code",
   "execution_count": 3,
   "id": "141dda3c-b80c-40a4-8f0a-dfe74c1f1207",
   "metadata": {},
   "outputs": [],
   "source": [
    "#OUTPUT DIRECTORIES\n",
    "outputDirectory=os.path.join(codeDirectory,'OUTPUT')\n",
    "os.makedirs(outputDirectory, exist_ok=True)\n",
    "\n",
    "#Data Output Directories\n",
    "def MakeDataDirectories(outputDirectory,res,t_res,Nz_str):\n",
    "    outputDataDirectory = os.path.join(outputDirectory,f\"{res}_{t_res}_{Nz_str}nz\",'ModelData')\n",
    "    outputParcelDirectory = os.path.join(outputDirectory,f\"{res}_{t_res}_{Nz_str}nz\",'ParcelData')\n",
    "    os.makedirs(outputDataDirectory, exist_ok=True)\n",
    "    os.makedirs(outputParcelDirectory, exist_ok=True)\n",
    "\n",
    "    return outputDataDirectory, outputParcelDirectory"
   ]
  },
  {
   "cell_type": "code",
   "execution_count": 4,
   "id": "463026a3-d701-4def-b9b0-5cf68fc24cc0",
   "metadata": {},
   "outputs": [],
   "source": [
    "########################################\n",
    "#FUNCTIONS\n",
    "########################################"
   ]
  },
  {
   "cell_type": "code",
   "execution_count": 5,
   "id": "cd512b23-ebdc-4efd-8c7d-c77edd02c302",
   "metadata": {},
   "outputs": [],
   "source": [
    "#LOADING DATA\n",
    "def GetDataDirectories(simulationNumber):\n",
    "    if simulationNumber == 1:\n",
    "        Directory=os.path.join(mainDirectory,'Model/cm1r20.3/run')\n",
    "        res='1km'; t_res='5min'; Np_str='1e6'; Nz_str='34'\n",
    "    elif simulationNumber == 2:\n",
    "        Directory=scratchDirectory\n",
    "        res='1km'; t_res='1min'; Np_str='50e6'; Nz_str='95'\n",
    "    elif simulationNumber == 3:\n",
    "        Directory=scratchDirectory\n",
    "        res='250m'; t_res='1min'; Np_str='50e6'; Nz_str='95'\n",
    "        \n",
    "    dataDirectory = os.path.join(Directory, f\"cm1out_{res}_{t_res}_{Nz_str}nz.nc\")\n",
    "    parcelDirectory = os.path.join(Directory,f\"cm1out_pdata_{res}_{t_res}_{Np_str}np.nc\")\n",
    "    return dataDirectory, parcelDirectory, res,t_res,Np_str,Nz_str\n",
    "    \n",
    "def GetData(dataDirectory, parcelDirectory):\n",
    "    dataNC = xr.open_dataset(dataDirectory, decode_timedelta=True) \n",
    "    parcelNC = xr.open_dataset(parcelDirectory, decode_timedelta=True) \n",
    "    return dataNC,parcelNC\n",
    "\n",
    "def SubsetDataVars(dataNC):\n",
    "    varList = [\"thflux\", \"qvflux\", \"tsk\", \"cape\", \n",
    "               \"cin\", \"lcl\", \"lfc\", \"th\",\n",
    "               \"prs\", \"rho\", \"qv\", \"qc\",\n",
    "               \"qr\", \"qi\", \"qs\",\"qg\", \n",
    "               \"buoyancy\", \"uinterp\", \"vinterp\", \"winterp\",]\n",
    "    \n",
    "    varList += [\"ptb_hadv\", \"ptb_vadv\", \"ptb_hidiff\", \"ptb_vidiff\",\n",
    "                \"ptb_hturb\", \"ptb_vturb\", \"ptb_mp\", \"ptb_rdamp\", \n",
    "                \"ptb_rad\", \"ptb_div\", \"ptb_diss\",]\n",
    "    \n",
    "    varList += [\"qvb_hadv\", \"qvb_vadv\", \"qvb_hidiff\", \"qvb_vidiff\", \n",
    "                \"qvb_hturb\", \"qvb_vturb\", \"qvb_mp\",]\n",
    "    \n",
    "    varList += [\"wb_hadv\", \"wb_vadv\", \"wb_hidiff\", \"wb_vidiff\",\n",
    "                \"wb_hturb\", \"wb_vturb\", \"wb_pgrad\", \"wb_rdamp\", \"wb_buoy\",]\n",
    "\n",
    "    return dataNC[varList]"
   ]
  },
  {
   "cell_type": "code",
   "execution_count": 6,
   "id": "c82bed53-640c-4062-83e9-ff040939ab43",
   "metadata": {},
   "outputs": [],
   "source": [
    "def GetTimeStrings(times):\n",
    "    timeStrings = [str(timedelta(seconds=float(s))) for s in times/1e9]\n",
    "    return timeStrings"
   ]
  },
  {
   "cell_type": "code",
   "execution_count": 7,
   "id": "3124857a-56b3-4b99-97d3-289d26daa058",
   "metadata": {},
   "outputs": [],
   "source": [
    "# def WriteTimesteps_NetCDF(dataNC, parcelNC, timeStrings, res,t_res,Np_str,Nz_str, outputDataDirectory,outputParcelDirectory):\n",
    "        \n",
    "#     for count,time in tqdm(enumerate(timeStrings), total=len(timeStrings), desc=\"Writing timesteps\"):\n",
    "#         timeClean = time.replace(\":\",\"-\")\n",
    "#         dataT = dataNC.isel(time=count)\n",
    "#         parcelT = parcelNC.isel(time=count)\n",
    "    \n",
    "#         #making filenames\n",
    "#         outputDataFile = os.path.join(outputDataDirectory, f\"cm1out_{res}_{t_res}_{Nz_str}nz_{timeClean}.nc\")\n",
    "#         outputParcelFile = os.path.join(outputParcelDirectory, f\"cm1out_pdata_{res}_{t_res}_{Np_str}np_{timeClean}.nc\")\n",
    "        \n",
    "#         dataT.to_netcdf(outputDataFile, engine=\"h5netcdf\")\n",
    "#         parcelT.to_netcdf(outputParcelFile, engine=\"h5netcdf\")\n",
    "\n",
    "# #EXAMPLE\n",
    "# WriteTimesteps_NetCDF(dataNC, parcelNC, timeStrings, res, t_res, Np_str, Nz_str,outputDataDirectory,outputParcelDirectory)"
   ]
  },
  {
   "cell_type": "code",
   "execution_count": 8,
   "id": "ebea432a-1c27-442f-9f00-4568a824f246",
   "metadata": {},
   "outputs": [],
   "source": [
    "def WriteTimesteps_H5(dataNC, parcelNC, timeStrings, res, t_res, Np_str, Nz_str,\n",
    "                      outputDataDirectory, outputParcelDirectory):\n",
    "    \"\"\"\n",
    "    Writes each timestep of dataNC and parcelNC to separate .h5 files,\n",
    "    mirroring WriteTimestepsNetCDF but using h5py instead of xarray.to_netcdf.\n",
    "    \"\"\"\n",
    "\n",
    "    for count, time in tqdm(enumerate(timeStrings), total=len(timeStrings), desc=\"Writing timesteps\"):\n",
    "        timeClean = time.replace(\":\", \"-\")\n",
    "\n",
    "        # Extract single timestep\n",
    "        dataT = dataNC.isel(time=count)\n",
    "        parcelT = parcelNC.isel(time=count)\n",
    "\n",
    "        # Build file names (same as NetCDF version)\n",
    "        outputDataFile = os.path.join(\n",
    "            outputDataDirectory,\n",
    "            f\"cm1out_{res}_{t_res}_{Nz_str}nz_{timeClean}.h5\"\n",
    "        )\n",
    "        outputParcelFile = os.path.join(\n",
    "            outputParcelDirectory,\n",
    "            f\"cm1out_pdata_{res}_{t_res}_{Np_str}np_{timeClean}.h5\"\n",
    "        )\n",
    "\n",
    "        # --- Write data timestep ---\n",
    "        with h5py.File(outputDataFile, \"w\") as f_data:\n",
    "            for var_name, da in dataT.data_vars.items():\n",
    "                f_data.create_dataset(\n",
    "                    var_name,\n",
    "                    data=da.values,\n",
    "                    dtype=\"float32\",\n",
    "                    compression=\"gzip\"\n",
    "                )\n",
    "                # optionally save metadata\n",
    "                for attr, val in da.attrs.items():\n",
    "                    f_data[var_name].attrs[attr] = val\n",
    "\n",
    "        # --- Write parcel timestep ---\n",
    "        with h5py.File(outputParcelFile, \"w\") as f_parcel:\n",
    "            for var_name, da in parcelT.data_vars.items():\n",
    "                f_parcel.create_dataset(\n",
    "                    var_name,\n",
    "                    data=da.values,\n",
    "                    dtype=\"float32\",\n",
    "                    compression=\"gzip\"\n",
    "                )\n",
    "                for attr, val in da.attrs.items():\n",
    "                    f_parcel[var_name].attrs[attr] = val"
   ]
  },
  {
   "cell_type": "code",
   "execution_count": 9,
   "id": "12d27cdd-10da-4597-b00b-85a2dabc53e1",
   "metadata": {},
   "outputs": [],
   "source": [
    "[dataDirectory,parcelDirectory, res,t_res,Np_str,Nz_str] = GetDataDirectories(simulationNumber=1)\n",
    "[outputDataDirectory, outputParcelDirectory] = MakeDataDirectories(outputDirectory,res,t_res,Nz_str)\n",
    "[dataNC,parcelNC] = GetData(dataDirectory, parcelDirectory)\n",
    "dataNC =SubsetDataVars(dataNC)\n",
    "timeStrings = GetTimeStrings(times=dataNC['time'].values)\n",
    "\n",
    "WriteTimesteps_H5(dataNC, parcelNC, timeStrings, res, t_res, Np_str, Nz_str,outputDataDirectory,outputParcelDirectory)"
   ]
  },
  {
   "cell_type": "code",
   "execution_count": null,
   "id": "cbf408ec-f259-4930-858e-71270a32493c",
   "metadata": {},
   "outputs": [],
   "source": []
  },
  {
   "cell_type": "code",
   "execution_count": null,
   "id": "e427586f-5ba7-4f84-ae35-1c6eee62ea55",
   "metadata": {},
   "outputs": [],
   "source": [
    "#TESTING\n",
    "##################"
   ]
  },
  {
   "cell_type": "code",
   "execution_count": null,
   "id": "93929646-8b96-46a7-a300-1e29a936c0dc",
   "metadata": {},
   "outputs": [],
   "source": [
    "# #TESTING EQUALITY\n",
    "# testDir=\"/mnt/lustre/koa/koastore/torri_group/air_directory/Projects/DCI-Project/TimeSplitting/OUTPUT/1km_5min_34nz/ModelData/cm1out_1km_5min_34nz_0-25-00.h5\"\n",
    "# t=5\n",
    "# with h5py.File(testDir, \"r\") as f:\n",
    "#     for key in f.keys():\n",
    "#         # Convert both to numpy arrays\n",
    "#         varH5 = np.array(f[key][:])\n",
    "#         varCDF = np.array(dataNC[key].isel(time=t))\n",
    "\n",
    "#         # Check equality (element-wise, then reduce to True/False)\n",
    "#         is_equal = np.all(varH5 == varCDF)\n",
    "\n",
    "#         print(f\"{key}: {'MATCH' if is_equal else 'DIFFERENT'}  \"\n",
    "#               f\"(shape H5={varH5.shape}, CDF={varCDF.shape})\")"
   ]
  }
 ],
 "metadata": {
  "kernelspec": {
   "display_name": "Python 3 (ipykernel)",
   "language": "python",
   "name": "python3"
  },
  "language_info": {
   "codemirror_mode": {
    "name": "ipython",
    "version": 3
   },
   "file_extension": ".py",
   "mimetype": "text/x-python",
   "name": "python",
   "nbconvert_exporter": "python",
   "pygments_lexer": "ipython3",
   "version": "3.11.8"
  }
 },
 "nbformat": 4,
 "nbformat_minor": 5
}

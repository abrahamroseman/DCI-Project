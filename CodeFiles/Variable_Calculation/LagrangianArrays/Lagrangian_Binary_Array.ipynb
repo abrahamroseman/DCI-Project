{
 "cells": [
  {
   "cell_type": "code",
   "execution_count": 1,
   "id": "049c4fcf-5f2c-4e81-a2b1-dab47a60e128",
   "metadata": {},
   "outputs": [],
   "source": [
    "####################################\n",
    "#ENVIRONMENT SETUP"
   ]
  },
  {
   "cell_type": "code",
   "execution_count": 2,
   "id": "352916a8-49d6-44e7-8a87-d1fb93bed33d",
   "metadata": {},
   "outputs": [],
   "source": [
    "#Importing Libraries\n",
    "import numpy as np\n",
    "import matplotlib.pyplot as plt\n",
    "import matplotlib.colors as mcolors\n",
    "import matplotlib.ticker as ticker\n",
    "import matplotlib.cm as cm\n",
    "from matplotlib.colors import Normalize\n",
    "from matplotlib.ticker import MaxNLocator\n",
    "from matplotlib.ticker import ScalarFormatter\n",
    "import matplotlib.gridspec as gridspec\n",
    "import xarray as xr\n",
    "\n",
    "import sys; import os; import time; from datetime import timedelta\n",
    "import pickle\n",
    "import h5py"
   ]
  },
  {
   "cell_type": "code",
   "execution_count": 3,
   "id": "f4798460-2565-47ac-beda-31451ed52329",
   "metadata": {},
   "outputs": [],
   "source": [
    "#MAIN DIRECTORIES\n",
    "def GetDirectories():\n",
    "    mainDirectory='/mnt/lustre/koa/koastore/torri_group/air_directory/Projects/DCI-Project/'\n",
    "    mainCodeDirectory=os.path.join(mainDirectory,\"Code/CodeFiles/\")\n",
    "    scratchDirectory='/mnt/lustre/koa/scratch/air673/'\n",
    "    codeDirectory=os.getcwd()\n",
    "    return mainDirectory,mainCodeDirectory,scratchDirectory,codeDirectory\n",
    "\n",
    "[mainDirectory,mainCodeDirectory,scratchDirectory,codeDirectory] = GetDirectories()"
   ]
  },
  {
   "cell_type": "code",
   "execution_count": 4,
   "id": "7fc38e60-5f17-4672-97b7-aa9053509368",
   "metadata": {},
   "outputs": [],
   "source": [
    "#IMPORT CLASSES\n",
    "sys.path.append(os.path.join(mainCodeDirectory,\"Variable_Calculation\"))\n",
    "from CLASSES_Variable_Calculation import ModelData_Class, SlurmJobArray_Class, DataManager_Class"
   ]
  },
  {
   "cell_type": "code",
   "execution_count": null,
   "id": "00b76bf3-60ee-46db-b560-f8f3b216a2ad",
   "metadata": {},
   "outputs": [],
   "source": [
    "#IMPORT FUNCTIONS\n",
    "sys.path.append(os.path.join(mainCodeDirectory,\"Variable_Calculation\"))\n",
    "import FUNCTIONS_Variable_Calculation\n",
    "from FUNCTIONS_Variable_Calculation import * # import NumericalFunctions "
   ]
  },
  {
   "cell_type": "code",
   "execution_count": 5,
   "id": "39d9f88d-ad8a-43f3-bd39-58b6b418907d",
   "metadata": {},
   "outputs": [],
   "source": [
    "####################################\n",
    "#LOADING CLASSES"
   ]
  },
  {
   "cell_type": "code",
   "execution_count": 6,
   "id": "7119467a-8553-4e1a-838e-34c37e7420f4",
   "metadata": {},
   "outputs": [
    {
     "name": "stdout",
     "output_type": "stream",
     "text": [
      "=== CM1 Data Summary ===\n",
      " Simulation #:   1\n",
      " Resolution:     1km\n",
      " Time step:      5min\n",
      " Vertical levels:34\n",
      " Parcels:        1e6\n",
      " Data file:      /mnt/lustre/koa/koastore/torri_group/air_directory/Projects/DCI-Project/Model/cm1r20.3/run/cm1out_1km_5min_34nz.nc\n",
      " Parcel file:    /mnt/lustre/koa/koastore/torri_group/air_directory/Projects/DCI-Project/Model/cm1r20.3/run/cm1out_pdata_1km_5min_1e6np.nc\n",
      " Time steps:     133\n",
      "========================= \n",
      "\n",
      "=== DataManager Summary ===\n",
      " inputDirectory #:   /mnt/lustre/koa/koastore/torri_group/air_directory/Projects/DCI-Project/Code/OUTPUT/Variable_Calculation/TimeSplitModelData\n",
      " outputDirectory #:   /mnt/lustre/koa/koastore/torri_group/air_directory/Projects/DCI-Project/Code/OUTPUT/Variable_Calculation/LagrangianArrays\n",
      " inputDataDirectory #:   /mnt/lustre/koa/koastore/torri_group/air_directory/Projects/DCI-Project/Code/OUTPUT/Variable_Calculation/TimeSplitModelData/1km_5min_34nz/ModelData\n",
      " inputParcelDirectory #:   /mnt/lustre/koa/koastore/torri_group/air_directory/Projects/DCI-Project/Code/OUTPUT/Variable_Calculation/TimeSplitModelData/1km_5min_34nz/ParcelData\n",
      " outputDataDirectory #:   /mnt/lustre/koa/koastore/torri_group/air_directory/Projects/DCI-Project/Code/OUTPUT/Variable_Calculation/LagrangianArrays/1km_5min_34nz/Lagrangian_Binary_Array\n",
      "========================= \n",
      "\n"
     ]
    }
   ],
   "source": [
    "#data loading class\n",
    "ModelData = ModelData_Class(mainDirectory, scratchDirectory, simulationNumber=1)\n",
    "#data manager class\n",
    "DataManager = DataManager_Class(mainDirectory, scratchDirectory, ModelData.res, ModelData.t_res, ModelData.Nz_str,\n",
    "                                ModelData.Np_str, dataType=\"LagrangianArrays\", dataName=\"Lagrangian_Binary_Array\",\n",
    "                                dtype='float32')"
   ]
  },
  {
   "cell_type": "code",
   "execution_count": 7,
   "id": "b22e21e6-2d56-4b2a-a06e-facf0faa590b",
   "metadata": {},
   "outputs": [
    {
     "name": "stdout",
     "output_type": "stream",
     "text": [
      "Running timesteps from 0:7 \n",
      "\n"
     ]
    }
   ],
   "source": [
    "#JOB ARRAY SETUP\n",
    "UsingJobArray=True\n",
    "\n",
    "def GetNumJobs(res):\n",
    "    if res=='1km':\n",
    "        num_jobs=30\n",
    "    elif res=='250m': \n",
    "        num_jobs=100\n",
    "    return num_jobs\n",
    "num_jobs = GetNumJobs(ModelData.res)\n",
    "SlurmJobArray = SlurmJobArray_Class(total_elements=ModelData.Ntime, num_jobs=num_jobs, UsingJobArray=UsingJobArray)\n",
    "start_job = SlurmJobArray.start_job; end_job = SlurmJobArray.end_job\n",
    "\n",
    "def GetNumElements():\n",
    "    num_elements = np.arange(ModelData.Ntime)[start_job:end_job]\n",
    "    return num_elements\n",
    "num_elements = GetNumElements()"
   ]
  },
  {
   "cell_type": "code",
   "execution_count": 8,
   "id": "8e6c1edc-aebc-416b-a7e4-61e7790e708e",
   "metadata": {},
   "outputs": [],
   "source": [
    "####################################\n",
    "#FUNCTIONS"
   ]
  },
  {
   "cell_type": "code",
   "execution_count": 9,
   "id": "b6209222-cc12-4e3c-93a2-9d4284901849",
   "metadata": {},
   "outputs": [],
   "source": [
    "def GetZYX(inputParcelDirectory, timeString):\n",
    "    #Lagrangian Position Arrays\n",
    "    ##############\n",
    "    def grid_location(z,y,x):\n",
    "        zf=ModelData.zf*1000; which_zh=np.clip(np.searchsorted(zf,z)-1,0,None).astype(np.uint16)\n",
    "        #which_zh=np.where(which_zh == -1, 0, which_zh) \n",
    "        \n",
    "        yf=ModelData.yf*1000; which_yh=np.clip(np.searchsorted(yf,y)-1,0,None).astype(np.uint16) \n",
    "        #which_yh=np.where(which_yh == -1, 0, which_yh) \n",
    "        \n",
    "        xf=ModelData.xf*1000; which_xh=np.clip(np.searchsorted(xf,x)-1,0,None).astype(np.uint16)\n",
    "        #which_xh=np.where(which_xh == -1, 0, which_xh) \n",
    "        \n",
    "        return which_zh,which_yh,which_xh\n",
    "    \n",
    "    # print('Creating Lagrangian X,Y,Z Binary Arrays')\n",
    "    x = DataManager.GetTimestepParcel(DataManager.inputParcelDirectory, timeString, variableName=\"x\")\n",
    "    y = DataManager.GetTimestepParcel(DataManager.inputParcelDirectory, timeString, variableName=\"y\")\n",
    "    z = DataManager.GetTimestepParcel(DataManager.inputParcelDirectory, timeString, variableName=\"z\")\n",
    "    Z,Y,X=grid_location(z,y,x)\n",
    "    return z,x,Z,Y,X\n",
    "\n",
    "def GetUW(inputParcelDirectory, timeString):\n",
    "    #GETTING u and w for Lagrangian_Tracking later\n",
    "    u = DataManager.GetTimestepParcel(DataManager.inputParcelDirectory, timeString, variableName=\"u\")\n",
    "    w = DataManager.GetTimestepParcel(DataManager.inputParcelDirectory, timeString, variableName=\"w\")\n",
    "    return u,w"
   ]
  },
  {
   "cell_type": "code",
   "execution_count": null,
   "id": "103767f1-1689-4997-a4de-425494fd297e",
   "metadata": {},
   "outputs": [],
   "source": [
    "def MakeLagrangianArray(inputDataDirectory, timeString,varnames,Z,Y,X): #FAST ADVANCED INDEXING VERSION\n",
    "    # print('Making Variables Lagrangian Array')\n",
    "    # Initialize dictionaries\n",
    "    var_data_dict = {varname: CallVariable(ModelData, DataManager, timeString, varname) for varname in varnames}\n",
    "    VAR = {varname: np.zeros_like(Z, dtype='float32') for varname in varnames}\n",
    "\n",
    "    # print('Running')\n",
    "    # Nt = len(data['time'])\n",
    "    # Get Indices\n",
    "    z_idx = Z\n",
    "    y_idx = Y\n",
    "    x_idx = X\n",
    "    # ts = np.arange(Nt)[:, None]\n",
    "    # t_idx = np.broadcast_to(ts, Z.shape)\n",
    "\n",
    "    for varname, var_data in var_data_dict.items():\n",
    "        # VAR[varname] = var_data[t_idx, z_idx, y_idx, x_idx]\n",
    "        VAR[varname] = var_data[z_idx, y_idx, x_idx]\n",
    "\n",
    "    return [VAR[varname] for varname in varnames]\n",
    "    # return VAR"
   ]
  },
  {
   "cell_type": "code",
   "execution_count": 11,
   "id": "39c96081-882d-4122-bb67-cd57b70d69de",
   "metadata": {},
   "outputs": [],
   "source": [
    "def GetVariables(inputDataDirectory,timeString, Z,Y,X):\n",
    "    # print('Making W and QCQI Lagrangian Array')\n",
    "    varnames=['winterp','qc','qi']\n",
    "    [W,QC,QI] = MakeLagrangianArray(inputDataDirectory,timeString, varnames, Z,Y,X)\n",
    "    QCQI=QC+QI\n",
    "    return W,QC,QCQI\n",
    "    \n",
    "# def GetBinaryArrays(inputDataDirectory,timeString, W,QCQI): #CALCULATED HERE\n",
    "#     def GetCloudyUpdraftThresholds():\n",
    "#         w_thresh1=0.1\n",
    "#         w_thresh2=0.5\n",
    "#         qcqi_thresh=1e-6\n",
    "#         return w_thresh1,w_thresh2,qcqi_thresh\n",
    "\n",
    "#     #Create Set Thresholds and Create Binary Arrays\n",
    "#     w_thresh1,w_thresh2,qcqi_thresh = GetCloudyUpdraftThresholds()\n",
    "    \n",
    "#     #Apply Thresholds \n",
    "#     print('Making Lagrangian Binary Arrays')\n",
    "#     print('Getting A_g')\n",
    "#     A_g = np.where((W >= w_thresh1) & (QCQI < qcqi_thresh), True, False)\n",
    "#     print('Making A_c')\n",
    "#     A_c = np.where((W >= w_thresh2) & (QCQI >= qcqi_thresh), True, False)\n",
    "#     print('done')\n",
    "    \n",
    "#     outputDictionary = {\"A_g\": A_g,\n",
    "#                         \"A_c\": A_c\n",
    "#                        }\n",
    "#     return outputDictionary\n",
    "\n",
    "def GetBinaryArrays(DataManager,timeString, Z,Y,X): #PRECALCULATED\n",
    "    # print('Making W and QCQI Lagrangian Array')\n",
    "    varnames=['A_g','A_c']\n",
    "    [A_g,A_c] = MakeLagrangianArray(DataManager,timeString, varnames, Z,Y,X)\n",
    "\n",
    "    outputDictionary = {\"A_g\": A_g,\n",
    "                        \"A_c\": A_c\n",
    "                       }\n",
    "    return outputDictionary"
   ]
  },
  {
   "cell_type": "code",
   "execution_count": 12,
   "id": "54dde0ed-b700-4706-b47b-c18db7cc5acf",
   "metadata": {},
   "outputs": [],
   "source": [
    "###############################################################\n",
    "#RUNNING"
   ]
  },
  {
   "cell_type": "code",
   "execution_count": 13,
   "id": "89039da9-f079-45f9-ad4b-1e5a3e7b216c",
   "metadata": {
    "scrolled": true
   },
   "outputs": [
    {
     "name": "stdout",
     "output_type": "stream",
     "text": [
      "Current time 0\n",
      "Saved timestep to output file: /mnt/lustre/koa/koastore/torri_group/air_directory/Projects/DCI-Project/Code/OUTPUT/Variable_Calculation/LagrangianArrays/1km_5min_34nz/Lagrangian_Binary_Array/Lagrangian_Binary_Array_1km_5min_34nz_0-00-00.h5 \n",
      "\n",
      "Current time 1\n",
      "Saved timestep to output file: /mnt/lustre/koa/koastore/torri_group/air_directory/Projects/DCI-Project/Code/OUTPUT/Variable_Calculation/LagrangianArrays/1km_5min_34nz/Lagrangian_Binary_Array/Lagrangian_Binary_Array_1km_5min_34nz_0-05-00.h5 \n",
      "\n",
      "Current time 2\n",
      "Saved timestep to output file: /mnt/lustre/koa/koastore/torri_group/air_directory/Projects/DCI-Project/Code/OUTPUT/Variable_Calculation/LagrangianArrays/1km_5min_34nz/Lagrangian_Binary_Array/Lagrangian_Binary_Array_1km_5min_34nz_0-10-00.h5 \n",
      "\n",
      "Current time 3\n",
      "Saved timestep to output file: /mnt/lustre/koa/koastore/torri_group/air_directory/Projects/DCI-Project/Code/OUTPUT/Variable_Calculation/LagrangianArrays/1km_5min_34nz/Lagrangian_Binary_Array/Lagrangian_Binary_Array_1km_5min_34nz_0-15-00.h5 \n",
      "\n",
      "Current time 4\n",
      "Saved timestep to output file: /mnt/lustre/koa/koastore/torri_group/air_directory/Projects/DCI-Project/Code/OUTPUT/Variable_Calculation/LagrangianArrays/1km_5min_34nz/Lagrangian_Binary_Array/Lagrangian_Binary_Array_1km_5min_34nz_0-20-00.h5 \n",
      "\n",
      "Current time 5\n",
      "Saved timestep to output file: /mnt/lustre/koa/koastore/torri_group/air_directory/Projects/DCI-Project/Code/OUTPUT/Variable_Calculation/LagrangianArrays/1km_5min_34nz/Lagrangian_Binary_Array/Lagrangian_Binary_Array_1km_5min_34nz_0-25-00.h5 \n",
      "\n",
      "Current time 6\n",
      "Saved timestep to output file: /mnt/lustre/koa/koastore/torri_group/air_directory/Projects/DCI-Project/Code/OUTPUT/Variable_Calculation/LagrangianArrays/1km_5min_34nz/Lagrangian_Binary_Array/Lagrangian_Binary_Array_1km_5min_34nz_0-30-00.h5 \n",
      "\n"
     ]
    }
   ],
   "source": [
    "#CALCULATING AND APPENDING TO DATA EACH TIMESTEP\n",
    "for t in num_elements:\n",
    "    if np.mod(t,1)==0: print(f'Current time {t}')\n",
    "\n",
    "    #getting timestring for loading input data\n",
    "    timeString = ModelData.timeStrings[t]\n",
    "\n",
    "    #loading input variables\n",
    "    z,x,Z,Y,X = GetZYX(DataManager.inputParcelDirectory, timeString)\n",
    "    [W,QC,QCQI] = GetVariables(DataManager.inputDataDirectory,timeString, Z,Y,X)\n",
    "\n",
    "    #calculating variables\n",
    "    outputDictionary = GetBinaryArrays(DataManager,timeString, Z,Y,X)\n",
    "    \n",
    "    #outputting\n",
    "    DataManager.SaveOutputTimestep(DataManager.outputDataDirectory, timeString, outputDictionary)"
   ]
  },
  {
   "cell_type": "code",
   "execution_count": null,
   "id": "95b34d16-e07a-47cb-bc6c-f7eb84600e65",
   "metadata": {},
   "outputs": [],
   "source": []
  },
  {
   "cell_type": "code",
   "execution_count": null,
   "id": "51cad8a4-c240-4080-ab01-a7e6495aefbe",
   "metadata": {},
   "outputs": [],
   "source": []
  },
  {
   "cell_type": "code",
   "execution_count": null,
   "id": "c2e98dcc-2f72-42f7-9421-ba97326c286c",
   "metadata": {},
   "outputs": [],
   "source": []
  },
  {
   "cell_type": "code",
   "execution_count": null,
   "id": "c5e2c512-8881-4919-afb9-6c5dc2fc5b15",
   "metadata": {},
   "outputs": [],
   "source": [
    "######################################################"
   ]
  },
  {
   "cell_type": "code",
   "execution_count": 15,
   "id": "29db5cea-0344-4054-844d-e46de864dc70",
   "metadata": {},
   "outputs": [
    {
     "name": "stdout",
     "output_type": "stream",
     "text": [
      "Keys in file: ['A_c', 'A_g']\n",
      "A_c: shape = (1000000,), dtype = float32\n",
      "A_g: shape = (1000000,), dtype = float32\n"
     ]
    }
   ],
   "source": [
    "# #READING BACK IN\n",
    "# def GetVariableData(t, dataType=\"Lagrangian_Binary_Array\", dataName=\"Lagrangian_Binary_Array\"):\n",
    "#     res = ModelData.res\n",
    "#     t_res = ModelData.t_res\n",
    "#     Nz_str = ModelData.Nz_str\n",
    "#     inputDirectory = os.path.join(DataManager.outputDirectory, f\"{res}_{t_res}_{Nz_str}nz\", dataType)\n",
    "#     timeString = ModelData.timeStrings[t]\n",
    "\n",
    "#     FileName = os.path.join(inputDirectory, f\"{dataName}_{res}_{t_res}_{Nz_str}nz_{timeString}.h5\")\n",
    "\n",
    "#     dataDictionary = {}\n",
    "#     with h5py.File(FileName, 'r') as f:\n",
    "#         print(\"Keys in file:\", list(f.keys()))\n",
    "#         for key in f.keys():\n",
    "#             dataDictionary[key] = f[key][:]\n",
    "#             print(f\"{key}: shape = {dataDictionary[key].shape}, dtype = {dataDictionary[key].dtype}\")\n",
    "#     return dataDictionary\n",
    "\n",
    "# dataDictionary = GetVariableData(t=0)"
   ]
  }
 ],
 "metadata": {
  "kernelspec": {
   "display_name": "Python 3 (ipykernel)",
   "language": "python",
   "name": "python3"
  },
  "language_info": {
   "codemirror_mode": {
    "name": "ipython",
    "version": 3
   },
   "file_extension": ".py",
   "mimetype": "text/x-python",
   "name": "python",
   "nbconvert_exporter": "python",
   "pygments_lexer": "ipython3",
   "version": "3.11.8"
  }
 },
 "nbformat": 4,
 "nbformat_minor": 5
}

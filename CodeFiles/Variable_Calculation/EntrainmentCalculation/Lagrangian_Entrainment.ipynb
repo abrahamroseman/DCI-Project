{
 "cells": [
  {
   "cell_type": "code",
   "execution_count": 81,
   "id": "fb7881d1-4c59-4fdb-a623-5d0dc99889a5",
   "metadata": {},
   "outputs": [],
   "source": [
    "####################################\n",
    "#ENVIRONMENT SETUP"
   ]
  },
  {
   "cell_type": "code",
   "execution_count": 82,
   "id": "95c2a4b9-3f9e-43ae-81c7-3c077364dbc4",
   "metadata": {},
   "outputs": [],
   "source": [
    "#Importing Libraries\n",
    "import numpy as np\n",
    "import matplotlib.pyplot as plt\n",
    "import matplotlib.colors as mcolors\n",
    "import matplotlib.ticker as ticker\n",
    "import matplotlib.cm as cm\n",
    "from matplotlib.colors import Normalize\n",
    "from matplotlib.ticker import MaxNLocator\n",
    "from matplotlib.ticker import ScalarFormatter\n",
    "import matplotlib.gridspec as gridspec\n",
    "import xarray as xr\n",
    "\n",
    "import sys; import os; import time; from datetime import timedelta\n",
    "import pickle\n",
    "import h5py"
   ]
  },
  {
   "cell_type": "code",
   "execution_count": 83,
   "id": "92a058cd-f85f-4b16-9262-1480f5887db6",
   "metadata": {},
   "outputs": [],
   "source": [
    "#MAIN DIRECTORIES\n",
    "def GetDirectories():\n",
    "    mainDirectory='/mnt/lustre/koa/koastore/torri_group/air_directory/Projects/DCI-Project/'\n",
    "    mainCodeDirectory=os.path.join(mainDirectory,\"Code/CodeFiles/\")\n",
    "    scratchDirectory='/mnt/lustre/koa/scratch/air673/'\n",
    "    codeDirectory=os.getcwd()\n",
    "    return mainDirectory,mainCodeDirectory,scratchDirectory,codeDirectory\n",
    "\n",
    "[mainDirectory,mainCodeDirectory,scratchDirectory,codeDirectory] = GetDirectories()"
   ]
  },
  {
   "cell_type": "code",
   "execution_count": 84,
   "id": "8f7f2f55-34c2-4688-a252-f396b521e77c",
   "metadata": {},
   "outputs": [],
   "source": [
    "#IMPORT CLASSES (from current directory)\n",
    "sys.path.append(os.path.join(mainCodeDirectory,\"Variable_Calculation\"))\n",
    "from CLASSES_Variable_Calculation import ModelData_Class, SlurmJobArray_Class, DataManager_Class"
   ]
  },
  {
   "cell_type": "code",
   "execution_count": 85,
   "id": "a4e09df5-ab30-4e30-944e-ea5c94bb3190",
   "metadata": {},
   "outputs": [],
   "source": [
    "#IMPORT FUNCTIONS (from current directory)\n",
    "sys.path.append(os.path.join(mainCodeDirectory,\"Variable_Calculation\"))\n",
    "from FUNCTIONS_Variable_Calculation import *"
   ]
  },
  {
   "cell_type": "code",
   "execution_count": 86,
   "id": "03214b50-fb59-44ed-86f3-9ba88b9b0975",
   "metadata": {},
   "outputs": [],
   "source": [
    "####################################\n",
    "#LOADING CLASSES"
   ]
  },
  {
   "cell_type": "code",
   "execution_count": 96,
   "id": "b97119c0-a890-4cdc-903b-31583e64ed88",
   "metadata": {},
   "outputs": [
    {
     "name": "stdout",
     "output_type": "stream",
     "text": [
      "=== CM1 Data Summary ===\n",
      " Simulation #:   1\n",
      " Resolution:     1km\n",
      " Time step:      5min\n",
      " Vertical levels:34\n",
      " Parcels:        1e6\n",
      " Data file:      /mnt/lustre/koa/koastore/torri_group/air_directory/Projects/DCI-Project/Model/cm1r20.3/run/cm1out_1km_5min_34nz.nc\n",
      " Parcel file:    /mnt/lustre/koa/koastore/torri_group/air_directory/Projects/DCI-Project/Model/cm1r20.3/run/cm1out_pdata_1km_5min_1e6np.nc\n",
      " Time steps:     133\n",
      "========================= \n",
      "\n",
      "=== DataManager Summary ===\n",
      " inputDirectory #:   /mnt/lustre/koa/koastore/torri_group/air_directory/Projects/DCI-Project/Code/OUTPUT/Variable_Calculation/TimeSplitModelData\n",
      " outputDirectory #:   /mnt/lustre/koa/koastore/torri_group/air_directory/Projects/DCI-Project/Code/OUTPUT/Variable_Calculation/EntrainmentCalculation\n",
      " inputDataDirectory #:   /mnt/lustre/koa/koastore/torri_group/air_directory/Projects/DCI-Project/Code/OUTPUT/Variable_Calculation/TimeSplitModelData/1km_5min_34nz/ModelData\n",
      " inputParcelDirectory #:   /mnt/lustre/koa/koastore/torri_group/air_directory/Projects/DCI-Project/Code/OUTPUT/Variable_Calculation/TimeSplitModelData/1km_5min_34nz/ParcelData\n",
      " outputDataDirectory #:   /mnt/lustre/koa/koastore/torri_group/air_directory/Projects/DCI-Project/Code/OUTPUT/Variable_Calculation/EntrainmentCalculation/1km_5min_34nz/EntrainmentCalculation\n",
      "========================= \n",
      "\n"
     ]
    }
   ],
   "source": [
    "#data loading class\n",
    "ModelData = ModelData_Class(mainDirectory, scratchDirectory, simulationNumber=1)\n",
    "#data manager class\n",
    "DataManager = DataManager_Class(mainDirectory, scratchDirectory, ModelData.res, ModelData.t_res, ModelData.Nz_str,\n",
    "                                ModelData.Np_str, dataType=\"EntrainmentCalculation\", dataName=\"EntrainmentCalculation\",\n",
    "                                dtype='int32')"
   ]
  },
  {
   "cell_type": "code",
   "execution_count": 88,
   "id": "5e741662-311a-4fdd-9ae2-616706c040e9",
   "metadata": {},
   "outputs": [
    {
     "name": "stdout",
     "output_type": "stream",
     "text": [
      "Running timesteps from 0:7 \n",
      "\n"
     ]
    }
   ],
   "source": [
    "#JOB ARRAY SETUP\n",
    "UsingJobArray=True\n",
    "\n",
    "def GetNumJobs(res):\n",
    "    if res=='1km':\n",
    "        num_jobs=20\n",
    "    elif res=='250m': \n",
    "        num_jobs=100\n",
    "    return num_jobs\n",
    "num_jobs = GetNumJobs(ModelData.res)\n",
    "SlurmJobArray = SlurmJobArray_Class(total_elements=ModelData.Ntime, num_jobs=num_jobs, UsingJobArray=UsingJobArray)\n",
    "start_job = SlurmJobArray.start_job; end_job = SlurmJobArray.end_job\n",
    "\n",
    "def GetNumElements():\n",
    "    num_elements = np.arange(ModelData.Ntime)[start_job:end_job]\n",
    "    return num_elements\n",
    "num_elements = GetNumElements()"
   ]
  },
  {
   "cell_type": "code",
   "execution_count": 89,
   "id": "88bcf182-83a6-42e4-9e14-cdf46c8d95c2",
   "metadata": {},
   "outputs": [],
   "source": [
    "####################################\n",
    "#FUNCTIONS"
   ]
  },
  {
   "cell_type": "code",
   "execution_count": 90,
   "id": "2c2fb02e-4b24-4d8d-ad23-cab878f9b1ac",
   "metadata": {},
   "outputs": [],
   "source": [
    "def MakeDataDictionary(variableNames,t):\n",
    "    timeString = ModelData.timeStrings[t]\n",
    "    # print(f\"Getting data from {timeString}\",\"\\n\")\n",
    "    \n",
    "    dataDictionary = {variableName: CallLagrangianArray(ModelData, DataManager, timeString, variableName=variableName) \n",
    "                      for variableName in variableNames}      \n",
    "    return dataDictionary\n",
    "    \n",
    "def GetSpatialData(t):    \n",
    "    variableNames = ['Z', 'Y', 'X']\n",
    "    dataDictionary = MakeDataDictionary(variableNames,t)\n",
    "    Z,Y,X = (dataDictionary[k] for k in variableNames)\n",
    "    return Z,Y,X\n",
    "\n",
    "def GetAData(t,PROCESSING):\n",
    "    if PROCESSING==False:    \n",
    "        variableNames = ['A_g', 'A_c']\n",
    "    elif PROCESSING==True: #*#*\n",
    "        variableNames = ['A_g_Processed', 'A_c_Processed'] #*#*\n",
    "\n",
    "    dataDictionary = MakeDataDictionary(variableNames,t)\n",
    "    A_g,A_c = (dataDictionary[k] for k in variableNames)\n",
    "    return A_g,A_c"
   ]
  },
  {
   "cell_type": "code",
   "execution_count": 91,
   "id": "d6708b5c-2d2c-44db-997c-afdd0ea8a538",
   "metadata": {},
   "outputs": [],
   "source": [
    "def SubtractA(A,A_Prior):\n",
    "    D = np.zeros_like(A,dtype=np.int8)\n",
    "    D = A*1 - A_Prior*1\n",
    "    return D\n",
    "\n",
    "def AddAs(A1,A2_Prior):\n",
    "    S = np.zeros_like(A1,dtype=np.int8)\n",
    "    S = A1*1 + A2_Prior*1\n",
    "    return S"
   ]
  },
  {
   "cell_type": "code",
   "execution_count": 76,
   "id": "f16f8703-606c-4726-9606-a84bddb38432",
   "metadata": {},
   "outputs": [],
   "source": [
    "def CalculateEntrainment(t, Z,Y,X, A1,A2, A1_Prior,A2_Prior):\n",
    "    \"\"\"\n",
    "    Function to compute 3D entrainment and update result array based on provided inputs.\n",
    "    \n",
    "    Returns a 3D (t,z) array containing the sum of the D array representing entrained parcels, by 1, and detrained parcels, by -1.\n",
    "    The finally array is then ordered by the appropiate index using the np.add.at function\n",
    "    \n",
    "    Parameters:\n",
    "    - A: The (t,p) lagrangian binary array.\n",
    "    - T: The (t,p) lagrangian time index array.\n",
    "    - Z: The (t,p) Lagrangian z index array.\n",
    "    - Y: The (t,p) Lagrangian y index array.\n",
    "    - X: The (t,p) Lagrangian x index array.\n",
    "\n",
    "    \"\"\"\n",
    "    #Calculation for Entrainment and Detrainment\n",
    "    DMatrix_Entrainment = SubtractA(A2,A2_Prior)\n",
    "    DMatrix_Detrainment = DMatrix_Entrainment.copy()\n",
    "\n",
    "    # Update D for entrainment/detrainment\n",
    "    DMatrix_Entrainment[DMatrix_Entrainment < 0] = 0\n",
    "    DMatrix_Detrainment[DMatrix_Detrainment > 0] = 0\n",
    "    \n",
    "    #General <==> Cloudy Updraft-Transfer Entrainment\n",
    "    SMatrix_Entrainment = AddAs(A1,A2_Prior) \n",
    "    SMatrix_Detrainment = AddAs(A2,A1_Prior)\n",
    "        \n",
    "    #FINDING LOCATIONS WITH TRANSFER ENTRAINMENT\n",
    "    SMatrix_Entrainment = (SMatrix_Entrainment==2)*1\n",
    "    SMatrix_Detrainment = (SMatrix_Detrainment==2)*1\n",
    "    \n",
    "    # #Removing Transfer-Entrainment where D==0 (just in case)\n",
    "    SMatrix_Entrainment[DMatrix_Detrainment==0]=0 \n",
    "    SMatrix_Detrainment[DMatrix_Entrainment==0]=0 \n",
    "    \n",
    "    # Initialize time and vertical dimension arrays\n",
    "    Nz = ModelData.Nzh; Ny = ModelData.Nyh; Nx = ModelData.Nxh\n",
    "    \n",
    "    # Initialize result array\n",
    "    Entrainment = np.zeros((Nz, Ny, Nx),dtype=\"int32\")\n",
    "    Detrainment = Entrainment.copy()\n",
    "    TransferEntrainment = Entrainment.copy()\n",
    "    TransferDetrainment = Entrainment.copy()\n",
    "\n",
    "    if t==0:\n",
    "        return Entrainment,Detrainment, TransferEntrainment,TransferDetrainment\n",
    "    else:\n",
    "        # Use np.add.at to accumulate values in the result array\n",
    "        np.add.at(Entrainment, (Z, Y, X), DMatrix_Entrainment)\n",
    "        np.add.at(Detrainment, (Z, Y, X), DMatrix_Detrainment)\n",
    "    \n",
    "        np.add.at(TransferEntrainment, (Z, Y, X), SMatrix_Entrainment)\n",
    "        np.add.at(TransferDetrainment, (Z, Y, X), SMatrix_Detrainment)\n",
    "\n",
    "        return Entrainment,Detrainment, TransferEntrainment,TransferDetrainment"
   ]
  },
  {
   "cell_type": "code",
   "execution_count": 77,
   "id": "aee3786c-0fd3-46d0-aede-dc9f47501148",
   "metadata": {},
   "outputs": [],
   "source": [
    "def RunCalculation(t, Z,Y,X, A_g,A_c, A_g_Prior,A_c_Prior): #*#* \n",
    "\n",
    "    [Entrainment_g, Detrainment_g,\n",
    "     TransferEntrainment_c_to_g,TransferDetrainment_c_to_g] = CalculateEntrainment(t, Z,Y,X, A1=A_c,A2=A_g, A1_Prior=A_c_Prior,A2_Prior=A_g_Prior)\n",
    "\n",
    "    [Entrainment_c, Detrainment_c,\n",
    "     TransferEntrainment_g_to_c,TransferDetrainment_g_to_c] = CalculateEntrainment(t, Z,Y,X, A1=A_g,A2=A_c, A1_Prior=A_g_Prior,A2_Prior=A_c_Prior)\n",
    "\n",
    "    outputDictionary_Entrainment = {\n",
    "        \"Entrainment_g\": Entrainment_g,\n",
    "        \"TransferEntrainment_c_to_g\": TransferEntrainment_c_to_g,\n",
    "        \"Entrainment_c\": Entrainment_c,\n",
    "        \"TransferEntrainment_g_to_c\": TransferEntrainment_g_to_c,\n",
    "        }\n",
    "    \n",
    "    outputDictionary_Detrainment = {\n",
    "        \"Detrainment_g\": Detrainment_g,\n",
    "        \"TransferDetrainment_c_to_g\": TransferDetrainment_c_to_g,\n",
    "        \"Detrainment_c\": Detrainment_c,\n",
    "        \"TransferDetrainment_g_to_c\": TransferDetrainment_g_to_c\n",
    "        }\n",
    "\n",
    "    return outputDictionary_Entrainment, outputDictionary_Detrainment"
   ]
  },
  {
   "cell_type": "code",
   "execution_count": 78,
   "id": "533a5b55-ba1f-49c8-af0b-10fc4f8bd4d7",
   "metadata": {},
   "outputs": [],
   "source": [
    "##############################################\n",
    "#RUNNING\n",
    "PROCESSING=False #set to True if using Turbulence-Removed Binary Arrays\n",
    "# PROCESSING=True"
   ]
  },
  {
   "cell_type": "code",
   "execution_count": 79,
   "id": "e55f2597-b059-4eec-b096-61b74a0a5a72",
   "metadata": {
    "scrolled": true
   },
   "outputs": [
    {
     "name": "stdout",
     "output_type": "stream",
     "text": [
      "Current time 132\n",
      "Saved timestep to output file: /mnt/lustre/koa/koastore/torri_group/air_directory/Projects/DCI-Project/Code/OUTPUT/Variable_Calculation/EntrainmentCalculation/1km_5min_34nz/EntrainmentCalculation/Entrainment_1km_5min_34nz_11-00-00.h5 \n",
      "\n",
      "Saved timestep to output file: /mnt/lustre/koa/koastore/torri_group/air_directory/Projects/DCI-Project/Code/OUTPUT/Variable_Calculation/EntrainmentCalculation/1km_5min_34nz/EntrainmentCalculation/Detrainment_1km_5min_34nz_10-55-00.h5 \n",
      "\n"
     ]
    }
   ],
   "source": [
    "#CALCULATING AND APPENDING TO DATA EACH TIMESTEP\n",
    "for t in num_elements:\n",
    "    if np.mod(t,1)==0: print(f'Current time {t}')\n",
    "\n",
    "    #loading data\n",
    "    [Z,Y,X] = GetSpatialData(t)\n",
    "    [A_g,A_c] = GetAData(t,PROCESSING) \n",
    "    [A_g_Prior,A_c_Prior] = GetAData(t-1,PROCESSING) \n",
    "\n",
    "    #calculating variables\n",
    "    [outputDictionary_Entrainment,outputDictionaryDetrainment] = RunCalculation(t, Z,Y,X, A_g,A_c, A_g_Prior,A_c_Prior)\n",
    "    \n",
    "    #outputting\n",
    "    timeString = ModelData.timeStrings[t]\n",
    "    timeString_Prior = ModelData.timeStrings[t-1]\n",
    "    \n",
    "    DataManager.SaveOutputTimestep(DataManager.outputDataDirectory, timeString, outputDictionary_Entrainment, dataName=\"Entrainment\")\n",
    "    if t!=0:\n",
    "        DataManager.SaveOutputTimestep(DataManager.outputDataDirectory, timeString_Prior, outputDictionaryDetrainment, dataName=\"Detrainment\")"
   ]
  },
  {
   "cell_type": "code",
   "execution_count": 32,
   "id": "ae209910-aefd-4d1c-a1be-8d2df4de8db8",
   "metadata": {},
   "outputs": [],
   "source": [
    "####################################\n",
    "#CALCULATING ENTRAINMENT CONSTANT"
   ]
  },
  {
   "cell_type": "code",
   "execution_count": 92,
   "id": "ead6bf2f-4add-46f2-bb63-b57710e32509",
   "metadata": {},
   "outputs": [],
   "source": [
    "#constants\n",
    "def GetConstants():\n",
    "    Cp=1004 #Jkg-1K-1\n",
    "    Cv=717 #Jkg-1K-1\n",
    "    Rd=Cp-Cv #Jkg-1K-1\n",
    "    eps=0.608\n",
    "    return Cp,Cv,Rd,eps\n",
    "\n",
    "def GetNumerics():\n",
    "    Np=ModelData.Np #number of lagrangian parcles\n",
    "\n",
    "    # Lx=(ModelData.xf[-1]-ModelData.xf[0])*1000 #x length (m)\n",
    "    # Ly=(ModelData.yf[-1]-ModelData.yf[0])*1000 #y length (m)\n",
    "    dt=(ModelData.time[1]-ModelData.time[0]).item()/1e9 #sec\n",
    "    dy=(ModelData.yf[1]-ModelData.yf[0])*1e3 #meters\n",
    "    dx=(ModelData.xf[1]-ModelData.xf[0])*1e3 #meters\n",
    "    \n",
    "    zfs=ModelData.zf*1000\n",
    "    dz = np.diff(zfs)\n",
    "    return Np, dt, dz,dy,dx\n",
    "\n",
    "def zf(k):\n",
    "    out=ModelData.zf[k]*1000\n",
    "    return out\n",
    "\n",
    "#calculation functions\n",
    "# def rho(x,y,z,t):\n",
    "#     p=data['prs'].isel(xh=x,yh=y,zh=z,time=t).item()\n",
    "#     p0=101325 #Pa\n",
    "#     theta=data['th'].isel(xh=x,yh=y,zh=z,time=t).item()\n",
    "#     T=theta*(p/p0)**(Rd/Cp)\n",
    "#     qv=data['qv'].isel(xh=x,yh=y,zh=z,time=t).item()\n",
    "#     # Tv=T*(1+eps*qv)\n",
    "#     Tv=T*(eps+qv)/(eps*(1+qv))\n",
    "#     rho = p/(Rd*Tv)\n",
    "#     out=rho\n",
    "#     return out\n",
    "    \n",
    "def rho(x,y,z,rho_data_t):\n",
    "    out=rho_data_t[z,y,x]\n",
    "    return out\n",
    "    \n",
    "def Calculate_dm(t, dz,dy,dx, Np):\n",
    "    timeString = ModelData.timeStrings[t]\n",
    "    rho_data_t = CallVariable(ModelData, DataManager, timeString, \"rho\")\n",
    "    \n",
    "    #calculating\n",
    "    m=0\n",
    "    for k in range(ModelData.Nzh):\n",
    "        dz=(zf(k+1)-zf(k))\n",
    "        for j in range(ModelData.Nyh):\n",
    "            for i in range(ModelData.Nxh):\n",
    "                rho_out=rho(i,j,k,rho_data_t)\n",
    "                m+=rho_out*dz\n",
    "\n",
    "    #multiplying by integration differentials\n",
    "    dm = m*dx*dy/Np\n",
    "    return dm"
   ]
  },
  {
   "cell_type": "code",
   "execution_count": 93,
   "id": "9b051beb-f2da-48e4-87d2-068c27dfbaa7",
   "metadata": {},
   "outputs": [],
   "source": [
    "def ComputeEntrainmentConstant(t=0):\n",
    "    #constants\n",
    "    [Cp,Cv,Rd,eps] = GetConstants()\n",
    "    [Np, dt, dz,dy,dx] = GetNumerics()\n",
    "\n",
    "    #calculation\n",
    "    dm = Calculate_dm(t, dz,dy,dx, Np)\n",
    "    divisor=dt*dz*dy*dx\n",
    "    entrainmentConstant = dm/divisor\n",
    "\n",
    "    outputDictionary = {\"entrainmentConstant\": entrainmentConstant}\n",
    "    return outputDictionary"
   ]
  },
  {
   "cell_type": "code",
   "execution_count": 107,
   "id": "32a0115b-ce2c-4168-891f-1ec0d927a057",
   "metadata": {},
   "outputs": [
    {
     "name": "stdout",
     "output_type": "stream",
     "text": [
      "[0.05372801 0.03547788 0.02648243 0.02112593 0.01757175 0.01504125\n",
      " 0.01314783 0.01167783 0.01050346 0.0095437  0.00874468 0.00806908\n",
      " 0.00749042 0.00698918 0.00655082 0.0061642  0.00582069 0.00551343\n",
      " 0.00523697 0.00498694 0.00475967 0.00455222 0.00436211 0.00418723\n",
      " 0.00402583 0.00387642 0.0037377  0.00360855 0.00348806 0.00337533\n",
      " 0.00326966 0.00317042 0.00307702 0.00298896]\n",
      "Saved timestep to output file: /mnt/lustre/koa/koastore/torri_group/air_directory/Projects/DCI-Project/Code/OUTPUT/Variable_Calculation/EntrainmentCalculation/1km_5min_34nz/EntrainmentCalculation/EntrainmentConstant_1km_5min_34nz.h5 \n",
      "\n"
     ]
    },
    {
     "data": {
      "image/png": "[encoded data removed]",
      "text/plain": [
       "<Figure size 640x480 with 1 Axes>"
      ]
     },
     "metadata": {},
     "output_type": "display_data"
    }
   ],
   "source": [
    "#calculating\n",
    "outputDictionary_EntrainmentConstant = ComputeEntrainmentConstant()\n",
    "entrainmentConstant = outputDictionary_EntrainmentConstant[\"entrainmentConstant\"]\n",
    "\n",
    "#saving\n",
    "DataManager.Save1DVariable(DataManager.outputDataDirectory, outputDictionary_EntrainmentConstant, dataName=\"EntrainmentConstant\",dtype=\"float32\")\n",
    "\n",
    "#plotting\n",
    "plt.plot(entrainmentConstant,ModelData.zh,color='black')\n",
    "plt.ylabel(\"z (km)\")\n",
    "plt.xlabel(\"Entrainment Constant (kg/m^3/s)\")\n",
    "plt.title(\"Plotting Vertical Profile of Entrainment Constant\\n (due to stretched z-grid)\");"
   ]
  }
 ],
 "metadata": {
  "kernelspec": {
   "display_name": "Python 3 (ipykernel)",
   "language": "python",
   "name": "python3"
  },
  "language_info": {
   "codemirror_mode": {
    "name": "ipython",
    "version": 3
   },
   "file_extension": ".py",
   "mimetype": "text/x-python",
   "name": "python",
   "nbconvert_exporter": "python",
   "pygments_lexer": "ipython3",
   "version": "3.11.8"
  }
 },
 "nbformat": 4,
 "nbformat_minor": 5
}
